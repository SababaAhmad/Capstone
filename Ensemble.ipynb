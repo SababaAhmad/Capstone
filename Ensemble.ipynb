{
  "cells": [
    {
      "cell_type": "markdown",
      "source": [
        "Each type of factor has its own exploratory data analysis (EDA) notebook. This notebook combines all the types of factors into one type of model to explore their collective impact on stock price behavior. This notebook is broken into the following sections: <br>\n",
        "\n",
        "* Imports and installs\n",
        "* Functions\n",
        "* Download and preprocess data\n",
        "* Combine data into one master dataframe\n",
        "* Baseline Random Walk Model\n",
        "* LSTM Model with past prices\n",
        "* Random Forest Model with all features\n",
        "* Random Forest Model with selected features"
      ],
      "metadata": {
        "id": "5htUjtdHKrnk"
      }
    },
    {
      "cell_type": "markdown",
      "metadata": {
        "id": "kxgxddrZQgdb"
      },
      "source": [
        "# Imports and Installs"
      ]
    },
    {
      "cell_type": "code",
      "execution_count": null,
      "metadata": {
        "colab": {
          "base_uri": "https://localhost:8080/"
        },
        "id": "q0gJOfSOwSS0",
        "outputId": "2362fec1-5052-4058-9237-e5d4b76595b1"
      },
      "outputs": [
        {
          "output_type": "stream",
          "name": "stdout",
          "text": [
            "Collecting keras-tuner\n",
            "  Downloading keras_tuner-1.4.7-py3-none-any.whl (129 kB)\n",
            "\u001b[?25l     \u001b[90m━━━━━━━━━━━━━━━━━━━━━━━━━━━━━━━━━━━━━━━━\u001b[0m \u001b[32m0.0/129.1 kB\u001b[0m \u001b[31m?\u001b[0m eta \u001b[36m-:--:--\u001b[0m\r\u001b[2K     \u001b[90m━━━━━━━━━━━━━━━━━━━━━━━━━━━━━━━━━━━━━━━━\u001b[0m \u001b[32m129.1/129.1 kB\u001b[0m \u001b[31m4.1 MB/s\u001b[0m eta \u001b[36m0:00:00\u001b[0m\n",
            "\u001b[?25hRequirement already satisfied: keras in /usr/local/lib/python3.10/dist-packages (from keras-tuner) (2.15.0)\n",
            "Requirement already satisfied: packaging in /usr/local/lib/python3.10/dist-packages (from keras-tuner) (24.0)\n",
            "Requirement already satisfied: requests in /usr/local/lib/python3.10/dist-packages (from keras-tuner) (2.31.0)\n",
            "Collecting kt-legacy (from keras-tuner)\n",
            "  Downloading kt_legacy-1.0.5-py3-none-any.whl (9.6 kB)\n",
            "Requirement already satisfied: charset-normalizer<4,>=2 in /usr/local/lib/python3.10/dist-packages (from requests->keras-tuner) (3.3.2)\n",
            "Requirement already satisfied: idna<4,>=2.5 in /usr/local/lib/python3.10/dist-packages (from requests->keras-tuner) (3.6)\n",
            "Requirement already satisfied: urllib3<3,>=1.21.1 in /usr/local/lib/python3.10/dist-packages (from requests->keras-tuner) (2.0.7)\n",
            "Requirement already satisfied: certifi>=2017.4.17 in /usr/local/lib/python3.10/dist-packages (from requests->keras-tuner) (2024.2.2)\n",
            "Installing collected packages: kt-legacy, keras-tuner\n",
            "Successfully installed keras-tuner-1.4.7 kt-legacy-1.0.5\n"
          ]
        }
      ],
      "source": [
        "!pip install keras-tuner"
      ]
    },
    {
      "cell_type": "code",
      "execution_count": null,
      "metadata": {
        "id": "5gQFZzn1QdGd"
      },
      "outputs": [],
      "source": [
        "# Admin\n",
        "import requests\n",
        "from google.colab import files\n",
        "from datetime import datetime\n",
        "from tqdm import tqdm\n",
        "from tqdm.notebook import tqdm\n",
        "import time\n",
        "\n",
        "import ast\n",
        "import pandas as pd\n",
        "import numpy as np\n",
        "import yfinance as yf\n",
        "from functools import reduce\n",
        "\n",
        "from sklearn.model_selection import TimeSeriesSplit\n",
        "from statsmodels.api import OLS, GLS, add_constant\n",
        "from sklearn.preprocessing import MinMaxScaler\n",
        "from sklearn.metrics import r2_score, make_scorer, mean_squared_error\n",
        "import statsmodels.api as sm\n",
        "from statsmodels.stats.diagnostic import het_breuschpagan\n",
        "from scipy.stats import pearsonr\n",
        "import scipy.stats as stats\n",
        "\n",
        "# LSTM\n",
        "from keras.models import Sequential\n",
        "from tensorflow.keras.optimizers import Adam\n",
        "from keras.layers import LSTM, Dense, Dropout\n",
        "from keras.callbacks import EarlyStopping\n",
        "import math\n",
        "from sklearn.model_selection import train_test_split\n",
        "import kerastuner\n",
        "import tensorflow as tf\n",
        "from tensorflow.keras.preprocessing.sequence import TimeseriesGenerator\n",
        "from keras_tuner.tuners import RandomSearch\n",
        "from kerastuner import HyperModel, RandomSearch\n",
        "from keras_tuner import HyperParameters, Objective\n",
        "import keras_tuner\n",
        "\n",
        "# Sentiment\n",
        "from transformers import AutoTokenizer, AutoModelForSequenceClassification, pipeline\n",
        "import nltk\n",
        "from nltk.tokenize import sent_tokenize\n",
        "from scipy.stats import mannwhitneyu\n",
        "\n",
        "# Random Forest\n",
        "from sklearn.model_selection import cross_val_score\n",
        "from sklearn.ensemble import RandomForestRegressor\n",
        "from sklearn.model_selection import GridSearchCV\n",
        "\n",
        "# Visualizations\n",
        "import plotly.express as px\n",
        "import plotly.graph_objects as go\n",
        "from plotly.subplots import make_subplots"
      ]
    },
    {
      "cell_type": "code",
      "execution_count": null,
      "metadata": {
        "colab": {
          "base_uri": "https://localhost:8080/"
        },
        "id": "hdKCt7OfYECU",
        "outputId": "077c64ad-6ee2-4883-b6a5-9ab4bb58995a"
      },
      "outputs": [
        {
          "output_type": "stream",
          "name": "stderr",
          "text": [
            "[nltk_data] Downloading package punkt to /root/nltk_data...\n",
            "[nltk_data]   Unzipping tokenizers/punkt.zip.\n"
          ]
        },
        {
          "output_type": "execute_result",
          "data": {
            "text/plain": [
              "True"
            ]
          },
          "metadata": {},
          "execution_count": 3
        }
      ],
      "source": [
        "nltk.download('punkt')"
      ]
    },
    {
      "cell_type": "markdown",
      "metadata": {
        "id": "ywxhvYCIRSku"
      },
      "source": [
        "# Functions"
      ]
    },
    {
      "cell_type": "code",
      "execution_count": null,
      "metadata": {
        "id": "B4I7LMvARUE9"
      },
      "outputs": [],
      "source": [
        "def download_stock_prices(ticker_symbol, start):\n",
        "  \"\"\"\n",
        "  Downloads historical adjusted closing prices for a given stock ticker.\n",
        "\n",
        "  Parameters:\n",
        "  - ticker_symbol: The stock ticker symbol as a string.\n",
        "\n",
        "  Returns:\n",
        "  - prices_df: A DataFrame containing the adjusted closing prices.\n",
        "  \"\"\"\n",
        "  start = start\n",
        "  today_date = datetime.now().strftime('%Y-%m-%d')\n",
        "  end = '2024-03-06'\n",
        "\n",
        "  # Download historical data\n",
        "  price_data = yf.download(ticker_symbol, start=start, end=end)\n",
        "\n",
        "  # Extract adjusted closing prices\n",
        "  adj_close_prices = price_data['Adj Close']\n",
        "\n",
        "  # Create a DataFrame with the adjusted closing prices\n",
        "  prices_df = pd.DataFrame(adj_close_prices)\n",
        "\n",
        "  return prices_df"
      ]
    },
    {
      "cell_type": "code",
      "execution_count": null,
      "metadata": {
        "id": "BKh0kxqUnPo7"
      },
      "outputs": [],
      "source": [
        "def interpolate_daily_values(column):\n",
        "  # Create a dataframe\n",
        "  daily_df = pd.DataFrame(columns = ['Adj Close', 'Daily Avg'])\n",
        "\n",
        "  for i in range(len(column)):\n",
        "    # Get the index value of the input column\n",
        "    a = column.index[i]\n",
        "\n",
        "    # Find the index position in the prices dataframe that is closest to the index value in the revenue dataframe\n",
        "    idx_pos = prices.index.searchsorted(a)\n",
        "\n",
        "    # Get the row number of the index value in the prices dataframe\n",
        "    row_index = idx_pos + 1\n",
        "\n",
        "    # Calculate average daily value by dividing the value of the input column by the number of rows (days) in the prices dataframe\n",
        "    average_daily_value = column.iloc[i] / (row_index-len(daily_df))\n",
        "\n",
        "    # Create a smaller dataframe with data for only quarter i that will be concatenated to the daily_df\n",
        "    sub_df = pd.DataFrame(columns=['Adj Close', 'Daily Avg'])\n",
        "    sub_df['Adj Close'] = prices.iloc[len(daily_df):row_index]\n",
        "    sub_df['Daily Avg'] = average_daily_value\n",
        "\n",
        "\n",
        "    daily_df = pd.concat([daily_df, sub_df])\n",
        "\n",
        "  daily_df.drop(columns = ['Adj Close'])\n",
        "\n",
        "  return daily_df"
      ]
    },
    {
      "cell_type": "code",
      "execution_count": null,
      "metadata": {
        "id": "tW6f5nS0YLGI"
      },
      "outputs": [],
      "source": [
        "def download_and_clean_transcripts():\n",
        "  transcripts_df = pd.DataFrame()\n",
        "  year_list = [2020, 2021, 2022, 2023,2024]\n",
        "  api_key = ''\n",
        "\n",
        "  for year in year_list:\n",
        "    url = f'https://financialmodelingprep.com/api/v4/batch_earning_call_transcript/MSFT?year={year}&apikey={api_key}'\n",
        "    data = requests.get(url).json()\n",
        "    if data and isinstance(data, list):\n",
        "      df = pd.DataFrame(data)\n",
        "      transcripts_df = transcripts_df.append(df, ignore_index=True)\n",
        "\n",
        "  transcripts_df = transcripts_df.drop(columns=['symbol', 'quarter', 'year'])\n",
        "  transcripts_df['date'] = pd.to_datetime(transcripts_df['date']).dt.date\n",
        "  transcripts_df['content'] = transcripts_df['content'].str.replace('\\n', '', regex=False)\n",
        "  transcripts_df = transcripts_df.rename(columns={'date': 'Date', 'content': 'Text'})\n",
        "  transcripts_df = transcripts_df.sort_values(by='Date', ascending=True)\n",
        "\n",
        "  return transcripts_df"
      ]
    },
    {
      "cell_type": "code",
      "execution_count": null,
      "metadata": {
        "colab": {
          "base_uri": "https://localhost:8080/",
          "height": 301,
          "referenced_widgets": [
            "5f60850e135a4995b309f5f816f97d2e",
            "36b3be5ac73a494fa149119adcfab0c8",
            "abbce3955f2b4c4cbf5d604bc5b8ea4b",
            "c21611c7e58e438dadbeda5cfb49586d",
            "b21868ca023640808af5513a3479f2df",
            "07fbb6675c58479293d597a8dc0f99fa",
            "c31870b3d7894018911776d79521f474",
            "08f765908cf8417f9ec1d03809127382",
            "b9a5b5d54a7046e89ab67b72a6f5cdd3",
            "bc123ae206544e329f44233d8ca83252",
            "e1df87e4d36e44c9b5ac6bda1e06fb0f",
            "6f2f3a28cbb24c7a81f4028db59402fa",
            "6d46cb89904148f8ae6499a87c56c4ab",
            "9e4e3c83677d487f919c4442566fe89f",
            "bd3d0e8ab47b40c1a799f33fb289539d",
            "40d0a16fbe4844e593f5781c5c4693c2",
            "fe37bce31d5449679f74b5853bb2d40f",
            "d0e2e231567348bcb5e2adf3eefa61c4",
            "aaf5fe271f704213920b8c8b3e401bb2",
            "e2bebe6d03ee4615a87bfd33d2e71f10",
            "807f701149174a8d8213d6bd79b8e03e",
            "fd1e063bc1634520a10d55ed2c6d9400",
            "d1737e5f637045699b2407668ab479dc",
            "a2151327684645bf85e79b410eaeb13e",
            "a86c019151364989935884314c3f7070",
            "0f6ee38672fb479eb23c48b26cf42b94",
            "792738c8b3434596a42cc77fb61812f2",
            "60cad2c06ac443a081ae6c51cff6fb1e",
            "c5a1a1df3cf949fda9236eeb5e0ac6d3",
            "6f068633fd4d4ba2991b4a5228f5e5d3",
            "d0e2bf14c9fa438e9403d2d8f18fd5e4",
            "07490b948eea47b4b26f75e72cecb8e5",
            "536577aeee384ec2ab8204d67843a283",
            "4037ef785c43494a90970f9aa401f756",
            "005427baf4234da9afe620172497b4f6",
            "5c7159105b714e3ba2a44ceedbac7f6f",
            "dc82a884826c4766b8504643fc0f4bb0",
            "5d7e3cebfad0467fa11d9ea58307a187",
            "ed12c9aea0d34313b7d4182d60b1889f",
            "4a9ca04d6803477ebc91a8dec745b554",
            "b57bd3edc4f742bd89fe70d17ca23f88",
            "6b6aeb2f6bd048acaeac3948c99d7899",
            "dfb979eb8bfa4ac0950a75d7622fb44f",
            "37bd1816f20e4871b85cd6da5c3f1794",
            "e903b6dd630248b0841edab3e835a066",
            "86a011942c9444f685d75a5ae09799a9",
            "56e6de412b5247858e14d681bf7a5dac",
            "9093b58252554be082e2d0d7e20fb7e2",
            "37ded676c4d74947a36b17763f377a2a",
            "39970f19eff64c4482b1a20fbe0bb124",
            "1ddf16849a28484e834fde9532ce9bb8",
            "2f57ebd7d681418ab4d7358f3460464a",
            "cbcfdd8a4e494652b0101210436d3bcb",
            "e7a3a8455c914de69c94e2075e81fa9d",
            "f2197ed7007e46c88a18f579353e9374"
          ]
        },
        "id": "HtNcFn8nYR51",
        "outputId": "a983deff-94ed-434a-b2b3-06a6ed5299f4"
      },
      "outputs": [
        {
          "output_type": "stream",
          "name": "stderr",
          "text": [
            "/usr/local/lib/python3.10/dist-packages/huggingface_hub/utils/_token.py:88: UserWarning: \n",
            "The secret `HF_TOKEN` does not exist in your Colab secrets.\n",
            "To authenticate with the Hugging Face Hub, create a token in your settings tab (https://huggingface.co/settings/tokens), set it as secret in your Google Colab and restart your session.\n",
            "You will be able to reuse this secret in all of your notebooks.\n",
            "Please note that authentication is recommended but still optional to access public models or datasets.\n",
            "  warnings.warn(\n"
          ]
        },
        {
          "output_type": "display_data",
          "data": {
            "text/plain": [
              "tokenizer_config.json:   0%|          | 0.00/252 [00:00<?, ?B/s]"
            ],
            "application/vnd.jupyter.widget-view+json": {
              "version_major": 2,
              "version_minor": 0,
              "model_id": "5f60850e135a4995b309f5f816f97d2e"
            }
          },
          "metadata": {}
        },
        {
          "output_type": "display_data",
          "data": {
            "text/plain": [
              "config.json:   0%|          | 0.00/758 [00:00<?, ?B/s]"
            ],
            "application/vnd.jupyter.widget-view+json": {
              "version_major": 2,
              "version_minor": 0,
              "model_id": "6f2f3a28cbb24c7a81f4028db59402fa"
            }
          },
          "metadata": {}
        },
        {
          "output_type": "display_data",
          "data": {
            "text/plain": [
              "vocab.txt:   0%|          | 0.00/232k [00:00<?, ?B/s]"
            ],
            "application/vnd.jupyter.widget-view+json": {
              "version_major": 2,
              "version_minor": 0,
              "model_id": "d1737e5f637045699b2407668ab479dc"
            }
          },
          "metadata": {}
        },
        {
          "output_type": "display_data",
          "data": {
            "text/plain": [
              "special_tokens_map.json:   0%|          | 0.00/112 [00:00<?, ?B/s]"
            ],
            "application/vnd.jupyter.widget-view+json": {
              "version_major": 2,
              "version_minor": 0,
              "model_id": "4037ef785c43494a90970f9aa401f756"
            }
          },
          "metadata": {}
        },
        {
          "output_type": "display_data",
          "data": {
            "text/plain": [
              "pytorch_model.bin:   0%|          | 0.00/438M [00:00<?, ?B/s]"
            ],
            "application/vnd.jupyter.widget-view+json": {
              "version_major": 2,
              "version_minor": 0,
              "model_id": "e903b6dd630248b0841edab3e835a066"
            }
          },
          "metadata": {}
        }
      ],
      "source": [
        "# Download the finBERT model,\n",
        "# This will output a sentiment label and score for a dataframe with 'Date' and 'Text' columns\n",
        "\n",
        "# Initialize the tokenizer and model for ProsusAI/finBERT\n",
        "tokenizer = AutoTokenizer.from_pretrained('ProsusAI/finBERT')\n",
        "model = AutoModelForSequenceClassification.from_pretrained('ProsusAI/finBERT')\n",
        "\n",
        "# Create a sentiment analysis pipeline using the finBERT model\n",
        "finbert_sentiment = pipeline(\"sentiment-analysis\", model=model, tokenizer=tokenizer)\n",
        "\n",
        "# Define a function to apply sentiment analysis to each row\n",
        "def get_sentiment(row):\n",
        "\n",
        "    results = finbert_sentiment(row['Text'], truncation=True, max_length=512)\n",
        "\n",
        "    return pd.Series([row['Text'], results[0]['label'], results[0]['score']])"
      ]
    },
    {
      "cell_type": "code",
      "execution_count": null,
      "metadata": {
        "id": "EG1OA3Y6Ykxb"
      },
      "outputs": [],
      "source": [
        "def calculate_sentiment_scores(transcripts_df):\n",
        "\n",
        "  ticker_avg_sentiment = []\n",
        "\n",
        "  for i in tqdm(range(len(transcripts_df))):\n",
        "    transcript = transcripts_df['Text'].iloc[i]\n",
        "    sentences = sent_tokenize(transcript)\n",
        "\n",
        "    # skip calls that have less than 4 tokens\n",
        "    if len(sentences) < 4:\n",
        "      continue\n",
        "\n",
        "    # Trim first two and last 2 items from sentence list\n",
        "    sentences = sentences[2:-2]\n",
        "    # Create a dataframe to calculate the score for each item in the sentence list.\n",
        "    sentences_df = pd.DataFrame(sentences, columns=['Text'])\n",
        "    sentiment_results = sentences_df.apply(get_sentiment, axis=1)\n",
        "    sentiment_results.columns = ['Sentence', 'Label', 'Score']\n",
        "    # Remove neutral scores\n",
        "    sentiment_results = sentiment_results[sentiment_results['Label'] != 'neutral']\n",
        "    # Remove sentences with low sentiment\n",
        "    rows_to_drop = int(len(sentiment_results) * 0.3)\n",
        "    sentiment_results = sentiment_results.sort_values(by = 'Score', ascending = True).iloc[rows_to_drop:]\n",
        "    # Convert negative sentiment scores\n",
        "    sentiment_results['Score'] = sentiment_results.apply(lambda row: -row['Score'] if row['Label'] == 'negative' else row['Score'], axis=1)\n",
        "    # Calculate average sentiment score for the call\n",
        "    avg_sentiment = sum(sentiment_results['Score'])/len(sentiment_results)\n",
        "    ticker_avg_sentiment.append(avg_sentiment)\n",
        "\n",
        "  transcripts_df['Sentiment'] = ticker_avg_sentiment\n",
        "\n",
        "  return transcripts_df"
      ]
    },
    {
      "cell_type": "code",
      "source": [
        "def mean_return_over_n_days(df, N):\n",
        "  \"\"\"\n",
        "  Calculates the price returns over the previous N days for the 'Adj Close' column in a DataFrame.\n",
        "\n",
        "  Parameters:\n",
        "  - df: A pandas DataFrame containing the 'Adj Close' column with prices.\n",
        "  - N: The number of days over which to calculate the returns.\n",
        "\n",
        "  Returns:\n",
        "  - The mean value of the 'Return Over N Days' column.\n",
        "  \"\"\"\n",
        "  # Calculate the percentage change over the previous N days and store it in a new column\n",
        "  df['Return Over N Days'] = df['Adj Close'].pct_change(periods=N)\n",
        "\n",
        "  # Calculate the mean value of the 'Return Over N Days' column\n",
        "  mean_return_over_n_days = round(df['Return Over N Days'].mean(),4)\n",
        "\n",
        "  return mean_return_over_n_days"
      ],
      "metadata": {
        "id": "-8ow-HFWimWf"
      },
      "execution_count": null,
      "outputs": []
    },
    {
      "cell_type": "code",
      "source": [
        "def shifted_returns_df(df, N):\n",
        "  \"\"\"\n",
        "  Creates a new DataFrame with price returns over N days and shifted returns.\n",
        "\n",
        "  Parameters:\n",
        "  - df: A pandas DataFrame containing an 'Adj Close' column with prices.\n",
        "  - N: The number of days over which to calculate the returns.\n",
        "\n",
        "  Returns:\n",
        "  - A new DataFrame 'shifted_returns' with columns 'Adj Close', 'Return Over N Days',\n",
        "    and 'Shifted Return Over N Days'.\n",
        "  \"\"\"\n",
        "  # Initialize the new DataFrame\n",
        "  shifted_returns = pd.DataFrame()\n",
        "  shifted_returns['Adj Close'] = df['Adj Close']\n",
        "\n",
        "  # Calculate the percentage change over the previous N days for 'Return Over N Days'\n",
        "  shifted_returns['Return Over N Days'] = df['Adj Close'].pct_change(periods=N)\n",
        "\n",
        "  # Shift the 'Return Over N Days' by N days to create 'Shifted Return Over N Days'\n",
        "  shifted_returns['Shifted Return Over N Days'] = shifted_returns['Return Over N Days'].shift(-N)\n",
        "\n",
        "  return shifted_returns"
      ],
      "metadata": {
        "id": "btlq9IB6i3XF"
      },
      "execution_count": null,
      "outputs": []
    },
    {
      "cell_type": "code",
      "execution_count": null,
      "metadata": {
        "id": "Gix4wkD8vqhv"
      },
      "outputs": [],
      "source": [
        "class LSTMHyperModel(HyperModel):\n",
        "  def __init__(self, input_shape):\n",
        "    self.input_shape = input_shape\n",
        "\n",
        "  def build(self, hp):\n",
        "    model = Sequential()\n",
        "    num_lstm_layers = hp.Int('num_lstm_layers', min_value=1, max_value=6, step=1)\n",
        "\n",
        "    for i in range(num_lstm_layers):\n",
        "      if i == 0:\n",
        "        # First layer needs to specify input shape\n",
        "        model.add(LSTM(units=hp.Int(f'lstm_units_{i}', min_value=32, max_value=512, step=32),\n",
        "                      input_shape=self.input_shape,\n",
        "                      return_sequences=(i != num_lstm_layers - 1)))\n",
        "      else:\n",
        "        # Subsequent layers\n",
        "        model.add(LSTM(units=hp.Int(f'lstm_units_{i}', min_value=32, max_value=512, step=32),\n",
        "                      return_sequences=(i != num_lstm_layers - 1)))\n",
        "\n",
        "      model.add(Dropout(rate=hp.Float(f'dropout_{i}', min_value=0.0, max_value=0.5, step=0.05)))\n",
        "\n",
        "    model.add(Dense(1, activation='linear'))\n",
        "    model.compile(optimizer='adam', loss='mean_squared_error', metrics=['mse'])\n",
        "    return model"
      ]
    },
    {
      "cell_type": "code",
      "execution_count": null,
      "metadata": {
        "id": "E-asrenhwYtT"
      },
      "outputs": [],
      "source": [
        "def lstm_model_with_tuning(df, target_column, feature_columns):\n",
        "  if isinstance(feature_columns, str):\n",
        "    feature_columns = [feature_columns]\n",
        "\n",
        "  X = df[feature_columns].values\n",
        "  y = df[target_column].values.reshape(-1, 1)\n",
        "  num_features = len(feature_columns)\n",
        "  input_shape = (1, num_features)\n",
        "\n",
        "  tscv = TimeSeriesSplit(n_splits=4)\n",
        "  rmse_scores = []\n",
        "\n",
        "  for train_index, test_index in tscv.split(X):\n",
        "    X_train, X_test = X[train_index], X[test_index]\n",
        "    y_train, y_test = y[train_index], y[test_index]\n",
        "\n",
        "    scaler_X = MinMaxScaler()\n",
        "    scaler_y = MinMaxScaler()\n",
        "    X_train_scaled = scaler_X.fit_transform(X_train).reshape(-1, 1, num_features)\n",
        "    X_test_scaled = scaler_X.transform(X_test).reshape(-1, 1, num_features)\n",
        "    y_train_scaled = scaler_y.fit_transform(y_train)\n",
        "    y_test_scaled = scaler_y.transform(y_test)\n",
        "\n",
        "    model_builder = LSTMHyperModel(input_shape=input_shape)\n",
        "    tuner = RandomSearch(model_builder,\n",
        "                          objective='mse',\n",
        "                          max_trials=15,\n",
        "                          executions_per_trial=1,\n",
        "                          directory='my_dir',\n",
        "                          project_name='my_project')\n",
        "\n",
        "    tuner.search(X_train_scaled, y_train_scaled, epochs=10, batch_size=64, validation_data=(X_test_scaled, y_test_scaled))\n",
        "    best_model = tuner.get_best_models(num_models=1)[0]\n",
        "\n",
        "    predictions_scaled = best_model.predict(X_test_scaled)\n",
        "    predictions = scaler_y.inverse_transform(predictions_scaled)\n",
        "    rmse = math.sqrt(mean_squared_error(y_test, predictions))\n",
        "    rmse_scores.append(rmse)\n",
        "\n",
        "  # Forecasting\n",
        "  forecasts = []\n",
        "  for i in range(1, 3):\n",
        "    last_input = df[feature_columns].values[-i].reshape(1, -1)\n",
        "    last_input_scaled = scaler_X.transform(last_input).reshape(-1, 1, num_features)\n",
        "    forecast_scaled = best_model.predict(last_input_scaled)\n",
        "    forecast = scaler_y.inverse_transform(forecast_scaled)\n",
        "    forecasts.append(forecast[0][0])\n",
        "\n",
        "  results_df = pd.DataFrame({\n",
        "      'Average RMSE': [np.mean(rmse_scores)],\n",
        "      'Forecast March 5, 2024': forecasts[1],\n",
        "      'Forecast March 6, 2024': forecasts[0]\n",
        "  })\n",
        "\n",
        "  return results_df"
      ]
    },
    {
      "cell_type": "markdown",
      "metadata": {
        "id": "QXYGeVTNRYtt"
      },
      "source": [
        "# Download Data"
      ]
    },
    {
      "cell_type": "markdown",
      "metadata": {
        "id": "BKMlst4elYnS"
      },
      "source": [
        "## Stock Price Data"
      ]
    },
    {
      "cell_type": "markdown",
      "metadata": {
        "id": "7DB6IBKJmohc"
      },
      "source": [
        "Data obtained from Yahoo! Finance using yfinance package"
      ]
    },
    {
      "cell_type": "code",
      "execution_count": null,
      "metadata": {
        "colab": {
          "base_uri": "https://localhost:8080/",
          "height": 255
        },
        "id": "SXfJlJzkRaqS",
        "outputId": "eba14e39-d692-4a86-ff4a-48be809f58d5"
      },
      "outputs": [
        {
          "output_type": "stream",
          "name": "stderr",
          "text": [
            "\r[*********************100%%**********************]  1 of 1 completed\n"
          ]
        },
        {
          "output_type": "execute_result",
          "data": {
            "text/plain": [
              "             Adj Close\n",
              "Date                  \n",
              "2020-01-02  154.493851\n",
              "2020-01-03  152.570129\n",
              "2020-01-06  152.964462\n",
              "2020-01-07  151.569794\n",
              "2020-01-08  153.984055"
            ],
            "text/html": [
              "\n",
              "  <div id=\"df-4c25e508-64de-4db4-a8cb-bec3841a9235\" class=\"colab-df-container\">\n",
              "    <div>\n",
              "<style scoped>\n",
              "    .dataframe tbody tr th:only-of-type {\n",
              "        vertical-align: middle;\n",
              "    }\n",
              "\n",
              "    .dataframe tbody tr th {\n",
              "        vertical-align: top;\n",
              "    }\n",
              "\n",
              "    .dataframe thead th {\n",
              "        text-align: right;\n",
              "    }\n",
              "</style>\n",
              "<table border=\"1\" class=\"dataframe\">\n",
              "  <thead>\n",
              "    <tr style=\"text-align: right;\">\n",
              "      <th></th>\n",
              "      <th>Adj Close</th>\n",
              "    </tr>\n",
              "    <tr>\n",
              "      <th>Date</th>\n",
              "      <th></th>\n",
              "    </tr>\n",
              "  </thead>\n",
              "  <tbody>\n",
              "    <tr>\n",
              "      <th>2020-01-02</th>\n",
              "      <td>154.493851</td>\n",
              "    </tr>\n",
              "    <tr>\n",
              "      <th>2020-01-03</th>\n",
              "      <td>152.570129</td>\n",
              "    </tr>\n",
              "    <tr>\n",
              "      <th>2020-01-06</th>\n",
              "      <td>152.964462</td>\n",
              "    </tr>\n",
              "    <tr>\n",
              "      <th>2020-01-07</th>\n",
              "      <td>151.569794</td>\n",
              "    </tr>\n",
              "    <tr>\n",
              "      <th>2020-01-08</th>\n",
              "      <td>153.984055</td>\n",
              "    </tr>\n",
              "  </tbody>\n",
              "</table>\n",
              "</div>\n",
              "    <div class=\"colab-df-buttons\">\n",
              "\n",
              "  <div class=\"colab-df-container\">\n",
              "    <button class=\"colab-df-convert\" onclick=\"convertToInteractive('df-4c25e508-64de-4db4-a8cb-bec3841a9235')\"\n",
              "            title=\"Convert this dataframe to an interactive table.\"\n",
              "            style=\"display:none;\">\n",
              "\n",
              "  <svg xmlns=\"http://www.w3.org/2000/svg\" height=\"24px\" viewBox=\"0 -960 960 960\">\n",
              "    <path d=\"M120-120v-720h720v720H120Zm60-500h600v-160H180v160Zm220 220h160v-160H400v160Zm0 220h160v-160H400v160ZM180-400h160v-160H180v160Zm440 0h160v-160H620v160ZM180-180h160v-160H180v160Zm440 0h160v-160H620v160Z\"/>\n",
              "  </svg>\n",
              "    </button>\n",
              "\n",
              "  <style>\n",
              "    .colab-df-container {\n",
              "      display:flex;\n",
              "      gap: 12px;\n",
              "    }\n",
              "\n",
              "    .colab-df-convert {\n",
              "      background-color: #E8F0FE;\n",
              "      border: none;\n",
              "      border-radius: 50%;\n",
              "      cursor: pointer;\n",
              "      display: none;\n",
              "      fill: #1967D2;\n",
              "      height: 32px;\n",
              "      padding: 0 0 0 0;\n",
              "      width: 32px;\n",
              "    }\n",
              "\n",
              "    .colab-df-convert:hover {\n",
              "      background-color: #E2EBFA;\n",
              "      box-shadow: 0px 1px 2px rgba(60, 64, 67, 0.3), 0px 1px 3px 1px rgba(60, 64, 67, 0.15);\n",
              "      fill: #174EA6;\n",
              "    }\n",
              "\n",
              "    .colab-df-buttons div {\n",
              "      margin-bottom: 4px;\n",
              "    }\n",
              "\n",
              "    [theme=dark] .colab-df-convert {\n",
              "      background-color: #3B4455;\n",
              "      fill: #D2E3FC;\n",
              "    }\n",
              "\n",
              "    [theme=dark] .colab-df-convert:hover {\n",
              "      background-color: #434B5C;\n",
              "      box-shadow: 0px 1px 3px 1px rgba(0, 0, 0, 0.15);\n",
              "      filter: drop-shadow(0px 1px 2px rgba(0, 0, 0, 0.3));\n",
              "      fill: #FFFFFF;\n",
              "    }\n",
              "  </style>\n",
              "\n",
              "    <script>\n",
              "      const buttonEl =\n",
              "        document.querySelector('#df-4c25e508-64de-4db4-a8cb-bec3841a9235 button.colab-df-convert');\n",
              "      buttonEl.style.display =\n",
              "        google.colab.kernel.accessAllowed ? 'block' : 'none';\n",
              "\n",
              "      async function convertToInteractive(key) {\n",
              "        const element = document.querySelector('#df-4c25e508-64de-4db4-a8cb-bec3841a9235');\n",
              "        const dataTable =\n",
              "          await google.colab.kernel.invokeFunction('convertToInteractive',\n",
              "                                                    [key], {});\n",
              "        if (!dataTable) return;\n",
              "\n",
              "        const docLinkHtml = 'Like what you see? Visit the ' +\n",
              "          '<a target=\"_blank\" href=https://colab.research.google.com/notebooks/data_table.ipynb>data table notebook</a>'\n",
              "          + ' to learn more about interactive tables.';\n",
              "        element.innerHTML = '';\n",
              "        dataTable['output_type'] = 'display_data';\n",
              "        await google.colab.output.renderOutput(dataTable, element);\n",
              "        const docLink = document.createElement('div');\n",
              "        docLink.innerHTML = docLinkHtml;\n",
              "        element.appendChild(docLink);\n",
              "      }\n",
              "    </script>\n",
              "  </div>\n",
              "\n",
              "\n",
              "<div id=\"df-5e33f1e0-3d03-4097-b4a1-e247ee9c7cc4\">\n",
              "  <button class=\"colab-df-quickchart\" onclick=\"quickchart('df-5e33f1e0-3d03-4097-b4a1-e247ee9c7cc4')\"\n",
              "            title=\"Suggest charts\"\n",
              "            style=\"display:none;\">\n",
              "\n",
              "<svg xmlns=\"http://www.w3.org/2000/svg\" height=\"24px\"viewBox=\"0 0 24 24\"\n",
              "     width=\"24px\">\n",
              "    <g>\n",
              "        <path d=\"M19 3H5c-1.1 0-2 .9-2 2v14c0 1.1.9 2 2 2h14c1.1 0 2-.9 2-2V5c0-1.1-.9-2-2-2zM9 17H7v-7h2v7zm4 0h-2V7h2v10zm4 0h-2v-4h2v4z\"/>\n",
              "    </g>\n",
              "</svg>\n",
              "  </button>\n",
              "\n",
              "<style>\n",
              "  .colab-df-quickchart {\n",
              "      --bg-color: #E8F0FE;\n",
              "      --fill-color: #1967D2;\n",
              "      --hover-bg-color: #E2EBFA;\n",
              "      --hover-fill-color: #174EA6;\n",
              "      --disabled-fill-color: #AAA;\n",
              "      --disabled-bg-color: #DDD;\n",
              "  }\n",
              "\n",
              "  [theme=dark] .colab-df-quickchart {\n",
              "      --bg-color: #3B4455;\n",
              "      --fill-color: #D2E3FC;\n",
              "      --hover-bg-color: #434B5C;\n",
              "      --hover-fill-color: #FFFFFF;\n",
              "      --disabled-bg-color: #3B4455;\n",
              "      --disabled-fill-color: #666;\n",
              "  }\n",
              "\n",
              "  .colab-df-quickchart {\n",
              "    background-color: var(--bg-color);\n",
              "    border: none;\n",
              "    border-radius: 50%;\n",
              "    cursor: pointer;\n",
              "    display: none;\n",
              "    fill: var(--fill-color);\n",
              "    height: 32px;\n",
              "    padding: 0;\n",
              "    width: 32px;\n",
              "  }\n",
              "\n",
              "  .colab-df-quickchart:hover {\n",
              "    background-color: var(--hover-bg-color);\n",
              "    box-shadow: 0 1px 2px rgba(60, 64, 67, 0.3), 0 1px 3px 1px rgba(60, 64, 67, 0.15);\n",
              "    fill: var(--button-hover-fill-color);\n",
              "  }\n",
              "\n",
              "  .colab-df-quickchart-complete:disabled,\n",
              "  .colab-df-quickchart-complete:disabled:hover {\n",
              "    background-color: var(--disabled-bg-color);\n",
              "    fill: var(--disabled-fill-color);\n",
              "    box-shadow: none;\n",
              "  }\n",
              "\n",
              "  .colab-df-spinner {\n",
              "    border: 2px solid var(--fill-color);\n",
              "    border-color: transparent;\n",
              "    border-bottom-color: var(--fill-color);\n",
              "    animation:\n",
              "      spin 1s steps(1) infinite;\n",
              "  }\n",
              "\n",
              "  @keyframes spin {\n",
              "    0% {\n",
              "      border-color: transparent;\n",
              "      border-bottom-color: var(--fill-color);\n",
              "      border-left-color: var(--fill-color);\n",
              "    }\n",
              "    20% {\n",
              "      border-color: transparent;\n",
              "      border-left-color: var(--fill-color);\n",
              "      border-top-color: var(--fill-color);\n",
              "    }\n",
              "    30% {\n",
              "      border-color: transparent;\n",
              "      border-left-color: var(--fill-color);\n",
              "      border-top-color: var(--fill-color);\n",
              "      border-right-color: var(--fill-color);\n",
              "    }\n",
              "    40% {\n",
              "      border-color: transparent;\n",
              "      border-right-color: var(--fill-color);\n",
              "      border-top-color: var(--fill-color);\n",
              "    }\n",
              "    60% {\n",
              "      border-color: transparent;\n",
              "      border-right-color: var(--fill-color);\n",
              "    }\n",
              "    80% {\n",
              "      border-color: transparent;\n",
              "      border-right-color: var(--fill-color);\n",
              "      border-bottom-color: var(--fill-color);\n",
              "    }\n",
              "    90% {\n",
              "      border-color: transparent;\n",
              "      border-bottom-color: var(--fill-color);\n",
              "    }\n",
              "  }\n",
              "</style>\n",
              "\n",
              "  <script>\n",
              "    async function quickchart(key) {\n",
              "      const quickchartButtonEl =\n",
              "        document.querySelector('#' + key + ' button');\n",
              "      quickchartButtonEl.disabled = true;  // To prevent multiple clicks.\n",
              "      quickchartButtonEl.classList.add('colab-df-spinner');\n",
              "      try {\n",
              "        const charts = await google.colab.kernel.invokeFunction(\n",
              "            'suggestCharts', [key], {});\n",
              "      } catch (error) {\n",
              "        console.error('Error during call to suggestCharts:', error);\n",
              "      }\n",
              "      quickchartButtonEl.classList.remove('colab-df-spinner');\n",
              "      quickchartButtonEl.classList.add('colab-df-quickchart-complete');\n",
              "    }\n",
              "    (() => {\n",
              "      let quickchartButtonEl =\n",
              "        document.querySelector('#df-5e33f1e0-3d03-4097-b4a1-e247ee9c7cc4 button');\n",
              "      quickchartButtonEl.style.display =\n",
              "        google.colab.kernel.accessAllowed ? 'block' : 'none';\n",
              "    })();\n",
              "  </script>\n",
              "</div>\n",
              "\n",
              "    </div>\n",
              "  </div>\n"
            ],
            "application/vnd.google.colaboratory.intrinsic+json": {
              "type": "dataframe",
              "variable_name": "msft_df",
              "summary": "{\n  \"name\": \"msft_df\",\n  \"rows\": 1050,\n  \"fields\": [\n    {\n      \"column\": \"Date\",\n      \"properties\": {\n        \"dtype\": \"date\",\n        \"min\": \"2020-01-02 00:00:00\",\n        \"max\": \"2024-03-05 00:00:00\",\n        \"num_unique_values\": 1050,\n        \"samples\": [\n          \"2021-05-26 00:00:00\",\n          \"2022-09-27 00:00:00\",\n          \"2021-12-03 00:00:00\"\n        ],\n        \"semantic_type\": \"\",\n        \"description\": \"\"\n      }\n    },\n    {\n      \"column\": \"Adj Close\",\n      \"properties\": {\n        \"dtype\": \"number\",\n        \"std\": 61.45847091871536,\n        \"min\": 130.6107635498047,\n        \"max\": 419.7737121582031,\n        \"num_unique_values\": 1043,\n        \"samples\": [\n          410.3399963378906,\n          236.88829040527344,\n          282.8116455078125\n        ],\n        \"semantic_type\": \"\",\n        \"description\": \"\"\n      }\n    }\n  ]\n}"
            }
          },
          "metadata": {},
          "execution_count": 13
        }
      ],
      "source": [
        "msft_df = download_stock_prices('MSFT', '2020-01-01')\n",
        "msft_df.head()"
      ]
    },
    {
      "cell_type": "code",
      "source": [
        "fig = px.line(msft_df, y='Adj Close', title='MSFT Adjusted Close Price')\n",
        "\n",
        "fig.update_xaxes(title_text='Date')\n",
        "fig.update_yaxes(title_text='Adjusted Close Price')\n",
        "fig.update_traces(line=dict(color=\"#00274C\"))\n",
        "\n",
        "fig.show()"
      ],
      "metadata": {
        "colab": {
          "base_uri": "https://localhost:8080/",
          "height": 542
        },
        "id": "DUGYKfp5syqS",
        "outputId": "156fdda1-7061-44fd-e1dc-a612890a7848"
      },
      "execution_count": null,
      "outputs": [
        {
          "output_type": "display_data",
          "data": {
            "text/html": [
              "<html>\n",
              "<head><meta charset=\"utf-8\" /></head>\n",
              "<body>\n",
              "    <div>            <script src=\"https://cdnjs.cloudflare.com/ajax/libs/mathjax/2.7.5/MathJax.js?config=TeX-AMS-MML_SVG\"></script><script type=\"text/javascript\">if (window.MathJax && window.MathJax.Hub && window.MathJax.Hub.Config) {window.MathJax.Hub.Config({SVG: {font: \"STIX-Web\"}});}</script>                <script type=\"text/javascript\">window.PlotlyConfig = {MathJaxConfig: 'local'};</script>\n",
              "        <script charset=\"utf-8\" src=\"https://cdn.plot.ly/plotly-2.24.1.min.js\"></script>                <div id=\"c6a1de94-f45a-4924-a572-e124fe7767c9\" class=\"plotly-graph-div\" style=\"height:525px; width:100%;\"></div>            <script type=\"text/javascript\">                                    window.PLOTLYENV=window.PLOTLYENV || {};                                    if (document.getElementById(\"c6a1de94-f45a-4924-a572-e124fe7767c9\")) {                    Plotly.newPlot(                        \"c6a1de94-f45a-4924-a572-e124fe7767c9\",                        [{\"hovertemplate\":\"Date=%{x}\\u003cbr\\u003eAdj Close=%{y}\\u003cextra\\u003e\\u003c\\u002fextra\\u003e\",\"legendgroup\":\"\",\"line\":{\"color\":\"#00274C\",\"dash\":\"solid\"},\"marker\":{\"symbol\":\"circle\"},\"mode\":\"lines\",\"name\":\"\",\"showlegend\":false,\"x\":[\"2020-01-02T00:00:00\",\"2020-01-03T00:00:00\",\"2020-01-06T00:00:00\",\"2020-01-07T00:00:00\",\"2020-01-08T00:00:00\",\"2020-01-09T00:00:00\",\"2020-01-10T00:00:00\",\"2020-01-13T00:00:00\",\"2020-01-14T00:00:00\",\"2020-01-15T00:00:00\",\"2020-01-16T00:00:00\",\"2020-01-17T00:00:00\",\"2020-01-21T00:00:00\",\"2020-01-22T00:00:00\",\"2020-01-23T00:00:00\",\"2020-01-24T00:00:00\",\"2020-01-27T00:00:00\",\"2020-01-28T00:00:00\",\"2020-01-29T00:00:00\",\"2020-01-30T00:00:00\",\"2020-01-31T00:00:00\",\"2020-02-03T00:00:00\",\"2020-02-04T00:00:00\",\"2020-02-05T00:00:00\",\"2020-02-06T00:00:00\",\"2020-02-07T00:00:00\",\"2020-02-10T00:00:00\",\"2020-02-11T00:00:00\",\"2020-02-12T00:00:00\",\"2020-02-13T00:00:00\",\"2020-02-14T00:00:00\",\"2020-02-18T00:00:00\",\"2020-02-19T00:00:00\",\"2020-02-20T00:00:00\",\"2020-02-21T00:00:00\",\"2020-02-24T00:00:00\",\"2020-02-25T00:00:00\",\"2020-02-26T00:00:00\",\"2020-02-27T00:00:00\",\"2020-02-28T00:00:00\",\"2020-03-02T00:00:00\",\"2020-03-03T00:00:00\",\"2020-03-04T00:00:00\",\"2020-03-05T00:00:00\",\"2020-03-06T00:00:00\",\"2020-03-09T00:00:00\",\"2020-03-10T00:00:00\",\"2020-03-11T00:00:00\",\"2020-03-12T00:00:00\",\"2020-03-13T00:00:00\",\"2020-03-16T00:00:00\",\"2020-03-17T00:00:00\",\"2020-03-18T00:00:00\",\"2020-03-19T00:00:00\",\"2020-03-20T00:00:00\",\"2020-03-23T00:00:00\",\"2020-03-24T00:00:00\",\"2020-03-25T00:00:00\",\"2020-03-26T00:00:00\",\"2020-03-27T00:00:00\",\"2020-03-30T00:00:00\",\"2020-03-31T00:00:00\",\"2020-04-01T00:00:00\",\"2020-04-02T00:00:00\",\"2020-04-03T00:00:00\",\"2020-04-06T00:00:00\",\"2020-04-07T00:00:00\",\"2020-04-08T00:00:00\",\"2020-04-09T00:00:00\",\"2020-04-13T00:00:00\",\"2020-04-14T00:00:00\",\"2020-04-15T00:00:00\",\"2020-04-16T00:00:00\",\"2020-04-17T00:00:00\",\"2020-04-20T00:00:00\",\"2020-04-21T00:00:00\",\"2020-04-22T00:00:00\",\"2020-04-23T00:00:00\",\"2020-04-24T00:00:00\",\"2020-04-27T00:00:00\",\"2020-04-28T00:00:00\",\"2020-04-29T00:00:00\",\"2020-04-30T00:00:00\",\"2020-05-01T00:00:00\",\"2020-05-04T00:00:00\",\"2020-05-05T00:00:00\",\"2020-05-06T00:00:00\",\"2020-05-07T00:00:00\",\"2020-05-08T00:00:00\",\"2020-05-11T00:00:00\",\"2020-05-12T00:00:00\",\"2020-05-13T00:00:00\",\"2020-05-14T00:00:00\",\"2020-05-15T00:00:00\",\"2020-05-18T00:00:00\",\"2020-05-19T00:00:00\",\"2020-05-20T00:00:00\",\"2020-05-21T00:00:00\",\"2020-05-22T00:00:00\",\"2020-05-26T00:00:00\",\"2020-05-27T00:00:00\",\"2020-05-28T00:00:00\",\"2020-05-29T00:00:00\",\"2020-06-01T00:00:00\",\"2020-06-02T00:00:00\",\"2020-06-03T00:00:00\",\"2020-06-04T00:00:00\",\"2020-06-05T00:00:00\",\"2020-06-08T00:00:00\",\"2020-06-09T00:00:00\",\"2020-06-10T00:00:00\",\"2020-06-11T00:00:00\",\"2020-06-12T00:00:00\",\"2020-06-15T00:00:00\",\"2020-06-16T00:00:00\",\"2020-06-17T00:00:00\",\"2020-06-18T00:00:00\",\"2020-06-19T00:00:00\",\"2020-06-22T00:00:00\",\"2020-06-23T00:00:00\",\"2020-06-24T00:00:00\",\"2020-06-25T00:00:00\",\"2020-06-26T00:00:00\",\"2020-06-29T00:00:00\",\"2020-06-30T00:00:00\",\"2020-07-01T00:00:00\",\"2020-07-02T00:00:00\",\"2020-07-06T00:00:00\",\"2020-07-07T00:00:00\",\"2020-07-08T00:00:00\",\"2020-07-09T00:00:00\",\"2020-07-10T00:00:00\",\"2020-07-13T00:00:00\",\"2020-07-14T00:00:00\",\"2020-07-15T00:00:00\",\"2020-07-16T00:00:00\",\"2020-07-17T00:00:00\",\"2020-07-20T00:00:00\",\"2020-07-21T00:00:00\",\"2020-07-22T00:00:00\",\"2020-07-23T00:00:00\",\"2020-07-24T00:00:00\",\"2020-07-27T00:00:00\",\"2020-07-28T00:00:00\",\"2020-07-29T00:00:00\",\"2020-07-30T00:00:00\",\"2020-07-31T00:00:00\",\"2020-08-03T00:00:00\",\"2020-08-04T00:00:00\",\"2020-08-05T00:00:00\",\"2020-08-06T00:00:00\",\"2020-08-07T00:00:00\",\"2020-08-10T00:00:00\",\"2020-08-11T00:00:00\",\"2020-08-12T00:00:00\",\"2020-08-13T00:00:00\",\"2020-08-14T00:00:00\",\"2020-08-17T00:00:00\",\"2020-08-18T00:00:00\",\"2020-08-19T00:00:00\",\"2020-08-20T00:00:00\",\"2020-08-21T00:00:00\",\"2020-08-24T00:00:00\",\"2020-08-25T00:00:00\",\"2020-08-26T00:00:00\",\"2020-08-27T00:00:00\",\"2020-08-28T00:00:00\",\"2020-08-31T00:00:00\",\"2020-09-01T00:00:00\",\"2020-09-02T00:00:00\",\"2020-09-03T00:00:00\",\"2020-09-04T00:00:00\",\"2020-09-08T00:00:00\",\"2020-09-09T00:00:00\",\"2020-09-10T00:00:00\",\"2020-09-11T00:00:00\",\"2020-09-14T00:00:00\",\"2020-09-15T00:00:00\",\"2020-09-16T00:00:00\",\"2020-09-17T00:00:00\",\"2020-09-18T00:00:00\",\"2020-09-21T00:00:00\",\"2020-09-22T00:00:00\",\"2020-09-23T00:00:00\",\"2020-09-24T00:00:00\",\"2020-09-25T00:00:00\",\"2020-09-28T00:00:00\",\"2020-09-29T00:00:00\",\"2020-09-30T00:00:00\",\"2020-10-01T00:00:00\",\"2020-10-02T00:00:00\",\"2020-10-05T00:00:00\",\"2020-10-06T00:00:00\",\"2020-10-07T00:00:00\",\"2020-10-08T00:00:00\",\"2020-10-09T00:00:00\",\"2020-10-12T00:00:00\",\"2020-10-13T00:00:00\",\"2020-10-14T00:00:00\",\"2020-10-15T00:00:00\",\"2020-10-16T00:00:00\",\"2020-10-19T00:00:00\",\"2020-10-20T00:00:00\",\"2020-10-21T00:00:00\",\"2020-10-22T00:00:00\",\"2020-10-23T00:00:00\",\"2020-10-26T00:00:00\",\"2020-10-27T00:00:00\",\"2020-10-28T00:00:00\",\"2020-10-29T00:00:00\",\"2020-10-30T00:00:00\",\"2020-11-02T00:00:00\",\"2020-11-03T00:00:00\",\"2020-11-04T00:00:00\",\"2020-11-05T00:00:00\",\"2020-11-06T00:00:00\",\"2020-11-09T00:00:00\",\"2020-11-10T00:00:00\",\"2020-11-11T00:00:00\",\"2020-11-12T00:00:00\",\"2020-11-13T00:00:00\",\"2020-11-16T00:00:00\",\"2020-11-17T00:00:00\",\"2020-11-18T00:00:00\",\"2020-11-19T00:00:00\",\"2020-11-20T00:00:00\",\"2020-11-23T00:00:00\",\"2020-11-24T00:00:00\",\"2020-11-25T00:00:00\",\"2020-11-27T00:00:00\",\"2020-11-30T00:00:00\",\"2020-12-01T00:00:00\",\"2020-12-02T00:00:00\",\"2020-12-03T00:00:00\",\"2020-12-04T00:00:00\",\"2020-12-07T00:00:00\",\"2020-12-08T00:00:00\",\"2020-12-09T00:00:00\",\"2020-12-10T00:00:00\",\"2020-12-11T00:00:00\",\"2020-12-14T00:00:00\",\"2020-12-15T00:00:00\",\"2020-12-16T00:00:00\",\"2020-12-17T00:00:00\",\"2020-12-18T00:00:00\",\"2020-12-21T00:00:00\",\"2020-12-22T00:00:00\",\"2020-12-23T00:00:00\",\"2020-12-24T00:00:00\",\"2020-12-28T00:00:00\",\"2020-12-29T00:00:00\",\"2020-12-30T00:00:00\",\"2020-12-31T00:00:00\",\"2021-01-04T00:00:00\",\"2021-01-05T00:00:00\",\"2021-01-06T00:00:00\",\"2021-01-07T00:00:00\",\"2021-01-08T00:00:00\",\"2021-01-11T00:00:00\",\"2021-01-12T00:00:00\",\"2021-01-13T00:00:00\",\"2021-01-14T00:00:00\",\"2021-01-15T00:00:00\",\"2021-01-19T00:00:00\",\"2021-01-20T00:00:00\",\"2021-01-21T00:00:00\",\"2021-01-22T00:00:00\",\"2021-01-25T00:00:00\",\"2021-01-26T00:00:00\",\"2021-01-27T00:00:00\",\"2021-01-28T00:00:00\",\"2021-01-29T00:00:00\",\"2021-02-01T00:00:00\",\"2021-02-02T00:00:00\",\"2021-02-03T00:00:00\",\"2021-02-04T00:00:00\",\"2021-02-05T00:00:00\",\"2021-02-08T00:00:00\",\"2021-02-09T00:00:00\",\"2021-02-10T00:00:00\",\"2021-02-11T00:00:00\",\"2021-02-12T00:00:00\",\"2021-02-16T00:00:00\",\"2021-02-17T00:00:00\",\"2021-02-18T00:00:00\",\"2021-02-19T00:00:00\",\"2021-02-22T00:00:00\",\"2021-02-23T00:00:00\",\"2021-02-24T00:00:00\",\"2021-02-25T00:00:00\",\"2021-02-26T00:00:00\",\"2021-03-01T00:00:00\",\"2021-03-02T00:00:00\",\"2021-03-03T00:00:00\",\"2021-03-04T00:00:00\",\"2021-03-05T00:00:00\",\"2021-03-08T00:00:00\",\"2021-03-09T00:00:00\",\"2021-03-10T00:00:00\",\"2021-03-11T00:00:00\",\"2021-03-12T00:00:00\",\"2021-03-15T00:00:00\",\"2021-03-16T00:00:00\",\"2021-03-17T00:00:00\",\"2021-03-18T00:00:00\",\"2021-03-19T00:00:00\",\"2021-03-22T00:00:00\",\"2021-03-23T00:00:00\",\"2021-03-24T00:00:00\",\"2021-03-25T00:00:00\",\"2021-03-26T00:00:00\",\"2021-03-29T00:00:00\",\"2021-03-30T00:00:00\",\"2021-03-31T00:00:00\",\"2021-04-01T00:00:00\",\"2021-04-05T00:00:00\",\"2021-04-06T00:00:00\",\"2021-04-07T00:00:00\",\"2021-04-08T00:00:00\",\"2021-04-09T00:00:00\",\"2021-04-12T00:00:00\",\"2021-04-13T00:00:00\",\"2021-04-14T00:00:00\",\"2021-04-15T00:00:00\",\"2021-04-16T00:00:00\",\"2021-04-19T00:00:00\",\"2021-04-20T00:00:00\",\"2021-04-21T00:00:00\",\"2021-04-22T00:00:00\",\"2021-04-23T00:00:00\",\"2021-04-26T00:00:00\",\"2021-04-27T00:00:00\",\"2021-04-28T00:00:00\",\"2021-04-29T00:00:00\",\"2021-04-30T00:00:00\",\"2021-05-03T00:00:00\",\"2021-05-04T00:00:00\",\"2021-05-05T00:00:00\",\"2021-05-06T00:00:00\",\"2021-05-07T00:00:00\",\"2021-05-10T00:00:00\",\"2021-05-11T00:00:00\",\"2021-05-12T00:00:00\",\"2021-05-13T00:00:00\",\"2021-05-14T00:00:00\",\"2021-05-17T00:00:00\",\"2021-05-18T00:00:00\",\"2021-05-19T00:00:00\",\"2021-05-20T00:00:00\",\"2021-05-21T00:00:00\",\"2021-05-24T00:00:00\",\"2021-05-25T00:00:00\",\"2021-05-26T00:00:00\",\"2021-05-27T00:00:00\",\"2021-05-28T00:00:00\",\"2021-06-01T00:00:00\",\"2021-06-02T00:00:00\",\"2021-06-03T00:00:00\",\"2021-06-04T00:00:00\",\"2021-06-07T00:00:00\",\"2021-06-08T00:00:00\",\"2021-06-09T00:00:00\",\"2021-06-10T00:00:00\",\"2021-06-11T00:00:00\",\"2021-06-14T00:00:00\",\"2021-06-15T00:00:00\",\"2021-06-16T00:00:00\",\"2021-06-17T00:00:00\",\"2021-06-18T00:00:00\",\"2021-06-21T00:00:00\",\"2021-06-22T00:00:00\",\"2021-06-23T00:00:00\",\"2021-06-24T00:00:00\",\"2021-06-25T00:00:00\",\"2021-06-28T00:00:00\",\"2021-06-29T00:00:00\",\"2021-06-30T00:00:00\",\"2021-07-01T00:00:00\",\"2021-07-02T00:00:00\",\"2021-07-06T00:00:00\",\"2021-07-07T00:00:00\",\"2021-07-08T00:00:00\",\"2021-07-09T00:00:00\",\"2021-07-12T00:00:00\",\"2021-07-13T00:00:00\",\"2021-07-14T00:00:00\",\"2021-07-15T00:00:00\",\"2021-07-16T00:00:00\",\"2021-07-19T00:00:00\",\"2021-07-20T00:00:00\",\"2021-07-21T00:00:00\",\"2021-07-22T00:00:00\",\"2021-07-23T00:00:00\",\"2021-07-26T00:00:00\",\"2021-07-27T00:00:00\",\"2021-07-28T00:00:00\",\"2021-07-29T00:00:00\",\"2021-07-30T00:00:00\",\"2021-08-02T00:00:00\",\"2021-08-03T00:00:00\",\"2021-08-04T00:00:00\",\"2021-08-05T00:00:00\",\"2021-08-06T00:00:00\",\"2021-08-09T00:00:00\",\"2021-08-10T00:00:00\",\"2021-08-11T00:00:00\",\"2021-08-12T00:00:00\",\"2021-08-13T00:00:00\",\"2021-08-16T00:00:00\",\"2021-08-17T00:00:00\",\"2021-08-18T00:00:00\",\"2021-08-19T00:00:00\",\"2021-08-20T00:00:00\",\"2021-08-23T00:00:00\",\"2021-08-24T00:00:00\",\"2021-08-25T00:00:00\",\"2021-08-26T00:00:00\",\"2021-08-27T00:00:00\",\"2021-08-30T00:00:00\",\"2021-08-31T00:00:00\",\"2021-09-01T00:00:00\",\"2021-09-02T00:00:00\",\"2021-09-03T00:00:00\",\"2021-09-07T00:00:00\",\"2021-09-08T00:00:00\",\"2021-09-09T00:00:00\",\"2021-09-10T00:00:00\",\"2021-09-13T00:00:00\",\"2021-09-14T00:00:00\",\"2021-09-15T00:00:00\",\"2021-09-16T00:00:00\",\"2021-09-17T00:00:00\",\"2021-09-20T00:00:00\",\"2021-09-21T00:00:00\",\"2021-09-22T00:00:00\",\"2021-09-23T00:00:00\",\"2021-09-24T00:00:00\",\"2021-09-27T00:00:00\",\"2021-09-28T00:00:00\",\"2021-09-29T00:00:00\",\"2021-09-30T00:00:00\",\"2021-10-01T00:00:00\",\"2021-10-04T00:00:00\",\"2021-10-05T00:00:00\",\"2021-10-06T00:00:00\",\"2021-10-07T00:00:00\",\"2021-10-08T00:00:00\",\"2021-10-11T00:00:00\",\"2021-10-12T00:00:00\",\"2021-10-13T00:00:00\",\"2021-10-14T00:00:00\",\"2021-10-15T00:00:00\",\"2021-10-18T00:00:00\",\"2021-10-19T00:00:00\",\"2021-10-20T00:00:00\",\"2021-10-21T00:00:00\",\"2021-10-22T00:00:00\",\"2021-10-25T00:00:00\",\"2021-10-26T00:00:00\",\"2021-10-27T00:00:00\",\"2021-10-28T00:00:00\",\"2021-10-29T00:00:00\",\"2021-11-01T00:00:00\",\"2021-11-02T00:00:00\",\"2021-11-03T00:00:00\",\"2021-11-04T00:00:00\",\"2021-11-05T00:00:00\",\"2021-11-08T00:00:00\",\"2021-11-09T00:00:00\",\"2021-11-10T00:00:00\",\"2021-11-11T00:00:00\",\"2021-11-12T00:00:00\",\"2021-11-15T00:00:00\",\"2021-11-16T00:00:00\",\"2021-11-17T00:00:00\",\"2021-11-18T00:00:00\",\"2021-11-19T00:00:00\",\"2021-11-22T00:00:00\",\"2021-11-23T00:00:00\",\"2021-11-24T00:00:00\",\"2021-11-26T00:00:00\",\"2021-11-29T00:00:00\",\"2021-11-30T00:00:00\",\"2021-12-01T00:00:00\",\"2021-12-02T00:00:00\",\"2021-12-03T00:00:00\",\"2021-12-06T00:00:00\",\"2021-12-07T00:00:00\",\"2021-12-08T00:00:00\",\"2021-12-09T00:00:00\",\"2021-12-10T00:00:00\",\"2021-12-13T00:00:00\",\"2021-12-14T00:00:00\",\"2021-12-15T00:00:00\",\"2021-12-16T00:00:00\",\"2021-12-17T00:00:00\",\"2021-12-20T00:00:00\",\"2021-12-21T00:00:00\",\"2021-12-22T00:00:00\",\"2021-12-23T00:00:00\",\"2021-12-27T00:00:00\",\"2021-12-28T00:00:00\",\"2021-12-29T00:00:00\",\"2021-12-30T00:00:00\",\"2021-12-31T00:00:00\",\"2022-01-03T00:00:00\",\"2022-01-04T00:00:00\",\"2022-01-05T00:00:00\",\"2022-01-06T00:00:00\",\"2022-01-07T00:00:00\",\"2022-01-10T00:00:00\",\"2022-01-11T00:00:00\",\"2022-01-12T00:00:00\",\"2022-01-13T00:00:00\",\"2022-01-14T00:00:00\",\"2022-01-18T00:00:00\",\"2022-01-19T00:00:00\",\"2022-01-20T00:00:00\",\"2022-01-21T00:00:00\",\"2022-01-24T00:00:00\",\"2022-01-25T00:00:00\",\"2022-01-26T00:00:00\",\"2022-01-27T00:00:00\",\"2022-01-28T00:00:00\",\"2022-01-31T00:00:00\",\"2022-02-01T00:00:00\",\"2022-02-02T00:00:00\",\"2022-02-03T00:00:00\",\"2022-02-04T00:00:00\",\"2022-02-07T00:00:00\",\"2022-02-08T00:00:00\",\"2022-02-09T00:00:00\",\"2022-02-10T00:00:00\",\"2022-02-11T00:00:00\",\"2022-02-14T00:00:00\",\"2022-02-15T00:00:00\",\"2022-02-16T00:00:00\",\"2022-02-17T00:00:00\",\"2022-02-18T00:00:00\",\"2022-02-22T00:00:00\",\"2022-02-23T00:00:00\",\"2022-02-24T00:00:00\",\"2022-02-25T00:00:00\",\"2022-02-28T00:00:00\",\"2022-03-01T00:00:00\",\"2022-03-02T00:00:00\",\"2022-03-03T00:00:00\",\"2022-03-04T00:00:00\",\"2022-03-07T00:00:00\",\"2022-03-08T00:00:00\",\"2022-03-09T00:00:00\",\"2022-03-10T00:00:00\",\"2022-03-11T00:00:00\",\"2022-03-14T00:00:00\",\"2022-03-15T00:00:00\",\"2022-03-16T00:00:00\",\"2022-03-17T00:00:00\",\"2022-03-18T00:00:00\",\"2022-03-21T00:00:00\",\"2022-03-22T00:00:00\",\"2022-03-23T00:00:00\",\"2022-03-24T00:00:00\",\"2022-03-25T00:00:00\",\"2022-03-28T00:00:00\",\"2022-03-29T00:00:00\",\"2022-03-30T00:00:00\",\"2022-03-31T00:00:00\",\"2022-04-01T00:00:00\",\"2022-04-04T00:00:00\",\"2022-04-05T00:00:00\",\"2022-04-06T00:00:00\",\"2022-04-07T00:00:00\",\"2022-04-08T00:00:00\",\"2022-04-11T00:00:00\",\"2022-04-12T00:00:00\",\"2022-04-13T00:00:00\",\"2022-04-14T00:00:00\",\"2022-04-18T00:00:00\",\"2022-04-19T00:00:00\",\"2022-04-20T00:00:00\",\"2022-04-21T00:00:00\",\"2022-04-22T00:00:00\",\"2022-04-25T00:00:00\",\"2022-04-26T00:00:00\",\"2022-04-27T00:00:00\",\"2022-04-28T00:00:00\",\"2022-04-29T00:00:00\",\"2022-05-02T00:00:00\",\"2022-05-03T00:00:00\",\"2022-05-04T00:00:00\",\"2022-05-05T00:00:00\",\"2022-05-06T00:00:00\",\"2022-05-09T00:00:00\",\"2022-05-10T00:00:00\",\"2022-05-11T00:00:00\",\"2022-05-12T00:00:00\",\"2022-05-13T00:00:00\",\"2022-05-16T00:00:00\",\"2022-05-17T00:00:00\",\"2022-05-18T00:00:00\",\"2022-05-19T00:00:00\",\"2022-05-20T00:00:00\",\"2022-05-23T00:00:00\",\"2022-05-24T00:00:00\",\"2022-05-25T00:00:00\",\"2022-05-26T00:00:00\",\"2022-05-27T00:00:00\",\"2022-05-31T00:00:00\",\"2022-06-01T00:00:00\",\"2022-06-02T00:00:00\",\"2022-06-03T00:00:00\",\"2022-06-06T00:00:00\",\"2022-06-07T00:00:00\",\"2022-06-08T00:00:00\",\"2022-06-09T00:00:00\",\"2022-06-10T00:00:00\",\"2022-06-13T00:00:00\",\"2022-06-14T00:00:00\",\"2022-06-15T00:00:00\",\"2022-06-16T00:00:00\",\"2022-06-17T00:00:00\",\"2022-06-21T00:00:00\",\"2022-06-22T00:00:00\",\"2022-06-23T00:00:00\",\"2022-06-24T00:00:00\",\"2022-06-27T00:00:00\",\"2022-06-28T00:00:00\",\"2022-06-29T00:00:00\",\"2022-06-30T00:00:00\",\"2022-07-01T00:00:00\",\"2022-07-05T00:00:00\",\"2022-07-06T00:00:00\",\"2022-07-07T00:00:00\",\"2022-07-08T00:00:00\",\"2022-07-11T00:00:00\",\"2022-07-12T00:00:00\",\"2022-07-13T00:00:00\",\"2022-07-14T00:00:00\",\"2022-07-15T00:00:00\",\"2022-07-18T00:00:00\",\"2022-07-19T00:00:00\",\"2022-07-20T00:00:00\",\"2022-07-21T00:00:00\",\"2022-07-22T00:00:00\",\"2022-07-25T00:00:00\",\"2022-07-26T00:00:00\",\"2022-07-27T00:00:00\",\"2022-07-28T00:00:00\",\"2022-07-29T00:00:00\",\"2022-08-01T00:00:00\",\"2022-08-02T00:00:00\",\"2022-08-03T00:00:00\",\"2022-08-04T00:00:00\",\"2022-08-05T00:00:00\",\"2022-08-08T00:00:00\",\"2022-08-09T00:00:00\",\"2022-08-10T00:00:00\",\"2022-08-11T00:00:00\",\"2022-08-12T00:00:00\",\"2022-08-15T00:00:00\",\"2022-08-16T00:00:00\",\"2022-08-17T00:00:00\",\"2022-08-18T00:00:00\",\"2022-08-19T00:00:00\",\"2022-08-22T00:00:00\",\"2022-08-23T00:00:00\",\"2022-08-24T00:00:00\",\"2022-08-25T00:00:00\",\"2022-08-26T00:00:00\",\"2022-08-29T00:00:00\",\"2022-08-30T00:00:00\",\"2022-08-31T00:00:00\",\"2022-09-01T00:00:00\",\"2022-09-02T00:00:00\",\"2022-09-06T00:00:00\",\"2022-09-07T00:00:00\",\"2022-09-08T00:00:00\",\"2022-09-09T00:00:00\",\"2022-09-12T00:00:00\",\"2022-09-13T00:00:00\",\"2022-09-14T00:00:00\",\"2022-09-15T00:00:00\",\"2022-09-16T00:00:00\",\"2022-09-19T00:00:00\",\"2022-09-20T00:00:00\",\"2022-09-21T00:00:00\",\"2022-09-22T00:00:00\",\"2022-09-23T00:00:00\",\"2022-09-26T00:00:00\",\"2022-09-27T00:00:00\",\"2022-09-28T00:00:00\",\"2022-09-29T00:00:00\",\"2022-09-30T00:00:00\",\"2022-10-03T00:00:00\",\"2022-10-04T00:00:00\",\"2022-10-05T00:00:00\",\"2022-10-06T00:00:00\",\"2022-10-07T00:00:00\",\"2022-10-10T00:00:00\",\"2022-10-11T00:00:00\",\"2022-10-12T00:00:00\",\"2022-10-13T00:00:00\",\"2022-10-14T00:00:00\",\"2022-10-17T00:00:00\",\"2022-10-18T00:00:00\",\"2022-10-19T00:00:00\",\"2022-10-20T00:00:00\",\"2022-10-21T00:00:00\",\"2022-10-24T00:00:00\",\"2022-10-25T00:00:00\",\"2022-10-26T00:00:00\",\"2022-10-27T00:00:00\",\"2022-10-28T00:00:00\",\"2022-10-31T00:00:00\",\"2022-11-01T00:00:00\",\"2022-11-02T00:00:00\",\"2022-11-03T00:00:00\",\"2022-11-04T00:00:00\",\"2022-11-07T00:00:00\",\"2022-11-08T00:00:00\",\"2022-11-09T00:00:00\",\"2022-11-10T00:00:00\",\"2022-11-11T00:00:00\",\"2022-11-14T00:00:00\",\"2022-11-15T00:00:00\",\"2022-11-16T00:00:00\",\"2022-11-17T00:00:00\",\"2022-11-18T00:00:00\",\"2022-11-21T00:00:00\",\"2022-11-22T00:00:00\",\"2022-11-23T00:00:00\",\"2022-11-25T00:00:00\",\"2022-11-28T00:00:00\",\"2022-11-29T00:00:00\",\"2022-11-30T00:00:00\",\"2022-12-01T00:00:00\",\"2022-12-02T00:00:00\",\"2022-12-05T00:00:00\",\"2022-12-06T00:00:00\",\"2022-12-07T00:00:00\",\"2022-12-08T00:00:00\",\"2022-12-09T00:00:00\",\"2022-12-12T00:00:00\",\"2022-12-13T00:00:00\",\"2022-12-14T00:00:00\",\"2022-12-15T00:00:00\",\"2022-12-16T00:00:00\",\"2022-12-19T00:00:00\",\"2022-12-20T00:00:00\",\"2022-12-21T00:00:00\",\"2022-12-22T00:00:00\",\"2022-12-23T00:00:00\",\"2022-12-27T00:00:00\",\"2022-12-28T00:00:00\",\"2022-12-29T00:00:00\",\"2022-12-30T00:00:00\",\"2023-01-03T00:00:00\",\"2023-01-04T00:00:00\",\"2023-01-05T00:00:00\",\"2023-01-06T00:00:00\",\"2023-01-09T00:00:00\",\"2023-01-10T00:00:00\",\"2023-01-11T00:00:00\",\"2023-01-12T00:00:00\",\"2023-01-13T00:00:00\",\"2023-01-17T00:00:00\",\"2023-01-18T00:00:00\",\"2023-01-19T00:00:00\",\"2023-01-20T00:00:00\",\"2023-01-23T00:00:00\",\"2023-01-24T00:00:00\",\"2023-01-25T00:00:00\",\"2023-01-26T00:00:00\",\"2023-01-27T00:00:00\",\"2023-01-30T00:00:00\",\"2023-01-31T00:00:00\",\"2023-02-01T00:00:00\",\"2023-02-02T00:00:00\",\"2023-02-03T00:00:00\",\"2023-02-06T00:00:00\",\"2023-02-07T00:00:00\",\"2023-02-08T00:00:00\",\"2023-02-09T00:00:00\",\"2023-02-10T00:00:00\",\"2023-02-13T00:00:00\",\"2023-02-14T00:00:00\",\"2023-02-15T00:00:00\",\"2023-02-16T00:00:00\",\"2023-02-17T00:00:00\",\"2023-02-21T00:00:00\",\"2023-02-22T00:00:00\",\"2023-02-23T00:00:00\",\"2023-02-24T00:00:00\",\"2023-02-27T00:00:00\",\"2023-02-28T00:00:00\",\"2023-03-01T00:00:00\",\"2023-03-02T00:00:00\",\"2023-03-03T00:00:00\",\"2023-03-06T00:00:00\",\"2023-03-07T00:00:00\",\"2023-03-08T00:00:00\",\"2023-03-09T00:00:00\",\"2023-03-10T00:00:00\",\"2023-03-13T00:00:00\",\"2023-03-14T00:00:00\",\"2023-03-15T00:00:00\",\"2023-03-16T00:00:00\",\"2023-03-17T00:00:00\",\"2023-03-20T00:00:00\",\"2023-03-21T00:00:00\",\"2023-03-22T00:00:00\",\"2023-03-23T00:00:00\",\"2023-03-24T00:00:00\",\"2023-03-27T00:00:00\",\"2023-03-28T00:00:00\",\"2023-03-29T00:00:00\",\"2023-03-30T00:00:00\",\"2023-03-31T00:00:00\",\"2023-04-03T00:00:00\",\"2023-04-04T00:00:00\",\"2023-04-05T00:00:00\",\"2023-04-06T00:00:00\",\"2023-04-10T00:00:00\",\"2023-04-11T00:00:00\",\"2023-04-12T00:00:00\",\"2023-04-13T00:00:00\",\"2023-04-14T00:00:00\",\"2023-04-17T00:00:00\",\"2023-04-18T00:00:00\",\"2023-04-19T00:00:00\",\"2023-04-20T00:00:00\",\"2023-04-21T00:00:00\",\"2023-04-24T00:00:00\",\"2023-04-25T00:00:00\",\"2023-04-26T00:00:00\",\"2023-04-27T00:00:00\",\"2023-04-28T00:00:00\",\"2023-05-01T00:00:00\",\"2023-05-02T00:00:00\",\"2023-05-03T00:00:00\",\"2023-05-04T00:00:00\",\"2023-05-05T00:00:00\",\"2023-05-08T00:00:00\",\"2023-05-09T00:00:00\",\"2023-05-10T00:00:00\",\"2023-05-11T00:00:00\",\"2023-05-12T00:00:00\",\"2023-05-15T00:00:00\",\"2023-05-16T00:00:00\",\"2023-05-17T00:00:00\",\"2023-05-18T00:00:00\",\"2023-05-19T00:00:00\",\"2023-05-22T00:00:00\",\"2023-05-23T00:00:00\",\"2023-05-24T00:00:00\",\"2023-05-25T00:00:00\",\"2023-05-26T00:00:00\",\"2023-05-30T00:00:00\",\"2023-05-31T00:00:00\",\"2023-06-01T00:00:00\",\"2023-06-02T00:00:00\",\"2023-06-05T00:00:00\",\"2023-06-06T00:00:00\",\"2023-06-07T00:00:00\",\"2023-06-08T00:00:00\",\"2023-06-09T00:00:00\",\"2023-06-12T00:00:00\",\"2023-06-13T00:00:00\",\"2023-06-14T00:00:00\",\"2023-06-15T00:00:00\",\"2023-06-16T00:00:00\",\"2023-06-20T00:00:00\",\"2023-06-21T00:00:00\",\"2023-06-22T00:00:00\",\"2023-06-23T00:00:00\",\"2023-06-26T00:00:00\",\"2023-06-27T00:00:00\",\"2023-06-28T00:00:00\",\"2023-06-29T00:00:00\",\"2023-06-30T00:00:00\",\"2023-07-03T00:00:00\",\"2023-07-05T00:00:00\",\"2023-07-06T00:00:00\",\"2023-07-07T00:00:00\",\"2023-07-10T00:00:00\",\"2023-07-11T00:00:00\",\"2023-07-12T00:00:00\",\"2023-07-13T00:00:00\",\"2023-07-14T00:00:00\",\"2023-07-17T00:00:00\",\"2023-07-18T00:00:00\",\"2023-07-19T00:00:00\",\"2023-07-20T00:00:00\",\"2023-07-21T00:00:00\",\"2023-07-24T00:00:00\",\"2023-07-25T00:00:00\",\"2023-07-26T00:00:00\",\"2023-07-27T00:00:00\",\"2023-07-28T00:00:00\",\"2023-07-31T00:00:00\",\"2023-08-01T00:00:00\",\"2023-08-02T00:00:00\",\"2023-08-03T00:00:00\",\"2023-08-04T00:00:00\",\"2023-08-07T00:00:00\",\"2023-08-08T00:00:00\",\"2023-08-09T00:00:00\",\"2023-08-10T00:00:00\",\"2023-08-11T00:00:00\",\"2023-08-14T00:00:00\",\"2023-08-15T00:00:00\",\"2023-08-16T00:00:00\",\"2023-08-17T00:00:00\",\"2023-08-18T00:00:00\",\"2023-08-21T00:00:00\",\"2023-08-22T00:00:00\",\"2023-08-23T00:00:00\",\"2023-08-24T00:00:00\",\"2023-08-25T00:00:00\",\"2023-08-28T00:00:00\",\"2023-08-29T00:00:00\",\"2023-08-30T00:00:00\",\"2023-08-31T00:00:00\",\"2023-09-01T00:00:00\",\"2023-09-05T00:00:00\",\"2023-09-06T00:00:00\",\"2023-09-07T00:00:00\",\"2023-09-08T00:00:00\",\"2023-09-11T00:00:00\",\"2023-09-12T00:00:00\",\"2023-09-13T00:00:00\",\"2023-09-14T00:00:00\",\"2023-09-15T00:00:00\",\"2023-09-18T00:00:00\",\"2023-09-19T00:00:00\",\"2023-09-20T00:00:00\",\"2023-09-21T00:00:00\",\"2023-09-22T00:00:00\",\"2023-09-25T00:00:00\",\"2023-09-26T00:00:00\",\"2023-09-27T00:00:00\",\"2023-09-28T00:00:00\",\"2023-09-29T00:00:00\",\"2023-10-02T00:00:00\",\"2023-10-03T00:00:00\",\"2023-10-04T00:00:00\",\"2023-10-05T00:00:00\",\"2023-10-06T00:00:00\",\"2023-10-09T00:00:00\",\"2023-10-10T00:00:00\",\"2023-10-11T00:00:00\",\"2023-10-12T00:00:00\",\"2023-10-13T00:00:00\",\"2023-10-16T00:00:00\",\"2023-10-17T00:00:00\",\"2023-10-18T00:00:00\",\"2023-10-19T00:00:00\",\"2023-10-20T00:00:00\",\"2023-10-23T00:00:00\",\"2023-10-24T00:00:00\",\"2023-10-25T00:00:00\",\"2023-10-26T00:00:00\",\"2023-10-27T00:00:00\",\"2023-10-30T00:00:00\",\"2023-10-31T00:00:00\",\"2023-11-01T00:00:00\",\"2023-11-02T00:00:00\",\"2023-11-03T00:00:00\",\"2023-11-06T00:00:00\",\"2023-11-07T00:00:00\",\"2023-11-08T00:00:00\",\"2023-11-09T00:00:00\",\"2023-11-10T00:00:00\",\"2023-11-13T00:00:00\",\"2023-11-14T00:00:00\",\"2023-11-15T00:00:00\",\"2023-11-16T00:00:00\",\"2023-11-17T00:00:00\",\"2023-11-20T00:00:00\",\"2023-11-21T00:00:00\",\"2023-11-22T00:00:00\",\"2023-11-24T00:00:00\",\"2023-11-27T00:00:00\",\"2023-11-28T00:00:00\",\"2023-11-29T00:00:00\",\"2023-11-30T00:00:00\",\"2023-12-01T00:00:00\",\"2023-12-04T00:00:00\",\"2023-12-05T00:00:00\",\"2023-12-06T00:00:00\",\"2023-12-07T00:00:00\",\"2023-12-08T00:00:00\",\"2023-12-11T00:00:00\",\"2023-12-12T00:00:00\",\"2023-12-13T00:00:00\",\"2023-12-14T00:00:00\",\"2023-12-15T00:00:00\",\"2023-12-18T00:00:00\",\"2023-12-19T00:00:00\",\"2023-12-20T00:00:00\",\"2023-12-21T00:00:00\",\"2023-12-22T00:00:00\",\"2023-12-26T00:00:00\",\"2023-12-27T00:00:00\",\"2023-12-28T00:00:00\",\"2023-12-29T00:00:00\",\"2024-01-02T00:00:00\",\"2024-01-03T00:00:00\",\"2024-01-04T00:00:00\",\"2024-01-05T00:00:00\",\"2024-01-08T00:00:00\",\"2024-01-09T00:00:00\",\"2024-01-10T00:00:00\",\"2024-01-11T00:00:00\",\"2024-01-12T00:00:00\",\"2024-01-16T00:00:00\",\"2024-01-17T00:00:00\",\"2024-01-18T00:00:00\",\"2024-01-19T00:00:00\",\"2024-01-22T00:00:00\",\"2024-01-23T00:00:00\",\"2024-01-24T00:00:00\",\"2024-01-25T00:00:00\",\"2024-01-26T00:00:00\",\"2024-01-29T00:00:00\",\"2024-01-30T00:00:00\",\"2024-01-31T00:00:00\",\"2024-02-01T00:00:00\",\"2024-02-02T00:00:00\",\"2024-02-05T00:00:00\",\"2024-02-06T00:00:00\",\"2024-02-07T00:00:00\",\"2024-02-08T00:00:00\",\"2024-02-09T00:00:00\",\"2024-02-12T00:00:00\",\"2024-02-13T00:00:00\",\"2024-02-14T00:00:00\",\"2024-02-15T00:00:00\",\"2024-02-16T00:00:00\",\"2024-02-20T00:00:00\",\"2024-02-21T00:00:00\",\"2024-02-22T00:00:00\",\"2024-02-23T00:00:00\",\"2024-02-26T00:00:00\",\"2024-02-27T00:00:00\",\"2024-02-28T00:00:00\",\"2024-02-29T00:00:00\",\"2024-03-01T00:00:00\",\"2024-03-04T00:00:00\",\"2024-03-05T00:00:00\"],\"xaxis\":\"x\",\"y\":[154.4938507080078,152.57012939453125,152.96446228027344,151.56979370117188,153.9840545654297,155.9077911376953,155.18637084960938,157.05235290527344,155.9462432861328,156.95620727539062,159.8321533203125,160.7266845703125,160.14956665039062,159.38003540039062,160.36117553710938,158.74522399902344,156.09054565429688,159.14923095703125,161.6307830810547,166.19003295898438,163.73728942871094,167.72903442382812,173.25010681152344,173.0384979248047,176.62620544433594,176.8762969970703,181.5028533935547,177.4053192138672,177.6650390625,176.70315551757812,178.2805633544922,180.08888244628906,180.62904357910156,177.87057495117188,172.2476348876953,164.82110595703125,162.10122680664062,164.12667846679688,152.56246948242188,156.25645446777344,166.65357971191406,158.66766357421875,164.4931640625,160.3651580810547,155.83204650878906,145.2709197998047,155.20513916015625,148.17410278320312,134.1214599609375,153.1894073486328,130.6107635498047,141.36474609375,135.41390991210938,137.64187622070312,132.4722137451172,131.15086364746094,143.07196044921875,141.70233154296875,150.5659637451172,144.38360595703125,154.53965759277344,152.10916137695312,146.70803833007812,149.74612426757812,148.36692810058594,159.40066528320312,157.68389892578125,159.26564025878906,159.2753143310547,159.63211059570312,167.53131103515625,165.77593994140625,170.75270080566406,172.25726318359375,168.84295654296875,161.86013793945312,167.357666015625,165.33226013183594,168.35108947753906,167.86888122558594,163.7794189453125,171.12884521484375,172.8456268310547,168.3704071044922,172.48876953125,174.340576171875,176.0573272705078,177.07969665527344,178.12136840820312,180.10821533203125,176.0283966064453,173.36643981933594,174.1187286376953,176.65536499023438,178.34323120117188,177.10865783691406,179.56527709960938,177.40847778320312,177.48583984375,175.6095428466797,175.84164428710938,175.4451141357422,177.234375,176.8281707763672,178.83990478515625,179.27511596679688,176.9152069091797,181.05470275878906,182.1766357421875,183.56936645507812,190.3782501220703,180.1552276611328,181.5770263671875,182.7375946044922,187.21560668945312,187.8635711669922,189.87530517578125,188.74374389648438,193.98580932617188,195.28182983398438,191.3454132080078,193.7633514404297,189.88499450683594,191.92572021484375,196.8292694091797,197.98025512695312,199.48902893066406,203.78326416015625,201.41368103027344,205.84335327148438,207.28443908691406,206.65576171875,200.27244567871094,201.5104217529297,201.21058654785156,197.22581481933594,196.21998596191406,204.65374755859375,201.89730834960938,204.79879760742188,195.89112854003906,194.6918487548828,197.1581268310547,195.38818359375,197.36123657226562,197.2064971923828,198.28004455566406,209.43154907226562,206.28826904296875,205.94973754882812,209.247802734375,205.5048370361328,201.41368103027344,196.70352172851562,202.32286071777344,201.8489532470703,202.04237365722656,203.37705993652344,204.54734802246094,203.30638122558594,208.03758239746094,206.52513122558594,207.17471313476562,209.86993408203125,214.40724182128906,219.67172241210938,221.9306640625,218.65374755859375,220.34066772460938,224.58709716796875,210.67465209960938,207.71762084960938,196.48104858398438,204.84788513183594,199.10836791992188,197.8092498779297,199.1471710205078,202.4143829345703,198.79812622070312,196.723388671875,194.2801971435547,196.3647003173828,201.0958709716797,194.47415161132812,196.99484252929688,201.48367309570312,203.0542755126953,200.94073486328125,203.9171600341797,205.98223876953125,199.90338134765625,203.9656524658203,199.63189697265625,203.4324188232422,204.15953063964844,209.2300567626953,214.64964294433594,216.06512451171875,214.12611389160156,212.96267700195312,212.96267700195312,207.6885528564453,208.1054229736328,208.25086975097656,208.33815002441406,209.6372833251953,203.67478942871094,206.7481231689453,196.5003662109375,198.4781951904297,196.29681396484375,196.1610565185547,200.1360626220703,209.79237365722656,216.4820098876953,216.8988800048828,211.73141479492188,204.576416015625,209.94749450683594,208.871337890625,209.90869140625,210.60678100585938,207.9212188720703,205.1800537109375,206.4825897216797,204.50933837890625,204.23716735839844,207.88235473632812,207.89208984375,209.21405029296875,208.0865020751953,210.1666717529297,209.3501434326172,208.25172424316406,208.36837768554688,208.3003387451172,209.97225952148438,205.87989807128906,204.6356964111328,207.2991180419922,208.2128448486328,208.1448211669922,213.15086364746094,213.28692626953125,212.4801483154297,216.3683624267578,217.6806182861328,214.84225463867188,216.52391052246094,218.67210388183594,217.8847198486328,215.4837646484375,216.2030792236328,211.60531616210938,211.8094482421875,206.31735229492188,212.18850708007812,213.48135375976562,211.41090393066406,208.9224395751953,210.29302978515625,207.06581115722656,206.70619201660156,210.39022827148438,218.0694122314453,218.68182373046875,219.6344451904297,223.11436462402344,225.8361053466797,226.39016723632812,232.25161743164062,225.4764404296875,232.95150756835938,232.81541442871094,236.20790100097656,235.2455291748047,235.4302215576172,235.69265747070312,236.9563446044922,236.03289794921875,237.6562042236328,238.1422119140625,236.88829040527344,237.92100524902344,237.52157592773438,234.77406311035156,228.48013305664062,227.27207946777344,228.51918029785156,223.10211181640625,226.40496826171875,230.8477325439453,227.85667419433594,221.7089080810547,220.9001922607422,225.64500427246094,221.5432586669922,227.76895141601562,226.4439239501953,231.03280639648438,229.68832397460938,228.77244567871094,231.597900390625,230.9451141357422,224.7876434326172,224.42718505859375,229.92213439941406,231.4712371826172,229.40574645996094,226.36595153808594,230.39952087402344,229.19142150878906,225.8885955810547,229.70779418945312,236.11862182617188,242.6658172607422,241.48692321777344,243.47445678710938,246.73831176757812,249.27145385742188,249.32994079589844,251.84359741210938,249.0181884765625,252.82763671875,254.0357208251953,252.08712768554688,251.61952209472656,253.8798370361328,250.55752563476562,254.4351806640625,254.82496643066406,255.234130859375,248.01466369628906,246.01734924316406,245.69583129882812,245.3840789794922,241.4187469482422,240.13267517089844,243.30880737304688,245.96864318847656,240.82440185546875,239.89881896972656,232.854736328125,236.78109741210938,241.7694854736328,238.87582397460938,236.829833984375,237.41575622558594,240.6968994140625,239.4176483154297,244.8960418701172,245.81396484375,245.58937072753906,243.4605255126953,243.82183837890625,241.5953369140625,241.49769592285156,239.94497680664062,244.90576171875,247.8549041748047,246.64404296875,247.64012145996094,251.2044677734375,251.8392333984375,253.79225158691406,252.29815673828125,251.34117126464844,254.7786102294922,253.34310913085938,256.468017578125,259.2804260253906,259.0460510253906,260.4327392578125,258.8019104003906,262.41510009765625,265.0321960449219,264.54400634765625,265.2275085449219,271.13555908203125,271.1453552246094,273.3620910644531,270.9109802246094,271.4187927246094,270.8133544921875,274.3874206542969,275.881591796875,274.4363098144531,274.162841796875,270.5106201171875,272.766357421875,274.7975769042969,279.4263610839844,282.8735656738281,282.26812744140625,279.8169860839844,279.5045166015625,279.7779235839844,278.2252502441406,278.1373596191406,280.3833923339844,279.7876892089844,282.7270812988281,282.6684875488281,281.5649719238281,279.7193603515625,280.2174072265625,283.01031494140625,285.9789733886719,287.6878967285156,286.20355224609375,284.4522399902344,290.36181640625,297.78790283203125,298.07159423828125,296.08544921875,295.4886474609375,292.6316223144531,293.248046875,297.0345764160156,295.36151123046875,295.3125,294.6471862792969,294.637451171875,293.69818115234375,293.7275390625,290.8313903808594,289.3246765136719,290.5769958496094,293.3166198730469,298.2379150390625,298.62933349609375,293.39483642578125,287.9451599121094,288.434326171875,292.1327209472656,293.091552734375,292.8860778808594,287.8179626464844,277.3978576660156,277.86749267578125,275.83245849609375,282.8573913574219,276.99676513671875,282.5247497558594,286.78082275390625,288.4832763671875,288.4832763671875,287.8766174316406,286.5557861328125,289.9117126464844,296.2126770019531,297.64111328125,300.6546325683594,301.5743408203125,300.7720642089844,304.0497131347656,302.4842529296875,301.4765319824219,303.41375732421875,316.1917724609375,317.34625244140625,324.4592590332031,322.2578430175781,325.9366455078125,326.787841796875,329.1751708984375,328.8033752441406,329.71331787109375,328.69580078125,323.65692138671875,325.2518005371094,329.4491271972656,328.8132019042969,332.1789245605469,332.4043273925781,334.5117492675781,336.3152770996094,333.1003112792969,330.9928283691406,331.2182922363281,323.1512451171875,329.96368408203125,324.0432434082031,323.5433044433594,322.9650573730469,316.6133728027344,319.73040771484375,328.2874755859375,328.3365478515625,326.5035400390625,335.75665283203125,332.67877197265625,321.8377990722656,328.02288818359375,318.4659729003906,317.3876953125,313.5747985839844,320.8086242675781,326.6015625,328.06207275390625,335.66839599609375,334.4921569824219,335.1783142089844,332.60040283203125,329.65972900390625,328.1208801269531,322.4945983886719,310.11468505859375,307.6641845703125,307.821044921875,308.0464172363281,308.7424011230469,311.96722412109375,298.76397705078125,304.0570373535156,296.6565246582031,297.32305908203125,295.62738037109375,290.167724609375,290.5008850097656,282.7769470214844,290.8341979980469,293.90216064453125,302.155517578125,304.8216247558594,302.6455993652344,307.25250244140625,295.2842712402344,299.8813781738281,294.990234375,298.52874755859375,305.0470886230469,296.39190673828125,289.197265625,289.1580505371094,294.519775390625,294.1759948730469,285.5618896484375,282.8116455078125,282.6053466796875,275.28778076171875,289.353271484375,292.0248718261719,293.47857666015625,289.7068786621094,294.8536682128906,290.65960693359375,284.70733642578125,273.9520263671875,270.9463806152344,283.3714904785156,280.51324462890625,275.09130859375,271.5259094238281,282.04547119140625,289.15679931640625,289.9720458984375,295.0893859863281,293.84197998046875,298.6548767089844,294.1661682128906,298.6942443847656,298.28167724609375,305.1769104003906,309.80316162109375,308.2806396484375,302.829345703125,303.91961669921875,309.3709716796875,305.3536682128906,294.1759948730469,296.01275634765625,291.69091796875,280.1890869140625,277.04595947265625,282.5071105957031,274.8555908203125,275.53338623046875,280.2283630371094,281.2695617675781,275.8182067871094,269.1587219238281,275.72979736328125,265.4164733886719,278.18536376953125,284.48138427734375,272.586669921875,279.41314697265625,276.7709655761719,284.8251953125,272.4197082519531,269.8463134765625,259.876708984375,264.709228515625,255.91831970214844,250.810791015625,256.4782409667969,256.8514404296875,262.076904296875,250.14463806152344,249.2191925048828,248.64816284179688,256.61285400390625,255.59881591796875,258.4538879394531,261.781494140625,269.0078430175781,267.6590881347656,268.2005615234375,270.3270568847656,265.8377380371094,264.58740234375,268.27935791015625,266.22174072265625,260.68878173828125,249.07150268554688,238.5076904296875,240.7031707763672,247.86056518554688,241.17572021484375,243.814208984375,249.80990600585938,249.20933532714844,254.85055541992188,263.5537109375,260.7872314453125,252.5074462890625,256.2289123535156,252.85198974609375,255.5594482421875,258.7787780761719,262.08673095703125,264.2427978515625,263.5142517089844,260.4130859375,249.740966796875,248.80567932128906,250.14463806152344,252.74375915527344,250.31199645996094,255.51019287109375,258.207763671875,260.7379455566406,256.3273620605469,254.821044921875,247.99835205078125,264.5775451660156,272.1287536621094,276.3916931152344,273.7039489746094,270.56341552734375,278.09490966796875,279.2566223144531,278.5280456542969,275.97821044921875,277.927490234375,284.6812744140625,282.5743713378906,287.3887023925781,288.92449951171875,288.17626953125,287.4166259765625,286.2820129394531,282.3158874511719,274.0284118652344,272.7359924316406,272.0947265625,275.1136779785156,264.4978942871094,261.67620849609375,259.44647216796875,257.9665832519531,256.910888671875,252.62904357910156,249.85667419433594,254.6318817138672,255.0561065673828,260.9164733886719,263.0771789550781,248.61358642578125,248.8404998779297,242.0921630859375,241.46072387695312,241.24368286132812,239.20140075683594,235.74830627441406,237.7510986328125,234.7321014404297,234.2683868408203,233.2423553466797,237.83990478515625,234.31773376464844,229.77935791015625,237.5143280029297,245.54525756835938,245.8609619140625,243.48326110839844,231.10142517089844,226.17828369140625,222.38973999023438,222.7251739501953,231.10142517089844,225.49752807617188,234.34735107421875,235.30433654785156,233.31141662597656,232.98582458496094,238.87583923339844,243.93711853027344,247.30140686035156,228.2205352783203,223.71177673339844,232.70956420898438,229.01968383789062,225.11276245117188,217.15087890625,211.37925720214844,218.423583984375,224.81678771972656,225.8033905029297,221.5017852783203,239.72430419921875,243.79896545410156,238.3134765625,238.72784423828125,239.16317749023438,239.11370849609375,238.65858459472656,239.4797821044922,242.42813110351562,244.9510498046875,244.86199951171875,239.19285583496094,237.77804565429688,252.4307861328125,251.9855499267578,252.3120574951172,247.543212890625,242.51715087890625,241.77511596679688,244.77296447753906,242.81396484375,249.8286895751953,254.19187927246094,254.4887237548828,246.36585998535156,242.09173583984375,237.89675903320312,239.232421875,241.83447265625,235.6607666015625,236.19500732421875,234.44381713867188,232.0396270751953,238.4508056640625,237.27345275878906,237.0360107421875,226.66729736328125,219.9493865966797,222.5415496826172,224.7082977294922,226.41993713378906,233.26646423339844,235.9773712158203,236.68971252441406,237.79783630371094,233.3060302734375,229.46722412109375,237.66920471191406,240.00413513183594,239.46986389160156,238.0550537109375,245.36659240722656,245.52488708496094,240.1327667236328,245.17860412597656,250.06614685058594,261.79034423828125,255.60667419433594,254.04347229003906,264.7189025878906,263.8977355957031,260.8207092285156,260.3062438964844,268.43896484375,269.27996826171875,267.12762451171875,260.0159606933594,255.95925903320312,250.61314392089844,249.46258544921875,252.696044921875,247.1912384033203,248.1235809326172,247.38958740234375,244.26524353027344,249.0658416748047,253.21180725097656,254.77896118164062,252.0811004638672,251.63475036621094,250.26600646972656,246.56634521484375,251.8529510498047,258.66705322265625,263.2791748046875,273.9516296386719,277.1553039550781,270.0138854980469,271.5513000488281,270.07342529296875,275.39971923828125,278.2860412597656,274.1301574707031,272.9895324707031,278.2265319824219,281.7377014160156,285.95306396484375,284.891845703125,284.8421936035156,282.0252990722656,289.22625732421875,287.03424072265625,280.5276184082031,281.1822509765625,287.4805603027344,283.8106689453125,286.4490051269531,286.02252197265625,286.10186767578125,283.7808837890625,283.43377685546875,279.47625732421875,273.1779479980469,292.96551513671875,302.3485107421875,304.7587585449219,303.0726013183594,302.923828125,301.9220275878906,302.923828125,308.1211853027344,306.1374206542969,304.5008544921875,309.76763916015625,307.5855407714844,306.454833984375,306.94085693359375,309.2023010253906,312.1247253417969,316.61773681640625,316.43878173828125,319.2618408203125,313.377197265625,311.9756164550781,323.9735107421875,330.9019470214844,329.23193359375,326.4288024902344,330.5937194824219,333.39691162109375,333.9337158203125,331.6871643066406,321.4486999511719,323.3174743652344,324.8383483886719,329.8681335449219,332.2935485839844,335.3253479003906,346.02105712890625,340.2855224609375,336.0310974121094,331.56787109375,337.6811828613281,333.0191650390625,326.6375427246094,332.5718688964844,333.84423828125,333.0489807128906,338.5062255859375,335.971435546875,336.1304931640625,339.23187255859375,335.2060546875,329.84820556640625,330.48443603515625,335.1861572265625,340.6135559082031,343.17816162109375,343.66522216796875,357.343017578125,352.9593811035156,344.7984313964844,341.7169189453125,343.0489196777344,348.8838806152344,335.7527770996094,328.7448425292969,336.34918212890625,333.913818359375,334.331298828125,325.5440979003906,324.7091064453125,325.8224182128906,328.13848876953125,324.1027526855469,320.30560302734375,321.0013732910156,319.0928649902344,322.10479736328125,319.937744140625,319.1607971191406,315.6544494628906,315.2559814453125,320.6351013183594,321.21282958984375,325.73529052734375,318.73248291015625,321.7308349609375,322.44805908203125,327.13983154296875,327.51837158203125,326.49237060546875,327.38885498046875,332.2599182128906,331.5925598144531,328.634033203125,332.9771423339844,336.6329650878906,330.48681640625,334.76025390625,337.3900146484375,328.94281005859375,327.78729248046875,327.3788757324219,319.5293884277344,318.294189453125,315.783935546875,316.3118896484375,310.9327697753906,311.5802307128906,312.4269714355469,314.52880859375,320.5553894042969,312.17791748046875,317.72637939453125,318.12481689453125,325.9942932128906,328.54437255859375,327.11993408203125,331.13433837890625,329.87921142578125,326.4624938964844,331.3534851074219,330.77569580078125,328.833251953125,330.03857421875,325.4065856933594,328.04632568359375,329.25164794921875,339.3524475097656,326.6218566894531,328.534423828125,336.0054016113281,336.80230712890625,344.7315368652344,346.97283935546875,351.43548583984375,355.15106201171875,359.1356201171875,361.7952880859375,359.29498291015625,368.2402648925781,365.2618103027344,368.8379211425781,368.9876708984375,375.4756774902344,369.1673278808594,376.7433166503906,372.3813781738281,377.1525573730469,376.7333068847656,377.9111328125,381.9936218261719,378.15069580078125,378.2106018066406,373.8187255859375,368.4586486816406,371.8323669433594,368.1192321777344,370.2652893066406,373.53924560546875,370.6146240234375,373.68896484375,373.678955078125,365.2545471191406,370.04571533203125,371.9621276855469,372.571044921875,369.9358825683594,372.85052490234375,373.8885803222656,373.96844482421875,373.3795471191406,374.5872802734375,375.34588623046875,370.1854248046875,369.9159240722656,367.2608337402344,367.0711975097656,373.9983825683594,375.09637451171875,382.0634460449219,383.9200439453125,387.7529602050781,389.54962158203125,388.7510986328125,393.1429748535156,397.93414306640625,395.7781066894531,398.1636962890625,401.8169250488281,404.1226806640625,403.1844177246094,408.9637145996094,407.8358154296875,396.84613037109375,403.0346984863281,410.4609680175781,404.9012451171875,404.74151611328125,413.28570556640625,413.3456115722656,419.7737121582031,414.4934997558594,405.57000732421875,409.489990234375,406.55999755859375,404.05999755859375,402.7900085449219,402.17999267578125,411.6499938964844,410.3399963378906,407.5400085449219,407.4800109863281,407.7200012207031,413.6400146484375,415.5,414.9200134277344,402.6499938964844],\"yaxis\":\"y\",\"type\":\"scattergl\"}],                        {\"template\":{\"data\":{\"histogram2dcontour\":[{\"type\":\"histogram2dcontour\",\"colorbar\":{\"outlinewidth\":0,\"ticks\":\"\"},\"colorscale\":[[0.0,\"#0d0887\"],[0.1111111111111111,\"#46039f\"],[0.2222222222222222,\"#7201a8\"],[0.3333333333333333,\"#9c179e\"],[0.4444444444444444,\"#bd3786\"],[0.5555555555555556,\"#d8576b\"],[0.6666666666666666,\"#ed7953\"],[0.7777777777777778,\"#fb9f3a\"],[0.8888888888888888,\"#fdca26\"],[1.0,\"#f0f921\"]]}],\"choropleth\":[{\"type\":\"choropleth\",\"colorbar\":{\"outlinewidth\":0,\"ticks\":\"\"}}],\"histogram2d\":[{\"type\":\"histogram2d\",\"colorbar\":{\"outlinewidth\":0,\"ticks\":\"\"},\"colorscale\":[[0.0,\"#0d0887\"],[0.1111111111111111,\"#46039f\"],[0.2222222222222222,\"#7201a8\"],[0.3333333333333333,\"#9c179e\"],[0.4444444444444444,\"#bd3786\"],[0.5555555555555556,\"#d8576b\"],[0.6666666666666666,\"#ed7953\"],[0.7777777777777778,\"#fb9f3a\"],[0.8888888888888888,\"#fdca26\"],[1.0,\"#f0f921\"]]}],\"heatmap\":[{\"type\":\"heatmap\",\"colorbar\":{\"outlinewidth\":0,\"ticks\":\"\"},\"colorscale\":[[0.0,\"#0d0887\"],[0.1111111111111111,\"#46039f\"],[0.2222222222222222,\"#7201a8\"],[0.3333333333333333,\"#9c179e\"],[0.4444444444444444,\"#bd3786\"],[0.5555555555555556,\"#d8576b\"],[0.6666666666666666,\"#ed7953\"],[0.7777777777777778,\"#fb9f3a\"],[0.8888888888888888,\"#fdca26\"],[1.0,\"#f0f921\"]]}],\"heatmapgl\":[{\"type\":\"heatmapgl\",\"colorbar\":{\"outlinewidth\":0,\"ticks\":\"\"},\"colorscale\":[[0.0,\"#0d0887\"],[0.1111111111111111,\"#46039f\"],[0.2222222222222222,\"#7201a8\"],[0.3333333333333333,\"#9c179e\"],[0.4444444444444444,\"#bd3786\"],[0.5555555555555556,\"#d8576b\"],[0.6666666666666666,\"#ed7953\"],[0.7777777777777778,\"#fb9f3a\"],[0.8888888888888888,\"#fdca26\"],[1.0,\"#f0f921\"]]}],\"contourcarpet\":[{\"type\":\"contourcarpet\",\"colorbar\":{\"outlinewidth\":0,\"ticks\":\"\"}}],\"contour\":[{\"type\":\"contour\",\"colorbar\":{\"outlinewidth\":0,\"ticks\":\"\"},\"colorscale\":[[0.0,\"#0d0887\"],[0.1111111111111111,\"#46039f\"],[0.2222222222222222,\"#7201a8\"],[0.3333333333333333,\"#9c179e\"],[0.4444444444444444,\"#bd3786\"],[0.5555555555555556,\"#d8576b\"],[0.6666666666666666,\"#ed7953\"],[0.7777777777777778,\"#fb9f3a\"],[0.8888888888888888,\"#fdca26\"],[1.0,\"#f0f921\"]]}],\"surface\":[{\"type\":\"surface\",\"colorbar\":{\"outlinewidth\":0,\"ticks\":\"\"},\"colorscale\":[[0.0,\"#0d0887\"],[0.1111111111111111,\"#46039f\"],[0.2222222222222222,\"#7201a8\"],[0.3333333333333333,\"#9c179e\"],[0.4444444444444444,\"#bd3786\"],[0.5555555555555556,\"#d8576b\"],[0.6666666666666666,\"#ed7953\"],[0.7777777777777778,\"#fb9f3a\"],[0.8888888888888888,\"#fdca26\"],[1.0,\"#f0f921\"]]}],\"mesh3d\":[{\"type\":\"mesh3d\",\"colorbar\":{\"outlinewidth\":0,\"ticks\":\"\"}}],\"scatter\":[{\"fillpattern\":{\"fillmode\":\"overlay\",\"size\":10,\"solidity\":0.2},\"type\":\"scatter\"}],\"parcoords\":[{\"type\":\"parcoords\",\"line\":{\"colorbar\":{\"outlinewidth\":0,\"ticks\":\"\"}}}],\"scatterpolargl\":[{\"type\":\"scatterpolargl\",\"marker\":{\"colorbar\":{\"outlinewidth\":0,\"ticks\":\"\"}}}],\"bar\":[{\"error_x\":{\"color\":\"#2a3f5f\"},\"error_y\":{\"color\":\"#2a3f5f\"},\"marker\":{\"line\":{\"color\":\"#E5ECF6\",\"width\":0.5},\"pattern\":{\"fillmode\":\"overlay\",\"size\":10,\"solidity\":0.2}},\"type\":\"bar\"}],\"scattergeo\":[{\"type\":\"scattergeo\",\"marker\":{\"colorbar\":{\"outlinewidth\":0,\"ticks\":\"\"}}}],\"scatterpolar\":[{\"type\":\"scatterpolar\",\"marker\":{\"colorbar\":{\"outlinewidth\":0,\"ticks\":\"\"}}}],\"histogram\":[{\"marker\":{\"pattern\":{\"fillmode\":\"overlay\",\"size\":10,\"solidity\":0.2}},\"type\":\"histogram\"}],\"scattergl\":[{\"type\":\"scattergl\",\"marker\":{\"colorbar\":{\"outlinewidth\":0,\"ticks\":\"\"}}}],\"scatter3d\":[{\"type\":\"scatter3d\",\"line\":{\"colorbar\":{\"outlinewidth\":0,\"ticks\":\"\"}},\"marker\":{\"colorbar\":{\"outlinewidth\":0,\"ticks\":\"\"}}}],\"scattermapbox\":[{\"type\":\"scattermapbox\",\"marker\":{\"colorbar\":{\"outlinewidth\":0,\"ticks\":\"\"}}}],\"scatterternary\":[{\"type\":\"scatterternary\",\"marker\":{\"colorbar\":{\"outlinewidth\":0,\"ticks\":\"\"}}}],\"scattercarpet\":[{\"type\":\"scattercarpet\",\"marker\":{\"colorbar\":{\"outlinewidth\":0,\"ticks\":\"\"}}}],\"carpet\":[{\"aaxis\":{\"endlinecolor\":\"#2a3f5f\",\"gridcolor\":\"white\",\"linecolor\":\"white\",\"minorgridcolor\":\"white\",\"startlinecolor\":\"#2a3f5f\"},\"baxis\":{\"endlinecolor\":\"#2a3f5f\",\"gridcolor\":\"white\",\"linecolor\":\"white\",\"minorgridcolor\":\"white\",\"startlinecolor\":\"#2a3f5f\"},\"type\":\"carpet\"}],\"table\":[{\"cells\":{\"fill\":{\"color\":\"#EBF0F8\"},\"line\":{\"color\":\"white\"}},\"header\":{\"fill\":{\"color\":\"#C8D4E3\"},\"line\":{\"color\":\"white\"}},\"type\":\"table\"}],\"barpolar\":[{\"marker\":{\"line\":{\"color\":\"#E5ECF6\",\"width\":0.5},\"pattern\":{\"fillmode\":\"overlay\",\"size\":10,\"solidity\":0.2}},\"type\":\"barpolar\"}],\"pie\":[{\"automargin\":true,\"type\":\"pie\"}]},\"layout\":{\"autotypenumbers\":\"strict\",\"colorway\":[\"#636efa\",\"#EF553B\",\"#00cc96\",\"#ab63fa\",\"#FFA15A\",\"#19d3f3\",\"#FF6692\",\"#B6E880\",\"#FF97FF\",\"#FECB52\"],\"font\":{\"color\":\"#2a3f5f\"},\"hovermode\":\"closest\",\"hoverlabel\":{\"align\":\"left\"},\"paper_bgcolor\":\"white\",\"plot_bgcolor\":\"#E5ECF6\",\"polar\":{\"bgcolor\":\"#E5ECF6\",\"angularaxis\":{\"gridcolor\":\"white\",\"linecolor\":\"white\",\"ticks\":\"\"},\"radialaxis\":{\"gridcolor\":\"white\",\"linecolor\":\"white\",\"ticks\":\"\"}},\"ternary\":{\"bgcolor\":\"#E5ECF6\",\"aaxis\":{\"gridcolor\":\"white\",\"linecolor\":\"white\",\"ticks\":\"\"},\"baxis\":{\"gridcolor\":\"white\",\"linecolor\":\"white\",\"ticks\":\"\"},\"caxis\":{\"gridcolor\":\"white\",\"linecolor\":\"white\",\"ticks\":\"\"}},\"coloraxis\":{\"colorbar\":{\"outlinewidth\":0,\"ticks\":\"\"}},\"colorscale\":{\"sequential\":[[0.0,\"#0d0887\"],[0.1111111111111111,\"#46039f\"],[0.2222222222222222,\"#7201a8\"],[0.3333333333333333,\"#9c179e\"],[0.4444444444444444,\"#bd3786\"],[0.5555555555555556,\"#d8576b\"],[0.6666666666666666,\"#ed7953\"],[0.7777777777777778,\"#fb9f3a\"],[0.8888888888888888,\"#fdca26\"],[1.0,\"#f0f921\"]],\"sequentialminus\":[[0.0,\"#0d0887\"],[0.1111111111111111,\"#46039f\"],[0.2222222222222222,\"#7201a8\"],[0.3333333333333333,\"#9c179e\"],[0.4444444444444444,\"#bd3786\"],[0.5555555555555556,\"#d8576b\"],[0.6666666666666666,\"#ed7953\"],[0.7777777777777778,\"#fb9f3a\"],[0.8888888888888888,\"#fdca26\"],[1.0,\"#f0f921\"]],\"diverging\":[[0,\"#8e0152\"],[0.1,\"#c51b7d\"],[0.2,\"#de77ae\"],[0.3,\"#f1b6da\"],[0.4,\"#fde0ef\"],[0.5,\"#f7f7f7\"],[0.6,\"#e6f5d0\"],[0.7,\"#b8e186\"],[0.8,\"#7fbc41\"],[0.9,\"#4d9221\"],[1,\"#276419\"]]},\"xaxis\":{\"gridcolor\":\"white\",\"linecolor\":\"white\",\"ticks\":\"\",\"title\":{\"standoff\":15},\"zerolinecolor\":\"white\",\"automargin\":true,\"zerolinewidth\":2},\"yaxis\":{\"gridcolor\":\"white\",\"linecolor\":\"white\",\"ticks\":\"\",\"title\":{\"standoff\":15},\"zerolinecolor\":\"white\",\"automargin\":true,\"zerolinewidth\":2},\"scene\":{\"xaxis\":{\"backgroundcolor\":\"#E5ECF6\",\"gridcolor\":\"white\",\"linecolor\":\"white\",\"showbackground\":true,\"ticks\":\"\",\"zerolinecolor\":\"white\",\"gridwidth\":2},\"yaxis\":{\"backgroundcolor\":\"#E5ECF6\",\"gridcolor\":\"white\",\"linecolor\":\"white\",\"showbackground\":true,\"ticks\":\"\",\"zerolinecolor\":\"white\",\"gridwidth\":2},\"zaxis\":{\"backgroundcolor\":\"#E5ECF6\",\"gridcolor\":\"white\",\"linecolor\":\"white\",\"showbackground\":true,\"ticks\":\"\",\"zerolinecolor\":\"white\",\"gridwidth\":2}},\"shapedefaults\":{\"line\":{\"color\":\"#2a3f5f\"}},\"annotationdefaults\":{\"arrowcolor\":\"#2a3f5f\",\"arrowhead\":0,\"arrowwidth\":1},\"geo\":{\"bgcolor\":\"white\",\"landcolor\":\"#E5ECF6\",\"subunitcolor\":\"white\",\"showland\":true,\"showlakes\":true,\"lakecolor\":\"white\"},\"title\":{\"x\":0.05},\"mapbox\":{\"style\":\"light\"}}},\"xaxis\":{\"anchor\":\"y\",\"domain\":[0.0,1.0],\"title\":{\"text\":\"Date\"}},\"yaxis\":{\"anchor\":\"x\",\"domain\":[0.0,1.0],\"title\":{\"text\":\"Adjusted Close Price\"}},\"legend\":{\"tracegroupgap\":0},\"title\":{\"text\":\"MSFT Adjusted Close Price\"}},                        {\"responsive\": true}                    ).then(function(){\n",
              "                            \n",
              "var gd = document.getElementById('c6a1de94-f45a-4924-a572-e124fe7767c9');\n",
              "var x = new MutationObserver(function (mutations, observer) {{\n",
              "        var display = window.getComputedStyle(gd).display;\n",
              "        if (!display || display === 'none') {{\n",
              "            console.log([gd, 'removed!']);\n",
              "            Plotly.purge(gd);\n",
              "            observer.disconnect();\n",
              "        }}\n",
              "}});\n",
              "\n",
              "// Listen for the removal of the full notebook cells\n",
              "var notebookContainer = gd.closest('#notebook-container');\n",
              "if (notebookContainer) {{\n",
              "    x.observe(notebookContainer, {childList: true});\n",
              "}}\n",
              "\n",
              "// Listen for the clearing of the current output cell\n",
              "var outputEl = gd.closest('.output');\n",
              "if (outputEl) {{\n",
              "    x.observe(outputEl, {childList: true});\n",
              "}}\n",
              "\n",
              "                        })                };                            </script>        </div>\n",
              "</body>\n",
              "</html>"
            ]
          },
          "metadata": {}
        }
      ]
    },
    {
      "cell_type": "markdown",
      "metadata": {
        "id": "JRx-1K0jmdtf"
      },
      "source": [
        "## Implied Volatility"
      ]
    },
    {
      "cell_type": "markdown",
      "metadata": {
        "id": "qgddzFE-mu6E"
      },
      "source": [
        "Implied volatility is a measure used to estimate the degree of future price variability of a stock, based on the prices of its options. It reflects investors' predictions about the asset's potential movement but doesn't indicate the direction of the movement.<br>Data obtained from Nasdaq Data Link (formerly Quandl) using an API key."
      ]
    },
    {
      "cell_type": "code",
      "execution_count": null,
      "metadata": {
        "id": "kmQxag7eFKH0"
      },
      "outputs": [],
      "source": [
        "implied_volatility = pd.read_csv('msft_implied_volatility_raw.csv')\n",
        "implied_volatility['date'] = pd.to_datetime(implied_volatility['date'])\n",
        "implied_volatility.rename(columns={'date': 'Date'}, inplace=True)\n",
        "implied_volatility.set_index('Date', inplace=True)\n",
        "implied_volatility = implied_volatility.drop(columns = 'ticker')\n",
        "implied_volatility = implied_volatility.sort_values(by='Date', ascending=True)"
      ]
    },
    {
      "cell_type": "code",
      "source": [
        "merged_df = msft_df.merge(implied_volatility, on='Date', how='inner')\n",
        "fig = px.scatter(merged_df, x='ivmean30', y='Adj Close', title='30 Day Implied Volatility vs MSFT Adjusted Close Price', trendline=\"lowess\")\n",
        "fig.update_xaxes(title_text='IV Mean 30')\n",
        "fig.update_yaxes(title_text='MSFT Adjusted Close Price')\n",
        "\n",
        "fig.show()"
      ],
      "metadata": {
        "colab": {
          "base_uri": "https://localhost:8080/",
          "height": 542
        },
        "id": "HuhPJE9_tYBY",
        "outputId": "0a99a008-6c09-4b21-d6f6-d64eeca7a0c6"
      },
      "execution_count": null,
      "outputs": [
        {
          "output_type": "display_data",
          "data": {
            "text/html": [
              "<html>\n",
              "<head><meta charset=\"utf-8\" /></head>\n",
              "<body>\n",
              "    <div>            <script src=\"https://cdnjs.cloudflare.com/ajax/libs/mathjax/2.7.5/MathJax.js?config=TeX-AMS-MML_SVG\"></script><script type=\"text/javascript\">if (window.MathJax && window.MathJax.Hub && window.MathJax.Hub.Config) {window.MathJax.Hub.Config({SVG: {font: \"STIX-Web\"}});}</script>                <script type=\"text/javascript\">window.PlotlyConfig = {MathJaxConfig: 'local'};</script>\n",
              "        <script charset=\"utf-8\" src=\"https://cdn.plot.ly/plotly-2.24.1.min.js\"></script>                <div id=\"673b25c2-345a-48f0-b557-a8c5d8582e14\" class=\"plotly-graph-div\" style=\"height:525px; width:100%;\"></div>            <script type=\"text/javascript\">                                    window.PLOTLYENV=window.PLOTLYENV || {};                                    if (document.getElementById(\"673b25c2-345a-48f0-b557-a8c5d8582e14\")) {                    Plotly.newPlot(                        \"673b25c2-345a-48f0-b557-a8c5d8582e14\",                        [{\"hovertemplate\":\"ivmean30=%{x}\\u003cbr\\u003eAdj Close=%{y}\\u003cextra\\u003e\\u003c\\u002fextra\\u003e\",\"legendgroup\":\"\",\"marker\":{\"color\":\"#636efa\",\"symbol\":\"circle\"},\"mode\":\"markers\",\"name\":\"\",\"showlegend\":false,\"x\":[0.2061,0.2166,0.2231,0.2225,0.2102,0.2088,0.2202,0.215,0.2136,0.2156,0.2161,0.2164,0.2298,0.2284,0.2269,0.2356,0.2609,0.2408,0.2305,0.198,0.2265,0.2111,0.2159,0.2382,0.242,0.2465,0.2624,0.2933,0.2684,0.2584,0.24,0.2364,0.2266,0.2508,0.2908,0.342,0.3616,0.3456,0.4417,0.501,0.511,0.4386,0.3634,0.4802,0.5242,0.5961,0.5101,0.5815,0.754,0.4586,0.888,0.7361,0.8102,0.7396,0.6524,0.6127,0.5217,0.6136,0.5243,0.574,0.5108,0.5259,0.5549,0.5112,0.4995,0.4232,0.4244,0.4159,0.4084,0.4074,0.3713,0.4052,0.425,0.4057,0.421,0.4754,0.4294,0.4249,0.3985,0.385,0.38,0.37,0.3238,0.3453,0.3436,0.3128,0.3058,0.2972,0.2724,0.2676,0.2796,0.3368,0.3339,0.3056,0.275,0.2758,0.2727,0.2802,0.2724,0.277,0.2772,0.2796,0.2482,0.2616,0.2508,0.2458,0.256,0.2196,0.2523,0.2702,0.2722,0.3516,0.3493,0.3344,0.3252,0.3237,0.3094,0.3223,0.3171,0.3216,0.3375,0.3437,0.3661,0.357,0.3238,0.3195,0.3103,0.3179,0.3345,0.3362,0.3675,0.3601,0.3881,0.4045,0.4013,0.3974,0.366,0.3605,0.374,0.3474,0.3423,0.316,0.3012,0.2953,0.2837,0.2866,0.2948,0.3412,0.3249,0.3302,0.322,0.3329,0.3351,0.3375,0.3058,0.3134,0.3088,0.2918,0.2792,0.2773,0.2738,0.283,0.2932,0.2932,0.3248,0.3965,0.3876,0.3667,0.3874,0.3792,0.4674,0.4744,0.4357,0.3906,0.3821,0.3677,0.3338,0.3304,0.3569,0.3634,0.3496,0.3727,0.3556,0.3758,0.378,0.3372,0.3282,0.3308,0.3392,0.3429,0.3705,0.369,0.3842,0.3692,0.3597,0.338,0.3408,0.3258,0.3516,0.3565,0.3483,0.3833,0.3744,0.3764,0.3753,0.3614,0.401,0.3813,0.4031,0.3637,0.3794,0.38,0.3424,0.3016,0.2946,0.275,0.2648,0.2982,0.2777,0.2886,0.2682,0.2533,0.2566,0.2615,0.2522,0.2518,0.2498,0.2433,0.2418,0.2445,0.2554,0.2582,0.2574,0.2574,0.2445,0.2622,0.2572,0.2719,0.2707,0.2662,0.2666,0.2689,0.2711,0.2622,0.2662,0.2606,0.2445,0.2598,0.2644,0.2802,0.2861,0.2874,0.2885,0.3184,0.308,0.3138,0.2908,0.2825,0.3061,0.296,0.2805,0.2962,0.2915,0.2802,0.2927,0.2973,0.3059,0.3105,0.3382,0.3515,0.2998,0.3346,0.2992,0.2738,0.266,0.2481,0.241,0.246,0.2502,0.2464,0.2432,0.2271,0.2418,0.2394,0.2384,0.2376,0.2583,0.2624,0.2752,0.3359,0.2877,0.2415,0.2625,0.299,0.2968,0.2789,0.2854,0.2639,0.2654,0.2503,0.2558,0.2499,0.2385,0.2416,0.2742,0.2465,0.2226,0.2337,0.2436,0.2573,0.2358,0.2619,0.2575,0.2554,0.238,0.2546,0.2418,0.242,0.2248,0.2372,0.243,0.2365,0.2455,0.235,0.2301,0.2474,0.2577,0.2436,0.2524,0.2281,0.2304,0.248,0.2184,0.2045,0.1958,0.2002,0.2146,0.207,0.204,0.1932,0.2172,0.236,0.2826,0.2486,0.2118,0.2305,0.2298,0.2376,0.219,0.2148,0.1965,0.1986,0.1905,0.2166,0.188,0.1952,0.1906,0.1964,0.186,0.1801,0.1847,0.1846,0.171,0.1623,0.1682,0.1765,0.1896,0.1817,0.1996,0.2057,0.2084,0.2056,0.2018,0.2026,0.2058,0.2047,0.2052,0.1976,0.2002,0.2122,0.2183,0.2348,0.211,0.2196,0.2187,0.2086,0.2117,0.215,0.2368,0.2152,0.2044,0.2088,0.2055,0.2108,0.2206,0.187,0.1716,0.172,0.1694,0.1682,0.1734,0.1655,0.1589,0.164,0.1696,0.1609,0.1598,0.1579,0.1648,0.1795,0.1872,0.198,0.1876,0.173,0.1732,0.1703,0.181,0.1664,0.1625,0.173,0.1658,0.1657,0.162,0.1808,0.181,0.188,0.2006,0.1879,0.19,0.18,0.1776,0.2008,0.246,0.2394,0.219,0.2104,0.1962,0.2192,0.2756,0.281,0.2937,0.2488,0.2889,0.2632,0.2554,0.2428,0.2334,0.2354,0.2426,0.2278,0.2082,0.1924,0.2037,0.2007,0.2022,0.1952,0.2062,0.2088,0.2071,0.1772,0.1802,0.1879,0.1891,0.178,0.1798,0.183,0.1896,0.1872,0.1955,0.204,0.188,0.1832,0.1906,0.1843,0.1862,0.1972,0.187,0.2075,0.2172,0.2108,0.2687,0.2241,0.2592,0.2848,0.2556,0.3239,0.2663,0.2272,0.2138,0.2314,0.2166,0.2378,0.2653,0.255,0.2684,0.2713,0.2752,0.2394,0.2244,0.2176,0.2302,0.2414,0.2297,0.243,0.2381,0.2408,0.2676,0.3095,0.2988,0.3005,0.3016,0.2874,0.268,0.3278,0.2915,0.3338,0.33,0.3385,0.397,0.408,0.4859,0.3686,0.3549,0.307,0.2967,0.2606,0.2482,0.3218,0.2864,0.2866,0.2605,0.238,0.279,0.3275,0.3198,0.285,0.2666,0.3134,0.3148,0.3259,0.3451,0.3222,0.2956,0.3003,0.3518,0.3145,0.3233,0.3405,0.3916,0.3928,0.3359,0.339,0.3536,0.3655,0.3339,0.297,0.2716,0.2482,0.264,0.2441,0.2669,0.2566,0.259,0.2615,0.2526,0.2552,0.2774,0.275,0.2549,0.2648,0.3129,0.2972,0.3016,0.3534,0.3353,0.3171,0.3306,0.3351,0.322,0.3324,0.3683,0.4132,0.3949,0.4466,0.352,0.3166,0.3624,0.3401,0.3352,0.2836,0.3601,0.3533,0.4154,0.3882,0.4104,0.415,0.3562,0.3506,0.3127,0.3666,0.3478,0.3405,0.3298,0.3476,0.3302,0.3149,0.2835,0.3045,0.3062,0.288,0.2978,0.3002,0.2808,0.2779,0.3008,0.327,0.3896,0.357,0.3292,0.3671,0.3368,0.3294,0.3302,0.3264,0.302,0.3217,0.358,0.3426,0.3608,0.3318,0.349,0.3424,0.3294,0.3156,0.3351,0.3631,0.3511,0.3476,0.3296,0.3463,0.3314,0.3297,0.3196,0.3278,0.3338,0.3612,0.2685,0.2568,0.2428,0.254,0.2684,0.2482,0.242,0.2324,0.2478,0.252,0.2276,0.2298,0.2216,0.2176,0.2177,0.2295,0.2232,0.2348,0.2695,0.2686,0.2581,0.2497,0.2866,0.2998,0.3028,0.3003,0.3025,0.3028,0.3154,0.286,0.2878,0.2652,0.2719,0.3084,0.3103,0.3127,0.3103,0.3106,0.3256,0.3412,0.3248,0.3514,0.379,0.3916,0.3733,0.3892,0.3998,0.3661,0.3453,0.3632,0.3704,0.3889,0.4138,0.4223,0.4216,0.3995,0.4043,0.3964,0.3954,0.3935,0.3895,0.3786,0.3889,0.3708,0.3222,0.3399,0.3122,0.3279,0.3258,0.351,0.3305,0.3164,0.3191,0.3223,0.34,0.304,0.2958,0.3163,0.3116,0.3099,0.303,0.2949,0.2905,0.2762,0.2732,0.2666,0.2938,0.3,0.2657,0.265,0.2524,0.2779,0.2976,0.305,0.2932,0.2912,0.3136,0.289,0.2704,0.2962,0.2958,0.2914,0.2917,0.2832,0.306,0.3102,0.3436,0.3532,0.3365,0.3414,0.3612,0.3707,0.3785,0.3516,0.3514,0.3418,0.3406,0.3228,0.3104,0.3206,0.3256,0.3346,0.3046,0.309,0.3067,0.259,0.2473,0.2424,0.2593,0.2506,0.2376,0.2568,0.2658,0.259,0.2592,0.2828,0.302,0.2864,0.2957,0.2754,0.2652,0.2791,0.2758,0.3082,0.2986,0.2793,0.2882,0.2806,0.287,0.2817,0.2759,0.2586,0.2684,0.2669,0.271,0.2871,0.3118,0.321,0.2851,0.3118,0.2792,0.2923,0.2903,0.2725,0.2888,0.2902,0.2915,0.2962,0.3076,0.2837,0.2936,0.2784,0.2887,0.2862,0.3034,0.2877,0.2968,0.298,0.3013,0.2816,0.277,0.275,0.2742,0.2752,0.2828,0.272,0.2803,0.2952,0.2302,0.2156,0.2051,0.2112,0.2244,0.2241,0.2362,0.2084,0.2044,0.2134,0.197,0.2169,0.2012,0.2105,0.2077,0.1924,0.1854,0.1894,0.1903,0.2062,0.2312,0.2246,0.2244,0.2245,0.2229,0.2113,0.1982,0.1836,0.1854,0.2011,0.1908,0.1896,0.1993,0.2039,0.2064,0.2206,0.2163,0.2218,0.2265,0.2219,0.2344,0.2533,0.2672,0.2704,0.265,0.2676,0.2708,0.2774,0.2842,0.2828,0.2988,0.3062,0.2929,0.2978,0.2904,0.3032,0.3192,0.3175,0.3223,0.3209,0.3141,0.3368,0.2411,0.2466,0.2324,0.2448,0.2368,0.2496,0.2537,0.2481,0.2373,0.252,0.2474,0.2424,0.2422,0.2446,0.2513,0.2524,0.2526,0.2466,0.2492,0.2466,0.2503,0.2587,0.2413,0.2392,0.2167,0.2156,0.2107,0.2015,0.2161,0.2098,0.2267,0.2054,0.2012,0.2105,0.2027,0.1946,0.2026,0.2087,0.2094,0.232,0.257,0.2544,0.2759,0.3031,0.2907,0.2934,0.2843,0.2853,0.3228,0.3064,0.2892,0.2736,0.2908,0.286,0.2694,0.2778,0.2921,0.2772,0.2749,0.3004,0.3078,0.3124,0.3168,0.2778,0.2525,0.2642,0.2652,0.256,0.2404,0.2297,0.2073,0.1992,0.1942,0.1994,0.1958,0.1996,0.1974,0.2008,0.198,0.195,0.1961,0.1993,0.2039,0.2031,0.1844,0.1807,0.1799,0.1802,0.1835,0.1772,0.1784,0.1927,0.1939,0.193,0.1911,0.179,0.1877,0.184,0.1896,0.1972,0.1848,0.1908,0.1914,0.211,0.2147,0.2083,0.2514,0.2388,0.253,0.2499,0.2707,0.2701,0.2721,0.2643,0.2608,0.2688,0.2535,0.2679,0.258,0.2638,0.2672,0.2587,0.2487,0.2612,0.2534,0.2604,0.2658,0.2613,0.2648,0.2782,0.2098,0.1884,0.185,0.1966,0.1829,0.1798,0.1815,0.1804,0.1966,0.2016,0.1926,0.1966,0.1962,0.2039,0.2057,0.1942,0.1889,0.192,0.1882,0.189,0.1838,0.1816,0.191,0.2112],\"xaxis\":\"x\",\"y\":[154.4938507080078,152.57012939453125,152.96446228027344,151.56979370117188,153.9840545654297,155.9077911376953,155.18637084960938,157.05235290527344,155.9462432861328,156.95620727539062,159.8321533203125,160.7266845703125,160.14956665039062,159.38003540039062,160.36117553710938,158.74522399902344,156.09054565429688,159.14923095703125,161.6307830810547,166.19003295898438,163.73728942871094,167.72903442382812,173.25010681152344,173.0384979248047,176.62620544433594,176.8762969970703,181.5028533935547,177.4053192138672,177.6650390625,176.70315551757812,178.2805633544922,180.08888244628906,180.62904357910156,177.87057495117188,172.2476348876953,164.82110595703125,162.10122680664062,164.12667846679688,152.56246948242188,156.25645446777344,166.65357971191406,158.66766357421875,164.4931640625,160.3651580810547,155.83204650878906,145.2709197998047,155.20513916015625,148.17410278320312,134.1214599609375,153.1894073486328,130.6107635498047,141.36474609375,135.41390991210938,137.64187622070312,132.4722137451172,131.15086364746094,143.07196044921875,141.70233154296875,150.5659637451172,144.38360595703125,154.53965759277344,152.10916137695312,146.70803833007812,149.74612426757812,148.36692810058594,159.40066528320312,157.68389892578125,159.26564025878906,159.2753143310547,159.63211059570312,167.53131103515625,165.77593994140625,170.75270080566406,172.25726318359375,168.84295654296875,161.86013793945312,167.357666015625,165.33226013183594,168.35108947753906,167.86888122558594,163.7794189453125,171.12884521484375,172.8456268310547,168.3704071044922,172.48876953125,174.340576171875,176.0573272705078,177.07969665527344,178.12136840820312,180.10821533203125,176.0283966064453,173.36643981933594,174.1187286376953,176.65536499023438,178.34323120117188,177.10865783691406,179.56527709960938,177.40847778320312,177.48583984375,175.6095428466797,175.84164428710938,175.4451141357422,177.234375,176.8281707763672,178.83990478515625,179.27511596679688,176.9152069091797,181.05470275878906,182.1766357421875,183.56936645507812,190.3782501220703,180.1552276611328,181.5770263671875,182.7375946044922,187.21560668945312,187.8635711669922,189.87530517578125,188.74374389648438,193.98580932617188,195.28182983398438,191.3454132080078,193.7633514404297,189.88499450683594,191.92572021484375,196.8292694091797,197.98025512695312,199.48902893066406,203.78326416015625,201.41368103027344,205.84335327148438,207.28443908691406,206.65576171875,200.27244567871094,201.5104217529297,201.21058654785156,197.22581481933594,196.21998596191406,204.65374755859375,201.89730834960938,204.79879760742188,195.89112854003906,194.6918487548828,197.1581268310547,195.38818359375,197.36123657226562,197.2064971923828,198.28004455566406,209.43154907226562,206.28826904296875,205.94973754882812,209.247802734375,205.5048370361328,201.41368103027344,196.70352172851562,202.32286071777344,201.8489532470703,202.04237365722656,203.37705993652344,204.54734802246094,203.30638122558594,208.03758239746094,206.52513122558594,207.17471313476562,209.86993408203125,214.40724182128906,219.67172241210938,221.9306640625,218.65374755859375,220.34066772460938,224.58709716796875,210.67465209960938,207.71762084960938,196.48104858398438,204.84788513183594,199.10836791992188,197.8092498779297,199.1471710205078,202.4143829345703,198.79812622070312,196.723388671875,194.2801971435547,196.3647003173828,201.0958709716797,194.47415161132812,196.99484252929688,201.48367309570312,203.0542755126953,200.94073486328125,203.9171600341797,205.98223876953125,199.90338134765625,203.9656524658203,199.63189697265625,203.4324188232422,204.15953063964844,209.2300567626953,214.64964294433594,216.06512451171875,214.12611389160156,212.96267700195312,212.96267700195312,207.6885528564453,208.1054229736328,208.25086975097656,208.33815002441406,209.6372833251953,203.67478942871094,206.7481231689453,196.5003662109375,198.4781951904297,196.29681396484375,196.1610565185547,200.1360626220703,209.79237365722656,216.4820098876953,216.8988800048828,211.73141479492188,204.576416015625,209.94749450683594,208.871337890625,209.90869140625,210.60678100585938,207.9212188720703,205.1800537109375,206.4825897216797,204.50933837890625,204.23716735839844,207.88235473632812,207.89208984375,209.21405029296875,208.0865020751953,210.1666717529297,209.3501434326172,208.25172424316406,208.36837768554688,208.3003387451172,209.97225952148438,205.87989807128906,204.6356964111328,207.2991180419922,208.2128448486328,208.1448211669922,213.15086364746094,213.28692626953125,212.4801483154297,216.3683624267578,217.6806182861328,214.84225463867188,216.52391052246094,218.67210388183594,217.8847198486328,215.4837646484375,216.2030792236328,211.60531616210938,211.8094482421875,206.31735229492188,212.18850708007812,213.48135375976562,211.41090393066406,208.9224395751953,210.29302978515625,207.06581115722656,206.70619201660156,210.39022827148438,218.0694122314453,218.68182373046875,219.6344451904297,223.11436462402344,225.8361053466797,226.39016723632812,232.25161743164062,225.4764404296875,232.95150756835938,232.81541442871094,236.20790100097656,235.2455291748047,235.4302215576172,235.69265747070312,236.9563446044922,236.03289794921875,237.6562042236328,238.1422119140625,236.88829040527344,237.92100524902344,237.52157592773438,234.77406311035156,228.48013305664062,227.27207946777344,228.51918029785156,223.10211181640625,226.40496826171875,230.8477325439453,227.85667419433594,221.7089080810547,220.9001922607422,225.64500427246094,221.5432586669922,227.76895141601562,226.4439239501953,231.03280639648438,229.68832397460938,228.77244567871094,231.597900390625,230.9451141357422,224.7876434326172,224.42718505859375,229.92213439941406,231.4712371826172,229.40574645996094,226.36595153808594,230.39952087402344,229.19142150878906,225.8885955810547,229.70779418945312,236.11862182617188,242.6658172607422,241.48692321777344,243.47445678710938,246.73831176757812,249.27145385742188,249.32994079589844,251.84359741210938,249.0181884765625,252.82763671875,254.0357208251953,252.08712768554688,251.61952209472656,253.8798370361328,250.55752563476562,254.4351806640625,254.82496643066406,255.234130859375,248.01466369628906,246.01734924316406,245.69583129882812,245.3840789794922,241.4187469482422,240.13267517089844,243.30880737304688,245.96864318847656,240.82440185546875,239.89881896972656,232.854736328125,236.78109741210938,241.7694854736328,238.87582397460938,236.829833984375,237.41575622558594,240.6968994140625,239.4176483154297,244.8960418701172,245.81396484375,245.58937072753906,243.4605255126953,243.82183837890625,241.5953369140625,241.49769592285156,239.94497680664062,244.90576171875,247.8549041748047,246.64404296875,247.64012145996094,251.2044677734375,251.8392333984375,253.79225158691406,252.29815673828125,251.34117126464844,254.7786102294922,253.34310913085938,256.468017578125,259.2804260253906,259.0460510253906,260.4327392578125,258.8019104003906,262.41510009765625,265.0321960449219,264.54400634765625,265.2275085449219,271.13555908203125,271.1453552246094,273.3620910644531,270.9109802246094,271.4187927246094,270.8133544921875,274.3874206542969,275.881591796875,274.4363098144531,274.162841796875,270.5106201171875,272.766357421875,274.7975769042969,279.4263610839844,282.8735656738281,282.26812744140625,279.8169860839844,279.5045166015625,279.7779235839844,278.2252502441406,278.1373596191406,280.3833923339844,279.7876892089844,282.7270812988281,282.6684875488281,281.5649719238281,279.7193603515625,280.2174072265625,283.01031494140625,285.9789733886719,287.6878967285156,286.20355224609375,284.4522399902344,290.36181640625,297.78790283203125,298.07159423828125,296.08544921875,295.4886474609375,292.6316223144531,293.248046875,297.0345764160156,295.36151123046875,295.3125,294.6471862792969,294.637451171875,293.69818115234375,293.7275390625,290.8313903808594,289.3246765136719,290.5769958496094,293.3166198730469,298.2379150390625,298.62933349609375,293.39483642578125,287.9451599121094,288.434326171875,292.1327209472656,293.091552734375,292.8860778808594,287.8179626464844,277.3978576660156,277.86749267578125,275.83245849609375,282.8573913574219,276.99676513671875,282.5247497558594,286.78082275390625,288.4832763671875,288.4832763671875,287.8766174316406,286.5557861328125,289.9117126464844,296.2126770019531,297.64111328125,300.6546325683594,301.5743408203125,300.7720642089844,304.0497131347656,302.4842529296875,301.4765319824219,303.41375732421875,316.1917724609375,317.34625244140625,324.4592590332031,322.2578430175781,325.9366455078125,326.787841796875,329.1751708984375,328.8033752441406,329.71331787109375,328.69580078125,323.65692138671875,325.2518005371094,329.4491271972656,328.8132019042969,332.1789245605469,332.4043273925781,334.5117492675781,336.3152770996094,333.1003112792969,330.9928283691406,331.2182922363281,323.1512451171875,329.96368408203125,324.0432434082031,323.5433044433594,322.9650573730469,316.6133728027344,319.73040771484375,328.2874755859375,328.3365478515625,326.5035400390625,335.75665283203125,332.67877197265625,321.8377990722656,328.02288818359375,318.4659729003906,317.3876953125,313.5747985839844,320.8086242675781,326.6015625,328.06207275390625,335.66839599609375,334.4921569824219,335.1783142089844,332.60040283203125,329.65972900390625,328.1208801269531,322.4945983886719,310.11468505859375,307.6641845703125,307.821044921875,308.0464172363281,308.7424011230469,311.96722412109375,298.76397705078125,304.0570373535156,296.6565246582031,297.32305908203125,295.62738037109375,290.167724609375,290.5008850097656,282.7769470214844,290.8341979980469,293.90216064453125,302.155517578125,304.8216247558594,302.6455993652344,307.25250244140625,295.2842712402344,299.8813781738281,294.990234375,298.52874755859375,305.0470886230469,296.39190673828125,289.197265625,289.1580505371094,294.519775390625,294.1759948730469,285.5618896484375,282.8116455078125,282.6053466796875,275.28778076171875,289.353271484375,292.0248718261719,293.47857666015625,289.7068786621094,294.8536682128906,290.65960693359375,284.70733642578125,273.9520263671875,270.9463806152344,283.3714904785156,280.51324462890625,275.09130859375,271.5259094238281,282.04547119140625,289.15679931640625,289.9720458984375,295.0893859863281,293.84197998046875,298.6548767089844,294.1661682128906,298.6942443847656,298.28167724609375,305.1769104003906,309.80316162109375,308.2806396484375,302.829345703125,303.91961669921875,309.3709716796875,305.3536682128906,294.1759948730469,296.01275634765625,291.69091796875,280.1890869140625,277.04595947265625,282.5071105957031,274.8555908203125,275.53338623046875,280.2283630371094,281.2695617675781,275.8182067871094,269.1587219238281,275.72979736328125,265.4164733886719,278.18536376953125,284.48138427734375,272.586669921875,279.41314697265625,276.7709655761719,284.8251953125,272.4197082519531,269.8463134765625,259.876708984375,264.709228515625,255.91831970214844,250.810791015625,256.4782409667969,256.8514404296875,262.076904296875,250.14463806152344,249.2191925048828,248.64816284179688,256.61285400390625,255.59881591796875,258.4538879394531,261.781494140625,269.0078430175781,267.6590881347656,268.2005615234375,270.3270568847656,265.8377380371094,264.58740234375,268.27935791015625,266.22174072265625,260.68878173828125,249.07150268554688,238.5076904296875,240.7031707763672,247.86056518554688,241.17572021484375,243.814208984375,249.80990600585938,249.20933532714844,254.85055541992188,263.5537109375,260.7872314453125,252.5074462890625,256.2289123535156,252.85198974609375,255.5594482421875,258.7787780761719,262.08673095703125,264.2427978515625,263.5142517089844,260.4130859375,249.740966796875,248.80567932128906,250.14463806152344,252.74375915527344,250.31199645996094,255.51019287109375,258.207763671875,260.7379455566406,256.3273620605469,254.821044921875,247.99835205078125,264.5775451660156,272.1287536621094,276.3916931152344,273.7039489746094,270.56341552734375,278.09490966796875,279.2566223144531,278.5280456542969,275.97821044921875,277.927490234375,284.6812744140625,282.5743713378906,287.3887023925781,288.92449951171875,288.17626953125,287.4166259765625,286.2820129394531,282.3158874511719,274.0284118652344,272.7359924316406,272.0947265625,275.1136779785156,264.4978942871094,261.67620849609375,259.44647216796875,257.9665832519531,256.910888671875,252.62904357910156,249.85667419433594,254.6318817138672,255.0561065673828,260.9164733886719,263.0771789550781,248.61358642578125,248.8404998779297,242.0921630859375,241.46072387695312,241.24368286132812,239.20140075683594,235.74830627441406,237.7510986328125,234.7321014404297,234.2683868408203,233.2423553466797,237.83990478515625,234.31773376464844,229.77935791015625,237.5143280029297,245.54525756835938,245.8609619140625,243.48326110839844,231.10142517089844,226.17828369140625,222.38973999023438,222.7251739501953,231.10142517089844,225.49752807617188,234.34735107421875,235.30433654785156,233.31141662597656,232.98582458496094,238.87583923339844,243.93711853027344,247.30140686035156,228.2205352783203,223.71177673339844,232.70956420898438,229.01968383789062,225.11276245117188,217.15087890625,211.37925720214844,218.423583984375,224.81678771972656,225.8033905029297,221.5017852783203,239.72430419921875,243.79896545410156,238.3134765625,238.72784423828125,239.16317749023438,239.11370849609375,238.65858459472656,239.4797821044922,242.42813110351562,244.9510498046875,244.86199951171875,239.19285583496094,237.77804565429688,252.4307861328125,251.9855499267578,252.3120574951172,247.543212890625,242.51715087890625,241.77511596679688,244.77296447753906,242.81396484375,249.8286895751953,254.19187927246094,254.4887237548828,246.36585998535156,242.09173583984375,237.89675903320312,239.232421875,241.83447265625,235.6607666015625,236.19500732421875,234.44381713867188,232.0396270751953,238.4508056640625,237.27345275878906,237.0360107421875,226.66729736328125,219.9493865966797,222.5415496826172,224.7082977294922,226.41993713378906,233.26646423339844,235.9773712158203,236.68971252441406,237.79783630371094,233.3060302734375,229.46722412109375,237.66920471191406,240.00413513183594,239.46986389160156,238.0550537109375,245.36659240722656,245.52488708496094,240.1327667236328,245.17860412597656,250.06614685058594,261.79034423828125,255.60667419433594,254.04347229003906,264.7189025878906,263.8977355957031,260.8207092285156,260.3062438964844,268.43896484375,269.27996826171875,267.12762451171875,260.0159606933594,255.95925903320312,250.61314392089844,249.46258544921875,252.696044921875,247.1912384033203,248.1235809326172,247.38958740234375,244.26524353027344,249.0658416748047,253.21180725097656,254.77896118164062,252.0811004638672,251.63475036621094,250.26600646972656,246.56634521484375,251.8529510498047,258.66705322265625,263.2791748046875,273.9516296386719,277.1553039550781,270.0138854980469,271.5513000488281,270.07342529296875,275.39971923828125,278.2860412597656,274.1301574707031,272.9895324707031,278.2265319824219,281.7377014160156,285.95306396484375,284.891845703125,284.8421936035156,282.0252990722656,289.22625732421875,287.03424072265625,280.5276184082031,281.1822509765625,287.4805603027344,283.8106689453125,286.4490051269531,286.02252197265625,286.10186767578125,283.7808837890625,283.43377685546875,279.47625732421875,273.1779479980469,292.96551513671875,302.3485107421875,304.7587585449219,303.0726013183594,302.923828125,301.9220275878906,302.923828125,308.1211853027344,306.1374206542969,304.5008544921875,309.76763916015625,307.5855407714844,306.454833984375,306.94085693359375,309.2023010253906,312.1247253417969,316.61773681640625,316.43878173828125,319.2618408203125,313.377197265625,311.9756164550781,323.9735107421875,330.9019470214844,329.23193359375,326.4288024902344,330.5937194824219,333.39691162109375,333.9337158203125,331.6871643066406,321.4486999511719,323.3174743652344,324.8383483886719,329.8681335449219,332.2935485839844,335.3253479003906,346.02105712890625,340.2855224609375,336.0310974121094,331.56787109375,337.6811828613281,333.0191650390625,326.6375427246094,332.5718688964844,333.84423828125,333.0489807128906,338.5062255859375,335.971435546875,336.1304931640625,339.23187255859375,335.2060546875,329.84820556640625,330.48443603515625,335.1861572265625,340.6135559082031,343.17816162109375,343.66522216796875,357.343017578125,352.9593811035156,344.7984313964844,341.7169189453125,343.0489196777344,348.8838806152344,335.7527770996094,328.7448425292969,336.34918212890625,333.913818359375,334.331298828125,325.5440979003906,324.7091064453125,325.8224182128906,328.13848876953125,324.1027526855469,320.30560302734375,321.0013732910156,319.0928649902344,322.10479736328125,319.937744140625,319.1607971191406,315.6544494628906,315.2559814453125,320.6351013183594,321.21282958984375,325.73529052734375,318.73248291015625,321.7308349609375,322.44805908203125,327.13983154296875,327.51837158203125,326.49237060546875,327.38885498046875,332.2599182128906,331.5925598144531,328.634033203125,332.9771423339844,336.6329650878906,330.48681640625,334.76025390625,337.3900146484375,328.94281005859375,327.78729248046875,327.3788757324219,319.5293884277344,318.294189453125,315.783935546875,316.3118896484375,310.9327697753906,311.5802307128906,312.4269714355469,314.52880859375,320.5553894042969,312.17791748046875,317.72637939453125,318.12481689453125,325.9942932128906,328.54437255859375,327.11993408203125,331.13433837890625,329.87921142578125,326.4624938964844,331.3534851074219,330.77569580078125,328.833251953125,330.03857421875,325.4065856933594,328.04632568359375,329.25164794921875,339.3524475097656,326.6218566894531,328.534423828125,336.0054016113281,336.80230712890625,344.7315368652344,346.97283935546875,351.43548583984375,355.15106201171875,359.1356201171875,361.7952880859375,359.29498291015625,368.2402648925781,365.2618103027344,368.8379211425781,368.9876708984375,375.4756774902344,369.1673278808594,376.7433166503906,372.3813781738281,377.1525573730469,376.7333068847656,377.9111328125,381.9936218261719,378.15069580078125,378.2106018066406,373.8187255859375,368.4586486816406,371.8323669433594,368.1192321777344,370.2652893066406,373.53924560546875,370.6146240234375,373.68896484375,373.678955078125,365.2545471191406,370.04571533203125,371.9621276855469,372.571044921875,369.9358825683594,372.85052490234375,373.8885803222656,373.96844482421875,373.3795471191406,374.5872802734375,375.34588623046875,370.1854248046875,369.9159240722656,367.2608337402344,367.0711975097656,373.9983825683594,375.09637451171875,382.0634460449219,383.9200439453125,387.7529602050781,389.54962158203125,388.7510986328125,393.1429748535156,397.93414306640625,395.7781066894531,398.1636962890625,401.8169250488281,404.1226806640625,403.1844177246094,408.9637145996094,407.8358154296875,396.84613037109375,403.0346984863281,410.4609680175781,404.9012451171875,404.74151611328125,413.28570556640625,413.3456115722656,419.7737121582031,414.4934997558594,405.57000732421875,409.489990234375,406.55999755859375,404.05999755859375,402.7900085449219,402.17999267578125,411.6499938964844,410.3399963378906,407.5400085449219,407.4800109863281,407.7200012207031,413.6400146484375,415.5,414.9200134277344,402.6499938964844],\"yaxis\":\"y\",\"type\":\"scattergl\"},{\"hovertemplate\":\"\\u003cb\\u003eLOWESS trendline\\u003c\\u002fb\\u003e\\u003cbr\\u003e\\u003cbr\\u003eivmean30=%{x}\\u003cbr\\u003eAdj Close=%{y} \\u003cb\\u003e(trend)\\u003c\\u002fb\\u003e\\u003cextra\\u003e\\u003c\\u002fextra\\u003e\",\"legendgroup\":\"\",\"marker\":{\"color\":\"#636efa\",\"symbol\":\"circle\"},\"mode\":\"lines\",\"name\":\"\",\"showlegend\":false,\"x\":[0.1579,0.1589,0.1598,0.1609,0.162,0.1623,0.1625,0.164,0.1648,0.1655,0.1657,0.1658,0.1664,0.1682,0.1682,0.1694,0.1696,0.1703,0.171,0.1716,0.172,0.173,0.173,0.1732,0.1734,0.1765,0.1772,0.1772,0.1776,0.178,0.1784,0.179,0.1795,0.1798,0.1798,0.1799,0.18,0.1801,0.1802,0.1802,0.1804,0.1807,0.1808,0.181,0.181,0.1815,0.1816,0.1817,0.1829,0.183,0.1832,0.1835,0.1836,0.1838,0.184,0.1843,0.1844,0.1846,0.1847,0.1848,0.185,0.1854,0.1854,0.186,0.1862,0.187,0.187,0.1872,0.1872,0.1876,0.1877,0.1879,0.1879,0.188,0.188,0.188,0.1882,0.1884,0.1889,0.189,0.1891,0.1894,0.1896,0.1896,0.1896,0.1896,0.19,0.1903,0.1905,0.1906,0.1906,0.1908,0.1908,0.191,0.1911,0.1914,0.192,0.1924,0.1924,0.1926,0.1927,0.193,0.1932,0.1939,0.1942,0.1942,0.1946,0.195,0.1952,0.1952,0.1955,0.1958,0.1958,0.1961,0.1962,0.1962,0.1964,0.1965,0.1966,0.1966,0.1966,0.197,0.1972,0.1972,0.1974,0.1976,0.198,0.198,0.198,0.1982,0.1986,0.1992,0.1993,0.1993,0.1994,0.1996,0.1996,0.2002,0.2002,0.2006,0.2007,0.2008,0.2008,0.2011,0.2012,0.2012,0.2015,0.2016,0.2018,0.2022,0.2026,0.2026,0.2027,0.2031,0.2037,0.2039,0.2039,0.2039,0.204,0.204,0.2044,0.2044,0.2045,0.2047,0.2051,0.2052,0.2054,0.2055,0.2056,0.2057,0.2057,0.2058,0.2061,0.2062,0.2062,0.2064,0.207,0.2071,0.2073,0.2075,0.2077,0.2082,0.2083,0.2084,0.2084,0.2086,0.2087,0.2088,0.2088,0.2088,0.2094,0.2098,0.2098,0.2102,0.2104,0.2105,0.2105,0.2107,0.2108,0.2108,0.211,0.211,0.2111,0.2112,0.2112,0.2113,0.2117,0.2118,0.2122,0.2134,0.2136,0.2138,0.2146,0.2147,0.2148,0.215,0.215,0.2152,0.2156,0.2156,0.2156,0.2159,0.2161,0.2161,0.2163,0.2164,0.2166,0.2166,0.2166,0.2167,0.2169,0.2172,0.2172,0.2176,0.2176,0.2177,0.2183,0.2184,0.2187,0.219,0.219,0.2192,0.2196,0.2196,0.2202,0.2206,0.2206,0.2216,0.2218,0.2219,0.2225,0.2226,0.2229,0.2231,0.2232,0.2241,0.2241,0.2244,0.2244,0.2244,0.2245,0.2246,0.2248,0.2265,0.2265,0.2266,0.2267,0.2269,0.2271,0.2272,0.2276,0.2278,0.2281,0.2284,0.2295,0.2297,0.2297,0.2298,0.2298,0.2298,0.2301,0.2302,0.2302,0.2304,0.2305,0.2305,0.2312,0.2314,0.232,0.2324,0.2324,0.2334,0.2337,0.2344,0.2348,0.2348,0.235,0.2354,0.2356,0.2358,0.236,0.2362,0.2364,0.2365,0.2368,0.2368,0.2372,0.2373,0.2376,0.2376,0.2376,0.2378,0.238,0.238,0.2381,0.2382,0.2384,0.2385,0.2388,0.2392,0.2394,0.2394,0.2394,0.24,0.2404,0.2408,0.2408,0.241,0.2411,0.2413,0.2414,0.2415,0.2416,0.2418,0.2418,0.2418,0.242,0.242,0.242,0.2422,0.2424,0.2424,0.2426,0.2428,0.2428,0.243,0.243,0.2432,0.2433,0.2436,0.2436,0.2441,0.2445,0.2445,0.2445,0.2446,0.2448,0.2455,0.2458,0.246,0.246,0.2464,0.2465,0.2465,0.2466,0.2466,0.2466,0.2473,0.2474,0.2474,0.2478,0.248,0.2481,0.2481,0.2482,0.2482,0.2482,0.2482,0.2486,0.2487,0.2488,0.2492,0.2496,0.2497,0.2498,0.2499,0.2499,0.2502,0.2503,0.2503,0.2506,0.2508,0.2508,0.2513,0.2514,0.2518,0.252,0.252,0.2522,0.2523,0.2524,0.2524,0.2524,0.2525,0.2526,0.2526,0.253,0.2533,0.2533,0.2534,0.2535,0.2537,0.254,0.2544,0.2546,0.2549,0.255,0.2552,0.2554,0.2554,0.2554,0.2556,0.2558,0.256,0.256,0.2566,0.2566,0.2568,0.2568,0.257,0.2572,0.2573,0.2574,0.2574,0.2575,0.2577,0.258,0.2581,0.2582,0.2583,0.2584,0.2586,0.2587,0.2587,0.259,0.259,0.259,0.2592,0.2592,0.2593,0.2598,0.2604,0.2605,0.2606,0.2606,0.2608,0.2609,0.2612,0.2613,0.2615,0.2615,0.2616,0.2619,0.2622,0.2622,0.2624,0.2624,0.2625,0.2632,0.2638,0.2639,0.264,0.2642,0.2643,0.2644,0.2648,0.2648,0.2648,0.265,0.265,0.2652,0.2652,0.2652,0.2653,0.2654,0.2657,0.2658,0.2658,0.266,0.2662,0.2662,0.2663,0.2666,0.2666,0.2666,0.2669,0.2669,0.2672,0.2672,0.2676,0.2676,0.2676,0.2679,0.268,0.2682,0.2684,0.2684,0.2684,0.2684,0.2685,0.2686,0.2687,0.2688,0.2689,0.2694,0.2695,0.2701,0.2702,0.2704,0.2704,0.2707,0.2707,0.2708,0.271,0.2711,0.2713,0.2716,0.2719,0.2719,0.272,0.2721,0.2722,0.2724,0.2724,0.2725,0.2727,0.2732,0.2736,0.2738,0.2738,0.2742,0.2742,0.2749,0.275,0.275,0.275,0.275,0.2752,0.2752,0.2752,0.2754,0.2756,0.2758,0.2758,0.2759,0.2759,0.2762,0.277,0.277,0.2772,0.2772,0.2773,0.2774,0.2774,0.2777,0.2778,0.2778,0.2779,0.2779,0.2782,0.2784,0.2789,0.279,0.2791,0.2792,0.2792,0.2793,0.2796,0.2796,0.2802,0.2802,0.2802,0.2803,0.2805,0.2806,0.2808,0.281,0.2816,0.2817,0.2825,0.2826,0.2828,0.2828,0.2828,0.283,0.2832,0.2835,0.2836,0.2837,0.2837,0.2842,0.2843,0.2848,0.285,0.2851,0.2853,0.2854,0.286,0.286,0.2861,0.2862,0.2864,0.2864,0.2866,0.2866,0.2866,0.287,0.2871,0.2874,0.2874,0.2877,0.2877,0.2878,0.288,0.2882,0.2885,0.2886,0.2887,0.2888,0.2889,0.289,0.2892,0.2902,0.2903,0.2904,0.2905,0.2907,0.2908,0.2908,0.2908,0.2912,0.2914,0.2915,0.2915,0.2915,0.2917,0.2918,0.2921,0.2923,0.2927,0.2929,0.2932,0.2932,0.2932,0.2933,0.2934,0.2936,0.2937,0.2938,0.2946,0.2948,0.2949,0.2952,0.2953,0.2956,0.2957,0.2958,0.2958,0.296,0.2962,0.2962,0.2962,0.2967,0.2968,0.2968,0.297,0.2972,0.2972,0.2973,0.2976,0.2978,0.2978,0.298,0.2982,0.2986,0.2988,0.2988,0.299,0.2992,0.2998,0.2998,0.3,0.3002,0.3003,0.3003,0.3004,0.3005,0.3008,0.3012,0.3013,0.3016,0.3016,0.3016,0.302,0.302,0.3025,0.3028,0.3028,0.303,0.3031,0.3032,0.3034,0.304,0.3045,0.3046,0.305,0.3056,0.3058,0.3058,0.3059,0.306,0.3061,0.3062,0.3062,0.3064,0.3067,0.307,0.3076,0.3078,0.308,0.3082,0.3084,0.3088,0.309,0.3094,0.3095,0.3099,0.3102,0.3103,0.3103,0.3103,0.3104,0.3105,0.3106,0.3116,0.3118,0.3118,0.3122,0.3124,0.3127,0.3127,0.3128,0.3129,0.3134,0.3134,0.3136,0.3138,0.3141,0.3145,0.3148,0.3149,0.3154,0.3156,0.316,0.3163,0.3164,0.3166,0.3168,0.3171,0.3171,0.3175,0.3179,0.3184,0.3191,0.3192,0.3195,0.3196,0.3198,0.3206,0.3209,0.321,0.3216,0.3217,0.3218,0.322,0.322,0.3222,0.3222,0.3223,0.3223,0.3223,0.3228,0.3228,0.3233,0.3237,0.3238,0.3238,0.3239,0.3248,0.3248,0.3249,0.3252,0.3256,0.3256,0.3258,0.3258,0.3259,0.3264,0.327,0.3275,0.3278,0.3278,0.3279,0.3282,0.3292,0.3294,0.3294,0.3296,0.3297,0.3298,0.33,0.3302,0.3302,0.3302,0.3304,0.3305,0.3306,0.3308,0.3314,0.3318,0.3324,0.3329,0.3338,0.3338,0.3338,0.3339,0.3339,0.3344,0.3345,0.3346,0.3346,0.3351,0.3351,0.3351,0.3352,0.3353,0.3359,0.3359,0.3362,0.3365,0.3368,0.3368,0.3368,0.3372,0.3375,0.3375,0.338,0.3382,0.3385,0.339,0.3392,0.3399,0.34,0.3401,0.3405,0.3405,0.3406,0.3408,0.3412,0.3412,0.3414,0.3418,0.342,0.3423,0.3424,0.3424,0.3426,0.3429,0.3436,0.3436,0.3437,0.3451,0.3453,0.3453,0.3456,0.3463,0.3474,0.3476,0.3476,0.3478,0.3483,0.349,0.3493,0.3496,0.3506,0.351,0.3511,0.3514,0.3514,0.3515,0.3516,0.3516,0.3516,0.3518,0.352,0.3532,0.3533,0.3534,0.3536,0.3549,0.3556,0.3562,0.3565,0.3569,0.357,0.357,0.358,0.3597,0.3601,0.3601,0.3605,0.3608,0.3612,0.3612,0.3614,0.3616,0.3624,0.3631,0.3632,0.3634,0.3634,0.3637,0.3655,0.366,0.3661,0.3661,0.3666,0.3667,0.3671,0.3675,0.3677,0.3683,0.3686,0.369,0.3692,0.37,0.3704,0.3705,0.3707,0.3708,0.3713,0.3727,0.3733,0.374,0.3744,0.3753,0.3758,0.3764,0.378,0.3785,0.3786,0.379,0.3792,0.3794,0.38,0.38,0.3813,0.3821,0.3833,0.3842,0.385,0.3874,0.3876,0.3881,0.3882,0.3889,0.3889,0.3892,0.3895,0.3896,0.3906,0.3916,0.3916,0.3928,0.3935,0.3949,0.3954,0.3964,0.3965,0.397,0.3974,0.3985,0.3995,0.3998,0.401,0.4013,0.4031,0.4043,0.4045,0.4052,0.4057,0.4074,0.408,0.4084,0.4104,0.4132,0.4138,0.415,0.4154,0.4159,0.421,0.4216,0.4223,0.4232,0.4244,0.4249,0.425,0.4294,0.4357,0.4386,0.4417,0.4466,0.4586,0.4674,0.4744,0.4754,0.4802,0.4859,0.4995,0.501,0.5101,0.5108,0.511,0.5112,0.5217,0.5242,0.5243,0.5259,0.5549,0.574,0.5815,0.5961,0.6127,0.6136,0.6524,0.7361,0.7396,0.754,0.8102,0.888],\"xaxis\":\"x\",\"y\":[332.7534618144734,332.13652877391354,331.5794575596519,330.8962412417181,330.21045527389754,330.02298037887925,329.8978924955815,328.9571025778189,328.4534866247094,328.0117890937351,327.88541581184154,327.82220051489696,327.44251262375917,326.2995331319827,326.2995331319827,325.53448803128947,325.40675842646084,324.95923141482496,324.511002133236,324.1262821301829,323.8695501822812,323.22691174061356,323.22691174061356,323.09825593054484,322.969560574002,320.97084253933195,320.5188361766955,320.5188361766955,320.2604953685789,320.0021335489768,319.74376396969745,319.3562240219472,319.033315208258,318.83959907586234,318.83959907586234,318.77503310359276,318.7104704980842,318.6459114488039,318.5813561476456,318.5813561476456,318.45225757412203,318.25864264202244,318.19411385264647,318.0650716421245,318.0650716421245,317.7425643859035,317.6780812909367,317.6136047483929,316.8404627821439,316.7760878505559,316.64736542028896,316.4543529572055,316.39003514068753,316.2614300204974,316.13286666304737,315.94010263535057,315.8758701584305,315.7474393765811,315.6832413527835,315.61905510112433,315.4907185217375,315.23419313768244,315.23419313768244,314.8497913009903,314.72176479099124,314.2102264168779,314.2102264168779,314.08248950014615,314.08248950014615,313.82720101021476,313.76341836055735,313.63590146061966,313.63590146061966,313.57216749781037,313.57216749781037,313.57216749781037,313.444749279624,313.31739834742746,312.99932289746994,312.9357606571298,312.8722163432645,312.68169216210487,312.5547678589131,312.5547678589131,312.5547678589131,312.5547678589131,312.3011438100156,312.1111258505118,311.9845442046945,311.92128282374796,311.92128282374796,311.7948195470885,311.7948195470885,311.66843640916136,311.6052751880762,311.415914211604,311.0377532222443,310.7860694637082,310.7860694637082,310.66035672582575,310.5975329329604,310.40919274912295,310.283742623297,309.845368144624,309.657830966056,309.657830966056,309.408100102563,309.15873580982793,309.0341917927303,309.0341917927303,308.8475490457539,308.661114906461,308.661114906461,308.47489005258313,308.4128617156101,308.4128617156101,308.28887505616603,308.2269167489324,308.1649818046202,308.1649818046202,308.1649818046202,307.91747573675696,307.7938628156206,307.7938628156206,307.67034316932023,307.546916610441,307.30034175995894,307.30034175995894,307.30034175995894,307.1771929569362,306.9311711891414,306.562823308084,306.50151135621064,306.50151135621064,306.4402219543889,306.31771054616695,306.31771054616695,305.95071025411926,305.95071025411926,305.70648219530824,305.64547933153574,305.5844979745196,305.5844979745196,305.4016821301059,305.3407859688724,305.3407859688724,305.1582235433301,305.0974110872322,304.9758480612686,304.7329662775614,304.490403780089,304.490403780089,304.4298121051333,304.18763724076734,303.8249345530754,303.7041778857562,303.7041778857562,303.7041778857562,303.6438258486213,303.6438258486213,303.40258864284567,303.40258864284567,303.3423211061891,303.22183477293555,302.9810515668766,302.9208940730778,302.800623621405,302.7405102481428,302.6804111592907,302.6203261394678,302.6203261394678,302.5602549737438,302.38012241661414,302.3201044754436,302.3201044754436,302.2001066223975,301.84040047542794,301.78048880503195,301.66069694026237,301.5409453261074,301.4212318172109,301.1220999077421,301.0622972110948,301.00250170270505,301.00250170270505,300.88293098410367,300.82315513363375,300.7633851908933,300.7633851908933,300.7633851908933,300.404871090785,300.1659371821388,300.1659371821388,299.9270365870113,299.8075909583945,299.7478678958909,299.7478678958909,299.62841920129136,299.5686927168427,299.5686927168427,299.4492332844736,299.4492332844736,299.389499438735,299.3297622295489,299.3297622295489,299.270021194189,299.0310091636602,298.97124170980965,298.73209892134145,298.01367983335615,297.89375137555174,297.77375524204734,297.2929905916506,297.23279611665794,297.17257733422605,297.0520639432378,297.0520639432378,296.93144455563584,296.6898639065154,296.6898639065154,296.6898639065154,296.50835505436527,296.3871832593301,296.3871832593301,296.26587114060544,296.20516037882743,296.0836251872311,296.0836251872311,296.0836251872311,296.02279902827496,295.90102520504774,295.71804721266477,295.71804721266477,295.47344531084144,295.47344531084144,295.412175727586,295.04348051463035,294.9818419734811,294.79658028243244,294.6107761754411,294.6107761754411,294.486590253812,294.2374165303288,294.2374165303288,293.8615047815373,293.6093443284852,293.6093443284852,292.97287689397604,292.84445122117086,292.7800870578912,292.3916831544747,292.3265640799379,292.13051326697166,291.99921768915885,291.9333861940668,291.3350722659346,291.3350722659346,291.1331604344142,291.1331604344142,291.1331604344142,291.06556553767774,290.9978219997477,290.8618812991407,289.6798868853766,289.6798868853766,289.6087668845391,289.53745846215656,289.39426948959783,289.2503065637172,289.1780308576331,288.88693141572867,288.7401643065549,288.5184641077331,288.2948800095902,287.4587119926777,287.3121247613124,287.3121247613124,287.23454782536265,287.23454782536265,287.23454782536265,287.00056651324957,286.93971815998805,286.93971815998805,286.79177545079824,286.7131551836859,286.7131551836859,286.1572179369261,285.9966211184437,285.55394114355715,285.2617831553143,285.2617831553143,284.5003586650223,284.2524152677577,283.70819150709434,283.386695847455,283.386695847455,283.2458149034244,282.9094831907521,282.74072148893896,282.5716081811339,282.4595522067671,282.34784099610465,282.2222497260112,282.1381189341448,281.8853424298616,281.8853424298616,281.5921072143197,281.53740642936026,281.2847015418014,281.2847015418014,281.2847015418014,281.16126563171844,281.0381976950627,281.0381976950627,280.95423349439795,280.87025873995424,280.73273159099483,280.648868498781,280.39734007987204,280.0778626569495,279.91066303375715,279.91066303375715,279.91066303375715,279.4577334453432,279.1260678347081,278.79589672024576,278.79589672024576,278.63146719480585,278.54943324380434,278.38575065700655,278.31997132619284,278.254313080618,278.1729457904079,278.01064618592034,278.01064618592034,278.01064618592034,277.9120877797196,277.9120877797196,277.9120877797196,277.7824017305059,277.65321606494877,277.65321606494877,277.5558248388082,277.39636150396365,277.39636150396365,277.26869925900945,277.26869925900945,277.14155120594813,277.0626762668485,276.85796822045165,276.85796822045165,276.49938915201335,276.29750895048335,276.29750895048335,276.29750895048335,276.2510496098229,276.12819060544854,275.7173220039913,275.53682931197227,275.38787016484343,275.38787016484343,275.19410594586185,275.149482764638,275.149482764638,275.0904908719941,275.0904908719941,275.0904908719941,274.61098361022823,274.5533577248386,274.5533577248386,274.33814241116903,274.2381275217787,274.1677172428752,274.1677172428752,274.1111985810932,274.1111985810932,274.1111985810932,274.1111985810932,273.8865786992628,273.8441615854501,273.7751460747466,273.5540513301623,273.36102975400377,273.3066004652586,273.2523201843004,273.2108666755414,273.2108666755414,273.03669689023826,272.9955851245047,272.9955851245047,272.8234911135581,272.7178034240327,272.7178034240327,272.4445735700713,272.38119941423395,272.17595857928853,272.096617366514,272.096617366514,271.97319155790206,271.9338233578057,271.88359515642117,271.88359515642117,271.88359515642117,271.82272977562735,271.7835976079328,271.7835976079328,271.61685677186296,271.5001798823752,271.5001798823752,271.46135326290647,271.4225591187567,271.32471163313636,271.1889982226009,270.97727332538454,270.9012043807292,270.77793706551023,270.74007559907466,270.6368498358715,270.5435020806218,270.5435020806218,270.5435020806218,270.4685073206547,270.39362776984467,270.2840499626966,270.2840499626966,269.99516416655257,269.99516416655257,269.9217751103141,269.9217751103141,269.82464700039066,269.75170178620306,269.69974823459506,269.65574050635576,269.65574050635576,269.6194740410995,269.5245049823176,269.38000077884146,269.32993719254733,269.28716954303366,269.244528893566,269.2089168962448,269.1377802558786,269.1022556684271,269.1022556684271,268.96260707423,268.96260707423,268.96260707423,268.8856306455873,268.8856306455873,268.8376525391928,268.6257822862123,268.36075659302077,268.3209386137089,268.28123084188667,268.28123084188667,268.21269549998505,268.17845201883006,268.0654918090598,268.02628324012215,267.9581160550245,267.9581160550245,267.91416758403295,267.79787859849506,267.6870323253767,267.6870323253767,267.61943177707406,267.61943177707406,267.5856399142937,267.3323270854104,267.099419005554,267.05856659271706,267.0252292759319,266.944296693613,266.91107379829367,266.877852855795,266.73832843005175,266.73832843005175,266.73832843005175,266.659219086315,266.659219086315,266.5930971324865,266.5930971324865,266.5930971324865,266.5539551994984,266.51501715201914,266.41044243902815,266.37751984266765,266.37751984266765,266.3089401337442,266.2431244430118,266.2431244430118,266.21021271608987,266.10889823675944,266.10889823675944,266.10889823675944,265.99808143838754,265.99808143838754,265.8928981418281,265.8928981418281,265.75149941657014,265.75149941657014,265.75149941657014,265.65154150746014,265.61697648469317,265.5462234529569,265.47587559623065,265.47587559623065,265.47587559623065,265.47587559623065,265.44166214701687,265.4090966242627,265.3765173682126,265.3423694588999,265.3067770617226,265.13466201279516,265.10216894428595,264.8986084264027,264.8643042011957,264.7985384599524,264.7985384599524,264.6995246102035,264.6995246102035,264.66702795612133,264.6012706732102,264.56871510763835,264.5029071164631,264.40339700079375,264.30489150147565,264.30489150147565,264.2721422727267,264.2393541947588,264.20652640358975,264.1399510315068,264.1399510315068,264.1066500360788,264.040583407876,263.87564519038017,263.7434996659472,263.6777408454219,263.6777408454219,263.5449760825828,263.5449760825828,263.31565660928834,263.28275482522116,263.28275482522116,263.28275482522116,263.28275482522116,263.21694629811634,263.21694629811634,263.21694629811634,263.14968932063226,263.08295912705154,263.0185830652187,263.0185830652187,262.9864752046962,262.9864752046962,262.8856826607336,262.61500943050197,262.61500943050197,262.54711597499727,262.54711597499727,262.5124521837233,262.47770548273445,262.47770548273445,262.37437565957043,262.33931937322825,262.33931937322825,262.3041750092628,262.3041750092628,262.1982072799819,262.1337281896819,261.9659111577435,261.93011037296105,261.8942165046818,261.85822956310176,261.85822956310176,261.82214951917507,261.7214181010795,261.7214181010795,261.50868614820934,261.50868614820934,261.50868614820934,261.47190391095694,261.3980583452114,261.3609952186155,261.2889637829209,261.2191066171268,261.006084517429,260.9708560735683,260.67641686369717,260.6407510503023,260.572198502108,260.572198502108,260.572198502108,260.50652822143053,260.44089619699,260.3364118403978,260.3035922295425,260.2645764052827,260.2645764052827,260.06827650289773,260.0320100482303,259.84352450191943,259.7771669766528,259.7439996827988,259.6640347964145,259.6239638643659,259.3962634307971,259.3962634307971,259.3628334714254,259.3223821048347,259.2413411778512,259.2413411778512,259.1601238489436,259.1601238489436,259.1601238489436,259.0113247329765,258.97049256082784,258.84777700087875,258.84777700087875,258.7247606949732,258.7247606949732,258.68369425958537,258.6120825663318,258.52971811344446,258.4130463500252,258.3717356040215,258.33394024285496,258.29967673714856,258.258272683159,258.2239678786733,258.1410181960065,257.739061971085,257.70435858085125,257.66259861316405,257.6243309018775,257.5512468432584,257.50938296589516,257.50938296589516,257.50938296589516,257.34178462027205,257.25789843114006,257.21593350214204,257.21593350214204,257.21593350214204,257.13196043613357,257.0899530544053,256.98086410546824,256.90690215981147,256.7483697753392,256.6741228394751,256.547115339969,256.547115339969,256.547115339969,256.5081623546239,256.4691853780501,256.39457599163876,256.355526009412,256.3130365971519,255.99279036704814,255.92094774550097,255.8782185297577,255.74998588566913,255.70722799080662,255.59878420653013,255.56258973978436,255.5263702513148,255.5263702513148,255.44049397957681,255.36451466940233,255.36451466940233,255.36451466940233,255.1724074364639,255.1292832440339,255.1292832440339,255.04628861977127,254.96648062097347,254.96648062097347,254.9232924893848,254.79369914735437,254.70727633040633,254.70727633040633,254.62714358331172,254.54062073438322,254.37058278201883,254.29628848309173,254.29628848309173,254.22185405396277,254.13804605477424,253.88317480609928,253.88317480609928,253.7990919920723,253.7119528662581,253.6683664428309,253.6683664428309,253.62476791555113,253.58115665306346,253.45023958055842,253.2754670752461,253.23463975355963,253.10620585057134,253.10620585057134,253.10620585057134,252.94232384363568,252.94232384363568,252.75107941073463,252.63303583508414,252.63303583508414,252.54758957712616,252.5034238876649,252.4592384312076,252.37641424465437,252.11334808411232,251.8966754394997,251.85214490254026,251.676513538783,251.41911272575214,251.32934939350594,251.32934939350594,251.2844164758874,251.24502796928869,251.20003270583913,251.15500228054898,251.15500228054898,251.0648342874942,250.93772544789275,250.80190154899532,250.52917713554376,250.4407992020821,250.3551350711765,250.27503694590882,250.1947743103701,250.01962205883385,249.9332500723954,249.75151871634162,249.70527134523172,249.53138869407235,249.39200610481953,249.3454754861468,249.3454754861468,249.3454754861468,249.29891238134758,249.2523181704353,249.2056941357167,248.74662498938804,248.65285159169932,248.65285159169932,248.47632319994167,248.39067116991976,248.24959178577063,248.24959178577063,248.20256318150518,248.15553664131323,247.9257439076348,247.9257439076348,247.84213249807337,247.75317014212175,247.61198528319727,247.43379586650113,247.2975823418449,247.25534784997114,247.0342666635974,246.94706026675127,246.75918551479333,246.62704695181267,246.584350274685,246.49267938789922,246.39911115977793,246.2647828939374,246.2647828939374,246.08026395445506,245.89477763197385,245.6730672943768,245.35152981392963,245.30586451867026,245.17143723612918,245.12596628406686,245.03522943487047,244.6778106693387,244.5446572243585,244.50052628524446,244.2336467347977,244.18928485118204,244.14498371550295,244.05686167422712,244.05686167422712,243.96860877236725,243.96860877236725,243.92478917505198,243.92478917505198,243.92478917505198,243.70543864679377,243.70543864679377,243.4869013270933,243.31270519325503,243.26904709132612,243.26904709132612,243.22561469366198,242.83656623087782,242.83656623087782,242.79353329267278,242.66465361668347,242.49244807655413,242.49244807655413,242.40600351244817,242.40600351244817,242.3632629233862,242.15009881245072,241.89421680717604,241.6829895259298,241.55674362082,241.55674362082,241.5147442349562,241.38899447949126,240.97250370376423,240.8896915774625,240.8896915774625,240.8048438307822,240.76354397495868,240.72228267149802,240.63987378641747,240.556430368937,240.556430368937,240.556430368937,240.4742892072024,240.43327336536075,240.39229376522772,240.3091761760981,240.06168993218927,239.8962718148529,239.6501490081001,239.44799648013145,239.08507484340774,239.08507484340774,239.08507484340774,239.04479909020282,239.04479909020282,238.83758900529256,238.79734961716593,238.75711231690244,238.75711231690244,238.55592163644877,238.55592163644877,238.55592163644877,238.51567598343377,238.4754257260058,238.23378148386547,238.23378148386547,238.11283364825815,237.99177751529973,237.87059697991936,237.87059697991936,237.87059697991936,237.70880463689173,237.5860373618252,237.5860373618252,237.38198655443702,237.30072921770434,237.17868828511925,236.9748573210033,236.89316929371245,236.60650599805717,236.5654531224668,236.52437400319624,236.35978945207447,236.35978945207447,236.31857499799094,236.2360616748128,236.07068338602662,236.07068338602662,235.98781120902476,235.82168528869718,235.73842626514335,235.61328634703662,235.5715050666166,235.5715050666166,235.4878393385784,235.3620803178233,235.06479054397855,235.06479054397855,235.0226475874101,234.4292359087096,234.34397644452926,234.34397644452926,234.21587582918065,233.91603403461076,233.44241229064306,233.35600425862995,233.35600425862995,233.2695110576325,233.05291925762256,232.74887889383973,232.61830400385998,232.4877553142295,232.05102866992326,231.8758563005263,231.83202044138218,231.70041076020658,231.70041076020658,231.65650696390654,231.61258628943932,231.61258628943932,231.61258628943932,231.52469451125026,231.43673588204265,230.90760779634218,230.86340949652754,230.81919549875548,230.73072071239665,230.15503776500825,229.84370882014403,229.57641406838127,229.44263061595956,229.26412448446638,229.21947640154514,229.21947640154514,228.77257627114622,228.01197125395524,227.83279010013342,227.83279010013342,227.65358776131106,227.51928316513525,227.34004607474506,227.34004607474506,227.25042533203893,227.1608034093867,226.80230857553826,226.48862507042892,226.44381367468003,226.35419152278718,226.35419152278718,226.21972769749232,225.41360659712555,225.19008456682056,225.14540967515606,225.14540967515606,224.922198982032,224.87759150254388,224.6992854626027,224.52118839849447,224.4322223330376,224.16567139167844,224.03259917475282,223.85538859346588,223.7668792016125,223.41349846498164,223.23721068739837,223.19258977098428,223.10456309778172,223.06057517631643,222.84022586255875,222.22707686820553,221.96516951669145,221.66020932501604,221.48621805431347,221.09540853504134,220.8786674402102,220.61604880477952,219.92466508269516,219.70894241716866,219.6658123054847,219.49333355584747,219.40711664011738,219.32091281318674,219.06236658509465,219.06236658509465,218.50239234748048,218.15595652218758,217.63908040294783,217.24944478033342,216.90442691035778,215.86699441896442,215.7803491619837,215.56359320607535,215.52021714046157,215.21634770821322,215.21634770821322,215.08598929468505,214.95555272730044,214.91205641601925,214.47661010742,214.0402844076135,214.0402844076135,213.5155499316202,213.20889312547254,212.59438769277315,212.37455171534066,211.93432529123496,211.89026321799983,211.66984876341525,211.4933948532112,211.00760861507203,210.56525618792804,210.43248571331083,209.90094475682176,209.76795363799667,208.9692460314099,208.4361619091736,208.34727481129966,208.03609109462406,207.81374818835442,207.0574338966189,206.79039818082177,206.61235234452778,205.72205886266684,204.4765666773966,204.20992479466102,203.6771592455047,203.49974864058078,203.27812394012602,201.02748513124675,200.76413767658522,200.45736971907164,200.06373819946575,199.54033187153692,199.3227438660792,199.27926187778624,197.3768822229957,194.70491208785396,193.4989333761048,192.22553115243295,190.24094223285226,185.4990761362439,182.11697262321005,179.46002956905804,179.0817674452675,177.26824984242424,175.1158045437535,170.02384198054912,169.48451927943802,166.4206258084803,166.20106627461638,166.13875426083408,166.07662728569682,163.04707123350525,162.38088073750268,162.35457086524073,161.93680236564364,155.29792683791456,151.35137951701432,149.85379642041613,147.0867291297293,144.04551490141597,143.8803086349183,136.43667396543478,118.44410286075227,117.66951699163569,114.4852156087421,102.2030147289883,85.86817041832262],\"yaxis\":\"y\",\"type\":\"scattergl\"}],                        {\"template\":{\"data\":{\"histogram2dcontour\":[{\"type\":\"histogram2dcontour\",\"colorbar\":{\"outlinewidth\":0,\"ticks\":\"\"},\"colorscale\":[[0.0,\"#0d0887\"],[0.1111111111111111,\"#46039f\"],[0.2222222222222222,\"#7201a8\"],[0.3333333333333333,\"#9c179e\"],[0.4444444444444444,\"#bd3786\"],[0.5555555555555556,\"#d8576b\"],[0.6666666666666666,\"#ed7953\"],[0.7777777777777778,\"#fb9f3a\"],[0.8888888888888888,\"#fdca26\"],[1.0,\"#f0f921\"]]}],\"choropleth\":[{\"type\":\"choropleth\",\"colorbar\":{\"outlinewidth\":0,\"ticks\":\"\"}}],\"histogram2d\":[{\"type\":\"histogram2d\",\"colorbar\":{\"outlinewidth\":0,\"ticks\":\"\"},\"colorscale\":[[0.0,\"#0d0887\"],[0.1111111111111111,\"#46039f\"],[0.2222222222222222,\"#7201a8\"],[0.3333333333333333,\"#9c179e\"],[0.4444444444444444,\"#bd3786\"],[0.5555555555555556,\"#d8576b\"],[0.6666666666666666,\"#ed7953\"],[0.7777777777777778,\"#fb9f3a\"],[0.8888888888888888,\"#fdca26\"],[1.0,\"#f0f921\"]]}],\"heatmap\":[{\"type\":\"heatmap\",\"colorbar\":{\"outlinewidth\":0,\"ticks\":\"\"},\"colorscale\":[[0.0,\"#0d0887\"],[0.1111111111111111,\"#46039f\"],[0.2222222222222222,\"#7201a8\"],[0.3333333333333333,\"#9c179e\"],[0.4444444444444444,\"#bd3786\"],[0.5555555555555556,\"#d8576b\"],[0.6666666666666666,\"#ed7953\"],[0.7777777777777778,\"#fb9f3a\"],[0.8888888888888888,\"#fdca26\"],[1.0,\"#f0f921\"]]}],\"heatmapgl\":[{\"type\":\"heatmapgl\",\"colorbar\":{\"outlinewidth\":0,\"ticks\":\"\"},\"colorscale\":[[0.0,\"#0d0887\"],[0.1111111111111111,\"#46039f\"],[0.2222222222222222,\"#7201a8\"],[0.3333333333333333,\"#9c179e\"],[0.4444444444444444,\"#bd3786\"],[0.5555555555555556,\"#d8576b\"],[0.6666666666666666,\"#ed7953\"],[0.7777777777777778,\"#fb9f3a\"],[0.8888888888888888,\"#fdca26\"],[1.0,\"#f0f921\"]]}],\"contourcarpet\":[{\"type\":\"contourcarpet\",\"colorbar\":{\"outlinewidth\":0,\"ticks\":\"\"}}],\"contour\":[{\"type\":\"contour\",\"colorbar\":{\"outlinewidth\":0,\"ticks\":\"\"},\"colorscale\":[[0.0,\"#0d0887\"],[0.1111111111111111,\"#46039f\"],[0.2222222222222222,\"#7201a8\"],[0.3333333333333333,\"#9c179e\"],[0.4444444444444444,\"#bd3786\"],[0.5555555555555556,\"#d8576b\"],[0.6666666666666666,\"#ed7953\"],[0.7777777777777778,\"#fb9f3a\"],[0.8888888888888888,\"#fdca26\"],[1.0,\"#f0f921\"]]}],\"surface\":[{\"type\":\"surface\",\"colorbar\":{\"outlinewidth\":0,\"ticks\":\"\"},\"colorscale\":[[0.0,\"#0d0887\"],[0.1111111111111111,\"#46039f\"],[0.2222222222222222,\"#7201a8\"],[0.3333333333333333,\"#9c179e\"],[0.4444444444444444,\"#bd3786\"],[0.5555555555555556,\"#d8576b\"],[0.6666666666666666,\"#ed7953\"],[0.7777777777777778,\"#fb9f3a\"],[0.8888888888888888,\"#fdca26\"],[1.0,\"#f0f921\"]]}],\"mesh3d\":[{\"type\":\"mesh3d\",\"colorbar\":{\"outlinewidth\":0,\"ticks\":\"\"}}],\"scatter\":[{\"fillpattern\":{\"fillmode\":\"overlay\",\"size\":10,\"solidity\":0.2},\"type\":\"scatter\"}],\"parcoords\":[{\"type\":\"parcoords\",\"line\":{\"colorbar\":{\"outlinewidth\":0,\"ticks\":\"\"}}}],\"scatterpolargl\":[{\"type\":\"scatterpolargl\",\"marker\":{\"colorbar\":{\"outlinewidth\":0,\"ticks\":\"\"}}}],\"bar\":[{\"error_x\":{\"color\":\"#2a3f5f\"},\"error_y\":{\"color\":\"#2a3f5f\"},\"marker\":{\"line\":{\"color\":\"#E5ECF6\",\"width\":0.5},\"pattern\":{\"fillmode\":\"overlay\",\"size\":10,\"solidity\":0.2}},\"type\":\"bar\"}],\"scattergeo\":[{\"type\":\"scattergeo\",\"marker\":{\"colorbar\":{\"outlinewidth\":0,\"ticks\":\"\"}}}],\"scatterpolar\":[{\"type\":\"scatterpolar\",\"marker\":{\"colorbar\":{\"outlinewidth\":0,\"ticks\":\"\"}}}],\"histogram\":[{\"marker\":{\"pattern\":{\"fillmode\":\"overlay\",\"size\":10,\"solidity\":0.2}},\"type\":\"histogram\"}],\"scattergl\":[{\"type\":\"scattergl\",\"marker\":{\"colorbar\":{\"outlinewidth\":0,\"ticks\":\"\"}}}],\"scatter3d\":[{\"type\":\"scatter3d\",\"line\":{\"colorbar\":{\"outlinewidth\":0,\"ticks\":\"\"}},\"marker\":{\"colorbar\":{\"outlinewidth\":0,\"ticks\":\"\"}}}],\"scattermapbox\":[{\"type\":\"scattermapbox\",\"marker\":{\"colorbar\":{\"outlinewidth\":0,\"ticks\":\"\"}}}],\"scatterternary\":[{\"type\":\"scatterternary\",\"marker\":{\"colorbar\":{\"outlinewidth\":0,\"ticks\":\"\"}}}],\"scattercarpet\":[{\"type\":\"scattercarpet\",\"marker\":{\"colorbar\":{\"outlinewidth\":0,\"ticks\":\"\"}}}],\"carpet\":[{\"aaxis\":{\"endlinecolor\":\"#2a3f5f\",\"gridcolor\":\"white\",\"linecolor\":\"white\",\"minorgridcolor\":\"white\",\"startlinecolor\":\"#2a3f5f\"},\"baxis\":{\"endlinecolor\":\"#2a3f5f\",\"gridcolor\":\"white\",\"linecolor\":\"white\",\"minorgridcolor\":\"white\",\"startlinecolor\":\"#2a3f5f\"},\"type\":\"carpet\"}],\"table\":[{\"cells\":{\"fill\":{\"color\":\"#EBF0F8\"},\"line\":{\"color\":\"white\"}},\"header\":{\"fill\":{\"color\":\"#C8D4E3\"},\"line\":{\"color\":\"white\"}},\"type\":\"table\"}],\"barpolar\":[{\"marker\":{\"line\":{\"color\":\"#E5ECF6\",\"width\":0.5},\"pattern\":{\"fillmode\":\"overlay\",\"size\":10,\"solidity\":0.2}},\"type\":\"barpolar\"}],\"pie\":[{\"automargin\":true,\"type\":\"pie\"}]},\"layout\":{\"autotypenumbers\":\"strict\",\"colorway\":[\"#636efa\",\"#EF553B\",\"#00cc96\",\"#ab63fa\",\"#FFA15A\",\"#19d3f3\",\"#FF6692\",\"#B6E880\",\"#FF97FF\",\"#FECB52\"],\"font\":{\"color\":\"#2a3f5f\"},\"hovermode\":\"closest\",\"hoverlabel\":{\"align\":\"left\"},\"paper_bgcolor\":\"white\",\"plot_bgcolor\":\"#E5ECF6\",\"polar\":{\"bgcolor\":\"#E5ECF6\",\"angularaxis\":{\"gridcolor\":\"white\",\"linecolor\":\"white\",\"ticks\":\"\"},\"radialaxis\":{\"gridcolor\":\"white\",\"linecolor\":\"white\",\"ticks\":\"\"}},\"ternary\":{\"bgcolor\":\"#E5ECF6\",\"aaxis\":{\"gridcolor\":\"white\",\"linecolor\":\"white\",\"ticks\":\"\"},\"baxis\":{\"gridcolor\":\"white\",\"linecolor\":\"white\",\"ticks\":\"\"},\"caxis\":{\"gridcolor\":\"white\",\"linecolor\":\"white\",\"ticks\":\"\"}},\"coloraxis\":{\"colorbar\":{\"outlinewidth\":0,\"ticks\":\"\"}},\"colorscale\":{\"sequential\":[[0.0,\"#0d0887\"],[0.1111111111111111,\"#46039f\"],[0.2222222222222222,\"#7201a8\"],[0.3333333333333333,\"#9c179e\"],[0.4444444444444444,\"#bd3786\"],[0.5555555555555556,\"#d8576b\"],[0.6666666666666666,\"#ed7953\"],[0.7777777777777778,\"#fb9f3a\"],[0.8888888888888888,\"#fdca26\"],[1.0,\"#f0f921\"]],\"sequentialminus\":[[0.0,\"#0d0887\"],[0.1111111111111111,\"#46039f\"],[0.2222222222222222,\"#7201a8\"],[0.3333333333333333,\"#9c179e\"],[0.4444444444444444,\"#bd3786\"],[0.5555555555555556,\"#d8576b\"],[0.6666666666666666,\"#ed7953\"],[0.7777777777777778,\"#fb9f3a\"],[0.8888888888888888,\"#fdca26\"],[1.0,\"#f0f921\"]],\"diverging\":[[0,\"#8e0152\"],[0.1,\"#c51b7d\"],[0.2,\"#de77ae\"],[0.3,\"#f1b6da\"],[0.4,\"#fde0ef\"],[0.5,\"#f7f7f7\"],[0.6,\"#e6f5d0\"],[0.7,\"#b8e186\"],[0.8,\"#7fbc41\"],[0.9,\"#4d9221\"],[1,\"#276419\"]]},\"xaxis\":{\"gridcolor\":\"white\",\"linecolor\":\"white\",\"ticks\":\"\",\"title\":{\"standoff\":15},\"zerolinecolor\":\"white\",\"automargin\":true,\"zerolinewidth\":2},\"yaxis\":{\"gridcolor\":\"white\",\"linecolor\":\"white\",\"ticks\":\"\",\"title\":{\"standoff\":15},\"zerolinecolor\":\"white\",\"automargin\":true,\"zerolinewidth\":2},\"scene\":{\"xaxis\":{\"backgroundcolor\":\"#E5ECF6\",\"gridcolor\":\"white\",\"linecolor\":\"white\",\"showbackground\":true,\"ticks\":\"\",\"zerolinecolor\":\"white\",\"gridwidth\":2},\"yaxis\":{\"backgroundcolor\":\"#E5ECF6\",\"gridcolor\":\"white\",\"linecolor\":\"white\",\"showbackground\":true,\"ticks\":\"\",\"zerolinecolor\":\"white\",\"gridwidth\":2},\"zaxis\":{\"backgroundcolor\":\"#E5ECF6\",\"gridcolor\":\"white\",\"linecolor\":\"white\",\"showbackground\":true,\"ticks\":\"\",\"zerolinecolor\":\"white\",\"gridwidth\":2}},\"shapedefaults\":{\"line\":{\"color\":\"#2a3f5f\"}},\"annotationdefaults\":{\"arrowcolor\":\"#2a3f5f\",\"arrowhead\":0,\"arrowwidth\":1},\"geo\":{\"bgcolor\":\"white\",\"landcolor\":\"#E5ECF6\",\"subunitcolor\":\"white\",\"showland\":true,\"showlakes\":true,\"lakecolor\":\"white\"},\"title\":{\"x\":0.05},\"mapbox\":{\"style\":\"light\"}}},\"xaxis\":{\"anchor\":\"y\",\"domain\":[0.0,1.0],\"title\":{\"text\":\"IV Mean 30\"}},\"yaxis\":{\"anchor\":\"x\",\"domain\":[0.0,1.0],\"title\":{\"text\":\"MSFT Adjusted Close Price\"}},\"legend\":{\"tracegroupgap\":0},\"title\":{\"text\":\"30 Day Implied Volatility vs MSFT Adjusted Close Price\"}},                        {\"responsive\": true}                    ).then(function(){\n",
              "                            \n",
              "var gd = document.getElementById('673b25c2-345a-48f0-b557-a8c5d8582e14');\n",
              "var x = new MutationObserver(function (mutations, observer) {{\n",
              "        var display = window.getComputedStyle(gd).display;\n",
              "        if (!display || display === 'none') {{\n",
              "            console.log([gd, 'removed!']);\n",
              "            Plotly.purge(gd);\n",
              "            observer.disconnect();\n",
              "        }}\n",
              "}});\n",
              "\n",
              "// Listen for the removal of the full notebook cells\n",
              "var notebookContainer = gd.closest('#notebook-container');\n",
              "if (notebookContainer) {{\n",
              "    x.observe(notebookContainer, {childList: true});\n",
              "}}\n",
              "\n",
              "// Listen for the clearing of the current output cell\n",
              "var outputEl = gd.closest('.output');\n",
              "if (outputEl) {{\n",
              "    x.observe(outputEl, {childList: true});\n",
              "}}\n",
              "\n",
              "                        })                };                            </script>        </div>\n",
              "</body>\n",
              "</html>"
            ]
          },
          "metadata": {}
        }
      ]
    },
    {
      "cell_type": "markdown",
      "metadata": {
        "id": "ZZ0upYIAIOyN"
      },
      "source": [
        "## CBOE Volatility"
      ]
    },
    {
      "cell_type": "markdown",
      "metadata": {
        "id": "9OXf2MIdJHHs"
      },
      "source": [
        "The CBOE Volatility Index (VIX), often called the 'fear gauge' is a popular measure that represents the stock market's expectation of volatility over the next 30 days, based on options prices of the S&P 500 index. While the VIX measures the market's overall volatility expectations, implied volatility refers to the expected volatility of a specific security or asset, in this case MSFT"
      ]
    },
    {
      "cell_type": "code",
      "execution_count": null,
      "metadata": {
        "colab": {
          "base_uri": "https://localhost:8080/"
        },
        "id": "B1j7GI6xJPYN",
        "outputId": "0ad98518-4b6d-467c-f512-a3e26c1420a0"
      },
      "outputs": [
        {
          "output_type": "stream",
          "name": "stderr",
          "text": [
            "[*********************100%%**********************]  1 of 1 completed\n",
            "[*********************100%%**********************]  1 of 1 completed\n",
            "[*********************100%%**********************]  1 of 1 completed\n",
            "[*********************100%%**********************]  1 of 1 completed\n"
          ]
        }
      ],
      "source": [
        "# Set starting and ending dates\n",
        "start_date = '2020-01-01'\n",
        "end_date = '2024-03-05'\n",
        "\n",
        "# List of ticker symbols\n",
        "vix_tickers = ['^VIX9D', '^VIX', '^VIX3M', '^VIX6M']\n",
        "\n",
        "# Create an empty DataFrame with a full date index\n",
        "vix_df = pd.DataFrame(index=pd.date_range(start_date, end_date))\n",
        "\n",
        "# Loop through each ticker symbol\n",
        "for vix_ticker in vix_tickers:\n",
        "    try:\n",
        "        # Download the data for the current ticker\n",
        "        price = yf.download(vix_ticker, start=start_date, end=end_date)['Adj Close']\n",
        "\n",
        "        # Add the downloaded data to the DataFrame using ffill to fill forward missing values\n",
        "        vix_df[vix_ticker] = price.reindex(vix_df.index, method='ffill').fillna(method='ffill')\n",
        "    except Exception as e:\n",
        "        print(f\"Error downloading data for {vix_ticker}: {e}\")\n",
        "\n",
        "\n",
        "vix_df = round(vix_df, 4)\n",
        "\n",
        "vix_df = vix_df.rename_axis('Date')\n",
        "\n",
        "common_index = msft_df.index.intersection(vix_df.index)\n",
        "\n",
        "vix_df = vix_df.loc[common_index]"
      ]
    },
    {
      "cell_type": "markdown",
      "metadata": {
        "id": "lBK4BTa1iVBI"
      },
      "source": [
        "## Stock Grade"
      ]
    },
    {
      "cell_type": "markdown",
      "metadata": {
        "id": "6RJdQNPIii1P"
      },
      "source": [
        "The stock rating provided by hedge funds, investment firms, and analysts. Data sourced from Financial Modeling Prep using an API Key"
      ]
    },
    {
      "cell_type": "code",
      "execution_count": null,
      "metadata": {
        "id": "dLLtM1x2jBoK"
      },
      "outputs": [],
      "source": [
        "grade_df = pd.read_csv('msft_grade_raw.csv')\n",
        "grade_df = grade_df.drop(columns = ['symbol', 'gradingCompany'])\n",
        "\n",
        "grade_to_category = {\n",
        "    'Sell': 1, 'Underperform': 1, 'Underweight': 1,\n",
        "    'Hold': 2, 'Neutral': 2, 'Market perform': 2, 'Perform': 2, 'Equal-Weight': 2, 'Sector Perform': 2, 'Equal-weight': 2,\n",
        "    'Overweight': 3, 'Buy': 3, 'Outperform': 3,\n",
        "    'Strong Buy': 4, 'Long-term buy': 4, 'Long-Term Buy': 4\n",
        "}\n",
        "\n",
        "# Function to map grade to category\n",
        "def map_grade_to_category(grade):\n",
        "  return grade_to_category.get(grade, None)\n",
        "\n",
        "\n",
        "def calculate_grade_change(row):\n",
        "\n",
        "  if pd.isnull(row['previousGrade']) or row['previousGrade'] == '':\n",
        "    return map_grade_to_category(row['newGrade'])\n",
        "  else:\n",
        "    prev_cat = map_grade_to_category(row['previousGrade'])\n",
        "    new_cat = map_grade_to_category(row['newGrade'])\n",
        "    if prev_cat is not None and new_cat is not None:\n",
        "      return new_cat - prev_cat\n",
        "    else:\n",
        "      return None\n",
        "\n",
        "# Apply the function row-wise\n",
        "grade_df['Grade Change'] = grade_df.apply(calculate_grade_change, axis=1)\n",
        "\n",
        "def map_new_grade_to_category(new_grade):\n",
        "  return grade_to_category.get(new_grade, None)\n",
        "# Apply the function to the 'newGrade' column to create the new 'Grade' column\n",
        "grade_df['Grade'] = grade_df['newGrade'].apply(map_new_grade_to_category)\n",
        "\n",
        "grade_df.rename(columns={'date': 'Date'}, inplace=True)\n",
        "\n",
        "grade_df['Date'] = pd.to_datetime(grade_df['Date'])\n",
        "\n",
        "grade_df = grade_df.groupby('Date')[['Grade Change', 'Grade']].mean().reset_index()\n",
        "\n",
        "grade_df = grade_df[grade_df['Date'] > pd.Timestamp('2019-12-31')]\n",
        "\n",
        "grade_df = grade_df.set_index('Date').dropna()\n"
      ]
    },
    {
      "cell_type": "code",
      "execution_count": null,
      "metadata": {
        "id": "kVBlQ5fCE8sb"
      },
      "outputs": [],
      "source": [
        "expanded_grade_df = grade_df.reindex(msft_df.index, method='ffill')\n",
        "merged_df = msft_df.merge(expanded_grade_df, left_index=True, right_index=True, how='left')\n",
        "grade_df = merged_df.drop('Adj Close', axis = 1)\n",
        "grade_df.iloc[:4] = grade_df.iloc[4]"
      ]
    },
    {
      "cell_type": "markdown",
      "metadata": {
        "id": "2Gpd3gQlK7Vc"
      },
      "source": [
        "## Analyst Recommendation"
      ]
    },
    {
      "cell_type": "markdown",
      "metadata": {
        "id": "tTVGhFCzLDjY"
      },
      "source": [
        "This is an analyst's opinion on the future performance of MSFT stock, expressed as strong sell, strong buy, buy, hold, or sell based on analysis of the Microsoft's fundamentals, industry position, and market conditions."
      ]
    },
    {
      "cell_type": "code",
      "execution_count": null,
      "metadata": {
        "id": "5WgTzSnzMr0N"
      },
      "outputs": [],
      "source": [
        "df = pd.read_csv('msft_analyst_recommendations_raw.csv')\n",
        "\n",
        "df['analystRecommendations'] = (\n",
        "    \"Buy: \" + df['analystRatingsbuy'].astype(str) +\n",
        "    \", Hold: \" + df['analystRatingsHold'].astype(str) +\n",
        "    \", Sell: \" + df['analystRatingsSell'].astype(str) +\n",
        "    \", Strong Sell: \" + df['analystRatingsStrongSell'].astype(str) +\n",
        "    \", Strong Buy: \" + df['analystRatingsStrongBuy'].astype(str)\n",
        ")\n",
        "\n",
        "weights = {\n",
        "    'analystRatingsStrongSell': -2,\n",
        "    'analystRatingsSell': -1,\n",
        "    'analystRatingsHold': 0,\n",
        "    'analystRatingsbuy': 1,\n",
        "    'analystRatingsStrongBuy': 2\n",
        "}\n",
        "\n",
        "# Calculating weighted score\n",
        "for column, weight in weights.items():\n",
        "    df[column + '_weighted'] = df[column] * weight\n",
        "\n",
        "# Sum the weighted scores into a single score\n",
        "df['weightedScore'] = df[[col + '_weighted' for col in weights]].sum(axis=1)\n",
        "\n"
      ]
    },
    {
      "cell_type": "code",
      "execution_count": null,
      "metadata": {
        "id": "TCXS_ND_NIhg"
      },
      "outputs": [],
      "source": [
        "recommendation_score = (\n",
        "    df[['date', 'weightedScore']]  # Select relevant columns\n",
        "    .rename(columns={'date': 'Date'})  # Rename 'date' to 'Date'\n",
        "    .assign(Date=lambda x: pd.to_datetime(x['Date']))  # Convert 'Date' to datetime\n",
        "    .query(\"Date > '2019-12-31'\")  # Filter dates after 2019-12-31\n",
        "    .sort_values('Date', ascending=True)  # Sort by 'Date'\n",
        "    .set_index('Date')\n",
        "    .dropna()\n",
        ")\n",
        "\n",
        "expanded_rec_score = recommendation_score.reindex(msft_df.index, method='ffill')\n",
        "merged_df = msft_df.merge(expanded_rec_score, left_index=True, right_index=True, how='left')\n",
        "recommendation_score = merged_df.drop('Adj Close', axis = 1)"
      ]
    },
    {
      "cell_type": "markdown",
      "metadata": {
        "id": "6UKTXSX2akgr"
      },
      "source": [
        "## Trading Volume"
      ]
    },
    {
      "cell_type": "markdown",
      "metadata": {
        "id": "r7fTMS1Wam8Z"
      },
      "source": [
        "The total number of stocks traded on a daily basis, indicating the overall activity and liquidity for MSFT in the market. <br>Data sourced from Yahoo! Finance"
      ]
    },
    {
      "cell_type": "code",
      "execution_count": null,
      "metadata": {
        "colab": {
          "base_uri": "https://localhost:8080/"
        },
        "id": "eBTjcH69bC_L",
        "outputId": "3ea8edeb-6d35-4467-fe56-9f3d45e2b0aa"
      },
      "outputs": [
        {
          "output_type": "stream",
          "name": "stderr",
          "text": [
            "\r[*********************100%%**********************]  1 of 1 completed\n"
          ]
        }
      ],
      "source": [
        "ticker_symbol = 'MSFT'\n",
        "start_date = '2020-01-01'\n",
        "end_date = '2024-03-06'\n",
        "volume = yf.download(ticker_symbol, start=start_date, end=end_date)\n",
        "volume = volume.drop(columns = ['Open','High','Low','Close','Adj Close'])"
      ]
    },
    {
      "cell_type": "markdown",
      "metadata": {
        "id": "xst2JJf6eLDl"
      },
      "source": [
        "## Income Statements (Quarterly)"
      ]
    },
    {
      "cell_type": "markdown",
      "metadata": {
        "id": "z_UCqu9EeTEk"
      },
      "source": [
        "Income statements for each quarter. The following code resamples this to daily amounts"
      ]
    },
    {
      "cell_type": "code",
      "execution_count": null,
      "metadata": {
        "id": "BsL2mWo_kDRr"
      },
      "outputs": [],
      "source": [
        "quarterly_income_statements = pd.read_csv('msft_q_income_statements_raw.csv')\n",
        "daily_is = (quarterly_income_statements\n",
        "            .drop(columns=['weightedAverageShsOut', 'weightedAverageShsOutDil',\n",
        "                           'grossProfitRatio', 'ebitdaratio', 'operatingIncomeRatio',\n",
        "                           'incomeBeforeTaxRatio', 'netIncomeRatio','fillingDate'])\n",
        "            .rename(columns={'date': 'Date'})\n",
        "            .assign(Date=lambda x: pd.to_datetime(x['Date']))\n",
        "            .sort_values(by='Date', ascending=True)\n",
        "            .set_index('Date')\n",
        "            .dropna())"
      ]
    },
    {
      "cell_type": "code",
      "execution_count": null,
      "metadata": {
        "id": "_Qtaxnkik-8Y"
      },
      "outputs": [],
      "source": [
        "prices = msft_df\n",
        "ful_daily_is = pd.DataFrame(index=daily_is.index)\n",
        "\n",
        "for column_name in daily_is.columns:\n",
        "  # Use the function on each column\n",
        "  interpolated_df = interpolate_daily_values(daily_is[column_name])\n",
        "\n",
        "  # Drop the 'Adj Close' column from the output\n",
        "  if 'Adj Close' in interpolated_df.columns:\n",
        "    interpolated_df.drop(columns=['Adj Close'], inplace=True)\n",
        "\n",
        "  # Change the column title of 'Daily Avg' to the name of the column from the daily_is DataFrame\n",
        "  interpolated_df.rename(columns={'Daily Avg': column_name}, inplace=True)\n",
        "\n",
        "  # Concatenate this output to ful_daily_is\n",
        "  ful_daily_is = pd.concat([ful_daily_is, interpolated_df], axis=1)\n",
        "\n",
        "daily_is = ful_daily_is\n",
        "daily_is = daily_is.dropna()"
      ]
    },
    {
      "cell_type": "code",
      "execution_count": null,
      "metadata": {
        "id": "S62OjsL77Tdl"
      },
      "outputs": [],
      "source": [
        "combined_index = daily_is.index.union(msft_df.index)\n",
        "daily_is_reindexed = daily_is.reindex(combined_index, method='ffill')"
      ]
    },
    {
      "cell_type": "markdown",
      "source": [
        "The income statement data ends at December, 2023. We will use the average growth rate from the 4th Quarter of 2023 to extrapolate values for January - March 2024 using income statement growth data from Financial Modeling Prep."
      ],
      "metadata": {
        "id": "KhXYGS6pYFzm"
      }
    },
    {
      "cell_type": "code",
      "execution_count": null,
      "metadata": {
        "id": "MHCSxjV28wZ5"
      },
      "outputs": [],
      "source": [
        "api_key = ''\n",
        "url = f'https://financialmodelingprep.com/api/v3/income-statement-growth/MSFT?period=quarter&apikey={api_key}'\n",
        "data = requests.get(url).json()\n"
      ]
    },
    {
      "cell_type": "code",
      "source": [
        "data = pd.read_csv('msft_is_growth.csv')\n",
        "data = pd.DataFrame(data)"
      ],
      "metadata": {
        "id": "AvFWdluSTsqA"
      },
      "execution_count": null,
      "outputs": []
    },
    {
      "cell_type": "code",
      "execution_count": null,
      "metadata": {
        "id": "AcI5sS_mAHS2"
      },
      "outputs": [],
      "source": [
        "data = data.drop(columns= ['date', 'symbol', 'calendarYear', 'period',\n",
        "                  'growthGrossProfitRatio', 'growthEBITDARatio',\n",
        "                  'growthOperatingIncomeRatio', 'growthIncomeBeforeTaxRatio',\n",
        "                  'growthNetIncomeRatio', 'growthWeightedAverageShsOut',\n",
        "                  'growthWeightedAverageShsOutDil'])\n"
      ]
    },
    {
      "cell_type": "code",
      "execution_count": null,
      "metadata": {
        "colab": {
          "base_uri": "https://localhost:8080/"
        },
        "id": "Ko8thYp-F4BE",
        "outputId": "2290021a-eca0-4e49-f6d9-f6e983bcb6e0"
      },
      "outputs": [
        {
          "output_type": "execute_result",
          "data": {
            "text/plain": [
              "0.10087824294736843"
            ]
          },
          "metadata": {},
          "execution_count": 29
        }
      ],
      "source": [
        "# Some columns in the income statement don't have a corresponding column in the income statement growth table.\n",
        "# For this we will use the average growth rate across all columns for that quarter.\n",
        "average = data.iloc[0].mean()\n",
        "average"
      ]
    },
    {
      "cell_type": "code",
      "execution_count": null,
      "metadata": {
        "id": "fxwdURX8FMaX"
      },
      "outputs": [],
      "source": [
        "growth_to_column_mapping = {\n",
        "    'growthRevenue': 'revenue',\n",
        "    'growthCostOfRevenue': 'costOfRevenue',\n",
        "    'growthGrossProfit': 'grossProfit',\n",
        "    'growthResearchAndDevelopmentExpenses': 'researchAndDevelopmentExpenses',\n",
        "    'growthGeneralAndAdministrativeExpenses': 'generalAndAdministrativeExpenses',\n",
        "    'growthSellingAndMarketingExpenses': 'sellingAndMarketingExpenses',\n",
        "    'growthOtherExpenses': 'otherExpenses',\n",
        "    'growthOperatingExpenses': 'operatingExpenses',\n",
        "    'growthCostAndExpenses': 'costAndExpenses',\n",
        "    'growthInterestExpense': 'interestExpense',\n",
        "    'growthDepreciationAndAmortization': 'depreciationAndAmortization',\n",
        "    'growthEBITDA': 'ebitda',\n",
        "    'growthOperatingIncome': 'operatingIncome',\n",
        "    'growthTotalOtherIncomeExpensesNet': 'totalOtherIncomeExpensesNet',\n",
        "    'growthIncomeBeforeTax': 'incomeBeforeTax',\n",
        "    'growthIncomeTaxExpense': 'incomeTaxExpense',\n",
        "    'growthNetIncome': 'netIncome',\n",
        "    'growthEPS': 'eps',\n",
        "    'growthEPSDiluted': 'epsdiluted'\n",
        "}\n",
        "\n",
        "growth_rates_df = pd.DataFrame(index=daily_is.index, columns=daily_is.columns)\n",
        "\n",
        "# Populate growth_rates_df with growth rates using the mapping\n",
        "for growth_key, column_name in growth_to_column_mapping.items():\n",
        "  if column_name in growth_rates_df.columns:\n",
        "    # Assign the value from data[0] to the correct column in growth_rates_df\n",
        "    growth_rates_df[column_name] = data.iloc[0].get(growth_key, None)\n",
        "growth_rates_df = growth_rates_df.iloc[-1]\n",
        "growth_rates_df.fillna(average, inplace=True)"
      ]
    },
    {
      "cell_type": "code",
      "execution_count": null,
      "metadata": {
        "id": "KAYX9l3Tq1h4"
      },
      "outputs": [],
      "source": [
        "daily_is_complete = pd.read_csv('msft_daily_income_statements.csv', parse_dates=['Date']).set_index('Date')"
      ]
    },
    {
      "cell_type": "markdown",
      "source": [
        "Income statement line items like those relating to shares and ratios can't be interpolated using the method above, but should be forward filled."
      ],
      "metadata": {
        "id": "XWUAML-JZHwW"
      }
    },
    {
      "cell_type": "code",
      "execution_count": null,
      "metadata": {
        "id": "vy2yxC0Gt2yh"
      },
      "outputs": [],
      "source": [
        "shares_ratios = pd.DataFrame(data = quarterly_income_statements[['weightedAverageShsOut', 'weightedAverageShsOutDil',\n",
        "                           'grossProfitRatio', 'ebitdaratio', 'operatingIncomeRatio',\n",
        "                           'incomeBeforeTaxRatio', 'netIncomeRatio','date']] ).dropna().rename(columns={'date': 'Date'}).set_index('Date')\n",
        "\n",
        "growth_rates = shares_ratios.pct_change()\n",
        "\n",
        "# Calculate the average of these growth rates for each column\n",
        "average_growth_rates = growth_rates.mean()\n",
        "\n",
        "shares_ratios.index = pd.to_datetime(shares_ratios.index)\n",
        "shares_ratios = shares_ratios.reindex(msft_df.index)\n",
        "shares_ratios = shares_ratios.ffill()"
      ]
    },
    {
      "cell_type": "code",
      "execution_count": null,
      "metadata": {
        "id": "jkaIdF0SJqNn"
      },
      "outputs": [],
      "source": [
        "# Since the data starts on March, 2020, the previous values need to be backfilled.\n",
        "# Calculate the adjusted values for backfilling using the values at index 61\n",
        "values_at_62nd_row = shares_ratios.iloc[61]\n",
        "adjusted_values = values_at_62nd_row / (1 - average_growth_rates)\n",
        "\n",
        "# Create a DataFrame with adjusted values repeated for the first 61 rows\n",
        "adjusted_df = pd.DataFrame([adjusted_values] * 61, index=shares_ratios.index[:61])\n",
        "\n",
        "shares_ratios.update(adjusted_df)\n",
        "\n",
        "shares_ratios.ffill(inplace=True)"
      ]
    },
    {
      "cell_type": "markdown",
      "metadata": {
        "id": "eiETJAposRKf"
      },
      "source": [
        "## Balance Sheet"
      ]
    },
    {
      "cell_type": "markdown",
      "source": [
        "Provides a snapshot of a company's financial position at a specific point in time. Data obtained from Financial Modeling Prep."
      ],
      "metadata": {
        "id": "mGyzqw9PaKqq"
      }
    },
    {
      "cell_type": "code",
      "execution_count": null,
      "metadata": {
        "id": "Ah39iBviNWa6"
      },
      "outputs": [],
      "source": [
        "qbs = pd.read_csv('msft_q_balance_sheet.csv')"
      ]
    },
    {
      "cell_type": "code",
      "execution_count": null,
      "metadata": {
        "id": "6bOxEbVpN4Bl"
      },
      "outputs": [],
      "source": [
        "dbs = (qbs.assign(Date=pd.to_datetime(qbs['Date']))\n",
        "         .set_index('Date')\n",
        "         .reindex(msft_df.index)\n",
        "         .interpolate(method='linear'))"
      ]
    },
    {
      "cell_type": "code",
      "execution_count": null,
      "metadata": {
        "id": "qiYHlgXQQgTL"
      },
      "outputs": [],
      "source": [
        "starting_values = qbs.iloc[0]\n",
        "ending_values = dbs.iloc[61]\n",
        "\n",
        "# Calculate the number of points to interpolate, including the start and end\n",
        "num_points = 62\n",
        "\n",
        "# Step 2: Generate interpolated values for the first 61 rows\n",
        "for column in dbs.columns:\n",
        "  # Calculate slope (m)\n",
        "  slope = (ending_values[column] - starting_values[column]) / (num_points - 1)\n",
        "\n",
        "  # Calculate y-intercept (b), using y = mx + b, where x = 0 for the start\n",
        "  intercept = starting_values[column]\n",
        "\n",
        "  # Generate interpolated values for each point\n",
        "  interpolated_values = [intercept + slope * x for x in range(num_points)]\n",
        "\n",
        "  # Fill in the NaN values in the first 61 rows\n",
        "  dbs[column].iloc[:62] = interpolated_values\n",
        "\n",
        "# Ensure interpolation didn't unintentionally modify values beyond the first 62 rows\n",
        "dbs.iloc[62:] = dbs.iloc[62:].ffill()"
      ]
    },
    {
      "cell_type": "markdown",
      "metadata": {
        "id": "24MiZdQKr_Tu"
      },
      "source": [
        "## Cash Flow Statement"
      ]
    },
    {
      "cell_type": "markdown",
      "source": [
        "A summary of a company's cash inflows and outflows over a period of time."
      ],
      "metadata": {
        "id": "STw5lsaIaerh"
      }
    },
    {
      "cell_type": "code",
      "execution_count": null,
      "metadata": {
        "id": "Ph5Lc0WRuTIq"
      },
      "outputs": [],
      "source": [
        "qcf = pd.read_csv('msft_q_cash_flow.csv')\n",
        "qcf = (qcf.assign(Date=pd.to_datetime(qcf['Date']))\n",
        "         .set_index('Date'))\n",
        "qcf = qcf.iloc[1:]"
      ]
    },
    {
      "cell_type": "code",
      "execution_count": null,
      "metadata": {
        "id": "suqYAyEdzXrI"
      },
      "outputs": [],
      "source": [
        "prices = msft_df\n",
        "ful_daily_cf = pd.DataFrame(index=prices.index)\n",
        "\n",
        "for column_name in qcf.columns:\n",
        "\n",
        "  interpolated_df = interpolate_daily_values(qcf[column_name])\n",
        "\n",
        "  if 'Adj Close' in interpolated_df.columns:\n",
        "    interpolated_df.drop(columns=['Adj Close'], inplace=True)\n",
        "\n",
        "  interpolated_df.rename(columns={'Daily Avg': column_name}, inplace=True)\n",
        "\n",
        "  ful_daily_cf = pd.concat([ful_daily_cf, interpolated_df], axis=1)\n",
        "\n",
        "dcf = ful_daily_cf\n",
        "dcf = dcf.dropna()"
      ]
    },
    {
      "cell_type": "code",
      "execution_count": null,
      "metadata": {
        "id": "-NYfJkyi9M7S"
      },
      "outputs": [],
      "source": [
        "daily_cf = pd.read_csv('msft_daily_cash_flow.csv', parse_dates=['Date']).set_index('Date')"
      ]
    },
    {
      "cell_type": "markdown",
      "metadata": {
        "id": "tnyKYcWqOJCo"
      },
      "source": [
        "## Earnings Surprise"
      ]
    },
    {
      "cell_type": "markdown",
      "metadata": {
        "id": "zLARqdqyON4I"
      },
      "source": [
        "The difference between actual earnings per share and earnings expected by analysts prior to earnings release. Data obtained from Financial Modeling Prep."
      ]
    },
    {
      "cell_type": "code",
      "execution_count": null,
      "metadata": {
        "id": "W3W5PxjCP7wi"
      },
      "outputs": [],
      "source": [
        "surprise = pd.read_csv('msft_earnings_surprise.csv')\n",
        "surprise = (surprise.assign(Date=pd.to_datetime(surprise['Date']))\n",
        "         .set_index('Date')\n",
        "         .reindex(msft_df.index)\n",
        "         .fillna(0))"
      ]
    },
    {
      "cell_type": "markdown",
      "metadata": {
        "id": "aYsITeD-XSRf"
      },
      "source": [
        "## Earnings Call Transcripts"
      ]
    },
    {
      "cell_type": "markdown",
      "source": [
        "Transcripts from quarterly earnings calls. Data obtained from AlphaVantage."
      ],
      "metadata": {
        "id": "lwrJRacib8yl"
      }
    },
    {
      "cell_type": "code",
      "source": [
        "# Download data from AlphaVantage and save to csv file\n",
        "relevant_data = []\n",
        "\n",
        "# Define start and end dates as datetime objects\n",
        "start_date = datetime(2022, 3, 1)\n",
        "end_date = datetime(2024, 3, 6)\n",
        "\n",
        "# Define API key\n",
        "api_key = ''\n",
        "\n",
        "# Loop through date range with 1-day increments\n",
        "while start_date <= end_date:\n",
        "  # Convert start and end dates to string format\n",
        "  time_from = start_date.strftime('%Y%m%d')\n",
        "  time_to = (start_date + timedelta(days=1)).strftime('%Y%m%d')\n",
        "\n",
        "  url = f'https://www.alphavantage.co/query?function=NEWS_SENTIMENT&tickers=MSFT&time_from={time_from}T0000&time_to={time_to}T0000&apikey={api_key}'\n",
        "\n",
        "  r = requests.get(url)\n",
        "\n",
        "  if r.status_code == 200:\n",
        "    # Parse JSON response\n",
        "    data = r.json()\n",
        "\n",
        "    for item in data['feed']:\n",
        "      if 'ticker_sentiment' in item:\n",
        "        for sentiment_item in item['ticker_sentiment']:\n",
        "          if 'ticker' in sentiment_item and 'relevance_score' in sentiment_item:\n",
        "            if sentiment_item['ticker'] == 'MSFT':\n",
        "              relevance_score = float(sentiment_item['relevance_score'])\n",
        "              if relevance_score > 0.7:\n",
        "                relevant_data.append(item)\n",
        "                break  # No need to continue checking ticker_sentiment if MSFT is found\n",
        "\n",
        "  start_date += timedelta(days=1)\n",
        "\n",
        "df = pd.DataFrame(relevant_data)\n",
        "\n",
        "# Save DataFrame to a CSV file\n",
        "csv_filename = 'relevant_data.csv'\n",
        "df.to_csv(csv_filename, index=False)\n",
        "files.download(csv_filename)"
      ],
      "metadata": {
        "id": "rnQdsS4TcExA"
      },
      "execution_count": null,
      "outputs": []
    },
    {
      "cell_type": "code",
      "source": [
        "# Read the uploaded CSV file into a DataFrame\n",
        "relevant_data_all_columns = pd.read_csv('relevant_data.csv')\n",
        "relevant_data_all_columns['ticker_sentiment'] = relevant_data_all_columns['ticker_sentiment'].apply(ast.literal_eval)"
      ],
      "metadata": {
        "id": "0b4uWNqAdNlQ"
      },
      "execution_count": null,
      "outputs": []
    },
    {
      "cell_type": "code",
      "execution_count": null,
      "metadata": {
        "id": "ZT8TJ4fhZiV0"
      },
      "outputs": [],
      "source": [
        "msft_avg_sentiment = []\n",
        "\n",
        "for i in tqdm(range(len(msft_transcripts))):\n",
        "  transcript = msft_transcripts['Text'].iloc[i]\n",
        "  sentences = sent_tokenize(transcript)\n",
        "  # Trim first two and last 2 items from sentence list\n",
        "  sentences = sentences[2:-2]\n",
        "  # Create a dataframe to calculate the score for each item in the sentence list.\n",
        "  sentences_df = pd.DataFrame(sentences, columns=['Text'])\n",
        "  sentiment_results = sentences_df.apply(get_sentiment, axis=1)\n",
        "  sentiment_results.columns = ['Sentence', 'Label', 'Score']\n",
        "  # Remove neutral scores\n",
        "  sentiment_results = sentiment_results[sentiment_results['Label'] != 'neutral']\n",
        "  # Remove sentences with low sentiment\n",
        "    rows_to_drop = int(len(sentiment_results) * 0.3)\n",
        "  sentiment_results = sentiment_results.sort_values(by = 'Score', ascending = True).iloc[rows_to_drop:]\n",
        "  # Convert negative sentiment scores\n",
        "  sentiment_results['Score'] = sentiment_results.apply(lambda row: -row['Score'] if row['Label'] == 'negative' else row['Score'], axis=1)\n",
        "  # Calculate average sentiment score for the call\n",
        "  avg_sentiment = sum(sentiment_results['Score'])/len(sentiment_results)\n",
        "  msft_avg_sentiment.append(avg_sentiment)\n",
        "\n",
        "msft_transcripts['Sentiment'] = msft_avg_sentiment"
      ]
    },
    {
      "cell_type": "code",
      "execution_count": null,
      "metadata": {
        "id": "Y-arS483ZtWL"
      },
      "outputs": [],
      "source": [
        "# Save DataFrame to a CSV file\n",
        "csv_filename = 'msft_transcripts_with_sentiment.csv'\n",
        "msft_transcripts.to_csv(csv_filename, index=False)\n",
        "\n",
        "# Download the CSV file to your local machine\n",
        "files.download(csv_filename)\n",
        "\n",
        "Upload a CSV file\n",
        "uploaded = files.upload()\n",
        "\n",
        "# Check the uploaded files\n",
        "for filename in uploaded.keys():\n",
        "    print(f'Uploaded file: {filename}')"
      ]
    },
    {
      "cell_type": "code",
      "execution_count": null,
      "metadata": {
        "id": "3bvPI2k1Z-q7"
      },
      "outputs": [],
      "source": [
        "transcripts = pd.read_csv('msft_transcripts_with_sentiment.csv')\n",
        "transcripts = pd.DataFrame(transcripts[['Date','Sentiment']]).drop_duplicates().set_index('Date').reindex(msft_df.index).fillna(0)"
      ]
    },
    {
      "cell_type": "code",
      "execution_count": null,
      "metadata": {
        "colab": {
          "base_uri": "https://localhost:8080/",
          "height": 237
        },
        "id": "6_e1P61YaGZv",
        "outputId": "a9820114-703f-4d2f-99bc-7a6d2929c066"
      },
      "outputs": [
        {
          "output_type": "execute_result",
          "data": {
            "text/plain": [
              "            Sentiment\n",
              "Date                 \n",
              "2024-02-28        0.0\n",
              "2024-02-29        0.0\n",
              "2024-03-01        0.0\n",
              "2024-03-04        0.0\n",
              "2024-03-05        0.0"
            ],
            "text/html": [
              "\n",
              "  <div id=\"df-0cf4d009-e326-4a18-b7a4-00111086a0da\" class=\"colab-df-container\">\n",
              "    <div>\n",
              "<style scoped>\n",
              "    .dataframe tbody tr th:only-of-type {\n",
              "        vertical-align: middle;\n",
              "    }\n",
              "\n",
              "    .dataframe tbody tr th {\n",
              "        vertical-align: top;\n",
              "    }\n",
              "\n",
              "    .dataframe thead th {\n",
              "        text-align: right;\n",
              "    }\n",
              "</style>\n",
              "<table border=\"1\" class=\"dataframe\">\n",
              "  <thead>\n",
              "    <tr style=\"text-align: right;\">\n",
              "      <th></th>\n",
              "      <th>Sentiment</th>\n",
              "    </tr>\n",
              "    <tr>\n",
              "      <th>Date</th>\n",
              "      <th></th>\n",
              "    </tr>\n",
              "  </thead>\n",
              "  <tbody>\n",
              "    <tr>\n",
              "      <th>2024-02-28</th>\n",
              "      <td>0.0</td>\n",
              "    </tr>\n",
              "    <tr>\n",
              "      <th>2024-02-29</th>\n",
              "      <td>0.0</td>\n",
              "    </tr>\n",
              "    <tr>\n",
              "      <th>2024-03-01</th>\n",
              "      <td>0.0</td>\n",
              "    </tr>\n",
              "    <tr>\n",
              "      <th>2024-03-04</th>\n",
              "      <td>0.0</td>\n",
              "    </tr>\n",
              "    <tr>\n",
              "      <th>2024-03-05</th>\n",
              "      <td>0.0</td>\n",
              "    </tr>\n",
              "  </tbody>\n",
              "</table>\n",
              "</div>\n",
              "    <div class=\"colab-df-buttons\">\n",
              "\n",
              "  <div class=\"colab-df-container\">\n",
              "    <button class=\"colab-df-convert\" onclick=\"convertToInteractive('df-0cf4d009-e326-4a18-b7a4-00111086a0da')\"\n",
              "            title=\"Convert this dataframe to an interactive table.\"\n",
              "            style=\"display:none;\">\n",
              "\n",
              "  <svg xmlns=\"http://www.w3.org/2000/svg\" height=\"24px\" viewBox=\"0 -960 960 960\">\n",
              "    <path d=\"M120-120v-720h720v720H120Zm60-500h600v-160H180v160Zm220 220h160v-160H400v160Zm0 220h160v-160H400v160ZM180-400h160v-160H180v160Zm440 0h160v-160H620v160ZM180-180h160v-160H180v160Zm440 0h160v-160H620v160Z\"/>\n",
              "  </svg>\n",
              "    </button>\n",
              "\n",
              "  <style>\n",
              "    .colab-df-container {\n",
              "      display:flex;\n",
              "      gap: 12px;\n",
              "    }\n",
              "\n",
              "    .colab-df-convert {\n",
              "      background-color: #E8F0FE;\n",
              "      border: none;\n",
              "      border-radius: 50%;\n",
              "      cursor: pointer;\n",
              "      display: none;\n",
              "      fill: #1967D2;\n",
              "      height: 32px;\n",
              "      padding: 0 0 0 0;\n",
              "      width: 32px;\n",
              "    }\n",
              "\n",
              "    .colab-df-convert:hover {\n",
              "      background-color: #E2EBFA;\n",
              "      box-shadow: 0px 1px 2px rgba(60, 64, 67, 0.3), 0px 1px 3px 1px rgba(60, 64, 67, 0.15);\n",
              "      fill: #174EA6;\n",
              "    }\n",
              "\n",
              "    .colab-df-buttons div {\n",
              "      margin-bottom: 4px;\n",
              "    }\n",
              "\n",
              "    [theme=dark] .colab-df-convert {\n",
              "      background-color: #3B4455;\n",
              "      fill: #D2E3FC;\n",
              "    }\n",
              "\n",
              "    [theme=dark] .colab-df-convert:hover {\n",
              "      background-color: #434B5C;\n",
              "      box-shadow: 0px 1px 3px 1px rgba(0, 0, 0, 0.15);\n",
              "      filter: drop-shadow(0px 1px 2px rgba(0, 0, 0, 0.3));\n",
              "      fill: #FFFFFF;\n",
              "    }\n",
              "  </style>\n",
              "\n",
              "    <script>\n",
              "      const buttonEl =\n",
              "        document.querySelector('#df-0cf4d009-e326-4a18-b7a4-00111086a0da button.colab-df-convert');\n",
              "      buttonEl.style.display =\n",
              "        google.colab.kernel.accessAllowed ? 'block' : 'none';\n",
              "\n",
              "      async function convertToInteractive(key) {\n",
              "        const element = document.querySelector('#df-0cf4d009-e326-4a18-b7a4-00111086a0da');\n",
              "        const dataTable =\n",
              "          await google.colab.kernel.invokeFunction('convertToInteractive',\n",
              "                                                    [key], {});\n",
              "        if (!dataTable) return;\n",
              "\n",
              "        const docLinkHtml = 'Like what you see? Visit the ' +\n",
              "          '<a target=\"_blank\" href=https://colab.research.google.com/notebooks/data_table.ipynb>data table notebook</a>'\n",
              "          + ' to learn more about interactive tables.';\n",
              "        element.innerHTML = '';\n",
              "        dataTable['output_type'] = 'display_data';\n",
              "        await google.colab.output.renderOutput(dataTable, element);\n",
              "        const docLink = document.createElement('div');\n",
              "        docLink.innerHTML = docLinkHtml;\n",
              "        element.appendChild(docLink);\n",
              "      }\n",
              "    </script>\n",
              "  </div>\n",
              "\n",
              "\n",
              "<div id=\"df-397fe446-0982-4e8e-831c-315c697c2513\">\n",
              "  <button class=\"colab-df-quickchart\" onclick=\"quickchart('df-397fe446-0982-4e8e-831c-315c697c2513')\"\n",
              "            title=\"Suggest charts\"\n",
              "            style=\"display:none;\">\n",
              "\n",
              "<svg xmlns=\"http://www.w3.org/2000/svg\" height=\"24px\"viewBox=\"0 0 24 24\"\n",
              "     width=\"24px\">\n",
              "    <g>\n",
              "        <path d=\"M19 3H5c-1.1 0-2 .9-2 2v14c0 1.1.9 2 2 2h14c1.1 0 2-.9 2-2V5c0-1.1-.9-2-2-2zM9 17H7v-7h2v7zm4 0h-2V7h2v10zm4 0h-2v-4h2v4z\"/>\n",
              "    </g>\n",
              "</svg>\n",
              "  </button>\n",
              "\n",
              "<style>\n",
              "  .colab-df-quickchart {\n",
              "      --bg-color: #E8F0FE;\n",
              "      --fill-color: #1967D2;\n",
              "      --hover-bg-color: #E2EBFA;\n",
              "      --hover-fill-color: #174EA6;\n",
              "      --disabled-fill-color: #AAA;\n",
              "      --disabled-bg-color: #DDD;\n",
              "  }\n",
              "\n",
              "  [theme=dark] .colab-df-quickchart {\n",
              "      --bg-color: #3B4455;\n",
              "      --fill-color: #D2E3FC;\n",
              "      --hover-bg-color: #434B5C;\n",
              "      --hover-fill-color: #FFFFFF;\n",
              "      --disabled-bg-color: #3B4455;\n",
              "      --disabled-fill-color: #666;\n",
              "  }\n",
              "\n",
              "  .colab-df-quickchart {\n",
              "    background-color: var(--bg-color);\n",
              "    border: none;\n",
              "    border-radius: 50%;\n",
              "    cursor: pointer;\n",
              "    display: none;\n",
              "    fill: var(--fill-color);\n",
              "    height: 32px;\n",
              "    padding: 0;\n",
              "    width: 32px;\n",
              "  }\n",
              "\n",
              "  .colab-df-quickchart:hover {\n",
              "    background-color: var(--hover-bg-color);\n",
              "    box-shadow: 0 1px 2px rgba(60, 64, 67, 0.3), 0 1px 3px 1px rgba(60, 64, 67, 0.15);\n",
              "    fill: var(--button-hover-fill-color);\n",
              "  }\n",
              "\n",
              "  .colab-df-quickchart-complete:disabled,\n",
              "  .colab-df-quickchart-complete:disabled:hover {\n",
              "    background-color: var(--disabled-bg-color);\n",
              "    fill: var(--disabled-fill-color);\n",
              "    box-shadow: none;\n",
              "  }\n",
              "\n",
              "  .colab-df-spinner {\n",
              "    border: 2px solid var(--fill-color);\n",
              "    border-color: transparent;\n",
              "    border-bottom-color: var(--fill-color);\n",
              "    animation:\n",
              "      spin 1s steps(1) infinite;\n",
              "  }\n",
              "\n",
              "  @keyframes spin {\n",
              "    0% {\n",
              "      border-color: transparent;\n",
              "      border-bottom-color: var(--fill-color);\n",
              "      border-left-color: var(--fill-color);\n",
              "    }\n",
              "    20% {\n",
              "      border-color: transparent;\n",
              "      border-left-color: var(--fill-color);\n",
              "      border-top-color: var(--fill-color);\n",
              "    }\n",
              "    30% {\n",
              "      border-color: transparent;\n",
              "      border-left-color: var(--fill-color);\n",
              "      border-top-color: var(--fill-color);\n",
              "      border-right-color: var(--fill-color);\n",
              "    }\n",
              "    40% {\n",
              "      border-color: transparent;\n",
              "      border-right-color: var(--fill-color);\n",
              "      border-top-color: var(--fill-color);\n",
              "    }\n",
              "    60% {\n",
              "      border-color: transparent;\n",
              "      border-right-color: var(--fill-color);\n",
              "    }\n",
              "    80% {\n",
              "      border-color: transparent;\n",
              "      border-right-color: var(--fill-color);\n",
              "      border-bottom-color: var(--fill-color);\n",
              "    }\n",
              "    90% {\n",
              "      border-color: transparent;\n",
              "      border-bottom-color: var(--fill-color);\n",
              "    }\n",
              "  }\n",
              "</style>\n",
              "\n",
              "  <script>\n",
              "    async function quickchart(key) {\n",
              "      const quickchartButtonEl =\n",
              "        document.querySelector('#' + key + ' button');\n",
              "      quickchartButtonEl.disabled = true;  // To prevent multiple clicks.\n",
              "      quickchartButtonEl.classList.add('colab-df-spinner');\n",
              "      try {\n",
              "        const charts = await google.colab.kernel.invokeFunction(\n",
              "            'suggestCharts', [key], {});\n",
              "      } catch (error) {\n",
              "        console.error('Error during call to suggestCharts:', error);\n",
              "      }\n",
              "      quickchartButtonEl.classList.remove('colab-df-spinner');\n",
              "      quickchartButtonEl.classList.add('colab-df-quickchart-complete');\n",
              "    }\n",
              "    (() => {\n",
              "      let quickchartButtonEl =\n",
              "        document.querySelector('#df-397fe446-0982-4e8e-831c-315c697c2513 button');\n",
              "      quickchartButtonEl.style.display =\n",
              "        google.colab.kernel.accessAllowed ? 'block' : 'none';\n",
              "    })();\n",
              "  </script>\n",
              "</div>\n",
              "\n",
              "    </div>\n",
              "  </div>\n"
            ],
            "application/vnd.google.colaboratory.intrinsic+json": {
              "type": "dataframe",
              "summary": "{\n  \"name\": \"transcripts\",\n  \"rows\": 5,\n  \"fields\": [\n    {\n      \"column\": \"Date\",\n      \"properties\": {\n        \"dtype\": \"date\",\n        \"min\": \"2024-02-28 00:00:00\",\n        \"max\": \"2024-03-05 00:00:00\",\n        \"num_unique_values\": 5,\n        \"samples\": [\n          \"2024-02-29 00:00:00\",\n          \"2024-03-05 00:00:00\",\n          \"2024-03-01 00:00:00\"\n        ],\n        \"semantic_type\": \"\",\n        \"description\": \"\"\n      }\n    },\n    {\n      \"column\": \"Sentiment\",\n      \"properties\": {\n        \"dtype\": \"number\",\n        \"std\": 0.0,\n        \"min\": 0.0,\n        \"max\": 0.0,\n        \"num_unique_values\": 1,\n        \"samples\": [\n          0.0\n        ],\n        \"semantic_type\": \"\",\n        \"description\": \"\"\n      }\n    }\n  ]\n}"
            }
          },
          "metadata": {},
          "execution_count": 46
        }
      ],
      "source": [
        "transcripts.tail()"
      ]
    },
    {
      "cell_type": "markdown",
      "metadata": {
        "id": "1mBVYmyW6Trk"
      },
      "source": [
        "## Congress Trades"
      ]
    },
    {
      "cell_type": "code",
      "execution_count": null,
      "metadata": {
        "id": "tuzbhWLe63NC"
      },
      "outputs": [],
      "source": [
        "congress = (pd.read_csv('msft_congress.csv')\n",
        "              .drop(columns=['Range', 'House', 'Party', 'last_modified', 'Ticker', 'ReportDate', 'Unnamed: 0', 'Representative'])\n",
        "              .replace({'Transaction': {'Sale (Partial)': 'Sale', 'Sale (Full)': 'Sale'}})\n",
        "              .rename(columns={'TransactionDate': 'Date'})\n",
        "              .assign(Date=lambda df: pd.to_datetime(df['Date'])))\n",
        "\n",
        "congress['congress_net_trade'] = np.where(congress['Transaction'] == 'Purchase',\n",
        "                                          congress['Amount'],\n",
        "                                          -congress['Amount'])\n",
        "\n",
        "congress = (congress.drop(columns=['Transaction', 'Amount'])\n",
        "                             .groupby('Date')['congress_net_trade']\n",
        "                             .sum())\n",
        "congress = pd.DataFrame(congress)"
      ]
    },
    {
      "cell_type": "code",
      "execution_count": null,
      "metadata": {
        "id": "MdKRCf8ULUSC"
      },
      "outputs": [],
      "source": [
        "congress = congress.reindex(msft_df.index).fillna(0)"
      ]
    },
    {
      "cell_type": "markdown",
      "source": [
        "Is there an increase in the price of MSFT in the days following a purchase transaction?"
      ],
      "metadata": {
        "id": "4QCnpIBIhnF5"
      }
    },
    {
      "cell_type": "code",
      "source": [
        "msft_congress = pd.read_csv('msft_congress.csv')\n",
        "msft_congress_df = pd.DataFrame(msft_congress)\n",
        "\n",
        "# MSFT Purchase Transactions\n",
        "msft_purchase_transaction = msft_congress_df[msft_congress_df['Transaction'] == 'Purchase'].copy()\n",
        "msft_purchase_transaction = msft_purchase_transaction.drop(columns = ['Representative','Transaction', 'Unnamed: 0'])\n",
        "msft_purchase_transaction = msft_purchase_transaction.sort_values(by='TransactionDate', ascending=True)\n",
        "msft_purchase_transaction['Amount'] = msft_purchase_transaction['Amount'].astype(float)\n",
        "two_lowest_values = msft_purchase_transaction['Amount'].nsmallest(2).unique()\n",
        "msft_purchase_transaction = msft_purchase_transaction[~msft_purchase_transaction['Amount'].isin(two_lowest_values)]\n",
        "msft_purchase_transaction['TransactionDate'] = pd.to_datetime(msft_purchase_transaction['TransactionDate'])\n",
        "msft_purchase_transaction = msft_purchase_transaction.sort_values(by = 'TransactionDate')\n",
        "msft_purchase_transaction.head()"
      ],
      "metadata": {
        "colab": {
          "base_uri": "https://localhost:8080/",
          "height": 206
        },
        "id": "tG3DvxWbhmEq",
        "outputId": "55befb1d-fd06-415e-84de-92204bcc2d3e"
      },
      "execution_count": null,
      "outputs": [
        {
          "output_type": "execute_result",
          "data": {
            "text/plain": [
              "    ReportDate TransactionDate Ticker               Range            House  \\\n",
              "780  8/29/2014      2013-07-19   MSFT   $15,001 - $50,000  Representatives   \n",
              "779  8/29/2014      2013-09-15   MSFT   $15,001 - $50,000  Representatives   \n",
              "761  8/12/2014      2014-07-08   MSFT   $15,001 - $50,000  Representatives   \n",
              "742  7/28/2015      2015-06-23   MSFT   $15,001 - $50,000  Representatives   \n",
              "741  7/28/2015      2015-06-26   MSFT  $50,001 - $100,000  Representatives   \n",
              "\n",
              "      Amount Party last_modified  \n",
              "780  15001.0     R    11/16/2023  \n",
              "779  15001.0     R    11/16/2023  \n",
              "761  15001.0     R    11/16/2023  \n",
              "742  15001.0     D    11/16/2023  \n",
              "741  50001.0     D    11/16/2023  "
            ],
            "text/html": [
              "\n",
              "  <div id=\"df-a5bc239f-c52e-4216-8253-a707ea84e81a\" class=\"colab-df-container\">\n",
              "    <div>\n",
              "<style scoped>\n",
              "    .dataframe tbody tr th:only-of-type {\n",
              "        vertical-align: middle;\n",
              "    }\n",
              "\n",
              "    .dataframe tbody tr th {\n",
              "        vertical-align: top;\n",
              "    }\n",
              "\n",
              "    .dataframe thead th {\n",
              "        text-align: right;\n",
              "    }\n",
              "</style>\n",
              "<table border=\"1\" class=\"dataframe\">\n",
              "  <thead>\n",
              "    <tr style=\"text-align: right;\">\n",
              "      <th></th>\n",
              "      <th>ReportDate</th>\n",
              "      <th>TransactionDate</th>\n",
              "      <th>Ticker</th>\n",
              "      <th>Range</th>\n",
              "      <th>House</th>\n",
              "      <th>Amount</th>\n",
              "      <th>Party</th>\n",
              "      <th>last_modified</th>\n",
              "    </tr>\n",
              "  </thead>\n",
              "  <tbody>\n",
              "    <tr>\n",
              "      <th>780</th>\n",
              "      <td>8/29/2014</td>\n",
              "      <td>2013-07-19</td>\n",
              "      <td>MSFT</td>\n",
              "      <td>$15,001 - $50,000</td>\n",
              "      <td>Representatives</td>\n",
              "      <td>15001.0</td>\n",
              "      <td>R</td>\n",
              "      <td>11/16/2023</td>\n",
              "    </tr>\n",
              "    <tr>\n",
              "      <th>779</th>\n",
              "      <td>8/29/2014</td>\n",
              "      <td>2013-09-15</td>\n",
              "      <td>MSFT</td>\n",
              "      <td>$15,001 - $50,000</td>\n",
              "      <td>Representatives</td>\n",
              "      <td>15001.0</td>\n",
              "      <td>R</td>\n",
              "      <td>11/16/2023</td>\n",
              "    </tr>\n",
              "    <tr>\n",
              "      <th>761</th>\n",
              "      <td>8/12/2014</td>\n",
              "      <td>2014-07-08</td>\n",
              "      <td>MSFT</td>\n",
              "      <td>$15,001 - $50,000</td>\n",
              "      <td>Representatives</td>\n",
              "      <td>15001.0</td>\n",
              "      <td>R</td>\n",
              "      <td>11/16/2023</td>\n",
              "    </tr>\n",
              "    <tr>\n",
              "      <th>742</th>\n",
              "      <td>7/28/2015</td>\n",
              "      <td>2015-06-23</td>\n",
              "      <td>MSFT</td>\n",
              "      <td>$15,001 - $50,000</td>\n",
              "      <td>Representatives</td>\n",
              "      <td>15001.0</td>\n",
              "      <td>D</td>\n",
              "      <td>11/16/2023</td>\n",
              "    </tr>\n",
              "    <tr>\n",
              "      <th>741</th>\n",
              "      <td>7/28/2015</td>\n",
              "      <td>2015-06-26</td>\n",
              "      <td>MSFT</td>\n",
              "      <td>$50,001 - $100,000</td>\n",
              "      <td>Representatives</td>\n",
              "      <td>50001.0</td>\n",
              "      <td>D</td>\n",
              "      <td>11/16/2023</td>\n",
              "    </tr>\n",
              "  </tbody>\n",
              "</table>\n",
              "</div>\n",
              "    <div class=\"colab-df-buttons\">\n",
              "\n",
              "  <div class=\"colab-df-container\">\n",
              "    <button class=\"colab-df-convert\" onclick=\"convertToInteractive('df-a5bc239f-c52e-4216-8253-a707ea84e81a')\"\n",
              "            title=\"Convert this dataframe to an interactive table.\"\n",
              "            style=\"display:none;\">\n",
              "\n",
              "  <svg xmlns=\"http://www.w3.org/2000/svg\" height=\"24px\" viewBox=\"0 -960 960 960\">\n",
              "    <path d=\"M120-120v-720h720v720H120Zm60-500h600v-160H180v160Zm220 220h160v-160H400v160Zm0 220h160v-160H400v160ZM180-400h160v-160H180v160Zm440 0h160v-160H620v160ZM180-180h160v-160H180v160Zm440 0h160v-160H620v160Z\"/>\n",
              "  </svg>\n",
              "    </button>\n",
              "\n",
              "  <style>\n",
              "    .colab-df-container {\n",
              "      display:flex;\n",
              "      gap: 12px;\n",
              "    }\n",
              "\n",
              "    .colab-df-convert {\n",
              "      background-color: #E8F0FE;\n",
              "      border: none;\n",
              "      border-radius: 50%;\n",
              "      cursor: pointer;\n",
              "      display: none;\n",
              "      fill: #1967D2;\n",
              "      height: 32px;\n",
              "      padding: 0 0 0 0;\n",
              "      width: 32px;\n",
              "    }\n",
              "\n",
              "    .colab-df-convert:hover {\n",
              "      background-color: #E2EBFA;\n",
              "      box-shadow: 0px 1px 2px rgba(60, 64, 67, 0.3), 0px 1px 3px 1px rgba(60, 64, 67, 0.15);\n",
              "      fill: #174EA6;\n",
              "    }\n",
              "\n",
              "    .colab-df-buttons div {\n",
              "      margin-bottom: 4px;\n",
              "    }\n",
              "\n",
              "    [theme=dark] .colab-df-convert {\n",
              "      background-color: #3B4455;\n",
              "      fill: #D2E3FC;\n",
              "    }\n",
              "\n",
              "    [theme=dark] .colab-df-convert:hover {\n",
              "      background-color: #434B5C;\n",
              "      box-shadow: 0px 1px 3px 1px rgba(0, 0, 0, 0.15);\n",
              "      filter: drop-shadow(0px 1px 2px rgba(0, 0, 0, 0.3));\n",
              "      fill: #FFFFFF;\n",
              "    }\n",
              "  </style>\n",
              "\n",
              "    <script>\n",
              "      const buttonEl =\n",
              "        document.querySelector('#df-a5bc239f-c52e-4216-8253-a707ea84e81a button.colab-df-convert');\n",
              "      buttonEl.style.display =\n",
              "        google.colab.kernel.accessAllowed ? 'block' : 'none';\n",
              "\n",
              "      async function convertToInteractive(key) {\n",
              "        const element = document.querySelector('#df-a5bc239f-c52e-4216-8253-a707ea84e81a');\n",
              "        const dataTable =\n",
              "          await google.colab.kernel.invokeFunction('convertToInteractive',\n",
              "                                                    [key], {});\n",
              "        if (!dataTable) return;\n",
              "\n",
              "        const docLinkHtml = 'Like what you see? Visit the ' +\n",
              "          '<a target=\"_blank\" href=https://colab.research.google.com/notebooks/data_table.ipynb>data table notebook</a>'\n",
              "          + ' to learn more about interactive tables.';\n",
              "        element.innerHTML = '';\n",
              "        dataTable['output_type'] = 'display_data';\n",
              "        await google.colab.output.renderOutput(dataTable, element);\n",
              "        const docLink = document.createElement('div');\n",
              "        docLink.innerHTML = docLinkHtml;\n",
              "        element.appendChild(docLink);\n",
              "      }\n",
              "    </script>\n",
              "  </div>\n",
              "\n",
              "\n",
              "<div id=\"df-78314de7-885c-43db-80b0-5834b41b1033\">\n",
              "  <button class=\"colab-df-quickchart\" onclick=\"quickchart('df-78314de7-885c-43db-80b0-5834b41b1033')\"\n",
              "            title=\"Suggest charts\"\n",
              "            style=\"display:none;\">\n",
              "\n",
              "<svg xmlns=\"http://www.w3.org/2000/svg\" height=\"24px\"viewBox=\"0 0 24 24\"\n",
              "     width=\"24px\">\n",
              "    <g>\n",
              "        <path d=\"M19 3H5c-1.1 0-2 .9-2 2v14c0 1.1.9 2 2 2h14c1.1 0 2-.9 2-2V5c0-1.1-.9-2-2-2zM9 17H7v-7h2v7zm4 0h-2V7h2v10zm4 0h-2v-4h2v4z\"/>\n",
              "    </g>\n",
              "</svg>\n",
              "  </button>\n",
              "\n",
              "<style>\n",
              "  .colab-df-quickchart {\n",
              "      --bg-color: #E8F0FE;\n",
              "      --fill-color: #1967D2;\n",
              "      --hover-bg-color: #E2EBFA;\n",
              "      --hover-fill-color: #174EA6;\n",
              "      --disabled-fill-color: #AAA;\n",
              "      --disabled-bg-color: #DDD;\n",
              "  }\n",
              "\n",
              "  [theme=dark] .colab-df-quickchart {\n",
              "      --bg-color: #3B4455;\n",
              "      --fill-color: #D2E3FC;\n",
              "      --hover-bg-color: #434B5C;\n",
              "      --hover-fill-color: #FFFFFF;\n",
              "      --disabled-bg-color: #3B4455;\n",
              "      --disabled-fill-color: #666;\n",
              "  }\n",
              "\n",
              "  .colab-df-quickchart {\n",
              "    background-color: var(--bg-color);\n",
              "    border: none;\n",
              "    border-radius: 50%;\n",
              "    cursor: pointer;\n",
              "    display: none;\n",
              "    fill: var(--fill-color);\n",
              "    height: 32px;\n",
              "    padding: 0;\n",
              "    width: 32px;\n",
              "  }\n",
              "\n",
              "  .colab-df-quickchart:hover {\n",
              "    background-color: var(--hover-bg-color);\n",
              "    box-shadow: 0 1px 2px rgba(60, 64, 67, 0.3), 0 1px 3px 1px rgba(60, 64, 67, 0.15);\n",
              "    fill: var(--button-hover-fill-color);\n",
              "  }\n",
              "\n",
              "  .colab-df-quickchart-complete:disabled,\n",
              "  .colab-df-quickchart-complete:disabled:hover {\n",
              "    background-color: var(--disabled-bg-color);\n",
              "    fill: var(--disabled-fill-color);\n",
              "    box-shadow: none;\n",
              "  }\n",
              "\n",
              "  .colab-df-spinner {\n",
              "    border: 2px solid var(--fill-color);\n",
              "    border-color: transparent;\n",
              "    border-bottom-color: var(--fill-color);\n",
              "    animation:\n",
              "      spin 1s steps(1) infinite;\n",
              "  }\n",
              "\n",
              "  @keyframes spin {\n",
              "    0% {\n",
              "      border-color: transparent;\n",
              "      border-bottom-color: var(--fill-color);\n",
              "      border-left-color: var(--fill-color);\n",
              "    }\n",
              "    20% {\n",
              "      border-color: transparent;\n",
              "      border-left-color: var(--fill-color);\n",
              "      border-top-color: var(--fill-color);\n",
              "    }\n",
              "    30% {\n",
              "      border-color: transparent;\n",
              "      border-left-color: var(--fill-color);\n",
              "      border-top-color: var(--fill-color);\n",
              "      border-right-color: var(--fill-color);\n",
              "    }\n",
              "    40% {\n",
              "      border-color: transparent;\n",
              "      border-right-color: var(--fill-color);\n",
              "      border-top-color: var(--fill-color);\n",
              "    }\n",
              "    60% {\n",
              "      border-color: transparent;\n",
              "      border-right-color: var(--fill-color);\n",
              "    }\n",
              "    80% {\n",
              "      border-color: transparent;\n",
              "      border-right-color: var(--fill-color);\n",
              "      border-bottom-color: var(--fill-color);\n",
              "    }\n",
              "    90% {\n",
              "      border-color: transparent;\n",
              "      border-bottom-color: var(--fill-color);\n",
              "    }\n",
              "  }\n",
              "</style>\n",
              "\n",
              "  <script>\n",
              "    async function quickchart(key) {\n",
              "      const quickchartButtonEl =\n",
              "        document.querySelector('#' + key + ' button');\n",
              "      quickchartButtonEl.disabled = true;  // To prevent multiple clicks.\n",
              "      quickchartButtonEl.classList.add('colab-df-spinner');\n",
              "      try {\n",
              "        const charts = await google.colab.kernel.invokeFunction(\n",
              "            'suggestCharts', [key], {});\n",
              "      } catch (error) {\n",
              "        console.error('Error during call to suggestCharts:', error);\n",
              "      }\n",
              "      quickchartButtonEl.classList.remove('colab-df-spinner');\n",
              "      quickchartButtonEl.classList.add('colab-df-quickchart-complete');\n",
              "    }\n",
              "    (() => {\n",
              "      let quickchartButtonEl =\n",
              "        document.querySelector('#df-78314de7-885c-43db-80b0-5834b41b1033 button');\n",
              "      quickchartButtonEl.style.display =\n",
              "        google.colab.kernel.accessAllowed ? 'block' : 'none';\n",
              "    })();\n",
              "  </script>\n",
              "</div>\n",
              "\n",
              "    </div>\n",
              "  </div>\n"
            ],
            "application/vnd.google.colaboratory.intrinsic+json": {
              "type": "dataframe",
              "variable_name": "msft_purchase_transaction",
              "repr_error": "0"
            }
          },
          "metadata": {},
          "execution_count": 49
        }
      ]
    },
    {
      "cell_type": "code",
      "source": [
        "msft_mean_return = []\n",
        "msft_post_transaction_return = []\n",
        "\n",
        "for i in range(250): #250 trading days in one year\n",
        "\n",
        "  # mean return for N number of days\n",
        "  msft_mean_return.append(mean_return_over_n_days(msft_df,i))\n",
        "\n",
        "  # return for N number of days following a congress purchase\n",
        "  n_day_shifted_return = shifted_returns_df(msft_df,i)\n",
        "  merged_df = pd.merge_asof(msft_purchase_transaction, n_day_shifted_return.reset_index(), left_on='TransactionDate', right_on='Date', direction='forward')\n",
        "  msft_post_transaction_return.append(round(np.mean(merged_df['Shifted Return Over N Days']),4))"
      ],
      "metadata": {
        "id": "o61wiEnSiV7Z"
      },
      "execution_count": null,
      "outputs": []
    },
    {
      "cell_type": "code",
      "source": [
        "msft_comparison = pd.DataFrame({\n",
        "    'Number of Trading Days': range(1, 251),\n",
        "    'mean_return': msft_mean_return,\n",
        "    'post_transaction_return': msft_post_transaction_return,\n",
        "})\n",
        "msft_comparison['average_excess_return'] = msft_comparison['post_transaction_return'] - msft_comparison['mean_return']"
      ],
      "metadata": {
        "id": "J1eO0mGLv3ma"
      },
      "execution_count": null,
      "outputs": []
    },
    {
      "cell_type": "code",
      "source": [
        "fig = px.line(msft_comparison, x='Number of Trading Days', y='average_excess_return', color_discrete_sequence=['#00274C'],\n",
        "              title='Average Excess Return Over Number of Trading Days')\n",
        "\n",
        "fig.update_xaxes(title_text='Number of Trading Days Post Purchase')\n",
        "fig.update_yaxes(title_text='Average Excess Return')\n",
        "fig.add_hline(y=0, line_color='#FFCB05')\n",
        "\n",
        "fig.show()"
      ],
      "metadata": {
        "colab": {
          "base_uri": "https://localhost:8080/",
          "height": 542
        },
        "id": "KNg7LqFyv9Ew",
        "outputId": "b32c42a8-7da1-4ac1-9010-5ca781c77ef0"
      },
      "execution_count": null,
      "outputs": [
        {
          "output_type": "display_data",
          "data": {
            "text/html": [
              "<html>\n",
              "<head><meta charset=\"utf-8\" /></head>\n",
              "<body>\n",
              "    <div>            <script src=\"https://cdnjs.cloudflare.com/ajax/libs/mathjax/2.7.5/MathJax.js?config=TeX-AMS-MML_SVG\"></script><script type=\"text/javascript\">if (window.MathJax && window.MathJax.Hub && window.MathJax.Hub.Config) {window.MathJax.Hub.Config({SVG: {font: \"STIX-Web\"}});}</script>                <script type=\"text/javascript\">window.PlotlyConfig = {MathJaxConfig: 'local'};</script>\n",
              "        <script charset=\"utf-8\" src=\"https://cdn.plot.ly/plotly-2.24.1.min.js\"></script>                <div id=\"4ab12ffa-74dd-409f-93a4-6e847cbda073\" class=\"plotly-graph-div\" style=\"height:525px; width:100%;\"></div>            <script type=\"text/javascript\">                                    window.PLOTLYENV=window.PLOTLYENV || {};                                    if (document.getElementById(\"4ab12ffa-74dd-409f-93a4-6e847cbda073\")) {                    Plotly.newPlot(                        \"4ab12ffa-74dd-409f-93a4-6e847cbda073\",                        [{\"hovertemplate\":\"Number of Trading Days=%{x}\\u003cbr\\u003eaverage_excess_return=%{y}\\u003cextra\\u003e\\u003c\\u002fextra\\u003e\",\"legendgroup\":\"\",\"line\":{\"color\":\"#00274C\",\"dash\":\"solid\"},\"marker\":{\"symbol\":\"circle\"},\"mode\":\"lines\",\"name\":\"\",\"orientation\":\"v\",\"showlegend\":false,\"x\":[1,2,3,4,5,6,7,8,9,10,11,12,13,14,15,16,17,18,19,20,21,22,23,24,25,26,27,28,29,30,31,32,33,34,35,36,37,38,39,40,41,42,43,44,45,46,47,48,49,50,51,52,53,54,55,56,57,58,59,60,61,62,63,64,65,66,67,68,69,70,71,72,73,74,75,76,77,78,79,80,81,82,83,84,85,86,87,88,89,90,91,92,93,94,95,96,97,98,99,100,101,102,103,104,105,106,107,108,109,110,111,112,113,114,115,116,117,118,119,120,121,122,123,124,125,126,127,128,129,130,131,132,133,134,135,136,137,138,139,140,141,142,143,144,145,146,147,148,149,150,151,152,153,154,155,156,157,158,159,160,161,162,163,164,165,166,167,168,169,170,171,172,173,174,175,176,177,178,179,180,181,182,183,184,185,186,187,188,189,190,191,192,193,194,195,196,197,198,199,200,201,202,203,204,205,206,207,208,209,210,211,212,213,214,215,216,217,218,219,220,221,222,223,224,225,226,227,228,229,230,231,232,233,234,235,236,237,238,239,240,241,242,243,244,245,246,247,248,249,250],\"xaxis\":\"x\",\"y\":[0.0,-0.0031999999999999997,-0.0041,-0.0058,-0.005200000000000001,-0.0015999999999999999,-0.0103,-0.0063,-0.0101,-0.0092,-0.0014000000000000002,-0.0008000000000000004,0.0011000000000000003,-0.0020999999999999994,-0.0004999999999999987,-0.0068000000000000005,-0.0146,-0.005500000000000001,-0.0011999999999999997,0.0057,0.0075,0.011100000000000002,0.024900000000000002,0.0227,0.029400000000000003,0.028399999999999998,0.0392,0.033,0.036000000000000004,0.03620000000000001,0.036300000000000006,0.040100000000000004,0.038799999999999994,0.03609999999999999,0.0267,0.009399999999999999,0.0087,0.013900000000000003,-0.006699999999999998,0.0006999999999999992,0.020199999999999996,0.004499999999999997,0.017,0.012499999999999997,0.005299999999999999,-0.015599999999999996,0.0031000000000000055,-0.009299999999999996,-0.037500000000000006,-0.0015000000000000013,-0.043399999999999994,-0.022999999999999996,-0.0325,-0.0319,-0.0428,-0.0442,-0.020500000000000004,-0.022200000000000004,-0.007400000000000004,-0.0196,0.0012999999999999956,-0.006400000000000003,-0.015700000000000006,-0.013099999999999994,-0.013700000000000004,0.00810000000000001,0.0059000000000000025,0.0076999999999999985,0.008500000000000008,0.009300000000000003,0.024800000000000003,0.023099999999999996,0.03209999999999999,0.038500000000000006,0.028200000000000003,0.016399999999999998,0.026099999999999998,0.02439999999999999,0.03219999999999999,0.0314,0.0233,0.0402,0.04060000000000001,0.0338,0.0382,0.04429999999999999,0.04589999999999998,0.046499999999999986,0.045,0.05379999999999999,0.04419999999999999,0.039400000000000004,0.03960000000000001,0.0446,0.04769999999999999,0.04540000000000001,0.048500000000000015,0.045999999999999985,0.04910000000000002,0.0455,0.046,0.043300000000000005,0.0484,0.04829999999999998,0.05070000000000001,0.05049999999999999,0.04890000000000001,0.055099999999999996,0.05860000000000001,0.059899999999999995,0.07450000000000001,0.0513,0.0527,0.05489999999999999,0.062299999999999994,0.06799999999999999,0.0721,0.0711,0.0843,0.08319999999999998,0.0771,0.08289999999999999,0.07050000000000001,0.07379999999999999,0.0806,0.086,0.0869,0.09710000000000002,0.0917,0.10140000000000002,0.10240000000000002,0.10270000000000001,0.0862,0.09069999999999998,0.0892,0.07970000000000002,0.07919999999999999,0.0975,0.09140000000000001,0.09340000000000001,0.07600000000000001,0.07139999999999999,0.0743,0.0653,0.0696,0.0688,0.0708,0.0953,0.09,0.0907,0.0933,0.08629999999999999,0.07949999999999999,0.07070000000000001,0.08000000000000002,0.0806,0.08309999999999998,0.0837,0.0842,0.0824,0.09139999999999998,0.08459999999999998,0.08460000000000001,0.0882,0.09710000000000002,0.10819999999999999,0.1136,0.10620000000000002,0.11119999999999997,0.11850000000000002,0.09389999999999998,0.0872,0.0595,0.07449999999999998,0.064,0.0582,0.0625,0.07099999999999998,0.06339999999999998,0.05499999999999999,0.05230000000000001,0.055999999999999994,0.06340000000000001,0.0504,0.05860000000000001,0.07089999999999999,0.07410000000000003,0.06739999999999999,0.0731,0.07879999999999998,0.06819999999999998,0.07519999999999999,0.06559999999999999,0.07140000000000002,0.07409999999999997,0.08630000000000002,0.0947,0.0963,0.09699999999999998,0.09380000000000002,0.09170000000000003,0.07809999999999997,0.07730000000000001,0.07500000000000001,0.07430000000000003,0.0756,0.06309999999999999,0.06519999999999998,0.044899999999999995,0.05099999999999999,0.04629999999999998,0.04579999999999998,0.0597,0.07649999999999998,0.08880000000000002,0.08960000000000001,0.0847,0.06809999999999997,0.07669999999999999,0.07900000000000001,0.08030000000000001,0.08199999999999999,0.07829999999999998,0.07239999999999999,0.07410000000000003,0.06789999999999999,0.06319999999999998,0.06639999999999999,0.06660000000000002,0.07150000000000001,0.0696,0.0739,0.07179999999999997,0.07379999999999998,0.07209999999999997,0.0706,0.07660000000000003,0.06830000000000003,0.06570000000000001,0.0728,0.0741,0.07730000000000001,0.0826,0.08759999999999998,0.08329999999999999,0.0905,0.08760000000000001,0.08450000000000002,0.08729999999999999,0.09319999999999998],\"yaxis\":\"y\",\"type\":\"scatter\"}],                        {\"template\":{\"data\":{\"histogram2dcontour\":[{\"type\":\"histogram2dcontour\",\"colorbar\":{\"outlinewidth\":0,\"ticks\":\"\"},\"colorscale\":[[0.0,\"#0d0887\"],[0.1111111111111111,\"#46039f\"],[0.2222222222222222,\"#7201a8\"],[0.3333333333333333,\"#9c179e\"],[0.4444444444444444,\"#bd3786\"],[0.5555555555555556,\"#d8576b\"],[0.6666666666666666,\"#ed7953\"],[0.7777777777777778,\"#fb9f3a\"],[0.8888888888888888,\"#fdca26\"],[1.0,\"#f0f921\"]]}],\"choropleth\":[{\"type\":\"choropleth\",\"colorbar\":{\"outlinewidth\":0,\"ticks\":\"\"}}],\"histogram2d\":[{\"type\":\"histogram2d\",\"colorbar\":{\"outlinewidth\":0,\"ticks\":\"\"},\"colorscale\":[[0.0,\"#0d0887\"],[0.1111111111111111,\"#46039f\"],[0.2222222222222222,\"#7201a8\"],[0.3333333333333333,\"#9c179e\"],[0.4444444444444444,\"#bd3786\"],[0.5555555555555556,\"#d8576b\"],[0.6666666666666666,\"#ed7953\"],[0.7777777777777778,\"#fb9f3a\"],[0.8888888888888888,\"#fdca26\"],[1.0,\"#f0f921\"]]}],\"heatmap\":[{\"type\":\"heatmap\",\"colorbar\":{\"outlinewidth\":0,\"ticks\":\"\"},\"colorscale\":[[0.0,\"#0d0887\"],[0.1111111111111111,\"#46039f\"],[0.2222222222222222,\"#7201a8\"],[0.3333333333333333,\"#9c179e\"],[0.4444444444444444,\"#bd3786\"],[0.5555555555555556,\"#d8576b\"],[0.6666666666666666,\"#ed7953\"],[0.7777777777777778,\"#fb9f3a\"],[0.8888888888888888,\"#fdca26\"],[1.0,\"#f0f921\"]]}],\"heatmapgl\":[{\"type\":\"heatmapgl\",\"colorbar\":{\"outlinewidth\":0,\"ticks\":\"\"},\"colorscale\":[[0.0,\"#0d0887\"],[0.1111111111111111,\"#46039f\"],[0.2222222222222222,\"#7201a8\"],[0.3333333333333333,\"#9c179e\"],[0.4444444444444444,\"#bd3786\"],[0.5555555555555556,\"#d8576b\"],[0.6666666666666666,\"#ed7953\"],[0.7777777777777778,\"#fb9f3a\"],[0.8888888888888888,\"#fdca26\"],[1.0,\"#f0f921\"]]}],\"contourcarpet\":[{\"type\":\"contourcarpet\",\"colorbar\":{\"outlinewidth\":0,\"ticks\":\"\"}}],\"contour\":[{\"type\":\"contour\",\"colorbar\":{\"outlinewidth\":0,\"ticks\":\"\"},\"colorscale\":[[0.0,\"#0d0887\"],[0.1111111111111111,\"#46039f\"],[0.2222222222222222,\"#7201a8\"],[0.3333333333333333,\"#9c179e\"],[0.4444444444444444,\"#bd3786\"],[0.5555555555555556,\"#d8576b\"],[0.6666666666666666,\"#ed7953\"],[0.7777777777777778,\"#fb9f3a\"],[0.8888888888888888,\"#fdca26\"],[1.0,\"#f0f921\"]]}],\"surface\":[{\"type\":\"surface\",\"colorbar\":{\"outlinewidth\":0,\"ticks\":\"\"},\"colorscale\":[[0.0,\"#0d0887\"],[0.1111111111111111,\"#46039f\"],[0.2222222222222222,\"#7201a8\"],[0.3333333333333333,\"#9c179e\"],[0.4444444444444444,\"#bd3786\"],[0.5555555555555556,\"#d8576b\"],[0.6666666666666666,\"#ed7953\"],[0.7777777777777778,\"#fb9f3a\"],[0.8888888888888888,\"#fdca26\"],[1.0,\"#f0f921\"]]}],\"mesh3d\":[{\"type\":\"mesh3d\",\"colorbar\":{\"outlinewidth\":0,\"ticks\":\"\"}}],\"scatter\":[{\"fillpattern\":{\"fillmode\":\"overlay\",\"size\":10,\"solidity\":0.2},\"type\":\"scatter\"}],\"parcoords\":[{\"type\":\"parcoords\",\"line\":{\"colorbar\":{\"outlinewidth\":0,\"ticks\":\"\"}}}],\"scatterpolargl\":[{\"type\":\"scatterpolargl\",\"marker\":{\"colorbar\":{\"outlinewidth\":0,\"ticks\":\"\"}}}],\"bar\":[{\"error_x\":{\"color\":\"#2a3f5f\"},\"error_y\":{\"color\":\"#2a3f5f\"},\"marker\":{\"line\":{\"color\":\"#E5ECF6\",\"width\":0.5},\"pattern\":{\"fillmode\":\"overlay\",\"size\":10,\"solidity\":0.2}},\"type\":\"bar\"}],\"scattergeo\":[{\"type\":\"scattergeo\",\"marker\":{\"colorbar\":{\"outlinewidth\":0,\"ticks\":\"\"}}}],\"scatterpolar\":[{\"type\":\"scatterpolar\",\"marker\":{\"colorbar\":{\"outlinewidth\":0,\"ticks\":\"\"}}}],\"histogram\":[{\"marker\":{\"pattern\":{\"fillmode\":\"overlay\",\"size\":10,\"solidity\":0.2}},\"type\":\"histogram\"}],\"scattergl\":[{\"type\":\"scattergl\",\"marker\":{\"colorbar\":{\"outlinewidth\":0,\"ticks\":\"\"}}}],\"scatter3d\":[{\"type\":\"scatter3d\",\"line\":{\"colorbar\":{\"outlinewidth\":0,\"ticks\":\"\"}},\"marker\":{\"colorbar\":{\"outlinewidth\":0,\"ticks\":\"\"}}}],\"scattermapbox\":[{\"type\":\"scattermapbox\",\"marker\":{\"colorbar\":{\"outlinewidth\":0,\"ticks\":\"\"}}}],\"scatterternary\":[{\"type\":\"scatterternary\",\"marker\":{\"colorbar\":{\"outlinewidth\":0,\"ticks\":\"\"}}}],\"scattercarpet\":[{\"type\":\"scattercarpet\",\"marker\":{\"colorbar\":{\"outlinewidth\":0,\"ticks\":\"\"}}}],\"carpet\":[{\"aaxis\":{\"endlinecolor\":\"#2a3f5f\",\"gridcolor\":\"white\",\"linecolor\":\"white\",\"minorgridcolor\":\"white\",\"startlinecolor\":\"#2a3f5f\"},\"baxis\":{\"endlinecolor\":\"#2a3f5f\",\"gridcolor\":\"white\",\"linecolor\":\"white\",\"minorgridcolor\":\"white\",\"startlinecolor\":\"#2a3f5f\"},\"type\":\"carpet\"}],\"table\":[{\"cells\":{\"fill\":{\"color\":\"#EBF0F8\"},\"line\":{\"color\":\"white\"}},\"header\":{\"fill\":{\"color\":\"#C8D4E3\"},\"line\":{\"color\":\"white\"}},\"type\":\"table\"}],\"barpolar\":[{\"marker\":{\"line\":{\"color\":\"#E5ECF6\",\"width\":0.5},\"pattern\":{\"fillmode\":\"overlay\",\"size\":10,\"solidity\":0.2}},\"type\":\"barpolar\"}],\"pie\":[{\"automargin\":true,\"type\":\"pie\"}]},\"layout\":{\"autotypenumbers\":\"strict\",\"colorway\":[\"#636efa\",\"#EF553B\",\"#00cc96\",\"#ab63fa\",\"#FFA15A\",\"#19d3f3\",\"#FF6692\",\"#B6E880\",\"#FF97FF\",\"#FECB52\"],\"font\":{\"color\":\"#2a3f5f\"},\"hovermode\":\"closest\",\"hoverlabel\":{\"align\":\"left\"},\"paper_bgcolor\":\"white\",\"plot_bgcolor\":\"#E5ECF6\",\"polar\":{\"bgcolor\":\"#E5ECF6\",\"angularaxis\":{\"gridcolor\":\"white\",\"linecolor\":\"white\",\"ticks\":\"\"},\"radialaxis\":{\"gridcolor\":\"white\",\"linecolor\":\"white\",\"ticks\":\"\"}},\"ternary\":{\"bgcolor\":\"#E5ECF6\",\"aaxis\":{\"gridcolor\":\"white\",\"linecolor\":\"white\",\"ticks\":\"\"},\"baxis\":{\"gridcolor\":\"white\",\"linecolor\":\"white\",\"ticks\":\"\"},\"caxis\":{\"gridcolor\":\"white\",\"linecolor\":\"white\",\"ticks\":\"\"}},\"coloraxis\":{\"colorbar\":{\"outlinewidth\":0,\"ticks\":\"\"}},\"colorscale\":{\"sequential\":[[0.0,\"#0d0887\"],[0.1111111111111111,\"#46039f\"],[0.2222222222222222,\"#7201a8\"],[0.3333333333333333,\"#9c179e\"],[0.4444444444444444,\"#bd3786\"],[0.5555555555555556,\"#d8576b\"],[0.6666666666666666,\"#ed7953\"],[0.7777777777777778,\"#fb9f3a\"],[0.8888888888888888,\"#fdca26\"],[1.0,\"#f0f921\"]],\"sequentialminus\":[[0.0,\"#0d0887\"],[0.1111111111111111,\"#46039f\"],[0.2222222222222222,\"#7201a8\"],[0.3333333333333333,\"#9c179e\"],[0.4444444444444444,\"#bd3786\"],[0.5555555555555556,\"#d8576b\"],[0.6666666666666666,\"#ed7953\"],[0.7777777777777778,\"#fb9f3a\"],[0.8888888888888888,\"#fdca26\"],[1.0,\"#f0f921\"]],\"diverging\":[[0,\"#8e0152\"],[0.1,\"#c51b7d\"],[0.2,\"#de77ae\"],[0.3,\"#f1b6da\"],[0.4,\"#fde0ef\"],[0.5,\"#f7f7f7\"],[0.6,\"#e6f5d0\"],[0.7,\"#b8e186\"],[0.8,\"#7fbc41\"],[0.9,\"#4d9221\"],[1,\"#276419\"]]},\"xaxis\":{\"gridcolor\":\"white\",\"linecolor\":\"white\",\"ticks\":\"\",\"title\":{\"standoff\":15},\"zerolinecolor\":\"white\",\"automargin\":true,\"zerolinewidth\":2},\"yaxis\":{\"gridcolor\":\"white\",\"linecolor\":\"white\",\"ticks\":\"\",\"title\":{\"standoff\":15},\"zerolinecolor\":\"white\",\"automargin\":true,\"zerolinewidth\":2},\"scene\":{\"xaxis\":{\"backgroundcolor\":\"#E5ECF6\",\"gridcolor\":\"white\",\"linecolor\":\"white\",\"showbackground\":true,\"ticks\":\"\",\"zerolinecolor\":\"white\",\"gridwidth\":2},\"yaxis\":{\"backgroundcolor\":\"#E5ECF6\",\"gridcolor\":\"white\",\"linecolor\":\"white\",\"showbackground\":true,\"ticks\":\"\",\"zerolinecolor\":\"white\",\"gridwidth\":2},\"zaxis\":{\"backgroundcolor\":\"#E5ECF6\",\"gridcolor\":\"white\",\"linecolor\":\"white\",\"showbackground\":true,\"ticks\":\"\",\"zerolinecolor\":\"white\",\"gridwidth\":2}},\"shapedefaults\":{\"line\":{\"color\":\"#2a3f5f\"}},\"annotationdefaults\":{\"arrowcolor\":\"#2a3f5f\",\"arrowhead\":0,\"arrowwidth\":1},\"geo\":{\"bgcolor\":\"white\",\"landcolor\":\"#E5ECF6\",\"subunitcolor\":\"white\",\"showland\":true,\"showlakes\":true,\"lakecolor\":\"white\"},\"title\":{\"x\":0.05},\"mapbox\":{\"style\":\"light\"}}},\"xaxis\":{\"anchor\":\"y\",\"domain\":[0.0,1.0],\"title\":{\"text\":\"Number of Trading Days Post Purchase\"}},\"yaxis\":{\"anchor\":\"x\",\"domain\":[0.0,1.0],\"title\":{\"text\":\"Average Excess Return\"}},\"legend\":{\"tracegroupgap\":0},\"title\":{\"text\":\"Average Excess Return Over Number of Trading Days\"},\"shapes\":[{\"line\":{\"color\":\"#FFCB05\"},\"type\":\"line\",\"x0\":0,\"x1\":1,\"xref\":\"x domain\",\"y0\":0,\"y1\":0,\"yref\":\"y\"}]},                        {\"responsive\": true}                    ).then(function(){\n",
              "                            \n",
              "var gd = document.getElementById('4ab12ffa-74dd-409f-93a4-6e847cbda073');\n",
              "var x = new MutationObserver(function (mutations, observer) {{\n",
              "        var display = window.getComputedStyle(gd).display;\n",
              "        if (!display || display === 'none') {{\n",
              "            console.log([gd, 'removed!']);\n",
              "            Plotly.purge(gd);\n",
              "            observer.disconnect();\n",
              "        }}\n",
              "}});\n",
              "\n",
              "// Listen for the removal of the full notebook cells\n",
              "var notebookContainer = gd.closest('#notebook-container');\n",
              "if (notebookContainer) {{\n",
              "    x.observe(notebookContainer, {childList: true});\n",
              "}}\n",
              "\n",
              "// Listen for the clearing of the current output cell\n",
              "var outputEl = gd.closest('.output');\n",
              "if (outputEl) {{\n",
              "    x.observe(outputEl, {childList: true});\n",
              "}}\n",
              "\n",
              "                        })                };                            </script>        </div>\n",
              "</body>\n",
              "</html>"
            ]
          },
          "metadata": {}
        }
      ]
    },
    {
      "cell_type": "markdown",
      "source": [
        "The chart above shows the difference in return for MSFT stock over the days after a Congress member makes a purchase compared to the return over a \"normal\" time period of the same length. Around 63 day post-trade period, we can see this excess return coming in to effect. This can potentially be seen as a leading indicator that on average MSFT, once a Congress member has purchased MSFT stock, we will see higher returns than average over the 2 mont to 1 year period post-purchase."
      ],
      "metadata": {
        "id": "5Mz7ldRcyvt5"
      }
    },
    {
      "cell_type": "code",
      "source": [
        "msft_df = msft_df.drop(columns = 'Return Over N Days')"
      ],
      "metadata": {
        "id": "WTY_2Lh00UAv"
      },
      "execution_count": null,
      "outputs": []
    },
    {
      "cell_type": "markdown",
      "metadata": {
        "id": "1cNJ1qv5SV9A"
      },
      "source": [
        "## Ratings"
      ]
    },
    {
      "cell_type": "markdown",
      "source": [
        "Analyst rating of MSFT. Data obtained from Financial Modeling Prep"
      ],
      "metadata": {
        "id": "S3dzylt-1Jv3"
      }
    },
    {
      "cell_type": "code",
      "execution_count": null,
      "metadata": {
        "id": "HqpNDRnlSbai"
      },
      "outputs": [],
      "source": [
        "ratings = pd.read_csv('msft_ratings.csv').assign(Date=lambda df: pd.to_datetime(df['Date'])).set_index('Date')\n",
        "ratings = ratings.drop(columns = ['ratingRecommendation', 'ratingDetailsDCFRecommendation', 'ratingDetailsROERecommendation', 'ratingDetailsROARecommendation', 'ratingDetailsDERecommendation', 'ratingDetailsPERecommendation', 'ratingDetailsPBRecommendation'])"
      ]
    },
    {
      "cell_type": "code",
      "execution_count": null,
      "metadata": {
        "id": "yqi3wl29UbE4"
      },
      "outputs": [],
      "source": [
        "ratings = ratings.reindex(msft_df.index).fillna(method='ffill')"
      ]
    },
    {
      "cell_type": "markdown",
      "metadata": {
        "id": "ZhLzqqHcyC8-"
      },
      "source": [
        "## Social Media Sentiment"
      ]
    },
    {
      "cell_type": "markdown",
      "metadata": {
        "id": "asMgYAOzWKeU"
      },
      "source": [
        "counts from Nov 18, 2021 to Jan 21, 2024 <br> Sentiment scores from Feb 20, 2022 to Jan 21, 2024 for StockTwits and Apr 4, 2023 for Twitter\n",
        "\n",
        "Data obtained from Financial Modeling Prep"
      ]
    },
    {
      "cell_type": "code",
      "execution_count": null,
      "metadata": {
        "id": "Ry5O4XUO1oBH"
      },
      "outputs": [],
      "source": [
        "def fetch_social_media_data(url, api_key):\n",
        "  all_data = []\n",
        "  page = 0\n",
        "  continue_fetching = True\n",
        "\n",
        "  while continue_fetching:\n",
        "    paginated_url = f\"{url}&page={page}\"\n",
        "    response = requests.get(paginated_url.format(api_key=api_key))\n",
        "    data = response.json()\n",
        "\n",
        "    # Convert the current page of data to a DataFrame\n",
        "    df = pd.DataFrame(data)\n",
        "\n",
        "    if not df.empty:\n",
        "      # Check the last value in the 'date' column\n",
        "      last_date = pd.to_datetime(df['date'].iloc[-1])\n",
        "\n",
        "      # If the last date is on or after January 1, 2020, add the data and pull the next page\n",
        "      if last_date >= pd.Timestamp('2020-01-01'):\n",
        "        all_data.append(df)\n",
        "      # If the last date is before December 31, 2023, stop fetching\n",
        "      elif last_date < pd.Timestamp('2020-01-01'):\n",
        "        continue_fetching = False\n",
        "\n",
        "      page += 1\n",
        "    else:\n",
        "      break\n",
        "\n",
        "  # Concatenate all the pages of data into a single DataFrame\n",
        "  if all_data:\n",
        "    social_sentiment = pd.concat(all_data, ignore_index=True)\n",
        "    # Filter the DataFrame for dates\n",
        "    social_sentiment['date'] = pd.to_datetime(social_sentiment['date'])\n",
        "    social_sentiment = social_sentiment[social_sentiment['date'].dt.year > 2019]\n",
        "    return social_sentiment\n",
        "  else:\n",
        "    return pd.DataFrame()"
      ]
    },
    {
      "cell_type": "code",
      "execution_count": null,
      "metadata": {
        "id": "yKixJmvAFT9t"
      },
      "outputs": [],
      "source": [
        "api_key = ''\n",
        "base_url = 'https://financialmodelingprep.com/api/v4/historical/social-sentiment?symbol=MSFT&apikey={api_key}'\n",
        "social_sentiment = fetch_social_media_data(base_url, api_key)"
      ]
    },
    {
      "cell_type": "code",
      "execution_count": null,
      "metadata": {
        "id": "WiUWayvERxZr"
      },
      "outputs": [],
      "source": [
        "social_sentiment = pd.read_csv('msft_social_sentiment.csv')\n",
        "social_sentiment = pd.DataFrame(social_sentiment)\n",
        "social_sentiment['Date'] = pd.to_datetime(social_sentiment['Date'])\n",
        "social_sentiment['Date'] = social_sentiment['Date'].dt.strftime('%Y-%m-%d')"
      ]
    },
    {
      "cell_type": "code",
      "execution_count": null,
      "metadata": {
        "id": "VGWJJmUDH8w4"
      },
      "outputs": [],
      "source": [
        "columns_to_convert = ['stocktwitsSentiment', 'twitterSentiment']\n",
        "for col in columns_to_convert:\n",
        "  social_sentiment[col] = pd.to_numeric(social_sentiment[col], errors='coerce')\n",
        "  social_sentiment[col] = social_sentiment[col].fillna(0)\n",
        "\n",
        "aggregations = {\n",
        "    'stocktwitsPosts': 'sum', 'twitterPosts': 'sum',\n",
        "    'stocktwitsComments': 'sum', 'twitterComments': 'sum',\n",
        "    'stocktwitsLikes': 'sum', 'twitterLikes': 'sum',\n",
        "    'stocktwitsImpressions': 'sum', 'twitterImpressions': 'sum',\n",
        "    'stocktwitsSentiment': 'mean', 'twitterSentiment': 'mean'\n",
        "}\n",
        "\n",
        "# Group by 'Date', then apply the aggregation operations\n",
        "social_sentiment = social_sentiment.groupby('Date').agg(aggregations).reset_index()"
      ]
    },
    {
      "cell_type": "code",
      "execution_count": null,
      "metadata": {
        "id": "8_13c6s9ZSp0"
      },
      "outputs": [],
      "source": [
        "social_sentiment = social_sentiment.set_index('Date')\n",
        "social_sentiment.index = pd.to_datetime(social_sentiment.index)\n",
        "social_sentiment = social_sentiment.reindex(msft_df.index).fillna(value = 0)"
      ]
    },
    {
      "cell_type": "markdown",
      "metadata": {
        "id": "1Zv2_oHKbFJ2"
      },
      "source": [
        "## Reddit"
      ]
    },
    {
      "cell_type": "markdown",
      "metadata": {
        "id": "56xJpeIMB7k4"
      },
      "source": [
        "Reddit data available from March 9, 2022. <br>\n",
        "\n",
        "Data was downloaded from the subreddits r/wallstreetbets and r/stocks for the queries \"MSFT\" and \"Microsoft\" using the following 4 cells repeated 4 times."
      ]
    },
    {
      "cell_type": "code",
      "execution_count": null,
      "metadata": {
        "id": "qKKp4T6RbH0E"
      },
      "outputs": [],
      "source": [
        "''' The code for the 'Reddit' section in this cell and the following 2 cells were taken from the following source:\n",
        "Lang, Erik. \"Reddit API Lab - Create.\" SIADS682 Social Media Analytics, submitted 12 March, 2024, University of Michigan. Unpublished course assignment.'''\n",
        "REDDIT_USERNAME = hidden_credentials.reddit_keys()['REDDIT_USERNAME']\n",
        "REDDIT_PASSWORD = hidden_credentials.reddit_keys()['REDDIT_PASSWORD']\n",
        "APP_ID = hidden_credentials.reddit_keys()['APP_ID']\n",
        "APP_SECRET = hidden_credentials.reddit_keys()['APP_SECRET']\n",
        "APP_NAME = hidden_credentials.reddit_keys()['APP_NAME']"
      ]
    },
    {
      "cell_type": "code",
      "execution_count": null,
      "metadata": {
        "id": "MD7dYt9-dmTX"
      },
      "outputs": [],
      "source": [
        "reddit = praw.Reddit(\n",
        "    client_id=APP_ID,\n",
        "    client_secret=APP_SECRET,\n",
        "    user_agent=APP_NAME,\n",
        "    username=REDDIT_USERNAME,\n",
        "    password=REDDIT_PASSWORD,\n",
        "    check_for_async=False # This additional parameter supresses a warning about \"Asynchronous PRAW\"\n",
        ")"
      ]
    },
    {
      "cell_type": "code",
      "execution_count": null,
      "metadata": {
        "id": "dM9zsYaeBiTB"
      },
      "outputs": [],
      "source": [
        "subreddit = reddit.subreddit(\"wallstreetbets\")\n",
        "print(\"r/\"+ subreddit.display_name)\n",
        "print(\"-------\")\n",
        "print(\"title: \"+ subreddit.title)\n",
        "print(\"-------\")\n",
        "print(\"id:\" + subreddit.id)\n",
        "print(\"-------\")\n",
        "print(\"number of subscribers:\" + str(subreddit.subscribers))\n",
        "print(\"-------\")\n",
        "# print(subreddit.description)"
      ]
    },
    {
      "cell_type": "code",
      "execution_count": null,
      "metadata": {
        "id": "V9wvZrfnBuew"
      },
      "outputs": [],
      "source": [
        "# Download data from 'MSFT' query from Walstreetbets subreddit\n",
        "msft_df = pd.DataFrame(columns=[\"title\", \"text\", \"id\", \"created_utc\", \"num_comments\", \"score\"])\n",
        "start_date = datetime(2022, 3, 6)\n",
        "end_date = datetime(2024, 3, 6)\n",
        "msft_df = fetch_and_append_reddit_data(start_date, end_date, reddit, msft_df,'wallstreetbets', 'MSFT')\n",
        "# Save DataFrame to a CSV file\n",
        "csv_filename = 'reddit_wallstreetbets_msft_data.csv'\n",
        "msft_df.to_csv(csv_filename)\n",
        "\n",
        "# Download the CSV file\n",
        "files.download(csv_filename)"
      ]
    },
    {
      "cell_type": "code",
      "execution_count": null,
      "metadata": {
        "id": "pMprIO9ADsrO"
      },
      "outputs": [],
      "source": [
        "wallstreetbets_msft = pd.read_csv('reddit_wallstreetbets_msft_data.csv')\n",
        "wallstreetbets_msft = pd.DataFrame(wallstreetbets_msft)\n",
        "wallstreetbets_microsoft = pd.read_csv('reddit_wallstreetbets_microsoft_data.csv')\n",
        "wallstreetbets_microsoft = pd.DataFrame(wallstreetbets_microsoft)\n",
        "stocks_msft = pd.read_csv('reddit_stocks_msft_data.csv')\n",
        "stocks_msft = pd.DataFrame(stocks_msft)\n",
        "stocks_microsoft = pd.read_csv('reddit_stocks_microsoft_data.csv')\n",
        "stocks_microsoft = pd.DataFrame(stocks_microsoft)"
      ]
    },
    {
      "cell_type": "code",
      "execution_count": null,
      "metadata": {
        "id": "nqy15tYAEHbF"
      },
      "outputs": [],
      "source": [
        "reddit = pd.concat([\n",
        "    wallstreetbets_msft[['title', 'text', 'created_utc']],\n",
        "    wallstreetbets_microsoft[['title', 'text', 'created_utc']],\n",
        "    stocks_msft[['title', 'text', 'created_utc']],\n",
        "    stocks_microsoft[['title', 'text', 'created_utc']]\n",
        "], ignore_index=True)"
      ]
    },
    {
      "cell_type": "code",
      "execution_count": null,
      "metadata": {
        "id": "WpruK6TuGmvj"
      },
      "outputs": [],
      "source": [
        "# Filter out comments\n",
        "reddit =reddit[~reddit['title'].str.startswith('Comment on')].copy()\n",
        "reddit['created_utc'] = pd.to_datetime(reddit['created_utc']).dt.date\n",
        "reddit = reddit.rename(columns={'created_utc': 'Date'})\n",
        "reddit['full_text'] = reddit.apply(lambda row: row['title'] + '. ' + row['text'] if pd.notna(row['text']) else row['title'], axis=1)\n",
        "reddit = reddit.drop(['title','text'], axis=1)\n",
        "\n",
        "reddit = reddit.rename(columns={'full_text': 'Text'})\n",
        "reddit = reddit.sort_values(by='Date', ascending=True)"
      ]
    },
    {
      "cell_type": "code",
      "execution_count": null,
      "metadata": {
        "id": "hMSOO1dQIJTm"
      },
      "outputs": [],
      "source": [
        "# # Apply the function to the dataframe and create new columns for 'Label' and 'Score'\n",
        "# reddit[['Label', 'Score']] = reddit.apply(get_sentiment, axis=1)\n",
        "\n",
        "reddit_scores = pd.read_csv('reddit_scores.csv')\n",
        "reddit_scores = pd.DataFrame(reddit_scores).drop(columns=['Unnamed: 0'])"
      ]
    },
    {
      "cell_type": "code",
      "execution_count": null,
      "metadata": {
        "id": "TBd_nwR7KWko"
      },
      "outputs": [],
      "source": [
        "# Calculate a sentiment score that combines the label and the score\n",
        "\n",
        "def combine_label_score(label, score):\n",
        "    if label == 'positive':\n",
        "        return score  # Positive score as is\n",
        "    elif label == 'negative':\n",
        "        return -score  # Negative score as a negative value\n",
        "    else:\n",
        "        return score/10 # Neutral sentiment divide score by 10\n",
        "\n",
        "reddit_scores['redditSentiment'] = reddit_scores.apply(lambda row: combine_label_score(row['Label'], row['Score']), axis=1)\n",
        "reddit_scores = reddit_scores.groupby('Date')['redditSentiment'].mean().reset_index()\n",
        "reddit_scores = reddit_scores.set_index('Date')\n",
        "reddit_scores = reddit_scores.reindex(msft_df.index).fillna(value = 0)"
      ]
    },
    {
      "cell_type": "markdown",
      "metadata": {
        "id": "FJW64sfD35nP"
      },
      "source": [
        "## News Sentiment"
      ]
    },
    {
      "cell_type": "markdown",
      "metadata": {
        "id": "6KfieyMnztPx"
      },
      "source": [
        "News data starting from August 16, 2022.\n",
        "\n",
        "Data obtained from Financial Modeling Prep"
      ]
    },
    {
      "cell_type": "code",
      "execution_count": null,
      "metadata": {
        "id": "eTwiHqFt-xHC"
      },
      "outputs": [],
      "source": [
        "# function to download news data from Financial Modeling Prep\n",
        "\n",
        "def fetch_news_data(api_key):\n",
        "  all_news_data = []\n",
        "  page = 0\n",
        "\n",
        "  while True:\n",
        "      url = f'https://financialmodelingprep.com/api/v4/stock-news-sentiments-rss-feed?page={page}&apikey={api_key}'\n",
        "      response = requests.get(url)\n",
        "      data = response.json()\n",
        "\n",
        "      if not data:\n",
        "        break  # Stop if there's no data\n",
        "\n",
        "      df = pd.DataFrame(data)\n",
        "\n",
        "      if 'symbol' not in df.columns:\n",
        "        break  # Stop if the expected column is not in the dataframe\n",
        "\n",
        "      msft_news = df[df['symbol'] == 'MSFT']\n",
        "\n",
        "      if not msft_news.empty:\n",
        "        msft_news['publishedDate'] = pd.to_datetime(msft_news['publishedDate'], utc=True)\n",
        "        all_news_data.append(msft_news)\n",
        "\n",
        "      page += 1\n",
        "\n",
        "  if all_news_data:\n",
        "    all_news_data = pd.concat(all_news_data, ignore_index=True)\n",
        "    # Filter for articles after 2019 after all data is collected\n",
        "    all_news_data = all_news_data[(all_news_data['publishedDate'] >= '2020-01-01') &\n",
        "                                  (all_news_data['publishedDate'] < '2024-03-06')]\n",
        "    return all_news_data\n",
        "  else:\n",
        "    return pd.DataFrame()"
      ]
    },
    {
      "cell_type": "code",
      "execution_count": null,
      "metadata": {
        "id": "VSXi5uYUvk7l"
      },
      "outputs": [],
      "source": [
        "news = (pd.read_csv('msft_news_data.csv')\n",
        "        .drop(columns=['title', 'site', 'text', 'sentiment'])\n",
        "        .rename(columns={'sentimentScore': 'news_sentimentScore'}))\n",
        "\n",
        "news['Date'] = pd.to_datetime(news['Date']).dt.strftime('%Y-%m-%d')\n",
        "\n",
        "news = news.groupby('Date')['news_sentimentScore'].mean().reset_index()\n",
        "news = news.set_index('Date')\n",
        "news.index = pd.to_datetime(news.index)\n",
        "news = news.reindex(msft_df.index).fillna(value = 0)"
      ]
    },
    {
      "cell_type": "markdown",
      "metadata": {
        "id": "juGaYXVLbdMU"
      },
      "source": [
        "## AlphaVantage News"
      ]
    },
    {
      "cell_type": "markdown",
      "source": [
        "More news articles about MSFT from different sources.\n",
        "\n",
        "Data obtained from AlphaVantage using an API key."
      ],
      "metadata": {
        "id": "Fcp9AY-k2wwN"
      }
    },
    {
      "cell_type": "code",
      "execution_count": null,
      "metadata": {
        "id": "_e4UKLM7bgQB"
      },
      "outputs": [],
      "source": [
        "# Download data from AlphaVantage and save to csv file\n",
        "relevant_data = []\n",
        "\n",
        "# Define start and end dates as datetime objects\n",
        "start_date = datetime(2022, 3, 1)\n",
        "end_date = datetime(2024, 3, 6)\n",
        "\n",
        "# Define API key\n",
        "api_key = 'api_key'\n",
        "\n",
        "# Loop through date range with 1-day increments\n",
        "while start_date <= end_date:\n",
        "  # Convert start and end dates to string format\n",
        "  time_from = start_date.strftime('%Y%m%d')\n",
        "  time_to = (start_date + timedelta(days=1)).strftime('%Y%m%d')\n",
        "\n",
        "  # Construct API URL\n",
        "  url = f'https://www.alphavantage.co/query?function=NEWS_SENTIMENT&tickers=MSFT&time_from={time_from}T0000&time_to={time_to}T0000&apikey={api_key}'\n",
        "\n",
        "  # Make API call\n",
        "  r = requests.get(url)\n",
        "\n",
        "  # Check if API call was successful\n",
        "  if r.status_code == 200:\n",
        "    # Parse JSON response\n",
        "    data = r.json()\n",
        "\n",
        "    # Check for relevant items in the retrieved data and add them to relevant_data\n",
        "    for item in data['feed']:\n",
        "      if 'ticker_sentiment' in item:\n",
        "        for sentiment_item in item['ticker_sentiment']:\n",
        "          if 'ticker' in sentiment_item and 'relevance_score' in sentiment_item:\n",
        "            if sentiment_item['ticker'] == 'MSFT':\n",
        "              relevance_score = float(sentiment_item['relevance_score'])\n",
        "              if relevance_score > 0.7:\n",
        "                relevant_data.append(item)\n",
        "                break  # No need to continue checking ticker_sentiment if MSFT is found\n",
        "\n",
        "  # Increment start date by 1 day for the next iteration\n",
        "  start_date += timedelta(days=1)\n",
        "\n",
        "# Convert relevant_data to a DataFrame (assuming relevant_data is a list of dictionaries)\n",
        "df = pd.DataFrame(relevant_data)\n",
        "\n",
        "# Save DataFrame to a CSV file\n",
        "csv_filename = 'relevant_data.csv'\n",
        "df.to_csv(csv_filename, index=False)\n",
        "\n",
        "# Download the CSV file to your local machine\n",
        "files.download(csv_filename)"
      ]
    },
    {
      "cell_type": "code",
      "execution_count": null,
      "metadata": {
        "id": "8JB743BLbrJq"
      },
      "outputs": [],
      "source": [
        "relevant_data_all_columns = pd.read_csv('av_news_data.csv')\n",
        "relevant_data_all_columns['ticker_sentiment'] = relevant_data_all_columns['ticker_sentiment'].apply(ast.literal_eval)"
      ]
    },
    {
      "cell_type": "code",
      "execution_count": null,
      "metadata": {
        "id": "dA8HJKPgcRbH"
      },
      "outputs": [],
      "source": [
        "relevant_data = pd.DataFrame()\n",
        "relevant_data['Date'] = relevant_data_all_columns['time_published']\n",
        "# Trim the contents of the 'Date' column to keep only the first 8 characters\n",
        "relevant_data['Date'] = relevant_data['Date'].str[:8]\n",
        "# Convert 'Date' column to datetime type with the format YYYY-MM-DD\n",
        "relevant_data['Date'] = pd.to_datetime(relevant_data['Date'], format='%Y%m%d')"
      ]
    },
    {
      "cell_type": "code",
      "execution_count": null,
      "metadata": {
        "id": "lX5SU7cxcy1t"
      },
      "outputs": [],
      "source": [
        "# Initialize an empty list to store the sentiment scores\n",
        "sentiment_scores = []\n",
        "\n",
        "# Iterate over the 'ticker_sentiment' column\n",
        "for sentiment_list in relevant_data_all_columns['ticker_sentiment']:\n",
        "  msft_sentiment_score = None\n",
        "\n",
        "  # Iterate over the list of dictionaries in the 'ticker_sentiment' column\n",
        "  for sentiment_dict in sentiment_list:\n",
        "    # Check if the 'ticker' value starts with 'MSFT'\n",
        "    if 'ticker' in sentiment_dict and sentiment_dict['ticker'].startswith('MSFT'):\n",
        "      # Get the 'ticker_sentiment_score' value from the dictionary\n",
        "      msft_sentiment_score = sentiment_dict.get('ticker_sentiment_score')\n",
        "      break\n",
        "\n",
        "  # Append the sentiment score to the list\n",
        "  sentiment_scores.append(msft_sentiment_score)\n",
        "\n",
        "# Convert list of strings to list of floats using map() function\n",
        "sentiment_scores_float = list(map(float, sentiment_scores))\n",
        "\n",
        "# Add the 'AV Sentiment Score' column to the relevant_data DataFrame\n",
        "relevant_data['AV Sentiment Score'] = sentiment_scores_float"
      ]
    },
    {
      "cell_type": "code",
      "execution_count": null,
      "metadata": {
        "id": "4RHofOyhc3wX"
      },
      "outputs": [],
      "source": [
        "relevant_data['text'] = relevant_data_all_columns['title'] + '. ' + relevant_data_all_columns['summary']\n",
        "\n",
        "def preprocess_text(text):\n",
        "\n",
        "  return text.lower().strip()\n",
        "\n",
        "relevant_data['text'] = relevant_data['text'].apply(preprocess_text)"
      ]
    },
    {
      "cell_type": "code",
      "execution_count": null,
      "metadata": {
        "id": "JRPexKY0dSdY"
      },
      "outputs": [],
      "source": [
        "# # Use the finBERT model to predict sentiment for each text\n",
        "sentiment_results = finbert_sentiment(relevant_data['text'].tolist())\n",
        "\n",
        "# # Extract sentiment labels and scores (adjust based on model output format)\n",
        "relevant_data['sentiment'] = [result['label'] for result in sentiment_results]\n",
        "relevant_data['finBERT sentiment_score'] = [result['score'] for result in sentiment_results]"
      ]
    },
    {
      "cell_type": "code",
      "execution_count": null,
      "metadata": {
        "id": "0bbHAKvddWD7"
      },
      "outputs": [],
      "source": [
        "converted_scores_with_text = pd.read_csv('converted_scores.csv')\n",
        "# Convert 'Date' column to DateTime\n",
        "converted_scores_with_text['Date'] = pd.to_datetime(converted_scores_with_text['Date'])\n",
        "# Set 'Date' column as index\n",
        "converted_scores_with_text.set_index('Date', inplace=True)\n",
        "converted_scores = converted_scores_with_text.drop(columns=['text','sentiment','finBERT sentiment_score'])\n",
        "converted_scores = converted_scores.rename(columns={'converted_score': 'finbert_news_score'})\n",
        "av_news = converted_scores\n",
        "av_news = av_news.groupby('Date').mean()\n",
        "av_news = av_news.reindex(msft_df.index).fillna(value = 0)"
      ]
    },
    {
      "cell_type": "markdown",
      "metadata": {
        "id": "76_TJbyEhyUm"
      },
      "source": [
        "## Dividends"
      ]
    },
    {
      "cell_type": "markdown",
      "source": [
        "Dividend declarartion and payment data for MSFT.\n",
        "\n",
        "Data obtained from Financial Modeling Prep"
      ],
      "metadata": {
        "id": "uFvrDeVu3WeA"
      }
    },
    {
      "cell_type": "code",
      "execution_count": null,
      "metadata": {
        "id": "ff-3ZJ6i5Kmv"
      },
      "outputs": [],
      "source": [
        "url = f'https://financialmodelingprep.com/api/v3/historical-price-full/stock_dividend/MSFT?&apikey={api_key}'\n",
        "response = requests.get(url)\n",
        "data = response.json()\n",
        "df = pd.DataFrame(data['historical'])\n",
        "# Save DataFrame to a CSV file\n",
        "csv_filename = 'msft_dividends.csv'\n",
        "df.to_csv(csv_filename, index=True)\n",
        "\n",
        "# Download the CSV file\n",
        "files.download(csv_filename)"
      ]
    },
    {
      "cell_type": "code",
      "execution_count": null,
      "metadata": {
        "id": "fBn7MZvk5fSQ"
      },
      "outputs": [],
      "source": [
        "df = pd.read_csv('msft_dividends.csv')"
      ]
    },
    {
      "cell_type": "code",
      "execution_count": null,
      "metadata": {
        "id": "jh-ZkdVe8-iQ"
      },
      "outputs": [],
      "source": [
        "div_payment = (df[['adjDividend', 'paymentDate']]\n",
        "               .rename(columns={'adjDividend': 'Dividend', 'paymentDate': 'Date'})\n",
        "               .assign(Date=lambda x: pd.to_datetime(x['Date']))\n",
        "               .set_index('Date')\n",
        "               .reindex(msft_df.index, fill_value=0))"
      ]
    },
    {
      "cell_type": "code",
      "execution_count": null,
      "metadata": {
        "id": "9w8d28Hw8NWk"
      },
      "outputs": [],
      "source": [
        "div_declar = (df[['adjDividend', 'declarationDate']]\n",
        "              .drop_duplicates('declarationDate')\n",
        "               .rename(columns={'adjDividend': 'Dividend', 'declarationDate': 'Date'})\n",
        "               .assign(Date=lambda x: pd.to_datetime(x['Date']))\n",
        "               .set_index('Date')\n",
        "               .reindex(msft_df.index, fill_value=0))"
      ]
    },
    {
      "cell_type": "code",
      "source": [
        "div_declar_filtered = div_declar[(div_declar.index.isin(msft_df.index)) & (div_declar['Dividend'] != 0)]\n",
        "\n",
        "fig = go.Figure()\n",
        "fig.add_trace(go.Scatter(x=msft_df.index, y=msft_df['Adj Close'], mode='lines',\n",
        "                         line=dict(color='#00274C'),\n",
        "                         name='Adj Closing Price'))\n",
        "\n",
        "# Add vertical lines for dividend declaration dates\n",
        "for date in div_declar_filtered.index:\n",
        "    fig.add_vline(x=date, line_width=1, line_color='#FFCB05')\n",
        "\n",
        "# Update layout with titles and axis labels\n",
        "fig.update_layout(\n",
        "    title=\"MSFT Adjusted Closing Price with Dividend Declarations\",\n",
        "    xaxis_title=\"Date\",\n",
        "    yaxis_title=\"Adjusted Close Price\",\n",
        "    xaxis=dict(showgrid=False),\n",
        "    yaxis=dict(showgrid=False)\n",
        "\n",
        ")\n",
        "\n",
        "fig.show()"
      ],
      "metadata": {
        "colab": {
          "base_uri": "https://localhost:8080/",
          "height": 542
        },
        "id": "1cxMAnLeua7C",
        "outputId": "77087952-f033-4314-91de-a8b13f584e14"
      },
      "execution_count": null,
      "outputs": [
        {
          "output_type": "display_data",
          "data": {
            "text/html": [
              "<html>\n",
              "<head><meta charset=\"utf-8\" /></head>\n",
              "<body>\n",
              "    <div>            <script src=\"https://cdnjs.cloudflare.com/ajax/libs/mathjax/2.7.5/MathJax.js?config=TeX-AMS-MML_SVG\"></script><script type=\"text/javascript\">if (window.MathJax && window.MathJax.Hub && window.MathJax.Hub.Config) {window.MathJax.Hub.Config({SVG: {font: \"STIX-Web\"}});}</script>                <script type=\"text/javascript\">window.PlotlyConfig = {MathJaxConfig: 'local'};</script>\n",
              "        <script charset=\"utf-8\" src=\"https://cdn.plot.ly/plotly-2.24.1.min.js\"></script>                <div id=\"8ed343a7-83d7-4c04-94b8-33e36186b917\" class=\"plotly-graph-div\" style=\"height:525px; width:100%;\"></div>            <script type=\"text/javascript\">                                    window.PLOTLYENV=window.PLOTLYENV || {};                                    if (document.getElementById(\"8ed343a7-83d7-4c04-94b8-33e36186b917\")) {                    Plotly.newPlot(                        \"8ed343a7-83d7-4c04-94b8-33e36186b917\",                        [{\"line\":{\"color\":\"#00274C\"},\"mode\":\"lines\",\"name\":\"Adj Closing Price\",\"x\":[\"2020-01-02T00:00:00\",\"2020-01-03T00:00:00\",\"2020-01-06T00:00:00\",\"2020-01-07T00:00:00\",\"2020-01-08T00:00:00\",\"2020-01-09T00:00:00\",\"2020-01-10T00:00:00\",\"2020-01-13T00:00:00\",\"2020-01-14T00:00:00\",\"2020-01-15T00:00:00\",\"2020-01-16T00:00:00\",\"2020-01-17T00:00:00\",\"2020-01-21T00:00:00\",\"2020-01-22T00:00:00\",\"2020-01-23T00:00:00\",\"2020-01-24T00:00:00\",\"2020-01-27T00:00:00\",\"2020-01-28T00:00:00\",\"2020-01-29T00:00:00\",\"2020-01-30T00:00:00\",\"2020-01-31T00:00:00\",\"2020-02-03T00:00:00\",\"2020-02-04T00:00:00\",\"2020-02-05T00:00:00\",\"2020-02-06T00:00:00\",\"2020-02-07T00:00:00\",\"2020-02-10T00:00:00\",\"2020-02-11T00:00:00\",\"2020-02-12T00:00:00\",\"2020-02-13T00:00:00\",\"2020-02-14T00:00:00\",\"2020-02-18T00:00:00\",\"2020-02-19T00:00:00\",\"2020-02-20T00:00:00\",\"2020-02-21T00:00:00\",\"2020-02-24T00:00:00\",\"2020-02-25T00:00:00\",\"2020-02-26T00:00:00\",\"2020-02-27T00:00:00\",\"2020-02-28T00:00:00\",\"2020-03-02T00:00:00\",\"2020-03-03T00:00:00\",\"2020-03-04T00:00:00\",\"2020-03-05T00:00:00\",\"2020-03-06T00:00:00\",\"2020-03-09T00:00:00\",\"2020-03-10T00:00:00\",\"2020-03-11T00:00:00\",\"2020-03-12T00:00:00\",\"2020-03-13T00:00:00\",\"2020-03-16T00:00:00\",\"2020-03-17T00:00:00\",\"2020-03-18T00:00:00\",\"2020-03-19T00:00:00\",\"2020-03-20T00:00:00\",\"2020-03-23T00:00:00\",\"2020-03-24T00:00:00\",\"2020-03-25T00:00:00\",\"2020-03-26T00:00:00\",\"2020-03-27T00:00:00\",\"2020-03-30T00:00:00\",\"2020-03-31T00:00:00\",\"2020-04-01T00:00:00\",\"2020-04-02T00:00:00\",\"2020-04-03T00:00:00\",\"2020-04-06T00:00:00\",\"2020-04-07T00:00:00\",\"2020-04-08T00:00:00\",\"2020-04-09T00:00:00\",\"2020-04-13T00:00:00\",\"2020-04-14T00:00:00\",\"2020-04-15T00:00:00\",\"2020-04-16T00:00:00\",\"2020-04-17T00:00:00\",\"2020-04-20T00:00:00\",\"2020-04-21T00:00:00\",\"2020-04-22T00:00:00\",\"2020-04-23T00:00:00\",\"2020-04-24T00:00:00\",\"2020-04-27T00:00:00\",\"2020-04-28T00:00:00\",\"2020-04-29T00:00:00\",\"2020-04-30T00:00:00\",\"2020-05-01T00:00:00\",\"2020-05-04T00:00:00\",\"2020-05-05T00:00:00\",\"2020-05-06T00:00:00\",\"2020-05-07T00:00:00\",\"2020-05-08T00:00:00\",\"2020-05-11T00:00:00\",\"2020-05-12T00:00:00\",\"2020-05-13T00:00:00\",\"2020-05-14T00:00:00\",\"2020-05-15T00:00:00\",\"2020-05-18T00:00:00\",\"2020-05-19T00:00:00\",\"2020-05-20T00:00:00\",\"2020-05-21T00:00:00\",\"2020-05-22T00:00:00\",\"2020-05-26T00:00:00\",\"2020-05-27T00:00:00\",\"2020-05-28T00:00:00\",\"2020-05-29T00:00:00\",\"2020-06-01T00:00:00\",\"2020-06-02T00:00:00\",\"2020-06-03T00:00:00\",\"2020-06-04T00:00:00\",\"2020-06-05T00:00:00\",\"2020-06-08T00:00:00\",\"2020-06-09T00:00:00\",\"2020-06-10T00:00:00\",\"2020-06-11T00:00:00\",\"2020-06-12T00:00:00\",\"2020-06-15T00:00:00\",\"2020-06-16T00:00:00\",\"2020-06-17T00:00:00\",\"2020-06-18T00:00:00\",\"2020-06-19T00:00:00\",\"2020-06-22T00:00:00\",\"2020-06-23T00:00:00\",\"2020-06-24T00:00:00\",\"2020-06-25T00:00:00\",\"2020-06-26T00:00:00\",\"2020-06-29T00:00:00\",\"2020-06-30T00:00:00\",\"2020-07-01T00:00:00\",\"2020-07-02T00:00:00\",\"2020-07-06T00:00:00\",\"2020-07-07T00:00:00\",\"2020-07-08T00:00:00\",\"2020-07-09T00:00:00\",\"2020-07-10T00:00:00\",\"2020-07-13T00:00:00\",\"2020-07-14T00:00:00\",\"2020-07-15T00:00:00\",\"2020-07-16T00:00:00\",\"2020-07-17T00:00:00\",\"2020-07-20T00:00:00\",\"2020-07-21T00:00:00\",\"2020-07-22T00:00:00\",\"2020-07-23T00:00:00\",\"2020-07-24T00:00:00\",\"2020-07-27T00:00:00\",\"2020-07-28T00:00:00\",\"2020-07-29T00:00:00\",\"2020-07-30T00:00:00\",\"2020-07-31T00:00:00\",\"2020-08-03T00:00:00\",\"2020-08-04T00:00:00\",\"2020-08-05T00:00:00\",\"2020-08-06T00:00:00\",\"2020-08-07T00:00:00\",\"2020-08-10T00:00:00\",\"2020-08-11T00:00:00\",\"2020-08-12T00:00:00\",\"2020-08-13T00:00:00\",\"2020-08-14T00:00:00\",\"2020-08-17T00:00:00\",\"2020-08-18T00:00:00\",\"2020-08-19T00:00:00\",\"2020-08-20T00:00:00\",\"2020-08-21T00:00:00\",\"2020-08-24T00:00:00\",\"2020-08-25T00:00:00\",\"2020-08-26T00:00:00\",\"2020-08-27T00:00:00\",\"2020-08-28T00:00:00\",\"2020-08-31T00:00:00\",\"2020-09-01T00:00:00\",\"2020-09-02T00:00:00\",\"2020-09-03T00:00:00\",\"2020-09-04T00:00:00\",\"2020-09-08T00:00:00\",\"2020-09-09T00:00:00\",\"2020-09-10T00:00:00\",\"2020-09-11T00:00:00\",\"2020-09-14T00:00:00\",\"2020-09-15T00:00:00\",\"2020-09-16T00:00:00\",\"2020-09-17T00:00:00\",\"2020-09-18T00:00:00\",\"2020-09-21T00:00:00\",\"2020-09-22T00:00:00\",\"2020-09-23T00:00:00\",\"2020-09-24T00:00:00\",\"2020-09-25T00:00:00\",\"2020-09-28T00:00:00\",\"2020-09-29T00:00:00\",\"2020-09-30T00:00:00\",\"2020-10-01T00:00:00\",\"2020-10-02T00:00:00\",\"2020-10-05T00:00:00\",\"2020-10-06T00:00:00\",\"2020-10-07T00:00:00\",\"2020-10-08T00:00:00\",\"2020-10-09T00:00:00\",\"2020-10-12T00:00:00\",\"2020-10-13T00:00:00\",\"2020-10-14T00:00:00\",\"2020-10-15T00:00:00\",\"2020-10-16T00:00:00\",\"2020-10-19T00:00:00\",\"2020-10-20T00:00:00\",\"2020-10-21T00:00:00\",\"2020-10-22T00:00:00\",\"2020-10-23T00:00:00\",\"2020-10-26T00:00:00\",\"2020-10-27T00:00:00\",\"2020-10-28T00:00:00\",\"2020-10-29T00:00:00\",\"2020-10-30T00:00:00\",\"2020-11-02T00:00:00\",\"2020-11-03T00:00:00\",\"2020-11-04T00:00:00\",\"2020-11-05T00:00:00\",\"2020-11-06T00:00:00\",\"2020-11-09T00:00:00\",\"2020-11-10T00:00:00\",\"2020-11-11T00:00:00\",\"2020-11-12T00:00:00\",\"2020-11-13T00:00:00\",\"2020-11-16T00:00:00\",\"2020-11-17T00:00:00\",\"2020-11-18T00:00:00\",\"2020-11-19T00:00:00\",\"2020-11-20T00:00:00\",\"2020-11-23T00:00:00\",\"2020-11-24T00:00:00\",\"2020-11-25T00:00:00\",\"2020-11-27T00:00:00\",\"2020-11-30T00:00:00\",\"2020-12-01T00:00:00\",\"2020-12-02T00:00:00\",\"2020-12-03T00:00:00\",\"2020-12-04T00:00:00\",\"2020-12-07T00:00:00\",\"2020-12-08T00:00:00\",\"2020-12-09T00:00:00\",\"2020-12-10T00:00:00\",\"2020-12-11T00:00:00\",\"2020-12-14T00:00:00\",\"2020-12-15T00:00:00\",\"2020-12-16T00:00:00\",\"2020-12-17T00:00:00\",\"2020-12-18T00:00:00\",\"2020-12-21T00:00:00\",\"2020-12-22T00:00:00\",\"2020-12-23T00:00:00\",\"2020-12-24T00:00:00\",\"2020-12-28T00:00:00\",\"2020-12-29T00:00:00\",\"2020-12-30T00:00:00\",\"2020-12-31T00:00:00\",\"2021-01-04T00:00:00\",\"2021-01-05T00:00:00\",\"2021-01-06T00:00:00\",\"2021-01-07T00:00:00\",\"2021-01-08T00:00:00\",\"2021-01-11T00:00:00\",\"2021-01-12T00:00:00\",\"2021-01-13T00:00:00\",\"2021-01-14T00:00:00\",\"2021-01-15T00:00:00\",\"2021-01-19T00:00:00\",\"2021-01-20T00:00:00\",\"2021-01-21T00:00:00\",\"2021-01-22T00:00:00\",\"2021-01-25T00:00:00\",\"2021-01-26T00:00:00\",\"2021-01-27T00:00:00\",\"2021-01-28T00:00:00\",\"2021-01-29T00:00:00\",\"2021-02-01T00:00:00\",\"2021-02-02T00:00:00\",\"2021-02-03T00:00:00\",\"2021-02-04T00:00:00\",\"2021-02-05T00:00:00\",\"2021-02-08T00:00:00\",\"2021-02-09T00:00:00\",\"2021-02-10T00:00:00\",\"2021-02-11T00:00:00\",\"2021-02-12T00:00:00\",\"2021-02-16T00:00:00\",\"2021-02-17T00:00:00\",\"2021-02-18T00:00:00\",\"2021-02-19T00:00:00\",\"2021-02-22T00:00:00\",\"2021-02-23T00:00:00\",\"2021-02-24T00:00:00\",\"2021-02-25T00:00:00\",\"2021-02-26T00:00:00\",\"2021-03-01T00:00:00\",\"2021-03-02T00:00:00\",\"2021-03-03T00:00:00\",\"2021-03-04T00:00:00\",\"2021-03-05T00:00:00\",\"2021-03-08T00:00:00\",\"2021-03-09T00:00:00\",\"2021-03-10T00:00:00\",\"2021-03-11T00:00:00\",\"2021-03-12T00:00:00\",\"2021-03-15T00:00:00\",\"2021-03-16T00:00:00\",\"2021-03-17T00:00:00\",\"2021-03-18T00:00:00\",\"2021-03-19T00:00:00\",\"2021-03-22T00:00:00\",\"2021-03-23T00:00:00\",\"2021-03-24T00:00:00\",\"2021-03-25T00:00:00\",\"2021-03-26T00:00:00\",\"2021-03-29T00:00:00\",\"2021-03-30T00:00:00\",\"2021-03-31T00:00:00\",\"2021-04-01T00:00:00\",\"2021-04-05T00:00:00\",\"2021-04-06T00:00:00\",\"2021-04-07T00:00:00\",\"2021-04-08T00:00:00\",\"2021-04-09T00:00:00\",\"2021-04-12T00:00:00\",\"2021-04-13T00:00:00\",\"2021-04-14T00:00:00\",\"2021-04-15T00:00:00\",\"2021-04-16T00:00:00\",\"2021-04-19T00:00:00\",\"2021-04-20T00:00:00\",\"2021-04-21T00:00:00\",\"2021-04-22T00:00:00\",\"2021-04-23T00:00:00\",\"2021-04-26T00:00:00\",\"2021-04-27T00:00:00\",\"2021-04-28T00:00:00\",\"2021-04-29T00:00:00\",\"2021-04-30T00:00:00\",\"2021-05-03T00:00:00\",\"2021-05-04T00:00:00\",\"2021-05-05T00:00:00\",\"2021-05-06T00:00:00\",\"2021-05-07T00:00:00\",\"2021-05-10T00:00:00\",\"2021-05-11T00:00:00\",\"2021-05-12T00:00:00\",\"2021-05-13T00:00:00\",\"2021-05-14T00:00:00\",\"2021-05-17T00:00:00\",\"2021-05-18T00:00:00\",\"2021-05-19T00:00:00\",\"2021-05-20T00:00:00\",\"2021-05-21T00:00:00\",\"2021-05-24T00:00:00\",\"2021-05-25T00:00:00\",\"2021-05-26T00:00:00\",\"2021-05-27T00:00:00\",\"2021-05-28T00:00:00\",\"2021-06-01T00:00:00\",\"2021-06-02T00:00:00\",\"2021-06-03T00:00:00\",\"2021-06-04T00:00:00\",\"2021-06-07T00:00:00\",\"2021-06-08T00:00:00\",\"2021-06-09T00:00:00\",\"2021-06-10T00:00:00\",\"2021-06-11T00:00:00\",\"2021-06-14T00:00:00\",\"2021-06-15T00:00:00\",\"2021-06-16T00:00:00\",\"2021-06-17T00:00:00\",\"2021-06-18T00:00:00\",\"2021-06-21T00:00:00\",\"2021-06-22T00:00:00\",\"2021-06-23T00:00:00\",\"2021-06-24T00:00:00\",\"2021-06-25T00:00:00\",\"2021-06-28T00:00:00\",\"2021-06-29T00:00:00\",\"2021-06-30T00:00:00\",\"2021-07-01T00:00:00\",\"2021-07-02T00:00:00\",\"2021-07-06T00:00:00\",\"2021-07-07T00:00:00\",\"2021-07-08T00:00:00\",\"2021-07-09T00:00:00\",\"2021-07-12T00:00:00\",\"2021-07-13T00:00:00\",\"2021-07-14T00:00:00\",\"2021-07-15T00:00:00\",\"2021-07-16T00:00:00\",\"2021-07-19T00:00:00\",\"2021-07-20T00:00:00\",\"2021-07-21T00:00:00\",\"2021-07-22T00:00:00\",\"2021-07-23T00:00:00\",\"2021-07-26T00:00:00\",\"2021-07-27T00:00:00\",\"2021-07-28T00:00:00\",\"2021-07-29T00:00:00\",\"2021-07-30T00:00:00\",\"2021-08-02T00:00:00\",\"2021-08-03T00:00:00\",\"2021-08-04T00:00:00\",\"2021-08-05T00:00:00\",\"2021-08-06T00:00:00\",\"2021-08-09T00:00:00\",\"2021-08-10T00:00:00\",\"2021-08-11T00:00:00\",\"2021-08-12T00:00:00\",\"2021-08-13T00:00:00\",\"2021-08-16T00:00:00\",\"2021-08-17T00:00:00\",\"2021-08-18T00:00:00\",\"2021-08-19T00:00:00\",\"2021-08-20T00:00:00\",\"2021-08-23T00:00:00\",\"2021-08-24T00:00:00\",\"2021-08-25T00:00:00\",\"2021-08-26T00:00:00\",\"2021-08-27T00:00:00\",\"2021-08-30T00:00:00\",\"2021-08-31T00:00:00\",\"2021-09-01T00:00:00\",\"2021-09-02T00:00:00\",\"2021-09-03T00:00:00\",\"2021-09-07T00:00:00\",\"2021-09-08T00:00:00\",\"2021-09-09T00:00:00\",\"2021-09-10T00:00:00\",\"2021-09-13T00:00:00\",\"2021-09-14T00:00:00\",\"2021-09-15T00:00:00\",\"2021-09-16T00:00:00\",\"2021-09-17T00:00:00\",\"2021-09-20T00:00:00\",\"2021-09-21T00:00:00\",\"2021-09-22T00:00:00\",\"2021-09-23T00:00:00\",\"2021-09-24T00:00:00\",\"2021-09-27T00:00:00\",\"2021-09-28T00:00:00\",\"2021-09-29T00:00:00\",\"2021-09-30T00:00:00\",\"2021-10-01T00:00:00\",\"2021-10-04T00:00:00\",\"2021-10-05T00:00:00\",\"2021-10-06T00:00:00\",\"2021-10-07T00:00:00\",\"2021-10-08T00:00:00\",\"2021-10-11T00:00:00\",\"2021-10-12T00:00:00\",\"2021-10-13T00:00:00\",\"2021-10-14T00:00:00\",\"2021-10-15T00:00:00\",\"2021-10-18T00:00:00\",\"2021-10-19T00:00:00\",\"2021-10-20T00:00:00\",\"2021-10-21T00:00:00\",\"2021-10-22T00:00:00\",\"2021-10-25T00:00:00\",\"2021-10-26T00:00:00\",\"2021-10-27T00:00:00\",\"2021-10-28T00:00:00\",\"2021-10-29T00:00:00\",\"2021-11-01T00:00:00\",\"2021-11-02T00:00:00\",\"2021-11-03T00:00:00\",\"2021-11-04T00:00:00\",\"2021-11-05T00:00:00\",\"2021-11-08T00:00:00\",\"2021-11-09T00:00:00\",\"2021-11-10T00:00:00\",\"2021-11-11T00:00:00\",\"2021-11-12T00:00:00\",\"2021-11-15T00:00:00\",\"2021-11-16T00:00:00\",\"2021-11-17T00:00:00\",\"2021-11-18T00:00:00\",\"2021-11-19T00:00:00\",\"2021-11-22T00:00:00\",\"2021-11-23T00:00:00\",\"2021-11-24T00:00:00\",\"2021-11-26T00:00:00\",\"2021-11-29T00:00:00\",\"2021-11-30T00:00:00\",\"2021-12-01T00:00:00\",\"2021-12-02T00:00:00\",\"2021-12-03T00:00:00\",\"2021-12-06T00:00:00\",\"2021-12-07T00:00:00\",\"2021-12-08T00:00:00\",\"2021-12-09T00:00:00\",\"2021-12-10T00:00:00\",\"2021-12-13T00:00:00\",\"2021-12-14T00:00:00\",\"2021-12-15T00:00:00\",\"2021-12-16T00:00:00\",\"2021-12-17T00:00:00\",\"2021-12-20T00:00:00\",\"2021-12-21T00:00:00\",\"2021-12-22T00:00:00\",\"2021-12-23T00:00:00\",\"2021-12-27T00:00:00\",\"2021-12-28T00:00:00\",\"2021-12-29T00:00:00\",\"2021-12-30T00:00:00\",\"2021-12-31T00:00:00\",\"2022-01-03T00:00:00\",\"2022-01-04T00:00:00\",\"2022-01-05T00:00:00\",\"2022-01-06T00:00:00\",\"2022-01-07T00:00:00\",\"2022-01-10T00:00:00\",\"2022-01-11T00:00:00\",\"2022-01-12T00:00:00\",\"2022-01-13T00:00:00\",\"2022-01-14T00:00:00\",\"2022-01-18T00:00:00\",\"2022-01-19T00:00:00\",\"2022-01-20T00:00:00\",\"2022-01-21T00:00:00\",\"2022-01-24T00:00:00\",\"2022-01-25T00:00:00\",\"2022-01-26T00:00:00\",\"2022-01-27T00:00:00\",\"2022-01-28T00:00:00\",\"2022-01-31T00:00:00\",\"2022-02-01T00:00:00\",\"2022-02-02T00:00:00\",\"2022-02-03T00:00:00\",\"2022-02-04T00:00:00\",\"2022-02-07T00:00:00\",\"2022-02-08T00:00:00\",\"2022-02-09T00:00:00\",\"2022-02-10T00:00:00\",\"2022-02-11T00:00:00\",\"2022-02-14T00:00:00\",\"2022-02-15T00:00:00\",\"2022-02-16T00:00:00\",\"2022-02-17T00:00:00\",\"2022-02-18T00:00:00\",\"2022-02-22T00:00:00\",\"2022-02-23T00:00:00\",\"2022-02-24T00:00:00\",\"2022-02-25T00:00:00\",\"2022-02-28T00:00:00\",\"2022-03-01T00:00:00\",\"2022-03-02T00:00:00\",\"2022-03-03T00:00:00\",\"2022-03-04T00:00:00\",\"2022-03-07T00:00:00\",\"2022-03-08T00:00:00\",\"2022-03-09T00:00:00\",\"2022-03-10T00:00:00\",\"2022-03-11T00:00:00\",\"2022-03-14T00:00:00\",\"2022-03-15T00:00:00\",\"2022-03-16T00:00:00\",\"2022-03-17T00:00:00\",\"2022-03-18T00:00:00\",\"2022-03-21T00:00:00\",\"2022-03-22T00:00:00\",\"2022-03-23T00:00:00\",\"2022-03-24T00:00:00\",\"2022-03-25T00:00:00\",\"2022-03-28T00:00:00\",\"2022-03-29T00:00:00\",\"2022-03-30T00:00:00\",\"2022-03-31T00:00:00\",\"2022-04-01T00:00:00\",\"2022-04-04T00:00:00\",\"2022-04-05T00:00:00\",\"2022-04-06T00:00:00\",\"2022-04-07T00:00:00\",\"2022-04-08T00:00:00\",\"2022-04-11T00:00:00\",\"2022-04-12T00:00:00\",\"2022-04-13T00:00:00\",\"2022-04-14T00:00:00\",\"2022-04-18T00:00:00\",\"2022-04-19T00:00:00\",\"2022-04-20T00:00:00\",\"2022-04-21T00:00:00\",\"2022-04-22T00:00:00\",\"2022-04-25T00:00:00\",\"2022-04-26T00:00:00\",\"2022-04-27T00:00:00\",\"2022-04-28T00:00:00\",\"2022-04-29T00:00:00\",\"2022-05-02T00:00:00\",\"2022-05-03T00:00:00\",\"2022-05-04T00:00:00\",\"2022-05-05T00:00:00\",\"2022-05-06T00:00:00\",\"2022-05-09T00:00:00\",\"2022-05-10T00:00:00\",\"2022-05-11T00:00:00\",\"2022-05-12T00:00:00\",\"2022-05-13T00:00:00\",\"2022-05-16T00:00:00\",\"2022-05-17T00:00:00\",\"2022-05-18T00:00:00\",\"2022-05-19T00:00:00\",\"2022-05-20T00:00:00\",\"2022-05-23T00:00:00\",\"2022-05-24T00:00:00\",\"2022-05-25T00:00:00\",\"2022-05-26T00:00:00\",\"2022-05-27T00:00:00\",\"2022-05-31T00:00:00\",\"2022-06-01T00:00:00\",\"2022-06-02T00:00:00\",\"2022-06-03T00:00:00\",\"2022-06-06T00:00:00\",\"2022-06-07T00:00:00\",\"2022-06-08T00:00:00\",\"2022-06-09T00:00:00\",\"2022-06-10T00:00:00\",\"2022-06-13T00:00:00\",\"2022-06-14T00:00:00\",\"2022-06-15T00:00:00\",\"2022-06-16T00:00:00\",\"2022-06-17T00:00:00\",\"2022-06-21T00:00:00\",\"2022-06-22T00:00:00\",\"2022-06-23T00:00:00\",\"2022-06-24T00:00:00\",\"2022-06-27T00:00:00\",\"2022-06-28T00:00:00\",\"2022-06-29T00:00:00\",\"2022-06-30T00:00:00\",\"2022-07-01T00:00:00\",\"2022-07-05T00:00:00\",\"2022-07-06T00:00:00\",\"2022-07-07T00:00:00\",\"2022-07-08T00:00:00\",\"2022-07-11T00:00:00\",\"2022-07-12T00:00:00\",\"2022-07-13T00:00:00\",\"2022-07-14T00:00:00\",\"2022-07-15T00:00:00\",\"2022-07-18T00:00:00\",\"2022-07-19T00:00:00\",\"2022-07-20T00:00:00\",\"2022-07-21T00:00:00\",\"2022-07-22T00:00:00\",\"2022-07-25T00:00:00\",\"2022-07-26T00:00:00\",\"2022-07-27T00:00:00\",\"2022-07-28T00:00:00\",\"2022-07-29T00:00:00\",\"2022-08-01T00:00:00\",\"2022-08-02T00:00:00\",\"2022-08-03T00:00:00\",\"2022-08-04T00:00:00\",\"2022-08-05T00:00:00\",\"2022-08-08T00:00:00\",\"2022-08-09T00:00:00\",\"2022-08-10T00:00:00\",\"2022-08-11T00:00:00\",\"2022-08-12T00:00:00\",\"2022-08-15T00:00:00\",\"2022-08-16T00:00:00\",\"2022-08-17T00:00:00\",\"2022-08-18T00:00:00\",\"2022-08-19T00:00:00\",\"2022-08-22T00:00:00\",\"2022-08-23T00:00:00\",\"2022-08-24T00:00:00\",\"2022-08-25T00:00:00\",\"2022-08-26T00:00:00\",\"2022-08-29T00:00:00\",\"2022-08-30T00:00:00\",\"2022-08-31T00:00:00\",\"2022-09-01T00:00:00\",\"2022-09-02T00:00:00\",\"2022-09-06T00:00:00\",\"2022-09-07T00:00:00\",\"2022-09-08T00:00:00\",\"2022-09-09T00:00:00\",\"2022-09-12T00:00:00\",\"2022-09-13T00:00:00\",\"2022-09-14T00:00:00\",\"2022-09-15T00:00:00\",\"2022-09-16T00:00:00\",\"2022-09-19T00:00:00\",\"2022-09-20T00:00:00\",\"2022-09-21T00:00:00\",\"2022-09-22T00:00:00\",\"2022-09-23T00:00:00\",\"2022-09-26T00:00:00\",\"2022-09-27T00:00:00\",\"2022-09-28T00:00:00\",\"2022-09-29T00:00:00\",\"2022-09-30T00:00:00\",\"2022-10-03T00:00:00\",\"2022-10-04T00:00:00\",\"2022-10-05T00:00:00\",\"2022-10-06T00:00:00\",\"2022-10-07T00:00:00\",\"2022-10-10T00:00:00\",\"2022-10-11T00:00:00\",\"2022-10-12T00:00:00\",\"2022-10-13T00:00:00\",\"2022-10-14T00:00:00\",\"2022-10-17T00:00:00\",\"2022-10-18T00:00:00\",\"2022-10-19T00:00:00\",\"2022-10-20T00:00:00\",\"2022-10-21T00:00:00\",\"2022-10-24T00:00:00\",\"2022-10-25T00:00:00\",\"2022-10-26T00:00:00\",\"2022-10-27T00:00:00\",\"2022-10-28T00:00:00\",\"2022-10-31T00:00:00\",\"2022-11-01T00:00:00\",\"2022-11-02T00:00:00\",\"2022-11-03T00:00:00\",\"2022-11-04T00:00:00\",\"2022-11-07T00:00:00\",\"2022-11-08T00:00:00\",\"2022-11-09T00:00:00\",\"2022-11-10T00:00:00\",\"2022-11-11T00:00:00\",\"2022-11-14T00:00:00\",\"2022-11-15T00:00:00\",\"2022-11-16T00:00:00\",\"2022-11-17T00:00:00\",\"2022-11-18T00:00:00\",\"2022-11-21T00:00:00\",\"2022-11-22T00:00:00\",\"2022-11-23T00:00:00\",\"2022-11-25T00:00:00\",\"2022-11-28T00:00:00\",\"2022-11-29T00:00:00\",\"2022-11-30T00:00:00\",\"2022-12-01T00:00:00\",\"2022-12-02T00:00:00\",\"2022-12-05T00:00:00\",\"2022-12-06T00:00:00\",\"2022-12-07T00:00:00\",\"2022-12-08T00:00:00\",\"2022-12-09T00:00:00\",\"2022-12-12T00:00:00\",\"2022-12-13T00:00:00\",\"2022-12-14T00:00:00\",\"2022-12-15T00:00:00\",\"2022-12-16T00:00:00\",\"2022-12-19T00:00:00\",\"2022-12-20T00:00:00\",\"2022-12-21T00:00:00\",\"2022-12-22T00:00:00\",\"2022-12-23T00:00:00\",\"2022-12-27T00:00:00\",\"2022-12-28T00:00:00\",\"2022-12-29T00:00:00\",\"2022-12-30T00:00:00\",\"2023-01-03T00:00:00\",\"2023-01-04T00:00:00\",\"2023-01-05T00:00:00\",\"2023-01-06T00:00:00\",\"2023-01-09T00:00:00\",\"2023-01-10T00:00:00\",\"2023-01-11T00:00:00\",\"2023-01-12T00:00:00\",\"2023-01-13T00:00:00\",\"2023-01-17T00:00:00\",\"2023-01-18T00:00:00\",\"2023-01-19T00:00:00\",\"2023-01-20T00:00:00\",\"2023-01-23T00:00:00\",\"2023-01-24T00:00:00\",\"2023-01-25T00:00:00\",\"2023-01-26T00:00:00\",\"2023-01-27T00:00:00\",\"2023-01-30T00:00:00\",\"2023-01-31T00:00:00\",\"2023-02-01T00:00:00\",\"2023-02-02T00:00:00\",\"2023-02-03T00:00:00\",\"2023-02-06T00:00:00\",\"2023-02-07T00:00:00\",\"2023-02-08T00:00:00\",\"2023-02-09T00:00:00\",\"2023-02-10T00:00:00\",\"2023-02-13T00:00:00\",\"2023-02-14T00:00:00\",\"2023-02-15T00:00:00\",\"2023-02-16T00:00:00\",\"2023-02-17T00:00:00\",\"2023-02-21T00:00:00\",\"2023-02-22T00:00:00\",\"2023-02-23T00:00:00\",\"2023-02-24T00:00:00\",\"2023-02-27T00:00:00\",\"2023-02-28T00:00:00\",\"2023-03-01T00:00:00\",\"2023-03-02T00:00:00\",\"2023-03-03T00:00:00\",\"2023-03-06T00:00:00\",\"2023-03-07T00:00:00\",\"2023-03-08T00:00:00\",\"2023-03-09T00:00:00\",\"2023-03-10T00:00:00\",\"2023-03-13T00:00:00\",\"2023-03-14T00:00:00\",\"2023-03-15T00:00:00\",\"2023-03-16T00:00:00\",\"2023-03-17T00:00:00\",\"2023-03-20T00:00:00\",\"2023-03-21T00:00:00\",\"2023-03-22T00:00:00\",\"2023-03-23T00:00:00\",\"2023-03-24T00:00:00\",\"2023-03-27T00:00:00\",\"2023-03-28T00:00:00\",\"2023-03-29T00:00:00\",\"2023-03-30T00:00:00\",\"2023-03-31T00:00:00\",\"2023-04-03T00:00:00\",\"2023-04-04T00:00:00\",\"2023-04-05T00:00:00\",\"2023-04-06T00:00:00\",\"2023-04-10T00:00:00\",\"2023-04-11T00:00:00\",\"2023-04-12T00:00:00\",\"2023-04-13T00:00:00\",\"2023-04-14T00:00:00\",\"2023-04-17T00:00:00\",\"2023-04-18T00:00:00\",\"2023-04-19T00:00:00\",\"2023-04-20T00:00:00\",\"2023-04-21T00:00:00\",\"2023-04-24T00:00:00\",\"2023-04-25T00:00:00\",\"2023-04-26T00:00:00\",\"2023-04-27T00:00:00\",\"2023-04-28T00:00:00\",\"2023-05-01T00:00:00\",\"2023-05-02T00:00:00\",\"2023-05-03T00:00:00\",\"2023-05-04T00:00:00\",\"2023-05-05T00:00:00\",\"2023-05-08T00:00:00\",\"2023-05-09T00:00:00\",\"2023-05-10T00:00:00\",\"2023-05-11T00:00:00\",\"2023-05-12T00:00:00\",\"2023-05-15T00:00:00\",\"2023-05-16T00:00:00\",\"2023-05-17T00:00:00\",\"2023-05-18T00:00:00\",\"2023-05-19T00:00:00\",\"2023-05-22T00:00:00\",\"2023-05-23T00:00:00\",\"2023-05-24T00:00:00\",\"2023-05-25T00:00:00\",\"2023-05-26T00:00:00\",\"2023-05-30T00:00:00\",\"2023-05-31T00:00:00\",\"2023-06-01T00:00:00\",\"2023-06-02T00:00:00\",\"2023-06-05T00:00:00\",\"2023-06-06T00:00:00\",\"2023-06-07T00:00:00\",\"2023-06-08T00:00:00\",\"2023-06-09T00:00:00\",\"2023-06-12T00:00:00\",\"2023-06-13T00:00:00\",\"2023-06-14T00:00:00\",\"2023-06-15T00:00:00\",\"2023-06-16T00:00:00\",\"2023-06-20T00:00:00\",\"2023-06-21T00:00:00\",\"2023-06-22T00:00:00\",\"2023-06-23T00:00:00\",\"2023-06-26T00:00:00\",\"2023-06-27T00:00:00\",\"2023-06-28T00:00:00\",\"2023-06-29T00:00:00\",\"2023-06-30T00:00:00\",\"2023-07-03T00:00:00\",\"2023-07-05T00:00:00\",\"2023-07-06T00:00:00\",\"2023-07-07T00:00:00\",\"2023-07-10T00:00:00\",\"2023-07-11T00:00:00\",\"2023-07-12T00:00:00\",\"2023-07-13T00:00:00\",\"2023-07-14T00:00:00\",\"2023-07-17T00:00:00\",\"2023-07-18T00:00:00\",\"2023-07-19T00:00:00\",\"2023-07-20T00:00:00\",\"2023-07-21T00:00:00\",\"2023-07-24T00:00:00\",\"2023-07-25T00:00:00\",\"2023-07-26T00:00:00\",\"2023-07-27T00:00:00\",\"2023-07-28T00:00:00\",\"2023-07-31T00:00:00\",\"2023-08-01T00:00:00\",\"2023-08-02T00:00:00\",\"2023-08-03T00:00:00\",\"2023-08-04T00:00:00\",\"2023-08-07T00:00:00\",\"2023-08-08T00:00:00\",\"2023-08-09T00:00:00\",\"2023-08-10T00:00:00\",\"2023-08-11T00:00:00\",\"2023-08-14T00:00:00\",\"2023-08-15T00:00:00\",\"2023-08-16T00:00:00\",\"2023-08-17T00:00:00\",\"2023-08-18T00:00:00\",\"2023-08-21T00:00:00\",\"2023-08-22T00:00:00\",\"2023-08-23T00:00:00\",\"2023-08-24T00:00:00\",\"2023-08-25T00:00:00\",\"2023-08-28T00:00:00\",\"2023-08-29T00:00:00\",\"2023-08-30T00:00:00\",\"2023-08-31T00:00:00\",\"2023-09-01T00:00:00\",\"2023-09-05T00:00:00\",\"2023-09-06T00:00:00\",\"2023-09-07T00:00:00\",\"2023-09-08T00:00:00\",\"2023-09-11T00:00:00\",\"2023-09-12T00:00:00\",\"2023-09-13T00:00:00\",\"2023-09-14T00:00:00\",\"2023-09-15T00:00:00\",\"2023-09-18T00:00:00\",\"2023-09-19T00:00:00\",\"2023-09-20T00:00:00\",\"2023-09-21T00:00:00\",\"2023-09-22T00:00:00\",\"2023-09-25T00:00:00\",\"2023-09-26T00:00:00\",\"2023-09-27T00:00:00\",\"2023-09-28T00:00:00\",\"2023-09-29T00:00:00\",\"2023-10-02T00:00:00\",\"2023-10-03T00:00:00\",\"2023-10-04T00:00:00\",\"2023-10-05T00:00:00\",\"2023-10-06T00:00:00\",\"2023-10-09T00:00:00\",\"2023-10-10T00:00:00\",\"2023-10-11T00:00:00\",\"2023-10-12T00:00:00\",\"2023-10-13T00:00:00\",\"2023-10-16T00:00:00\",\"2023-10-17T00:00:00\",\"2023-10-18T00:00:00\",\"2023-10-19T00:00:00\",\"2023-10-20T00:00:00\",\"2023-10-23T00:00:00\",\"2023-10-24T00:00:00\",\"2023-10-25T00:00:00\",\"2023-10-26T00:00:00\",\"2023-10-27T00:00:00\",\"2023-10-30T00:00:00\",\"2023-10-31T00:00:00\",\"2023-11-01T00:00:00\",\"2023-11-02T00:00:00\",\"2023-11-03T00:00:00\",\"2023-11-06T00:00:00\",\"2023-11-07T00:00:00\",\"2023-11-08T00:00:00\",\"2023-11-09T00:00:00\",\"2023-11-10T00:00:00\",\"2023-11-13T00:00:00\",\"2023-11-14T00:00:00\",\"2023-11-15T00:00:00\",\"2023-11-16T00:00:00\",\"2023-11-17T00:00:00\",\"2023-11-20T00:00:00\",\"2023-11-21T00:00:00\",\"2023-11-22T00:00:00\",\"2023-11-24T00:00:00\",\"2023-11-27T00:00:00\",\"2023-11-28T00:00:00\",\"2023-11-29T00:00:00\",\"2023-11-30T00:00:00\",\"2023-12-01T00:00:00\",\"2023-12-04T00:00:00\",\"2023-12-05T00:00:00\",\"2023-12-06T00:00:00\",\"2023-12-07T00:00:00\",\"2023-12-08T00:00:00\",\"2023-12-11T00:00:00\",\"2023-12-12T00:00:00\",\"2023-12-13T00:00:00\",\"2023-12-14T00:00:00\",\"2023-12-15T00:00:00\",\"2023-12-18T00:00:00\",\"2023-12-19T00:00:00\",\"2023-12-20T00:00:00\",\"2023-12-21T00:00:00\",\"2023-12-22T00:00:00\",\"2023-12-26T00:00:00\",\"2023-12-27T00:00:00\",\"2023-12-28T00:00:00\",\"2023-12-29T00:00:00\",\"2024-01-02T00:00:00\",\"2024-01-03T00:00:00\",\"2024-01-04T00:00:00\",\"2024-01-05T00:00:00\",\"2024-01-08T00:00:00\",\"2024-01-09T00:00:00\",\"2024-01-10T00:00:00\",\"2024-01-11T00:00:00\",\"2024-01-12T00:00:00\",\"2024-01-16T00:00:00\",\"2024-01-17T00:00:00\",\"2024-01-18T00:00:00\",\"2024-01-19T00:00:00\",\"2024-01-22T00:00:00\",\"2024-01-23T00:00:00\",\"2024-01-24T00:00:00\",\"2024-01-25T00:00:00\",\"2024-01-26T00:00:00\",\"2024-01-29T00:00:00\",\"2024-01-30T00:00:00\",\"2024-01-31T00:00:00\",\"2024-02-01T00:00:00\",\"2024-02-02T00:00:00\",\"2024-02-05T00:00:00\",\"2024-02-06T00:00:00\",\"2024-02-07T00:00:00\",\"2024-02-08T00:00:00\",\"2024-02-09T00:00:00\",\"2024-02-12T00:00:00\",\"2024-02-13T00:00:00\",\"2024-02-14T00:00:00\",\"2024-02-15T00:00:00\",\"2024-02-16T00:00:00\",\"2024-02-20T00:00:00\",\"2024-02-21T00:00:00\",\"2024-02-22T00:00:00\",\"2024-02-23T00:00:00\",\"2024-02-26T00:00:00\",\"2024-02-27T00:00:00\",\"2024-02-28T00:00:00\",\"2024-02-29T00:00:00\",\"2024-03-01T00:00:00\",\"2024-03-04T00:00:00\",\"2024-03-05T00:00:00\"],\"y\":[154.4938507080078,152.57012939453125,152.96446228027344,151.56979370117188,153.9840545654297,155.9077911376953,155.18637084960938,157.05235290527344,155.9462432861328,156.95620727539062,159.8321533203125,160.7266845703125,160.14956665039062,159.38003540039062,160.36117553710938,158.74522399902344,156.09054565429688,159.14923095703125,161.6307830810547,166.19003295898438,163.73728942871094,167.72903442382812,173.25010681152344,173.0384979248047,176.62620544433594,176.8762969970703,181.5028533935547,177.4053192138672,177.6650390625,176.70315551757812,178.2805633544922,180.08888244628906,180.62904357910156,177.87057495117188,172.2476348876953,164.82110595703125,162.10122680664062,164.12667846679688,152.56246948242188,156.25645446777344,166.65357971191406,158.66766357421875,164.4931640625,160.3651580810547,155.83204650878906,145.2709197998047,155.20513916015625,148.17410278320312,134.1214599609375,153.1894073486328,130.6107635498047,141.36474609375,135.41390991210938,137.64187622070312,132.4722137451172,131.15086364746094,143.07196044921875,141.70233154296875,150.5659637451172,144.38360595703125,154.53965759277344,152.10916137695312,146.70803833007812,149.74612426757812,148.36692810058594,159.40066528320312,157.68389892578125,159.26564025878906,159.2753143310547,159.63211059570312,167.53131103515625,165.77593994140625,170.75270080566406,172.25726318359375,168.84295654296875,161.86013793945312,167.357666015625,165.33226013183594,168.35108947753906,167.86888122558594,163.7794189453125,171.12884521484375,172.8456268310547,168.3704071044922,172.48876953125,174.340576171875,176.0573272705078,177.07969665527344,178.12136840820312,180.10821533203125,176.0283966064453,173.36643981933594,174.1187286376953,176.65536499023438,178.34323120117188,177.10865783691406,179.56527709960938,177.40847778320312,177.48583984375,175.6095428466797,175.84164428710938,175.4451141357422,177.234375,176.8281707763672,178.83990478515625,179.27511596679688,176.9152069091797,181.05470275878906,182.1766357421875,183.56936645507812,190.3782501220703,180.1552276611328,181.5770263671875,182.7375946044922,187.21560668945312,187.8635711669922,189.87530517578125,188.74374389648438,193.98580932617188,195.28182983398438,191.3454132080078,193.7633514404297,189.88499450683594,191.92572021484375,196.8292694091797,197.98025512695312,199.48902893066406,203.78326416015625,201.41368103027344,205.84335327148438,207.28443908691406,206.65576171875,200.27244567871094,201.5104217529297,201.21058654785156,197.22581481933594,196.21998596191406,204.65374755859375,201.89730834960938,204.79879760742188,195.89112854003906,194.6918487548828,197.1581268310547,195.38818359375,197.36123657226562,197.2064971923828,198.28004455566406,209.43154907226562,206.28826904296875,205.94973754882812,209.247802734375,205.5048370361328,201.41368103027344,196.70352172851562,202.32286071777344,201.8489532470703,202.04237365722656,203.37705993652344,204.54734802246094,203.30638122558594,208.03758239746094,206.52513122558594,207.17471313476562,209.86993408203125,214.40724182128906,219.67172241210938,221.9306640625,218.65374755859375,220.34066772460938,224.58709716796875,210.67465209960938,207.71762084960938,196.48104858398438,204.84788513183594,199.10836791992188,197.8092498779297,199.1471710205078,202.4143829345703,198.79812622070312,196.723388671875,194.2801971435547,196.3647003173828,201.0958709716797,194.47415161132812,196.99484252929688,201.48367309570312,203.0542755126953,200.94073486328125,203.9171600341797,205.98223876953125,199.90338134765625,203.9656524658203,199.63189697265625,203.4324188232422,204.15953063964844,209.2300567626953,214.64964294433594,216.06512451171875,214.12611389160156,212.96267700195312,212.96267700195312,207.6885528564453,208.1054229736328,208.25086975097656,208.33815002441406,209.6372833251953,203.67478942871094,206.7481231689453,196.5003662109375,198.4781951904297,196.29681396484375,196.1610565185547,200.1360626220703,209.79237365722656,216.4820098876953,216.8988800048828,211.73141479492188,204.576416015625,209.94749450683594,208.871337890625,209.90869140625,210.60678100585938,207.9212188720703,205.1800537109375,206.4825897216797,204.50933837890625,204.23716735839844,207.88235473632812,207.89208984375,209.21405029296875,208.0865020751953,210.1666717529297,209.3501434326172,208.25172424316406,208.36837768554688,208.3003387451172,209.97225952148438,205.87989807128906,204.6356964111328,207.2991180419922,208.2128448486328,208.1448211669922,213.15086364746094,213.28692626953125,212.4801483154297,216.3683624267578,217.6806182861328,214.84225463867188,216.52391052246094,218.67210388183594,217.8847198486328,215.4837646484375,216.2030792236328,211.60531616210938,211.8094482421875,206.31735229492188,212.18850708007812,213.48135375976562,211.41090393066406,208.9224395751953,210.29302978515625,207.06581115722656,206.70619201660156,210.39022827148438,218.0694122314453,218.68182373046875,219.6344451904297,223.11436462402344,225.8361053466797,226.39016723632812,232.25161743164062,225.4764404296875,232.95150756835938,232.81541442871094,236.20790100097656,235.2455291748047,235.4302215576172,235.69265747070312,236.9563446044922,236.03289794921875,237.6562042236328,238.1422119140625,236.88829040527344,237.92100524902344,237.52157592773438,234.77406311035156,228.48013305664062,227.27207946777344,228.51918029785156,223.10211181640625,226.40496826171875,230.8477325439453,227.85667419433594,221.7089080810547,220.9001922607422,225.64500427246094,221.5432586669922,227.76895141601562,226.4439239501953,231.03280639648438,229.68832397460938,228.77244567871094,231.597900390625,230.9451141357422,224.7876434326172,224.42718505859375,229.92213439941406,231.4712371826172,229.40574645996094,226.36595153808594,230.39952087402344,229.19142150878906,225.8885955810547,229.70779418945312,236.11862182617188,242.6658172607422,241.48692321777344,243.47445678710938,246.73831176757812,249.27145385742188,249.32994079589844,251.84359741210938,249.0181884765625,252.82763671875,254.0357208251953,252.08712768554688,251.61952209472656,253.8798370361328,250.55752563476562,254.4351806640625,254.82496643066406,255.234130859375,248.01466369628906,246.01734924316406,245.69583129882812,245.3840789794922,241.4187469482422,240.13267517089844,243.30880737304688,245.96864318847656,240.82440185546875,239.89881896972656,232.854736328125,236.78109741210938,241.7694854736328,238.87582397460938,236.829833984375,237.41575622558594,240.6968994140625,239.4176483154297,244.8960418701172,245.81396484375,245.58937072753906,243.4605255126953,243.82183837890625,241.5953369140625,241.49769592285156,239.94497680664062,244.90576171875,247.8549041748047,246.64404296875,247.64012145996094,251.2044677734375,251.8392333984375,253.79225158691406,252.29815673828125,251.34117126464844,254.7786102294922,253.34310913085938,256.468017578125,259.2804260253906,259.0460510253906,260.4327392578125,258.8019104003906,262.41510009765625,265.0321960449219,264.54400634765625,265.2275085449219,271.13555908203125,271.1453552246094,273.3620910644531,270.9109802246094,271.4187927246094,270.8133544921875,274.3874206542969,275.881591796875,274.4363098144531,274.162841796875,270.5106201171875,272.766357421875,274.7975769042969,279.4263610839844,282.8735656738281,282.26812744140625,279.8169860839844,279.5045166015625,279.7779235839844,278.2252502441406,278.1373596191406,280.3833923339844,279.7876892089844,282.7270812988281,282.6684875488281,281.5649719238281,279.7193603515625,280.2174072265625,283.01031494140625,285.9789733886719,287.6878967285156,286.20355224609375,284.4522399902344,290.36181640625,297.78790283203125,298.07159423828125,296.08544921875,295.4886474609375,292.6316223144531,293.248046875,297.0345764160156,295.36151123046875,295.3125,294.6471862792969,294.637451171875,293.69818115234375,293.7275390625,290.8313903808594,289.3246765136719,290.5769958496094,293.3166198730469,298.2379150390625,298.62933349609375,293.39483642578125,287.9451599121094,288.434326171875,292.1327209472656,293.091552734375,292.8860778808594,287.8179626464844,277.3978576660156,277.86749267578125,275.83245849609375,282.8573913574219,276.99676513671875,282.5247497558594,286.78082275390625,288.4832763671875,288.4832763671875,287.8766174316406,286.5557861328125,289.9117126464844,296.2126770019531,297.64111328125,300.6546325683594,301.5743408203125,300.7720642089844,304.0497131347656,302.4842529296875,301.4765319824219,303.41375732421875,316.1917724609375,317.34625244140625,324.4592590332031,322.2578430175781,325.9366455078125,326.787841796875,329.1751708984375,328.8033752441406,329.71331787109375,328.69580078125,323.65692138671875,325.2518005371094,329.4491271972656,328.8132019042969,332.1789245605469,332.4043273925781,334.5117492675781,336.3152770996094,333.1003112792969,330.9928283691406,331.2182922363281,323.1512451171875,329.96368408203125,324.0432434082031,323.5433044433594,322.9650573730469,316.6133728027344,319.73040771484375,328.2874755859375,328.3365478515625,326.5035400390625,335.75665283203125,332.67877197265625,321.8377990722656,328.02288818359375,318.4659729003906,317.3876953125,313.5747985839844,320.8086242675781,326.6015625,328.06207275390625,335.66839599609375,334.4921569824219,335.1783142089844,332.60040283203125,329.65972900390625,328.1208801269531,322.4945983886719,310.11468505859375,307.6641845703125,307.821044921875,308.0464172363281,308.7424011230469,311.96722412109375,298.76397705078125,304.0570373535156,296.6565246582031,297.32305908203125,295.62738037109375,290.167724609375,290.5008850097656,282.7769470214844,290.8341979980469,293.90216064453125,302.155517578125,304.8216247558594,302.6455993652344,307.25250244140625,295.2842712402344,299.8813781738281,294.990234375,298.52874755859375,305.0470886230469,296.39190673828125,289.197265625,289.1580505371094,294.519775390625,294.1759948730469,285.5618896484375,282.8116455078125,282.6053466796875,275.28778076171875,289.353271484375,292.0248718261719,293.47857666015625,289.7068786621094,294.8536682128906,290.65960693359375,284.70733642578125,273.9520263671875,270.9463806152344,283.3714904785156,280.51324462890625,275.09130859375,271.5259094238281,282.04547119140625,289.15679931640625,289.9720458984375,295.0893859863281,293.84197998046875,298.6548767089844,294.1661682128906,298.6942443847656,298.28167724609375,305.1769104003906,309.80316162109375,308.2806396484375,302.829345703125,303.91961669921875,309.3709716796875,305.3536682128906,294.1759948730469,296.01275634765625,291.69091796875,280.1890869140625,277.04595947265625,282.5071105957031,274.8555908203125,275.53338623046875,280.2283630371094,281.2695617675781,275.8182067871094,269.1587219238281,275.72979736328125,265.4164733886719,278.18536376953125,284.48138427734375,272.586669921875,279.41314697265625,276.7709655761719,284.8251953125,272.4197082519531,269.8463134765625,259.876708984375,264.709228515625,255.91831970214844,250.810791015625,256.4782409667969,256.8514404296875,262.076904296875,250.14463806152344,249.2191925048828,248.64816284179688,256.61285400390625,255.59881591796875,258.4538879394531,261.781494140625,269.0078430175781,267.6590881347656,268.2005615234375,270.3270568847656,265.8377380371094,264.58740234375,268.27935791015625,266.22174072265625,260.68878173828125,249.07150268554688,238.5076904296875,240.7031707763672,247.86056518554688,241.17572021484375,243.814208984375,249.80990600585938,249.20933532714844,254.85055541992188,263.5537109375,260.7872314453125,252.5074462890625,256.2289123535156,252.85198974609375,255.5594482421875,258.7787780761719,262.08673095703125,264.2427978515625,263.5142517089844,260.4130859375,249.740966796875,248.80567932128906,250.14463806152344,252.74375915527344,250.31199645996094,255.51019287109375,258.207763671875,260.7379455566406,256.3273620605469,254.821044921875,247.99835205078125,264.5775451660156,272.1287536621094,276.3916931152344,273.7039489746094,270.56341552734375,278.09490966796875,279.2566223144531,278.5280456542969,275.97821044921875,277.927490234375,284.6812744140625,282.5743713378906,287.3887023925781,288.92449951171875,288.17626953125,287.4166259765625,286.2820129394531,282.3158874511719,274.0284118652344,272.7359924316406,272.0947265625,275.1136779785156,264.4978942871094,261.67620849609375,259.44647216796875,257.9665832519531,256.910888671875,252.62904357910156,249.85667419433594,254.6318817138672,255.0561065673828,260.9164733886719,263.0771789550781,248.61358642578125,248.8404998779297,242.0921630859375,241.46072387695312,241.24368286132812,239.20140075683594,235.74830627441406,237.7510986328125,234.7321014404297,234.2683868408203,233.2423553466797,237.83990478515625,234.31773376464844,229.77935791015625,237.5143280029297,245.54525756835938,245.8609619140625,243.48326110839844,231.10142517089844,226.17828369140625,222.38973999023438,222.7251739501953,231.10142517089844,225.49752807617188,234.34735107421875,235.30433654785156,233.31141662597656,232.98582458496094,238.87583923339844,243.93711853027344,247.30140686035156,228.2205352783203,223.71177673339844,232.70956420898438,229.01968383789062,225.11276245117188,217.15087890625,211.37925720214844,218.423583984375,224.81678771972656,225.8033905029297,221.5017852783203,239.72430419921875,243.79896545410156,238.3134765625,238.72784423828125,239.16317749023438,239.11370849609375,238.65858459472656,239.4797821044922,242.42813110351562,244.9510498046875,244.86199951171875,239.19285583496094,237.77804565429688,252.4307861328125,251.9855499267578,252.3120574951172,247.543212890625,242.51715087890625,241.77511596679688,244.77296447753906,242.81396484375,249.8286895751953,254.19187927246094,254.4887237548828,246.36585998535156,242.09173583984375,237.89675903320312,239.232421875,241.83447265625,235.6607666015625,236.19500732421875,234.44381713867188,232.0396270751953,238.4508056640625,237.27345275878906,237.0360107421875,226.66729736328125,219.9493865966797,222.5415496826172,224.7082977294922,226.41993713378906,233.26646423339844,235.9773712158203,236.68971252441406,237.79783630371094,233.3060302734375,229.46722412109375,237.66920471191406,240.00413513183594,239.46986389160156,238.0550537109375,245.36659240722656,245.52488708496094,240.1327667236328,245.17860412597656,250.06614685058594,261.79034423828125,255.60667419433594,254.04347229003906,264.7189025878906,263.8977355957031,260.8207092285156,260.3062438964844,268.43896484375,269.27996826171875,267.12762451171875,260.0159606933594,255.95925903320312,250.61314392089844,249.46258544921875,252.696044921875,247.1912384033203,248.1235809326172,247.38958740234375,244.26524353027344,249.0658416748047,253.21180725097656,254.77896118164062,252.0811004638672,251.63475036621094,250.26600646972656,246.56634521484375,251.8529510498047,258.66705322265625,263.2791748046875,273.9516296386719,277.1553039550781,270.0138854980469,271.5513000488281,270.07342529296875,275.39971923828125,278.2860412597656,274.1301574707031,272.9895324707031,278.2265319824219,281.7377014160156,285.95306396484375,284.891845703125,284.8421936035156,282.0252990722656,289.22625732421875,287.03424072265625,280.5276184082031,281.1822509765625,287.4805603027344,283.8106689453125,286.4490051269531,286.02252197265625,286.10186767578125,283.7808837890625,283.43377685546875,279.47625732421875,273.1779479980469,292.96551513671875,302.3485107421875,304.7587585449219,303.0726013183594,302.923828125,301.9220275878906,302.923828125,308.1211853027344,306.1374206542969,304.5008544921875,309.76763916015625,307.5855407714844,306.454833984375,306.94085693359375,309.2023010253906,312.1247253417969,316.61773681640625,316.43878173828125,319.2618408203125,313.377197265625,311.9756164550781,323.9735107421875,330.9019470214844,329.23193359375,326.4288024902344,330.5937194824219,333.39691162109375,333.9337158203125,331.6871643066406,321.4486999511719,323.3174743652344,324.8383483886719,329.8681335449219,332.2935485839844,335.3253479003906,346.02105712890625,340.2855224609375,336.0310974121094,331.56787109375,337.6811828613281,333.0191650390625,326.6375427246094,332.5718688964844,333.84423828125,333.0489807128906,338.5062255859375,335.971435546875,336.1304931640625,339.23187255859375,335.2060546875,329.84820556640625,330.48443603515625,335.1861572265625,340.6135559082031,343.17816162109375,343.66522216796875,357.343017578125,352.9593811035156,344.7984313964844,341.7169189453125,343.0489196777344,348.8838806152344,335.7527770996094,328.7448425292969,336.34918212890625,333.913818359375,334.331298828125,325.5440979003906,324.7091064453125,325.8224182128906,328.13848876953125,324.1027526855469,320.30560302734375,321.0013732910156,319.0928649902344,322.10479736328125,319.937744140625,319.1607971191406,315.6544494628906,315.2559814453125,320.6351013183594,321.21282958984375,325.73529052734375,318.73248291015625,321.7308349609375,322.44805908203125,327.13983154296875,327.51837158203125,326.49237060546875,327.38885498046875,332.2599182128906,331.5925598144531,328.634033203125,332.9771423339844,336.6329650878906,330.48681640625,334.76025390625,337.3900146484375,328.94281005859375,327.78729248046875,327.3788757324219,319.5293884277344,318.294189453125,315.783935546875,316.3118896484375,310.9327697753906,311.5802307128906,312.4269714355469,314.52880859375,320.5553894042969,312.17791748046875,317.72637939453125,318.12481689453125,325.9942932128906,328.54437255859375,327.11993408203125,331.13433837890625,329.87921142578125,326.4624938964844,331.3534851074219,330.77569580078125,328.833251953125,330.03857421875,325.4065856933594,328.04632568359375,329.25164794921875,339.3524475097656,326.6218566894531,328.534423828125,336.0054016113281,336.80230712890625,344.7315368652344,346.97283935546875,351.43548583984375,355.15106201171875,359.1356201171875,361.7952880859375,359.29498291015625,368.2402648925781,365.2618103027344,368.8379211425781,368.9876708984375,375.4756774902344,369.1673278808594,376.7433166503906,372.3813781738281,377.1525573730469,376.7333068847656,377.9111328125,381.9936218261719,378.15069580078125,378.2106018066406,373.8187255859375,368.4586486816406,371.8323669433594,368.1192321777344,370.2652893066406,373.53924560546875,370.6146240234375,373.68896484375,373.678955078125,365.2545471191406,370.04571533203125,371.9621276855469,372.571044921875,369.9358825683594,372.85052490234375,373.8885803222656,373.96844482421875,373.3795471191406,374.5872802734375,375.34588623046875,370.1854248046875,369.9159240722656,367.2608337402344,367.0711975097656,373.9983825683594,375.09637451171875,382.0634460449219,383.9200439453125,387.7529602050781,389.54962158203125,388.7510986328125,393.1429748535156,397.93414306640625,395.7781066894531,398.1636962890625,401.8169250488281,404.1226806640625,403.1844177246094,408.9637145996094,407.8358154296875,396.84613037109375,403.0346984863281,410.4609680175781,404.9012451171875,404.74151611328125,413.28570556640625,413.3456115722656,419.7737121582031,414.4934997558594,405.57000732421875,409.489990234375,406.55999755859375,404.05999755859375,402.7900085449219,402.17999267578125,411.6499938964844,410.3399963378906,407.5400085449219,407.4800109863281,407.7200012207031,413.6400146484375,415.5,414.9200134277344,402.6499938964844],\"type\":\"scatter\"}],                        {\"template\":{\"data\":{\"histogram2dcontour\":[{\"type\":\"histogram2dcontour\",\"colorbar\":{\"outlinewidth\":0,\"ticks\":\"\"},\"colorscale\":[[0.0,\"#0d0887\"],[0.1111111111111111,\"#46039f\"],[0.2222222222222222,\"#7201a8\"],[0.3333333333333333,\"#9c179e\"],[0.4444444444444444,\"#bd3786\"],[0.5555555555555556,\"#d8576b\"],[0.6666666666666666,\"#ed7953\"],[0.7777777777777778,\"#fb9f3a\"],[0.8888888888888888,\"#fdca26\"],[1.0,\"#f0f921\"]]}],\"choropleth\":[{\"type\":\"choropleth\",\"colorbar\":{\"outlinewidth\":0,\"ticks\":\"\"}}],\"histogram2d\":[{\"type\":\"histogram2d\",\"colorbar\":{\"outlinewidth\":0,\"ticks\":\"\"},\"colorscale\":[[0.0,\"#0d0887\"],[0.1111111111111111,\"#46039f\"],[0.2222222222222222,\"#7201a8\"],[0.3333333333333333,\"#9c179e\"],[0.4444444444444444,\"#bd3786\"],[0.5555555555555556,\"#d8576b\"],[0.6666666666666666,\"#ed7953\"],[0.7777777777777778,\"#fb9f3a\"],[0.8888888888888888,\"#fdca26\"],[1.0,\"#f0f921\"]]}],\"heatmap\":[{\"type\":\"heatmap\",\"colorbar\":{\"outlinewidth\":0,\"ticks\":\"\"},\"colorscale\":[[0.0,\"#0d0887\"],[0.1111111111111111,\"#46039f\"],[0.2222222222222222,\"#7201a8\"],[0.3333333333333333,\"#9c179e\"],[0.4444444444444444,\"#bd3786\"],[0.5555555555555556,\"#d8576b\"],[0.6666666666666666,\"#ed7953\"],[0.7777777777777778,\"#fb9f3a\"],[0.8888888888888888,\"#fdca26\"],[1.0,\"#f0f921\"]]}],\"heatmapgl\":[{\"type\":\"heatmapgl\",\"colorbar\":{\"outlinewidth\":0,\"ticks\":\"\"},\"colorscale\":[[0.0,\"#0d0887\"],[0.1111111111111111,\"#46039f\"],[0.2222222222222222,\"#7201a8\"],[0.3333333333333333,\"#9c179e\"],[0.4444444444444444,\"#bd3786\"],[0.5555555555555556,\"#d8576b\"],[0.6666666666666666,\"#ed7953\"],[0.7777777777777778,\"#fb9f3a\"],[0.8888888888888888,\"#fdca26\"],[1.0,\"#f0f921\"]]}],\"contourcarpet\":[{\"type\":\"contourcarpet\",\"colorbar\":{\"outlinewidth\":0,\"ticks\":\"\"}}],\"contour\":[{\"type\":\"contour\",\"colorbar\":{\"outlinewidth\":0,\"ticks\":\"\"},\"colorscale\":[[0.0,\"#0d0887\"],[0.1111111111111111,\"#46039f\"],[0.2222222222222222,\"#7201a8\"],[0.3333333333333333,\"#9c179e\"],[0.4444444444444444,\"#bd3786\"],[0.5555555555555556,\"#d8576b\"],[0.6666666666666666,\"#ed7953\"],[0.7777777777777778,\"#fb9f3a\"],[0.8888888888888888,\"#fdca26\"],[1.0,\"#f0f921\"]]}],\"surface\":[{\"type\":\"surface\",\"colorbar\":{\"outlinewidth\":0,\"ticks\":\"\"},\"colorscale\":[[0.0,\"#0d0887\"],[0.1111111111111111,\"#46039f\"],[0.2222222222222222,\"#7201a8\"],[0.3333333333333333,\"#9c179e\"],[0.4444444444444444,\"#bd3786\"],[0.5555555555555556,\"#d8576b\"],[0.6666666666666666,\"#ed7953\"],[0.7777777777777778,\"#fb9f3a\"],[0.8888888888888888,\"#fdca26\"],[1.0,\"#f0f921\"]]}],\"mesh3d\":[{\"type\":\"mesh3d\",\"colorbar\":{\"outlinewidth\":0,\"ticks\":\"\"}}],\"scatter\":[{\"fillpattern\":{\"fillmode\":\"overlay\",\"size\":10,\"solidity\":0.2},\"type\":\"scatter\"}],\"parcoords\":[{\"type\":\"parcoords\",\"line\":{\"colorbar\":{\"outlinewidth\":0,\"ticks\":\"\"}}}],\"scatterpolargl\":[{\"type\":\"scatterpolargl\",\"marker\":{\"colorbar\":{\"outlinewidth\":0,\"ticks\":\"\"}}}],\"bar\":[{\"error_x\":{\"color\":\"#2a3f5f\"},\"error_y\":{\"color\":\"#2a3f5f\"},\"marker\":{\"line\":{\"color\":\"#E5ECF6\",\"width\":0.5},\"pattern\":{\"fillmode\":\"overlay\",\"size\":10,\"solidity\":0.2}},\"type\":\"bar\"}],\"scattergeo\":[{\"type\":\"scattergeo\",\"marker\":{\"colorbar\":{\"outlinewidth\":0,\"ticks\":\"\"}}}],\"scatterpolar\":[{\"type\":\"scatterpolar\",\"marker\":{\"colorbar\":{\"outlinewidth\":0,\"ticks\":\"\"}}}],\"histogram\":[{\"marker\":{\"pattern\":{\"fillmode\":\"overlay\",\"size\":10,\"solidity\":0.2}},\"type\":\"histogram\"}],\"scattergl\":[{\"type\":\"scattergl\",\"marker\":{\"colorbar\":{\"outlinewidth\":0,\"ticks\":\"\"}}}],\"scatter3d\":[{\"type\":\"scatter3d\",\"line\":{\"colorbar\":{\"outlinewidth\":0,\"ticks\":\"\"}},\"marker\":{\"colorbar\":{\"outlinewidth\":0,\"ticks\":\"\"}}}],\"scattermapbox\":[{\"type\":\"scattermapbox\",\"marker\":{\"colorbar\":{\"outlinewidth\":0,\"ticks\":\"\"}}}],\"scatterternary\":[{\"type\":\"scatterternary\",\"marker\":{\"colorbar\":{\"outlinewidth\":0,\"ticks\":\"\"}}}],\"scattercarpet\":[{\"type\":\"scattercarpet\",\"marker\":{\"colorbar\":{\"outlinewidth\":0,\"ticks\":\"\"}}}],\"carpet\":[{\"aaxis\":{\"endlinecolor\":\"#2a3f5f\",\"gridcolor\":\"white\",\"linecolor\":\"white\",\"minorgridcolor\":\"white\",\"startlinecolor\":\"#2a3f5f\"},\"baxis\":{\"endlinecolor\":\"#2a3f5f\",\"gridcolor\":\"white\",\"linecolor\":\"white\",\"minorgridcolor\":\"white\",\"startlinecolor\":\"#2a3f5f\"},\"type\":\"carpet\"}],\"table\":[{\"cells\":{\"fill\":{\"color\":\"#EBF0F8\"},\"line\":{\"color\":\"white\"}},\"header\":{\"fill\":{\"color\":\"#C8D4E3\"},\"line\":{\"color\":\"white\"}},\"type\":\"table\"}],\"barpolar\":[{\"marker\":{\"line\":{\"color\":\"#E5ECF6\",\"width\":0.5},\"pattern\":{\"fillmode\":\"overlay\",\"size\":10,\"solidity\":0.2}},\"type\":\"barpolar\"}],\"pie\":[{\"automargin\":true,\"type\":\"pie\"}]},\"layout\":{\"autotypenumbers\":\"strict\",\"colorway\":[\"#636efa\",\"#EF553B\",\"#00cc96\",\"#ab63fa\",\"#FFA15A\",\"#19d3f3\",\"#FF6692\",\"#B6E880\",\"#FF97FF\",\"#FECB52\"],\"font\":{\"color\":\"#2a3f5f\"},\"hovermode\":\"closest\",\"hoverlabel\":{\"align\":\"left\"},\"paper_bgcolor\":\"white\",\"plot_bgcolor\":\"#E5ECF6\",\"polar\":{\"bgcolor\":\"#E5ECF6\",\"angularaxis\":{\"gridcolor\":\"white\",\"linecolor\":\"white\",\"ticks\":\"\"},\"radialaxis\":{\"gridcolor\":\"white\",\"linecolor\":\"white\",\"ticks\":\"\"}},\"ternary\":{\"bgcolor\":\"#E5ECF6\",\"aaxis\":{\"gridcolor\":\"white\",\"linecolor\":\"white\",\"ticks\":\"\"},\"baxis\":{\"gridcolor\":\"white\",\"linecolor\":\"white\",\"ticks\":\"\"},\"caxis\":{\"gridcolor\":\"white\",\"linecolor\":\"white\",\"ticks\":\"\"}},\"coloraxis\":{\"colorbar\":{\"outlinewidth\":0,\"ticks\":\"\"}},\"colorscale\":{\"sequential\":[[0.0,\"#0d0887\"],[0.1111111111111111,\"#46039f\"],[0.2222222222222222,\"#7201a8\"],[0.3333333333333333,\"#9c179e\"],[0.4444444444444444,\"#bd3786\"],[0.5555555555555556,\"#d8576b\"],[0.6666666666666666,\"#ed7953\"],[0.7777777777777778,\"#fb9f3a\"],[0.8888888888888888,\"#fdca26\"],[1.0,\"#f0f921\"]],\"sequentialminus\":[[0.0,\"#0d0887\"],[0.1111111111111111,\"#46039f\"],[0.2222222222222222,\"#7201a8\"],[0.3333333333333333,\"#9c179e\"],[0.4444444444444444,\"#bd3786\"],[0.5555555555555556,\"#d8576b\"],[0.6666666666666666,\"#ed7953\"],[0.7777777777777778,\"#fb9f3a\"],[0.8888888888888888,\"#fdca26\"],[1.0,\"#f0f921\"]],\"diverging\":[[0,\"#8e0152\"],[0.1,\"#c51b7d\"],[0.2,\"#de77ae\"],[0.3,\"#f1b6da\"],[0.4,\"#fde0ef\"],[0.5,\"#f7f7f7\"],[0.6,\"#e6f5d0\"],[0.7,\"#b8e186\"],[0.8,\"#7fbc41\"],[0.9,\"#4d9221\"],[1,\"#276419\"]]},\"xaxis\":{\"gridcolor\":\"white\",\"linecolor\":\"white\",\"ticks\":\"\",\"title\":{\"standoff\":15},\"zerolinecolor\":\"white\",\"automargin\":true,\"zerolinewidth\":2},\"yaxis\":{\"gridcolor\":\"white\",\"linecolor\":\"white\",\"ticks\":\"\",\"title\":{\"standoff\":15},\"zerolinecolor\":\"white\",\"automargin\":true,\"zerolinewidth\":2},\"scene\":{\"xaxis\":{\"backgroundcolor\":\"#E5ECF6\",\"gridcolor\":\"white\",\"linecolor\":\"white\",\"showbackground\":true,\"ticks\":\"\",\"zerolinecolor\":\"white\",\"gridwidth\":2},\"yaxis\":{\"backgroundcolor\":\"#E5ECF6\",\"gridcolor\":\"white\",\"linecolor\":\"white\",\"showbackground\":true,\"ticks\":\"\",\"zerolinecolor\":\"white\",\"gridwidth\":2},\"zaxis\":{\"backgroundcolor\":\"#E5ECF6\",\"gridcolor\":\"white\",\"linecolor\":\"white\",\"showbackground\":true,\"ticks\":\"\",\"zerolinecolor\":\"white\",\"gridwidth\":2}},\"shapedefaults\":{\"line\":{\"color\":\"#2a3f5f\"}},\"annotationdefaults\":{\"arrowcolor\":\"#2a3f5f\",\"arrowhead\":0,\"arrowwidth\":1},\"geo\":{\"bgcolor\":\"white\",\"landcolor\":\"#E5ECF6\",\"subunitcolor\":\"white\",\"showland\":true,\"showlakes\":true,\"lakecolor\":\"white\"},\"title\":{\"x\":0.05},\"mapbox\":{\"style\":\"light\"}}},\"shapes\":[{\"line\":{\"color\":\"#FFCB05\",\"width\":1},\"type\":\"line\",\"x0\":\"2020-03-09T00:00:00\",\"x1\":\"2020-03-09T00:00:00\",\"xref\":\"x\",\"y0\":0,\"y1\":1,\"yref\":\"y domain\"},{\"line\":{\"color\":\"#FFCB05\",\"width\":1},\"type\":\"line\",\"x0\":\"2020-06-17T00:00:00\",\"x1\":\"2020-06-17T00:00:00\",\"xref\":\"x\",\"y0\":0,\"y1\":1,\"yref\":\"y domain\"},{\"line\":{\"color\":\"#FFCB05\",\"width\":1},\"type\":\"line\",\"x0\":\"2020-09-15T00:00:00\",\"x1\":\"2020-09-15T00:00:00\",\"xref\":\"x\",\"y0\":0,\"y1\":1,\"yref\":\"y domain\"},{\"line\":{\"color\":\"#FFCB05\",\"width\":1},\"type\":\"line\",\"x0\":\"2020-12-02T00:00:00\",\"x1\":\"2020-12-02T00:00:00\",\"xref\":\"x\",\"y0\":0,\"y1\":1,\"yref\":\"y domain\"},{\"line\":{\"color\":\"#FFCB05\",\"width\":1},\"type\":\"line\",\"x0\":\"2021-03-16T00:00:00\",\"x1\":\"2021-03-16T00:00:00\",\"xref\":\"x\",\"y0\":0,\"y1\":1,\"yref\":\"y domain\"},{\"line\":{\"color\":\"#FFCB05\",\"width\":1},\"type\":\"line\",\"x0\":\"2021-06-16T00:00:00\",\"x1\":\"2021-06-16T00:00:00\",\"xref\":\"x\",\"y0\":0,\"y1\":1,\"yref\":\"y domain\"},{\"line\":{\"color\":\"#FFCB05\",\"width\":1},\"type\":\"line\",\"x0\":\"2021-09-14T00:00:00\",\"x1\":\"2021-09-14T00:00:00\",\"xref\":\"x\",\"y0\":0,\"y1\":1,\"yref\":\"y domain\"},{\"line\":{\"color\":\"#FFCB05\",\"width\":1},\"type\":\"line\",\"x0\":\"2021-12-07T00:00:00\",\"x1\":\"2021-12-07T00:00:00\",\"xref\":\"x\",\"y0\":0,\"y1\":1,\"yref\":\"y domain\"},{\"line\":{\"color\":\"#FFCB05\",\"width\":1},\"type\":\"line\",\"x0\":\"2022-03-14T00:00:00\",\"x1\":\"2022-03-14T00:00:00\",\"xref\":\"x\",\"y0\":0,\"y1\":1,\"yref\":\"y domain\"},{\"line\":{\"color\":\"#FFCB05\",\"width\":1},\"type\":\"line\",\"x0\":\"2022-06-14T00:00:00\",\"x1\":\"2022-06-14T00:00:00\",\"xref\":\"x\",\"y0\":0,\"y1\":1,\"yref\":\"y domain\"},{\"line\":{\"color\":\"#FFCB05\",\"width\":1},\"type\":\"line\",\"x0\":\"2022-09-20T00:00:00\",\"x1\":\"2022-09-20T00:00:00\",\"xref\":\"x\",\"y0\":0,\"y1\":1,\"yref\":\"y domain\"},{\"line\":{\"color\":\"#FFCB05\",\"width\":1},\"type\":\"line\",\"x0\":\"2022-11-29T00:00:00\",\"x1\":\"2022-11-29T00:00:00\",\"xref\":\"x\",\"y0\":0,\"y1\":1,\"yref\":\"y domain\"},{\"line\":{\"color\":\"#FFCB05\",\"width\":1},\"type\":\"line\",\"x0\":\"2023-03-14T00:00:00\",\"x1\":\"2023-03-14T00:00:00\",\"xref\":\"x\",\"y0\":0,\"y1\":1,\"yref\":\"y domain\"},{\"line\":{\"color\":\"#FFCB05\",\"width\":1},\"type\":\"line\",\"x0\":\"2023-06-13T00:00:00\",\"x1\":\"2023-06-13T00:00:00\",\"xref\":\"x\",\"y0\":0,\"y1\":1,\"yref\":\"y domain\"},{\"line\":{\"color\":\"#FFCB05\",\"width\":1},\"type\":\"line\",\"x0\":\"2023-09-19T00:00:00\",\"x1\":\"2023-09-19T00:00:00\",\"xref\":\"x\",\"y0\":0,\"y1\":1,\"yref\":\"y domain\"},{\"line\":{\"color\":\"#FFCB05\",\"width\":1},\"type\":\"line\",\"x0\":\"2023-11-28T00:00:00\",\"x1\":\"2023-11-28T00:00:00\",\"xref\":\"x\",\"y0\":0,\"y1\":1,\"yref\":\"y domain\"}],\"xaxis\":{\"title\":{\"text\":\"Date\"},\"showgrid\":false},\"yaxis\":{\"title\":{\"text\":\"Adjusted Close Price\"},\"showgrid\":false},\"title\":{\"text\":\"MSFT Adjusted Closing Price with Dividend Declarations\"}},                        {\"responsive\": true}                    ).then(function(){\n",
              "                            \n",
              "var gd = document.getElementById('8ed343a7-83d7-4c04-94b8-33e36186b917');\n",
              "var x = new MutationObserver(function (mutations, observer) {{\n",
              "        var display = window.getComputedStyle(gd).display;\n",
              "        if (!display || display === 'none') {{\n",
              "            console.log([gd, 'removed!']);\n",
              "            Plotly.purge(gd);\n",
              "            observer.disconnect();\n",
              "        }}\n",
              "}});\n",
              "\n",
              "// Listen for the removal of the full notebook cells\n",
              "var notebookContainer = gd.closest('#notebook-container');\n",
              "if (notebookContainer) {{\n",
              "    x.observe(notebookContainer, {childList: true});\n",
              "}}\n",
              "\n",
              "// Listen for the clearing of the current output cell\n",
              "var outputEl = gd.closest('.output');\n",
              "if (outputEl) {{\n",
              "    x.observe(outputEl, {childList: true});\n",
              "}}\n",
              "\n",
              "                        })                };                            </script>        </div>\n",
              "</body>\n",
              "</html>"
            ]
          },
          "metadata": {}
        }
      ]
    },
    {
      "cell_type": "markdown",
      "metadata": {
        "id": "EVX2i069QAtW"
      },
      "source": [
        "## Ratios"
      ]
    },
    {
      "cell_type": "markdown",
      "source": [
        "Key ratios for MSFT\n",
        "\n",
        "Data obtained from Financial Modeling Prep"
      ],
      "metadata": {
        "id": "c7Jz8qcY4EiU"
      }
    },
    {
      "cell_type": "code",
      "execution_count": null,
      "metadata": {
        "id": "SMH2CJfHQE1P"
      },
      "outputs": [],
      "source": [
        "url = f'https://financialmodelingprep.com/api/v3/ratios/MSFT?period=quarter&apikey={api_key}'\n",
        "response = requests.get(url)\n",
        "data = response.json()\n",
        "df = pd.DataFrame(data)\n",
        "# Save DataFrame to a CSV file\n",
        "csv_filename = 'msft_ratios.csv'\n",
        "df.to_csv(csv_filename, index=True)\n",
        "\n",
        "# Download the CSV file\n",
        "files.download(csv_filename)"
      ]
    },
    {
      "cell_type": "code",
      "execution_count": null,
      "metadata": {
        "id": "uT4NibKeSa_i"
      },
      "outputs": [],
      "source": [
        "ratios = pd.read_csv('msft_ratios.csv')\n",
        "ratios = pd.DataFrame(ratios)\n",
        "ratios['Date'] = pd.to_datetime(ratios['Date'])\n",
        "\n",
        "ratios = ratios.set_index('Date')\n",
        "first_row = ratios.iloc[0]\n",
        "first_row = first_row.to_frame().T\n",
        "ratios = ratios.reindex(msft_df.index)\n",
        "ratios = pd.concat([first_row, ratios], axis=0)\n",
        "ratios = ratios.interpolate(method='linear', axis=0)\n",
        "ratios = ratios.iloc[1:]"
      ]
    },
    {
      "cell_type": "markdown",
      "metadata": {
        "id": "TlC5V_SgWWps"
      },
      "source": [
        "## Key Metrics"
      ]
    },
    {
      "cell_type": "markdown",
      "source": [
        "Key metrics for MSFT.\n",
        "\n",
        "Data obtained from Financial Modeling Prep"
      ],
      "metadata": {
        "id": "fhT9icJJwvI_"
      }
    },
    {
      "cell_type": "code",
      "execution_count": null,
      "metadata": {
        "id": "SGgx0YI8WnBt"
      },
      "outputs": [],
      "source": [
        "url = f'https://financialmodelingprep.com/api/v3/key-metrics/MSFT?period=quarter&apikey={api_key}'\n",
        "response = requests.get(url)\n",
        "data = response.json()\n",
        "df = pd.DataFrame(data)\n",
        "\n",
        "# Save DataFrame to a CSV file\n",
        "csv_filename = 'msft_metrics.csv'\n",
        "df.to_csv(csv_filename, index=True)\n",
        "\n",
        "# Download the CSV file\n",
        "files.download(csv_filename)"
      ]
    },
    {
      "cell_type": "code",
      "execution_count": null,
      "metadata": {
        "id": "2w9LaGU3XGFJ"
      },
      "outputs": [],
      "source": [
        "metrics = pd.read_csv('msft_metrics.csv')\n",
        "metrics = pd.DataFrame(metrics)\n",
        "metrics['Date'] = pd.to_datetime(metrics['Date'])\n",
        "\n",
        "metrics = metrics.set_index('Date')\n",
        "metrics = metrics.drop(columns = ['marketCap','netIncomePerShare'])\n",
        "first_row = metrics.iloc[0]\n",
        "first_row = first_row.to_frame().T\n",
        "metrics = metrics.reindex(msft_df.index)\n",
        "metrics = pd.concat([first_row, metrics], axis=0)\n",
        "metrics = metrics.interpolate(method='linear', axis=0)\n",
        "metrics = metrics.iloc[1:]"
      ]
    },
    {
      "cell_type": "markdown",
      "metadata": {
        "id": "xgK7A2CTj-Zu"
      },
      "source": [
        "# Master Dataframe"
      ]
    },
    {
      "cell_type": "markdown",
      "metadata": {
        "id": "C1koEVdqjG7f"
      },
      "source": [
        "Merge features to one master dataframe"
      ]
    },
    {
      "cell_type": "code",
      "source": [
        "# List of all DataFrames to be merged\n",
        "dfs = [msft_df, vix_df, implied_volatility, grade_df, recommendation_score,\n",
        "       volume, daily_is_complete, shares_ratios, dbs, daily_cf, surprise,\n",
        "       transcripts, congress, ratings, social_sentiment, news, div_payment,\n",
        "       div_declar, ratios, metrics, reddit_scores, av_news]\n",
        "\n",
        "# Use reduce to apply pd.merge in a chain across all DataFrames in the list\n",
        "master_df = reduce(lambda left, right: pd.merge(left, right, left_index=True, right_index=True, how='inner'), dfs)\n",
        "\n",
        "master_df['Shifted Adj Close'] = master_df['Adj Close'].shift(-1)\n",
        "\n",
        "last_features_row = master_df.drop(columns=['Adj Close','Shifted Adj Close']).iloc[-1].values.reshape(1, -1)\n",
        "\n",
        "master_df = master_df.dropna()\n",
        "master_df.head()"
      ],
      "metadata": {
        "colab": {
          "base_uri": "https://localhost:8080/",
          "height": 408
        },
        "id": "ordvYKepxSy6",
        "outputId": "78fc3204-fb49-475a-80fa-6828e6c2a0fc"
      },
      "execution_count": null,
      "outputs": [
        {
          "output_type": "execute_result",
          "data": {
            "text/plain": [
              "             Adj Close  Return Over N Days  ^VIX9D   ^VIX  ^VIX3M  ^VIX6M  \\\n",
              "Date                                                                        \n",
              "2020-12-28  218.672104            0.415410   20.05  21.70   25.15   27.16   \n",
              "2020-12-29  217.884720            0.428096   21.47  23.08   26.24   28.09   \n",
              "2020-12-30  215.483765            0.408718   21.31  22.77   25.44   27.50   \n",
              "2020-12-31  216.203079            0.426426   21.20  22.75   25.28   27.29   \n",
              "2021-01-04  211.605316            0.374203   27.39  26.97   28.26   29.46   \n",
              "\n",
              "              hv10    hv20    hv30    hv60  ...  averageInventory  \\\n",
              "Date                                        ...                     \n",
              "2020-12-28  0.1610  0.1858  0.1603  0.2381  ...      2.313820e+09   \n",
              "2020-12-29  0.1663  0.1869  0.1610  0.2379  ...      2.314047e+09   \n",
              "2020-12-30  0.1837  0.1697  0.1654  0.2379  ...      2.314273e+09   \n",
              "2020-12-31  0.1469  0.1643  0.1628  0.2378  ...      2.314500e+09   \n",
              "2021-01-04  0.1861  0.1906  0.1804  0.2406  ...      2.310730e+09   \n",
              "\n",
              "            daysSalesOutstanding  daysPayablesOutstanding  \\\n",
              "Date                                                        \n",
              "2020-12-28             56.983607                81.971939   \n",
              "2020-12-29             57.010336                81.638237   \n",
              "2020-12-30             57.037065                81.304535   \n",
              "2020-12-31             57.063794                80.970833   \n",
              "2021-01-04             57.059501                81.160360   \n",
              "\n",
              "            daysOfInventoryOnHand       roe  capexPerShare  redditSentiment  \\\n",
              "Date                                                                          \n",
              "2020-12-28              12.664909  0.118443      -0.556985              0.0   \n",
              "2020-12-29              12.509779  0.118539      -0.555484              0.0   \n",
              "2020-12-30              12.354650  0.118635      -0.553983              0.0   \n",
              "2020-12-31              12.199521  0.118731      -0.552482              0.0   \n",
              "2021-01-04              12.253442  0.118668      -0.554491              0.0   \n",
              "\n",
              "            AV Sentiment Score  finbert_news_score  Shifted Adj Close  \n",
              "Date                                                                   \n",
              "2020-12-28                 0.0                 0.0         217.884720  \n",
              "2020-12-29                 0.0                 0.0         215.483765  \n",
              "2020-12-30                 0.0                 0.0         216.203079  \n",
              "2020-12-31                 0.0                 0.0         211.605316  \n",
              "2021-01-04                 0.0                 0.0         211.809448  \n",
              "\n",
              "[5 rows x 285 columns]"
            ],
            "text/html": [
              "\n",
              "  <div id=\"df-c3247a42-748d-491f-bb1d-8b883b79391c\" class=\"colab-df-container\">\n",
              "    <div>\n",
              "<style scoped>\n",
              "    .dataframe tbody tr th:only-of-type {\n",
              "        vertical-align: middle;\n",
              "    }\n",
              "\n",
              "    .dataframe tbody tr th {\n",
              "        vertical-align: top;\n",
              "    }\n",
              "\n",
              "    .dataframe thead th {\n",
              "        text-align: right;\n",
              "    }\n",
              "</style>\n",
              "<table border=\"1\" class=\"dataframe\">\n",
              "  <thead>\n",
              "    <tr style=\"text-align: right;\">\n",
              "      <th></th>\n",
              "      <th>Adj Close</th>\n",
              "      <th>Return Over N Days</th>\n",
              "      <th>^VIX9D</th>\n",
              "      <th>^VIX</th>\n",
              "      <th>^VIX3M</th>\n",
              "      <th>^VIX6M</th>\n",
              "      <th>hv10</th>\n",
              "      <th>hv20</th>\n",
              "      <th>hv30</th>\n",
              "      <th>hv60</th>\n",
              "      <th>...</th>\n",
              "      <th>averageInventory</th>\n",
              "      <th>daysSalesOutstanding</th>\n",
              "      <th>daysPayablesOutstanding</th>\n",
              "      <th>daysOfInventoryOnHand</th>\n",
              "      <th>roe</th>\n",
              "      <th>capexPerShare</th>\n",
              "      <th>redditSentiment</th>\n",
              "      <th>AV Sentiment Score</th>\n",
              "      <th>finbert_news_score</th>\n",
              "      <th>Shifted Adj Close</th>\n",
              "    </tr>\n",
              "    <tr>\n",
              "      <th>Date</th>\n",
              "      <th></th>\n",
              "      <th></th>\n",
              "      <th></th>\n",
              "      <th></th>\n",
              "      <th></th>\n",
              "      <th></th>\n",
              "      <th></th>\n",
              "      <th></th>\n",
              "      <th></th>\n",
              "      <th></th>\n",
              "      <th></th>\n",
              "      <th></th>\n",
              "      <th></th>\n",
              "      <th></th>\n",
              "      <th></th>\n",
              "      <th></th>\n",
              "      <th></th>\n",
              "      <th></th>\n",
              "      <th></th>\n",
              "      <th></th>\n",
              "      <th></th>\n",
              "    </tr>\n",
              "  </thead>\n",
              "  <tbody>\n",
              "    <tr>\n",
              "      <th>2020-12-28</th>\n",
              "      <td>218.672104</td>\n",
              "      <td>0.415410</td>\n",
              "      <td>20.05</td>\n",
              "      <td>21.70</td>\n",
              "      <td>25.15</td>\n",
              "      <td>27.16</td>\n",
              "      <td>0.1610</td>\n",
              "      <td>0.1858</td>\n",
              "      <td>0.1603</td>\n",
              "      <td>0.2381</td>\n",
              "      <td>...</td>\n",
              "      <td>2.313820e+09</td>\n",
              "      <td>56.983607</td>\n",
              "      <td>81.971939</td>\n",
              "      <td>12.664909</td>\n",
              "      <td>0.118443</td>\n",
              "      <td>-0.556985</td>\n",
              "      <td>0.0</td>\n",
              "      <td>0.0</td>\n",
              "      <td>0.0</td>\n",
              "      <td>217.884720</td>\n",
              "    </tr>\n",
              "    <tr>\n",
              "      <th>2020-12-29</th>\n",
              "      <td>217.884720</td>\n",
              "      <td>0.428096</td>\n",
              "      <td>21.47</td>\n",
              "      <td>23.08</td>\n",
              "      <td>26.24</td>\n",
              "      <td>28.09</td>\n",
              "      <td>0.1663</td>\n",
              "      <td>0.1869</td>\n",
              "      <td>0.1610</td>\n",
              "      <td>0.2379</td>\n",
              "      <td>...</td>\n",
              "      <td>2.314047e+09</td>\n",
              "      <td>57.010336</td>\n",
              "      <td>81.638237</td>\n",
              "      <td>12.509779</td>\n",
              "      <td>0.118539</td>\n",
              "      <td>-0.555484</td>\n",
              "      <td>0.0</td>\n",
              "      <td>0.0</td>\n",
              "      <td>0.0</td>\n",
              "      <td>215.483765</td>\n",
              "    </tr>\n",
              "    <tr>\n",
              "      <th>2020-12-30</th>\n",
              "      <td>215.483765</td>\n",
              "      <td>0.408718</td>\n",
              "      <td>21.31</td>\n",
              "      <td>22.77</td>\n",
              "      <td>25.44</td>\n",
              "      <td>27.50</td>\n",
              "      <td>0.1837</td>\n",
              "      <td>0.1697</td>\n",
              "      <td>0.1654</td>\n",
              "      <td>0.2379</td>\n",
              "      <td>...</td>\n",
              "      <td>2.314273e+09</td>\n",
              "      <td>57.037065</td>\n",
              "      <td>81.304535</td>\n",
              "      <td>12.354650</td>\n",
              "      <td>0.118635</td>\n",
              "      <td>-0.553983</td>\n",
              "      <td>0.0</td>\n",
              "      <td>0.0</td>\n",
              "      <td>0.0</td>\n",
              "      <td>216.203079</td>\n",
              "    </tr>\n",
              "    <tr>\n",
              "      <th>2020-12-31</th>\n",
              "      <td>216.203079</td>\n",
              "      <td>0.426426</td>\n",
              "      <td>21.20</td>\n",
              "      <td>22.75</td>\n",
              "      <td>25.28</td>\n",
              "      <td>27.29</td>\n",
              "      <td>0.1469</td>\n",
              "      <td>0.1643</td>\n",
              "      <td>0.1628</td>\n",
              "      <td>0.2378</td>\n",
              "      <td>...</td>\n",
              "      <td>2.314500e+09</td>\n",
              "      <td>57.063794</td>\n",
              "      <td>80.970833</td>\n",
              "      <td>12.199521</td>\n",
              "      <td>0.118731</td>\n",
              "      <td>-0.552482</td>\n",
              "      <td>0.0</td>\n",
              "      <td>0.0</td>\n",
              "      <td>0.0</td>\n",
              "      <td>211.605316</td>\n",
              "    </tr>\n",
              "    <tr>\n",
              "      <th>2021-01-04</th>\n",
              "      <td>211.605316</td>\n",
              "      <td>0.374203</td>\n",
              "      <td>27.39</td>\n",
              "      <td>26.97</td>\n",
              "      <td>28.26</td>\n",
              "      <td>29.46</td>\n",
              "      <td>0.1861</td>\n",
              "      <td>0.1906</td>\n",
              "      <td>0.1804</td>\n",
              "      <td>0.2406</td>\n",
              "      <td>...</td>\n",
              "      <td>2.310730e+09</td>\n",
              "      <td>57.059501</td>\n",
              "      <td>81.160360</td>\n",
              "      <td>12.253442</td>\n",
              "      <td>0.118668</td>\n",
              "      <td>-0.554491</td>\n",
              "      <td>0.0</td>\n",
              "      <td>0.0</td>\n",
              "      <td>0.0</td>\n",
              "      <td>211.809448</td>\n",
              "    </tr>\n",
              "  </tbody>\n",
              "</table>\n",
              "<p>5 rows × 285 columns</p>\n",
              "</div>\n",
              "    <div class=\"colab-df-buttons\">\n",
              "\n",
              "  <div class=\"colab-df-container\">\n",
              "    <button class=\"colab-df-convert\" onclick=\"convertToInteractive('df-c3247a42-748d-491f-bb1d-8b883b79391c')\"\n",
              "            title=\"Convert this dataframe to an interactive table.\"\n",
              "            style=\"display:none;\">\n",
              "\n",
              "  <svg xmlns=\"http://www.w3.org/2000/svg\" height=\"24px\" viewBox=\"0 -960 960 960\">\n",
              "    <path d=\"M120-120v-720h720v720H120Zm60-500h600v-160H180v160Zm220 220h160v-160H400v160Zm0 220h160v-160H400v160ZM180-400h160v-160H180v160Zm440 0h160v-160H620v160ZM180-180h160v-160H180v160Zm440 0h160v-160H620v160Z\"/>\n",
              "  </svg>\n",
              "    </button>\n",
              "\n",
              "  <style>\n",
              "    .colab-df-container {\n",
              "      display:flex;\n",
              "      gap: 12px;\n",
              "    }\n",
              "\n",
              "    .colab-df-convert {\n",
              "      background-color: #E8F0FE;\n",
              "      border: none;\n",
              "      border-radius: 50%;\n",
              "      cursor: pointer;\n",
              "      display: none;\n",
              "      fill: #1967D2;\n",
              "      height: 32px;\n",
              "      padding: 0 0 0 0;\n",
              "      width: 32px;\n",
              "    }\n",
              "\n",
              "    .colab-df-convert:hover {\n",
              "      background-color: #E2EBFA;\n",
              "      box-shadow: 0px 1px 2px rgba(60, 64, 67, 0.3), 0px 1px 3px 1px rgba(60, 64, 67, 0.15);\n",
              "      fill: #174EA6;\n",
              "    }\n",
              "\n",
              "    .colab-df-buttons div {\n",
              "      margin-bottom: 4px;\n",
              "    }\n",
              "\n",
              "    [theme=dark] .colab-df-convert {\n",
              "      background-color: #3B4455;\n",
              "      fill: #D2E3FC;\n",
              "    }\n",
              "\n",
              "    [theme=dark] .colab-df-convert:hover {\n",
              "      background-color: #434B5C;\n",
              "      box-shadow: 0px 1px 3px 1px rgba(0, 0, 0, 0.15);\n",
              "      filter: drop-shadow(0px 1px 2px rgba(0, 0, 0, 0.3));\n",
              "      fill: #FFFFFF;\n",
              "    }\n",
              "  </style>\n",
              "\n",
              "    <script>\n",
              "      const buttonEl =\n",
              "        document.querySelector('#df-c3247a42-748d-491f-bb1d-8b883b79391c button.colab-df-convert');\n",
              "      buttonEl.style.display =\n",
              "        google.colab.kernel.accessAllowed ? 'block' : 'none';\n",
              "\n",
              "      async function convertToInteractive(key) {\n",
              "        const element = document.querySelector('#df-c3247a42-748d-491f-bb1d-8b883b79391c');\n",
              "        const dataTable =\n",
              "          await google.colab.kernel.invokeFunction('convertToInteractive',\n",
              "                                                    [key], {});\n",
              "        if (!dataTable) return;\n",
              "\n",
              "        const docLinkHtml = 'Like what you see? Visit the ' +\n",
              "          '<a target=\"_blank\" href=https://colab.research.google.com/notebooks/data_table.ipynb>data table notebook</a>'\n",
              "          + ' to learn more about interactive tables.';\n",
              "        element.innerHTML = '';\n",
              "        dataTable['output_type'] = 'display_data';\n",
              "        await google.colab.output.renderOutput(dataTable, element);\n",
              "        const docLink = document.createElement('div');\n",
              "        docLink.innerHTML = docLinkHtml;\n",
              "        element.appendChild(docLink);\n",
              "      }\n",
              "    </script>\n",
              "  </div>\n",
              "\n",
              "\n",
              "<div id=\"df-e2b9424b-328f-4824-8601-d51fe98a4fdc\">\n",
              "  <button class=\"colab-df-quickchart\" onclick=\"quickchart('df-e2b9424b-328f-4824-8601-d51fe98a4fdc')\"\n",
              "            title=\"Suggest charts\"\n",
              "            style=\"display:none;\">\n",
              "\n",
              "<svg xmlns=\"http://www.w3.org/2000/svg\" height=\"24px\"viewBox=\"0 0 24 24\"\n",
              "     width=\"24px\">\n",
              "    <g>\n",
              "        <path d=\"M19 3H5c-1.1 0-2 .9-2 2v14c0 1.1.9 2 2 2h14c1.1 0 2-.9 2-2V5c0-1.1-.9-2-2-2zM9 17H7v-7h2v7zm4 0h-2V7h2v10zm4 0h-2v-4h2v4z\"/>\n",
              "    </g>\n",
              "</svg>\n",
              "  </button>\n",
              "\n",
              "<style>\n",
              "  .colab-df-quickchart {\n",
              "      --bg-color: #E8F0FE;\n",
              "      --fill-color: #1967D2;\n",
              "      --hover-bg-color: #E2EBFA;\n",
              "      --hover-fill-color: #174EA6;\n",
              "      --disabled-fill-color: #AAA;\n",
              "      --disabled-bg-color: #DDD;\n",
              "  }\n",
              "\n",
              "  [theme=dark] .colab-df-quickchart {\n",
              "      --bg-color: #3B4455;\n",
              "      --fill-color: #D2E3FC;\n",
              "      --hover-bg-color: #434B5C;\n",
              "      --hover-fill-color: #FFFFFF;\n",
              "      --disabled-bg-color: #3B4455;\n",
              "      --disabled-fill-color: #666;\n",
              "  }\n",
              "\n",
              "  .colab-df-quickchart {\n",
              "    background-color: var(--bg-color);\n",
              "    border: none;\n",
              "    border-radius: 50%;\n",
              "    cursor: pointer;\n",
              "    display: none;\n",
              "    fill: var(--fill-color);\n",
              "    height: 32px;\n",
              "    padding: 0;\n",
              "    width: 32px;\n",
              "  }\n",
              "\n",
              "  .colab-df-quickchart:hover {\n",
              "    background-color: var(--hover-bg-color);\n",
              "    box-shadow: 0 1px 2px rgba(60, 64, 67, 0.3), 0 1px 3px 1px rgba(60, 64, 67, 0.15);\n",
              "    fill: var(--button-hover-fill-color);\n",
              "  }\n",
              "\n",
              "  .colab-df-quickchart-complete:disabled,\n",
              "  .colab-df-quickchart-complete:disabled:hover {\n",
              "    background-color: var(--disabled-bg-color);\n",
              "    fill: var(--disabled-fill-color);\n",
              "    box-shadow: none;\n",
              "  }\n",
              "\n",
              "  .colab-df-spinner {\n",
              "    border: 2px solid var(--fill-color);\n",
              "    border-color: transparent;\n",
              "    border-bottom-color: var(--fill-color);\n",
              "    animation:\n",
              "      spin 1s steps(1) infinite;\n",
              "  }\n",
              "\n",
              "  @keyframes spin {\n",
              "    0% {\n",
              "      border-color: transparent;\n",
              "      border-bottom-color: var(--fill-color);\n",
              "      border-left-color: var(--fill-color);\n",
              "    }\n",
              "    20% {\n",
              "      border-color: transparent;\n",
              "      border-left-color: var(--fill-color);\n",
              "      border-top-color: var(--fill-color);\n",
              "    }\n",
              "    30% {\n",
              "      border-color: transparent;\n",
              "      border-left-color: var(--fill-color);\n",
              "      border-top-color: var(--fill-color);\n",
              "      border-right-color: var(--fill-color);\n",
              "    }\n",
              "    40% {\n",
              "      border-color: transparent;\n",
              "      border-right-color: var(--fill-color);\n",
              "      border-top-color: var(--fill-color);\n",
              "    }\n",
              "    60% {\n",
              "      border-color: transparent;\n",
              "      border-right-color: var(--fill-color);\n",
              "    }\n",
              "    80% {\n",
              "      border-color: transparent;\n",
              "      border-right-color: var(--fill-color);\n",
              "      border-bottom-color: var(--fill-color);\n",
              "    }\n",
              "    90% {\n",
              "      border-color: transparent;\n",
              "      border-bottom-color: var(--fill-color);\n",
              "    }\n",
              "  }\n",
              "</style>\n",
              "\n",
              "  <script>\n",
              "    async function quickchart(key) {\n",
              "      const quickchartButtonEl =\n",
              "        document.querySelector('#' + key + ' button');\n",
              "      quickchartButtonEl.disabled = true;  // To prevent multiple clicks.\n",
              "      quickchartButtonEl.classList.add('colab-df-spinner');\n",
              "      try {\n",
              "        const charts = await google.colab.kernel.invokeFunction(\n",
              "            'suggestCharts', [key], {});\n",
              "      } catch (error) {\n",
              "        console.error('Error during call to suggestCharts:', error);\n",
              "      }\n",
              "      quickchartButtonEl.classList.remove('colab-df-spinner');\n",
              "      quickchartButtonEl.classList.add('colab-df-quickchart-complete');\n",
              "    }\n",
              "    (() => {\n",
              "      let quickchartButtonEl =\n",
              "        document.querySelector('#df-e2b9424b-328f-4824-8601-d51fe98a4fdc button');\n",
              "      quickchartButtonEl.style.display =\n",
              "        google.colab.kernel.accessAllowed ? 'block' : 'none';\n",
              "    })();\n",
              "  </script>\n",
              "</div>\n",
              "\n",
              "    </div>\n",
              "  </div>\n"
            ],
            "application/vnd.google.colaboratory.intrinsic+json": {
              "type": "dataframe",
              "variable_name": "master_df"
            }
          },
          "metadata": {},
          "execution_count": 95
        }
      ]
    },
    {
      "cell_type": "markdown",
      "metadata": {
        "id": "LP8ZKkaYjDaf"
      },
      "source": [
        "# Simple Baseline Model"
      ]
    },
    {
      "cell_type": "markdown",
      "metadata": {
        "id": "3Sdcake4jHKX"
      },
      "source": [
        "According to financial theory, stock prices follow a random walk, meaning that the stock price for tomorrow equals today's price plus a random error term. This following model attempts to replicate that model and will be used as a baseline model against which to compare the other models in this project."
      ]
    },
    {
      "cell_type": "code",
      "execution_count": null,
      "metadata": {
        "id": "_z4z08Sy3Jkh"
      },
      "outputs": [],
      "source": [
        "def simple_price_with_drift(start_price, end_price, iterations=1000, drift=0.001):\n",
        "  drift = np.mean(msft_df['Adj Close'].pct_change().dropna()) # historic average daily return for MSFT\n",
        "  new_prices = []\n",
        "  rmses = []\n",
        "\n",
        "  for _ in range(iterations):\n",
        "\n",
        "    error_term = np.random.randn()\n",
        "    new_price = start_price + start_price * drift + error_term\n",
        "\n",
        "    # Calculate and store new price and RMSE\n",
        "    rmse = np.sqrt(mean_squared_error([end_price], [new_price]))\n",
        "    new_prices.append(new_price)\n",
        "    rmses.append(rmse)\n",
        "\n",
        "  # Calculate the average new price and average RMSE across all iterations\n",
        "  average_new_price = round(np.mean(new_prices), 4)\n",
        "  average_rmse = round(np.mean(rmses), 4)\n",
        "\n",
        "  return average_new_price, average_rmse"
      ]
    },
    {
      "cell_type": "code",
      "source": [
        "rmse_full_timeframe = []\n",
        "predicted_simple_price_full_timeframe = []\n",
        "drift = np.mean(msft_df['Adj Close'].pct_change().dropna())\n",
        "# Calculate for msft_df prices\n",
        "for i in tqdm(range(1, len(msft_df))):\n",
        "  start_price = msft_df['Adj Close'].iloc[i-1]\n",
        "  end_price = msft_df['Adj Close'].iloc[i]\n",
        "  new_price, average_rmse = simple_price_with_drift(start_price, end_price, 1000, drift)\n",
        "  rmse_full_timeframe.append(average_rmse)\n",
        "  predicted_simple_price_full_timeframe.append(new_price)\n",
        "\n",
        "# Calculate the average RMSE across the entire timeframe\n",
        "average_rmse_over_timeframe = np.mean(rmse_full_timeframe)"
      ],
      "metadata": {
        "colab": {
          "base_uri": "https://localhost:8080/",
          "height": 49,
          "referenced_widgets": [
            "4038469878644ba6a598f92b3ae61151",
            "6dfac7bb8b6f4fefbb3f55f2383b9b58",
            "f8254d22f56c4d0dac1d11b1827fe5ba",
            "c87c494e72fe451989e3a03ed0c38036",
            "e01170eda11f42cd928a435a63ef22bf",
            "985c084a48d54b9ca6ccac1e807a99fb",
            "8f4f620c6e524215bfc022e63891fbb8",
            "7a2bc31182b94ac3b1f37cc17f80fdb1",
            "aa62eb25f71c4b0f894dc580504ec861",
            "03c8e65d093a4285a768449b4351f1a0",
            "82ed629a641e49a49bcc562644932606"
          ]
        },
        "id": "fePkPsYfR268",
        "outputId": "adddd1a4-f214-4a19-a335-d15c331eaf9e"
      },
      "execution_count": null,
      "outputs": [
        {
          "output_type": "display_data",
          "data": {
            "text/plain": [
              "  0%|          | 0/1049 [00:00<?, ?it/s]"
            ],
            "application/vnd.jupyter.widget-view+json": {
              "version_major": 2,
              "version_minor": 0,
              "model_id": "4038469878644ba6a598f92b3ae61151"
            }
          },
          "metadata": {}
        }
      ]
    },
    {
      "cell_type": "code",
      "source": [
        "average_rmse_over_timeframe"
      ],
      "metadata": {
        "colab": {
          "base_uri": "https://localhost:8080/"
        },
        "id": "t5Pybj3AT5eL",
        "outputId": "8762872c-f261-4c9f-9226-5f3d729c90cc"
      },
      "execution_count": null,
      "outputs": [
        {
          "output_type": "execute_result",
          "data": {
            "text/plain": [
              "3.6585227836034315"
            ]
          },
          "metadata": {},
          "execution_count": 170
        }
      ]
    },
    {
      "cell_type": "code",
      "execution_count": null,
      "metadata": {
        "id": "ltVAV4ev3ix1"
      },
      "outputs": [],
      "source": [
        "# simple price forecast for last day\n",
        "simple_prediction = simple_price_with_drift(414.92, 402.65,1000)"
      ]
    },
    {
      "cell_type": "code",
      "source": [
        "msft_df_dropped_first = msft_df.iloc[1:].copy()\n",
        "simple_model_df = msft_df_dropped_first\n",
        "simple_model_df['Predicted Price'] = predicted_simple_price_full_timeframe\n",
        "\n",
        "simple_model_df = simple_model_df.set_index(msft_df_dropped_first.index)\n",
        "\n",
        "# Display the resulting DataFrame\n",
        "simple_model_df.head()"
      ],
      "metadata": {
        "colab": {
          "base_uri": "https://localhost:8080/",
          "height": 237
        },
        "id": "BFk0Le7UzJHL",
        "outputId": "759c21b4-d856-46da-b9d0-4232fd9e3d6b"
      },
      "execution_count": null,
      "outputs": [
        {
          "output_type": "execute_result",
          "data": {
            "text/plain": [
              "             Adj Close  Predicted Price\n",
              "Date                                   \n",
              "2020-01-03  152.570129         154.6852\n",
              "2020-01-06  152.964462         152.6698\n",
              "2020-01-07  151.569794         153.1101\n",
              "2020-01-08  153.984055         151.7420\n",
              "2020-01-09  155.907791         154.1471"
            ],
            "text/html": [
              "\n",
              "  <div id=\"df-2e27e96d-c6a0-4d1b-8711-185c4a4c1d33\" class=\"colab-df-container\">\n",
              "    <div>\n",
              "<style scoped>\n",
              "    .dataframe tbody tr th:only-of-type {\n",
              "        vertical-align: middle;\n",
              "    }\n",
              "\n",
              "    .dataframe tbody tr th {\n",
              "        vertical-align: top;\n",
              "    }\n",
              "\n",
              "    .dataframe thead th {\n",
              "        text-align: right;\n",
              "    }\n",
              "</style>\n",
              "<table border=\"1\" class=\"dataframe\">\n",
              "  <thead>\n",
              "    <tr style=\"text-align: right;\">\n",
              "      <th></th>\n",
              "      <th>Adj Close</th>\n",
              "      <th>Predicted Price</th>\n",
              "    </tr>\n",
              "    <tr>\n",
              "      <th>Date</th>\n",
              "      <th></th>\n",
              "      <th></th>\n",
              "    </tr>\n",
              "  </thead>\n",
              "  <tbody>\n",
              "    <tr>\n",
              "      <th>2020-01-03</th>\n",
              "      <td>152.570129</td>\n",
              "      <td>154.6852</td>\n",
              "    </tr>\n",
              "    <tr>\n",
              "      <th>2020-01-06</th>\n",
              "      <td>152.964462</td>\n",
              "      <td>152.6698</td>\n",
              "    </tr>\n",
              "    <tr>\n",
              "      <th>2020-01-07</th>\n",
              "      <td>151.569794</td>\n",
              "      <td>153.1101</td>\n",
              "    </tr>\n",
              "    <tr>\n",
              "      <th>2020-01-08</th>\n",
              "      <td>153.984055</td>\n",
              "      <td>151.7420</td>\n",
              "    </tr>\n",
              "    <tr>\n",
              "      <th>2020-01-09</th>\n",
              "      <td>155.907791</td>\n",
              "      <td>154.1471</td>\n",
              "    </tr>\n",
              "  </tbody>\n",
              "</table>\n",
              "</div>\n",
              "    <div class=\"colab-df-buttons\">\n",
              "\n",
              "  <div class=\"colab-df-container\">\n",
              "    <button class=\"colab-df-convert\" onclick=\"convertToInteractive('df-2e27e96d-c6a0-4d1b-8711-185c4a4c1d33')\"\n",
              "            title=\"Convert this dataframe to an interactive table.\"\n",
              "            style=\"display:none;\">\n",
              "\n",
              "  <svg xmlns=\"http://www.w3.org/2000/svg\" height=\"24px\" viewBox=\"0 -960 960 960\">\n",
              "    <path d=\"M120-120v-720h720v720H120Zm60-500h600v-160H180v160Zm220 220h160v-160H400v160Zm0 220h160v-160H400v160ZM180-400h160v-160H180v160Zm440 0h160v-160H620v160ZM180-180h160v-160H180v160Zm440 0h160v-160H620v160Z\"/>\n",
              "  </svg>\n",
              "    </button>\n",
              "\n",
              "  <style>\n",
              "    .colab-df-container {\n",
              "      display:flex;\n",
              "      gap: 12px;\n",
              "    }\n",
              "\n",
              "    .colab-df-convert {\n",
              "      background-color: #E8F0FE;\n",
              "      border: none;\n",
              "      border-radius: 50%;\n",
              "      cursor: pointer;\n",
              "      display: none;\n",
              "      fill: #1967D2;\n",
              "      height: 32px;\n",
              "      padding: 0 0 0 0;\n",
              "      width: 32px;\n",
              "    }\n",
              "\n",
              "    .colab-df-convert:hover {\n",
              "      background-color: #E2EBFA;\n",
              "      box-shadow: 0px 1px 2px rgba(60, 64, 67, 0.3), 0px 1px 3px 1px rgba(60, 64, 67, 0.15);\n",
              "      fill: #174EA6;\n",
              "    }\n",
              "\n",
              "    .colab-df-buttons div {\n",
              "      margin-bottom: 4px;\n",
              "    }\n",
              "\n",
              "    [theme=dark] .colab-df-convert {\n",
              "      background-color: #3B4455;\n",
              "      fill: #D2E3FC;\n",
              "    }\n",
              "\n",
              "    [theme=dark] .colab-df-convert:hover {\n",
              "      background-color: #434B5C;\n",
              "      box-shadow: 0px 1px 3px 1px rgba(0, 0, 0, 0.15);\n",
              "      filter: drop-shadow(0px 1px 2px rgba(0, 0, 0, 0.3));\n",
              "      fill: #FFFFFF;\n",
              "    }\n",
              "  </style>\n",
              "\n",
              "    <script>\n",
              "      const buttonEl =\n",
              "        document.querySelector('#df-2e27e96d-c6a0-4d1b-8711-185c4a4c1d33 button.colab-df-convert');\n",
              "      buttonEl.style.display =\n",
              "        google.colab.kernel.accessAllowed ? 'block' : 'none';\n",
              "\n",
              "      async function convertToInteractive(key) {\n",
              "        const element = document.querySelector('#df-2e27e96d-c6a0-4d1b-8711-185c4a4c1d33');\n",
              "        const dataTable =\n",
              "          await google.colab.kernel.invokeFunction('convertToInteractive',\n",
              "                                                    [key], {});\n",
              "        if (!dataTable) return;\n",
              "\n",
              "        const docLinkHtml = 'Like what you see? Visit the ' +\n",
              "          '<a target=\"_blank\" href=https://colab.research.google.com/notebooks/data_table.ipynb>data table notebook</a>'\n",
              "          + ' to learn more about interactive tables.';\n",
              "        element.innerHTML = '';\n",
              "        dataTable['output_type'] = 'display_data';\n",
              "        await google.colab.output.renderOutput(dataTable, element);\n",
              "        const docLink = document.createElement('div');\n",
              "        docLink.innerHTML = docLinkHtml;\n",
              "        element.appendChild(docLink);\n",
              "      }\n",
              "    </script>\n",
              "  </div>\n",
              "\n",
              "\n",
              "<div id=\"df-5257e043-d3a1-449e-981f-c3da8a50c8aa\">\n",
              "  <button class=\"colab-df-quickchart\" onclick=\"quickchart('df-5257e043-d3a1-449e-981f-c3da8a50c8aa')\"\n",
              "            title=\"Suggest charts\"\n",
              "            style=\"display:none;\">\n",
              "\n",
              "<svg xmlns=\"http://www.w3.org/2000/svg\" height=\"24px\"viewBox=\"0 0 24 24\"\n",
              "     width=\"24px\">\n",
              "    <g>\n",
              "        <path d=\"M19 3H5c-1.1 0-2 .9-2 2v14c0 1.1.9 2 2 2h14c1.1 0 2-.9 2-2V5c0-1.1-.9-2-2-2zM9 17H7v-7h2v7zm4 0h-2V7h2v10zm4 0h-2v-4h2v4z\"/>\n",
              "    </g>\n",
              "</svg>\n",
              "  </button>\n",
              "\n",
              "<style>\n",
              "  .colab-df-quickchart {\n",
              "      --bg-color: #E8F0FE;\n",
              "      --fill-color: #1967D2;\n",
              "      --hover-bg-color: #E2EBFA;\n",
              "      --hover-fill-color: #174EA6;\n",
              "      --disabled-fill-color: #AAA;\n",
              "      --disabled-bg-color: #DDD;\n",
              "  }\n",
              "\n",
              "  [theme=dark] .colab-df-quickchart {\n",
              "      --bg-color: #3B4455;\n",
              "      --fill-color: #D2E3FC;\n",
              "      --hover-bg-color: #434B5C;\n",
              "      --hover-fill-color: #FFFFFF;\n",
              "      --disabled-bg-color: #3B4455;\n",
              "      --disabled-fill-color: #666;\n",
              "  }\n",
              "\n",
              "  .colab-df-quickchart {\n",
              "    background-color: var(--bg-color);\n",
              "    border: none;\n",
              "    border-radius: 50%;\n",
              "    cursor: pointer;\n",
              "    display: none;\n",
              "    fill: var(--fill-color);\n",
              "    height: 32px;\n",
              "    padding: 0;\n",
              "    width: 32px;\n",
              "  }\n",
              "\n",
              "  .colab-df-quickchart:hover {\n",
              "    background-color: var(--hover-bg-color);\n",
              "    box-shadow: 0 1px 2px rgba(60, 64, 67, 0.3), 0 1px 3px 1px rgba(60, 64, 67, 0.15);\n",
              "    fill: var(--button-hover-fill-color);\n",
              "  }\n",
              "\n",
              "  .colab-df-quickchart-complete:disabled,\n",
              "  .colab-df-quickchart-complete:disabled:hover {\n",
              "    background-color: var(--disabled-bg-color);\n",
              "    fill: var(--disabled-fill-color);\n",
              "    box-shadow: none;\n",
              "  }\n",
              "\n",
              "  .colab-df-spinner {\n",
              "    border: 2px solid var(--fill-color);\n",
              "    border-color: transparent;\n",
              "    border-bottom-color: var(--fill-color);\n",
              "    animation:\n",
              "      spin 1s steps(1) infinite;\n",
              "  }\n",
              "\n",
              "  @keyframes spin {\n",
              "    0% {\n",
              "      border-color: transparent;\n",
              "      border-bottom-color: var(--fill-color);\n",
              "      border-left-color: var(--fill-color);\n",
              "    }\n",
              "    20% {\n",
              "      border-color: transparent;\n",
              "      border-left-color: var(--fill-color);\n",
              "      border-top-color: var(--fill-color);\n",
              "    }\n",
              "    30% {\n",
              "      border-color: transparent;\n",
              "      border-left-color: var(--fill-color);\n",
              "      border-top-color: var(--fill-color);\n",
              "      border-right-color: var(--fill-color);\n",
              "    }\n",
              "    40% {\n",
              "      border-color: transparent;\n",
              "      border-right-color: var(--fill-color);\n",
              "      border-top-color: var(--fill-color);\n",
              "    }\n",
              "    60% {\n",
              "      border-color: transparent;\n",
              "      border-right-color: var(--fill-color);\n",
              "    }\n",
              "    80% {\n",
              "      border-color: transparent;\n",
              "      border-right-color: var(--fill-color);\n",
              "      border-bottom-color: var(--fill-color);\n",
              "    }\n",
              "    90% {\n",
              "      border-color: transparent;\n",
              "      border-bottom-color: var(--fill-color);\n",
              "    }\n",
              "  }\n",
              "</style>\n",
              "\n",
              "  <script>\n",
              "    async function quickchart(key) {\n",
              "      const quickchartButtonEl =\n",
              "        document.querySelector('#' + key + ' button');\n",
              "      quickchartButtonEl.disabled = true;  // To prevent multiple clicks.\n",
              "      quickchartButtonEl.classList.add('colab-df-spinner');\n",
              "      try {\n",
              "        const charts = await google.colab.kernel.invokeFunction(\n",
              "            'suggestCharts', [key], {});\n",
              "      } catch (error) {\n",
              "        console.error('Error during call to suggestCharts:', error);\n",
              "      }\n",
              "      quickchartButtonEl.classList.remove('colab-df-spinner');\n",
              "      quickchartButtonEl.classList.add('colab-df-quickchart-complete');\n",
              "    }\n",
              "    (() => {\n",
              "      let quickchartButtonEl =\n",
              "        document.querySelector('#df-5257e043-d3a1-449e-981f-c3da8a50c8aa button');\n",
              "      quickchartButtonEl.style.display =\n",
              "        google.colab.kernel.accessAllowed ? 'block' : 'none';\n",
              "    })();\n",
              "  </script>\n",
              "</div>\n",
              "\n",
              "    </div>\n",
              "  </div>\n"
            ],
            "application/vnd.google.colaboratory.intrinsic+json": {
              "type": "dataframe",
              "variable_name": "simple_model_df",
              "summary": "{\n  \"name\": \"simple_model_df\",\n  \"rows\": 1049,\n  \"fields\": [\n    {\n      \"column\": \"Date\",\n      \"properties\": {\n        \"dtype\": \"date\",\n        \"min\": \"2020-01-03 00:00:00\",\n        \"max\": \"2024-03-05 00:00:00\",\n        \"num_unique_values\": 1049,\n        \"samples\": [\n          \"2021-05-27 00:00:00\",\n          \"2023-12-01 00:00:00\",\n          \"2023-06-29 00:00:00\"\n        ],\n        \"semantic_type\": \"\",\n        \"description\": \"\"\n      }\n    },\n    {\n      \"column\": \"Adj Close\",\n      \"properties\": {\n        \"dtype\": \"number\",\n        \"std\": 61.394578786232906,\n        \"min\": 130.6107635498047,\n        \"max\": 419.7737121582031,\n        \"num_unique_values\": 1042,\n        \"samples\": [\n          294.519775390625,\n          323.9735107421875,\n          324.0432434082031\n        ],\n        \"semantic_type\": \"\",\n        \"description\": \"\"\n      }\n    },\n    {\n      \"column\": \"Predicted Price\",\n      \"properties\": {\n        \"dtype\": \"number\",\n        \"std\": 61.405890120229586,\n        \"min\": 130.753,\n        \"max\": 420.2385,\n        \"num_unique_values\": 1049,\n        \"samples\": [\n          245.89,\n          378.6286,\n          334.2321\n        ],\n        \"semantic_type\": \"\",\n        \"description\": \"\"\n      }\n    }\n  ]\n}"
            }
          },
          "metadata": {},
          "execution_count": 173
        }
      ]
    },
    {
      "cell_type": "code",
      "source": [
        "simple_model_df_last_250 = simple_model_df.iloc[-250:]\n",
        "\n",
        "# Create a line plot for 'Adj Close'\n",
        "fig = go.Figure()\n",
        "fig.add_trace(go.Scatter(x=simple_model_df_last_250.index, y=simple_model_df_last_250['Adj Close'], mode='lines',\n",
        "                         name='Adj Close', line=dict(color='#FFCB05')))\n",
        "\n",
        "# Add a line plot for 'Predicted Price'\n",
        "fig.add_trace(go.Scatter(x=simple_model_df_last_250.index, y=simple_model_df_last_250['Predicted Price'], mode='lines',\n",
        "                         name='Predicted Price', line=dict(color='#00274C')))\n",
        "\n",
        "# Update the layout\n",
        "fig.update_layout(\n",
        "    title='MSFT Actual Price vs Simple Predicted Price',\n",
        "    xaxis_title='Date',\n",
        "    yaxis_title='Price',\n",
        "    legend_title='Price Type',\n",
        "    template='plotly_white'\n",
        ")\n",
        "\n",
        "fig.show()"
      ],
      "metadata": {
        "colab": {
          "base_uri": "https://localhost:8080/",
          "height": 542
        },
        "id": "pik_lQUj02Fq",
        "outputId": "8bdffef7-3c12-4e91-a6eb-4ee45f93a9b7"
      },
      "execution_count": null,
      "outputs": [
        {
          "output_type": "display_data",
          "data": {
            "text/html": [
              "<html>\n",
              "<head><meta charset=\"utf-8\" /></head>\n",
              "<body>\n",
              "    <div>            <script src=\"https://cdnjs.cloudflare.com/ajax/libs/mathjax/2.7.5/MathJax.js?config=TeX-AMS-MML_SVG\"></script><script type=\"text/javascript\">if (window.MathJax && window.MathJax.Hub && window.MathJax.Hub.Config) {window.MathJax.Hub.Config({SVG: {font: \"STIX-Web\"}});}</script>                <script type=\"text/javascript\">window.PlotlyConfig = {MathJaxConfig: 'local'};</script>\n",
              "        <script charset=\"utf-8\" src=\"https://cdn.plot.ly/plotly-2.24.1.min.js\"></script>                <div id=\"2cfd4283-1ec3-4b9e-82e5-7a89d5f9ae01\" class=\"plotly-graph-div\" style=\"height:525px; width:100%;\"></div>            <script type=\"text/javascript\">                                    window.PLOTLYENV=window.PLOTLYENV || {};                                    if (document.getElementById(\"2cfd4283-1ec3-4b9e-82e5-7a89d5f9ae01\")) {                    Plotly.newPlot(                        \"2cfd4283-1ec3-4b9e-82e5-7a89d5f9ae01\",                        [{\"line\":{\"color\":\"#FFCB05\"},\"mode\":\"lines\",\"name\":\"Adj Close\",\"x\":[\"2023-03-08T00:00:00\",\"2023-03-09T00:00:00\",\"2023-03-10T00:00:00\",\"2023-03-13T00:00:00\",\"2023-03-14T00:00:00\",\"2023-03-15T00:00:00\",\"2023-03-16T00:00:00\",\"2023-03-17T00:00:00\",\"2023-03-20T00:00:00\",\"2023-03-21T00:00:00\",\"2023-03-22T00:00:00\",\"2023-03-23T00:00:00\",\"2023-03-24T00:00:00\",\"2023-03-27T00:00:00\",\"2023-03-28T00:00:00\",\"2023-03-29T00:00:00\",\"2023-03-30T00:00:00\",\"2023-03-31T00:00:00\",\"2023-04-03T00:00:00\",\"2023-04-04T00:00:00\",\"2023-04-05T00:00:00\",\"2023-04-06T00:00:00\",\"2023-04-10T00:00:00\",\"2023-04-11T00:00:00\",\"2023-04-12T00:00:00\",\"2023-04-13T00:00:00\",\"2023-04-14T00:00:00\",\"2023-04-17T00:00:00\",\"2023-04-18T00:00:00\",\"2023-04-19T00:00:00\",\"2023-04-20T00:00:00\",\"2023-04-21T00:00:00\",\"2023-04-24T00:00:00\",\"2023-04-25T00:00:00\",\"2023-04-26T00:00:00\",\"2023-04-27T00:00:00\",\"2023-04-28T00:00:00\",\"2023-05-01T00:00:00\",\"2023-05-02T00:00:00\",\"2023-05-03T00:00:00\",\"2023-05-04T00:00:00\",\"2023-05-05T00:00:00\",\"2023-05-08T00:00:00\",\"2023-05-09T00:00:00\",\"2023-05-10T00:00:00\",\"2023-05-11T00:00:00\",\"2023-05-12T00:00:00\",\"2023-05-15T00:00:00\",\"2023-05-16T00:00:00\",\"2023-05-17T00:00:00\",\"2023-05-18T00:00:00\",\"2023-05-19T00:00:00\",\"2023-05-22T00:00:00\",\"2023-05-23T00:00:00\",\"2023-05-24T00:00:00\",\"2023-05-25T00:00:00\",\"2023-05-26T00:00:00\",\"2023-05-30T00:00:00\",\"2023-05-31T00:00:00\",\"2023-06-01T00:00:00\",\"2023-06-02T00:00:00\",\"2023-06-05T00:00:00\",\"2023-06-06T00:00:00\",\"2023-06-07T00:00:00\",\"2023-06-08T00:00:00\",\"2023-06-09T00:00:00\",\"2023-06-12T00:00:00\",\"2023-06-13T00:00:00\",\"2023-06-14T00:00:00\",\"2023-06-15T00:00:00\",\"2023-06-16T00:00:00\",\"2023-06-20T00:00:00\",\"2023-06-21T00:00:00\",\"2023-06-22T00:00:00\",\"2023-06-23T00:00:00\",\"2023-06-26T00:00:00\",\"2023-06-27T00:00:00\",\"2023-06-28T00:00:00\",\"2023-06-29T00:00:00\",\"2023-06-30T00:00:00\",\"2023-07-03T00:00:00\",\"2023-07-05T00:00:00\",\"2023-07-06T00:00:00\",\"2023-07-07T00:00:00\",\"2023-07-10T00:00:00\",\"2023-07-11T00:00:00\",\"2023-07-12T00:00:00\",\"2023-07-13T00:00:00\",\"2023-07-14T00:00:00\",\"2023-07-17T00:00:00\",\"2023-07-18T00:00:00\",\"2023-07-19T00:00:00\",\"2023-07-20T00:00:00\",\"2023-07-21T00:00:00\",\"2023-07-24T00:00:00\",\"2023-07-25T00:00:00\",\"2023-07-26T00:00:00\",\"2023-07-27T00:00:00\",\"2023-07-28T00:00:00\",\"2023-07-31T00:00:00\",\"2023-08-01T00:00:00\",\"2023-08-02T00:00:00\",\"2023-08-03T00:00:00\",\"2023-08-04T00:00:00\",\"2023-08-07T00:00:00\",\"2023-08-08T00:00:00\",\"2023-08-09T00:00:00\",\"2023-08-10T00:00:00\",\"2023-08-11T00:00:00\",\"2023-08-14T00:00:00\",\"2023-08-15T00:00:00\",\"2023-08-16T00:00:00\",\"2023-08-17T00:00:00\",\"2023-08-18T00:00:00\",\"2023-08-21T00:00:00\",\"2023-08-22T00:00:00\",\"2023-08-23T00:00:00\",\"2023-08-24T00:00:00\",\"2023-08-25T00:00:00\",\"2023-08-28T00:00:00\",\"2023-08-29T00:00:00\",\"2023-08-30T00:00:00\",\"2023-08-31T00:00:00\",\"2023-09-01T00:00:00\",\"2023-09-05T00:00:00\",\"2023-09-06T00:00:00\",\"2023-09-07T00:00:00\",\"2023-09-08T00:00:00\",\"2023-09-11T00:00:00\",\"2023-09-12T00:00:00\",\"2023-09-13T00:00:00\",\"2023-09-14T00:00:00\",\"2023-09-15T00:00:00\",\"2023-09-18T00:00:00\",\"2023-09-19T00:00:00\",\"2023-09-20T00:00:00\",\"2023-09-21T00:00:00\",\"2023-09-22T00:00:00\",\"2023-09-25T00:00:00\",\"2023-09-26T00:00:00\",\"2023-09-27T00:00:00\",\"2023-09-28T00:00:00\",\"2023-09-29T00:00:00\",\"2023-10-02T00:00:00\",\"2023-10-03T00:00:00\",\"2023-10-04T00:00:00\",\"2023-10-05T00:00:00\",\"2023-10-06T00:00:00\",\"2023-10-09T00:00:00\",\"2023-10-10T00:00:00\",\"2023-10-11T00:00:00\",\"2023-10-12T00:00:00\",\"2023-10-13T00:00:00\",\"2023-10-16T00:00:00\",\"2023-10-17T00:00:00\",\"2023-10-18T00:00:00\",\"2023-10-19T00:00:00\",\"2023-10-20T00:00:00\",\"2023-10-23T00:00:00\",\"2023-10-24T00:00:00\",\"2023-10-25T00:00:00\",\"2023-10-26T00:00:00\",\"2023-10-27T00:00:00\",\"2023-10-30T00:00:00\",\"2023-10-31T00:00:00\",\"2023-11-01T00:00:00\",\"2023-11-02T00:00:00\",\"2023-11-03T00:00:00\",\"2023-11-06T00:00:00\",\"2023-11-07T00:00:00\",\"2023-11-08T00:00:00\",\"2023-11-09T00:00:00\",\"2023-11-10T00:00:00\",\"2023-11-13T00:00:00\",\"2023-11-14T00:00:00\",\"2023-11-15T00:00:00\",\"2023-11-16T00:00:00\",\"2023-11-17T00:00:00\",\"2023-11-20T00:00:00\",\"2023-11-21T00:00:00\",\"2023-11-22T00:00:00\",\"2023-11-24T00:00:00\",\"2023-11-27T00:00:00\",\"2023-11-28T00:00:00\",\"2023-11-29T00:00:00\",\"2023-11-30T00:00:00\",\"2023-12-01T00:00:00\",\"2023-12-04T00:00:00\",\"2023-12-05T00:00:00\",\"2023-12-06T00:00:00\",\"2023-12-07T00:00:00\",\"2023-12-08T00:00:00\",\"2023-12-11T00:00:00\",\"2023-12-12T00:00:00\",\"2023-12-13T00:00:00\",\"2023-12-14T00:00:00\",\"2023-12-15T00:00:00\",\"2023-12-18T00:00:00\",\"2023-12-19T00:00:00\",\"2023-12-20T00:00:00\",\"2023-12-21T00:00:00\",\"2023-12-22T00:00:00\",\"2023-12-26T00:00:00\",\"2023-12-27T00:00:00\",\"2023-12-28T00:00:00\",\"2023-12-29T00:00:00\",\"2024-01-02T00:00:00\",\"2024-01-03T00:00:00\",\"2024-01-04T00:00:00\",\"2024-01-05T00:00:00\",\"2024-01-08T00:00:00\",\"2024-01-09T00:00:00\",\"2024-01-10T00:00:00\",\"2024-01-11T00:00:00\",\"2024-01-12T00:00:00\",\"2024-01-16T00:00:00\",\"2024-01-17T00:00:00\",\"2024-01-18T00:00:00\",\"2024-01-19T00:00:00\",\"2024-01-22T00:00:00\",\"2024-01-23T00:00:00\",\"2024-01-24T00:00:00\",\"2024-01-25T00:00:00\",\"2024-01-26T00:00:00\",\"2024-01-29T00:00:00\",\"2024-01-30T00:00:00\",\"2024-01-31T00:00:00\",\"2024-02-01T00:00:00\",\"2024-02-02T00:00:00\",\"2024-02-05T00:00:00\",\"2024-02-06T00:00:00\",\"2024-02-07T00:00:00\",\"2024-02-08T00:00:00\",\"2024-02-09T00:00:00\",\"2024-02-12T00:00:00\",\"2024-02-13T00:00:00\",\"2024-02-14T00:00:00\",\"2024-02-15T00:00:00\",\"2024-02-16T00:00:00\",\"2024-02-20T00:00:00\",\"2024-02-21T00:00:00\",\"2024-02-22T00:00:00\",\"2024-02-23T00:00:00\",\"2024-02-26T00:00:00\",\"2024-02-27T00:00:00\",\"2024-02-28T00:00:00\",\"2024-02-29T00:00:00\",\"2024-03-01T00:00:00\",\"2024-03-04T00:00:00\",\"2024-03-05T00:00:00\"],\"y\":[251.63475036621094,250.26600646972656,246.56634521484375,251.8529510498047,258.66705322265625,263.2791748046875,273.9516296386719,277.1553039550781,270.0138854980469,271.5513000488281,270.07342529296875,275.39971923828125,278.2860412597656,274.1301574707031,272.9895324707031,278.2265319824219,281.7377014160156,285.95306396484375,284.891845703125,284.8421936035156,282.0252990722656,289.22625732421875,287.03424072265625,280.5276184082031,281.1822509765625,287.4805603027344,283.8106689453125,286.4490051269531,286.02252197265625,286.10186767578125,283.7808837890625,283.43377685546875,279.47625732421875,273.1779479980469,292.96551513671875,302.3485107421875,304.7587585449219,303.0726013183594,302.923828125,301.9220275878906,302.923828125,308.1211853027344,306.1374206542969,304.5008544921875,309.76763916015625,307.5855407714844,306.454833984375,306.94085693359375,309.2023010253906,312.1247253417969,316.61773681640625,316.43878173828125,319.2618408203125,313.377197265625,311.9756164550781,323.9735107421875,330.9019470214844,329.23193359375,326.4288024902344,330.5937194824219,333.39691162109375,333.9337158203125,331.6871643066406,321.4486999511719,323.3174743652344,324.8383483886719,329.8681335449219,332.2935485839844,335.3253479003906,346.02105712890625,340.2855224609375,336.0310974121094,331.56787109375,337.6811828613281,333.0191650390625,326.6375427246094,332.5718688964844,333.84423828125,333.0489807128906,338.5062255859375,335.971435546875,336.1304931640625,339.23187255859375,335.2060546875,329.84820556640625,330.48443603515625,335.1861572265625,340.6135559082031,343.17816162109375,343.66522216796875,357.343017578125,352.9593811035156,344.7984313964844,341.7169189453125,343.0489196777344,348.8838806152344,335.7527770996094,328.7448425292969,336.34918212890625,333.913818359375,334.331298828125,325.5440979003906,324.7091064453125,325.8224182128906,328.13848876953125,324.1027526855469,320.30560302734375,321.0013732910156,319.0928649902344,322.10479736328125,319.937744140625,319.1607971191406,315.6544494628906,315.2559814453125,320.6351013183594,321.21282958984375,325.73529052734375,318.73248291015625,321.7308349609375,322.44805908203125,327.13983154296875,327.51837158203125,326.49237060546875,327.38885498046875,332.2599182128906,331.5925598144531,328.634033203125,332.9771423339844,336.6329650878906,330.48681640625,334.76025390625,337.3900146484375,328.94281005859375,327.78729248046875,327.3788757324219,319.5293884277344,318.294189453125,315.783935546875,316.3118896484375,310.9327697753906,311.5802307128906,312.4269714355469,314.52880859375,320.5553894042969,312.17791748046875,317.72637939453125,318.12481689453125,325.9942932128906,328.54437255859375,327.11993408203125,331.13433837890625,329.87921142578125,326.4624938964844,331.3534851074219,330.77569580078125,328.833251953125,330.03857421875,325.4065856933594,328.04632568359375,329.25164794921875,339.3524475097656,326.6218566894531,328.534423828125,336.0054016113281,336.80230712890625,344.7315368652344,346.97283935546875,351.43548583984375,355.15106201171875,359.1356201171875,361.7952880859375,359.29498291015625,368.2402648925781,365.2618103027344,368.8379211425781,368.9876708984375,375.4756774902344,369.1673278808594,376.7433166503906,372.3813781738281,377.1525573730469,376.7333068847656,377.9111328125,381.9936218261719,378.15069580078125,378.2106018066406,373.8187255859375,368.4586486816406,371.8323669433594,368.1192321777344,370.2652893066406,373.53924560546875,370.6146240234375,373.68896484375,373.678955078125,365.2545471191406,370.04571533203125,371.9621276855469,372.571044921875,369.9358825683594,372.85052490234375,373.8885803222656,373.96844482421875,373.3795471191406,374.5872802734375,375.34588623046875,370.1854248046875,369.9159240722656,367.2608337402344,367.0711975097656,373.9983825683594,375.09637451171875,382.0634460449219,383.9200439453125,387.7529602050781,389.54962158203125,388.7510986328125,393.1429748535156,397.93414306640625,395.7781066894531,398.1636962890625,401.8169250488281,404.1226806640625,403.1844177246094,408.9637145996094,407.8358154296875,396.84613037109375,403.0346984863281,410.4609680175781,404.9012451171875,404.74151611328125,413.28570556640625,413.3456115722656,419.7737121582031,414.4934997558594,405.57000732421875,409.489990234375,406.55999755859375,404.05999755859375,402.7900085449219,402.17999267578125,411.6499938964844,410.3399963378906,407.5400085449219,407.4800109863281,407.7200012207031,413.6400146484375,415.5,414.9200134277344,402.6499938964844],\"type\":\"scatter\"},{\"line\":{\"color\":\"#00274C\"},\"mode\":\"lines\",\"name\":\"Predicted Price\",\"x\":[\"2023-03-08T00:00:00\",\"2023-03-09T00:00:00\",\"2023-03-10T00:00:00\",\"2023-03-13T00:00:00\",\"2023-03-14T00:00:00\",\"2023-03-15T00:00:00\",\"2023-03-16T00:00:00\",\"2023-03-17T00:00:00\",\"2023-03-20T00:00:00\",\"2023-03-21T00:00:00\",\"2023-03-22T00:00:00\",\"2023-03-23T00:00:00\",\"2023-03-24T00:00:00\",\"2023-03-27T00:00:00\",\"2023-03-28T00:00:00\",\"2023-03-29T00:00:00\",\"2023-03-30T00:00:00\",\"2023-03-31T00:00:00\",\"2023-04-03T00:00:00\",\"2023-04-04T00:00:00\",\"2023-04-05T00:00:00\",\"2023-04-06T00:00:00\",\"2023-04-10T00:00:00\",\"2023-04-11T00:00:00\",\"2023-04-12T00:00:00\",\"2023-04-13T00:00:00\",\"2023-04-14T00:00:00\",\"2023-04-17T00:00:00\",\"2023-04-18T00:00:00\",\"2023-04-19T00:00:00\",\"2023-04-20T00:00:00\",\"2023-04-21T00:00:00\",\"2023-04-24T00:00:00\",\"2023-04-25T00:00:00\",\"2023-04-26T00:00:00\",\"2023-04-27T00:00:00\",\"2023-04-28T00:00:00\",\"2023-05-01T00:00:00\",\"2023-05-02T00:00:00\",\"2023-05-03T00:00:00\",\"2023-05-04T00:00:00\",\"2023-05-05T00:00:00\",\"2023-05-08T00:00:00\",\"2023-05-09T00:00:00\",\"2023-05-10T00:00:00\",\"2023-05-11T00:00:00\",\"2023-05-12T00:00:00\",\"2023-05-15T00:00:00\",\"2023-05-16T00:00:00\",\"2023-05-17T00:00:00\",\"2023-05-18T00:00:00\",\"2023-05-19T00:00:00\",\"2023-05-22T00:00:00\",\"2023-05-23T00:00:00\",\"2023-05-24T00:00:00\",\"2023-05-25T00:00:00\",\"2023-05-26T00:00:00\",\"2023-05-30T00:00:00\",\"2023-05-31T00:00:00\",\"2023-06-01T00:00:00\",\"2023-06-02T00:00:00\",\"2023-06-05T00:00:00\",\"2023-06-06T00:00:00\",\"2023-06-07T00:00:00\",\"2023-06-08T00:00:00\",\"2023-06-09T00:00:00\",\"2023-06-12T00:00:00\",\"2023-06-13T00:00:00\",\"2023-06-14T00:00:00\",\"2023-06-15T00:00:00\",\"2023-06-16T00:00:00\",\"2023-06-20T00:00:00\",\"2023-06-21T00:00:00\",\"2023-06-22T00:00:00\",\"2023-06-23T00:00:00\",\"2023-06-26T00:00:00\",\"2023-06-27T00:00:00\",\"2023-06-28T00:00:00\",\"2023-06-29T00:00:00\",\"2023-06-30T00:00:00\",\"2023-07-03T00:00:00\",\"2023-07-05T00:00:00\",\"2023-07-06T00:00:00\",\"2023-07-07T00:00:00\",\"2023-07-10T00:00:00\",\"2023-07-11T00:00:00\",\"2023-07-12T00:00:00\",\"2023-07-13T00:00:00\",\"2023-07-14T00:00:00\",\"2023-07-17T00:00:00\",\"2023-07-18T00:00:00\",\"2023-07-19T00:00:00\",\"2023-07-20T00:00:00\",\"2023-07-21T00:00:00\",\"2023-07-24T00:00:00\",\"2023-07-25T00:00:00\",\"2023-07-26T00:00:00\",\"2023-07-27T00:00:00\",\"2023-07-28T00:00:00\",\"2023-07-31T00:00:00\",\"2023-08-01T00:00:00\",\"2023-08-02T00:00:00\",\"2023-08-03T00:00:00\",\"2023-08-04T00:00:00\",\"2023-08-07T00:00:00\",\"2023-08-08T00:00:00\",\"2023-08-09T00:00:00\",\"2023-08-10T00:00:00\",\"2023-08-11T00:00:00\",\"2023-08-14T00:00:00\",\"2023-08-15T00:00:00\",\"2023-08-16T00:00:00\",\"2023-08-17T00:00:00\",\"2023-08-18T00:00:00\",\"2023-08-21T00:00:00\",\"2023-08-22T00:00:00\",\"2023-08-23T00:00:00\",\"2023-08-24T00:00:00\",\"2023-08-25T00:00:00\",\"2023-08-28T00:00:00\",\"2023-08-29T00:00:00\",\"2023-08-30T00:00:00\",\"2023-08-31T00:00:00\",\"2023-09-01T00:00:00\",\"2023-09-05T00:00:00\",\"2023-09-06T00:00:00\",\"2023-09-07T00:00:00\",\"2023-09-08T00:00:00\",\"2023-09-11T00:00:00\",\"2023-09-12T00:00:00\",\"2023-09-13T00:00:00\",\"2023-09-14T00:00:00\",\"2023-09-15T00:00:00\",\"2023-09-18T00:00:00\",\"2023-09-19T00:00:00\",\"2023-09-20T00:00:00\",\"2023-09-21T00:00:00\",\"2023-09-22T00:00:00\",\"2023-09-25T00:00:00\",\"2023-09-26T00:00:00\",\"2023-09-27T00:00:00\",\"2023-09-28T00:00:00\",\"2023-09-29T00:00:00\",\"2023-10-02T00:00:00\",\"2023-10-03T00:00:00\",\"2023-10-04T00:00:00\",\"2023-10-05T00:00:00\",\"2023-10-06T00:00:00\",\"2023-10-09T00:00:00\",\"2023-10-10T00:00:00\",\"2023-10-11T00:00:00\",\"2023-10-12T00:00:00\",\"2023-10-13T00:00:00\",\"2023-10-16T00:00:00\",\"2023-10-17T00:00:00\",\"2023-10-18T00:00:00\",\"2023-10-19T00:00:00\",\"2023-10-20T00:00:00\",\"2023-10-23T00:00:00\",\"2023-10-24T00:00:00\",\"2023-10-25T00:00:00\",\"2023-10-26T00:00:00\",\"2023-10-27T00:00:00\",\"2023-10-30T00:00:00\",\"2023-10-31T00:00:00\",\"2023-11-01T00:00:00\",\"2023-11-02T00:00:00\",\"2023-11-03T00:00:00\",\"2023-11-06T00:00:00\",\"2023-11-07T00:00:00\",\"2023-11-08T00:00:00\",\"2023-11-09T00:00:00\",\"2023-11-10T00:00:00\",\"2023-11-13T00:00:00\",\"2023-11-14T00:00:00\",\"2023-11-15T00:00:00\",\"2023-11-16T00:00:00\",\"2023-11-17T00:00:00\",\"2023-11-20T00:00:00\",\"2023-11-21T00:00:00\",\"2023-11-22T00:00:00\",\"2023-11-24T00:00:00\",\"2023-11-27T00:00:00\",\"2023-11-28T00:00:00\",\"2023-11-29T00:00:00\",\"2023-11-30T00:00:00\",\"2023-12-01T00:00:00\",\"2023-12-04T00:00:00\",\"2023-12-05T00:00:00\",\"2023-12-06T00:00:00\",\"2023-12-07T00:00:00\",\"2023-12-08T00:00:00\",\"2023-12-11T00:00:00\",\"2023-12-12T00:00:00\",\"2023-12-13T00:00:00\",\"2023-12-14T00:00:00\",\"2023-12-15T00:00:00\",\"2023-12-18T00:00:00\",\"2023-12-19T00:00:00\",\"2023-12-20T00:00:00\",\"2023-12-21T00:00:00\",\"2023-12-22T00:00:00\",\"2023-12-26T00:00:00\",\"2023-12-27T00:00:00\",\"2023-12-28T00:00:00\",\"2023-12-29T00:00:00\",\"2024-01-02T00:00:00\",\"2024-01-03T00:00:00\",\"2024-01-04T00:00:00\",\"2024-01-05T00:00:00\",\"2024-01-08T00:00:00\",\"2024-01-09T00:00:00\",\"2024-01-10T00:00:00\",\"2024-01-11T00:00:00\",\"2024-01-12T00:00:00\",\"2024-01-16T00:00:00\",\"2024-01-17T00:00:00\",\"2024-01-18T00:00:00\",\"2024-01-19T00:00:00\",\"2024-01-22T00:00:00\",\"2024-01-23T00:00:00\",\"2024-01-24T00:00:00\",\"2024-01-25T00:00:00\",\"2024-01-26T00:00:00\",\"2024-01-29T00:00:00\",\"2024-01-30T00:00:00\",\"2024-01-31T00:00:00\",\"2024-02-01T00:00:00\",\"2024-02-02T00:00:00\",\"2024-02-05T00:00:00\",\"2024-02-06T00:00:00\",\"2024-02-07T00:00:00\",\"2024-02-08T00:00:00\",\"2024-02-09T00:00:00\",\"2024-02-12T00:00:00\",\"2024-02-13T00:00:00\",\"2024-02-14T00:00:00\",\"2024-02-15T00:00:00\",\"2024-02-16T00:00:00\",\"2024-02-20T00:00:00\",\"2024-02-21T00:00:00\",\"2024-02-22T00:00:00\",\"2024-02-23T00:00:00\",\"2024-02-26T00:00:00\",\"2024-02-27T00:00:00\",\"2024-02-28T00:00:00\",\"2024-02-29T00:00:00\",\"2024-03-01T00:00:00\",\"2024-03-04T00:00:00\",\"2024-03-05T00:00:00\"],\"y\":[252.3916,251.9118,250.533,246.8256,252.1498,258.9203,263.5705,274.2575,277.4737,270.3152,271.8268,270.3731,275.6853,278.5926,274.4414,273.3055,278.5317,282.0523,286.2468,285.205,285.1662,282.3588,289.532,287.3212,280.8329,281.5312,287.7582,284.1694,286.7501,286.3065,286.4254,284.1414,283.8291,279.7987,273.5591,293.2907,302.6612,305.1378,303.4232,303.2749,302.244,303.2207,308.4853,306.5052,304.8409,310.1817,307.9316,306.7528,307.2767,309.5668,312.525,316.923,316.7958,319.642,313.7649,312.3323,324.3542,331.2353,329.5853,326.7676,330.9238,333.8457,334.3281,332.0547,321.7998,323.6841,325.2284,330.2557,332.6448,335.7196,346.3938,340.6409,336.4547,331.935,338.0808,333.4675,327.0002,332.9237,334.2321,333.3989,338.9042,336.2477,336.5249,339.5858,335.5921,330.1609,330.7873,335.5308,341.0599,343.5677,344.0934,357.7211,353.3804,345.1586,342.1304,343.4561,349.2911,336.062,329.1171,336.7453,334.3085,334.7307,325.9105,325.0229,326.2103,328.5272,324.4719,320.6721,321.4159,319.4501,322.4634,320.2753,319.4528,315.9996,315.5169,320.9529,321.5419,326.108,319.0715,322.1457,322.7794,327.4434,327.9022,326.9182,327.7473,332.6794,331.9446,328.9688,333.331,336.9717,330.8668,335.1156,337.7761,329.3452,328.1559,327.7769,319.8564,318.6262,316.0978,316.6968,311.2883,311.9006,312.7786,314.8955,320.8886,312.5048,318.0621,318.4549,326.3901,328.8779,327.4435,331.4667,330.2459,326.755,331.7462,331.1437,329.1817,330.4093,325.772,328.4787,329.6296,339.72,326.9888,328.8855,336.4159,337.2087,345.0761,347.3178,351.8201,355.5484,359.5696,362.2154,359.7041,368.6746,365.6446,369.271,369.3912,375.9206,369.6032,377.1447,372.7956,377.5783,377.1635,378.2724,382.4314,378.5544,378.6286,374.1702,368.8256,372.2765,368.4651,370.7191,373.9837,371.0915,374.1477,374.1165,365.6239,370.4331,372.3806,373.0135,370.3155,373.2761,374.2764,374.3747,373.828,375.0466,375.8305,370.5582,370.3433,367.6327,367.4516,374.4138,375.5555,382.4763,384.2801,388.1062,389.9954,389.1373,393.6306,398.3259,396.2003,398.599,402.31,404.559,403.6601,409.4115,408.311,397.2657,403.4473,410.8769,405.29,405.1357,413.728,413.8085,420.2385,414.9734,406.032,409.8519,407.0299,404.493,403.2693,402.6658,412.0872,410.7667,408.0128,407.9655,408.1964,414.1162,416.0075,415.3651],\"type\":\"scatter\"}],                        {\"template\":{\"data\":{\"barpolar\":[{\"marker\":{\"line\":{\"color\":\"white\",\"width\":0.5},\"pattern\":{\"fillmode\":\"overlay\",\"size\":10,\"solidity\":0.2}},\"type\":\"barpolar\"}],\"bar\":[{\"error_x\":{\"color\":\"#2a3f5f\"},\"error_y\":{\"color\":\"#2a3f5f\"},\"marker\":{\"line\":{\"color\":\"white\",\"width\":0.5},\"pattern\":{\"fillmode\":\"overlay\",\"size\":10,\"solidity\":0.2}},\"type\":\"bar\"}],\"carpet\":[{\"aaxis\":{\"endlinecolor\":\"#2a3f5f\",\"gridcolor\":\"#C8D4E3\",\"linecolor\":\"#C8D4E3\",\"minorgridcolor\":\"#C8D4E3\",\"startlinecolor\":\"#2a3f5f\"},\"baxis\":{\"endlinecolor\":\"#2a3f5f\",\"gridcolor\":\"#C8D4E3\",\"linecolor\":\"#C8D4E3\",\"minorgridcolor\":\"#C8D4E3\",\"startlinecolor\":\"#2a3f5f\"},\"type\":\"carpet\"}],\"choropleth\":[{\"colorbar\":{\"outlinewidth\":0,\"ticks\":\"\"},\"type\":\"choropleth\"}],\"contourcarpet\":[{\"colorbar\":{\"outlinewidth\":0,\"ticks\":\"\"},\"type\":\"contourcarpet\"}],\"contour\":[{\"colorbar\":{\"outlinewidth\":0,\"ticks\":\"\"},\"colorscale\":[[0.0,\"#0d0887\"],[0.1111111111111111,\"#46039f\"],[0.2222222222222222,\"#7201a8\"],[0.3333333333333333,\"#9c179e\"],[0.4444444444444444,\"#bd3786\"],[0.5555555555555556,\"#d8576b\"],[0.6666666666666666,\"#ed7953\"],[0.7777777777777778,\"#fb9f3a\"],[0.8888888888888888,\"#fdca26\"],[1.0,\"#f0f921\"]],\"type\":\"contour\"}],\"heatmapgl\":[{\"colorbar\":{\"outlinewidth\":0,\"ticks\":\"\"},\"colorscale\":[[0.0,\"#0d0887\"],[0.1111111111111111,\"#46039f\"],[0.2222222222222222,\"#7201a8\"],[0.3333333333333333,\"#9c179e\"],[0.4444444444444444,\"#bd3786\"],[0.5555555555555556,\"#d8576b\"],[0.6666666666666666,\"#ed7953\"],[0.7777777777777778,\"#fb9f3a\"],[0.8888888888888888,\"#fdca26\"],[1.0,\"#f0f921\"]],\"type\":\"heatmapgl\"}],\"heatmap\":[{\"colorbar\":{\"outlinewidth\":0,\"ticks\":\"\"},\"colorscale\":[[0.0,\"#0d0887\"],[0.1111111111111111,\"#46039f\"],[0.2222222222222222,\"#7201a8\"],[0.3333333333333333,\"#9c179e\"],[0.4444444444444444,\"#bd3786\"],[0.5555555555555556,\"#d8576b\"],[0.6666666666666666,\"#ed7953\"],[0.7777777777777778,\"#fb9f3a\"],[0.8888888888888888,\"#fdca26\"],[1.0,\"#f0f921\"]],\"type\":\"heatmap\"}],\"histogram2dcontour\":[{\"colorbar\":{\"outlinewidth\":0,\"ticks\":\"\"},\"colorscale\":[[0.0,\"#0d0887\"],[0.1111111111111111,\"#46039f\"],[0.2222222222222222,\"#7201a8\"],[0.3333333333333333,\"#9c179e\"],[0.4444444444444444,\"#bd3786\"],[0.5555555555555556,\"#d8576b\"],[0.6666666666666666,\"#ed7953\"],[0.7777777777777778,\"#fb9f3a\"],[0.8888888888888888,\"#fdca26\"],[1.0,\"#f0f921\"]],\"type\":\"histogram2dcontour\"}],\"histogram2d\":[{\"colorbar\":{\"outlinewidth\":0,\"ticks\":\"\"},\"colorscale\":[[0.0,\"#0d0887\"],[0.1111111111111111,\"#46039f\"],[0.2222222222222222,\"#7201a8\"],[0.3333333333333333,\"#9c179e\"],[0.4444444444444444,\"#bd3786\"],[0.5555555555555556,\"#d8576b\"],[0.6666666666666666,\"#ed7953\"],[0.7777777777777778,\"#fb9f3a\"],[0.8888888888888888,\"#fdca26\"],[1.0,\"#f0f921\"]],\"type\":\"histogram2d\"}],\"histogram\":[{\"marker\":{\"pattern\":{\"fillmode\":\"overlay\",\"size\":10,\"solidity\":0.2}},\"type\":\"histogram\"}],\"mesh3d\":[{\"colorbar\":{\"outlinewidth\":0,\"ticks\":\"\"},\"type\":\"mesh3d\"}],\"parcoords\":[{\"line\":{\"colorbar\":{\"outlinewidth\":0,\"ticks\":\"\"}},\"type\":\"parcoords\"}],\"pie\":[{\"automargin\":true,\"type\":\"pie\"}],\"scatter3d\":[{\"line\":{\"colorbar\":{\"outlinewidth\":0,\"ticks\":\"\"}},\"marker\":{\"colorbar\":{\"outlinewidth\":0,\"ticks\":\"\"}},\"type\":\"scatter3d\"}],\"scattercarpet\":[{\"marker\":{\"colorbar\":{\"outlinewidth\":0,\"ticks\":\"\"}},\"type\":\"scattercarpet\"}],\"scattergeo\":[{\"marker\":{\"colorbar\":{\"outlinewidth\":0,\"ticks\":\"\"}},\"type\":\"scattergeo\"}],\"scattergl\":[{\"marker\":{\"colorbar\":{\"outlinewidth\":0,\"ticks\":\"\"}},\"type\":\"scattergl\"}],\"scattermapbox\":[{\"marker\":{\"colorbar\":{\"outlinewidth\":0,\"ticks\":\"\"}},\"type\":\"scattermapbox\"}],\"scatterpolargl\":[{\"marker\":{\"colorbar\":{\"outlinewidth\":0,\"ticks\":\"\"}},\"type\":\"scatterpolargl\"}],\"scatterpolar\":[{\"marker\":{\"colorbar\":{\"outlinewidth\":0,\"ticks\":\"\"}},\"type\":\"scatterpolar\"}],\"scatter\":[{\"fillpattern\":{\"fillmode\":\"overlay\",\"size\":10,\"solidity\":0.2},\"type\":\"scatter\"}],\"scatterternary\":[{\"marker\":{\"colorbar\":{\"outlinewidth\":0,\"ticks\":\"\"}},\"type\":\"scatterternary\"}],\"surface\":[{\"colorbar\":{\"outlinewidth\":0,\"ticks\":\"\"},\"colorscale\":[[0.0,\"#0d0887\"],[0.1111111111111111,\"#46039f\"],[0.2222222222222222,\"#7201a8\"],[0.3333333333333333,\"#9c179e\"],[0.4444444444444444,\"#bd3786\"],[0.5555555555555556,\"#d8576b\"],[0.6666666666666666,\"#ed7953\"],[0.7777777777777778,\"#fb9f3a\"],[0.8888888888888888,\"#fdca26\"],[1.0,\"#f0f921\"]],\"type\":\"surface\"}],\"table\":[{\"cells\":{\"fill\":{\"color\":\"#EBF0F8\"},\"line\":{\"color\":\"white\"}},\"header\":{\"fill\":{\"color\":\"#C8D4E3\"},\"line\":{\"color\":\"white\"}},\"type\":\"table\"}]},\"layout\":{\"annotationdefaults\":{\"arrowcolor\":\"#2a3f5f\",\"arrowhead\":0,\"arrowwidth\":1},\"autotypenumbers\":\"strict\",\"coloraxis\":{\"colorbar\":{\"outlinewidth\":0,\"ticks\":\"\"}},\"colorscale\":{\"diverging\":[[0,\"#8e0152\"],[0.1,\"#c51b7d\"],[0.2,\"#de77ae\"],[0.3,\"#f1b6da\"],[0.4,\"#fde0ef\"],[0.5,\"#f7f7f7\"],[0.6,\"#e6f5d0\"],[0.7,\"#b8e186\"],[0.8,\"#7fbc41\"],[0.9,\"#4d9221\"],[1,\"#276419\"]],\"sequential\":[[0.0,\"#0d0887\"],[0.1111111111111111,\"#46039f\"],[0.2222222222222222,\"#7201a8\"],[0.3333333333333333,\"#9c179e\"],[0.4444444444444444,\"#bd3786\"],[0.5555555555555556,\"#d8576b\"],[0.6666666666666666,\"#ed7953\"],[0.7777777777777778,\"#fb9f3a\"],[0.8888888888888888,\"#fdca26\"],[1.0,\"#f0f921\"]],\"sequentialminus\":[[0.0,\"#0d0887\"],[0.1111111111111111,\"#46039f\"],[0.2222222222222222,\"#7201a8\"],[0.3333333333333333,\"#9c179e\"],[0.4444444444444444,\"#bd3786\"],[0.5555555555555556,\"#d8576b\"],[0.6666666666666666,\"#ed7953\"],[0.7777777777777778,\"#fb9f3a\"],[0.8888888888888888,\"#fdca26\"],[1.0,\"#f0f921\"]]},\"colorway\":[\"#636efa\",\"#EF553B\",\"#00cc96\",\"#ab63fa\",\"#FFA15A\",\"#19d3f3\",\"#FF6692\",\"#B6E880\",\"#FF97FF\",\"#FECB52\"],\"font\":{\"color\":\"#2a3f5f\"},\"geo\":{\"bgcolor\":\"white\",\"lakecolor\":\"white\",\"landcolor\":\"white\",\"showlakes\":true,\"showland\":true,\"subunitcolor\":\"#C8D4E3\"},\"hoverlabel\":{\"align\":\"left\"},\"hovermode\":\"closest\",\"mapbox\":{\"style\":\"light\"},\"paper_bgcolor\":\"white\",\"plot_bgcolor\":\"white\",\"polar\":{\"angularaxis\":{\"gridcolor\":\"#EBF0F8\",\"linecolor\":\"#EBF0F8\",\"ticks\":\"\"},\"bgcolor\":\"white\",\"radialaxis\":{\"gridcolor\":\"#EBF0F8\",\"linecolor\":\"#EBF0F8\",\"ticks\":\"\"}},\"scene\":{\"xaxis\":{\"backgroundcolor\":\"white\",\"gridcolor\":\"#DFE8F3\",\"gridwidth\":2,\"linecolor\":\"#EBF0F8\",\"showbackground\":true,\"ticks\":\"\",\"zerolinecolor\":\"#EBF0F8\"},\"yaxis\":{\"backgroundcolor\":\"white\",\"gridcolor\":\"#DFE8F3\",\"gridwidth\":2,\"linecolor\":\"#EBF0F8\",\"showbackground\":true,\"ticks\":\"\",\"zerolinecolor\":\"#EBF0F8\"},\"zaxis\":{\"backgroundcolor\":\"white\",\"gridcolor\":\"#DFE8F3\",\"gridwidth\":2,\"linecolor\":\"#EBF0F8\",\"showbackground\":true,\"ticks\":\"\",\"zerolinecolor\":\"#EBF0F8\"}},\"shapedefaults\":{\"line\":{\"color\":\"#2a3f5f\"}},\"ternary\":{\"aaxis\":{\"gridcolor\":\"#DFE8F3\",\"linecolor\":\"#A2B1C6\",\"ticks\":\"\"},\"baxis\":{\"gridcolor\":\"#DFE8F3\",\"linecolor\":\"#A2B1C6\",\"ticks\":\"\"},\"bgcolor\":\"white\",\"caxis\":{\"gridcolor\":\"#DFE8F3\",\"linecolor\":\"#A2B1C6\",\"ticks\":\"\"}},\"title\":{\"x\":0.05},\"xaxis\":{\"automargin\":true,\"gridcolor\":\"#EBF0F8\",\"linecolor\":\"#EBF0F8\",\"ticks\":\"\",\"title\":{\"standoff\":15},\"zerolinecolor\":\"#EBF0F8\",\"zerolinewidth\":2},\"yaxis\":{\"automargin\":true,\"gridcolor\":\"#EBF0F8\",\"linecolor\":\"#EBF0F8\",\"ticks\":\"\",\"title\":{\"standoff\":15},\"zerolinecolor\":\"#EBF0F8\",\"zerolinewidth\":2}}},\"title\":{\"text\":\"MSFT Actual Price vs Simple Predicted Price\"},\"xaxis\":{\"title\":{\"text\":\"Date\"}},\"yaxis\":{\"title\":{\"text\":\"Price\"}},\"legend\":{\"title\":{\"text\":\"Price Type\"}}},                        {\"responsive\": true}                    ).then(function(){\n",
              "                            \n",
              "var gd = document.getElementById('2cfd4283-1ec3-4b9e-82e5-7a89d5f9ae01');\n",
              "var x = new MutationObserver(function (mutations, observer) {{\n",
              "        var display = window.getComputedStyle(gd).display;\n",
              "        if (!display || display === 'none') {{\n",
              "            console.log([gd, 'removed!']);\n",
              "            Plotly.purge(gd);\n",
              "            observer.disconnect();\n",
              "        }}\n",
              "}});\n",
              "\n",
              "// Listen for the removal of the full notebook cells\n",
              "var notebookContainer = gd.closest('#notebook-container');\n",
              "if (notebookContainer) {{\n",
              "    x.observe(notebookContainer, {childList: true});\n",
              "}}\n",
              "\n",
              "// Listen for the clearing of the current output cell\n",
              "var outputEl = gd.closest('.output');\n",
              "if (outputEl) {{\n",
              "    x.observe(outputEl, {childList: true});\n",
              "}}\n",
              "\n",
              "                        })                };                            </script>        </div>\n",
              "</body>\n",
              "</html>"
            ]
          },
          "metadata": {}
        }
      ]
    },
    {
      "cell_type": "markdown",
      "metadata": {
        "id": "GqZJSeHI2Txj"
      },
      "source": [
        "# Random Forest Model (All Features)"
      ]
    },
    {
      "cell_type": "markdown",
      "source": [
        "## Basic Random Forest Model"
      ],
      "metadata": {
        "id": "uA8lP7IpC6p_"
      }
    },
    {
      "cell_type": "code",
      "execution_count": null,
      "metadata": {
        "colab": {
          "base_uri": "https://localhost:8080/"
        },
        "id": "N9CSF-ZajGUM",
        "outputId": "b070eaca-a77c-4a1a-e9df-f3a6fb7aa878"
      },
      "outputs": [
        {
          "output_type": "stream",
          "name": "stderr",
          "text": [
            "100%|██████████| 5/5 [35:53<00:00, 430.64s/it]"
          ]
        },
        {
          "output_type": "stream",
          "name": "stdout",
          "text": [
            "Average RMSE: 35.334841778900966\n"
          ]
        },
        {
          "output_type": "stream",
          "name": "stderr",
          "text": [
            "\n"
          ]
        }
      ],
      "source": [
        "X = master_df.drop(columns=['Adj Close','Shifted Adj Close'])\n",
        "y = master_df['Shifted Adj Close']\n",
        "\n",
        "# Initialize TimeSeriesSplit\n",
        "tscv = TimeSeriesSplit(n_splits=5)\n",
        "\n",
        "# Placeholder list to store RMSE for each fold\n",
        "rmse_scores = []\n",
        "\n",
        "# Placeholder for feature importances\n",
        "feature_importances = None\n",
        "\n",
        "for train_index, test_index in tqdm(tscv.split(X), total=tscv.n_splits):\n",
        "  X_train, X_test = X.iloc[train_index], X.iloc[test_index]\n",
        "  y_train, y_test = y.iloc[train_index], y.iloc[test_index]\n",
        "\n",
        "  model = RandomForestRegressor(n_estimators=10000, random_state=42)\n",
        "  model.fit(X_train, y_train)\n",
        "\n",
        "  y_pred = model.predict(X_test)\n",
        "\n",
        "  # Compute and store RMSE for the current fold\n",
        "  rmse_scores.append(np.sqrt(mean_squared_error(y_test, y_pred)))\n",
        "\n",
        "  # Update feature importances - using the last split here for simplicity\n",
        "  feature_importances = pd.Series(model.feature_importances_, index=X.columns)\n",
        "\n",
        "# Average RMSE across folds\n",
        "average_rmse = np.mean(rmse_scores)\n",
        "print(f\"Average RMSE: {average_rmse}\")"
      ]
    },
    {
      "cell_type": "code",
      "execution_count": null,
      "metadata": {
        "colab": {
          "base_uri": "https://localhost:8080/"
        },
        "id": "0YPFpgaKkJlU",
        "outputId": "d02ab460-1ac4-47a3-ddf7-9ca1043808f2"
      },
      "outputs": [
        {
          "output_type": "execute_result",
          "data": {
            "text/plain": [
              "epsdiluted                           0.141138\n",
              "netIncome                            0.140621\n",
              "eps                                  0.135894\n",
              "enterpriseValue                      0.087658\n",
              "cashAtBeginningOfPeriod              0.043145\n",
              "dividendPaidAndCapexCoverageRatio    0.011736\n",
              "investedCapital                      0.009860\n",
              "totalStockholdersEquity              0.009509\n",
              "longTermDebtToCapitalization         0.009426\n",
              "totalAssets                          0.009287\n",
              "dtype: float64"
            ]
          },
          "metadata": {},
          "execution_count": 96
        }
      ],
      "source": [
        "sorted_feature_importances = feature_importances.sort_values(ascending=False)\n",
        "top_ten_features = sorted_feature_importances[0:10]\n",
        "top_ten_features"
      ]
    },
    {
      "cell_type": "code",
      "execution_count": null,
      "metadata": {
        "colab": {
          "base_uri": "https://localhost:8080/"
        },
        "id": "eh3pUCOdzbs-",
        "outputId": "27df83e9-7d09-46ff-f734-6de1c39b0841"
      },
      "outputs": [
        {
          "output_type": "stream",
          "name": "stderr",
          "text": [
            "/usr/local/lib/python3.10/dist-packages/sklearn/base.py:439: UserWarning: X does not have valid feature names, but RandomForestRegressor was fitted with feature names\n",
            "  warnings.warn(\n"
          ]
        },
        {
          "output_type": "stream",
          "name": "stdout",
          "text": [
            "Next day predicted 'Adj Close': 328.03809423217774\n"
          ]
        }
      ],
      "source": [
        "next_day_prediction = model.predict(last_features_row)\n",
        "\n",
        "print(f\"Next day predicted 'Adj Close': {next_day_prediction[0]}\")"
      ]
    },
    {
      "cell_type": "code",
      "source": [
        "# save output\n",
        "\n",
        "# RMSE score\n",
        "rmse_df_all_basic = pd.DataFrame({'RMSE Scores': [average_rmse]})\n",
        "rmse_df_all_basic.to_csv('results_all_basic_rmse_scores.csv', index=False)\n",
        "files.download('results_all_basic_rmse_scores.csv')\n",
        "\n",
        "# Feature importances\n",
        "sorted_feature_importances.to_csv('results_all_basic_sorted_feature_importances.csv', index=True)\n",
        "files.download('results_all_basic_sorted_feature_importances.csv')\n",
        "\n",
        "# Price prediction\n",
        "predictions_df = pd.DataFrame(next_day_prediction, columns=['Prediction'])\n",
        "predictions_df.to_csv('results_all_basic_random_forest_prediction.csv', index=True)\n",
        "files.download('results_all_basic_random_forest_prediction.csv')"
      ],
      "metadata": {
        "colab": {
          "base_uri": "https://localhost:8080/",
          "height": 17
        },
        "id": "U2EayJYHX7x2",
        "outputId": "3dfa0a8f-30a9-406d-e1d0-bda89d55356a"
      },
      "execution_count": null,
      "outputs": [
        {
          "output_type": "display_data",
          "data": {
            "text/plain": [
              "<IPython.core.display.Javascript object>"
            ],
            "application/javascript": [
              "\n",
              "    async function download(id, filename, size) {\n",
              "      if (!google.colab.kernel.accessAllowed) {\n",
              "        return;\n",
              "      }\n",
              "      const div = document.createElement('div');\n",
              "      const label = document.createElement('label');\n",
              "      label.textContent = `Downloading \"${filename}\": `;\n",
              "      div.appendChild(label);\n",
              "      const progress = document.createElement('progress');\n",
              "      progress.max = size;\n",
              "      div.appendChild(progress);\n",
              "      document.body.appendChild(div);\n",
              "\n",
              "      const buffers = [];\n",
              "      let downloaded = 0;\n",
              "\n",
              "      const channel = await google.colab.kernel.comms.open(id);\n",
              "      // Send a message to notify the kernel that we're ready.\n",
              "      channel.send({})\n",
              "\n",
              "      for await (const message of channel.messages) {\n",
              "        // Send a message to notify the kernel that we're ready.\n",
              "        channel.send({})\n",
              "        if (message.buffers) {\n",
              "          for (const buffer of message.buffers) {\n",
              "            buffers.push(buffer);\n",
              "            downloaded += buffer.byteLength;\n",
              "            progress.value = downloaded;\n",
              "          }\n",
              "        }\n",
              "      }\n",
              "      const blob = new Blob(buffers, {type: 'application/binary'});\n",
              "      const a = document.createElement('a');\n",
              "      a.href = window.URL.createObjectURL(blob);\n",
              "      a.download = filename;\n",
              "      div.appendChild(a);\n",
              "      a.click();\n",
              "      div.remove();\n",
              "    }\n",
              "  "
            ]
          },
          "metadata": {}
        },
        {
          "output_type": "display_data",
          "data": {
            "text/plain": [
              "<IPython.core.display.Javascript object>"
            ],
            "application/javascript": [
              "download(\"download_86a3ba67-99a9-432a-93c8-682fd4b6f31a\", \"results_all_basic_rmse_scores.csv\", 31)"
            ]
          },
          "metadata": {}
        },
        {
          "output_type": "display_data",
          "data": {
            "text/plain": [
              "<IPython.core.display.Javascript object>"
            ],
            "application/javascript": [
              "\n",
              "    async function download(id, filename, size) {\n",
              "      if (!google.colab.kernel.accessAllowed) {\n",
              "        return;\n",
              "      }\n",
              "      const div = document.createElement('div');\n",
              "      const label = document.createElement('label');\n",
              "      label.textContent = `Downloading \"${filename}\": `;\n",
              "      div.appendChild(label);\n",
              "      const progress = document.createElement('progress');\n",
              "      progress.max = size;\n",
              "      div.appendChild(progress);\n",
              "      document.body.appendChild(div);\n",
              "\n",
              "      const buffers = [];\n",
              "      let downloaded = 0;\n",
              "\n",
              "      const channel = await google.colab.kernel.comms.open(id);\n",
              "      // Send a message to notify the kernel that we're ready.\n",
              "      channel.send({})\n",
              "\n",
              "      for await (const message of channel.messages) {\n",
              "        // Send a message to notify the kernel that we're ready.\n",
              "        channel.send({})\n",
              "        if (message.buffers) {\n",
              "          for (const buffer of message.buffers) {\n",
              "            buffers.push(buffer);\n",
              "            downloaded += buffer.byteLength;\n",
              "            progress.value = downloaded;\n",
              "          }\n",
              "        }\n",
              "      }\n",
              "      const blob = new Blob(buffers, {type: 'application/binary'});\n",
              "      const a = document.createElement('a');\n",
              "      a.href = window.URL.createObjectURL(blob);\n",
              "      a.download = filename;\n",
              "      div.appendChild(a);\n",
              "      a.click();\n",
              "      div.remove();\n",
              "    }\n",
              "  "
            ]
          },
          "metadata": {}
        },
        {
          "output_type": "display_data",
          "data": {
            "text/plain": [
              "<IPython.core.display.Javascript object>"
            ],
            "application/javascript": [
              "download(\"download_17bf3bff-a432-48d1-a4f2-3da84f9a561e\", \"results_all_basic_sorted_feature_importances.csv\", 10653)"
            ]
          },
          "metadata": {}
        },
        {
          "output_type": "display_data",
          "data": {
            "text/plain": [
              "<IPython.core.display.Javascript object>"
            ],
            "application/javascript": [
              "\n",
              "    async function download(id, filename, size) {\n",
              "      if (!google.colab.kernel.accessAllowed) {\n",
              "        return;\n",
              "      }\n",
              "      const div = document.createElement('div');\n",
              "      const label = document.createElement('label');\n",
              "      label.textContent = `Downloading \"${filename}\": `;\n",
              "      div.appendChild(label);\n",
              "      const progress = document.createElement('progress');\n",
              "      progress.max = size;\n",
              "      div.appendChild(progress);\n",
              "      document.body.appendChild(div);\n",
              "\n",
              "      const buffers = [];\n",
              "      let downloaded = 0;\n",
              "\n",
              "      const channel = await google.colab.kernel.comms.open(id);\n",
              "      // Send a message to notify the kernel that we're ready.\n",
              "      channel.send({})\n",
              "\n",
              "      for await (const message of channel.messages) {\n",
              "        // Send a message to notify the kernel that we're ready.\n",
              "        channel.send({})\n",
              "        if (message.buffers) {\n",
              "          for (const buffer of message.buffers) {\n",
              "            buffers.push(buffer);\n",
              "            downloaded += buffer.byteLength;\n",
              "            progress.value = downloaded;\n",
              "          }\n",
              "        }\n",
              "      }\n",
              "      const blob = new Blob(buffers, {type: 'application/binary'});\n",
              "      const a = document.createElement('a');\n",
              "      a.href = window.URL.createObjectURL(blob);\n",
              "      a.download = filename;\n",
              "      div.appendChild(a);\n",
              "      a.click();\n",
              "      div.remove();\n",
              "    }\n",
              "  "
            ]
          },
          "metadata": {}
        },
        {
          "output_type": "display_data",
          "data": {
            "text/plain": [
              "<IPython.core.display.Javascript object>"
            ],
            "application/javascript": [
              "download(\"download_e830eada-8547-457f-ae61-7c79328d6bfd\", \"results_all_basic_random_forest_prediction.csv\", 33)"
            ]
          },
          "metadata": {}
        }
      ]
    },
    {
      "cell_type": "code",
      "source": [
        "rmse_df_all_basic = pd.read_csv('results_all_basic_rmse_scores.csv')\n",
        "rmse_df_all_basic = pd.DataFrame(rmse_df_all_basic)"
      ],
      "metadata": {
        "id": "RCSTkZRqZsxw"
      },
      "execution_count": null,
      "outputs": []
    },
    {
      "cell_type": "markdown",
      "source": [
        "## Train Model with Top Features Obtained from Basic Model"
      ],
      "metadata": {
        "id": "T1uOmMDouV1L"
      }
    },
    {
      "cell_type": "code",
      "execution_count": null,
      "metadata": {
        "id": "H36i9KUb1BGd"
      },
      "outputs": [],
      "source": [
        "def train_with_top_features_and_predict(X, y, top_features):\n",
        "  \"\"\"\n",
        "  Trains models with an increasing number of top features and calculates RMSE for each model.\n",
        "\n",
        "  Parameters:\n",
        "  - X: DataFrame containing all features.\n",
        "  - y: Series containing the target variable.\n",
        "  - top_features: Series with sorted feature importances.\n",
        "\n",
        "  Returns:\n",
        "  - List of RMSE scores for models trained with incremental top features.\n",
        "  \"\"\"\n",
        "  rmse_scores_by_feature_count = []\n",
        "  final_model = None\n",
        "  next_day_prediction = None\n",
        "\n",
        "  # Initialize TimeSeriesSplit\n",
        "  tscv = TimeSeriesSplit(n_splits=5)\n",
        "\n",
        "  for i in tqdm(range(1, len(top_features) + 1)):\n",
        "    # Select the top i features\n",
        "    top_i_features = top_features.index[:i]\n",
        "    X_top_i = X[top_i_features]\n",
        "\n",
        "    rmse_scores = []  # Store RMSE for each fold\n",
        "\n",
        "    for train_index, test_index in tscv.split(X_top_i):\n",
        "      X_train, X_test = X_top_i.iloc[train_index], X_top_i.iloc[test_index]\n",
        "      y_train, y_test = y.iloc[train_index], y.iloc[test_index]\n",
        "\n",
        "      # Train the model\n",
        "      model = RandomForestRegressor(n_estimators=7000, random_state=42)\n",
        "      model.fit(X_train, y_train)\n",
        "\n",
        "      y_pred = model.predict(X_test)\n",
        "\n",
        "      # Compute and store RMSE for the current fold\n",
        "      rmse_scores.append(np.sqrt(mean_squared_error(y_test, y_pred)))\n",
        "\n",
        "    # Average RMSE across folds for the current number of top features\n",
        "    average_rmse = np.mean(rmse_scores)\n",
        "    rmse_scores_by_feature_count.append(average_rmse)\n",
        "\n",
        "    # Keep the last model and its features for next day prediction\n",
        "    if i == len(top_features):\n",
        "      final_model = model\n",
        "      final_features = top_i_features\n",
        "\n",
        "  # Train the final model on the latest data using selected top features\n",
        "  X_train_final = X[final_features]\n",
        "  y_train_final = y\n",
        "  final_model.fit(X_train_final, y_train_final)\n",
        "\n",
        "  # Prepare the last row from the dataset for prediction\n",
        "  last_features_row = X[final_features].iloc[-1:].values\n",
        "  next_day_prediction = final_model.predict(last_features_row)\n",
        "\n",
        "  return rmse_scores_by_feature_count, next_day_prediction[0], final_model"
      ]
    },
    {
      "cell_type": "code",
      "source": [
        "top_ten_features = pd.read_csv('results_all_basic_sorted_feature_importances.csv')\n",
        "top_ten_features = pd.DataFrame(top_ten_features).set_index('Unnamed: 0')\n",
        "top_ten_features = top_ten_features.iloc[:10]"
      ],
      "metadata": {
        "id": "2N5R4ShuSJ7Y"
      },
      "execution_count": null,
      "outputs": []
    },
    {
      "cell_type": "code",
      "source": [
        "df = master_df\n",
        "X = df.drop(columns=['Adj Close', 'Shifted Adj Close'])\n",
        "y = df['Shifted Adj Close']\n",
        "# top_ten_features = sorted_feature_importances[:10]\n",
        "\n",
        "rmse_scores_list, next_day_pred, model = train_with_top_features_and_predict(X, y, top_ten_features)\n",
        "\n",
        "print(\"RMSE scores by number of features used:\", rmse_scores_list)\n",
        "print(\"Predicted price for the next day:\", next_day_pred)"
      ],
      "metadata": {
        "id": "zzvG8CA9cnxV"
      },
      "execution_count": null,
      "outputs": []
    },
    {
      "cell_type": "code",
      "source": [
        "num_top_features = list(range(1, len(top_ten_features) + 1))\n",
        "\n",
        "# Create a DataFrame for RMSE scores\n",
        "rmse_df_all_train_top_features = pd.DataFrame({\n",
        "    'Num_Top_Features': num_top_features,\n",
        "    'RMSE_Scores': rmse_scores_list\n",
        "})\n",
        "\n",
        "# Add the next_day_pred as a new column (repeating the value for all rows for demonstration)\n",
        "rmse_df_all_train_top_features['Next_Day_Prediction based on final model'] = next_day_pred\n",
        "\n",
        "rmse_df_all_train_top_features.to_csv('results_all_train_top_features_rmse_and_prediction.csv', index=False)\n",
        "files.download('results_all_train_top_features_rmse_and_prediction.csv')"
      ],
      "metadata": {
        "colab": {
          "base_uri": "https://localhost:8080/",
          "height": 17
        },
        "id": "qUNmsYgWsxNS",
        "outputId": "1ee7840e-0fde-4f65-f21a-3185c3c9f5c5"
      },
      "execution_count": null,
      "outputs": [
        {
          "output_type": "display_data",
          "data": {
            "text/plain": [
              "<IPython.core.display.Javascript object>"
            ],
            "application/javascript": [
              "\n",
              "    async function download(id, filename, size) {\n",
              "      if (!google.colab.kernel.accessAllowed) {\n",
              "        return;\n",
              "      }\n",
              "      const div = document.createElement('div');\n",
              "      const label = document.createElement('label');\n",
              "      label.textContent = `Downloading \"${filename}\": `;\n",
              "      div.appendChild(label);\n",
              "      const progress = document.createElement('progress');\n",
              "      progress.max = size;\n",
              "      div.appendChild(progress);\n",
              "      document.body.appendChild(div);\n",
              "\n",
              "      const buffers = [];\n",
              "      let downloaded = 0;\n",
              "\n",
              "      const channel = await google.colab.kernel.comms.open(id);\n",
              "      // Send a message to notify the kernel that we're ready.\n",
              "      channel.send({})\n",
              "\n",
              "      for await (const message of channel.messages) {\n",
              "        // Send a message to notify the kernel that we're ready.\n",
              "        channel.send({})\n",
              "        if (message.buffers) {\n",
              "          for (const buffer of message.buffers) {\n",
              "            buffers.push(buffer);\n",
              "            downloaded += buffer.byteLength;\n",
              "            progress.value = downloaded;\n",
              "          }\n",
              "        }\n",
              "      }\n",
              "      const blob = new Blob(buffers, {type: 'application/binary'});\n",
              "      const a = document.createElement('a');\n",
              "      a.href = window.URL.createObjectURL(blob);\n",
              "      a.download = filename;\n",
              "      div.appendChild(a);\n",
              "      a.click();\n",
              "      div.remove();\n",
              "    }\n",
              "  "
            ]
          },
          "metadata": {}
        },
        {
          "output_type": "display_data",
          "data": {
            "text/plain": [
              "<IPython.core.display.Javascript object>"
            ],
            "application/javascript": [
              "download(\"download_5ba2277a-f0f7-4db1-be7e-f4a742875cdd\", \"results_rmse_df_all_train_top_features.csv\", 465)"
            ]
          },
          "metadata": {}
        }
      ]
    },
    {
      "cell_type": "code",
      "source": [
        "rmse_df_all_train_top_features = pd.read_csv('results_all_train_top_features_rmse_and_prediction.csv')\n",
        "rmse_df_all_train_top_features = pd.DataFrame(rmse_df_all_train_top_features)"
      ],
      "metadata": {
        "id": "r1qqNSEGcplR"
      },
      "execution_count": null,
      "outputs": []
    },
    {
      "cell_type": "markdown",
      "source": [
        "## Random Forest Model with Grid Search CV to get Top Features"
      ],
      "metadata": {
        "id": "gY_1LO0Pua7p"
      }
    },
    {
      "cell_type": "code",
      "execution_count": null,
      "metadata": {
        "colab": {
          "base_uri": "https://localhost:8080/"
        },
        "id": "c1hyqRS0FMGW",
        "outputId": "ee09f7f3-500e-4af2-8ee6-c842ce354ad0"
      },
      "outputs": [
        {
          "output_type": "stream",
          "name": "stdout",
          "text": [
            "Fitting 5 folds for each of 9 candidates, totalling 45 fits\n",
            "Best parameters: {'min_samples_split': 12, 'n_estimators': 3000}\n",
            "Best RMSE score: 35.23601112757803\n",
            "Top 10 features:\n",
            "enterpriseValue                       0.646652\n",
            "^VIX6M                                0.046765\n",
            "^VIX3M                                0.023085\n",
            "capitalExpenditureCoverageRatio       0.015604\n",
            "netReceivables                        0.008085\n",
            "freeCashFlowOperatingCashFlowRatio    0.006726\n",
            "capexToOperatingCashFlow              0.006628\n",
            "hv150                                 0.005411\n",
            "hv120                                 0.005251\n",
            "totalEquity                           0.005165\n",
            "dtype: float64\n",
            "Next day prediction: 405.9340169863772\n"
          ]
        },
        {
          "output_type": "stream",
          "name": "stderr",
          "text": [
            "/usr/local/lib/python3.10/dist-packages/sklearn/base.py:439: UserWarning: X does not have valid feature names, but RandomForestRegressor was fitted with feature names\n",
            "  warnings.warn(\n"
          ]
        }
      ],
      "source": [
        "# Model with GridSearchCV\n",
        "X = master_df.drop(columns=['Adj Close','Shifted Adj Close'])\n",
        "y = master_df['Shifted Adj Close']\n",
        "\n",
        "# Define the parameter grid to search\n",
        "param_grid = {\n",
        "    'n_estimators': [1500, 3000, 6000],  # List of numbers of trees\n",
        "    # 'max_depth': [None, 30, 120],  # Maximum depth of trees, including 'None' for full growth\n",
        "    'min_samples_split': [2, 12, 20], # Minimum number of samples required to split a node\n",
        "    # 'min_samples_leaf': [1, 3, 8],    # Minimum number of samples required at each leaf node\n",
        "    # 'max_features': ['auto', 'sqrt', 40]  # Number of features to consider at every split\n",
        "}\n",
        "\n",
        "# Initialize the model\n",
        "model = RandomForestRegressor(random_state=42)\n",
        "\n",
        "tscv = TimeSeriesSplit(n_splits=5)\n",
        "\n",
        "# Define RMSE as the scoring criteria\n",
        "rmse_scorer = make_scorer(mean_squared_error, greater_is_better=False, squared=False)\n",
        "\n",
        "# GridSearchCV with TimeSeriesSplit cross-validation\n",
        "grid_search = GridSearchCV(estimator=model, param_grid=param_grid, cv=tscv, scoring=rmse_scorer, verbose=1, n_jobs=-1)\n",
        "\n",
        "# Fit the grid search to the data\n",
        "grid_search.fit(X, y)\n",
        "\n",
        "# Access the best estimator\n",
        "best_model = grid_search.best_estimator_\n",
        "\n",
        "# Feature importances from the best model\n",
        "feature_importances = pd.Series(best_model.feature_importances_, index=X.columns)\n",
        "\n",
        "# Sort feature importances in descending order and select top 10\n",
        "sorted_feature_importances = feature_importances.sort_values(ascending=False)\n",
        "top_ten_features = sorted_feature_importances[:10]\n",
        "\n",
        "last_features_row = X.iloc[-1].values.reshape(1, -1)\n",
        "\n",
        "next_day_prediction = best_model.predict(last_features_row)\n",
        "\n",
        "# Print the results\n",
        "print(\"Best parameters:\", grid_search.best_params_)\n",
        "print(\"Best RMSE score:\", -grid_search.best_score_)\n",
        "print(f\"Top 10 features:\\n{top_ten_features}\")\n",
        "print(\"Next day prediction:\", next_day_prediction[0])"
      ]
    },
    {
      "cell_type": "code",
      "execution_count": null,
      "metadata": {
        "id": "dVwmkgnc_xYO",
        "colab": {
          "base_uri": "https://localhost:8080/",
          "height": 17
        },
        "outputId": "53453940-8aef-4622-bf43-b6fbf23827f7"
      },
      "outputs": [
        {
          "output_type": "display_data",
          "data": {
            "text/plain": [
              "<IPython.core.display.Javascript object>"
            ],
            "application/javascript": [
              "\n",
              "    async function download(id, filename, size) {\n",
              "      if (!google.colab.kernel.accessAllowed) {\n",
              "        return;\n",
              "      }\n",
              "      const div = document.createElement('div');\n",
              "      const label = document.createElement('label');\n",
              "      label.textContent = `Downloading \"${filename}\": `;\n",
              "      div.appendChild(label);\n",
              "      const progress = document.createElement('progress');\n",
              "      progress.max = size;\n",
              "      div.appendChild(progress);\n",
              "      document.body.appendChild(div);\n",
              "\n",
              "      const buffers = [];\n",
              "      let downloaded = 0;\n",
              "\n",
              "      const channel = await google.colab.kernel.comms.open(id);\n",
              "      // Send a message to notify the kernel that we're ready.\n",
              "      channel.send({})\n",
              "\n",
              "      for await (const message of channel.messages) {\n",
              "        // Send a message to notify the kernel that we're ready.\n",
              "        channel.send({})\n",
              "        if (message.buffers) {\n",
              "          for (const buffer of message.buffers) {\n",
              "            buffers.push(buffer);\n",
              "            downloaded += buffer.byteLength;\n",
              "            progress.value = downloaded;\n",
              "          }\n",
              "        }\n",
              "      }\n",
              "      const blob = new Blob(buffers, {type: 'application/binary'});\n",
              "      const a = document.createElement('a');\n",
              "      a.href = window.URL.createObjectURL(blob);\n",
              "      a.download = filename;\n",
              "      div.appendChild(a);\n",
              "      a.click();\n",
              "      div.remove();\n",
              "    }\n",
              "  "
            ]
          },
          "metadata": {}
        },
        {
          "output_type": "display_data",
          "data": {
            "text/plain": [
              "<IPython.core.display.Javascript object>"
            ],
            "application/javascript": [
              "download(\"download_c9c010d0-7e37-4082-bbe5-6ef1ec31f307\", \"random_forest_best_model.joblib\", 42361185)"
            ]
          },
          "metadata": {}
        },
        {
          "output_type": "display_data",
          "data": {
            "text/plain": [
              "<IPython.core.display.Javascript object>"
            ],
            "application/javascript": [
              "\n",
              "    async function download(id, filename, size) {\n",
              "      if (!google.colab.kernel.accessAllowed) {\n",
              "        return;\n",
              "      }\n",
              "      const div = document.createElement('div');\n",
              "      const label = document.createElement('label');\n",
              "      label.textContent = `Downloading \"${filename}\": `;\n",
              "      div.appendChild(label);\n",
              "      const progress = document.createElement('progress');\n",
              "      progress.max = size;\n",
              "      div.appendChild(progress);\n",
              "      document.body.appendChild(div);\n",
              "\n",
              "      const buffers = [];\n",
              "      let downloaded = 0;\n",
              "\n",
              "      const channel = await google.colab.kernel.comms.open(id);\n",
              "      // Send a message to notify the kernel that we're ready.\n",
              "      channel.send({})\n",
              "\n",
              "      for await (const message of channel.messages) {\n",
              "        // Send a message to notify the kernel that we're ready.\n",
              "        channel.send({})\n",
              "        if (message.buffers) {\n",
              "          for (const buffer of message.buffers) {\n",
              "            buffers.push(buffer);\n",
              "            downloaded += buffer.byteLength;\n",
              "            progress.value = downloaded;\n",
              "          }\n",
              "        }\n",
              "      }\n",
              "      const blob = new Blob(buffers, {type: 'application/binary'});\n",
              "      const a = document.createElement('a');\n",
              "      a.href = window.URL.createObjectURL(blob);\n",
              "      a.download = filename;\n",
              "      div.appendChild(a);\n",
              "      a.click();\n",
              "      div.remove();\n",
              "    }\n",
              "  "
            ]
          },
          "metadata": {}
        },
        {
          "output_type": "display_data",
          "data": {
            "text/plain": [
              "<IPython.core.display.Javascript object>"
            ],
            "application/javascript": [
              "download(\"download_b719b236-a162-4e61-9f84-9100a48123a2\", \"rmse_scores.csv\", 30)"
            ]
          },
          "metadata": {}
        },
        {
          "output_type": "display_data",
          "data": {
            "text/plain": [
              "<IPython.core.display.Javascript object>"
            ],
            "application/javascript": [
              "\n",
              "    async function download(id, filename, size) {\n",
              "      if (!google.colab.kernel.accessAllowed) {\n",
              "        return;\n",
              "      }\n",
              "      const div = document.createElement('div');\n",
              "      const label = document.createElement('label');\n",
              "      label.textContent = `Downloading \"${filename}\": `;\n",
              "      div.appendChild(label);\n",
              "      const progress = document.createElement('progress');\n",
              "      progress.max = size;\n",
              "      div.appendChild(progress);\n",
              "      document.body.appendChild(div);\n",
              "\n",
              "      const buffers = [];\n",
              "      let downloaded = 0;\n",
              "\n",
              "      const channel = await google.colab.kernel.comms.open(id);\n",
              "      // Send a message to notify the kernel that we're ready.\n",
              "      channel.send({})\n",
              "\n",
              "      for await (const message of channel.messages) {\n",
              "        // Send a message to notify the kernel that we're ready.\n",
              "        channel.send({})\n",
              "        if (message.buffers) {\n",
              "          for (const buffer of message.buffers) {\n",
              "            buffers.push(buffer);\n",
              "            downloaded += buffer.byteLength;\n",
              "            progress.value = downloaded;\n",
              "          }\n",
              "        }\n",
              "      }\n",
              "      const blob = new Blob(buffers, {type: 'application/binary'});\n",
              "      const a = document.createElement('a');\n",
              "      a.href = window.URL.createObjectURL(blob);\n",
              "      a.download = filename;\n",
              "      div.appendChild(a);\n",
              "      a.click();\n",
              "      div.remove();\n",
              "    }\n",
              "  "
            ]
          },
          "metadata": {}
        },
        {
          "output_type": "display_data",
          "data": {
            "text/plain": [
              "<IPython.core.display.Javascript object>"
            ],
            "application/javascript": [
              "download(\"download_440e655c-e9c9-404a-b29b-52abead5f377\", \"sorted_feature_importances.csv\", 10703)"
            ]
          },
          "metadata": {}
        },
        {
          "output_type": "display_data",
          "data": {
            "text/plain": [
              "<IPython.core.display.Javascript object>"
            ],
            "application/javascript": [
              "\n",
              "    async function download(id, filename, size) {\n",
              "      if (!google.colab.kernel.accessAllowed) {\n",
              "        return;\n",
              "      }\n",
              "      const div = document.createElement('div');\n",
              "      const label = document.createElement('label');\n",
              "      label.textContent = `Downloading \"${filename}\": `;\n",
              "      div.appendChild(label);\n",
              "      const progress = document.createElement('progress');\n",
              "      progress.max = size;\n",
              "      div.appendChild(progress);\n",
              "      document.body.appendChild(div);\n",
              "\n",
              "      const buffers = [];\n",
              "      let downloaded = 0;\n",
              "\n",
              "      const channel = await google.colab.kernel.comms.open(id);\n",
              "      // Send a message to notify the kernel that we're ready.\n",
              "      channel.send({})\n",
              "\n",
              "      for await (const message of channel.messages) {\n",
              "        // Send a message to notify the kernel that we're ready.\n",
              "        channel.send({})\n",
              "        if (message.buffers) {\n",
              "          for (const buffer of message.buffers) {\n",
              "            buffers.push(buffer);\n",
              "            downloaded += buffer.byteLength;\n",
              "            progress.value = downloaded;\n",
              "          }\n",
              "        }\n",
              "      }\n",
              "      const blob = new Blob(buffers, {type: 'application/binary'});\n",
              "      const a = document.createElement('a');\n",
              "      a.href = window.URL.createObjectURL(blob);\n",
              "      a.download = filename;\n",
              "      div.appendChild(a);\n",
              "      a.click();\n",
              "      div.remove();\n",
              "    }\n",
              "  "
            ]
          },
          "metadata": {}
        },
        {
          "output_type": "display_data",
          "data": {
            "text/plain": [
              "<IPython.core.display.Javascript object>"
            ],
            "application/javascript": [
              "download(\"download_131136fa-1688-4cf7-8c02-bbf1b0e33ca9\", \"random_forest_prediction.csv\", 32)"
            ]
          },
          "metadata": {}
        }
      ],
      "source": [
        "# RMSE score\n",
        "rmse_scores = -grid_search.best_score_\n",
        "rmse_df = pd.DataFrame({'RMSE Scores': [rmse_scores]})\n",
        "rmse_df.to_csv('rmse_scores.csv', index=False)\n",
        "files.download('rmse_scores.csv')\n",
        "\n",
        "# Feature importances\n",
        "sorted_feature_importances.to_csv('sorted_feature_importances.csv', index=True)\n",
        "files.download('sorted_feature_importances.csv')\n",
        "\n",
        "# Price prediction\n",
        "predictions_df = pd.DataFrame(next_day_prediction, columns=['Prediction'])\n",
        "predictions_df.to_csv('random_forest_prediction.csv', index=True)\n",
        "files.download('random_forest_prediction.csv')"
      ]
    },
    {
      "cell_type": "code",
      "source": [
        "results_all_gs_rmse = pd.read_csv('results_all_gs_random_forest_prediction_and_rmse_scores.csv')\n",
        "results_all_gs_rmse = pd.DataFrame(results_all_gs_rmse)"
      ],
      "metadata": {
        "id": "t2uKg0nUECyQ"
      },
      "execution_count": null,
      "outputs": []
    },
    {
      "cell_type": "markdown",
      "source": [
        "## Random Forest with Forward Selection"
      ],
      "metadata": {
        "id": "AcXypMGBzJro"
      }
    },
    {
      "cell_type": "code",
      "source": [
        "X = master_df.drop(columns=['Adj Close','Shifted Adj Close'])\n",
        "y = master_df['Shifted Adj Close']\n",
        "\n",
        "# Split the data into training and testing sets\n",
        "tscv = TimeSeriesSplit(n_splits=5)\n",
        "\n",
        "# List to keep track of selected features and performance\n",
        "selected_features = []\n",
        "remaining_features = list(X_train.columns)\n",
        "best_score = float('inf')\n",
        "\n",
        "while remaining_features and len(selected_features) < 10:\n",
        "  score_improvement = False\n",
        "  for feature in remaining_features:\n",
        "    # Test adding the current feature\n",
        "    trial_features = selected_features + [feature]\n",
        "    trial_X = X[trial_features]\n",
        "\n",
        "    # Cross-validate the model with the current set of features\n",
        "    rmse_scores = []\n",
        "    for train_index, test_index in tscv.split(trial_X):\n",
        "      X_train, X_test = trial_X.iloc[train_index], trial_X.iloc[test_index]\n",
        "      y_train, y_test = y.iloc[train_index], y.iloc[test_index]\n",
        "\n",
        "      model = RandomForestRegressor(n_estimators=10000, random_state=42)\n",
        "      model.fit(X_train, y_train)\n",
        "      y_pred = model.predict(X_test)\n",
        "      rmse_score = np.sqrt(mean_squared_error(y_test, y_pred))\n",
        "      rmse_scores.append(rmse_score)\n",
        "\n",
        "    # Calculate the average RMSE across time-series splits\n",
        "    average_rmse = np.mean(rmse_scores)\n",
        "\n",
        "    # Check if the RMSE has improved\n",
        "    if average_rmse < best_score:\n",
        "      best_score = average_rmse\n",
        "      best_feature = feature\n",
        "      score_improvement = True\n",
        "\n",
        "  # If the feature improves the model, add it to the selected features\n",
        "  if score_improvement:\n",
        "    selected_features.append(best_feature)\n",
        "    remaining_features.remove(best_feature)\n",
        "  else:\n",
        "    # If no improvement, exit the while loop\n",
        "    break\n",
        "\n",
        "print(\"Selected features:\", selected_features)\n",
        "print(\"Best RMSE Score:\", best_score)\n",
        "\n",
        "# Train the final model on the selected features\n",
        "# Use the last split as the hold-out test set\n",
        "train_index, test_index = list(tscv.split(X[selected_features]))[-1]\n",
        "X_train, X_test = X[selected_features].iloc[train_index], X[selected_features].iloc[test_index]\n",
        "y_train, y_test = y.iloc[train_index], y.iloc[test_index]\n",
        "\n",
        "final_model = RandomForestRegressor(n_estimators=100, random_state=42)\n",
        "final_model.fit(X_train, y_train)\n",
        "final_predictions = final_model.predict(X_test)\n",
        "final_rmse = np.sqrt(mean_squared_error(y_test, final_predictions))\n",
        "\n",
        "# Predict the next day (using the last available features)\n",
        "last_features_row = X[selected_features].iloc[-1].values.reshape(1, -1)\n",
        "next_day_prediction = final_model.predict(last_features_row)\n",
        "\n",
        "print(\"Final RMSE on the hold-out test set:\", final_rmse)\n",
        "print(\"Next day prediction:\", next_day_prediction[0])"
      ],
      "metadata": {
        "colab": {
          "base_uri": "https://localhost:8080/"
        },
        "outputId": "e75d3246-db90-4061-e237-58f2a62f8378",
        "id": "z6F2xsyczJro"
      },
      "execution_count": null,
      "outputs": [
        {
          "output_type": "stream",
          "name": "stdout",
          "text": [
            "Selected features: ['hv60']\n",
            "Best RMSE Score: 80.74162455339832\n",
            "Final RMSE on the hold-out test set: 113.43419127620191\n",
            "Next day prediction: 284.4680347442627\n"
          ]
        },
        {
          "output_type": "stream",
          "name": "stderr",
          "text": [
            "/usr/local/lib/python3.10/dist-packages/sklearn/base.py:439: UserWarning: X does not have valid feature names, but RandomForestRegressor was fitted with feature names\n",
            "  warnings.warn(\n"
          ]
        }
      ]
    },
    {
      "cell_type": "code",
      "source": [
        "results_df = pd.DataFrame({\n",
        "    'Selected_Features': selected_features,\n",
        "    'RMSE': final_rmse,\n",
        "    'Next_Day_Prediction': next_day_prediction[0]\n",
        "})\n",
        "results_all_fs_features_rmse_and_predictions = results_df\n",
        "results_all_fs_features_rmse_and_predictions.to_csv('results_all_fs_features_rmse_and_predictions.csv', index=False)\n",
        "files.download('results_all_fs_features_rmse_and_predictions.csv')"
      ],
      "metadata": {
        "colab": {
          "base_uri": "https://localhost:8080/",
          "height": 17
        },
        "id": "NhUf5AD3Ak4p",
        "outputId": "b891426b-9fbe-4718-966e-562fa43e8702"
      },
      "execution_count": null,
      "outputs": [
        {
          "output_type": "display_data",
          "data": {
            "text/plain": [
              "<IPython.core.display.Javascript object>"
            ],
            "application/javascript": [
              "\n",
              "    async function download(id, filename, size) {\n",
              "      if (!google.colab.kernel.accessAllowed) {\n",
              "        return;\n",
              "      }\n",
              "      const div = document.createElement('div');\n",
              "      const label = document.createElement('label');\n",
              "      label.textContent = `Downloading \"${filename}\": `;\n",
              "      div.appendChild(label);\n",
              "      const progress = document.createElement('progress');\n",
              "      progress.max = size;\n",
              "      div.appendChild(progress);\n",
              "      document.body.appendChild(div);\n",
              "\n",
              "      const buffers = [];\n",
              "      let downloaded = 0;\n",
              "\n",
              "      const channel = await google.colab.kernel.comms.open(id);\n",
              "      // Send a message to notify the kernel that we're ready.\n",
              "      channel.send({})\n",
              "\n",
              "      for await (const message of channel.messages) {\n",
              "        // Send a message to notify the kernel that we're ready.\n",
              "        channel.send({})\n",
              "        if (message.buffers) {\n",
              "          for (const buffer of message.buffers) {\n",
              "            buffers.push(buffer);\n",
              "            downloaded += buffer.byteLength;\n",
              "            progress.value = downloaded;\n",
              "          }\n",
              "        }\n",
              "      }\n",
              "      const blob = new Blob(buffers, {type: 'application/binary'});\n",
              "      const a = document.createElement('a');\n",
              "      a.href = window.URL.createObjectURL(blob);\n",
              "      a.download = filename;\n",
              "      div.appendChild(a);\n",
              "      a.click();\n",
              "      div.remove();\n",
              "    }\n",
              "  "
            ]
          },
          "metadata": {}
        },
        {
          "output_type": "display_data",
          "data": {
            "text/plain": [
              "<IPython.core.display.Javascript object>"
            ],
            "application/javascript": [
              "download(\"download_09d4d98c-ff64-4820-b8d4-92b2df3265b3\", \"results_all_fs_features_rmse_and_predictions.csv\", 88)"
            ]
          },
          "metadata": {}
        }
      ]
    },
    {
      "cell_type": "code",
      "source": [
        "results_all_fs_features_rmse_and_predictions = pd.read_csv('results_all_fs_features_rmse_and_predictions.csv')\n",
        "results_all_fs_features_rmse_and_predictions = pd.DataFrame(results_all_fs_features_rmse_and_predictions)"
      ],
      "metadata": {
        "id": "veu07J_TGjvv"
      },
      "execution_count": null,
      "outputs": []
    },
    {
      "cell_type": "markdown",
      "source": [
        "## Random Forest with Backward Elimination"
      ],
      "metadata": {
        "id": "_Dt_eriQAdoL"
      }
    },
    {
      "cell_type": "code",
      "source": [
        "def rf_backward_elimination(X, y):\n",
        "  features = X.columns.tolist()\n",
        "  best_rmse = float('inf')\n",
        "  best_features = features.copy()\n",
        "  improvement = True\n",
        "\n",
        "  # Initialize TimeSeriesSplit\n",
        "  tscv = TimeSeriesSplit(n_splits=5)\n",
        "\n",
        "  while improvement and features:\n",
        "    improvement = False\n",
        "    feature_rmse = []\n",
        "\n",
        "    for feature in tqdm(features, desc=\"Evaluating features\"):\n",
        "      # Indicate which feature is being processed\n",
        "      print(f\"Processing {feature}...\")\n",
        "      trial_features = [f for f in features if f != feature]\n",
        "      trial_X = X[trial_features]\n",
        "\n",
        "      # Store RMSE for each fold\n",
        "      fold_rmse = []\n",
        "\n",
        "      for train_index, test_index in tscv.split(trial_X):\n",
        "        X_train, X_test = trial_X.iloc[train_index], trial_X.iloc[test_index]\n",
        "        y_train, y_test = y.iloc[train_index], y.iloc[test_index]\n",
        "\n",
        "        model = RandomForestRegressor(n_estimators=100, random_state=42)\n",
        "        model.fit(X_train, y_train)\n",
        "        y_pred = model.predict(X_test)\n",
        "        rmse = np.sqrt(mean_squared_error(y_test, y_pred))\n",
        "        fold_rmse.append(rmse)\n",
        "\n",
        "      # Calculate average RMSE across folds for current feature set\n",
        "      average_rmse = np.mean(fold_rmse)\n",
        "      feature_rmse.append((feature, average_rmse))\n",
        "\n",
        "    # Find the feature whose removal gives the best average RMSE\n",
        "    feature_rmse.sort(key=lambda x: x[1])\n",
        "    if feature_rmse and feature_rmse[0][1] < best_rmse:\n",
        "      best_rmse = feature_rmse[0][1]\n",
        "      features.remove(feature_rmse[0][0])\n",
        "      best_features = features.copy()\n",
        "      improvement = True\n",
        "      print(f\"Removed {feature_rmse[0][0]}, Best RMSE: {best_rmse}\")\n",
        "    else:\n",
        "      print(\"No further improvement.\")\n",
        "  final_X = X[best_features]\n",
        "  final_model = RandomForestRegressor(n_estimators=1000, random_state=42)\n",
        "  final_model.fit(final_X, y)\n",
        "\n",
        "  # Make a one-day prediction using the last available data point\n",
        "  last_features_row = final_X.iloc[-1:].values\n",
        "  next_day_prediction = final_model.predict(last_features_row)\n",
        "\n",
        "  return best_features, best_rmse, next_day_prediction[0]"
      ],
      "metadata": {
        "id": "P42OvLzC_qYL"
      },
      "execution_count": null,
      "outputs": []
    },
    {
      "cell_type": "code",
      "source": [
        "results_df = pd.DataFrame({\n",
        "    'Best_Features': best_features,\n",
        "    'RMSE': best_rmse,\n",
        "    'Next_Day_Prediction': one_day_pred\n",
        "})\n",
        "results_all_be_features_rmse_and_predictions = results_df\n",
        "results_all_be_features_rmse_and_predictions.to_csv('results_all_be_features_rmse_and_predictions.csv', index=True)\n",
        "files.download('results_all_be_features_rmse_and_predictions.csv')"
      ],
      "metadata": {
        "colab": {
          "base_uri": "https://localhost:8080/",
          "height": 17
        },
        "id": "GIq8xIW_SInz",
        "outputId": "cbd9d7b8-d2bf-4280-c0a3-f2e49d9a7c73"
      },
      "execution_count": null,
      "outputs": [
        {
          "output_type": "display_data",
          "data": {
            "text/plain": [
              "<IPython.core.display.Javascript object>"
            ],
            "application/javascript": [
              "\n",
              "    async function download(id, filename, size) {\n",
              "      if (!google.colab.kernel.accessAllowed) {\n",
              "        return;\n",
              "      }\n",
              "      const div = document.createElement('div');\n",
              "      const label = document.createElement('label');\n",
              "      label.textContent = `Downloading \"${filename}\": `;\n",
              "      div.appendChild(label);\n",
              "      const progress = document.createElement('progress');\n",
              "      progress.max = size;\n",
              "      div.appendChild(progress);\n",
              "      document.body.appendChild(div);\n",
              "\n",
              "      const buffers = [];\n",
              "      let downloaded = 0;\n",
              "\n",
              "      const channel = await google.colab.kernel.comms.open(id);\n",
              "      // Send a message to notify the kernel that we're ready.\n",
              "      channel.send({})\n",
              "\n",
              "      for await (const message of channel.messages) {\n",
              "        // Send a message to notify the kernel that we're ready.\n",
              "        channel.send({})\n",
              "        if (message.buffers) {\n",
              "          for (const buffer of message.buffers) {\n",
              "            buffers.push(buffer);\n",
              "            downloaded += buffer.byteLength;\n",
              "            progress.value = downloaded;\n",
              "          }\n",
              "        }\n",
              "      }\n",
              "      const blob = new Blob(buffers, {type: 'application/binary'});\n",
              "      const a = document.createElement('a');\n",
              "      a.href = window.URL.createObjectURL(blob);\n",
              "      a.download = filename;\n",
              "      div.appendChild(a);\n",
              "      a.click();\n",
              "      div.remove();\n",
              "    }\n",
              "  "
            ]
          },
          "metadata": {}
        },
        {
          "output_type": "display_data",
          "data": {
            "text/plain": [
              "<IPython.core.display.Javascript object>"
            ],
            "application/javascript": [
              "download(\"download_a96cce8e-2578-4bdd-bcac-69d66d776c49\", \"results_all_be_features_rmse_and_predictions.csv\", 16027)"
            ]
          },
          "metadata": {}
        }
      ]
    },
    {
      "cell_type": "code",
      "source": [
        "results_all_be_features_rmse_and_predictions = pd.read_csv('results_all_be_features_rmse_and_predictions.csv')\n",
        "results_all_be_features_rmse_and_predictions = pd.DataFrame(results_all_be_features_rmse_and_predictions)"
      ],
      "metadata": {
        "id": "m8gr_R5zHpN4"
      },
      "execution_count": null,
      "outputs": []
    },
    {
      "cell_type": "markdown",
      "source": [
        "# Random Forest Model Discretionary Selected Features"
      ],
      "metadata": {
        "id": "q1bKTCye_Lmy"
      }
    },
    {
      "cell_type": "markdown",
      "source": [
        "## Basic Random Forest Model"
      ],
      "metadata": {
        "id": "zR1v610SHkkG"
      }
    },
    {
      "cell_type": "code",
      "source": [
        "df = master_df[['Shifted Adj Close','dividendsPaid', '^VIX', 'ivmean30', 'ivput270', 'Grade', 'weightedScore', 'revenue', 'netIncome',\n",
        "              'totalAssets', 'eps', 'operatingCashFlowPerShare', 'freeCashFlowPerShare','Surprise', 'congress_net_trade',\n",
        "               'Sentiment', 'stocktwitsSentiment', 'twitterSentiment', 'news_sentimentScore', 'Dividend_y',\n",
        "                'netProfitMargin', 'returnOnEquity', 'ebitda', 'roic']]\n",
        "df = df[253:]\n",
        "last_features_row = df.drop(columns=['Shifted Adj Close']).iloc[-1].values.reshape(1, -1)"
      ],
      "metadata": {
        "id": "NzV5hSWxDWRl"
      },
      "execution_count": null,
      "outputs": []
    },
    {
      "cell_type": "code",
      "execution_count": null,
      "metadata": {
        "colab": {
          "base_uri": "https://localhost:8080/"
        },
        "id": "Rp0OC3lcHGAg",
        "outputId": "2bc6cb3c-6014-4ad0-e1ff-67720d0bc484"
      },
      "outputs": [
        {
          "output_type": "stream",
          "name": "stderr",
          "text": [
            "100%|██████████| 5/5 [02:33<00:00, 30.79s/it]"
          ]
        },
        {
          "output_type": "stream",
          "name": "stdout",
          "text": [
            "Average RMSE: 43.1642011637954\n"
          ]
        },
        {
          "output_type": "stream",
          "name": "stderr",
          "text": [
            "\n"
          ]
        }
      ],
      "source": [
        "X = df.drop(columns=['Shifted Adj Close'])\n",
        "y = df['Shifted Adj Close']\n",
        "\n",
        "# Initialize TimeSeriesSplit\n",
        "tscv = TimeSeriesSplit(n_splits=5)\n",
        "\n",
        "# Placeholder list to store RMSE for each fold\n",
        "rmse_scores = []\n",
        "\n",
        "# Placeholder for feature importances\n",
        "feature_importances = None\n",
        "\n",
        "for train_index, test_index in tqdm(tscv.split(X), total=tscv.n_splits):\n",
        "  X_train, X_test = X.iloc[train_index], X.iloc[test_index]\n",
        "  y_train, y_test = y.iloc[train_index], y.iloc[test_index]\n",
        "\n",
        "  # Train the model\n",
        "  model = RandomForestRegressor(n_estimators=10000, random_state=42)\n",
        "  model.fit(X_train, y_train)\n",
        "\n",
        "  # Make predictions\n",
        "  y_pred = model.predict(X_test)\n",
        "\n",
        "  # Compute and store RMSE for the current fold\n",
        "  rmse_scores.append(np.sqrt(mean_squared_error(y_test, y_pred)))\n",
        "\n",
        "  feature_importances = pd.Series(model.feature_importances_, index=X.columns)\n",
        "\n",
        "# Average RMSE across folds\n",
        "average_rmse = np.mean(rmse_scores)\n",
        "print(f\"Average RMSE: {average_rmse}\")\n"
      ]
    },
    {
      "cell_type": "code",
      "execution_count": null,
      "metadata": {
        "colab": {
          "base_uri": "https://localhost:8080/"
        },
        "id": "xcwIfyBGHGAp",
        "outputId": "e779f488-d6ea-47db-91ca-03cfac9627a3"
      },
      "outputs": [
        {
          "output_type": "execute_result",
          "data": {
            "text/plain": [
              "eps                 0.220288\n",
              "netIncome           0.218502\n",
              "twitterSentiment    0.215219\n",
              "netProfitMargin     0.106305\n",
              "totalAssets         0.071295\n",
              "returnOnEquity      0.031568\n",
              "ebitda              0.023007\n",
              "revenue             0.022562\n",
              "dtype: float64"
            ]
          },
          "metadata": {},
          "execution_count": 98
        }
      ],
      "source": [
        "sorted_feature_importances = feature_importances.sort_values(ascending=False)\n",
        "top_eight_features = sorted_feature_importances[0:8]\n",
        "top_eight_features"
      ]
    },
    {
      "cell_type": "code",
      "execution_count": null,
      "metadata": {
        "colab": {
          "base_uri": "https://localhost:8080/"
        },
        "id": "idEgdTj2HGAp",
        "outputId": "61b0429d-13fb-4713-9422-cf7fe9bee1e0"
      },
      "outputs": [
        {
          "output_type": "stream",
          "name": "stderr",
          "text": [
            "/usr/local/lib/python3.10/dist-packages/sklearn/base.py:439: UserWarning: X does not have valid feature names, but RandomForestRegressor was fitted with feature names\n",
            "  warnings.warn(\n"
          ]
        },
        {
          "output_type": "stream",
          "name": "stdout",
          "text": [
            "Next day predicted 'Adj Close': 331.25040352478027\n"
          ]
        }
      ],
      "source": [
        "next_day_prediction = model.predict((last_features_row))\n",
        "\n",
        "print(f\"Next day predicted 'Adj Close': {next_day_prediction[0]}\")"
      ]
    },
    {
      "cell_type": "code",
      "source": [
        "rmse_df_selected_basic = pd.DataFrame({'RMSE Scores': [average_rmse]})\n",
        "rmse_df_selected_basic.to_csv('results_selected_basic_rmse_scores.csv', index=False)\n",
        "files.download('results_selected_basic_rmse_scores.csv')\n",
        "\n",
        "# Feature importances\n",
        "sorted_feature_importances.to_csv('results_selected_basic_sorted_feature_importances.csv', index=True)\n",
        "files.download('results_selected_basic_sorted_feature_importances.csv')\n",
        "\n",
        "# Price prediction\n",
        "predictions_df = pd.DataFrame(next_day_prediction, columns=['Prediction'])\n",
        "predictions_df.to_csv('results_selected_basic_random_forest_prediction.csv', index=True)\n",
        "files.download('results_selected_basic_random_forest_prediction.csv')"
      ],
      "metadata": {
        "colab": {
          "base_uri": "https://localhost:8080/",
          "height": 17
        },
        "id": "odGe2YNRWO1G",
        "outputId": "2a9a3103-4797-45e4-ca1e-1a5df39d186f"
      },
      "execution_count": null,
      "outputs": [
        {
          "output_type": "display_data",
          "data": {
            "text/plain": [
              "<IPython.core.display.Javascript object>"
            ],
            "application/javascript": [
              "\n",
              "    async function download(id, filename, size) {\n",
              "      if (!google.colab.kernel.accessAllowed) {\n",
              "        return;\n",
              "      }\n",
              "      const div = document.createElement('div');\n",
              "      const label = document.createElement('label');\n",
              "      label.textContent = `Downloading \"${filename}\": `;\n",
              "      div.appendChild(label);\n",
              "      const progress = document.createElement('progress');\n",
              "      progress.max = size;\n",
              "      div.appendChild(progress);\n",
              "      document.body.appendChild(div);\n",
              "\n",
              "      const buffers = [];\n",
              "      let downloaded = 0;\n",
              "\n",
              "      const channel = await google.colab.kernel.comms.open(id);\n",
              "      // Send a message to notify the kernel that we're ready.\n",
              "      channel.send({})\n",
              "\n",
              "      for await (const message of channel.messages) {\n",
              "        // Send a message to notify the kernel that we're ready.\n",
              "        channel.send({})\n",
              "        if (message.buffers) {\n",
              "          for (const buffer of message.buffers) {\n",
              "            buffers.push(buffer);\n",
              "            downloaded += buffer.byteLength;\n",
              "            progress.value = downloaded;\n",
              "          }\n",
              "        }\n",
              "      }\n",
              "      const blob = new Blob(buffers, {type: 'application/binary'});\n",
              "      const a = document.createElement('a');\n",
              "      a.href = window.URL.createObjectURL(blob);\n",
              "      a.download = filename;\n",
              "      div.appendChild(a);\n",
              "      a.click();\n",
              "      div.remove();\n",
              "    }\n",
              "  "
            ]
          },
          "metadata": {}
        },
        {
          "output_type": "display_data",
          "data": {
            "text/plain": [
              "<IPython.core.display.Javascript object>"
            ],
            "application/javascript": [
              "download(\"download_d74ad12a-5e2d-4307-a8b0-a0311173d2b5\", \"results_selected_basic_rmse_scores.csv\", 29)"
            ]
          },
          "metadata": {}
        },
        {
          "output_type": "display_data",
          "data": {
            "text/plain": [
              "<IPython.core.display.Javascript object>"
            ],
            "application/javascript": [
              "\n",
              "    async function download(id, filename, size) {\n",
              "      if (!google.colab.kernel.accessAllowed) {\n",
              "        return;\n",
              "      }\n",
              "      const div = document.createElement('div');\n",
              "      const label = document.createElement('label');\n",
              "      label.textContent = `Downloading \"${filename}\": `;\n",
              "      div.appendChild(label);\n",
              "      const progress = document.createElement('progress');\n",
              "      progress.max = size;\n",
              "      div.appendChild(progress);\n",
              "      document.body.appendChild(div);\n",
              "\n",
              "      const buffers = [];\n",
              "      let downloaded = 0;\n",
              "\n",
              "      const channel = await google.colab.kernel.comms.open(id);\n",
              "      // Send a message to notify the kernel that we're ready.\n",
              "      channel.send({})\n",
              "\n",
              "      for await (const message of channel.messages) {\n",
              "        // Send a message to notify the kernel that we're ready.\n",
              "        channel.send({})\n",
              "        if (message.buffers) {\n",
              "          for (const buffer of message.buffers) {\n",
              "            buffers.push(buffer);\n",
              "            downloaded += buffer.byteLength;\n",
              "            progress.value = downloaded;\n",
              "          }\n",
              "        }\n",
              "      }\n",
              "      const blob = new Blob(buffers, {type: 'application/binary'});\n",
              "      const a = document.createElement('a');\n",
              "      a.href = window.URL.createObjectURL(blob);\n",
              "      a.download = filename;\n",
              "      div.appendChild(a);\n",
              "      a.click();\n",
              "      div.remove();\n",
              "    }\n",
              "  "
            ]
          },
          "metadata": {}
        },
        {
          "output_type": "display_data",
          "data": {
            "text/plain": [
              "<IPython.core.display.Javascript object>"
            ],
            "application/javascript": [
              "download(\"download_dcced639-ef95-442b-9e69-9f297d9d0de0\", \"results_selected_basic_sorted_feature_importances.csv\", 758)"
            ]
          },
          "metadata": {}
        },
        {
          "output_type": "display_data",
          "data": {
            "text/plain": [
              "<IPython.core.display.Javascript object>"
            ],
            "application/javascript": [
              "\n",
              "    async function download(id, filename, size) {\n",
              "      if (!google.colab.kernel.accessAllowed) {\n",
              "        return;\n",
              "      }\n",
              "      const div = document.createElement('div');\n",
              "      const label = document.createElement('label');\n",
              "      label.textContent = `Downloading \"${filename}\": `;\n",
              "      div.appendChild(label);\n",
              "      const progress = document.createElement('progress');\n",
              "      progress.max = size;\n",
              "      div.appendChild(progress);\n",
              "      document.body.appendChild(div);\n",
              "\n",
              "      const buffers = [];\n",
              "      let downloaded = 0;\n",
              "\n",
              "      const channel = await google.colab.kernel.comms.open(id);\n",
              "      // Send a message to notify the kernel that we're ready.\n",
              "      channel.send({})\n",
              "\n",
              "      for await (const message of channel.messages) {\n",
              "        // Send a message to notify the kernel that we're ready.\n",
              "        channel.send({})\n",
              "        if (message.buffers) {\n",
              "          for (const buffer of message.buffers) {\n",
              "            buffers.push(buffer);\n",
              "            downloaded += buffer.byteLength;\n",
              "            progress.value = downloaded;\n",
              "          }\n",
              "        }\n",
              "      }\n",
              "      const blob = new Blob(buffers, {type: 'application/binary'});\n",
              "      const a = document.createElement('a');\n",
              "      a.href = window.URL.createObjectURL(blob);\n",
              "      a.download = filename;\n",
              "      div.appendChild(a);\n",
              "      a.click();\n",
              "      div.remove();\n",
              "    }\n",
              "  "
            ]
          },
          "metadata": {}
        },
        {
          "output_type": "display_data",
          "data": {
            "text/plain": [
              "<IPython.core.display.Javascript object>"
            ],
            "application/javascript": [
              "download(\"download_2588297e-0e18-4c7f-b96b-0f8b5b36ec60\", \"results_selected_basic_random_forest_prediction.csv\", 33)"
            ]
          },
          "metadata": {}
        }
      ]
    },
    {
      "cell_type": "code",
      "source": [
        "rmse_df_selected_basic = pd.read_csv('results_selected_basic_rmse_scores.csv')\n",
        "rmse_df_selected_basic = pd.DataFrame(rmse_df_selected_basic)"
      ],
      "metadata": {
        "id": "I3dwdA_qIhiF"
      },
      "execution_count": null,
      "outputs": []
    },
    {
      "cell_type": "markdown",
      "source": [
        "## Train with Top Features"
      ],
      "metadata": {
        "id": "7e3JK1AUJfXw"
      }
    },
    {
      "cell_type": "code",
      "execution_count": null,
      "metadata": {
        "colab": {
          "base_uri": "https://localhost:8080/"
        },
        "outputId": "b81578ef-8d3c-433a-cd62-d9dabe679c27",
        "id": "7fD3LxfqJTYU"
      },
      "outputs": [
        {
          "output_type": "stream",
          "name": "stderr",
          "text": [
            "100%|██████████| 8/8 [06:43<00:00, 50.46s/it]\n",
            "/usr/local/lib/python3.10/dist-packages/sklearn/base.py:439: UserWarning: X does not have valid feature names, but RandomForestRegressor was fitted with feature names\n",
            "  warnings.warn(\n"
          ]
        }
      ],
      "source": [
        "selected_train_top_features_rmse_scores_list = train_with_top_features_and_predict(X, y, top_eight_features)"
      ]
    },
    {
      "cell_type": "code",
      "execution_count": null,
      "metadata": {
        "colab": {
          "base_uri": "https://localhost:8080/"
        },
        "outputId": "a726e69a-388c-4716-f747-ad0569309686",
        "id": "XPXzdSK7JTYV"
      },
      "outputs": [
        {
          "output_type": "stream",
          "name": "stdout",
          "text": [
            "RMSE scores for models with incremental top features: ([38.43422975359275, 38.26421569345608, 34.40223457698411, 37.47378480587942, 43.51139570894516, 43.836223845872134, 45.743598893183304, 45.86943292878883], 400.7212232870456, RandomForestRegressor(n_estimators=7000, random_state=42))\n"
          ]
        }
      ],
      "source": [
        "print(\"RMSE scores for models with incremental top features:\", selected_train_top_features_rmse_scores_list)"
      ]
    },
    {
      "cell_type": "code",
      "source": [
        "num_top_features = list(range(1, len(top_eight_features) + 1))\n",
        "\n",
        "# Create a DataFrame for RMSE scores\n",
        "rmse_df_selected_train_top_features = pd.DataFrame({\n",
        "    'Num_Top_Features': num_top_features,\n",
        "    'RMSE_Scores': selected_train_top_features_rmse_scores_list[0]\n",
        "})\n",
        "\n",
        "# Add the next_day_pred as a new column (repeating the value for all rows for demonstration)\n",
        "rmse_df_selected_train_top_features['Next_Day_Prediction based on final model'] = next_day_pred\n",
        "\n",
        "rmse_df_selected_train_top_features.to_csv('results_selected_train_top_features_rmse_and_prediction.csv', index=False)\n",
        "files.download('results_selected_train_top_features_rmse_and_prediction.csv')\n"
      ],
      "metadata": {
        "colab": {
          "base_uri": "https://localhost:8080/",
          "height": 17
        },
        "id": "KGLFDip2Z5i4",
        "outputId": "63afda0b-671b-4590-ac7c-7d3fb57f7d5e"
      },
      "execution_count": null,
      "outputs": [
        {
          "output_type": "display_data",
          "data": {
            "text/plain": [
              "<IPython.core.display.Javascript object>"
            ],
            "application/javascript": [
              "\n",
              "    async function download(id, filename, size) {\n",
              "      if (!google.colab.kernel.accessAllowed) {\n",
              "        return;\n",
              "      }\n",
              "      const div = document.createElement('div');\n",
              "      const label = document.createElement('label');\n",
              "      label.textContent = `Downloading \"${filename}\": `;\n",
              "      div.appendChild(label);\n",
              "      const progress = document.createElement('progress');\n",
              "      progress.max = size;\n",
              "      div.appendChild(progress);\n",
              "      document.body.appendChild(div);\n",
              "\n",
              "      const buffers = [];\n",
              "      let downloaded = 0;\n",
              "\n",
              "      const channel = await google.colab.kernel.comms.open(id);\n",
              "      // Send a message to notify the kernel that we're ready.\n",
              "      channel.send({})\n",
              "\n",
              "      for await (const message of channel.messages) {\n",
              "        // Send a message to notify the kernel that we're ready.\n",
              "        channel.send({})\n",
              "        if (message.buffers) {\n",
              "          for (const buffer of message.buffers) {\n",
              "            buffers.push(buffer);\n",
              "            downloaded += buffer.byteLength;\n",
              "            progress.value = downloaded;\n",
              "          }\n",
              "        }\n",
              "      }\n",
              "      const blob = new Blob(buffers, {type: 'application/binary'});\n",
              "      const a = document.createElement('a');\n",
              "      a.href = window.URL.createObjectURL(blob);\n",
              "      a.download = filename;\n",
              "      div.appendChild(a);\n",
              "      a.click();\n",
              "      div.remove();\n",
              "    }\n",
              "  "
            ]
          },
          "metadata": {}
        },
        {
          "output_type": "display_data",
          "data": {
            "text/plain": [
              "<IPython.core.display.Javascript object>"
            ],
            "application/javascript": [
              "download(\"download_d9c72196-ef7b-469e-90f2-3e5af31cf785\", \"results_selected_train_top_features_rmse_and_prediction.csv\", 384)"
            ]
          },
          "metadata": {}
        }
      ]
    },
    {
      "cell_type": "code",
      "source": [
        "rmse_df_selected_train_top_features = pd.read_csv('results_selected_train_top_features_rmse_and_prediction.csv')\n",
        "rmse_df_selected_train_top_features = pd.DataFrame(rmse_df_selected_train_top_features)"
      ],
      "metadata": {
        "id": "t7RqQtY-Jlu_"
      },
      "execution_count": null,
      "outputs": []
    },
    {
      "cell_type": "markdown",
      "source": [
        "## Random Forest With Grid Search CV to get Top Features"
      ],
      "metadata": {
        "id": "f74ZLoNCI4tg"
      }
    },
    {
      "cell_type": "code",
      "source": [
        "# Model with GridSearchCV\n",
        "X = df.drop(columns=['Shifted Adj Close'])\n",
        "y = df['Shifted Adj Close']\n",
        "\n",
        "# Define the parameter grid to search\n",
        "param_grid = {\n",
        "    'n_estimators': [1500, 3000, 6000],  # List of numbers of trees\n",
        "    'max_depth': [None, 30, 120],  # Maximum depth of trees, including 'None' for full growth\n",
        "    'min_samples_split': [2, 12, 20], # Minimum number of samples required to split a node\n",
        "    'min_samples_leaf': [1, 3, 8],    # Minimum number of samples required at each leaf node\n",
        "    'max_features': ['auto', 'sqrt', 40]  # Number of features to consider at every split\n",
        "}\n",
        "\n",
        "# Initialize the model\n",
        "model = RandomForestRegressor(random_state=42)\n",
        "\n",
        "tscv = TimeSeriesSplit(n_splits=5)\n",
        "\n",
        "# Define RMSE as the scoring criteria\n",
        "rmse_scorer = make_scorer(mean_squared_error, greater_is_better=False, squared=False)\n",
        "\n",
        "# GridSearchCV with TimeSeriesSplit cross-validation\n",
        "grid_search = GridSearchCV(estimator=model, param_grid=param_grid, cv=tscv, scoring=rmse_scorer, verbose=1, n_jobs=-1)\n",
        "\n",
        "# Fit the grid search to the data\n",
        "grid_search.fit(X, y)\n",
        "\n",
        "# Access the best estimator\n",
        "best_model = grid_search.best_estimator_\n",
        "\n",
        "# Feature importances from the best model\n",
        "feature_importances = pd.Series(best_model.feature_importances_, index=X.columns)\n",
        "\n",
        "# Sort feature importances in descending order and select top 10\n",
        "sorted_feature_importances = feature_importances.sort_values(ascending=False)\n",
        "top_ten_features = sorted_feature_importances[:10]\n",
        "\n",
        "last_features_row = X.iloc[-1].values.reshape(1, -1)\n",
        "\n",
        "next_day_prediction = best_model.predict(last_features_row)\n",
        "\n",
        "# Print the results\n",
        "print(\"Best parameters:\", grid_search.best_params_)\n",
        "print(\"Best RMSE score:\", -grid_search.best_score_)\n",
        "print(f\"Top 10 features:\\n{top_ten_features}\")\n",
        "print(\"Next day prediction:\", next_day_prediction[0])"
      ],
      "metadata": {
        "id": "WXIntuWcI_Hw"
      },
      "execution_count": null,
      "outputs": []
    },
    {
      "cell_type": "code",
      "source": [
        "# RMSE score\n",
        "rmse_scores = -grid_search.best_score_\n",
        "rmse_df = pd.DataFrame({'RMSE Scores': [rmse_scores]})\n",
        "rmse_df.to_csv('results_selected_gs_rmse_scores.csv', index=False)\n",
        "files.download('results_selected_gs_rmse_scores.csv')\n",
        "\n",
        "# Feature importances\n",
        "sorted_feature_importances.to_csv('results_selected_gs_sorted_feature_importances.csv', index=True)\n",
        "files.download('results_selected_gs_sorted_feature_importances.csv')\n",
        "\n",
        "# Price prediction\n",
        "predictions_df = pd.DataFrame(next_day_prediction, columns=['Prediction'])\n",
        "predictions_df.to_csv('results_selected_gs_prediction.csv', index=True)\n",
        "files.download('results_selected_gs_prediction.csv')"
      ],
      "metadata": {
        "colab": {
          "base_uri": "https://localhost:8080/",
          "height": 17
        },
        "id": "jGfpp1y8crN9",
        "outputId": "3326eccd-4df6-4a40-8b45-6ad587d2a0b6"
      },
      "execution_count": null,
      "outputs": [
        {
          "output_type": "display_data",
          "data": {
            "text/plain": [
              "<IPython.core.display.Javascript object>"
            ],
            "application/javascript": [
              "\n",
              "    async function download(id, filename, size) {\n",
              "      if (!google.colab.kernel.accessAllowed) {\n",
              "        return;\n",
              "      }\n",
              "      const div = document.createElement('div');\n",
              "      const label = document.createElement('label');\n",
              "      label.textContent = `Downloading \"${filename}\": `;\n",
              "      div.appendChild(label);\n",
              "      const progress = document.createElement('progress');\n",
              "      progress.max = size;\n",
              "      div.appendChild(progress);\n",
              "      document.body.appendChild(div);\n",
              "\n",
              "      const buffers = [];\n",
              "      let downloaded = 0;\n",
              "\n",
              "      const channel = await google.colab.kernel.comms.open(id);\n",
              "      // Send a message to notify the kernel that we're ready.\n",
              "      channel.send({})\n",
              "\n",
              "      for await (const message of channel.messages) {\n",
              "        // Send a message to notify the kernel that we're ready.\n",
              "        channel.send({})\n",
              "        if (message.buffers) {\n",
              "          for (const buffer of message.buffers) {\n",
              "            buffers.push(buffer);\n",
              "            downloaded += buffer.byteLength;\n",
              "            progress.value = downloaded;\n",
              "          }\n",
              "        }\n",
              "      }\n",
              "      const blob = new Blob(buffers, {type: 'application/binary'});\n",
              "      const a = document.createElement('a');\n",
              "      a.href = window.URL.createObjectURL(blob);\n",
              "      a.download = filename;\n",
              "      div.appendChild(a);\n",
              "      a.click();\n",
              "      div.remove();\n",
              "    }\n",
              "  "
            ]
          },
          "metadata": {}
        },
        {
          "output_type": "display_data",
          "data": {
            "text/plain": [
              "<IPython.core.display.Javascript object>"
            ],
            "application/javascript": [
              "download(\"download_437cf015-a9eb-48f0-9cc9-189694387c29\", \"results_selected_gs_rmse_scores.csv\", 31)"
            ]
          },
          "metadata": {}
        },
        {
          "output_type": "display_data",
          "data": {
            "text/plain": [
              "<IPython.core.display.Javascript object>"
            ],
            "application/javascript": [
              "\n",
              "    async function download(id, filename, size) {\n",
              "      if (!google.colab.kernel.accessAllowed) {\n",
              "        return;\n",
              "      }\n",
              "      const div = document.createElement('div');\n",
              "      const label = document.createElement('label');\n",
              "      label.textContent = `Downloading \"${filename}\": `;\n",
              "      div.appendChild(label);\n",
              "      const progress = document.createElement('progress');\n",
              "      progress.max = size;\n",
              "      div.appendChild(progress);\n",
              "      document.body.appendChild(div);\n",
              "\n",
              "      const buffers = [];\n",
              "      let downloaded = 0;\n",
              "\n",
              "      const channel = await google.colab.kernel.comms.open(id);\n",
              "      // Send a message to notify the kernel that we're ready.\n",
              "      channel.send({})\n",
              "\n",
              "      for await (const message of channel.messages) {\n",
              "        // Send a message to notify the kernel that we're ready.\n",
              "        channel.send({})\n",
              "        if (message.buffers) {\n",
              "          for (const buffer of message.buffers) {\n",
              "            buffers.push(buffer);\n",
              "            downloaded += buffer.byteLength;\n",
              "            progress.value = downloaded;\n",
              "          }\n",
              "        }\n",
              "      }\n",
              "      const blob = new Blob(buffers, {type: 'application/binary'});\n",
              "      const a = document.createElement('a');\n",
              "      a.href = window.URL.createObjectURL(blob);\n",
              "      a.download = filename;\n",
              "      div.appendChild(a);\n",
              "      a.click();\n",
              "      div.remove();\n",
              "    }\n",
              "  "
            ]
          },
          "metadata": {}
        },
        {
          "output_type": "display_data",
          "data": {
            "text/plain": [
              "<IPython.core.display.Javascript object>"
            ],
            "application/javascript": [
              "download(\"download_0e5655c6-271b-4a59-9202-ed97eb955506\", \"results_selected_gs_sorted_feature_importances.csv\", 748)"
            ]
          },
          "metadata": {}
        },
        {
          "output_type": "display_data",
          "data": {
            "text/plain": [
              "<IPython.core.display.Javascript object>"
            ],
            "application/javascript": [
              "\n",
              "    async function download(id, filename, size) {\n",
              "      if (!google.colab.kernel.accessAllowed) {\n",
              "        return;\n",
              "      }\n",
              "      const div = document.createElement('div');\n",
              "      const label = document.createElement('label');\n",
              "      label.textContent = `Downloading \"${filename}\": `;\n",
              "      div.appendChild(label);\n",
              "      const progress = document.createElement('progress');\n",
              "      progress.max = size;\n",
              "      div.appendChild(progress);\n",
              "      document.body.appendChild(div);\n",
              "\n",
              "      const buffers = [];\n",
              "      let downloaded = 0;\n",
              "\n",
              "      const channel = await google.colab.kernel.comms.open(id);\n",
              "      // Send a message to notify the kernel that we're ready.\n",
              "      channel.send({})\n",
              "\n",
              "      for await (const message of channel.messages) {\n",
              "        // Send a message to notify the kernel that we're ready.\n",
              "        channel.send({})\n",
              "        if (message.buffers) {\n",
              "          for (const buffer of message.buffers) {\n",
              "            buffers.push(buffer);\n",
              "            downloaded += buffer.byteLength;\n",
              "            progress.value = downloaded;\n",
              "          }\n",
              "        }\n",
              "      }\n",
              "      const blob = new Blob(buffers, {type: 'application/binary'});\n",
              "      const a = document.createElement('a');\n",
              "      a.href = window.URL.createObjectURL(blob);\n",
              "      a.download = filename;\n",
              "      div.appendChild(a);\n",
              "      a.click();\n",
              "      div.remove();\n",
              "    }\n",
              "  "
            ]
          },
          "metadata": {}
        },
        {
          "output_type": "display_data",
          "data": {
            "text/plain": [
              "<IPython.core.display.Javascript object>"
            ],
            "application/javascript": [
              "download(\"download_03743f94-3f79-4ad8-b74a-d8fb8ae4f347\", \"results_selected_gs_prediction.csv\", 33)"
            ]
          },
          "metadata": {}
        }
      ]
    },
    {
      "cell_type": "code",
      "source": [
        "results_selected_gs_rmse_scores = pd.read_csv('results_selected_gs_rmse_scores.csv')\n",
        "results_selected_gs_rmse_scores = pd.DataFrame(results_selected_gs_rmse_scores)"
      ],
      "metadata": {
        "id": "0NNokoxiKg7F"
      },
      "execution_count": null,
      "outputs": []
    },
    {
      "cell_type": "code",
      "source": [
        "results_selected_gs_features = pd.read_csv('results_selected_gs_sorted_feature_importances.csv')\n",
        "results_selected_gs_features = pd.DataFrame(results_selected_gs_features)"
      ],
      "metadata": {
        "id": "lNrSDrDuOhgw"
      },
      "execution_count": null,
      "outputs": []
    },
    {
      "cell_type": "code",
      "source": [
        "results_selected_gs_prediction = pd.read_csv('results_selected_gs_prediction.csv')\n",
        "results_selected_gs_prediction = pd.DataFrame(results_selected_gs_prediction)"
      ],
      "metadata": {
        "id": "zkkVBMjFm3T8"
      },
      "execution_count": null,
      "outputs": []
    },
    {
      "cell_type": "markdown",
      "source": [
        "## Random Forest with Forward Selection"
      ],
      "metadata": {
        "id": "CtSnUH4FKIsP"
      }
    },
    {
      "cell_type": "code",
      "source": [
        "X = df.drop(columns=['Shifted Adj Close'])\n",
        "y = df['Shifted Adj Close']\n",
        "\n",
        "# Split the data into training and testing sets\n",
        "tscv = TimeSeriesSplit(n_splits=5)\n",
        "\n",
        "# List to keep track of selected features and performance\n",
        "selected_features = []\n",
        "remaining_features = list(X_train.columns)\n",
        "best_score = float('inf')\n",
        "\n",
        "while remaining_features and len(selected_features) < 8:\n",
        "  score_improvement = False\n",
        "  for feature in remaining_features:\n",
        "    # Test adding the current feature\n",
        "    trial_features = selected_features + [feature]\n",
        "    trial_X = X[trial_features]\n",
        "\n",
        "    # Cross-validate the model with the current set of features\n",
        "    rmse_scores = []\n",
        "    for train_index, test_index in tscv.split(trial_X):\n",
        "      X_train, X_test = trial_X.iloc[train_index], trial_X.iloc[test_index]\n",
        "      y_train, y_test = y.iloc[train_index], y.iloc[test_index]\n",
        "\n",
        "      model = RandomForestRegressor(n_estimators=1000, random_state=42)\n",
        "      model.fit(X_train, y_train)\n",
        "      y_pred = model.predict(X_test)\n",
        "      rmse_score = np.sqrt(mean_squared_error(y_test, y_pred))\n",
        "      rmse_scores.append(rmse_score)\n",
        "\n",
        "    # Calculate the average RMSE across time-series splits\n",
        "    average_rmse = np.mean(rmse_scores)\n",
        "\n",
        "    # Check if we've improved the RMSE\n",
        "    if average_rmse < best_score:\n",
        "      best_score = average_rmse\n",
        "      best_feature = feature\n",
        "      score_improvement = True\n",
        "\n",
        "  # If a feature improves the model, add it to the selected features\n",
        "  if score_improvement:\n",
        "    selected_features.append(best_feature)\n",
        "    remaining_features.remove(best_feature)\n",
        "  else:\n",
        "    # If no improvement, exit the while loop\n",
        "    break\n",
        "\n",
        "print(\"Selected features:\", selected_features)\n",
        "print(\"Best RMSE Score:\", best_score)\n",
        "\n",
        "# Train the final model on the selected features\n",
        "# Use the last split as the hold-out test set\n",
        "train_index, test_index = list(tscv.split(X[selected_features]))[-1]\n",
        "X_train, X_test = X[selected_features].iloc[train_index], X[selected_features].iloc[test_index]\n",
        "y_train, y_test = y.iloc[train_index], y.iloc[test_index]\n",
        "\n",
        "final_model = RandomForestRegressor(n_estimators=100, random_state=42)\n",
        "final_model.fit(X_train, y_train)\n",
        "final_predictions = final_model.predict(X_test)\n",
        "final_rmse = np.sqrt(mean_squared_error(y_test, final_predictions))\n",
        "\n",
        "# Predict the next day (using the last available features)\n",
        "last_features_row = X[selected_features].iloc[-1].values.reshape(1, -1)\n",
        "next_day_prediction = final_model.predict(last_features_row)\n",
        "\n",
        "print(\"Final RMSE on the hold-out test set:\", final_rmse)\n",
        "print(\"Next day prediction:\", next_day_prediction[0])"
      ],
      "metadata": {
        "id": "0imIDR1qKQ-J"
      },
      "execution_count": null,
      "outputs": []
    },
    {
      "cell_type": "code",
      "source": [
        "results_df = pd.DataFrame({\n",
        "    'Selected_Features': selected_features,\n",
        "    'RMSE': final_rmse,\n",
        "    'Next_Day_Prediction': next_day_prediction[0]\n",
        "})\n",
        "results_selected_fs_features_rmse_and_predictions = results_df\n",
        "results_selected_fs_features_rmse_and_predictions.to_csv('results_selected_fs_features_rmse_and_predictions.csv', index=True)\n",
        "files.download('results_selected_fs_features_rmse_and_predictions.csv')"
      ],
      "metadata": {
        "colab": {
          "base_uri": "https://localhost:8080/",
          "height": 17
        },
        "id": "M6kItdOatquv",
        "outputId": "b99e9d23-92b7-4966-a7cc-e205dc5cea74"
      },
      "execution_count": null,
      "outputs": [
        {
          "output_type": "display_data",
          "data": {
            "text/plain": [
              "<IPython.core.display.Javascript object>"
            ],
            "application/javascript": [
              "\n",
              "    async function download(id, filename, size) {\n",
              "      if (!google.colab.kernel.accessAllowed) {\n",
              "        return;\n",
              "      }\n",
              "      const div = document.createElement('div');\n",
              "      const label = document.createElement('label');\n",
              "      label.textContent = `Downloading \"${filename}\": `;\n",
              "      div.appendChild(label);\n",
              "      const progress = document.createElement('progress');\n",
              "      progress.max = size;\n",
              "      div.appendChild(progress);\n",
              "      document.body.appendChild(div);\n",
              "\n",
              "      const buffers = [];\n",
              "      let downloaded = 0;\n",
              "\n",
              "      const channel = await google.colab.kernel.comms.open(id);\n",
              "      // Send a message to notify the kernel that we're ready.\n",
              "      channel.send({})\n",
              "\n",
              "      for await (const message of channel.messages) {\n",
              "        // Send a message to notify the kernel that we're ready.\n",
              "        channel.send({})\n",
              "        if (message.buffers) {\n",
              "          for (const buffer of message.buffers) {\n",
              "            buffers.push(buffer);\n",
              "            downloaded += buffer.byteLength;\n",
              "            progress.value = downloaded;\n",
              "          }\n",
              "        }\n",
              "      }\n",
              "      const blob = new Blob(buffers, {type: 'application/binary'});\n",
              "      const a = document.createElement('a');\n",
              "      a.href = window.URL.createObjectURL(blob);\n",
              "      a.download = filename;\n",
              "      div.appendChild(a);\n",
              "      a.click();\n",
              "      div.remove();\n",
              "    }\n",
              "  "
            ]
          },
          "metadata": {}
        },
        {
          "output_type": "display_data",
          "data": {
            "text/plain": [
              "<IPython.core.display.Javascript object>"
            ],
            "application/javascript": [
              "download(\"download_a0190ae1-14c0-486c-b57d-d6ae102270eb\", \"results_selected_fs_features_rmse_and_predictions.csv\", 238)"
            ]
          },
          "metadata": {}
        }
      ]
    },
    {
      "cell_type": "code",
      "source": [
        "results_selected_fs_features_rmse_and_predictions = pd.read_csv('results_selected_fs_features_rmse_and_predictions.csv')\n",
        "results_selected_fs_features_rmse_and_predictions = pd.DataFrame(results_selected_fs_features_rmse_and_predictions)"
      ],
      "metadata": {
        "id": "5ctDRuLsL2W6"
      },
      "execution_count": null,
      "outputs": []
    },
    {
      "cell_type": "markdown",
      "source": [
        "## Random Forest with Backward Elimination"
      ],
      "metadata": {
        "id": "YEINk-R1aWYF"
      }
    },
    {
      "cell_type": "code",
      "source": [
        "X = df.drop(columns=['Shifted Adj Close'])\n",
        "y = df['Shifted Adj Close']\n",
        "best_features, best_rmse, one_day_pred = rf_backward_elimination(X, y)\n",
        "\n",
        "print(\"Selected features:\", best_features)\n",
        "print(\"Final RMSE on the hold-out test set:\", best_rmse)\n",
        "print(\"Next day prediction:\", one_day_pred)\n"
      ],
      "metadata": {
        "colab": {
          "base_uri": "https://localhost:8080/"
        },
        "id": "238x1NU7acop",
        "outputId": "58c6243d-dd58-4edd-f88a-26ff2be2f1a7"
      },
      "execution_count": null,
      "outputs": [
        {
          "output_type": "stream",
          "name": "stderr",
          "text": [
            "\rEvaluating features:   0%|          | 0/23 [00:00<?, ?it/s]"
          ]
        },
        {
          "output_type": "stream",
          "name": "stdout",
          "text": [
            "Processing dividendsPaid...\n"
          ]
        },
        {
          "output_type": "stream",
          "name": "stderr",
          "text": [
            "\rEvaluating features:   4%|▍         | 1/23 [00:01<00:36,  1.68s/it]"
          ]
        },
        {
          "output_type": "stream",
          "name": "stdout",
          "text": [
            "Processing ^VIX...\n"
          ]
        },
        {
          "output_type": "stream",
          "name": "stderr",
          "text": [
            "\rEvaluating features:   9%|▊         | 2/23 [00:03<00:33,  1.59s/it]"
          ]
        },
        {
          "output_type": "stream",
          "name": "stdout",
          "text": [
            "Processing ivmean30...\n"
          ]
        },
        {
          "output_type": "stream",
          "name": "stderr",
          "text": [
            "\rEvaluating features:  13%|█▎        | 3/23 [00:04<00:30,  1.55s/it]"
          ]
        },
        {
          "output_type": "stream",
          "name": "stdout",
          "text": [
            "Processing ivput270...\n"
          ]
        },
        {
          "output_type": "stream",
          "name": "stderr",
          "text": [
            "\rEvaluating features:  17%|█▋        | 4/23 [00:06<00:28,  1.51s/it]"
          ]
        },
        {
          "output_type": "stream",
          "name": "stdout",
          "text": [
            "Processing Grade...\n"
          ]
        },
        {
          "output_type": "stream",
          "name": "stderr",
          "text": [
            "\rEvaluating features:  22%|██▏       | 5/23 [00:07<00:27,  1.52s/it]"
          ]
        },
        {
          "output_type": "stream",
          "name": "stdout",
          "text": [
            "Processing weightedScore...\n"
          ]
        },
        {
          "output_type": "stream",
          "name": "stderr",
          "text": [
            "\rEvaluating features:  26%|██▌       | 6/23 [00:09<00:25,  1.52s/it]"
          ]
        },
        {
          "output_type": "stream",
          "name": "stdout",
          "text": [
            "Processing revenue...\n"
          ]
        },
        {
          "output_type": "stream",
          "name": "stderr",
          "text": [
            "\rEvaluating features:  30%|███       | 7/23 [00:10<00:24,  1.51s/it]"
          ]
        },
        {
          "output_type": "stream",
          "name": "stdout",
          "text": [
            "Processing netIncome...\n"
          ]
        },
        {
          "output_type": "stream",
          "name": "stderr",
          "text": [
            "\rEvaluating features:  35%|███▍      | 8/23 [00:12<00:22,  1.51s/it]"
          ]
        },
        {
          "output_type": "stream",
          "name": "stdout",
          "text": [
            "Processing totalAssets...\n"
          ]
        },
        {
          "output_type": "stream",
          "name": "stderr",
          "text": [
            "\rEvaluating features:  39%|███▉      | 9/23 [00:13<00:20,  1.49s/it]"
          ]
        },
        {
          "output_type": "stream",
          "name": "stdout",
          "text": [
            "Processing eps...\n"
          ]
        },
        {
          "output_type": "stream",
          "name": "stderr",
          "text": [
            "\rEvaluating features:  43%|████▎     | 10/23 [00:15<00:19,  1.50s/it]"
          ]
        },
        {
          "output_type": "stream",
          "name": "stdout",
          "text": [
            "Processing operatingCashFlowPerShare...\n"
          ]
        },
        {
          "output_type": "stream",
          "name": "stderr",
          "text": [
            "\rEvaluating features:  48%|████▊     | 11/23 [00:16<00:17,  1.49s/it]"
          ]
        },
        {
          "output_type": "stream",
          "name": "stdout",
          "text": [
            "Processing freeCashFlowPerShare...\n"
          ]
        },
        {
          "output_type": "stream",
          "name": "stderr",
          "text": [
            "\rEvaluating features:  52%|█████▏    | 12/23 [00:18<00:16,  1.47s/it]"
          ]
        },
        {
          "output_type": "stream",
          "name": "stdout",
          "text": [
            "Processing Surprise...\n"
          ]
        },
        {
          "output_type": "stream",
          "name": "stderr",
          "text": [
            "\rEvaluating features:  57%|█████▋    | 13/23 [00:19<00:14,  1.48s/it]"
          ]
        },
        {
          "output_type": "stream",
          "name": "stdout",
          "text": [
            "Processing congress_net_trade...\n"
          ]
        },
        {
          "output_type": "stream",
          "name": "stderr",
          "text": [
            "\rEvaluating features:  61%|██████    | 14/23 [00:21<00:13,  1.49s/it]"
          ]
        },
        {
          "output_type": "stream",
          "name": "stdout",
          "text": [
            "Processing Sentiment...\n"
          ]
        },
        {
          "output_type": "stream",
          "name": "stderr",
          "text": [
            "\rEvaluating features:  65%|██████▌   | 15/23 [00:22<00:12,  1.50s/it]"
          ]
        },
        {
          "output_type": "stream",
          "name": "stdout",
          "text": [
            "Processing stocktwitsSentiment...\n"
          ]
        },
        {
          "output_type": "stream",
          "name": "stderr",
          "text": [
            "\rEvaluating features:  70%|██████▉   | 16/23 [00:24<00:10,  1.49s/it]"
          ]
        },
        {
          "output_type": "stream",
          "name": "stdout",
          "text": [
            "Processing twitterSentiment...\n"
          ]
        },
        {
          "output_type": "stream",
          "name": "stderr",
          "text": [
            "\rEvaluating features:  74%|███████▍  | 17/23 [00:25<00:08,  1.50s/it]"
          ]
        },
        {
          "output_type": "stream",
          "name": "stdout",
          "text": [
            "Processing news_sentimentScore...\n"
          ]
        },
        {
          "output_type": "stream",
          "name": "stderr",
          "text": [
            "\rEvaluating features:  78%|███████▊  | 18/23 [00:27<00:07,  1.50s/it]"
          ]
        },
        {
          "output_type": "stream",
          "name": "stdout",
          "text": [
            "Processing Dividend_y...\n"
          ]
        },
        {
          "output_type": "stream",
          "name": "stderr",
          "text": [
            "\rEvaluating features:  83%|████████▎ | 19/23 [00:28<00:06,  1.51s/it]"
          ]
        },
        {
          "output_type": "stream",
          "name": "stdout",
          "text": [
            "Processing netProfitMargin...\n"
          ]
        },
        {
          "output_type": "stream",
          "name": "stderr",
          "text": [
            "\rEvaluating features:  87%|████████▋ | 20/23 [00:30<00:04,  1.49s/it]"
          ]
        },
        {
          "output_type": "stream",
          "name": "stdout",
          "text": [
            "Processing returnOnEquity...\n"
          ]
        },
        {
          "output_type": "stream",
          "name": "stderr",
          "text": [
            "\rEvaluating features:  91%|█████████▏| 21/23 [00:31<00:02,  1.48s/it]"
          ]
        },
        {
          "output_type": "stream",
          "name": "stdout",
          "text": [
            "Processing ebitda...\n"
          ]
        },
        {
          "output_type": "stream",
          "name": "stderr",
          "text": [
            "\rEvaluating features:  96%|█████████▌| 22/23 [00:33<00:01,  1.50s/it]"
          ]
        },
        {
          "output_type": "stream",
          "name": "stdout",
          "text": [
            "Processing roic...\n"
          ]
        },
        {
          "output_type": "stream",
          "name": "stderr",
          "text": [
            "Evaluating features: 100%|██████████| 23/23 [00:34<00:00,  1.50s/it]\n"
          ]
        },
        {
          "output_type": "stream",
          "name": "stdout",
          "text": [
            "Removed netProfitMargin, Best RMSE: 37.28028085855479\n"
          ]
        },
        {
          "output_type": "stream",
          "name": "stderr",
          "text": [
            "\rEvaluating features:   0%|          | 0/22 [00:00<?, ?it/s]"
          ]
        },
        {
          "output_type": "stream",
          "name": "stdout",
          "text": [
            "Processing dividendsPaid...\n"
          ]
        },
        {
          "output_type": "stream",
          "name": "stderr",
          "text": [
            "\rEvaluating features:   5%|▍         | 1/22 [00:01<00:29,  1.42s/it]"
          ]
        },
        {
          "output_type": "stream",
          "name": "stdout",
          "text": [
            "Processing ^VIX...\n"
          ]
        },
        {
          "output_type": "stream",
          "name": "stderr",
          "text": [
            "\rEvaluating features:   9%|▉         | 2/22 [00:02<00:27,  1.40s/it]"
          ]
        },
        {
          "output_type": "stream",
          "name": "stdout",
          "text": [
            "Processing ivmean30...\n"
          ]
        },
        {
          "output_type": "stream",
          "name": "stderr",
          "text": [
            "\rEvaluating features:  14%|█▎        | 3/22 [00:04<00:26,  1.39s/it]"
          ]
        },
        {
          "output_type": "stream",
          "name": "stdout",
          "text": [
            "Processing ivput270...\n"
          ]
        },
        {
          "output_type": "stream",
          "name": "stderr",
          "text": [
            "\rEvaluating features:  18%|█▊        | 4/22 [00:05<00:24,  1.38s/it]"
          ]
        },
        {
          "output_type": "stream",
          "name": "stdout",
          "text": [
            "Processing Grade...\n"
          ]
        },
        {
          "output_type": "stream",
          "name": "stderr",
          "text": [
            "\rEvaluating features:  23%|██▎       | 5/22 [00:06<00:23,  1.39s/it]"
          ]
        },
        {
          "output_type": "stream",
          "name": "stdout",
          "text": [
            "Processing weightedScore...\n"
          ]
        },
        {
          "output_type": "stream",
          "name": "stderr",
          "text": [
            "\rEvaluating features:  27%|██▋       | 6/22 [00:08<00:22,  1.40s/it]"
          ]
        },
        {
          "output_type": "stream",
          "name": "stdout",
          "text": [
            "Processing revenue...\n"
          ]
        },
        {
          "output_type": "stream",
          "name": "stderr",
          "text": [
            "\rEvaluating features:  32%|███▏      | 7/22 [00:09<00:21,  1.40s/it]"
          ]
        },
        {
          "output_type": "stream",
          "name": "stdout",
          "text": [
            "Processing netIncome...\n"
          ]
        },
        {
          "output_type": "stream",
          "name": "stderr",
          "text": [
            "\rEvaluating features:  36%|███▋      | 8/22 [00:11<00:19,  1.40s/it]"
          ]
        },
        {
          "output_type": "stream",
          "name": "stdout",
          "text": [
            "Processing totalAssets...\n"
          ]
        },
        {
          "output_type": "stream",
          "name": "stderr",
          "text": [
            "\rEvaluating features:  41%|████      | 9/22 [00:12<00:18,  1.39s/it]"
          ]
        },
        {
          "output_type": "stream",
          "name": "stdout",
          "text": [
            "Processing eps...\n"
          ]
        },
        {
          "output_type": "stream",
          "name": "stderr",
          "text": [
            "\rEvaluating features:  45%|████▌     | 10/22 [00:13<00:16,  1.39s/it]"
          ]
        },
        {
          "output_type": "stream",
          "name": "stdout",
          "text": [
            "Processing operatingCashFlowPerShare...\n"
          ]
        },
        {
          "output_type": "stream",
          "name": "stderr",
          "text": [
            "\rEvaluating features:  50%|█████     | 11/22 [00:15<00:15,  1.39s/it]"
          ]
        },
        {
          "output_type": "stream",
          "name": "stdout",
          "text": [
            "Processing freeCashFlowPerShare...\n"
          ]
        },
        {
          "output_type": "stream",
          "name": "stderr",
          "text": [
            "\rEvaluating features:  55%|█████▍    | 12/22 [00:16<00:13,  1.38s/it]"
          ]
        },
        {
          "output_type": "stream",
          "name": "stdout",
          "text": [
            "Processing Surprise...\n"
          ]
        },
        {
          "output_type": "stream",
          "name": "stderr",
          "text": [
            "\rEvaluating features:  59%|█████▉    | 13/22 [00:18<00:12,  1.39s/it]"
          ]
        },
        {
          "output_type": "stream",
          "name": "stdout",
          "text": [
            "Processing congress_net_trade...\n"
          ]
        },
        {
          "output_type": "stream",
          "name": "stderr",
          "text": [
            "\rEvaluating features:  64%|██████▎   | 14/22 [00:19<00:11,  1.39s/it]"
          ]
        },
        {
          "output_type": "stream",
          "name": "stdout",
          "text": [
            "Processing Sentiment...\n"
          ]
        },
        {
          "output_type": "stream",
          "name": "stderr",
          "text": [
            "\rEvaluating features:  68%|██████▊   | 15/22 [00:20<00:09,  1.40s/it]"
          ]
        },
        {
          "output_type": "stream",
          "name": "stdout",
          "text": [
            "Processing stocktwitsSentiment...\n"
          ]
        },
        {
          "output_type": "stream",
          "name": "stderr",
          "text": [
            "\rEvaluating features:  73%|███████▎  | 16/22 [00:22<00:08,  1.39s/it]"
          ]
        },
        {
          "output_type": "stream",
          "name": "stdout",
          "text": [
            "Processing twitterSentiment...\n"
          ]
        },
        {
          "output_type": "stream",
          "name": "stderr",
          "text": [
            "\rEvaluating features:  77%|███████▋  | 17/22 [00:23<00:07,  1.40s/it]"
          ]
        },
        {
          "output_type": "stream",
          "name": "stdout",
          "text": [
            "Processing news_sentimentScore...\n"
          ]
        },
        {
          "output_type": "stream",
          "name": "stderr",
          "text": [
            "\rEvaluating features:  82%|████████▏ | 18/22 [00:25<00:05,  1.40s/it]"
          ]
        },
        {
          "output_type": "stream",
          "name": "stdout",
          "text": [
            "Processing Dividend_y...\n"
          ]
        },
        {
          "output_type": "stream",
          "name": "stderr",
          "text": [
            "\rEvaluating features:  86%|████████▋ | 19/22 [00:26<00:04,  1.42s/it]"
          ]
        },
        {
          "output_type": "stream",
          "name": "stdout",
          "text": [
            "Processing returnOnEquity...\n"
          ]
        },
        {
          "output_type": "stream",
          "name": "stderr",
          "text": [
            "\rEvaluating features:  91%|█████████ | 20/22 [00:27<00:02,  1.41s/it]"
          ]
        },
        {
          "output_type": "stream",
          "name": "stdout",
          "text": [
            "Processing ebitda...\n"
          ]
        },
        {
          "output_type": "stream",
          "name": "stderr",
          "text": [
            "\rEvaluating features:  95%|█████████▌| 21/22 [00:29<00:01,  1.41s/it]"
          ]
        },
        {
          "output_type": "stream",
          "name": "stdout",
          "text": [
            "Processing roic...\n"
          ]
        },
        {
          "output_type": "stream",
          "name": "stderr",
          "text": [
            "Evaluating features: 100%|██████████| 22/22 [00:30<00:00,  1.40s/it]\n"
          ]
        },
        {
          "output_type": "stream",
          "name": "stdout",
          "text": [
            "Removed dividendsPaid, Best RMSE: 34.73731918510917\n"
          ]
        },
        {
          "output_type": "stream",
          "name": "stderr",
          "text": [
            "\rEvaluating features:   0%|          | 0/21 [00:00<?, ?it/s]"
          ]
        },
        {
          "output_type": "stream",
          "name": "stdout",
          "text": [
            "Processing ^VIX...\n"
          ]
        },
        {
          "output_type": "stream",
          "name": "stderr",
          "text": [
            "\rEvaluating features:   5%|▍         | 1/21 [00:01<00:26,  1.32s/it]"
          ]
        },
        {
          "output_type": "stream",
          "name": "stdout",
          "text": [
            "Processing ivmean30...\n"
          ]
        },
        {
          "output_type": "stream",
          "name": "stderr",
          "text": [
            "\rEvaluating features:  10%|▉         | 2/21 [00:02<00:25,  1.32s/it]"
          ]
        },
        {
          "output_type": "stream",
          "name": "stdout",
          "text": [
            "Processing ivput270...\n"
          ]
        },
        {
          "output_type": "stream",
          "name": "stderr",
          "text": [
            "\rEvaluating features:  14%|█▍        | 3/21 [00:03<00:23,  1.32s/it]"
          ]
        },
        {
          "output_type": "stream",
          "name": "stdout",
          "text": [
            "Processing Grade...\n"
          ]
        },
        {
          "output_type": "stream",
          "name": "stderr",
          "text": [
            "\rEvaluating features:  19%|█▉        | 4/21 [00:05<00:23,  1.36s/it]"
          ]
        },
        {
          "output_type": "stream",
          "name": "stdout",
          "text": [
            "Processing weightedScore...\n"
          ]
        },
        {
          "output_type": "stream",
          "name": "stderr",
          "text": [
            "\rEvaluating features:  24%|██▍       | 5/21 [00:06<00:21,  1.37s/it]"
          ]
        },
        {
          "output_type": "stream",
          "name": "stdout",
          "text": [
            "Processing revenue...\n"
          ]
        },
        {
          "output_type": "stream",
          "name": "stderr",
          "text": [
            "\rEvaluating features:  29%|██▊       | 6/21 [00:08<00:20,  1.38s/it]"
          ]
        },
        {
          "output_type": "stream",
          "name": "stdout",
          "text": [
            "Processing netIncome...\n"
          ]
        },
        {
          "output_type": "stream",
          "name": "stderr",
          "text": [
            "\rEvaluating features:  33%|███▎      | 7/21 [00:09<00:19,  1.38s/it]"
          ]
        },
        {
          "output_type": "stream",
          "name": "stdout",
          "text": [
            "Processing totalAssets...\n"
          ]
        },
        {
          "output_type": "stream",
          "name": "stderr",
          "text": [
            "\rEvaluating features:  38%|███▊      | 8/21 [00:10<00:17,  1.37s/it]"
          ]
        },
        {
          "output_type": "stream",
          "name": "stdout",
          "text": [
            "Processing eps...\n"
          ]
        },
        {
          "output_type": "stream",
          "name": "stderr",
          "text": [
            "\rEvaluating features:  43%|████▎     | 9/21 [00:12<00:16,  1.37s/it]"
          ]
        },
        {
          "output_type": "stream",
          "name": "stdout",
          "text": [
            "Processing operatingCashFlowPerShare...\n"
          ]
        },
        {
          "output_type": "stream",
          "name": "stderr",
          "text": [
            "\rEvaluating features:  48%|████▊     | 10/21 [00:13<00:15,  1.37s/it]"
          ]
        },
        {
          "output_type": "stream",
          "name": "stdout",
          "text": [
            "Processing freeCashFlowPerShare...\n"
          ]
        },
        {
          "output_type": "stream",
          "name": "stderr",
          "text": [
            "\rEvaluating features:  52%|█████▏    | 11/21 [00:14<00:13,  1.36s/it]"
          ]
        },
        {
          "output_type": "stream",
          "name": "stdout",
          "text": [
            "Processing Surprise...\n"
          ]
        },
        {
          "output_type": "stream",
          "name": "stderr",
          "text": [
            "\rEvaluating features:  57%|█████▋    | 12/21 [00:16<00:12,  1.37s/it]"
          ]
        },
        {
          "output_type": "stream",
          "name": "stdout",
          "text": [
            "Processing congress_net_trade...\n"
          ]
        },
        {
          "output_type": "stream",
          "name": "stderr",
          "text": [
            "\rEvaluating features:  62%|██████▏   | 13/21 [00:17<00:10,  1.37s/it]"
          ]
        },
        {
          "output_type": "stream",
          "name": "stdout",
          "text": [
            "Processing Sentiment...\n"
          ]
        },
        {
          "output_type": "stream",
          "name": "stderr",
          "text": [
            "\rEvaluating features:  67%|██████▋   | 14/21 [00:19<00:09,  1.39s/it]"
          ]
        },
        {
          "output_type": "stream",
          "name": "stdout",
          "text": [
            "Processing stocktwitsSentiment...\n"
          ]
        },
        {
          "output_type": "stream",
          "name": "stderr",
          "text": [
            "\rEvaluating features:  71%|███████▏  | 15/21 [00:20<00:08,  1.38s/it]"
          ]
        },
        {
          "output_type": "stream",
          "name": "stdout",
          "text": [
            "Processing twitterSentiment...\n"
          ]
        },
        {
          "output_type": "stream",
          "name": "stderr",
          "text": [
            "\rEvaluating features:  76%|███████▌  | 16/21 [00:21<00:06,  1.38s/it]"
          ]
        },
        {
          "output_type": "stream",
          "name": "stdout",
          "text": [
            "Processing news_sentimentScore...\n"
          ]
        },
        {
          "output_type": "stream",
          "name": "stderr",
          "text": [
            "\rEvaluating features:  81%|████████  | 17/21 [00:23<00:05,  1.38s/it]"
          ]
        },
        {
          "output_type": "stream",
          "name": "stdout",
          "text": [
            "Processing Dividend_y...\n"
          ]
        },
        {
          "output_type": "stream",
          "name": "stderr",
          "text": [
            "\rEvaluating features:  86%|████████▌ | 18/21 [00:24<00:04,  1.39s/it]"
          ]
        },
        {
          "output_type": "stream",
          "name": "stdout",
          "text": [
            "Processing returnOnEquity...\n"
          ]
        },
        {
          "output_type": "stream",
          "name": "stderr",
          "text": [
            "\rEvaluating features:  90%|█████████ | 19/21 [00:26<00:02,  1.39s/it]"
          ]
        },
        {
          "output_type": "stream",
          "name": "stdout",
          "text": [
            "Processing ebitda...\n"
          ]
        },
        {
          "output_type": "stream",
          "name": "stderr",
          "text": [
            "\rEvaluating features:  95%|█████████▌| 20/21 [00:27<00:01,  1.40s/it]"
          ]
        },
        {
          "output_type": "stream",
          "name": "stdout",
          "text": [
            "Processing roic...\n"
          ]
        },
        {
          "output_type": "stream",
          "name": "stderr",
          "text": [
            "Evaluating features: 100%|██████████| 21/21 [00:28<00:00,  1.38s/it]\n"
          ]
        },
        {
          "output_type": "stream",
          "name": "stdout",
          "text": [
            "Removed operatingCashFlowPerShare, Best RMSE: 34.0870186097859\n"
          ]
        },
        {
          "output_type": "stream",
          "name": "stderr",
          "text": [
            "\rEvaluating features:   0%|          | 0/20 [00:00<?, ?it/s]"
          ]
        },
        {
          "output_type": "stream",
          "name": "stdout",
          "text": [
            "Processing ^VIX...\n"
          ]
        },
        {
          "output_type": "stream",
          "name": "stderr",
          "text": [
            "\rEvaluating features:   5%|▌         | 1/20 [00:01<00:24,  1.28s/it]"
          ]
        },
        {
          "output_type": "stream",
          "name": "stdout",
          "text": [
            "Processing ivmean30...\n"
          ]
        },
        {
          "output_type": "stream",
          "name": "stderr",
          "text": [
            "\rEvaluating features:  10%|█         | 2/20 [00:02<00:22,  1.27s/it]"
          ]
        },
        {
          "output_type": "stream",
          "name": "stdout",
          "text": [
            "Processing ivput270...\n"
          ]
        },
        {
          "output_type": "stream",
          "name": "stderr",
          "text": [
            "\rEvaluating features:  15%|█▌        | 3/20 [00:03<00:21,  1.28s/it]"
          ]
        },
        {
          "output_type": "stream",
          "name": "stdout",
          "text": [
            "Processing Grade...\n"
          ]
        },
        {
          "output_type": "stream",
          "name": "stderr",
          "text": [
            "\rEvaluating features:  20%|██        | 4/20 [00:05<00:20,  1.30s/it]"
          ]
        },
        {
          "output_type": "stream",
          "name": "stdout",
          "text": [
            "Processing weightedScore...\n"
          ]
        },
        {
          "output_type": "stream",
          "name": "stderr",
          "text": [
            "\rEvaluating features:  25%|██▌       | 5/20 [00:06<00:19,  1.31s/it]"
          ]
        },
        {
          "output_type": "stream",
          "name": "stdout",
          "text": [
            "Processing revenue...\n"
          ]
        },
        {
          "output_type": "stream",
          "name": "stderr",
          "text": [
            "\rEvaluating features:  30%|███       | 6/20 [00:07<00:18,  1.32s/it]"
          ]
        },
        {
          "output_type": "stream",
          "name": "stdout",
          "text": [
            "Processing netIncome...\n"
          ]
        },
        {
          "output_type": "stream",
          "name": "stderr",
          "text": [
            "\rEvaluating features:  35%|███▌      | 7/20 [00:09<00:17,  1.33s/it]"
          ]
        },
        {
          "output_type": "stream",
          "name": "stdout",
          "text": [
            "Processing totalAssets...\n"
          ]
        },
        {
          "output_type": "stream",
          "name": "stderr",
          "text": [
            "\rEvaluating features:  40%|████      | 8/20 [00:10<00:15,  1.32s/it]"
          ]
        },
        {
          "output_type": "stream",
          "name": "stdout",
          "text": [
            "Processing eps...\n"
          ]
        },
        {
          "output_type": "stream",
          "name": "stderr",
          "text": [
            "\rEvaluating features:  45%|████▌     | 9/20 [00:11<00:14,  1.33s/it]"
          ]
        },
        {
          "output_type": "stream",
          "name": "stdout",
          "text": [
            "Processing freeCashFlowPerShare...\n"
          ]
        },
        {
          "output_type": "stream",
          "name": "stderr",
          "text": [
            "\rEvaluating features:  50%|█████     | 10/20 [00:13<00:13,  1.32s/it]"
          ]
        },
        {
          "output_type": "stream",
          "name": "stdout",
          "text": [
            "Processing Surprise...\n"
          ]
        },
        {
          "output_type": "stream",
          "name": "stderr",
          "text": [
            "\rEvaluating features:  55%|█████▌    | 11/20 [00:14<00:11,  1.32s/it]"
          ]
        },
        {
          "output_type": "stream",
          "name": "stdout",
          "text": [
            "Processing congress_net_trade...\n"
          ]
        },
        {
          "output_type": "stream",
          "name": "stderr",
          "text": [
            "\rEvaluating features:  60%|██████    | 12/20 [00:15<00:10,  1.32s/it]"
          ]
        },
        {
          "output_type": "stream",
          "name": "stdout",
          "text": [
            "Processing Sentiment...\n"
          ]
        },
        {
          "output_type": "stream",
          "name": "stderr",
          "text": [
            "\rEvaluating features:  65%|██████▌   | 13/20 [00:17<00:09,  1.33s/it]"
          ]
        },
        {
          "output_type": "stream",
          "name": "stdout",
          "text": [
            "Processing stocktwitsSentiment...\n"
          ]
        },
        {
          "output_type": "stream",
          "name": "stderr",
          "text": [
            "\rEvaluating features:  70%|███████   | 14/20 [00:18<00:07,  1.32s/it]"
          ]
        },
        {
          "output_type": "stream",
          "name": "stdout",
          "text": [
            "Processing twitterSentiment...\n"
          ]
        },
        {
          "output_type": "stream",
          "name": "stderr",
          "text": [
            "\rEvaluating features:  75%|███████▌  | 15/20 [00:19<00:06,  1.32s/it]"
          ]
        },
        {
          "output_type": "stream",
          "name": "stdout",
          "text": [
            "Processing news_sentimentScore...\n"
          ]
        },
        {
          "output_type": "stream",
          "name": "stderr",
          "text": [
            "\rEvaluating features:  80%|████████  | 16/20 [00:21<00:05,  1.33s/it]"
          ]
        },
        {
          "output_type": "stream",
          "name": "stdout",
          "text": [
            "Processing Dividend_y...\n"
          ]
        },
        {
          "output_type": "stream",
          "name": "stderr",
          "text": [
            "\rEvaluating features:  85%|████████▌ | 17/20 [00:22<00:03,  1.33s/it]"
          ]
        },
        {
          "output_type": "stream",
          "name": "stdout",
          "text": [
            "Processing returnOnEquity...\n"
          ]
        },
        {
          "output_type": "stream",
          "name": "stderr",
          "text": [
            "\rEvaluating features:  90%|█████████ | 18/20 [00:23<00:02,  1.33s/it]"
          ]
        },
        {
          "output_type": "stream",
          "name": "stdout",
          "text": [
            "Processing ebitda...\n"
          ]
        },
        {
          "output_type": "stream",
          "name": "stderr",
          "text": [
            "\rEvaluating features:  95%|█████████▌| 19/20 [00:25<00:01,  1.33s/it]"
          ]
        },
        {
          "output_type": "stream",
          "name": "stdout",
          "text": [
            "Processing roic...\n"
          ]
        },
        {
          "output_type": "stream",
          "name": "stderr",
          "text": [
            "Evaluating features: 100%|██████████| 20/20 [00:26<00:00,  1.32s/it]\n"
          ]
        },
        {
          "output_type": "stream",
          "name": "stdout",
          "text": [
            "Removed totalAssets, Best RMSE: 33.46828890726362\n"
          ]
        },
        {
          "output_type": "stream",
          "name": "stderr",
          "text": [
            "\rEvaluating features:   0%|          | 0/19 [00:00<?, ?it/s]"
          ]
        },
        {
          "output_type": "stream",
          "name": "stdout",
          "text": [
            "Processing ^VIX...\n"
          ]
        },
        {
          "output_type": "stream",
          "name": "stderr",
          "text": [
            "\rEvaluating features:   5%|▌         | 1/19 [00:01<00:21,  1.20s/it]"
          ]
        },
        {
          "output_type": "stream",
          "name": "stdout",
          "text": [
            "Processing ivmean30...\n"
          ]
        },
        {
          "output_type": "stream",
          "name": "stderr",
          "text": [
            "\rEvaluating features:  11%|█         | 2/19 [00:02<00:20,  1.22s/it]"
          ]
        },
        {
          "output_type": "stream",
          "name": "stdout",
          "text": [
            "Processing ivput270...\n"
          ]
        },
        {
          "output_type": "stream",
          "name": "stderr",
          "text": [
            "\rEvaluating features:  16%|█▌        | 3/19 [00:03<00:19,  1.22s/it]"
          ]
        },
        {
          "output_type": "stream",
          "name": "stdout",
          "text": [
            "Processing Grade...\n"
          ]
        },
        {
          "output_type": "stream",
          "name": "stderr",
          "text": [
            "\rEvaluating features:  21%|██        | 4/19 [00:04<00:18,  1.23s/it]"
          ]
        },
        {
          "output_type": "stream",
          "name": "stdout",
          "text": [
            "Processing weightedScore...\n"
          ]
        },
        {
          "output_type": "stream",
          "name": "stderr",
          "text": [
            "\rEvaluating features:  26%|██▋       | 5/19 [00:06<00:17,  1.24s/it]"
          ]
        },
        {
          "output_type": "stream",
          "name": "stdout",
          "text": [
            "Processing revenue...\n"
          ]
        },
        {
          "output_type": "stream",
          "name": "stderr",
          "text": [
            "\rEvaluating features:  32%|███▏      | 6/19 [00:07<00:16,  1.24s/it]"
          ]
        },
        {
          "output_type": "stream",
          "name": "stdout",
          "text": [
            "Processing netIncome...\n"
          ]
        },
        {
          "output_type": "stream",
          "name": "stderr",
          "text": [
            "\rEvaluating features:  37%|███▋      | 7/19 [00:08<00:15,  1.26s/it]"
          ]
        },
        {
          "output_type": "stream",
          "name": "stdout",
          "text": [
            "Processing eps...\n"
          ]
        },
        {
          "output_type": "stream",
          "name": "stderr",
          "text": [
            "\rEvaluating features:  42%|████▏     | 8/19 [00:09<00:13,  1.27s/it]"
          ]
        },
        {
          "output_type": "stream",
          "name": "stdout",
          "text": [
            "Processing freeCashFlowPerShare...\n"
          ]
        },
        {
          "output_type": "stream",
          "name": "stderr",
          "text": [
            "\rEvaluating features:  47%|████▋     | 9/19 [00:11<00:12,  1.25s/it]"
          ]
        },
        {
          "output_type": "stream",
          "name": "stdout",
          "text": [
            "Processing Surprise...\n"
          ]
        },
        {
          "output_type": "stream",
          "name": "stderr",
          "text": [
            "\rEvaluating features:  53%|█████▎    | 10/19 [00:12<00:11,  1.26s/it]"
          ]
        },
        {
          "output_type": "stream",
          "name": "stdout",
          "text": [
            "Processing congress_net_trade...\n"
          ]
        },
        {
          "output_type": "stream",
          "name": "stderr",
          "text": [
            "\rEvaluating features:  58%|█████▊    | 11/19 [00:13<00:10,  1.26s/it]"
          ]
        },
        {
          "output_type": "stream",
          "name": "stdout",
          "text": [
            "Processing Sentiment...\n"
          ]
        },
        {
          "output_type": "stream",
          "name": "stderr",
          "text": [
            "\rEvaluating features:  63%|██████▎   | 12/19 [00:15<00:08,  1.26s/it]"
          ]
        },
        {
          "output_type": "stream",
          "name": "stdout",
          "text": [
            "Processing stocktwitsSentiment...\n"
          ]
        },
        {
          "output_type": "stream",
          "name": "stderr",
          "text": [
            "\rEvaluating features:  68%|██████▊   | 13/19 [00:16<00:07,  1.26s/it]"
          ]
        },
        {
          "output_type": "stream",
          "name": "stdout",
          "text": [
            "Processing twitterSentiment...\n"
          ]
        },
        {
          "output_type": "stream",
          "name": "stderr",
          "text": [
            "\rEvaluating features:  74%|███████▎  | 14/19 [00:17<00:06,  1.26s/it]"
          ]
        },
        {
          "output_type": "stream",
          "name": "stdout",
          "text": [
            "Processing news_sentimentScore...\n"
          ]
        },
        {
          "output_type": "stream",
          "name": "stderr",
          "text": [
            "\rEvaluating features:  79%|███████▉  | 15/19 [00:18<00:05,  1.26s/it]"
          ]
        },
        {
          "output_type": "stream",
          "name": "stdout",
          "text": [
            "Processing Dividend_y...\n"
          ]
        },
        {
          "output_type": "stream",
          "name": "stderr",
          "text": [
            "\rEvaluating features:  84%|████████▍ | 16/19 [00:20<00:03,  1.27s/it]"
          ]
        },
        {
          "output_type": "stream",
          "name": "stdout",
          "text": [
            "Processing returnOnEquity...\n"
          ]
        },
        {
          "output_type": "stream",
          "name": "stderr",
          "text": [
            "\rEvaluating features:  89%|████████▉ | 17/19 [00:21<00:02,  1.25s/it]"
          ]
        },
        {
          "output_type": "stream",
          "name": "stdout",
          "text": [
            "Processing ebitda...\n"
          ]
        },
        {
          "output_type": "stream",
          "name": "stderr",
          "text": [
            "\rEvaluating features:  95%|█████████▍| 18/19 [00:22<00:01,  1.25s/it]"
          ]
        },
        {
          "output_type": "stream",
          "name": "stdout",
          "text": [
            "Processing roic...\n"
          ]
        },
        {
          "output_type": "stream",
          "name": "stderr",
          "text": [
            "Evaluating features: 100%|██████████| 19/19 [00:23<00:00,  1.25s/it]\n"
          ]
        },
        {
          "output_type": "stream",
          "name": "stdout",
          "text": [
            "Removed ebitda, Best RMSE: 33.003652675849416\n"
          ]
        },
        {
          "output_type": "stream",
          "name": "stderr",
          "text": [
            "\rEvaluating features:   0%|          | 0/18 [00:00<?, ?it/s]"
          ]
        },
        {
          "output_type": "stream",
          "name": "stdout",
          "text": [
            "Processing ^VIX...\n"
          ]
        },
        {
          "output_type": "stream",
          "name": "stderr",
          "text": [
            "\rEvaluating features:   6%|▌         | 1/18 [00:01<00:20,  1.19s/it]"
          ]
        },
        {
          "output_type": "stream",
          "name": "stdout",
          "text": [
            "Processing ivmean30...\n"
          ]
        },
        {
          "output_type": "stream",
          "name": "stderr",
          "text": [
            "\rEvaluating features:  11%|█         | 2/18 [00:02<00:18,  1.18s/it]"
          ]
        },
        {
          "output_type": "stream",
          "name": "stdout",
          "text": [
            "Processing ivput270...\n"
          ]
        },
        {
          "output_type": "stream",
          "name": "stderr",
          "text": [
            "\rEvaluating features:  17%|█▋        | 3/18 [00:03<00:17,  1.18s/it]"
          ]
        },
        {
          "output_type": "stream",
          "name": "stdout",
          "text": [
            "Processing Grade...\n"
          ]
        },
        {
          "output_type": "stream",
          "name": "stderr",
          "text": [
            "\rEvaluating features:  22%|██▏       | 4/18 [00:04<00:17,  1.22s/it]"
          ]
        },
        {
          "output_type": "stream",
          "name": "stdout",
          "text": [
            "Processing weightedScore...\n"
          ]
        },
        {
          "output_type": "stream",
          "name": "stderr",
          "text": [
            "\rEvaluating features:  28%|██▊       | 5/18 [00:06<00:15,  1.23s/it]"
          ]
        },
        {
          "output_type": "stream",
          "name": "stdout",
          "text": [
            "Processing revenue...\n"
          ]
        },
        {
          "output_type": "stream",
          "name": "stderr",
          "text": [
            "\rEvaluating features:  33%|███▎      | 6/18 [00:07<00:14,  1.24s/it]"
          ]
        },
        {
          "output_type": "stream",
          "name": "stdout",
          "text": [
            "Processing netIncome...\n"
          ]
        },
        {
          "output_type": "stream",
          "name": "stderr",
          "text": [
            "\rEvaluating features:  39%|███▉      | 7/18 [00:08<00:13,  1.25s/it]"
          ]
        },
        {
          "output_type": "stream",
          "name": "stdout",
          "text": [
            "Processing eps...\n"
          ]
        },
        {
          "output_type": "stream",
          "name": "stderr",
          "text": [
            "\rEvaluating features:  44%|████▍     | 8/18 [00:09<00:12,  1.26s/it]"
          ]
        },
        {
          "output_type": "stream",
          "name": "stdout",
          "text": [
            "Processing freeCashFlowPerShare...\n"
          ]
        },
        {
          "output_type": "stream",
          "name": "stderr",
          "text": [
            "\rEvaluating features:  50%|█████     | 9/18 [00:11<00:11,  1.24s/it]"
          ]
        },
        {
          "output_type": "stream",
          "name": "stdout",
          "text": [
            "Processing Surprise...\n"
          ]
        },
        {
          "output_type": "stream",
          "name": "stderr",
          "text": [
            "\rEvaluating features:  56%|█████▌    | 10/18 [00:12<00:09,  1.24s/it]"
          ]
        },
        {
          "output_type": "stream",
          "name": "stdout",
          "text": [
            "Processing congress_net_trade...\n"
          ]
        },
        {
          "output_type": "stream",
          "name": "stderr",
          "text": [
            "\rEvaluating features:  61%|██████    | 11/18 [00:13<00:08,  1.24s/it]"
          ]
        },
        {
          "output_type": "stream",
          "name": "stdout",
          "text": [
            "Processing Sentiment...\n"
          ]
        },
        {
          "output_type": "stream",
          "name": "stderr",
          "text": [
            "\rEvaluating features:  67%|██████▋   | 12/18 [00:14<00:07,  1.25s/it]"
          ]
        },
        {
          "output_type": "stream",
          "name": "stdout",
          "text": [
            "Processing stocktwitsSentiment...\n"
          ]
        },
        {
          "output_type": "stream",
          "name": "stderr",
          "text": [
            "\rEvaluating features:  72%|███████▏  | 13/18 [00:16<00:06,  1.24s/it]"
          ]
        },
        {
          "output_type": "stream",
          "name": "stdout",
          "text": [
            "Processing twitterSentiment...\n"
          ]
        },
        {
          "output_type": "stream",
          "name": "stderr",
          "text": [
            "\rEvaluating features:  78%|███████▊  | 14/18 [00:17<00:04,  1.24s/it]"
          ]
        },
        {
          "output_type": "stream",
          "name": "stdout",
          "text": [
            "Processing news_sentimentScore...\n"
          ]
        },
        {
          "output_type": "stream",
          "name": "stderr",
          "text": [
            "\rEvaluating features:  83%|████████▎ | 15/18 [00:18<00:03,  1.24s/it]"
          ]
        },
        {
          "output_type": "stream",
          "name": "stdout",
          "text": [
            "Processing Dividend_y...\n"
          ]
        },
        {
          "output_type": "stream",
          "name": "stderr",
          "text": [
            "\rEvaluating features:  89%|████████▉ | 16/18 [00:19<00:02,  1.26s/it]"
          ]
        },
        {
          "output_type": "stream",
          "name": "stdout",
          "text": [
            "Processing returnOnEquity...\n"
          ]
        },
        {
          "output_type": "stream",
          "name": "stderr",
          "text": [
            "\rEvaluating features:  94%|█████████▍| 17/18 [00:21<00:01,  1.24s/it]"
          ]
        },
        {
          "output_type": "stream",
          "name": "stdout",
          "text": [
            "Processing roic...\n"
          ]
        },
        {
          "output_type": "stream",
          "name": "stderr",
          "text": [
            "Evaluating features: 100%|██████████| 18/18 [00:22<00:00,  1.24s/it]\n"
          ]
        },
        {
          "output_type": "stream",
          "name": "stdout",
          "text": [
            "Removed ivmean30, Best RMSE: 32.8833451296375\n"
          ]
        },
        {
          "output_type": "stream",
          "name": "stderr",
          "text": [
            "\rEvaluating features:   0%|          | 0/17 [00:00<?, ?it/s]"
          ]
        },
        {
          "output_type": "stream",
          "name": "stdout",
          "text": [
            "Processing ^VIX...\n"
          ]
        },
        {
          "output_type": "stream",
          "name": "stderr",
          "text": [
            "\rEvaluating features:   6%|▌         | 1/17 [00:01<00:17,  1.11s/it]"
          ]
        },
        {
          "output_type": "stream",
          "name": "stdout",
          "text": [
            "Processing ivput270...\n"
          ]
        },
        {
          "output_type": "stream",
          "name": "stderr",
          "text": [
            "\rEvaluating features:  12%|█▏        | 2/17 [00:02<00:16,  1.11s/it]"
          ]
        },
        {
          "output_type": "stream",
          "name": "stdout",
          "text": [
            "Processing Grade...\n"
          ]
        },
        {
          "output_type": "stream",
          "name": "stderr",
          "text": [
            "\rEvaluating features:  18%|█▊        | 3/17 [00:03<00:15,  1.13s/it]"
          ]
        },
        {
          "output_type": "stream",
          "name": "stdout",
          "text": [
            "Processing weightedScore...\n"
          ]
        },
        {
          "output_type": "stream",
          "name": "stderr",
          "text": [
            "\rEvaluating features:  24%|██▎       | 4/17 [00:04<00:14,  1.15s/it]"
          ]
        },
        {
          "output_type": "stream",
          "name": "stdout",
          "text": [
            "Processing revenue...\n"
          ]
        },
        {
          "output_type": "stream",
          "name": "stderr",
          "text": [
            "\rEvaluating features:  29%|██▉       | 5/17 [00:05<00:13,  1.15s/it]"
          ]
        },
        {
          "output_type": "stream",
          "name": "stdout",
          "text": [
            "Processing netIncome...\n"
          ]
        },
        {
          "output_type": "stream",
          "name": "stderr",
          "text": [
            "\rEvaluating features:  35%|███▌      | 6/17 [00:06<00:12,  1.17s/it]"
          ]
        },
        {
          "output_type": "stream",
          "name": "stdout",
          "text": [
            "Processing eps...\n"
          ]
        },
        {
          "output_type": "stream",
          "name": "stderr",
          "text": [
            "\rEvaluating features:  41%|████      | 7/17 [00:08<00:11,  1.19s/it]"
          ]
        },
        {
          "output_type": "stream",
          "name": "stdout",
          "text": [
            "Processing freeCashFlowPerShare...\n"
          ]
        },
        {
          "output_type": "stream",
          "name": "stderr",
          "text": [
            "\rEvaluating features:  47%|████▋     | 8/17 [00:09<00:10,  1.16s/it]"
          ]
        },
        {
          "output_type": "stream",
          "name": "stdout",
          "text": [
            "Processing Surprise...\n"
          ]
        },
        {
          "output_type": "stream",
          "name": "stderr",
          "text": [
            "\rEvaluating features:  53%|█████▎    | 9/17 [00:10<00:09,  1.17s/it]"
          ]
        },
        {
          "output_type": "stream",
          "name": "stdout",
          "text": [
            "Processing congress_net_trade...\n"
          ]
        },
        {
          "output_type": "stream",
          "name": "stderr",
          "text": [
            "\rEvaluating features:  59%|█████▉    | 10/17 [00:11<00:08,  1.16s/it]"
          ]
        },
        {
          "output_type": "stream",
          "name": "stdout",
          "text": [
            "Processing Sentiment...\n"
          ]
        },
        {
          "output_type": "stream",
          "name": "stderr",
          "text": [
            "\rEvaluating features:  65%|██████▍   | 11/17 [00:12<00:07,  1.18s/it]"
          ]
        },
        {
          "output_type": "stream",
          "name": "stdout",
          "text": [
            "Processing stocktwitsSentiment...\n"
          ]
        },
        {
          "output_type": "stream",
          "name": "stderr",
          "text": [
            "\rEvaluating features:  71%|███████   | 12/17 [00:13<00:05,  1.18s/it]"
          ]
        },
        {
          "output_type": "stream",
          "name": "stdout",
          "text": [
            "Processing twitterSentiment...\n"
          ]
        },
        {
          "output_type": "stream",
          "name": "stderr",
          "text": [
            "\rEvaluating features:  76%|███████▋  | 13/17 [00:15<00:04,  1.19s/it]"
          ]
        },
        {
          "output_type": "stream",
          "name": "stdout",
          "text": [
            "Processing news_sentimentScore...\n"
          ]
        },
        {
          "output_type": "stream",
          "name": "stderr",
          "text": [
            "\rEvaluating features:  82%|████████▏ | 14/17 [00:16<00:03,  1.19s/it]"
          ]
        },
        {
          "output_type": "stream",
          "name": "stdout",
          "text": [
            "Processing Dividend_y...\n"
          ]
        },
        {
          "output_type": "stream",
          "name": "stderr",
          "text": [
            "\rEvaluating features:  88%|████████▊ | 15/17 [00:17<00:02,  1.20s/it]"
          ]
        },
        {
          "output_type": "stream",
          "name": "stdout",
          "text": [
            "Processing returnOnEquity...\n"
          ]
        },
        {
          "output_type": "stream",
          "name": "stderr",
          "text": [
            "\rEvaluating features:  94%|█████████▍| 16/17 [00:18<00:01,  1.18s/it]"
          ]
        },
        {
          "output_type": "stream",
          "name": "stdout",
          "text": [
            "Processing roic...\n"
          ]
        },
        {
          "output_type": "stream",
          "name": "stderr",
          "text": [
            "Evaluating features: 100%|██████████| 17/17 [00:19<00:00,  1.17s/it]\n"
          ]
        },
        {
          "output_type": "stream",
          "name": "stdout",
          "text": [
            "Removed returnOnEquity, Best RMSE: 32.80830975494912\n"
          ]
        },
        {
          "output_type": "stream",
          "name": "stderr",
          "text": [
            "\rEvaluating features:   0%|          | 0/16 [00:00<?, ?it/s]"
          ]
        },
        {
          "output_type": "stream",
          "name": "stdout",
          "text": [
            "Processing ^VIX...\n"
          ]
        },
        {
          "output_type": "stream",
          "name": "stderr",
          "text": [
            "\rEvaluating features:   6%|▋         | 1/16 [00:01<00:15,  1.04s/it]"
          ]
        },
        {
          "output_type": "stream",
          "name": "stdout",
          "text": [
            "Processing ivput270...\n"
          ]
        },
        {
          "output_type": "stream",
          "name": "stderr",
          "text": [
            "\rEvaluating features:  12%|█▎        | 2/16 [00:02<00:14,  1.05s/it]"
          ]
        },
        {
          "output_type": "stream",
          "name": "stdout",
          "text": [
            "Processing Grade...\n"
          ]
        },
        {
          "output_type": "stream",
          "name": "stderr",
          "text": [
            "\rEvaluating features:  19%|█▉        | 3/16 [00:03<00:14,  1.08s/it]"
          ]
        },
        {
          "output_type": "stream",
          "name": "stdout",
          "text": [
            "Processing weightedScore...\n"
          ]
        },
        {
          "output_type": "stream",
          "name": "stderr",
          "text": [
            "\rEvaluating features:  25%|██▌       | 4/16 [00:04<00:13,  1.09s/it]"
          ]
        },
        {
          "output_type": "stream",
          "name": "stdout",
          "text": [
            "Processing revenue...\n"
          ]
        },
        {
          "output_type": "stream",
          "name": "stderr",
          "text": [
            "\rEvaluating features:  31%|███▏      | 5/16 [00:05<00:12,  1.12s/it]"
          ]
        },
        {
          "output_type": "stream",
          "name": "stdout",
          "text": [
            "Processing netIncome...\n"
          ]
        },
        {
          "output_type": "stream",
          "name": "stderr",
          "text": [
            "\rEvaluating features:  38%|███▊      | 6/16 [00:06<00:11,  1.12s/it]"
          ]
        },
        {
          "output_type": "stream",
          "name": "stdout",
          "text": [
            "Processing eps...\n"
          ]
        },
        {
          "output_type": "stream",
          "name": "stderr",
          "text": [
            "\rEvaluating features:  44%|████▍     | 7/16 [00:07<00:10,  1.13s/it]"
          ]
        },
        {
          "output_type": "stream",
          "name": "stdout",
          "text": [
            "Processing freeCashFlowPerShare...\n"
          ]
        },
        {
          "output_type": "stream",
          "name": "stderr",
          "text": [
            "\rEvaluating features:  50%|█████     | 8/16 [00:08<00:08,  1.10s/it]"
          ]
        },
        {
          "output_type": "stream",
          "name": "stdout",
          "text": [
            "Processing Surprise...\n"
          ]
        },
        {
          "output_type": "stream",
          "name": "stderr",
          "text": [
            "\rEvaluating features:  56%|█████▋    | 9/16 [00:09<00:07,  1.11s/it]"
          ]
        },
        {
          "output_type": "stream",
          "name": "stdout",
          "text": [
            "Processing congress_net_trade...\n"
          ]
        },
        {
          "output_type": "stream",
          "name": "stderr",
          "text": [
            "\rEvaluating features:  62%|██████▎   | 10/16 [00:11<00:06,  1.13s/it]"
          ]
        },
        {
          "output_type": "stream",
          "name": "stdout",
          "text": [
            "Processing Sentiment...\n"
          ]
        },
        {
          "output_type": "stream",
          "name": "stderr",
          "text": [
            "\rEvaluating features:  69%|██████▉   | 11/16 [00:12<00:05,  1.13s/it]"
          ]
        },
        {
          "output_type": "stream",
          "name": "stdout",
          "text": [
            "Processing stocktwitsSentiment...\n"
          ]
        },
        {
          "output_type": "stream",
          "name": "stderr",
          "text": [
            "\rEvaluating features:  75%|███████▌  | 12/16 [00:13<00:04,  1.11s/it]"
          ]
        },
        {
          "output_type": "stream",
          "name": "stdout",
          "text": [
            "Processing twitterSentiment...\n"
          ]
        },
        {
          "output_type": "stream",
          "name": "stderr",
          "text": [
            "\rEvaluating features:  81%|████████▏ | 13/16 [00:14<00:03,  1.11s/it]"
          ]
        },
        {
          "output_type": "stream",
          "name": "stdout",
          "text": [
            "Processing news_sentimentScore...\n"
          ]
        },
        {
          "output_type": "stream",
          "name": "stderr",
          "text": [
            "\rEvaluating features:  88%|████████▊ | 14/16 [00:15<00:02,  1.11s/it]"
          ]
        },
        {
          "output_type": "stream",
          "name": "stdout",
          "text": [
            "Processing Dividend_y...\n"
          ]
        },
        {
          "output_type": "stream",
          "name": "stderr",
          "text": [
            "\rEvaluating features:  94%|█████████▍| 15/16 [00:16<00:01,  1.11s/it]"
          ]
        },
        {
          "output_type": "stream",
          "name": "stdout",
          "text": [
            "Processing roic...\n"
          ]
        },
        {
          "output_type": "stream",
          "name": "stderr",
          "text": [
            "Evaluating features: 100%|██████████| 16/16 [00:17<00:00,  1.11s/it]\n"
          ]
        },
        {
          "output_type": "stream",
          "name": "stdout",
          "text": [
            "Removed Surprise, Best RMSE: 32.459646301235985\n"
          ]
        },
        {
          "output_type": "stream",
          "name": "stderr",
          "text": [
            "\rEvaluating features:   0%|          | 0/15 [00:00<?, ?it/s]"
          ]
        },
        {
          "output_type": "stream",
          "name": "stdout",
          "text": [
            "Processing ^VIX...\n"
          ]
        },
        {
          "output_type": "stream",
          "name": "stderr",
          "text": [
            "\rEvaluating features:   7%|▋         | 1/15 [00:01<00:14,  1.02s/it]"
          ]
        },
        {
          "output_type": "stream",
          "name": "stdout",
          "text": [
            "Processing ivput270...\n"
          ]
        },
        {
          "output_type": "stream",
          "name": "stderr",
          "text": [
            "\rEvaluating features:  13%|█▎        | 2/15 [00:02<00:13,  1.02s/it]"
          ]
        },
        {
          "output_type": "stream",
          "name": "stdout",
          "text": [
            "Processing Grade...\n"
          ]
        },
        {
          "output_type": "stream",
          "name": "stderr",
          "text": [
            "\rEvaluating features:  20%|██        | 3/15 [00:03<00:12,  1.04s/it]"
          ]
        },
        {
          "output_type": "stream",
          "name": "stdout",
          "text": [
            "Processing weightedScore...\n"
          ]
        },
        {
          "output_type": "stream",
          "name": "stderr",
          "text": [
            "\rEvaluating features:  27%|██▋       | 4/15 [00:04<00:11,  1.07s/it]"
          ]
        },
        {
          "output_type": "stream",
          "name": "stdout",
          "text": [
            "Processing revenue...\n"
          ]
        },
        {
          "output_type": "stream",
          "name": "stderr",
          "text": [
            "\rEvaluating features:  33%|███▎      | 5/15 [00:05<00:10,  1.08s/it]"
          ]
        },
        {
          "output_type": "stream",
          "name": "stdout",
          "text": [
            "Processing netIncome...\n"
          ]
        },
        {
          "output_type": "stream",
          "name": "stderr",
          "text": [
            "\rEvaluating features:  40%|████      | 6/15 [00:06<00:09,  1.08s/it]"
          ]
        },
        {
          "output_type": "stream",
          "name": "stdout",
          "text": [
            "Processing eps...\n"
          ]
        },
        {
          "output_type": "stream",
          "name": "stderr",
          "text": [
            "\rEvaluating features:  47%|████▋     | 7/15 [00:07<00:08,  1.09s/it]"
          ]
        },
        {
          "output_type": "stream",
          "name": "stdout",
          "text": [
            "Processing freeCashFlowPerShare...\n"
          ]
        },
        {
          "output_type": "stream",
          "name": "stderr",
          "text": [
            "\rEvaluating features:  53%|█████▎    | 8/15 [00:08<00:07,  1.06s/it]"
          ]
        },
        {
          "output_type": "stream",
          "name": "stdout",
          "text": [
            "Processing congress_net_trade...\n"
          ]
        },
        {
          "output_type": "stream",
          "name": "stderr",
          "text": [
            "\rEvaluating features:  60%|██████    | 9/15 [00:09<00:06,  1.06s/it]"
          ]
        },
        {
          "output_type": "stream",
          "name": "stdout",
          "text": [
            "Processing Sentiment...\n"
          ]
        },
        {
          "output_type": "stream",
          "name": "stderr",
          "text": [
            "\rEvaluating features:  67%|██████▋   | 10/15 [00:10<00:05,  1.08s/it]"
          ]
        },
        {
          "output_type": "stream",
          "name": "stdout",
          "text": [
            "Processing stocktwitsSentiment...\n"
          ]
        },
        {
          "output_type": "stream",
          "name": "stderr",
          "text": [
            "\rEvaluating features:  73%|███████▎  | 11/15 [00:11<00:04,  1.08s/it]"
          ]
        },
        {
          "output_type": "stream",
          "name": "stdout",
          "text": [
            "Processing twitterSentiment...\n"
          ]
        },
        {
          "output_type": "stream",
          "name": "stderr",
          "text": [
            "\rEvaluating features:  80%|████████  | 12/15 [00:12<00:03,  1.09s/it]"
          ]
        },
        {
          "output_type": "stream",
          "name": "stdout",
          "text": [
            "Processing news_sentimentScore...\n"
          ]
        },
        {
          "output_type": "stream",
          "name": "stderr",
          "text": [
            "\rEvaluating features:  87%|████████▋ | 13/15 [00:13<00:02,  1.09s/it]"
          ]
        },
        {
          "output_type": "stream",
          "name": "stdout",
          "text": [
            "Processing Dividend_y...\n"
          ]
        },
        {
          "output_type": "stream",
          "name": "stderr",
          "text": [
            "\rEvaluating features:  93%|█████████▎| 14/15 [00:15<00:01,  1.09s/it]"
          ]
        },
        {
          "output_type": "stream",
          "name": "stdout",
          "text": [
            "Processing roic...\n"
          ]
        },
        {
          "output_type": "stream",
          "name": "stderr",
          "text": [
            "Evaluating features: 100%|██████████| 15/15 [00:16<00:00,  1.07s/it]\n"
          ]
        },
        {
          "output_type": "stream",
          "name": "stdout",
          "text": [
            "No further improvement.\n",
            "Selected features: ['^VIX', 'ivput270', 'Grade', 'weightedScore', 'revenue', 'netIncome', 'eps', 'freeCashFlowPerShare', 'congress_net_trade', 'Sentiment', 'stocktwitsSentiment', 'twitterSentiment', 'news_sentimentScore', 'Dividend_y', 'roic']\n",
            "Final RMSE on the hold-out test set: 32.459646301235985\n",
            "Next day prediction: 400.4585003051758\n"
          ]
        },
        {
          "output_type": "stream",
          "name": "stderr",
          "text": [
            "/usr/local/lib/python3.10/dist-packages/sklearn/base.py:439: UserWarning: X does not have valid feature names, but RandomForestRegressor was fitted with feature names\n",
            "  warnings.warn(\n"
          ]
        }
      ]
    },
    {
      "cell_type": "code",
      "source": [
        "results_df = pd.DataFrame({\n",
        "    'Best_Features': best_features,\n",
        "    'RMSE': best_rmse,\n",
        "    'Next_Day_Prediction': one_day_pred\n",
        "})\n",
        "results_selected_be_features_rmse_and_predictions = results_df\n",
        "results_selected_be_features_rmse_and_predictions.to_csv('results_selected_be_features_rmse_and_predictions.csv', index=True)\n",
        "files.download('results_selected_be_features_rmse_and_predictions.csv')"
      ],
      "metadata": {
        "colab": {
          "base_uri": "https://localhost:8080/",
          "height": 17
        },
        "id": "nnrJmSXbz-HY",
        "outputId": "fb6149e3-8a7e-4fc3-d1ac-71b54b624f66"
      },
      "execution_count": null,
      "outputs": [
        {
          "output_type": "display_data",
          "data": {
            "text/plain": [
              "<IPython.core.display.Javascript object>"
            ],
            "application/javascript": [
              "\n",
              "    async function download(id, filename, size) {\n",
              "      if (!google.colab.kernel.accessAllowed) {\n",
              "        return;\n",
              "      }\n",
              "      const div = document.createElement('div');\n",
              "      const label = document.createElement('label');\n",
              "      label.textContent = `Downloading \"${filename}\": `;\n",
              "      div.appendChild(label);\n",
              "      const progress = document.createElement('progress');\n",
              "      progress.max = size;\n",
              "      div.appendChild(progress);\n",
              "      document.body.appendChild(div);\n",
              "\n",
              "      const buffers = [];\n",
              "      let downloaded = 0;\n",
              "\n",
              "      const channel = await google.colab.kernel.comms.open(id);\n",
              "      // Send a message to notify the kernel that we're ready.\n",
              "      channel.send({})\n",
              "\n",
              "      for await (const message of channel.messages) {\n",
              "        // Send a message to notify the kernel that we're ready.\n",
              "        channel.send({})\n",
              "        if (message.buffers) {\n",
              "          for (const buffer of message.buffers) {\n",
              "            buffers.push(buffer);\n",
              "            downloaded += buffer.byteLength;\n",
              "            progress.value = downloaded;\n",
              "          }\n",
              "        }\n",
              "      }\n",
              "      const blob = new Blob(buffers, {type: 'application/binary'});\n",
              "      const a = document.createElement('a');\n",
              "      a.href = window.URL.createObjectURL(blob);\n",
              "      a.download = filename;\n",
              "      div.appendChild(a);\n",
              "      a.click();\n",
              "      div.remove();\n",
              "    }\n",
              "  "
            ]
          },
          "metadata": {}
        },
        {
          "output_type": "display_data",
          "data": {
            "text/plain": [
              "<IPython.core.display.Javascript object>"
            ],
            "application/javascript": [
              "download(\"download_641a15af-81dd-42b9-af0a-75fc41fb9b81\", \"results_selected_be_features_rmse_and_predictions.csv\", 809)"
            ]
          },
          "metadata": {}
        }
      ]
    },
    {
      "cell_type": "code",
      "source": [
        "results_selected_be_features_rmse_and_predictions = pd.read_csv('results_selected_be_features_rmse_and_predictions.csv')\n",
        "results_selected_be_features_rmse_and_predictions = pd.DataFrame(results_selected_be_features_rmse_and_predictions)"
      ],
      "metadata": {
        "id": "7alxfzlqMvdV"
      },
      "execution_count": null,
      "outputs": []
    },
    {
      "cell_type": "markdown",
      "metadata": {
        "id": "YDcrKS1PCBfC"
      },
      "source": [
        "# LSTM Model"
      ]
    },
    {
      "cell_type": "markdown",
      "source": [
        "## LSTM Model with Past Prices only"
      ],
      "metadata": {
        "id": "BfpPD9fZundt"
      }
    },
    {
      "cell_type": "code",
      "execution_count": null,
      "metadata": {
        "id": "4wG4CNImF2db"
      },
      "outputs": [],
      "source": [
        "def lstm_forecast_with_tuning_log(data_series_base, n_steps=5, n_features=1):\n",
        "  \"\"\"\n",
        "  LSTM Model for Past Prices only\n",
        "  \"\"\"\n",
        "  if not isinstance(data_series_base, pd.Series):\n",
        "    raise ValueError(\"data_series_base must be a pandas Series.\")\n",
        "\n",
        "  log_returns = np.log(data_series_base / data_series_base.shift(1)).dropna()\n",
        "  data = log_returns.values\n",
        "\n",
        "  def preprocess_data(data, n_steps):\n",
        "    X, y = [], []\n",
        "    for i in range(len(data) - n_steps):\n",
        "      end_ix = i + n_steps\n",
        "      seq_x, seq_y = data[i:end_ix], data[end_ix]\n",
        "      X.append(seq_x)\n",
        "      y.append(seq_y)\n",
        "    return np.array(X), np.array(y)\n",
        "\n",
        "  X, y = preprocess_data(data, n_steps)\n",
        "  X = X.reshape((X.shape[0], X.shape[1], n_features))\n",
        "\n",
        "  tscv = TimeSeriesSplit(n_splits=4)\n",
        "  metrics_list = []\n",
        "\n",
        "  for train_index, test_index in tscv.split(X):\n",
        "    X_train, X_test = X[train_index], X[test_index]\n",
        "    y_train, y_test = y[train_index], y[test_index]\n",
        "\n",
        "    def build_model(hp):\n",
        "      model = Sequential()\n",
        "      model.add(LSTM(units=hp.Int('input_unit', min_value=32, max_value=256, step=32),\n",
        "                      return_sequences=True, input_shape=(n_steps, n_features)))\n",
        "      for i in range(hp.Int('n_layers', 1, 1)):\n",
        "          model.add(LSTM(units=hp.Int(f'lstm_{i}_units', min_value=32, max_value=256, step=32),\n",
        "                          return_sequences=(i < hp.Int('n_layers', 1, 1) - 1)))\n",
        "      model.add(Dropout(hp.Float('dropout_rate', min_value=0.1, max_value=0.5, step=0.1)))\n",
        "      model.add(Dense(1, activation=hp.Choice('dense_activation', values=['relu', 'sigmoid'], default='relu')))\n",
        "      model.compile(optimizer=Adam(), loss='mean_squared_error', metrics=['mse'])\n",
        "      return model\n",
        "\n",
        "    LOG_DIR = f\"{int(time.time())}\"\n",
        "    tuner = RandomSearch(build_model,\n",
        "                          objective=Objective(\"mse\", direction=\"min\"),\n",
        "                          max_trials=5,\n",
        "                          executions_per_trial=1,\n",
        "                          directory=LOG_DIR)\n",
        "\n",
        "    tuner.search(x=X_train, y=y_train, epochs=10, batch_size=64, validation_data=(X_test, y_test), verbose=0)\n",
        "\n",
        "    best_model = tuner.get_best_models(num_models=1)[0]\n",
        "\n",
        "    y_pred = best_model.predict(X_test)\n",
        "    rmse = np.sqrt(mean_squared_error(y_test, y_pred))\n",
        "    r_squared = r2_score(y_test, y_pred)\n",
        "    n = len(y_test)\n",
        "    k = 1\n",
        "    adjusted_r_squared = 1 - ((1 - r_squared) * (n - 1) / (n - k - 1))\n",
        "    metrics_list.append((rmse, adjusted_r_squared))\n",
        "\n",
        "  avg_rmse = np.mean([m[0] for m in metrics_list])\n",
        "  avg_adjusted_r_squared = np.mean([m[1] for m in metrics_list])\n",
        "\n",
        "  forecast_input = data[-n_steps:].reshape((1, n_steps, n_features))\n",
        "  forecast = [best_model.predict(forecast_input)[0][0]]\n",
        "  forecast_input = np.append(forecast_input.flatten()[1:], forecast).reshape((1, n_steps, n_features))\n",
        "  forecast.append(best_model.predict(forecast_input)[0][0])\n",
        "\n",
        "  last_price = data_series_base[-1]\n",
        "\n",
        "  # Forecasted log returns\n",
        "  log_return_day1 = forecast[0]\n",
        "  log_return_day2 = forecast[1]\n",
        "\n",
        "  # Convert log returns to actual prices\n",
        "  forecast_price_day1 = last_price * np.exp(log_return_day1)\n",
        "  forecast_price_day2 = forecast_price_day1 * np.exp(log_return_day2)\n",
        "\n",
        "  results_df = pd.DataFrame({\n",
        "      'Average RMSE': [avg_rmse],\n",
        "      'Average Adjusted R-Squared': [avg_adjusted_r_squared],\n",
        "      '1 Day Forecast': forecast_price_day1,\n",
        "      '2 Day Forecast': forecast_price_day2\n",
        "  })\n",
        "\n",
        "  results_df.index = [data_series_base.name]\n",
        "\n",
        "  return results_df\n"
      ]
    },
    {
      "cell_type": "code",
      "execution_count": null,
      "metadata": {
        "id": "fSEdTrAlF_sa",
        "colab": {
          "base_uri": "https://localhost:8080/"
        },
        "outputId": "ba4120ef-76d7-42ab-e250-f11b2cec2319"
      },
      "outputs": [
        {
          "output_type": "stream",
          "name": "stdout",
          "text": [
            "7/7 [==============================] - 1s 3ms/step\n",
            "7/7 [==============================] - 1s 3ms/step\n"
          ]
        },
        {
          "output_type": "stream",
          "name": "stderr",
          "text": [
            "WARNING:tensorflow:Detecting that an object or model or tf.train.Checkpoint is being deleted with unrestored values. See the following logs for the specific values in question. To silence these warnings, use `status.expect_partial()`. See https://www.tensorflow.org/api_docs/python/tf/train/Checkpoint#restorefor details about the status object returned by the restore function.\n",
            "WARNING:tensorflow:Value in checkpoint could not be found in the restored object: (root).optimizer._variables.1\n",
            "WARNING:tensorflow:Value in checkpoint could not be found in the restored object: (root).optimizer._variables.2\n",
            "WARNING:tensorflow:Value in checkpoint could not be found in the restored object: (root).optimizer._variables.3\n",
            "WARNING:tensorflow:Value in checkpoint could not be found in the restored object: (root).optimizer._variables.4\n",
            "WARNING:tensorflow:Value in checkpoint could not be found in the restored object: (root).optimizer._variables.5\n",
            "WARNING:tensorflow:Value in checkpoint could not be found in the restored object: (root).optimizer._variables.6\n",
            "WARNING:tensorflow:Value in checkpoint could not be found in the restored object: (root).optimizer._variables.7\n",
            "WARNING:tensorflow:Value in checkpoint could not be found in the restored object: (root).optimizer._variables.8\n",
            "WARNING:tensorflow:Value in checkpoint could not be found in the restored object: (root).optimizer._variables.9\n",
            "WARNING:tensorflow:Value in checkpoint could not be found in the restored object: (root).optimizer._variables.10\n",
            "WARNING:tensorflow:Value in checkpoint could not be found in the restored object: (root).optimizer._variables.11\n",
            "WARNING:tensorflow:Value in checkpoint could not be found in the restored object: (root).optimizer._variables.12\n",
            "WARNING:tensorflow:Value in checkpoint could not be found in the restored object: (root).optimizer._variables.13\n",
            "WARNING:tensorflow:Value in checkpoint could not be found in the restored object: (root).optimizer._variables.14\n",
            "WARNING:tensorflow:Value in checkpoint could not be found in the restored object: (root).optimizer._variables.15\n",
            "WARNING:tensorflow:Value in checkpoint could not be found in the restored object: (root).optimizer._variables.16\n"
          ]
        },
        {
          "output_type": "stream",
          "name": "stdout",
          "text": [
            "7/7 [==============================] - 1s 3ms/step\n"
          ]
        },
        {
          "output_type": "stream",
          "name": "stderr",
          "text": [
            "WARNING:tensorflow:Detecting that an object or model or tf.train.Checkpoint is being deleted with unrestored values. See the following logs for the specific values in question. To silence these warnings, use `status.expect_partial()`. See https://www.tensorflow.org/api_docs/python/tf/train/Checkpoint#restorefor details about the status object returned by the restore function.\n",
            "WARNING:tensorflow:Value in checkpoint could not be found in the restored object: (root).optimizer._variables.1\n",
            "WARNING:tensorflow:Value in checkpoint could not be found in the restored object: (root).optimizer._variables.2\n",
            "WARNING:tensorflow:Value in checkpoint could not be found in the restored object: (root).optimizer._variables.3\n",
            "WARNING:tensorflow:Value in checkpoint could not be found in the restored object: (root).optimizer._variables.4\n",
            "WARNING:tensorflow:Value in checkpoint could not be found in the restored object: (root).optimizer._variables.5\n",
            "WARNING:tensorflow:Value in checkpoint could not be found in the restored object: (root).optimizer._variables.6\n",
            "WARNING:tensorflow:Value in checkpoint could not be found in the restored object: (root).optimizer._variables.7\n",
            "WARNING:tensorflow:Value in checkpoint could not be found in the restored object: (root).optimizer._variables.8\n",
            "WARNING:tensorflow:Value in checkpoint could not be found in the restored object: (root).optimizer._variables.9\n",
            "WARNING:tensorflow:Value in checkpoint could not be found in the restored object: (root).optimizer._variables.10\n",
            "WARNING:tensorflow:Value in checkpoint could not be found in the restored object: (root).optimizer._variables.11\n",
            "WARNING:tensorflow:Value in checkpoint could not be found in the restored object: (root).optimizer._variables.12\n",
            "WARNING:tensorflow:Value in checkpoint could not be found in the restored object: (root).optimizer._variables.13\n",
            "WARNING:tensorflow:Value in checkpoint could not be found in the restored object: (root).optimizer._variables.14\n",
            "WARNING:tensorflow:Value in checkpoint could not be found in the restored object: (root).optimizer._variables.15\n",
            "WARNING:tensorflow:Value in checkpoint could not be found in the restored object: (root).optimizer._variables.16\n"
          ]
        },
        {
          "output_type": "stream",
          "name": "stdout",
          "text": [
            "7/7 [==============================] - 1s 3ms/step\n",
            "1/1 [==============================] - 0s 17ms/step\n",
            "1/1 [==============================] - 0s 18ms/step\n"
          ]
        }
      ],
      "source": [
        "lstm_past_prices_results = lstm_forecast_with_tuning_log(msft_df['Adj Close'])"
      ]
    },
    {
      "cell_type": "code",
      "source": [
        "lstm_past_prices_results"
      ],
      "metadata": {
        "colab": {
          "base_uri": "https://localhost:8080/",
          "height": 89
        },
        "id": "FlwWrsSZ0OKC",
        "outputId": "b18fcef3-e423-45f3-f66e-193ce3fec498"
      },
      "execution_count": null,
      "outputs": [
        {
          "output_type": "execute_result",
          "data": {
            "text/plain": [
              "           Average RMSE  Average Adjusted R-Squared  1 Day Forecast  \\\n",
              "Adj Close      0.016611                   -0.011936      402.701401   \n",
              "\n",
              "           2 Day Forecast  \n",
              "Adj Close      402.752624  "
            ],
            "text/html": [
              "\n",
              "  <div id=\"df-a9181d4a-eb63-4d97-a0f3-34cbc01d52fd\" class=\"colab-df-container\">\n",
              "    <div>\n",
              "<style scoped>\n",
              "    .dataframe tbody tr th:only-of-type {\n",
              "        vertical-align: middle;\n",
              "    }\n",
              "\n",
              "    .dataframe tbody tr th {\n",
              "        vertical-align: top;\n",
              "    }\n",
              "\n",
              "    .dataframe thead th {\n",
              "        text-align: right;\n",
              "    }\n",
              "</style>\n",
              "<table border=\"1\" class=\"dataframe\">\n",
              "  <thead>\n",
              "    <tr style=\"text-align: right;\">\n",
              "      <th></th>\n",
              "      <th>Average RMSE</th>\n",
              "      <th>Average Adjusted R-Squared</th>\n",
              "      <th>1 Day Forecast</th>\n",
              "      <th>2 Day Forecast</th>\n",
              "    </tr>\n",
              "  </thead>\n",
              "  <tbody>\n",
              "    <tr>\n",
              "      <th>Adj Close</th>\n",
              "      <td>0.016611</td>\n",
              "      <td>-0.011936</td>\n",
              "      <td>402.701401</td>\n",
              "      <td>402.752624</td>\n",
              "    </tr>\n",
              "  </tbody>\n",
              "</table>\n",
              "</div>\n",
              "    <div class=\"colab-df-buttons\">\n",
              "\n",
              "  <div class=\"colab-df-container\">\n",
              "    <button class=\"colab-df-convert\" onclick=\"convertToInteractive('df-a9181d4a-eb63-4d97-a0f3-34cbc01d52fd')\"\n",
              "            title=\"Convert this dataframe to an interactive table.\"\n",
              "            style=\"display:none;\">\n",
              "\n",
              "  <svg xmlns=\"http://www.w3.org/2000/svg\" height=\"24px\" viewBox=\"0 -960 960 960\">\n",
              "    <path d=\"M120-120v-720h720v720H120Zm60-500h600v-160H180v160Zm220 220h160v-160H400v160Zm0 220h160v-160H400v160ZM180-400h160v-160H180v160Zm440 0h160v-160H620v160ZM180-180h160v-160H180v160Zm440 0h160v-160H620v160Z\"/>\n",
              "  </svg>\n",
              "    </button>\n",
              "\n",
              "  <style>\n",
              "    .colab-df-container {\n",
              "      display:flex;\n",
              "      gap: 12px;\n",
              "    }\n",
              "\n",
              "    .colab-df-convert {\n",
              "      background-color: #E8F0FE;\n",
              "      border: none;\n",
              "      border-radius: 50%;\n",
              "      cursor: pointer;\n",
              "      display: none;\n",
              "      fill: #1967D2;\n",
              "      height: 32px;\n",
              "      padding: 0 0 0 0;\n",
              "      width: 32px;\n",
              "    }\n",
              "\n",
              "    .colab-df-convert:hover {\n",
              "      background-color: #E2EBFA;\n",
              "      box-shadow: 0px 1px 2px rgba(60, 64, 67, 0.3), 0px 1px 3px 1px rgba(60, 64, 67, 0.15);\n",
              "      fill: #174EA6;\n",
              "    }\n",
              "\n",
              "    .colab-df-buttons div {\n",
              "      margin-bottom: 4px;\n",
              "    }\n",
              "\n",
              "    [theme=dark] .colab-df-convert {\n",
              "      background-color: #3B4455;\n",
              "      fill: #D2E3FC;\n",
              "    }\n",
              "\n",
              "    [theme=dark] .colab-df-convert:hover {\n",
              "      background-color: #434B5C;\n",
              "      box-shadow: 0px 1px 3px 1px rgba(0, 0, 0, 0.15);\n",
              "      filter: drop-shadow(0px 1px 2px rgba(0, 0, 0, 0.3));\n",
              "      fill: #FFFFFF;\n",
              "    }\n",
              "  </style>\n",
              "\n",
              "    <script>\n",
              "      const buttonEl =\n",
              "        document.querySelector('#df-a9181d4a-eb63-4d97-a0f3-34cbc01d52fd button.colab-df-convert');\n",
              "      buttonEl.style.display =\n",
              "        google.colab.kernel.accessAllowed ? 'block' : 'none';\n",
              "\n",
              "      async function convertToInteractive(key) {\n",
              "        const element = document.querySelector('#df-a9181d4a-eb63-4d97-a0f3-34cbc01d52fd');\n",
              "        const dataTable =\n",
              "          await google.colab.kernel.invokeFunction('convertToInteractive',\n",
              "                                                    [key], {});\n",
              "        if (!dataTable) return;\n",
              "\n",
              "        const docLinkHtml = 'Like what you see? Visit the ' +\n",
              "          '<a target=\"_blank\" href=https://colab.research.google.com/notebooks/data_table.ipynb>data table notebook</a>'\n",
              "          + ' to learn more about interactive tables.';\n",
              "        element.innerHTML = '';\n",
              "        dataTable['output_type'] = 'display_data';\n",
              "        await google.colab.output.renderOutput(dataTable, element);\n",
              "        const docLink = document.createElement('div');\n",
              "        docLink.innerHTML = docLinkHtml;\n",
              "        element.appendChild(docLink);\n",
              "      }\n",
              "    </script>\n",
              "  </div>\n",
              "\n",
              "\n",
              "  <div id=\"id_0e85f9d3-8c3b-4f35-986e-280044ead833\">\n",
              "    <style>\n",
              "      .colab-df-generate {\n",
              "        background-color: #E8F0FE;\n",
              "        border: none;\n",
              "        border-radius: 50%;\n",
              "        cursor: pointer;\n",
              "        display: none;\n",
              "        fill: #1967D2;\n",
              "        height: 32px;\n",
              "        padding: 0 0 0 0;\n",
              "        width: 32px;\n",
              "      }\n",
              "\n",
              "      .colab-df-generate:hover {\n",
              "        background-color: #E2EBFA;\n",
              "        box-shadow: 0px 1px 2px rgba(60, 64, 67, 0.3), 0px 1px 3px 1px rgba(60, 64, 67, 0.15);\n",
              "        fill: #174EA6;\n",
              "      }\n",
              "\n",
              "      [theme=dark] .colab-df-generate {\n",
              "        background-color: #3B4455;\n",
              "        fill: #D2E3FC;\n",
              "      }\n",
              "\n",
              "      [theme=dark] .colab-df-generate:hover {\n",
              "        background-color: #434B5C;\n",
              "        box-shadow: 0px 1px 3px 1px rgba(0, 0, 0, 0.15);\n",
              "        filter: drop-shadow(0px 1px 2px rgba(0, 0, 0, 0.3));\n",
              "        fill: #FFFFFF;\n",
              "      }\n",
              "    </style>\n",
              "    <button class=\"colab-df-generate\" onclick=\"generateWithVariable('lstm_past_prices_results')\"\n",
              "            title=\"Generate code using this dataframe.\"\n",
              "            style=\"display:none;\">\n",
              "\n",
              "  <svg xmlns=\"http://www.w3.org/2000/svg\" height=\"24px\"viewBox=\"0 0 24 24\"\n",
              "       width=\"24px\">\n",
              "    <path d=\"M7,19H8.4L18.45,9,17,7.55,7,17.6ZM5,21V16.75L18.45,3.32a2,2,0,0,1,2.83,0l1.4,1.43a1.91,1.91,0,0,1,.58,1.4,1.91,1.91,0,0,1-.58,1.4L9.25,21ZM18.45,9,17,7.55Zm-12,3A5.31,5.31,0,0,0,4.9,8.1,5.31,5.31,0,0,0,1,6.5,5.31,5.31,0,0,0,4.9,4.9,5.31,5.31,0,0,0,6.5,1,5.31,5.31,0,0,0,8.1,4.9,5.31,5.31,0,0,0,12,6.5,5.46,5.46,0,0,0,6.5,12Z\"/>\n",
              "  </svg>\n",
              "    </button>\n",
              "    <script>\n",
              "      (() => {\n",
              "      const buttonEl =\n",
              "        document.querySelector('#id_0e85f9d3-8c3b-4f35-986e-280044ead833 button.colab-df-generate');\n",
              "      buttonEl.style.display =\n",
              "        google.colab.kernel.accessAllowed ? 'block' : 'none';\n",
              "\n",
              "      buttonEl.onclick = () => {\n",
              "        google.colab.notebook.generateWithVariable('lstm_past_prices_results');\n",
              "      }\n",
              "      })();\n",
              "    </script>\n",
              "  </div>\n",
              "\n",
              "    </div>\n",
              "  </div>\n"
            ],
            "application/vnd.google.colaboratory.intrinsic+json": {
              "type": "dataframe",
              "variable_name": "lstm_past_prices_results",
              "summary": "{\n  \"name\": \"lstm_past_prices_results\",\n  \"rows\": 1,\n  \"fields\": [\n    {\n      \"column\": \"Average RMSE\",\n      \"properties\": {\n        \"dtype\": \"number\",\n        \"std\": null,\n        \"min\": 0.016610825211473022,\n        \"max\": 0.016610825211473022,\n        \"num_unique_values\": 1,\n        \"samples\": [\n          0.016610825211473022\n        ],\n        \"semantic_type\": \"\",\n        \"description\": \"\"\n      }\n    },\n    {\n      \"column\": \"Average Adjusted R-Squared\",\n      \"properties\": {\n        \"dtype\": \"number\",\n        \"std\": null,\n        \"min\": -0.011935738544978813,\n        \"max\": -0.011935738544978813,\n        \"num_unique_values\": 1,\n        \"samples\": [\n          -0.011935738544978813\n        ],\n        \"semantic_type\": \"\",\n        \"description\": \"\"\n      }\n    },\n    {\n      \"column\": \"1 Day Forecast\",\n      \"properties\": {\n        \"dtype\": \"number\",\n        \"std\": null,\n        \"min\": 402.7014014891938,\n        \"max\": 402.7014014891938,\n        \"num_unique_values\": 1,\n        \"samples\": [\n          402.7014014891938\n        ],\n        \"semantic_type\": \"\",\n        \"description\": \"\"\n      }\n    },\n    {\n      \"column\": \"2 Day Forecast\",\n      \"properties\": {\n        \"dtype\": \"number\",\n        \"std\": null,\n        \"min\": 402.7526236222806,\n        \"max\": 402.7526236222806,\n        \"num_unique_values\": 1,\n        \"samples\": [\n          402.7526236222806\n        ],\n        \"semantic_type\": \"\",\n        \"description\": \"\"\n      }\n    }\n  ]\n}"
            }
          },
          "metadata": {},
          "execution_count": 123
        }
      ]
    },
    {
      "cell_type": "code",
      "source": [
        "# lstm_past_prices_results.to_csv('results_lstm_past_prices_results.csv', index=True)\n",
        "# files.download('results_lstm_past_prices_results.csv')\n",
        "lstm_past_prices_results = pd.read_csv('results_lstm_past_prices_results.csv')\n",
        "lstm_past_prices_results = pd.DataFrame(lstm_past_prices_results)"
      ],
      "metadata": {
        "id": "8OX51_BdzoGF"
      },
      "execution_count": null,
      "outputs": []
    },
    {
      "cell_type": "markdown",
      "source": [
        "## LSTM Model with All Features"
      ],
      "metadata": {
        "id": "FCjG4WhyusbC"
      }
    },
    {
      "cell_type": "code",
      "source": [
        "columns_except = [col for col in master_df.columns if col not in ['Adj Close', 'Shifted Adj Close']]"
      ],
      "metadata": {
        "id": "IpQOdfcq4X8M"
      },
      "execution_count": null,
      "outputs": []
    },
    {
      "cell_type": "code",
      "source": [
        "lstm_all_features_results = lstm_model_with_tuning(master_df, 'Shifted Adj Close', columns_except)"
      ],
      "metadata": {
        "colab": {
          "base_uri": "https://localhost:8080/"
        },
        "id": "-uRRHa4S2103",
        "outputId": "3d280ea4-e8b1-423e-df13-a55b2ca02561"
      },
      "execution_count": null,
      "outputs": [
        {
          "output_type": "stream",
          "name": "stdout",
          "text": [
            "Reloading Tuner from my_dir/f/tuner0.json\n"
          ]
        },
        {
          "output_type": "stream",
          "name": "stderr",
          "text": [
            "WARNING:tensorflow:Detecting that an object or model or tf.train.Checkpoint is being deleted with unrestored values. See the following logs for the specific values in question. To silence these warnings, use `status.expect_partial()`. See https://www.tensorflow.org/api_docs/python/tf/train/Checkpoint#restorefor details about the status object returned by the restore function.\n",
            "WARNING:tensorflow:Value in checkpoint could not be found in the restored object: (root).optimizer._variables.1\n",
            "WARNING:tensorflow:Value in checkpoint could not be found in the restored object: (root).optimizer._variables.2\n",
            "WARNING:tensorflow:Value in checkpoint could not be found in the restored object: (root).optimizer._variables.3\n",
            "WARNING:tensorflow:Value in checkpoint could not be found in the restored object: (root).optimizer._variables.4\n",
            "WARNING:tensorflow:Value in checkpoint could not be found in the restored object: (root).optimizer._variables.5\n",
            "WARNING:tensorflow:Value in checkpoint could not be found in the restored object: (root).optimizer._variables.6\n",
            "WARNING:tensorflow:Value in checkpoint could not be found in the restored object: (root).optimizer._variables.7\n",
            "WARNING:tensorflow:Value in checkpoint could not be found in the restored object: (root).optimizer._variables.8\n",
            "WARNING:tensorflow:Value in checkpoint could not be found in the restored object: (root).optimizer._variables.9\n",
            "WARNING:tensorflow:Value in checkpoint could not be found in the restored object: (root).optimizer._variables.10\n",
            "WARNING:tensorflow:Value in checkpoint could not be found in the restored object: (root).optimizer._variables.11\n",
            "WARNING:tensorflow:Value in checkpoint could not be found in the restored object: (root).optimizer._variables.12\n",
            "WARNING:tensorflow:Value in checkpoint could not be found in the restored object: (root).optimizer._variables.13\n",
            "WARNING:tensorflow:Value in checkpoint could not be found in the restored object: (root).optimizer._variables.14\n",
            "WARNING:tensorflow:Value in checkpoint could not be found in the restored object: (root).optimizer._variables.15\n",
            "WARNING:tensorflow:Value in checkpoint could not be found in the restored object: (root).optimizer._variables.16\n",
            "WARNING:tensorflow:Detecting that an object or model or tf.train.Checkpoint is being deleted with unrestored values. See the following logs for the specific values in question. To silence these warnings, use `status.expect_partial()`. See https://www.tensorflow.org/api_docs/python/tf/train/Checkpoint#restorefor details about the status object returned by the restore function.\n",
            "WARNING:tensorflow:Value in checkpoint could not be found in the restored object: (root).optimizer._variables.1\n",
            "WARNING:tensorflow:Value in checkpoint could not be found in the restored object: (root).optimizer._variables.2\n",
            "WARNING:tensorflow:Value in checkpoint could not be found in the restored object: (root).optimizer._variables.3\n",
            "WARNING:tensorflow:Value in checkpoint could not be found in the restored object: (root).optimizer._variables.4\n",
            "WARNING:tensorflow:Value in checkpoint could not be found in the restored object: (root).optimizer._variables.5\n",
            "WARNING:tensorflow:Value in checkpoint could not be found in the restored object: (root).optimizer._variables.6\n",
            "WARNING:tensorflow:Value in checkpoint could not be found in the restored object: (root).optimizer._variables.7\n",
            "WARNING:tensorflow:Value in checkpoint could not be found in the restored object: (root).optimizer._variables.8\n",
            "WARNING:tensorflow:Value in checkpoint could not be found in the restored object: (root).optimizer._variables.9\n",
            "WARNING:tensorflow:Value in checkpoint could not be found in the restored object: (root).optimizer._variables.10\n",
            "WARNING:tensorflow:Value in checkpoint could not be found in the restored object: (root).optimizer._variables.11\n",
            "WARNING:tensorflow:Value in checkpoint could not be found in the restored object: (root).optimizer._variables.12\n",
            "WARNING:tensorflow:Value in checkpoint could not be found in the restored object: (root).optimizer._variables.13\n",
            "WARNING:tensorflow:Value in checkpoint could not be found in the restored object: (root).optimizer._variables.14\n",
            "WARNING:tensorflow:Value in checkpoint could not be found in the restored object: (root).optimizer._variables.15\n",
            "WARNING:tensorflow:Value in checkpoint could not be found in the restored object: (root).optimizer._variables.16\n"
          ]
        },
        {
          "output_type": "stream",
          "name": "stdout",
          "text": [
            "7/7 [==============================] - 1s 2ms/step\n",
            "Reloading Tuner from my_dir/f/tuner0.json\n",
            "7/7 [==============================] - 1s 2ms/step\n",
            "Reloading Tuner from my_dir/f/tuner0.json\n"
          ]
        },
        {
          "output_type": "stream",
          "name": "stderr",
          "text": [
            "WARNING:tensorflow:Detecting that an object or model or tf.train.Checkpoint is being deleted with unrestored values. See the following logs for the specific values in question. To silence these warnings, use `status.expect_partial()`. See https://www.tensorflow.org/api_docs/python/tf/train/Checkpoint#restorefor details about the status object returned by the restore function.\n",
            "WARNING:tensorflow:Value in checkpoint could not be found in the restored object: (root).optimizer._variables.1\n",
            "WARNING:tensorflow:Value in checkpoint could not be found in the restored object: (root).optimizer._variables.2\n",
            "WARNING:tensorflow:Value in checkpoint could not be found in the restored object: (root).optimizer._variables.3\n",
            "WARNING:tensorflow:Value in checkpoint could not be found in the restored object: (root).optimizer._variables.4\n",
            "WARNING:tensorflow:Value in checkpoint could not be found in the restored object: (root).optimizer._variables.5\n",
            "WARNING:tensorflow:Value in checkpoint could not be found in the restored object: (root).optimizer._variables.6\n",
            "WARNING:tensorflow:Value in checkpoint could not be found in the restored object: (root).optimizer._variables.7\n",
            "WARNING:tensorflow:Value in checkpoint could not be found in the restored object: (root).optimizer._variables.8\n",
            "WARNING:tensorflow:Value in checkpoint could not be found in the restored object: (root).optimizer._variables.9\n",
            "WARNING:tensorflow:Value in checkpoint could not be found in the restored object: (root).optimizer._variables.10\n",
            "WARNING:tensorflow:Value in checkpoint could not be found in the restored object: (root).optimizer._variables.11\n",
            "WARNING:tensorflow:Value in checkpoint could not be found in the restored object: (root).optimizer._variables.12\n",
            "WARNING:tensorflow:Value in checkpoint could not be found in the restored object: (root).optimizer._variables.13\n",
            "WARNING:tensorflow:Value in checkpoint could not be found in the restored object: (root).optimizer._variables.14\n",
            "WARNING:tensorflow:Value in checkpoint could not be found in the restored object: (root).optimizer._variables.15\n",
            "WARNING:tensorflow:Value in checkpoint could not be found in the restored object: (root).optimizer._variables.16\n"
          ]
        },
        {
          "output_type": "stream",
          "name": "stdout",
          "text": [
            "7/7 [==============================] - 1s 2ms/step\n",
            "Reloading Tuner from my_dir/f/tuner0.json\n"
          ]
        },
        {
          "output_type": "stream",
          "name": "stderr",
          "text": [
            "WARNING:tensorflow:Detecting that an object or model or tf.train.Checkpoint is being deleted with unrestored values. See the following logs for the specific values in question. To silence these warnings, use `status.expect_partial()`. See https://www.tensorflow.org/api_docs/python/tf/train/Checkpoint#restorefor details about the status object returned by the restore function.\n",
            "WARNING:tensorflow:Value in checkpoint could not be found in the restored object: (root).optimizer._variables.1\n",
            "WARNING:tensorflow:Value in checkpoint could not be found in the restored object: (root).optimizer._variables.2\n",
            "WARNING:tensorflow:Value in checkpoint could not be found in the restored object: (root).optimizer._variables.3\n",
            "WARNING:tensorflow:Value in checkpoint could not be found in the restored object: (root).optimizer._variables.4\n",
            "WARNING:tensorflow:Value in checkpoint could not be found in the restored object: (root).optimizer._variables.5\n",
            "WARNING:tensorflow:Value in checkpoint could not be found in the restored object: (root).optimizer._variables.6\n",
            "WARNING:tensorflow:Value in checkpoint could not be found in the restored object: (root).optimizer._variables.7\n",
            "WARNING:tensorflow:Value in checkpoint could not be found in the restored object: (root).optimizer._variables.8\n",
            "WARNING:tensorflow:Value in checkpoint could not be found in the restored object: (root).optimizer._variables.9\n",
            "WARNING:tensorflow:Value in checkpoint could not be found in the restored object: (root).optimizer._variables.10\n",
            "WARNING:tensorflow:Value in checkpoint could not be found in the restored object: (root).optimizer._variables.11\n",
            "WARNING:tensorflow:Value in checkpoint could not be found in the restored object: (root).optimizer._variables.12\n",
            "WARNING:tensorflow:Value in checkpoint could not be found in the restored object: (root).optimizer._variables.13\n",
            "WARNING:tensorflow:Value in checkpoint could not be found in the restored object: (root).optimizer._variables.14\n",
            "WARNING:tensorflow:Value in checkpoint could not be found in the restored object: (root).optimizer._variables.15\n",
            "WARNING:tensorflow:Value in checkpoint could not be found in the restored object: (root).optimizer._variables.16\n"
          ]
        },
        {
          "output_type": "stream",
          "name": "stdout",
          "text": [
            "7/7 [==============================] - 1s 2ms/step\n",
            "1/1 [==============================] - 0s 18ms/step\n",
            "1/1 [==============================] - 0s 18ms/step\n"
          ]
        }
      ]
    },
    {
      "cell_type": "code",
      "source": [
        "lstm_all_features_results"
      ],
      "metadata": {
        "colab": {
          "base_uri": "https://localhost:8080/",
          "height": 89
        },
        "id": "8m8hXMhb5SbE",
        "outputId": "f9e38ac7-7c1b-49d9-b5db-0ff3afccbbdc"
      },
      "execution_count": null,
      "outputs": [
        {
          "output_type": "execute_result",
          "data": {
            "text/plain": [
              "   Average RMSE  Forecast March 5, 2024  Forecast March 6, 2024\n",
              "0     76.522759              261.475311              261.263824"
            ],
            "text/html": [
              "\n",
              "  <div id=\"df-1d019102-9591-48bc-909d-30f07ab8479f\" class=\"colab-df-container\">\n",
              "    <div>\n",
              "<style scoped>\n",
              "    .dataframe tbody tr th:only-of-type {\n",
              "        vertical-align: middle;\n",
              "    }\n",
              "\n",
              "    .dataframe tbody tr th {\n",
              "        vertical-align: top;\n",
              "    }\n",
              "\n",
              "    .dataframe thead th {\n",
              "        text-align: right;\n",
              "    }\n",
              "</style>\n",
              "<table border=\"1\" class=\"dataframe\">\n",
              "  <thead>\n",
              "    <tr style=\"text-align: right;\">\n",
              "      <th></th>\n",
              "      <th>Average RMSE</th>\n",
              "      <th>Forecast March 5, 2024</th>\n",
              "      <th>Forecast March 6, 2024</th>\n",
              "    </tr>\n",
              "  </thead>\n",
              "  <tbody>\n",
              "    <tr>\n",
              "      <th>0</th>\n",
              "      <td>76.522759</td>\n",
              "      <td>261.475311</td>\n",
              "      <td>261.263824</td>\n",
              "    </tr>\n",
              "  </tbody>\n",
              "</table>\n",
              "</div>\n",
              "    <div class=\"colab-df-buttons\">\n",
              "\n",
              "  <div class=\"colab-df-container\">\n",
              "    <button class=\"colab-df-convert\" onclick=\"convertToInteractive('df-1d019102-9591-48bc-909d-30f07ab8479f')\"\n",
              "            title=\"Convert this dataframe to an interactive table.\"\n",
              "            style=\"display:none;\">\n",
              "\n",
              "  <svg xmlns=\"http://www.w3.org/2000/svg\" height=\"24px\" viewBox=\"0 -960 960 960\">\n",
              "    <path d=\"M120-120v-720h720v720H120Zm60-500h600v-160H180v160Zm220 220h160v-160H400v160Zm0 220h160v-160H400v160ZM180-400h160v-160H180v160Zm440 0h160v-160H620v160ZM180-180h160v-160H180v160Zm440 0h160v-160H620v160Z\"/>\n",
              "  </svg>\n",
              "    </button>\n",
              "\n",
              "  <style>\n",
              "    .colab-df-container {\n",
              "      display:flex;\n",
              "      gap: 12px;\n",
              "    }\n",
              "\n",
              "    .colab-df-convert {\n",
              "      background-color: #E8F0FE;\n",
              "      border: none;\n",
              "      border-radius: 50%;\n",
              "      cursor: pointer;\n",
              "      display: none;\n",
              "      fill: #1967D2;\n",
              "      height: 32px;\n",
              "      padding: 0 0 0 0;\n",
              "      width: 32px;\n",
              "    }\n",
              "\n",
              "    .colab-df-convert:hover {\n",
              "      background-color: #E2EBFA;\n",
              "      box-shadow: 0px 1px 2px rgba(60, 64, 67, 0.3), 0px 1px 3px 1px rgba(60, 64, 67, 0.15);\n",
              "      fill: #174EA6;\n",
              "    }\n",
              "\n",
              "    .colab-df-buttons div {\n",
              "      margin-bottom: 4px;\n",
              "    }\n",
              "\n",
              "    [theme=dark] .colab-df-convert {\n",
              "      background-color: #3B4455;\n",
              "      fill: #D2E3FC;\n",
              "    }\n",
              "\n",
              "    [theme=dark] .colab-df-convert:hover {\n",
              "      background-color: #434B5C;\n",
              "      box-shadow: 0px 1px 3px 1px rgba(0, 0, 0, 0.15);\n",
              "      filter: drop-shadow(0px 1px 2px rgba(0, 0, 0, 0.3));\n",
              "      fill: #FFFFFF;\n",
              "    }\n",
              "  </style>\n",
              "\n",
              "    <script>\n",
              "      const buttonEl =\n",
              "        document.querySelector('#df-1d019102-9591-48bc-909d-30f07ab8479f button.colab-df-convert');\n",
              "      buttonEl.style.display =\n",
              "        google.colab.kernel.accessAllowed ? 'block' : 'none';\n",
              "\n",
              "      async function convertToInteractive(key) {\n",
              "        const element = document.querySelector('#df-1d019102-9591-48bc-909d-30f07ab8479f');\n",
              "        const dataTable =\n",
              "          await google.colab.kernel.invokeFunction('convertToInteractive',\n",
              "                                                    [key], {});\n",
              "        if (!dataTable) return;\n",
              "\n",
              "        const docLinkHtml = 'Like what you see? Visit the ' +\n",
              "          '<a target=\"_blank\" href=https://colab.research.google.com/notebooks/data_table.ipynb>data table notebook</a>'\n",
              "          + ' to learn more about interactive tables.';\n",
              "        element.innerHTML = '';\n",
              "        dataTable['output_type'] = 'display_data';\n",
              "        await google.colab.output.renderOutput(dataTable, element);\n",
              "        const docLink = document.createElement('div');\n",
              "        docLink.innerHTML = docLinkHtml;\n",
              "        element.appendChild(docLink);\n",
              "      }\n",
              "    </script>\n",
              "  </div>\n",
              "\n",
              "\n",
              "  <div id=\"id_cf8bd003-30ad-4eed-b7c1-ad6ca97a435b\">\n",
              "    <style>\n",
              "      .colab-df-generate {\n",
              "        background-color: #E8F0FE;\n",
              "        border: none;\n",
              "        border-radius: 50%;\n",
              "        cursor: pointer;\n",
              "        display: none;\n",
              "        fill: #1967D2;\n",
              "        height: 32px;\n",
              "        padding: 0 0 0 0;\n",
              "        width: 32px;\n",
              "      }\n",
              "\n",
              "      .colab-df-generate:hover {\n",
              "        background-color: #E2EBFA;\n",
              "        box-shadow: 0px 1px 2px rgba(60, 64, 67, 0.3), 0px 1px 3px 1px rgba(60, 64, 67, 0.15);\n",
              "        fill: #174EA6;\n",
              "      }\n",
              "\n",
              "      [theme=dark] .colab-df-generate {\n",
              "        background-color: #3B4455;\n",
              "        fill: #D2E3FC;\n",
              "      }\n",
              "\n",
              "      [theme=dark] .colab-df-generate:hover {\n",
              "        background-color: #434B5C;\n",
              "        box-shadow: 0px 1px 3px 1px rgba(0, 0, 0, 0.15);\n",
              "        filter: drop-shadow(0px 1px 2px rgba(0, 0, 0, 0.3));\n",
              "        fill: #FFFFFF;\n",
              "      }\n",
              "    </style>\n",
              "    <button class=\"colab-df-generate\" onclick=\"generateWithVariable('lstm_all_features_results')\"\n",
              "            title=\"Generate code using this dataframe.\"\n",
              "            style=\"display:none;\">\n",
              "\n",
              "  <svg xmlns=\"http://www.w3.org/2000/svg\" height=\"24px\"viewBox=\"0 0 24 24\"\n",
              "       width=\"24px\">\n",
              "    <path d=\"M7,19H8.4L18.45,9,17,7.55,7,17.6ZM5,21V16.75L18.45,3.32a2,2,0,0,1,2.83,0l1.4,1.43a1.91,1.91,0,0,1,.58,1.4,1.91,1.91,0,0,1-.58,1.4L9.25,21ZM18.45,9,17,7.55Zm-12,3A5.31,5.31,0,0,0,4.9,8.1,5.31,5.31,0,0,0,1,6.5,5.31,5.31,0,0,0,4.9,4.9,5.31,5.31,0,0,0,6.5,1,5.31,5.31,0,0,0,8.1,4.9,5.31,5.31,0,0,0,12,6.5,5.46,5.46,0,0,0,6.5,12Z\"/>\n",
              "  </svg>\n",
              "    </button>\n",
              "    <script>\n",
              "      (() => {\n",
              "      const buttonEl =\n",
              "        document.querySelector('#id_cf8bd003-30ad-4eed-b7c1-ad6ca97a435b button.colab-df-generate');\n",
              "      buttonEl.style.display =\n",
              "        google.colab.kernel.accessAllowed ? 'block' : 'none';\n",
              "\n",
              "      buttonEl.onclick = () => {\n",
              "        google.colab.notebook.generateWithVariable('lstm_all_features_results');\n",
              "      }\n",
              "      })();\n",
              "    </script>\n",
              "  </div>\n",
              "\n",
              "    </div>\n",
              "  </div>\n"
            ],
            "application/vnd.google.colaboratory.intrinsic+json": {
              "type": "dataframe",
              "variable_name": "lstm_all_features_results",
              "summary": "{\n  \"name\": \"lstm_all_features_results\",\n  \"rows\": 1,\n  \"fields\": [\n    {\n      \"column\": \"Average RMSE\",\n      \"properties\": {\n        \"dtype\": \"number\",\n        \"std\": null,\n        \"min\": 76.52275902066344,\n        \"max\": 76.52275902066344,\n        \"num_unique_values\": 1,\n        \"samples\": [\n          76.52275902066344\n        ],\n        \"semantic_type\": \"\",\n        \"description\": \"\"\n      }\n    },\n    {\n      \"column\": \"Forecast March 5, 2024\",\n      \"properties\": {\n        \"dtype\": \"float32\",\n        \"num_unique_values\": 1,\n        \"samples\": [\n          261.4753112792969\n        ],\n        \"semantic_type\": \"\",\n        \"description\": \"\"\n      }\n    },\n    {\n      \"column\": \"Forecast March 6, 2024\",\n      \"properties\": {\n        \"dtype\": \"float32\",\n        \"num_unique_values\": 1,\n        \"samples\": [\n          261.2638244628906\n        ],\n        \"semantic_type\": \"\",\n        \"description\": \"\"\n      }\n    }\n  ]\n}"
            }
          },
          "metadata": {},
          "execution_count": 145
        }
      ]
    },
    {
      "cell_type": "code",
      "source": [
        "# lstm_all_features_results.to_csv('results_lstm_all_features.csv', index=True)\n",
        "# files.download('results_lstm_all_features.csv')\n",
        "lstm_all_features_results = pd.read_csv('results_lstm_all_features.csv')\n",
        "lstm_all_features_results = pd.DataFrame(lstm_all_features_results)"
      ],
      "metadata": {
        "id": "CYoWK0bONBa6"
      },
      "execution_count": null,
      "outputs": []
    },
    {
      "cell_type": "markdown",
      "source": [
        "## LSTM Model with Selected Features"
      ],
      "metadata": {
        "id": "mdAplFdQNcJA"
      }
    },
    {
      "cell_type": "code",
      "source": [
        "columns_except = [col for col in df.columns if col not in ['Shifted Adj Close']]\n",
        "lstm_selected_features_results = lstm_model_with_tuning(df, 'Shifted Adj Close',columns_except)"
      ],
      "metadata": {
        "colab": {
          "base_uri": "https://localhost:8080/"
        },
        "id": "QO2Nx6ZbNgVk",
        "outputId": "5560d25d-4087-441e-b811-1b64e95cde1f"
      },
      "execution_count": null,
      "outputs": [
        {
          "output_type": "stream",
          "name": "stdout",
          "text": [
            "Trial 15 Complete [00h 00m 10s]\n",
            "mse: 0.0276452898979187\n",
            "\n",
            "Best mse So Far: 0.006463322788476944\n",
            "Total elapsed time: 00h 02m 26s\n",
            "5/5 [==============================] - 0s 3ms/step\n",
            "Reloading Tuner from my_dir/g/tuner0.json\n",
            "5/5 [==============================] - 0s 2ms/step\n",
            "Reloading Tuner from my_dir/g/tuner0.json\n"
          ]
        },
        {
          "output_type": "stream",
          "name": "stderr",
          "text": [
            "WARNING:tensorflow:Detecting that an object or model or tf.train.Checkpoint is being deleted with unrestored values. See the following logs for the specific values in question. To silence these warnings, use `status.expect_partial()`. See https://www.tensorflow.org/api_docs/python/tf/train/Checkpoint#restorefor details about the status object returned by the restore function.\n",
            "WARNING:tensorflow:Value in checkpoint could not be found in the restored object: (root).optimizer._variables.1\n",
            "WARNING:tensorflow:Value in checkpoint could not be found in the restored object: (root).optimizer._variables.2\n",
            "WARNING:tensorflow:Value in checkpoint could not be found in the restored object: (root).optimizer._variables.3\n",
            "WARNING:tensorflow:Value in checkpoint could not be found in the restored object: (root).optimizer._variables.4\n",
            "WARNING:tensorflow:Value in checkpoint could not be found in the restored object: (root).optimizer._variables.5\n",
            "WARNING:tensorflow:Value in checkpoint could not be found in the restored object: (root).optimizer._variables.6\n",
            "WARNING:tensorflow:Value in checkpoint could not be found in the restored object: (root).optimizer._variables.7\n",
            "WARNING:tensorflow:Value in checkpoint could not be found in the restored object: (root).optimizer._variables.8\n",
            "WARNING:tensorflow:Value in checkpoint could not be found in the restored object: (root).optimizer._variables.9\n",
            "WARNING:tensorflow:Value in checkpoint could not be found in the restored object: (root).optimizer._variables.10\n"
          ]
        },
        {
          "output_type": "stream",
          "name": "stdout",
          "text": [
            "5/5 [==============================] - 0s 2ms/step\n",
            "Reloading Tuner from my_dir/g/tuner0.json\n"
          ]
        },
        {
          "output_type": "stream",
          "name": "stderr",
          "text": [
            "WARNING:tensorflow:Detecting that an object or model or tf.train.Checkpoint is being deleted with unrestored values. See the following logs for the specific values in question. To silence these warnings, use `status.expect_partial()`. See https://www.tensorflow.org/api_docs/python/tf/train/Checkpoint#restorefor details about the status object returned by the restore function.\n",
            "WARNING:tensorflow:Value in checkpoint could not be found in the restored object: (root).optimizer._variables.1\n",
            "WARNING:tensorflow:Value in checkpoint could not be found in the restored object: (root).optimizer._variables.2\n",
            "WARNING:tensorflow:Value in checkpoint could not be found in the restored object: (root).optimizer._variables.3\n",
            "WARNING:tensorflow:Value in checkpoint could not be found in the restored object: (root).optimizer._variables.4\n",
            "WARNING:tensorflow:Value in checkpoint could not be found in the restored object: (root).optimizer._variables.5\n",
            "WARNING:tensorflow:Value in checkpoint could not be found in the restored object: (root).optimizer._variables.6\n",
            "WARNING:tensorflow:Value in checkpoint could not be found in the restored object: (root).optimizer._variables.7\n",
            "WARNING:tensorflow:Value in checkpoint could not be found in the restored object: (root).optimizer._variables.8\n",
            "WARNING:tensorflow:Value in checkpoint could not be found in the restored object: (root).optimizer._variables.9\n",
            "WARNING:tensorflow:Value in checkpoint could not be found in the restored object: (root).optimizer._variables.10\n"
          ]
        },
        {
          "output_type": "stream",
          "name": "stdout",
          "text": [
            "5/5 [==============================] - 0s 2ms/step\n",
            "1/1 [==============================] - 0s 18ms/step\n",
            "1/1 [==============================] - 0s 17ms/step\n"
          ]
        }
      ]
    },
    {
      "cell_type": "code",
      "source": [
        "lstm_selected_features_results"
      ],
      "metadata": {
        "colab": {
          "base_uri": "https://localhost:8080/",
          "height": 89
        },
        "id": "NQ2m-KZ7OZS2",
        "outputId": "be75bce7-25ad-4a0b-83d0-07c5467cfab6"
      },
      "execution_count": null,
      "outputs": [
        {
          "output_type": "execute_result",
          "data": {
            "text/plain": [
              "   Average RMSE  Forecast March 5, 2024  Forecast March 6, 2024\n",
              "0     35.884046              309.767822              309.995453"
            ],
            "text/html": [
              "\n",
              "  <div id=\"df-d286b4cf-50fa-4273-bb60-e293c2b044b1\" class=\"colab-df-container\">\n",
              "    <div>\n",
              "<style scoped>\n",
              "    .dataframe tbody tr th:only-of-type {\n",
              "        vertical-align: middle;\n",
              "    }\n",
              "\n",
              "    .dataframe tbody tr th {\n",
              "        vertical-align: top;\n",
              "    }\n",
              "\n",
              "    .dataframe thead th {\n",
              "        text-align: right;\n",
              "    }\n",
              "</style>\n",
              "<table border=\"1\" class=\"dataframe\">\n",
              "  <thead>\n",
              "    <tr style=\"text-align: right;\">\n",
              "      <th></th>\n",
              "      <th>Average RMSE</th>\n",
              "      <th>Forecast March 5, 2024</th>\n",
              "      <th>Forecast March 6, 2024</th>\n",
              "    </tr>\n",
              "  </thead>\n",
              "  <tbody>\n",
              "    <tr>\n",
              "      <th>0</th>\n",
              "      <td>35.884046</td>\n",
              "      <td>309.767822</td>\n",
              "      <td>309.995453</td>\n",
              "    </tr>\n",
              "  </tbody>\n",
              "</table>\n",
              "</div>\n",
              "    <div class=\"colab-df-buttons\">\n",
              "\n",
              "  <div class=\"colab-df-container\">\n",
              "    <button class=\"colab-df-convert\" onclick=\"convertToInteractive('df-d286b4cf-50fa-4273-bb60-e293c2b044b1')\"\n",
              "            title=\"Convert this dataframe to an interactive table.\"\n",
              "            style=\"display:none;\">\n",
              "\n",
              "  <svg xmlns=\"http://www.w3.org/2000/svg\" height=\"24px\" viewBox=\"0 -960 960 960\">\n",
              "    <path d=\"M120-120v-720h720v720H120Zm60-500h600v-160H180v160Zm220 220h160v-160H400v160Zm0 220h160v-160H400v160ZM180-400h160v-160H180v160Zm440 0h160v-160H620v160ZM180-180h160v-160H180v160Zm440 0h160v-160H620v160Z\"/>\n",
              "  </svg>\n",
              "    </button>\n",
              "\n",
              "  <style>\n",
              "    .colab-df-container {\n",
              "      display:flex;\n",
              "      gap: 12px;\n",
              "    }\n",
              "\n",
              "    .colab-df-convert {\n",
              "      background-color: #E8F0FE;\n",
              "      border: none;\n",
              "      border-radius: 50%;\n",
              "      cursor: pointer;\n",
              "      display: none;\n",
              "      fill: #1967D2;\n",
              "      height: 32px;\n",
              "      padding: 0 0 0 0;\n",
              "      width: 32px;\n",
              "    }\n",
              "\n",
              "    .colab-df-convert:hover {\n",
              "      background-color: #E2EBFA;\n",
              "      box-shadow: 0px 1px 2px rgba(60, 64, 67, 0.3), 0px 1px 3px 1px rgba(60, 64, 67, 0.15);\n",
              "      fill: #174EA6;\n",
              "    }\n",
              "\n",
              "    .colab-df-buttons div {\n",
              "      margin-bottom: 4px;\n",
              "    }\n",
              "\n",
              "    [theme=dark] .colab-df-convert {\n",
              "      background-color: #3B4455;\n",
              "      fill: #D2E3FC;\n",
              "    }\n",
              "\n",
              "    [theme=dark] .colab-df-convert:hover {\n",
              "      background-color: #434B5C;\n",
              "      box-shadow: 0px 1px 3px 1px rgba(0, 0, 0, 0.15);\n",
              "      filter: drop-shadow(0px 1px 2px rgba(0, 0, 0, 0.3));\n",
              "      fill: #FFFFFF;\n",
              "    }\n",
              "  </style>\n",
              "\n",
              "    <script>\n",
              "      const buttonEl =\n",
              "        document.querySelector('#df-d286b4cf-50fa-4273-bb60-e293c2b044b1 button.colab-df-convert');\n",
              "      buttonEl.style.display =\n",
              "        google.colab.kernel.accessAllowed ? 'block' : 'none';\n",
              "\n",
              "      async function convertToInteractive(key) {\n",
              "        const element = document.querySelector('#df-d286b4cf-50fa-4273-bb60-e293c2b044b1');\n",
              "        const dataTable =\n",
              "          await google.colab.kernel.invokeFunction('convertToInteractive',\n",
              "                                                    [key], {});\n",
              "        if (!dataTable) return;\n",
              "\n",
              "        const docLinkHtml = 'Like what you see? Visit the ' +\n",
              "          '<a target=\"_blank\" href=https://colab.research.google.com/notebooks/data_table.ipynb>data table notebook</a>'\n",
              "          + ' to learn more about interactive tables.';\n",
              "        element.innerHTML = '';\n",
              "        dataTable['output_type'] = 'display_data';\n",
              "        await google.colab.output.renderOutput(dataTable, element);\n",
              "        const docLink = document.createElement('div');\n",
              "        docLink.innerHTML = docLinkHtml;\n",
              "        element.appendChild(docLink);\n",
              "      }\n",
              "    </script>\n",
              "  </div>\n",
              "\n",
              "\n",
              "  <div id=\"id_3884eda6-3ad5-4361-85b0-d989f1695755\">\n",
              "    <style>\n",
              "      .colab-df-generate {\n",
              "        background-color: #E8F0FE;\n",
              "        border: none;\n",
              "        border-radius: 50%;\n",
              "        cursor: pointer;\n",
              "        display: none;\n",
              "        fill: #1967D2;\n",
              "        height: 32px;\n",
              "        padding: 0 0 0 0;\n",
              "        width: 32px;\n",
              "      }\n",
              "\n",
              "      .colab-df-generate:hover {\n",
              "        background-color: #E2EBFA;\n",
              "        box-shadow: 0px 1px 2px rgba(60, 64, 67, 0.3), 0px 1px 3px 1px rgba(60, 64, 67, 0.15);\n",
              "        fill: #174EA6;\n",
              "      }\n",
              "\n",
              "      [theme=dark] .colab-df-generate {\n",
              "        background-color: #3B4455;\n",
              "        fill: #D2E3FC;\n",
              "      }\n",
              "\n",
              "      [theme=dark] .colab-df-generate:hover {\n",
              "        background-color: #434B5C;\n",
              "        box-shadow: 0px 1px 3px 1px rgba(0, 0, 0, 0.15);\n",
              "        filter: drop-shadow(0px 1px 2px rgba(0, 0, 0, 0.3));\n",
              "        fill: #FFFFFF;\n",
              "      }\n",
              "    </style>\n",
              "    <button class=\"colab-df-generate\" onclick=\"generateWithVariable('lstm_selected_features_results')\"\n",
              "            title=\"Generate code using this dataframe.\"\n",
              "            style=\"display:none;\">\n",
              "\n",
              "  <svg xmlns=\"http://www.w3.org/2000/svg\" height=\"24px\"viewBox=\"0 0 24 24\"\n",
              "       width=\"24px\">\n",
              "    <path d=\"M7,19H8.4L18.45,9,17,7.55,7,17.6ZM5,21V16.75L18.45,3.32a2,2,0,0,1,2.83,0l1.4,1.43a1.91,1.91,0,0,1,.58,1.4,1.91,1.91,0,0,1-.58,1.4L9.25,21ZM18.45,9,17,7.55Zm-12,3A5.31,5.31,0,0,0,4.9,8.1,5.31,5.31,0,0,0,1,6.5,5.31,5.31,0,0,0,4.9,4.9,5.31,5.31,0,0,0,6.5,1,5.31,5.31,0,0,0,8.1,4.9,5.31,5.31,0,0,0,12,6.5,5.46,5.46,0,0,0,6.5,12Z\"/>\n",
              "  </svg>\n",
              "    </button>\n",
              "    <script>\n",
              "      (() => {\n",
              "      const buttonEl =\n",
              "        document.querySelector('#id_3884eda6-3ad5-4361-85b0-d989f1695755 button.colab-df-generate');\n",
              "      buttonEl.style.display =\n",
              "        google.colab.kernel.accessAllowed ? 'block' : 'none';\n",
              "\n",
              "      buttonEl.onclick = () => {\n",
              "        google.colab.notebook.generateWithVariable('lstm_selected_features_results');\n",
              "      }\n",
              "      })();\n",
              "    </script>\n",
              "  </div>\n",
              "\n",
              "    </div>\n",
              "  </div>\n"
            ],
            "application/vnd.google.colaboratory.intrinsic+json": {
              "type": "dataframe",
              "variable_name": "lstm_selected_features_results",
              "summary": "{\n  \"name\": \"lstm_selected_features_results\",\n  \"rows\": 1,\n  \"fields\": [\n    {\n      \"column\": \"Average RMSE\",\n      \"properties\": {\n        \"dtype\": \"number\",\n        \"std\": null,\n        \"min\": 35.88404617664604,\n        \"max\": 35.88404617664604,\n        \"num_unique_values\": 1,\n        \"samples\": [\n          35.88404617664604\n        ],\n        \"semantic_type\": \"\",\n        \"description\": \"\"\n      }\n    },\n    {\n      \"column\": \"Forecast March 5, 2024\",\n      \"properties\": {\n        \"dtype\": \"float32\",\n        \"num_unique_values\": 1,\n        \"samples\": [\n          309.767822265625\n        ],\n        \"semantic_type\": \"\",\n        \"description\": \"\"\n      }\n    },\n    {\n      \"column\": \"Forecast March 6, 2024\",\n      \"properties\": {\n        \"dtype\": \"float32\",\n        \"num_unique_values\": 1,\n        \"samples\": [\n          309.9954528808594\n        ],\n        \"semantic_type\": \"\",\n        \"description\": \"\"\n      }\n    }\n  ]\n}"
            }
          },
          "metadata": {},
          "execution_count": 153
        }
      ]
    },
    {
      "cell_type": "code",
      "source": [
        "# lstm_selected_features_results.to_csv('results_lstm_selected_features.csv', index=True)\n",
        "# files.download('results_lstm_selected_features.csv')\n",
        "lstm_selected_features_results = pd.read_csv('results_lstm_selected_features.csv')\n",
        "lstm_selected_features_results = pd.DataFrame(lstm_selected_features_results)"
      ],
      "metadata": {
        "id": "HU5hj70dOeig"
      },
      "execution_count": null,
      "outputs": []
    },
    {
      "cell_type": "markdown",
      "source": [
        "# Results Summary"
      ],
      "metadata": {
        "id": "FuDm7W-FSmCm"
      }
    },
    {
      "cell_type": "code",
      "source": [
        "rf_results_summary_dict = [\n",
        "        {\n",
        "        'Random Forest Model': 'All Features: Basic Model',\n",
        "        'Test RMSE': rmse_df_all_basic['RMSE Scores'].values[0]\n",
        "    },\n",
        "        {\n",
        "        'Random Forest Model': 'Selected Features: Basic Model',\n",
        "        'Test RMSE': rmse_df_selected_basic['RMSE Scores'].values[0]\n",
        "    },\n",
        "        {\n",
        "        'Random Forest Model': 'All Features: Iteratively Trained on Top Features',\n",
        "        'Test RMSE': rmse_df_all_train_top_features['RMSE_Scores'].values[-1]\n",
        "    },\n",
        "        {\n",
        "        'Random Forest Model': 'Selected Features: Iteratively Trained on Top Features',\n",
        "        'Test RMSE': rmse_df_selected_train_top_features['RMSE_Scores'].values[-1]\n",
        "    },\n",
        "        {\n",
        "        'Random Forest Model': 'All Features: Grid Search CV',\n",
        "        'Test RMSE': results_all_gs_rmse['RMSE Scores'].values[0]\n",
        "    },\n",
        "        {\n",
        "        'Random Forest Model': 'Selected Features: Grid Search CV',\n",
        "        'Test RMSE': results_selected_gs_rmse_scores['RMSE Scores'].values[0]\n",
        "    },\n",
        "        {\n",
        "        'Random Forest Model': 'All Features: Forward Selection',\n",
        "        'Test RMSE': results_all_fs_features_rmse_and_predictions['RMSE'].values[0]\n",
        "    },\n",
        "         {\n",
        "        'Random Forest Model': 'Selected Features: Forward Selection',\n",
        "        'Test RMSE': results_selected_fs_features_rmse_and_predictions['RMSE'].values[0]\n",
        "    },\n",
        "        {\n",
        "        'Random Forest Model': 'All Features: Backward Elimination',\n",
        "        'Test RMSE': results_all_be_features_rmse_and_predictions['RMSE'].values[0]\n",
        "    },\n",
        "        {\n",
        "        'Random Forest Model': 'Selected Features: Backward Elimination',\n",
        "        'Test RMSE': results_selected_be_features_rmse_and_predictions['RMSE'].values[0]\n",
        "    }\n",
        "]\n",
        "\n",
        "rf_results_summary_df = pd.DataFrame(rf_results_summary_dict)\n",
        "rf_results_summary_df['Test RMSE'] = rf_results_summary_df['Test RMSE'].round(3)\n",
        "rf_results_summary_df"
      ],
      "metadata": {
        "colab": {
          "base_uri": "https://localhost:8080/",
          "height": 363
        },
        "id": "d2yJfPoGB1yJ",
        "outputId": "a29e15b7-a699-4cc2-f1b3-db34d26b77da"
      },
      "execution_count": null,
      "outputs": [
        {
          "output_type": "execute_result",
          "data": {
            "text/plain": [
              "                                 Random Forest Model  Test RMSE\n",
              "0                          All Features: Basic Model     35.335\n",
              "1                     Selected Features: Basic Model     43.164\n",
              "2  All Features: Iteratively Trained on Top Features     31.994\n",
              "3  Selected Features: Iteratively Trained on Top ...     45.869\n",
              "4                       All Features: Grid Search CV     35.236\n",
              "5                  Selected Features: Grid Search CV     31.213\n",
              "6                    All Features: Forward Selection    113.434\n",
              "7               Selected Features: Forward Selection     39.570\n",
              "8                 All Features: Backward Elimination     34.147\n",
              "9            Selected Features: Backward Elimination     32.460"
            ],
            "text/html": [
              "\n",
              "  <div id=\"df-dbd6d16c-5157-4a40-a5a9-6d524b2012c6\" class=\"colab-df-container\">\n",
              "    <div>\n",
              "<style scoped>\n",
              "    .dataframe tbody tr th:only-of-type {\n",
              "        vertical-align: middle;\n",
              "    }\n",
              "\n",
              "    .dataframe tbody tr th {\n",
              "        vertical-align: top;\n",
              "    }\n",
              "\n",
              "    .dataframe thead th {\n",
              "        text-align: right;\n",
              "    }\n",
              "</style>\n",
              "<table border=\"1\" class=\"dataframe\">\n",
              "  <thead>\n",
              "    <tr style=\"text-align: right;\">\n",
              "      <th></th>\n",
              "      <th>Random Forest Model</th>\n",
              "      <th>Test RMSE</th>\n",
              "    </tr>\n",
              "  </thead>\n",
              "  <tbody>\n",
              "    <tr>\n",
              "      <th>0</th>\n",
              "      <td>All Features: Basic Model</td>\n",
              "      <td>35.335</td>\n",
              "    </tr>\n",
              "    <tr>\n",
              "      <th>1</th>\n",
              "      <td>Selected Features: Basic Model</td>\n",
              "      <td>43.164</td>\n",
              "    </tr>\n",
              "    <tr>\n",
              "      <th>2</th>\n",
              "      <td>All Features: Iteratively Trained on Top Features</td>\n",
              "      <td>31.994</td>\n",
              "    </tr>\n",
              "    <tr>\n",
              "      <th>3</th>\n",
              "      <td>Selected Features: Iteratively Trained on Top ...</td>\n",
              "      <td>45.869</td>\n",
              "    </tr>\n",
              "    <tr>\n",
              "      <th>4</th>\n",
              "      <td>All Features: Grid Search CV</td>\n",
              "      <td>35.236</td>\n",
              "    </tr>\n",
              "    <tr>\n",
              "      <th>5</th>\n",
              "      <td>Selected Features: Grid Search CV</td>\n",
              "      <td>31.213</td>\n",
              "    </tr>\n",
              "    <tr>\n",
              "      <th>6</th>\n",
              "      <td>All Features: Forward Selection</td>\n",
              "      <td>113.434</td>\n",
              "    </tr>\n",
              "    <tr>\n",
              "      <th>7</th>\n",
              "      <td>Selected Features: Forward Selection</td>\n",
              "      <td>39.570</td>\n",
              "    </tr>\n",
              "    <tr>\n",
              "      <th>8</th>\n",
              "      <td>All Features: Backward Elimination</td>\n",
              "      <td>34.147</td>\n",
              "    </tr>\n",
              "    <tr>\n",
              "      <th>9</th>\n",
              "      <td>Selected Features: Backward Elimination</td>\n",
              "      <td>32.460</td>\n",
              "    </tr>\n",
              "  </tbody>\n",
              "</table>\n",
              "</div>\n",
              "    <div class=\"colab-df-buttons\">\n",
              "\n",
              "  <div class=\"colab-df-container\">\n",
              "    <button class=\"colab-df-convert\" onclick=\"convertToInteractive('df-dbd6d16c-5157-4a40-a5a9-6d524b2012c6')\"\n",
              "            title=\"Convert this dataframe to an interactive table.\"\n",
              "            style=\"display:none;\">\n",
              "\n",
              "  <svg xmlns=\"http://www.w3.org/2000/svg\" height=\"24px\" viewBox=\"0 -960 960 960\">\n",
              "    <path d=\"M120-120v-720h720v720H120Zm60-500h600v-160H180v160Zm220 220h160v-160H400v160Zm0 220h160v-160H400v160ZM180-400h160v-160H180v160Zm440 0h160v-160H620v160ZM180-180h160v-160H180v160Zm440 0h160v-160H620v160Z\"/>\n",
              "  </svg>\n",
              "    </button>\n",
              "\n",
              "  <style>\n",
              "    .colab-df-container {\n",
              "      display:flex;\n",
              "      gap: 12px;\n",
              "    }\n",
              "\n",
              "    .colab-df-convert {\n",
              "      background-color: #E8F0FE;\n",
              "      border: none;\n",
              "      border-radius: 50%;\n",
              "      cursor: pointer;\n",
              "      display: none;\n",
              "      fill: #1967D2;\n",
              "      height: 32px;\n",
              "      padding: 0 0 0 0;\n",
              "      width: 32px;\n",
              "    }\n",
              "\n",
              "    .colab-df-convert:hover {\n",
              "      background-color: #E2EBFA;\n",
              "      box-shadow: 0px 1px 2px rgba(60, 64, 67, 0.3), 0px 1px 3px 1px rgba(60, 64, 67, 0.15);\n",
              "      fill: #174EA6;\n",
              "    }\n",
              "\n",
              "    .colab-df-buttons div {\n",
              "      margin-bottom: 4px;\n",
              "    }\n",
              "\n",
              "    [theme=dark] .colab-df-convert {\n",
              "      background-color: #3B4455;\n",
              "      fill: #D2E3FC;\n",
              "    }\n",
              "\n",
              "    [theme=dark] .colab-df-convert:hover {\n",
              "      background-color: #434B5C;\n",
              "      box-shadow: 0px 1px 3px 1px rgba(0, 0, 0, 0.15);\n",
              "      filter: drop-shadow(0px 1px 2px rgba(0, 0, 0, 0.3));\n",
              "      fill: #FFFFFF;\n",
              "    }\n",
              "  </style>\n",
              "\n",
              "    <script>\n",
              "      const buttonEl =\n",
              "        document.querySelector('#df-dbd6d16c-5157-4a40-a5a9-6d524b2012c6 button.colab-df-convert');\n",
              "      buttonEl.style.display =\n",
              "        google.colab.kernel.accessAllowed ? 'block' : 'none';\n",
              "\n",
              "      async function convertToInteractive(key) {\n",
              "        const element = document.querySelector('#df-dbd6d16c-5157-4a40-a5a9-6d524b2012c6');\n",
              "        const dataTable =\n",
              "          await google.colab.kernel.invokeFunction('convertToInteractive',\n",
              "                                                    [key], {});\n",
              "        if (!dataTable) return;\n",
              "\n",
              "        const docLinkHtml = 'Like what you see? Visit the ' +\n",
              "          '<a target=\"_blank\" href=https://colab.research.google.com/notebooks/data_table.ipynb>data table notebook</a>'\n",
              "          + ' to learn more about interactive tables.';\n",
              "        element.innerHTML = '';\n",
              "        dataTable['output_type'] = 'display_data';\n",
              "        await google.colab.output.renderOutput(dataTable, element);\n",
              "        const docLink = document.createElement('div');\n",
              "        docLink.innerHTML = docLinkHtml;\n",
              "        element.appendChild(docLink);\n",
              "      }\n",
              "    </script>\n",
              "  </div>\n",
              "\n",
              "\n",
              "<div id=\"df-0ba68034-e3d2-47fb-b8d0-857fd69d369e\">\n",
              "  <button class=\"colab-df-quickchart\" onclick=\"quickchart('df-0ba68034-e3d2-47fb-b8d0-857fd69d369e')\"\n",
              "            title=\"Suggest charts\"\n",
              "            style=\"display:none;\">\n",
              "\n",
              "<svg xmlns=\"http://www.w3.org/2000/svg\" height=\"24px\"viewBox=\"0 0 24 24\"\n",
              "     width=\"24px\">\n",
              "    <g>\n",
              "        <path d=\"M19 3H5c-1.1 0-2 .9-2 2v14c0 1.1.9 2 2 2h14c1.1 0 2-.9 2-2V5c0-1.1-.9-2-2-2zM9 17H7v-7h2v7zm4 0h-2V7h2v10zm4 0h-2v-4h2v4z\"/>\n",
              "    </g>\n",
              "</svg>\n",
              "  </button>\n",
              "\n",
              "<style>\n",
              "  .colab-df-quickchart {\n",
              "      --bg-color: #E8F0FE;\n",
              "      --fill-color: #1967D2;\n",
              "      --hover-bg-color: #E2EBFA;\n",
              "      --hover-fill-color: #174EA6;\n",
              "      --disabled-fill-color: #AAA;\n",
              "      --disabled-bg-color: #DDD;\n",
              "  }\n",
              "\n",
              "  [theme=dark] .colab-df-quickchart {\n",
              "      --bg-color: #3B4455;\n",
              "      --fill-color: #D2E3FC;\n",
              "      --hover-bg-color: #434B5C;\n",
              "      --hover-fill-color: #FFFFFF;\n",
              "      --disabled-bg-color: #3B4455;\n",
              "      --disabled-fill-color: #666;\n",
              "  }\n",
              "\n",
              "  .colab-df-quickchart {\n",
              "    background-color: var(--bg-color);\n",
              "    border: none;\n",
              "    border-radius: 50%;\n",
              "    cursor: pointer;\n",
              "    display: none;\n",
              "    fill: var(--fill-color);\n",
              "    height: 32px;\n",
              "    padding: 0;\n",
              "    width: 32px;\n",
              "  }\n",
              "\n",
              "  .colab-df-quickchart:hover {\n",
              "    background-color: var(--hover-bg-color);\n",
              "    box-shadow: 0 1px 2px rgba(60, 64, 67, 0.3), 0 1px 3px 1px rgba(60, 64, 67, 0.15);\n",
              "    fill: var(--button-hover-fill-color);\n",
              "  }\n",
              "\n",
              "  .colab-df-quickchart-complete:disabled,\n",
              "  .colab-df-quickchart-complete:disabled:hover {\n",
              "    background-color: var(--disabled-bg-color);\n",
              "    fill: var(--disabled-fill-color);\n",
              "    box-shadow: none;\n",
              "  }\n",
              "\n",
              "  .colab-df-spinner {\n",
              "    border: 2px solid var(--fill-color);\n",
              "    border-color: transparent;\n",
              "    border-bottom-color: var(--fill-color);\n",
              "    animation:\n",
              "      spin 1s steps(1) infinite;\n",
              "  }\n",
              "\n",
              "  @keyframes spin {\n",
              "    0% {\n",
              "      border-color: transparent;\n",
              "      border-bottom-color: var(--fill-color);\n",
              "      border-left-color: var(--fill-color);\n",
              "    }\n",
              "    20% {\n",
              "      border-color: transparent;\n",
              "      border-left-color: var(--fill-color);\n",
              "      border-top-color: var(--fill-color);\n",
              "    }\n",
              "    30% {\n",
              "      border-color: transparent;\n",
              "      border-left-color: var(--fill-color);\n",
              "      border-top-color: var(--fill-color);\n",
              "      border-right-color: var(--fill-color);\n",
              "    }\n",
              "    40% {\n",
              "      border-color: transparent;\n",
              "      border-right-color: var(--fill-color);\n",
              "      border-top-color: var(--fill-color);\n",
              "    }\n",
              "    60% {\n",
              "      border-color: transparent;\n",
              "      border-right-color: var(--fill-color);\n",
              "    }\n",
              "    80% {\n",
              "      border-color: transparent;\n",
              "      border-right-color: var(--fill-color);\n",
              "      border-bottom-color: var(--fill-color);\n",
              "    }\n",
              "    90% {\n",
              "      border-color: transparent;\n",
              "      border-bottom-color: var(--fill-color);\n",
              "    }\n",
              "  }\n",
              "</style>\n",
              "\n",
              "  <script>\n",
              "    async function quickchart(key) {\n",
              "      const quickchartButtonEl =\n",
              "        document.querySelector('#' + key + ' button');\n",
              "      quickchartButtonEl.disabled = true;  // To prevent multiple clicks.\n",
              "      quickchartButtonEl.classList.add('colab-df-spinner');\n",
              "      try {\n",
              "        const charts = await google.colab.kernel.invokeFunction(\n",
              "            'suggestCharts', [key], {});\n",
              "      } catch (error) {\n",
              "        console.error('Error during call to suggestCharts:', error);\n",
              "      }\n",
              "      quickchartButtonEl.classList.remove('colab-df-spinner');\n",
              "      quickchartButtonEl.classList.add('colab-df-quickchart-complete');\n",
              "    }\n",
              "    (() => {\n",
              "      let quickchartButtonEl =\n",
              "        document.querySelector('#df-0ba68034-e3d2-47fb-b8d0-857fd69d369e button');\n",
              "      quickchartButtonEl.style.display =\n",
              "        google.colab.kernel.accessAllowed ? 'block' : 'none';\n",
              "    })();\n",
              "  </script>\n",
              "</div>\n",
              "\n",
              "  <div id=\"id_1bc090d2-f488-4d31-9f30-3c53798f952a\">\n",
              "    <style>\n",
              "      .colab-df-generate {\n",
              "        background-color: #E8F0FE;\n",
              "        border: none;\n",
              "        border-radius: 50%;\n",
              "        cursor: pointer;\n",
              "        display: none;\n",
              "        fill: #1967D2;\n",
              "        height: 32px;\n",
              "        padding: 0 0 0 0;\n",
              "        width: 32px;\n",
              "      }\n",
              "\n",
              "      .colab-df-generate:hover {\n",
              "        background-color: #E2EBFA;\n",
              "        box-shadow: 0px 1px 2px rgba(60, 64, 67, 0.3), 0px 1px 3px 1px rgba(60, 64, 67, 0.15);\n",
              "        fill: #174EA6;\n",
              "      }\n",
              "\n",
              "      [theme=dark] .colab-df-generate {\n",
              "        background-color: #3B4455;\n",
              "        fill: #D2E3FC;\n",
              "      }\n",
              "\n",
              "      [theme=dark] .colab-df-generate:hover {\n",
              "        background-color: #434B5C;\n",
              "        box-shadow: 0px 1px 3px 1px rgba(0, 0, 0, 0.15);\n",
              "        filter: drop-shadow(0px 1px 2px rgba(0, 0, 0, 0.3));\n",
              "        fill: #FFFFFF;\n",
              "      }\n",
              "    </style>\n",
              "    <button class=\"colab-df-generate\" onclick=\"generateWithVariable('rf_results_summary_df')\"\n",
              "            title=\"Generate code using this dataframe.\"\n",
              "            style=\"display:none;\">\n",
              "\n",
              "  <svg xmlns=\"http://www.w3.org/2000/svg\" height=\"24px\"viewBox=\"0 0 24 24\"\n",
              "       width=\"24px\">\n",
              "    <path d=\"M7,19H8.4L18.45,9,17,7.55,7,17.6ZM5,21V16.75L18.45,3.32a2,2,0,0,1,2.83,0l1.4,1.43a1.91,1.91,0,0,1,.58,1.4,1.91,1.91,0,0,1-.58,1.4L9.25,21ZM18.45,9,17,7.55Zm-12,3A5.31,5.31,0,0,0,4.9,8.1,5.31,5.31,0,0,0,1,6.5,5.31,5.31,0,0,0,4.9,4.9,5.31,5.31,0,0,0,6.5,1,5.31,5.31,0,0,0,8.1,4.9,5.31,5.31,0,0,0,12,6.5,5.46,5.46,0,0,0,6.5,12Z\"/>\n",
              "  </svg>\n",
              "    </button>\n",
              "    <script>\n",
              "      (() => {\n",
              "      const buttonEl =\n",
              "        document.querySelector('#id_1bc090d2-f488-4d31-9f30-3c53798f952a button.colab-df-generate');\n",
              "      buttonEl.style.display =\n",
              "        google.colab.kernel.accessAllowed ? 'block' : 'none';\n",
              "\n",
              "      buttonEl.onclick = () => {\n",
              "        google.colab.notebook.generateWithVariable('rf_results_summary_df');\n",
              "      }\n",
              "      })();\n",
              "    </script>\n",
              "  </div>\n",
              "\n",
              "    </div>\n",
              "  </div>\n"
            ],
            "application/vnd.google.colaboratory.intrinsic+json": {
              "type": "dataframe",
              "variable_name": "rf_results_summary_df",
              "summary": "{\n  \"name\": \"rf_results_summary_df\",\n  \"rows\": 10,\n  \"fields\": [\n    {\n      \"column\": \"Random Forest Model\",\n      \"properties\": {\n        \"dtype\": \"string\",\n        \"num_unique_values\": 10,\n        \"samples\": [\n          \"All Features: Backward Elimination\",\n          \"Selected Features: Basic Model\",\n          \"Selected Features: Grid Search CV\"\n        ],\n        \"semantic_type\": \"\",\n        \"description\": \"\"\n      }\n    },\n    {\n      \"column\": \"Test RMSE\",\n      \"properties\": {\n        \"dtype\": \"number\",\n        \"std\": 24.79718899750086,\n        \"min\": 31.213,\n        \"max\": 113.434,\n        \"num_unique_values\": 10,\n        \"samples\": [\n          34.147,\n          43.164,\n          31.213\n        ],\n        \"semantic_type\": \"\",\n        \"description\": \"\"\n      }\n    }\n  ]\n}"
            }
          },
          "metadata": {},
          "execution_count": 132
        }
      ]
    },
    {
      "cell_type": "markdown",
      "source": [
        "From our various Random Forest models, the model with the Grid Search Cross Validation on Selected Features has the lowest RMSE on test data. The feature importance data from this model is presented below:"
      ],
      "metadata": {
        "id": "UfTtdFUFNz5t"
      }
    },
    {
      "cell_type": "code",
      "source": [
        "results_selected_gs_features"
      ],
      "metadata": {
        "colab": {
          "base_uri": "https://localhost:8080/",
          "height": 770
        },
        "id": "O2EdtvgmOxHk",
        "outputId": "093fc8fc-591b-4432-9d72-7019104bd708"
      },
      "execution_count": null,
      "outputs": [
        {
          "output_type": "execute_result",
          "data": {
            "text/plain": [
              "                      Feature     Score\n",
              "0                 totalAssets  0.129405\n",
              "1   operatingCashFlowPerShare  0.126714\n",
              "2                   netIncome  0.096540\n",
              "3                      ebitda  0.093344\n",
              "4                         eps  0.092403\n",
              "5                     revenue  0.080148\n",
              "6        freeCashFlowPerShare  0.070664\n",
              "7                        roic  0.046475\n",
              "8               dividendsPaid  0.045110\n",
              "9                        ^VIX  0.042469\n",
              "10                   ivput270  0.040647\n",
              "11             returnOnEquity  0.040323\n",
              "12            netProfitMargin  0.032200\n",
              "13              weightedScore  0.018833\n",
              "14                   ivmean30  0.013106\n",
              "15        stocktwitsSentiment  0.012084\n",
              "16           twitterSentiment  0.011490\n",
              "17        news_sentimentScore  0.003846\n",
              "18                      Grade  0.003395\n",
              "19         congress_net_trade  0.000635\n",
              "20                   Surprise  0.000086\n",
              "21                 Dividend_y  0.000082\n",
              "22                  Sentiment  0.000000"
            ],
            "text/html": [
              "\n",
              "  <div id=\"df-9757bcb7-6463-4cbc-aabc-a7fe817b116e\" class=\"colab-df-container\">\n",
              "    <div>\n",
              "<style scoped>\n",
              "    .dataframe tbody tr th:only-of-type {\n",
              "        vertical-align: middle;\n",
              "    }\n",
              "\n",
              "    .dataframe tbody tr th {\n",
              "        vertical-align: top;\n",
              "    }\n",
              "\n",
              "    .dataframe thead th {\n",
              "        text-align: right;\n",
              "    }\n",
              "</style>\n",
              "<table border=\"1\" class=\"dataframe\">\n",
              "  <thead>\n",
              "    <tr style=\"text-align: right;\">\n",
              "      <th></th>\n",
              "      <th>Feature</th>\n",
              "      <th>Score</th>\n",
              "    </tr>\n",
              "  </thead>\n",
              "  <tbody>\n",
              "    <tr>\n",
              "      <th>0</th>\n",
              "      <td>totalAssets</td>\n",
              "      <td>0.129405</td>\n",
              "    </tr>\n",
              "    <tr>\n",
              "      <th>1</th>\n",
              "      <td>operatingCashFlowPerShare</td>\n",
              "      <td>0.126714</td>\n",
              "    </tr>\n",
              "    <tr>\n",
              "      <th>2</th>\n",
              "      <td>netIncome</td>\n",
              "      <td>0.096540</td>\n",
              "    </tr>\n",
              "    <tr>\n",
              "      <th>3</th>\n",
              "      <td>ebitda</td>\n",
              "      <td>0.093344</td>\n",
              "    </tr>\n",
              "    <tr>\n",
              "      <th>4</th>\n",
              "      <td>eps</td>\n",
              "      <td>0.092403</td>\n",
              "    </tr>\n",
              "    <tr>\n",
              "      <th>5</th>\n",
              "      <td>revenue</td>\n",
              "      <td>0.080148</td>\n",
              "    </tr>\n",
              "    <tr>\n",
              "      <th>6</th>\n",
              "      <td>freeCashFlowPerShare</td>\n",
              "      <td>0.070664</td>\n",
              "    </tr>\n",
              "    <tr>\n",
              "      <th>7</th>\n",
              "      <td>roic</td>\n",
              "      <td>0.046475</td>\n",
              "    </tr>\n",
              "    <tr>\n",
              "      <th>8</th>\n",
              "      <td>dividendsPaid</td>\n",
              "      <td>0.045110</td>\n",
              "    </tr>\n",
              "    <tr>\n",
              "      <th>9</th>\n",
              "      <td>^VIX</td>\n",
              "      <td>0.042469</td>\n",
              "    </tr>\n",
              "    <tr>\n",
              "      <th>10</th>\n",
              "      <td>ivput270</td>\n",
              "      <td>0.040647</td>\n",
              "    </tr>\n",
              "    <tr>\n",
              "      <th>11</th>\n",
              "      <td>returnOnEquity</td>\n",
              "      <td>0.040323</td>\n",
              "    </tr>\n",
              "    <tr>\n",
              "      <th>12</th>\n",
              "      <td>netProfitMargin</td>\n",
              "      <td>0.032200</td>\n",
              "    </tr>\n",
              "    <tr>\n",
              "      <th>13</th>\n",
              "      <td>weightedScore</td>\n",
              "      <td>0.018833</td>\n",
              "    </tr>\n",
              "    <tr>\n",
              "      <th>14</th>\n",
              "      <td>ivmean30</td>\n",
              "      <td>0.013106</td>\n",
              "    </tr>\n",
              "    <tr>\n",
              "      <th>15</th>\n",
              "      <td>stocktwitsSentiment</td>\n",
              "      <td>0.012084</td>\n",
              "    </tr>\n",
              "    <tr>\n",
              "      <th>16</th>\n",
              "      <td>twitterSentiment</td>\n",
              "      <td>0.011490</td>\n",
              "    </tr>\n",
              "    <tr>\n",
              "      <th>17</th>\n",
              "      <td>news_sentimentScore</td>\n",
              "      <td>0.003846</td>\n",
              "    </tr>\n",
              "    <tr>\n",
              "      <th>18</th>\n",
              "      <td>Grade</td>\n",
              "      <td>0.003395</td>\n",
              "    </tr>\n",
              "    <tr>\n",
              "      <th>19</th>\n",
              "      <td>congress_net_trade</td>\n",
              "      <td>0.000635</td>\n",
              "    </tr>\n",
              "    <tr>\n",
              "      <th>20</th>\n",
              "      <td>Surprise</td>\n",
              "      <td>0.000086</td>\n",
              "    </tr>\n",
              "    <tr>\n",
              "      <th>21</th>\n",
              "      <td>Dividend_y</td>\n",
              "      <td>0.000082</td>\n",
              "    </tr>\n",
              "    <tr>\n",
              "      <th>22</th>\n",
              "      <td>Sentiment</td>\n",
              "      <td>0.000000</td>\n",
              "    </tr>\n",
              "  </tbody>\n",
              "</table>\n",
              "</div>\n",
              "    <div class=\"colab-df-buttons\">\n",
              "\n",
              "  <div class=\"colab-df-container\">\n",
              "    <button class=\"colab-df-convert\" onclick=\"convertToInteractive('df-9757bcb7-6463-4cbc-aabc-a7fe817b116e')\"\n",
              "            title=\"Convert this dataframe to an interactive table.\"\n",
              "            style=\"display:none;\">\n",
              "\n",
              "  <svg xmlns=\"http://www.w3.org/2000/svg\" height=\"24px\" viewBox=\"0 -960 960 960\">\n",
              "    <path d=\"M120-120v-720h720v720H120Zm60-500h600v-160H180v160Zm220 220h160v-160H400v160Zm0 220h160v-160H400v160ZM180-400h160v-160H180v160Zm440 0h160v-160H620v160ZM180-180h160v-160H180v160Zm440 0h160v-160H620v160Z\"/>\n",
              "  </svg>\n",
              "    </button>\n",
              "\n",
              "  <style>\n",
              "    .colab-df-container {\n",
              "      display:flex;\n",
              "      gap: 12px;\n",
              "    }\n",
              "\n",
              "    .colab-df-convert {\n",
              "      background-color: #E8F0FE;\n",
              "      border: none;\n",
              "      border-radius: 50%;\n",
              "      cursor: pointer;\n",
              "      display: none;\n",
              "      fill: #1967D2;\n",
              "      height: 32px;\n",
              "      padding: 0 0 0 0;\n",
              "      width: 32px;\n",
              "    }\n",
              "\n",
              "    .colab-df-convert:hover {\n",
              "      background-color: #E2EBFA;\n",
              "      box-shadow: 0px 1px 2px rgba(60, 64, 67, 0.3), 0px 1px 3px 1px rgba(60, 64, 67, 0.15);\n",
              "      fill: #174EA6;\n",
              "    }\n",
              "\n",
              "    .colab-df-buttons div {\n",
              "      margin-bottom: 4px;\n",
              "    }\n",
              "\n",
              "    [theme=dark] .colab-df-convert {\n",
              "      background-color: #3B4455;\n",
              "      fill: #D2E3FC;\n",
              "    }\n",
              "\n",
              "    [theme=dark] .colab-df-convert:hover {\n",
              "      background-color: #434B5C;\n",
              "      box-shadow: 0px 1px 3px 1px rgba(0, 0, 0, 0.15);\n",
              "      filter: drop-shadow(0px 1px 2px rgba(0, 0, 0, 0.3));\n",
              "      fill: #FFFFFF;\n",
              "    }\n",
              "  </style>\n",
              "\n",
              "    <script>\n",
              "      const buttonEl =\n",
              "        document.querySelector('#df-9757bcb7-6463-4cbc-aabc-a7fe817b116e button.colab-df-convert');\n",
              "      buttonEl.style.display =\n",
              "        google.colab.kernel.accessAllowed ? 'block' : 'none';\n",
              "\n",
              "      async function convertToInteractive(key) {\n",
              "        const element = document.querySelector('#df-9757bcb7-6463-4cbc-aabc-a7fe817b116e');\n",
              "        const dataTable =\n",
              "          await google.colab.kernel.invokeFunction('convertToInteractive',\n",
              "                                                    [key], {});\n",
              "        if (!dataTable) return;\n",
              "\n",
              "        const docLinkHtml = 'Like what you see? Visit the ' +\n",
              "          '<a target=\"_blank\" href=https://colab.research.google.com/notebooks/data_table.ipynb>data table notebook</a>'\n",
              "          + ' to learn more about interactive tables.';\n",
              "        element.innerHTML = '';\n",
              "        dataTable['output_type'] = 'display_data';\n",
              "        await google.colab.output.renderOutput(dataTable, element);\n",
              "        const docLink = document.createElement('div');\n",
              "        docLink.innerHTML = docLinkHtml;\n",
              "        element.appendChild(docLink);\n",
              "      }\n",
              "    </script>\n",
              "  </div>\n",
              "\n",
              "\n",
              "<div id=\"df-29952b01-9a21-41c9-a0e2-785df7482e11\">\n",
              "  <button class=\"colab-df-quickchart\" onclick=\"quickchart('df-29952b01-9a21-41c9-a0e2-785df7482e11')\"\n",
              "            title=\"Suggest charts\"\n",
              "            style=\"display:none;\">\n",
              "\n",
              "<svg xmlns=\"http://www.w3.org/2000/svg\" height=\"24px\"viewBox=\"0 0 24 24\"\n",
              "     width=\"24px\">\n",
              "    <g>\n",
              "        <path d=\"M19 3H5c-1.1 0-2 .9-2 2v14c0 1.1.9 2 2 2h14c1.1 0 2-.9 2-2V5c0-1.1-.9-2-2-2zM9 17H7v-7h2v7zm4 0h-2V7h2v10zm4 0h-2v-4h2v4z\"/>\n",
              "    </g>\n",
              "</svg>\n",
              "  </button>\n",
              "\n",
              "<style>\n",
              "  .colab-df-quickchart {\n",
              "      --bg-color: #E8F0FE;\n",
              "      --fill-color: #1967D2;\n",
              "      --hover-bg-color: #E2EBFA;\n",
              "      --hover-fill-color: #174EA6;\n",
              "      --disabled-fill-color: #AAA;\n",
              "      --disabled-bg-color: #DDD;\n",
              "  }\n",
              "\n",
              "  [theme=dark] .colab-df-quickchart {\n",
              "      --bg-color: #3B4455;\n",
              "      --fill-color: #D2E3FC;\n",
              "      --hover-bg-color: #434B5C;\n",
              "      --hover-fill-color: #FFFFFF;\n",
              "      --disabled-bg-color: #3B4455;\n",
              "      --disabled-fill-color: #666;\n",
              "  }\n",
              "\n",
              "  .colab-df-quickchart {\n",
              "    background-color: var(--bg-color);\n",
              "    border: none;\n",
              "    border-radius: 50%;\n",
              "    cursor: pointer;\n",
              "    display: none;\n",
              "    fill: var(--fill-color);\n",
              "    height: 32px;\n",
              "    padding: 0;\n",
              "    width: 32px;\n",
              "  }\n",
              "\n",
              "  .colab-df-quickchart:hover {\n",
              "    background-color: var(--hover-bg-color);\n",
              "    box-shadow: 0 1px 2px rgba(60, 64, 67, 0.3), 0 1px 3px 1px rgba(60, 64, 67, 0.15);\n",
              "    fill: var(--button-hover-fill-color);\n",
              "  }\n",
              "\n",
              "  .colab-df-quickchart-complete:disabled,\n",
              "  .colab-df-quickchart-complete:disabled:hover {\n",
              "    background-color: var(--disabled-bg-color);\n",
              "    fill: var(--disabled-fill-color);\n",
              "    box-shadow: none;\n",
              "  }\n",
              "\n",
              "  .colab-df-spinner {\n",
              "    border: 2px solid var(--fill-color);\n",
              "    border-color: transparent;\n",
              "    border-bottom-color: var(--fill-color);\n",
              "    animation:\n",
              "      spin 1s steps(1) infinite;\n",
              "  }\n",
              "\n",
              "  @keyframes spin {\n",
              "    0% {\n",
              "      border-color: transparent;\n",
              "      border-bottom-color: var(--fill-color);\n",
              "      border-left-color: var(--fill-color);\n",
              "    }\n",
              "    20% {\n",
              "      border-color: transparent;\n",
              "      border-left-color: var(--fill-color);\n",
              "      border-top-color: var(--fill-color);\n",
              "    }\n",
              "    30% {\n",
              "      border-color: transparent;\n",
              "      border-left-color: var(--fill-color);\n",
              "      border-top-color: var(--fill-color);\n",
              "      border-right-color: var(--fill-color);\n",
              "    }\n",
              "    40% {\n",
              "      border-color: transparent;\n",
              "      border-right-color: var(--fill-color);\n",
              "      border-top-color: var(--fill-color);\n",
              "    }\n",
              "    60% {\n",
              "      border-color: transparent;\n",
              "      border-right-color: var(--fill-color);\n",
              "    }\n",
              "    80% {\n",
              "      border-color: transparent;\n",
              "      border-right-color: var(--fill-color);\n",
              "      border-bottom-color: var(--fill-color);\n",
              "    }\n",
              "    90% {\n",
              "      border-color: transparent;\n",
              "      border-bottom-color: var(--fill-color);\n",
              "    }\n",
              "  }\n",
              "</style>\n",
              "\n",
              "  <script>\n",
              "    async function quickchart(key) {\n",
              "      const quickchartButtonEl =\n",
              "        document.querySelector('#' + key + ' button');\n",
              "      quickchartButtonEl.disabled = true;  // To prevent multiple clicks.\n",
              "      quickchartButtonEl.classList.add('colab-df-spinner');\n",
              "      try {\n",
              "        const charts = await google.colab.kernel.invokeFunction(\n",
              "            'suggestCharts', [key], {});\n",
              "      } catch (error) {\n",
              "        console.error('Error during call to suggestCharts:', error);\n",
              "      }\n",
              "      quickchartButtonEl.classList.remove('colab-df-spinner');\n",
              "      quickchartButtonEl.classList.add('colab-df-quickchart-complete');\n",
              "    }\n",
              "    (() => {\n",
              "      let quickchartButtonEl =\n",
              "        document.querySelector('#df-29952b01-9a21-41c9-a0e2-785df7482e11 button');\n",
              "      quickchartButtonEl.style.display =\n",
              "        google.colab.kernel.accessAllowed ? 'block' : 'none';\n",
              "    })();\n",
              "  </script>\n",
              "</div>\n",
              "\n",
              "  <div id=\"id_4b55d26c-e5a3-40ad-ae35-73df395c90fc\">\n",
              "    <style>\n",
              "      .colab-df-generate {\n",
              "        background-color: #E8F0FE;\n",
              "        border: none;\n",
              "        border-radius: 50%;\n",
              "        cursor: pointer;\n",
              "        display: none;\n",
              "        fill: #1967D2;\n",
              "        height: 32px;\n",
              "        padding: 0 0 0 0;\n",
              "        width: 32px;\n",
              "      }\n",
              "\n",
              "      .colab-df-generate:hover {\n",
              "        background-color: #E2EBFA;\n",
              "        box-shadow: 0px 1px 2px rgba(60, 64, 67, 0.3), 0px 1px 3px 1px rgba(60, 64, 67, 0.15);\n",
              "        fill: #174EA6;\n",
              "      }\n",
              "\n",
              "      [theme=dark] .colab-df-generate {\n",
              "        background-color: #3B4455;\n",
              "        fill: #D2E3FC;\n",
              "      }\n",
              "\n",
              "      [theme=dark] .colab-df-generate:hover {\n",
              "        background-color: #434B5C;\n",
              "        box-shadow: 0px 1px 3px 1px rgba(0, 0, 0, 0.15);\n",
              "        filter: drop-shadow(0px 1px 2px rgba(0, 0, 0, 0.3));\n",
              "        fill: #FFFFFF;\n",
              "      }\n",
              "    </style>\n",
              "    <button class=\"colab-df-generate\" onclick=\"generateWithVariable('results_selected_gs_features')\"\n",
              "            title=\"Generate code using this dataframe.\"\n",
              "            style=\"display:none;\">\n",
              "\n",
              "  <svg xmlns=\"http://www.w3.org/2000/svg\" height=\"24px\"viewBox=\"0 0 24 24\"\n",
              "       width=\"24px\">\n",
              "    <path d=\"M7,19H8.4L18.45,9,17,7.55,7,17.6ZM5,21V16.75L18.45,3.32a2,2,0,0,1,2.83,0l1.4,1.43a1.91,1.91,0,0,1,.58,1.4,1.91,1.91,0,0,1-.58,1.4L9.25,21ZM18.45,9,17,7.55Zm-12,3A5.31,5.31,0,0,0,4.9,8.1,5.31,5.31,0,0,0,1,6.5,5.31,5.31,0,0,0,4.9,4.9,5.31,5.31,0,0,0,6.5,1,5.31,5.31,0,0,0,8.1,4.9,5.31,5.31,0,0,0,12,6.5,5.46,5.46,0,0,0,6.5,12Z\"/>\n",
              "  </svg>\n",
              "    </button>\n",
              "    <script>\n",
              "      (() => {\n",
              "      const buttonEl =\n",
              "        document.querySelector('#id_4b55d26c-e5a3-40ad-ae35-73df395c90fc button.colab-df-generate');\n",
              "      buttonEl.style.display =\n",
              "        google.colab.kernel.accessAllowed ? 'block' : 'none';\n",
              "\n",
              "      buttonEl.onclick = () => {\n",
              "        google.colab.notebook.generateWithVariable('results_selected_gs_features');\n",
              "      }\n",
              "      })();\n",
              "    </script>\n",
              "  </div>\n",
              "\n",
              "    </div>\n",
              "  </div>\n"
            ],
            "application/vnd.google.colaboratory.intrinsic+json": {
              "type": "dataframe",
              "variable_name": "results_selected_gs_features",
              "summary": "{\n  \"name\": \"results_selected_gs_features\",\n  \"rows\": 23,\n  \"fields\": [\n    {\n      \"column\": \"Feature\",\n      \"properties\": {\n        \"dtype\": \"string\",\n        \"num_unique_values\": 23,\n        \"samples\": [\n          \"stocktwitsSentiment\",\n          \"^VIX\",\n          \"totalAssets\"\n        ],\n        \"semantic_type\": \"\",\n        \"description\": \"\"\n      }\n    },\n    {\n      \"column\": \"Score\",\n      \"properties\": {\n        \"dtype\": \"number\",\n        \"std\": 0.041809699851158205,\n        \"min\": 0.0,\n        \"max\": 0.129405446,\n        \"num_unique_values\": 23,\n        \"samples\": [\n          0.012084439,\n          0.042468904,\n          0.129405446\n        ],\n        \"semantic_type\": \"\",\n        \"description\": \"\"\n      }\n    }\n  ]\n}"
            }
          },
          "metadata": {},
          "execution_count": 115
        }
      ]
    },
    {
      "cell_type": "code",
      "source": [
        "top_10_features = results_selected_gs_features.head(10)\n",
        "remaining_features = results_selected_gs_features.iloc[10:]\n",
        "\n",
        "# Sum the scores of the remaining features\n",
        "sum_of_remaining = remaining_features['Score'].sum()\n",
        "\n",
        "# Create a new row for the sum of remaining features and label it 'Other'\n",
        "other_row = pd.DataFrame(data={'Feature': ['Other'], 'Score': [sum_of_remaining]})\n",
        "\n",
        "# Append this row to the top 10 features DataFrame\n",
        "final_df = pd.concat([top_10_features, other_row], ignore_index=True)\n",
        "\n",
        "fig = px.pie(final_df, values='Score', names='Feature',\n",
        "             title='Top 10 Features and Scores',\n",
        "             color_discrete_sequence=px.colors.qualitative.Pastel1)\n",
        "\n",
        "\n",
        "fig.update_traces(textposition='outside', textinfo='label+percent',\n",
        "                  hoverinfo='label+percent',\n",
        "                  insidetextorientation='radial')\n",
        "\n",
        "\n",
        "fig.update_layout(\n",
        "    uniformtext_minsize=10,\n",
        "    uniformtext_mode='hide',\n",
        "    showlegend=False,\n",
        "    autosize=False,\n",
        "    width=1000,\n",
        "    height=600,\n",
        "    template='plotly_white'\n",
        ")\n",
        "\n",
        "# Create a list of features in \"Other\" and format it as a single string\n",
        "other_features_list = remaining_features['Feature'].tolist()\n",
        "other_features_text = \"Other Features (17.7%):<br>\" + \"<br>\".join(other_features_list)\n",
        "\n",
        "# Add the annotation with the list of \"Other\" features on the right side of the chart\n",
        "fig.add_annotation(\n",
        "    text=other_features_text,\n",
        "    align='left',\n",
        "    showarrow=False,\n",
        "    xref='paper',\n",
        "    yref='paper',\n",
        "    x=1.3,\n",
        "    y=1.2\n",
        ")\n",
        "\n",
        "fig.show()"
      ],
      "metadata": {
        "colab": {
          "base_uri": "https://localhost:8080/",
          "height": 617
        },
        "id": "H3IdUXRsKS_v",
        "outputId": "7589bc8f-3de0-40f2-f2e6-c1d873695174"
      },
      "execution_count": null,
      "outputs": [
        {
          "output_type": "display_data",
          "data": {
            "text/html": [
              "<html>\n",
              "<head><meta charset=\"utf-8\" /></head>\n",
              "<body>\n",
              "    <div>            <script src=\"https://cdnjs.cloudflare.com/ajax/libs/mathjax/2.7.5/MathJax.js?config=TeX-AMS-MML_SVG\"></script><script type=\"text/javascript\">if (window.MathJax && window.MathJax.Hub && window.MathJax.Hub.Config) {window.MathJax.Hub.Config({SVG: {font: \"STIX-Web\"}});}</script>                <script type=\"text/javascript\">window.PlotlyConfig = {MathJaxConfig: 'local'};</script>\n",
              "        <script charset=\"utf-8\" src=\"https://cdn.plot.ly/plotly-2.24.1.min.js\"></script>                <div id=\"2063cef1-a95f-4b85-8f9e-28cc2a88d737\" class=\"plotly-graph-div\" style=\"height:600px; width:1000px;\"></div>            <script type=\"text/javascript\">                                    window.PLOTLYENV=window.PLOTLYENV || {};                                    if (document.getElementById(\"2063cef1-a95f-4b85-8f9e-28cc2a88d737\")) {                    Plotly.newPlot(                        \"2063cef1-a95f-4b85-8f9e-28cc2a88d737\",                        [{\"domain\":{\"x\":[0.0,1.0],\"y\":[0.0,1.0]},\"hovertemplate\":\"Feature=%{label}\\u003cbr\\u003eScore=%{value}\\u003cextra\\u003e\\u003c\\u002fextra\\u003e\",\"labels\":[\"totalAssets\",\"operatingCashFlowPerShare\",\"netIncome\",\"ebitda\",\"eps\",\"revenue\",\"freeCashFlowPerShare\",\"roic\",\"dividendsPaid\",\"^VIX\",\"Other\"],\"legendgroup\":\"\",\"name\":\"\",\"showlegend\":true,\"values\":[0.129405446,0.12671438,0.096539519,0.093344019,0.092402576,0.080148069,0.07066446,0.046475142,0.045110331,0.042468904,0.17672721],\"type\":\"pie\",\"hoverinfo\":\"label+percent\",\"insidetextorientation\":\"radial\",\"textinfo\":\"label+percent\",\"textposition\":\"outside\"}],                        {\"template\":{\"data\":{\"barpolar\":[{\"marker\":{\"line\":{\"color\":\"white\",\"width\":0.5},\"pattern\":{\"fillmode\":\"overlay\",\"size\":10,\"solidity\":0.2}},\"type\":\"barpolar\"}],\"bar\":[{\"error_x\":{\"color\":\"#2a3f5f\"},\"error_y\":{\"color\":\"#2a3f5f\"},\"marker\":{\"line\":{\"color\":\"white\",\"width\":0.5},\"pattern\":{\"fillmode\":\"overlay\",\"size\":10,\"solidity\":0.2}},\"type\":\"bar\"}],\"carpet\":[{\"aaxis\":{\"endlinecolor\":\"#2a3f5f\",\"gridcolor\":\"#C8D4E3\",\"linecolor\":\"#C8D4E3\",\"minorgridcolor\":\"#C8D4E3\",\"startlinecolor\":\"#2a3f5f\"},\"baxis\":{\"endlinecolor\":\"#2a3f5f\",\"gridcolor\":\"#C8D4E3\",\"linecolor\":\"#C8D4E3\",\"minorgridcolor\":\"#C8D4E3\",\"startlinecolor\":\"#2a3f5f\"},\"type\":\"carpet\"}],\"choropleth\":[{\"colorbar\":{\"outlinewidth\":0,\"ticks\":\"\"},\"type\":\"choropleth\"}],\"contourcarpet\":[{\"colorbar\":{\"outlinewidth\":0,\"ticks\":\"\"},\"type\":\"contourcarpet\"}],\"contour\":[{\"colorbar\":{\"outlinewidth\":0,\"ticks\":\"\"},\"colorscale\":[[0.0,\"#0d0887\"],[0.1111111111111111,\"#46039f\"],[0.2222222222222222,\"#7201a8\"],[0.3333333333333333,\"#9c179e\"],[0.4444444444444444,\"#bd3786\"],[0.5555555555555556,\"#d8576b\"],[0.6666666666666666,\"#ed7953\"],[0.7777777777777778,\"#fb9f3a\"],[0.8888888888888888,\"#fdca26\"],[1.0,\"#f0f921\"]],\"type\":\"contour\"}],\"heatmapgl\":[{\"colorbar\":{\"outlinewidth\":0,\"ticks\":\"\"},\"colorscale\":[[0.0,\"#0d0887\"],[0.1111111111111111,\"#46039f\"],[0.2222222222222222,\"#7201a8\"],[0.3333333333333333,\"#9c179e\"],[0.4444444444444444,\"#bd3786\"],[0.5555555555555556,\"#d8576b\"],[0.6666666666666666,\"#ed7953\"],[0.7777777777777778,\"#fb9f3a\"],[0.8888888888888888,\"#fdca26\"],[1.0,\"#f0f921\"]],\"type\":\"heatmapgl\"}],\"heatmap\":[{\"colorbar\":{\"outlinewidth\":0,\"ticks\":\"\"},\"colorscale\":[[0.0,\"#0d0887\"],[0.1111111111111111,\"#46039f\"],[0.2222222222222222,\"#7201a8\"],[0.3333333333333333,\"#9c179e\"],[0.4444444444444444,\"#bd3786\"],[0.5555555555555556,\"#d8576b\"],[0.6666666666666666,\"#ed7953\"],[0.7777777777777778,\"#fb9f3a\"],[0.8888888888888888,\"#fdca26\"],[1.0,\"#f0f921\"]],\"type\":\"heatmap\"}],\"histogram2dcontour\":[{\"colorbar\":{\"outlinewidth\":0,\"ticks\":\"\"},\"colorscale\":[[0.0,\"#0d0887\"],[0.1111111111111111,\"#46039f\"],[0.2222222222222222,\"#7201a8\"],[0.3333333333333333,\"#9c179e\"],[0.4444444444444444,\"#bd3786\"],[0.5555555555555556,\"#d8576b\"],[0.6666666666666666,\"#ed7953\"],[0.7777777777777778,\"#fb9f3a\"],[0.8888888888888888,\"#fdca26\"],[1.0,\"#f0f921\"]],\"type\":\"histogram2dcontour\"}],\"histogram2d\":[{\"colorbar\":{\"outlinewidth\":0,\"ticks\":\"\"},\"colorscale\":[[0.0,\"#0d0887\"],[0.1111111111111111,\"#46039f\"],[0.2222222222222222,\"#7201a8\"],[0.3333333333333333,\"#9c179e\"],[0.4444444444444444,\"#bd3786\"],[0.5555555555555556,\"#d8576b\"],[0.6666666666666666,\"#ed7953\"],[0.7777777777777778,\"#fb9f3a\"],[0.8888888888888888,\"#fdca26\"],[1.0,\"#f0f921\"]],\"type\":\"histogram2d\"}],\"histogram\":[{\"marker\":{\"pattern\":{\"fillmode\":\"overlay\",\"size\":10,\"solidity\":0.2}},\"type\":\"histogram\"}],\"mesh3d\":[{\"colorbar\":{\"outlinewidth\":0,\"ticks\":\"\"},\"type\":\"mesh3d\"}],\"parcoords\":[{\"line\":{\"colorbar\":{\"outlinewidth\":0,\"ticks\":\"\"}},\"type\":\"parcoords\"}],\"pie\":[{\"automargin\":true,\"type\":\"pie\"}],\"scatter3d\":[{\"line\":{\"colorbar\":{\"outlinewidth\":0,\"ticks\":\"\"}},\"marker\":{\"colorbar\":{\"outlinewidth\":0,\"ticks\":\"\"}},\"type\":\"scatter3d\"}],\"scattercarpet\":[{\"marker\":{\"colorbar\":{\"outlinewidth\":0,\"ticks\":\"\"}},\"type\":\"scattercarpet\"}],\"scattergeo\":[{\"marker\":{\"colorbar\":{\"outlinewidth\":0,\"ticks\":\"\"}},\"type\":\"scattergeo\"}],\"scattergl\":[{\"marker\":{\"colorbar\":{\"outlinewidth\":0,\"ticks\":\"\"}},\"type\":\"scattergl\"}],\"scattermapbox\":[{\"marker\":{\"colorbar\":{\"outlinewidth\":0,\"ticks\":\"\"}},\"type\":\"scattermapbox\"}],\"scatterpolargl\":[{\"marker\":{\"colorbar\":{\"outlinewidth\":0,\"ticks\":\"\"}},\"type\":\"scatterpolargl\"}],\"scatterpolar\":[{\"marker\":{\"colorbar\":{\"outlinewidth\":0,\"ticks\":\"\"}},\"type\":\"scatterpolar\"}],\"scatter\":[{\"fillpattern\":{\"fillmode\":\"overlay\",\"size\":10,\"solidity\":0.2},\"type\":\"scatter\"}],\"scatterternary\":[{\"marker\":{\"colorbar\":{\"outlinewidth\":0,\"ticks\":\"\"}},\"type\":\"scatterternary\"}],\"surface\":[{\"colorbar\":{\"outlinewidth\":0,\"ticks\":\"\"},\"colorscale\":[[0.0,\"#0d0887\"],[0.1111111111111111,\"#46039f\"],[0.2222222222222222,\"#7201a8\"],[0.3333333333333333,\"#9c179e\"],[0.4444444444444444,\"#bd3786\"],[0.5555555555555556,\"#d8576b\"],[0.6666666666666666,\"#ed7953\"],[0.7777777777777778,\"#fb9f3a\"],[0.8888888888888888,\"#fdca26\"],[1.0,\"#f0f921\"]],\"type\":\"surface\"}],\"table\":[{\"cells\":{\"fill\":{\"color\":\"#EBF0F8\"},\"line\":{\"color\":\"white\"}},\"header\":{\"fill\":{\"color\":\"#C8D4E3\"},\"line\":{\"color\":\"white\"}},\"type\":\"table\"}]},\"layout\":{\"annotationdefaults\":{\"arrowcolor\":\"#2a3f5f\",\"arrowhead\":0,\"arrowwidth\":1},\"autotypenumbers\":\"strict\",\"coloraxis\":{\"colorbar\":{\"outlinewidth\":0,\"ticks\":\"\"}},\"colorscale\":{\"diverging\":[[0,\"#8e0152\"],[0.1,\"#c51b7d\"],[0.2,\"#de77ae\"],[0.3,\"#f1b6da\"],[0.4,\"#fde0ef\"],[0.5,\"#f7f7f7\"],[0.6,\"#e6f5d0\"],[0.7,\"#b8e186\"],[0.8,\"#7fbc41\"],[0.9,\"#4d9221\"],[1,\"#276419\"]],\"sequential\":[[0.0,\"#0d0887\"],[0.1111111111111111,\"#46039f\"],[0.2222222222222222,\"#7201a8\"],[0.3333333333333333,\"#9c179e\"],[0.4444444444444444,\"#bd3786\"],[0.5555555555555556,\"#d8576b\"],[0.6666666666666666,\"#ed7953\"],[0.7777777777777778,\"#fb9f3a\"],[0.8888888888888888,\"#fdca26\"],[1.0,\"#f0f921\"]],\"sequentialminus\":[[0.0,\"#0d0887\"],[0.1111111111111111,\"#46039f\"],[0.2222222222222222,\"#7201a8\"],[0.3333333333333333,\"#9c179e\"],[0.4444444444444444,\"#bd3786\"],[0.5555555555555556,\"#d8576b\"],[0.6666666666666666,\"#ed7953\"],[0.7777777777777778,\"#fb9f3a\"],[0.8888888888888888,\"#fdca26\"],[1.0,\"#f0f921\"]]},\"colorway\":[\"#636efa\",\"#EF553B\",\"#00cc96\",\"#ab63fa\",\"#FFA15A\",\"#19d3f3\",\"#FF6692\",\"#B6E880\",\"#FF97FF\",\"#FECB52\"],\"font\":{\"color\":\"#2a3f5f\"},\"geo\":{\"bgcolor\":\"white\",\"lakecolor\":\"white\",\"landcolor\":\"white\",\"showlakes\":true,\"showland\":true,\"subunitcolor\":\"#C8D4E3\"},\"hoverlabel\":{\"align\":\"left\"},\"hovermode\":\"closest\",\"mapbox\":{\"style\":\"light\"},\"paper_bgcolor\":\"white\",\"plot_bgcolor\":\"white\",\"polar\":{\"angularaxis\":{\"gridcolor\":\"#EBF0F8\",\"linecolor\":\"#EBF0F8\",\"ticks\":\"\"},\"bgcolor\":\"white\",\"radialaxis\":{\"gridcolor\":\"#EBF0F8\",\"linecolor\":\"#EBF0F8\",\"ticks\":\"\"}},\"scene\":{\"xaxis\":{\"backgroundcolor\":\"white\",\"gridcolor\":\"#DFE8F3\",\"gridwidth\":2,\"linecolor\":\"#EBF0F8\",\"showbackground\":true,\"ticks\":\"\",\"zerolinecolor\":\"#EBF0F8\"},\"yaxis\":{\"backgroundcolor\":\"white\",\"gridcolor\":\"#DFE8F3\",\"gridwidth\":2,\"linecolor\":\"#EBF0F8\",\"showbackground\":true,\"ticks\":\"\",\"zerolinecolor\":\"#EBF0F8\"},\"zaxis\":{\"backgroundcolor\":\"white\",\"gridcolor\":\"#DFE8F3\",\"gridwidth\":2,\"linecolor\":\"#EBF0F8\",\"showbackground\":true,\"ticks\":\"\",\"zerolinecolor\":\"#EBF0F8\"}},\"shapedefaults\":{\"line\":{\"color\":\"#2a3f5f\"}},\"ternary\":{\"aaxis\":{\"gridcolor\":\"#DFE8F3\",\"linecolor\":\"#A2B1C6\",\"ticks\":\"\"},\"baxis\":{\"gridcolor\":\"#DFE8F3\",\"linecolor\":\"#A2B1C6\",\"ticks\":\"\"},\"bgcolor\":\"white\",\"caxis\":{\"gridcolor\":\"#DFE8F3\",\"linecolor\":\"#A2B1C6\",\"ticks\":\"\"}},\"title\":{\"x\":0.05},\"xaxis\":{\"automargin\":true,\"gridcolor\":\"#EBF0F8\",\"linecolor\":\"#EBF0F8\",\"ticks\":\"\",\"title\":{\"standoff\":15},\"zerolinecolor\":\"#EBF0F8\",\"zerolinewidth\":2},\"yaxis\":{\"automargin\":true,\"gridcolor\":\"#EBF0F8\",\"linecolor\":\"#EBF0F8\",\"ticks\":\"\",\"title\":{\"standoff\":15},\"zerolinecolor\":\"#EBF0F8\",\"zerolinewidth\":2}}},\"legend\":{\"tracegroupgap\":0},\"title\":{\"text\":\"Top 10 Features and Scores\"},\"piecolorway\":[\"rgb(251,180,174)\",\"rgb(179,205,227)\",\"rgb(204,235,197)\",\"rgb(222,203,228)\",\"rgb(254,217,166)\",\"rgb(255,255,204)\",\"rgb(229,216,189)\",\"rgb(253,218,236)\",\"rgb(242,242,242)\"],\"uniformtext\":{\"minsize\":10,\"mode\":\"hide\"},\"showlegend\":false,\"autosize\":false,\"width\":1000,\"height\":600,\"annotations\":[{\"align\":\"left\",\"showarrow\":false,\"text\":\"Other Features (17.7%):\\u003cbr\\u003eivput270\\u003cbr\\u003ereturnOnEquity\\u003cbr\\u003enetProfitMargin\\u003cbr\\u003eweightedScore\\u003cbr\\u003eivmean30\\u003cbr\\u003estocktwitsSentiment\\u003cbr\\u003etwitterSentiment\\u003cbr\\u003enews_sentimentScore\\u003cbr\\u003eGrade\\u003cbr\\u003econgress_net_trade\\u003cbr\\u003eSurprise\\u003cbr\\u003eDividend_y\\u003cbr\\u003eSentiment\",\"x\":1.3,\"xref\":\"paper\",\"y\":1.2,\"yref\":\"paper\"}]},                        {\"responsive\": true}                    ).then(function(){\n",
              "                            \n",
              "var gd = document.getElementById('2063cef1-a95f-4b85-8f9e-28cc2a88d737');\n",
              "var x = new MutationObserver(function (mutations, observer) {{\n",
              "        var display = window.getComputedStyle(gd).display;\n",
              "        if (!display || display === 'none') {{\n",
              "            console.log([gd, 'removed!']);\n",
              "            Plotly.purge(gd);\n",
              "            observer.disconnect();\n",
              "        }}\n",
              "}});\n",
              "\n",
              "// Listen for the removal of the full notebook cells\n",
              "var notebookContainer = gd.closest('#notebook-container');\n",
              "if (notebookContainer) {{\n",
              "    x.observe(notebookContainer, {childList: true});\n",
              "}}\n",
              "\n",
              "// Listen for the clearing of the current output cell\n",
              "var outputEl = gd.closest('.output');\n",
              "if (outputEl) {{\n",
              "    x.observe(outputEl, {childList: true});\n",
              "}}\n",
              "\n",
              "                        })                };                            </script>        </div>\n",
              "</body>\n",
              "</html>"
            ]
          },
          "metadata": {}
        }
      ]
    },
    {
      "cell_type": "markdown",
      "source": [
        "This output suggests that the model recognizes the company size (Total Assets) and the efficiency of its operations (Operating Cash Flow Per Share) to be the most significant factor in affecting the stock price of the following day. These features reflect the company's financial health. The following few features, Net Income, EBITDA and EPS are all key indicators of the company's earnings and profitability and are critical to investors. The output of this model aligns with domain knowledge and financial theory regarding the most significant factors to affect a company's stock behavior. Further analysis and interpretation will be discussed in the project report."
      ],
      "metadata": {
        "id": "W0ObLqXnQ2oT"
      }
    },
    {
      "cell_type": "markdown",
      "source": [
        "Below is an examination of this Randon Forest Model's predictive ability compared to a simple baseline model, an LSTM model with past prices, an LSTM model with all features and an LSTM model with the selected features. The actual price of MSFT on March 5th, 2024 was 402.65."
      ],
      "metadata": {
        "id": "bkuGVeanSwII"
      }
    },
    {
      "cell_type": "code",
      "source": [
        "data = [\n",
        "    {\n",
        "        'Model': 'Simple Baseline Model',\n",
        "        'Test RMSE': average_rmse_over_timeframe,\n",
        "        'Predicted Price': simple_prediction[0],\n",
        "        'Validation RMSE': simple_prediction[1]\n",
        "    },\n",
        "    {\n",
        "        'Model': 'LSTM Log of Past Prices',\n",
        "        'Test RMSE': lstm_past_prices_results['Average RMSE'].values[0],\n",
        "        'Predicted Price': lstm_past_prices_results['1 Day Forecast'].values[0],\n",
        "        'Validation RMSE': np.sqrt(mean_squared_error([402.65], [lstm_past_prices_results['1 Day Forecast'].values[0]]))\n",
        "    },\n",
        "        {\n",
        "        'Model': 'LSTM All Features',\n",
        "        'Test RMSE': lstm_all_features_results['Average RMSE'].values[0],\n",
        "        'Predicted Price': lstm_all_features_results['Forecast March 5, 2024'].values[0],\n",
        "        'Validation RMSE': np.sqrt(mean_squared_error([402.65], [lstm_all_features_results['Forecast March 5, 2024'].values[0]]))\n",
        "    },\n",
        "        {\n",
        "        'Model': 'LSTM Selected Features',\n",
        "        'Test RMSE': lstm_selected_features_results['Average RMSE'].values[0],\n",
        "        'Predicted Price': lstm_selected_features_results['Forecast March 5, 2024'].values[0],\n",
        "        'Validation RMSE': np.sqrt(mean_squared_error([402.65], [lstm_selected_features_results['Forecast March 5, 2024'].values[0]]))\n",
        "    },\n",
        "        {\n",
        "        'Model': 'Selected Features: Grid Search CV',\n",
        "        'Test RMSE': results_selected_gs_rmse_scores['RMSE Scores'].values[0],\n",
        "        'Predicted Price': results_selected_gs_prediction['Prediction'].values[0],\n",
        "        'Validation RMSE': np.sqrt(mean_squared_error([402.65], [results_selected_gs_prediction['Prediction'].values[0]]))\n",
        "    }\n",
        "\n",
        "]\n",
        "\n",
        "results_summary_df = pd.DataFrame(data)\n",
        "results_summary_df['Test RMSE'] = results_summary_df['Test RMSE'].round(3)\n",
        "results_summary_df['Predicted Price'] = results_summary_df['Predicted Price'].round(3)\n",
        "results_summary_df['Validation RMSE'] = results_summary_df['Validation RMSE'].round(3)\n",
        "results_summary_df"
      ],
      "metadata": {
        "colab": {
          "base_uri": "https://localhost:8080/",
          "height": 206
        },
        "id": "MP08OPSvSq1M",
        "outputId": "349bf4cb-0fdb-45df-c692-70f2be0403f4"
      },
      "execution_count": null,
      "outputs": [
        {
          "output_type": "execute_result",
          "data": {
            "text/plain": [
              "                               Model  Test RMSE  Predicted Price  \\\n",
              "0              Simple Baseline Model      3.659          415.394   \n",
              "1            LSTM Log of Past Prices      0.017          402.701   \n",
              "2                  LSTM All Features     76.523          261.475   \n",
              "3             LSTM Selected Features     35.884          309.768   \n",
              "4  Selected Features: Grid Search CV     31.213          401.352   \n",
              "\n",
              "   Validation RMSE  \n",
              "0           12.744  \n",
              "1            0.051  \n",
              "2          141.175  \n",
              "3           92.882  \n",
              "4            1.298  "
            ],
            "text/html": [
              "\n",
              "  <div id=\"df-81fe167f-0a00-4331-a47a-49e95c71dbdc\" class=\"colab-df-container\">\n",
              "    <div>\n",
              "<style scoped>\n",
              "    .dataframe tbody tr th:only-of-type {\n",
              "        vertical-align: middle;\n",
              "    }\n",
              "\n",
              "    .dataframe tbody tr th {\n",
              "        vertical-align: top;\n",
              "    }\n",
              "\n",
              "    .dataframe thead th {\n",
              "        text-align: right;\n",
              "    }\n",
              "</style>\n",
              "<table border=\"1\" class=\"dataframe\">\n",
              "  <thead>\n",
              "    <tr style=\"text-align: right;\">\n",
              "      <th></th>\n",
              "      <th>Model</th>\n",
              "      <th>Test RMSE</th>\n",
              "      <th>Predicted Price</th>\n",
              "      <th>Validation RMSE</th>\n",
              "    </tr>\n",
              "  </thead>\n",
              "  <tbody>\n",
              "    <tr>\n",
              "      <th>0</th>\n",
              "      <td>Simple Baseline Model</td>\n",
              "      <td>3.659</td>\n",
              "      <td>415.394</td>\n",
              "      <td>12.744</td>\n",
              "    </tr>\n",
              "    <tr>\n",
              "      <th>1</th>\n",
              "      <td>LSTM Log of Past Prices</td>\n",
              "      <td>0.017</td>\n",
              "      <td>402.701</td>\n",
              "      <td>0.051</td>\n",
              "    </tr>\n",
              "    <tr>\n",
              "      <th>2</th>\n",
              "      <td>LSTM All Features</td>\n",
              "      <td>76.523</td>\n",
              "      <td>261.475</td>\n",
              "      <td>141.175</td>\n",
              "    </tr>\n",
              "    <tr>\n",
              "      <th>3</th>\n",
              "      <td>LSTM Selected Features</td>\n",
              "      <td>35.884</td>\n",
              "      <td>309.768</td>\n",
              "      <td>92.882</td>\n",
              "    </tr>\n",
              "    <tr>\n",
              "      <th>4</th>\n",
              "      <td>Selected Features: Grid Search CV</td>\n",
              "      <td>31.213</td>\n",
              "      <td>401.352</td>\n",
              "      <td>1.298</td>\n",
              "    </tr>\n",
              "  </tbody>\n",
              "</table>\n",
              "</div>\n",
              "    <div class=\"colab-df-buttons\">\n",
              "\n",
              "  <div class=\"colab-df-container\">\n",
              "    <button class=\"colab-df-convert\" onclick=\"convertToInteractive('df-81fe167f-0a00-4331-a47a-49e95c71dbdc')\"\n",
              "            title=\"Convert this dataframe to an interactive table.\"\n",
              "            style=\"display:none;\">\n",
              "\n",
              "  <svg xmlns=\"http://www.w3.org/2000/svg\" height=\"24px\" viewBox=\"0 -960 960 960\">\n",
              "    <path d=\"M120-120v-720h720v720H120Zm60-500h600v-160H180v160Zm220 220h160v-160H400v160Zm0 220h160v-160H400v160ZM180-400h160v-160H180v160Zm440 0h160v-160H620v160ZM180-180h160v-160H180v160Zm440 0h160v-160H620v160Z\"/>\n",
              "  </svg>\n",
              "    </button>\n",
              "\n",
              "  <style>\n",
              "    .colab-df-container {\n",
              "      display:flex;\n",
              "      gap: 12px;\n",
              "    }\n",
              "\n",
              "    .colab-df-convert {\n",
              "      background-color: #E8F0FE;\n",
              "      border: none;\n",
              "      border-radius: 50%;\n",
              "      cursor: pointer;\n",
              "      display: none;\n",
              "      fill: #1967D2;\n",
              "      height: 32px;\n",
              "      padding: 0 0 0 0;\n",
              "      width: 32px;\n",
              "    }\n",
              "\n",
              "    .colab-df-convert:hover {\n",
              "      background-color: #E2EBFA;\n",
              "      box-shadow: 0px 1px 2px rgba(60, 64, 67, 0.3), 0px 1px 3px 1px rgba(60, 64, 67, 0.15);\n",
              "      fill: #174EA6;\n",
              "    }\n",
              "\n",
              "    .colab-df-buttons div {\n",
              "      margin-bottom: 4px;\n",
              "    }\n",
              "\n",
              "    [theme=dark] .colab-df-convert {\n",
              "      background-color: #3B4455;\n",
              "      fill: #D2E3FC;\n",
              "    }\n",
              "\n",
              "    [theme=dark] .colab-df-convert:hover {\n",
              "      background-color: #434B5C;\n",
              "      box-shadow: 0px 1px 3px 1px rgba(0, 0, 0, 0.15);\n",
              "      filter: drop-shadow(0px 1px 2px rgba(0, 0, 0, 0.3));\n",
              "      fill: #FFFFFF;\n",
              "    }\n",
              "  </style>\n",
              "\n",
              "    <script>\n",
              "      const buttonEl =\n",
              "        document.querySelector('#df-81fe167f-0a00-4331-a47a-49e95c71dbdc button.colab-df-convert');\n",
              "      buttonEl.style.display =\n",
              "        google.colab.kernel.accessAllowed ? 'block' : 'none';\n",
              "\n",
              "      async function convertToInteractive(key) {\n",
              "        const element = document.querySelector('#df-81fe167f-0a00-4331-a47a-49e95c71dbdc');\n",
              "        const dataTable =\n",
              "          await google.colab.kernel.invokeFunction('convertToInteractive',\n",
              "                                                    [key], {});\n",
              "        if (!dataTable) return;\n",
              "\n",
              "        const docLinkHtml = 'Like what you see? Visit the ' +\n",
              "          '<a target=\"_blank\" href=https://colab.research.google.com/notebooks/data_table.ipynb>data table notebook</a>'\n",
              "          + ' to learn more about interactive tables.';\n",
              "        element.innerHTML = '';\n",
              "        dataTable['output_type'] = 'display_data';\n",
              "        await google.colab.output.renderOutput(dataTable, element);\n",
              "        const docLink = document.createElement('div');\n",
              "        docLink.innerHTML = docLinkHtml;\n",
              "        element.appendChild(docLink);\n",
              "      }\n",
              "    </script>\n",
              "  </div>\n",
              "\n",
              "\n",
              "<div id=\"df-dae2a799-bd73-4022-b9b6-dd45fa08165c\">\n",
              "  <button class=\"colab-df-quickchart\" onclick=\"quickchart('df-dae2a799-bd73-4022-b9b6-dd45fa08165c')\"\n",
              "            title=\"Suggest charts\"\n",
              "            style=\"display:none;\">\n",
              "\n",
              "<svg xmlns=\"http://www.w3.org/2000/svg\" height=\"24px\"viewBox=\"0 0 24 24\"\n",
              "     width=\"24px\">\n",
              "    <g>\n",
              "        <path d=\"M19 3H5c-1.1 0-2 .9-2 2v14c0 1.1.9 2 2 2h14c1.1 0 2-.9 2-2V5c0-1.1-.9-2-2-2zM9 17H7v-7h2v7zm4 0h-2V7h2v10zm4 0h-2v-4h2v4z\"/>\n",
              "    </g>\n",
              "</svg>\n",
              "  </button>\n",
              "\n",
              "<style>\n",
              "  .colab-df-quickchart {\n",
              "      --bg-color: #E8F0FE;\n",
              "      --fill-color: #1967D2;\n",
              "      --hover-bg-color: #E2EBFA;\n",
              "      --hover-fill-color: #174EA6;\n",
              "      --disabled-fill-color: #AAA;\n",
              "      --disabled-bg-color: #DDD;\n",
              "  }\n",
              "\n",
              "  [theme=dark] .colab-df-quickchart {\n",
              "      --bg-color: #3B4455;\n",
              "      --fill-color: #D2E3FC;\n",
              "      --hover-bg-color: #434B5C;\n",
              "      --hover-fill-color: #FFFFFF;\n",
              "      --disabled-bg-color: #3B4455;\n",
              "      --disabled-fill-color: #666;\n",
              "  }\n",
              "\n",
              "  .colab-df-quickchart {\n",
              "    background-color: var(--bg-color);\n",
              "    border: none;\n",
              "    border-radius: 50%;\n",
              "    cursor: pointer;\n",
              "    display: none;\n",
              "    fill: var(--fill-color);\n",
              "    height: 32px;\n",
              "    padding: 0;\n",
              "    width: 32px;\n",
              "  }\n",
              "\n",
              "  .colab-df-quickchart:hover {\n",
              "    background-color: var(--hover-bg-color);\n",
              "    box-shadow: 0 1px 2px rgba(60, 64, 67, 0.3), 0 1px 3px 1px rgba(60, 64, 67, 0.15);\n",
              "    fill: var(--button-hover-fill-color);\n",
              "  }\n",
              "\n",
              "  .colab-df-quickchart-complete:disabled,\n",
              "  .colab-df-quickchart-complete:disabled:hover {\n",
              "    background-color: var(--disabled-bg-color);\n",
              "    fill: var(--disabled-fill-color);\n",
              "    box-shadow: none;\n",
              "  }\n",
              "\n",
              "  .colab-df-spinner {\n",
              "    border: 2px solid var(--fill-color);\n",
              "    border-color: transparent;\n",
              "    border-bottom-color: var(--fill-color);\n",
              "    animation:\n",
              "      spin 1s steps(1) infinite;\n",
              "  }\n",
              "\n",
              "  @keyframes spin {\n",
              "    0% {\n",
              "      border-color: transparent;\n",
              "      border-bottom-color: var(--fill-color);\n",
              "      border-left-color: var(--fill-color);\n",
              "    }\n",
              "    20% {\n",
              "      border-color: transparent;\n",
              "      border-left-color: var(--fill-color);\n",
              "      border-top-color: var(--fill-color);\n",
              "    }\n",
              "    30% {\n",
              "      border-color: transparent;\n",
              "      border-left-color: var(--fill-color);\n",
              "      border-top-color: var(--fill-color);\n",
              "      border-right-color: var(--fill-color);\n",
              "    }\n",
              "    40% {\n",
              "      border-color: transparent;\n",
              "      border-right-color: var(--fill-color);\n",
              "      border-top-color: var(--fill-color);\n",
              "    }\n",
              "    60% {\n",
              "      border-color: transparent;\n",
              "      border-right-color: var(--fill-color);\n",
              "    }\n",
              "    80% {\n",
              "      border-color: transparent;\n",
              "      border-right-color: var(--fill-color);\n",
              "      border-bottom-color: var(--fill-color);\n",
              "    }\n",
              "    90% {\n",
              "      border-color: transparent;\n",
              "      border-bottom-color: var(--fill-color);\n",
              "    }\n",
              "  }\n",
              "</style>\n",
              "\n",
              "  <script>\n",
              "    async function quickchart(key) {\n",
              "      const quickchartButtonEl =\n",
              "        document.querySelector('#' + key + ' button');\n",
              "      quickchartButtonEl.disabled = true;  // To prevent multiple clicks.\n",
              "      quickchartButtonEl.classList.add('colab-df-spinner');\n",
              "      try {\n",
              "        const charts = await google.colab.kernel.invokeFunction(\n",
              "            'suggestCharts', [key], {});\n",
              "      } catch (error) {\n",
              "        console.error('Error during call to suggestCharts:', error);\n",
              "      }\n",
              "      quickchartButtonEl.classList.remove('colab-df-spinner');\n",
              "      quickchartButtonEl.classList.add('colab-df-quickchart-complete');\n",
              "    }\n",
              "    (() => {\n",
              "      let quickchartButtonEl =\n",
              "        document.querySelector('#df-dae2a799-bd73-4022-b9b6-dd45fa08165c button');\n",
              "      quickchartButtonEl.style.display =\n",
              "        google.colab.kernel.accessAllowed ? 'block' : 'none';\n",
              "    })();\n",
              "  </script>\n",
              "</div>\n",
              "\n",
              "  <div id=\"id_2b021619-02a3-4693-a9da-1d2bc930a013\">\n",
              "    <style>\n",
              "      .colab-df-generate {\n",
              "        background-color: #E8F0FE;\n",
              "        border: none;\n",
              "        border-radius: 50%;\n",
              "        cursor: pointer;\n",
              "        display: none;\n",
              "        fill: #1967D2;\n",
              "        height: 32px;\n",
              "        padding: 0 0 0 0;\n",
              "        width: 32px;\n",
              "      }\n",
              "\n",
              "      .colab-df-generate:hover {\n",
              "        background-color: #E2EBFA;\n",
              "        box-shadow: 0px 1px 2px rgba(60, 64, 67, 0.3), 0px 1px 3px 1px rgba(60, 64, 67, 0.15);\n",
              "        fill: #174EA6;\n",
              "      }\n",
              "\n",
              "      [theme=dark] .colab-df-generate {\n",
              "        background-color: #3B4455;\n",
              "        fill: #D2E3FC;\n",
              "      }\n",
              "\n",
              "      [theme=dark] .colab-df-generate:hover {\n",
              "        background-color: #434B5C;\n",
              "        box-shadow: 0px 1px 3px 1px rgba(0, 0, 0, 0.15);\n",
              "        filter: drop-shadow(0px 1px 2px rgba(0, 0, 0, 0.3));\n",
              "        fill: #FFFFFF;\n",
              "      }\n",
              "    </style>\n",
              "    <button class=\"colab-df-generate\" onclick=\"generateWithVariable('results_summary_df')\"\n",
              "            title=\"Generate code using this dataframe.\"\n",
              "            style=\"display:none;\">\n",
              "\n",
              "  <svg xmlns=\"http://www.w3.org/2000/svg\" height=\"24px\"viewBox=\"0 0 24 24\"\n",
              "       width=\"24px\">\n",
              "    <path d=\"M7,19H8.4L18.45,9,17,7.55,7,17.6ZM5,21V16.75L18.45,3.32a2,2,0,0,1,2.83,0l1.4,1.43a1.91,1.91,0,0,1,.58,1.4,1.91,1.91,0,0,1-.58,1.4L9.25,21ZM18.45,9,17,7.55Zm-12,3A5.31,5.31,0,0,0,4.9,8.1,5.31,5.31,0,0,0,1,6.5,5.31,5.31,0,0,0,4.9,4.9,5.31,5.31,0,0,0,6.5,1,5.31,5.31,0,0,0,8.1,4.9,5.31,5.31,0,0,0,12,6.5,5.46,5.46,0,0,0,6.5,12Z\"/>\n",
              "  </svg>\n",
              "    </button>\n",
              "    <script>\n",
              "      (() => {\n",
              "      const buttonEl =\n",
              "        document.querySelector('#id_2b021619-02a3-4693-a9da-1d2bc930a013 button.colab-df-generate');\n",
              "      buttonEl.style.display =\n",
              "        google.colab.kernel.accessAllowed ? 'block' : 'none';\n",
              "\n",
              "      buttonEl.onclick = () => {\n",
              "        google.colab.notebook.generateWithVariable('results_summary_df');\n",
              "      }\n",
              "      })();\n",
              "    </script>\n",
              "  </div>\n",
              "\n",
              "    </div>\n",
              "  </div>\n"
            ],
            "application/vnd.google.colaboratory.intrinsic+json": {
              "type": "dataframe",
              "variable_name": "results_summary_df",
              "summary": "{\n  \"name\": \"results_summary_df\",\n  \"rows\": 5,\n  \"fields\": [\n    {\n      \"column\": \"Model\",\n      \"properties\": {\n        \"dtype\": \"string\",\n        \"num_unique_values\": 5,\n        \"samples\": [\n          \"LSTM Log of Past Prices\",\n          \"Selected Features: Grid Search CV\",\n          \"LSTM All Features\"\n        ],\n        \"semantic_type\": \"\",\n        \"description\": \"\"\n      }\n    },\n    {\n      \"column\": \"Test RMSE\",\n      \"properties\": {\n        \"dtype\": \"number\",\n        \"std\": 30.78899397836831,\n        \"min\": 0.017,\n        \"max\": 76.523,\n        \"num_unique_values\": 5,\n        \"samples\": [\n          0.017,\n          31.213,\n          76.523\n        ],\n        \"semantic_type\": \"\",\n        \"description\": \"\"\n      }\n    },\n    {\n      \"column\": \"Predicted Price\",\n      \"properties\": {\n        \"dtype\": \"number\",\n        \"std\": 68.58380415593757,\n        \"min\": 261.475,\n        \"max\": 415.394,\n        \"num_unique_values\": 5,\n        \"samples\": [\n          402.701,\n          401.352,\n          261.475\n        ],\n        \"semantic_type\": \"\",\n        \"description\": \"\"\n      }\n    },\n    {\n      \"column\": \"Validation RMSE\",\n      \"properties\": {\n        \"dtype\": \"number\",\n        \"std\": 64.04267910932522,\n        \"min\": 0.051,\n        \"max\": 141.175,\n        \"num_unique_values\": 5,\n        \"samples\": [\n          0.051,\n          1.298,\n          141.175\n        ],\n        \"semantic_type\": \"\",\n        \"description\": \"\"\n      }\n    }\n  ]\n}"
            }
          },
          "metadata": {},
          "execution_count": 176
        }
      ]
    },
    {
      "cell_type": "code",
      "source": [
        "sorted_df = results_summary_df.sort_values('Predicted Price', ascending=False)\n",
        "\n",
        "\n",
        "fig = go.Figure()\n",
        "\n",
        "# Add bars for 'Predicted Price'\n",
        "fig.add_trace(go.Bar(x=sorted_df['Model'], y=sorted_df['Predicted Price'],\n",
        "                     name='Predicted Price', marker_color='#FFCB05',\n",
        "                     text=sorted_df['Predicted Price'],\n",
        "                     textposition='outside',\n",
        "                     texttemplate='%{text:.2f}'))\n",
        "\n",
        "# Add a horizontal line for the actual price\n",
        "fig.add_hline(y=402.65, line_color=\"#00274C\",\n",
        "              annotation_text=\"Actual Price $402.65\", annotation_position=\"top right\",\n",
        "              annotation_font_color=\"#00274C\")\n",
        "\n",
        "# Customize layout\n",
        "fig.update_layout(\n",
        "    title='1 Day Predicted Price by Model',\n",
        "    xaxis_title='Model',\n",
        "    yaxis_title='Predicted Price ($)',\n",
        "    xaxis_tickangle=-20,\n",
        "    template='plotly_white',\n",
        "    yaxis=dict(range=[200, 500])\n",
        ")\n",
        "\n",
        "# Show the figure\n",
        "fig.show()"
      ],
      "metadata": {
        "colab": {
          "base_uri": "https://localhost:8080/",
          "height": 542
        },
        "id": "XLUIX2omS-6i",
        "outputId": "de4bdc27-7184-4270-cb8e-933f725548e1"
      },
      "execution_count": null,
      "outputs": [
        {
          "output_type": "display_data",
          "data": {
            "text/html": [
              "<html>\n",
              "<head><meta charset=\"utf-8\" /></head>\n",
              "<body>\n",
              "    <div>            <script src=\"https://cdnjs.cloudflare.com/ajax/libs/mathjax/2.7.5/MathJax.js?config=TeX-AMS-MML_SVG\"></script><script type=\"text/javascript\">if (window.MathJax && window.MathJax.Hub && window.MathJax.Hub.Config) {window.MathJax.Hub.Config({SVG: {font: \"STIX-Web\"}});}</script>                <script type=\"text/javascript\">window.PlotlyConfig = {MathJaxConfig: 'local'};</script>\n",
              "        <script charset=\"utf-8\" src=\"https://cdn.plot.ly/plotly-2.24.1.min.js\"></script>                <div id=\"72e4c258-1bb5-493e-9ad1-c86c5465f866\" class=\"plotly-graph-div\" style=\"height:525px; width:100%;\"></div>            <script type=\"text/javascript\">                                    window.PLOTLYENV=window.PLOTLYENV || {};                                    if (document.getElementById(\"72e4c258-1bb5-493e-9ad1-c86c5465f866\")) {                    Plotly.newPlot(                        \"72e4c258-1bb5-493e-9ad1-c86c5465f866\",                        [{\"marker\":{\"color\":\"#FFCB05\"},\"name\":\"Predicted Price\",\"text\":[415.394,402.701,401.352,309.768,261.475],\"textposition\":\"outside\",\"texttemplate\":\"%{text:.2f}\",\"x\":[\"Simple Baseline Model\",\"LSTM Log of Past Prices\",\"Selected Features: Grid Search CV\",\"LSTM Selected Features\",\"LSTM All Features\"],\"y\":[415.394,402.701,401.352,309.768,261.475],\"type\":\"bar\"}],                        {\"template\":{\"data\":{\"barpolar\":[{\"marker\":{\"line\":{\"color\":\"white\",\"width\":0.5},\"pattern\":{\"fillmode\":\"overlay\",\"size\":10,\"solidity\":0.2}},\"type\":\"barpolar\"}],\"bar\":[{\"error_x\":{\"color\":\"#2a3f5f\"},\"error_y\":{\"color\":\"#2a3f5f\"},\"marker\":{\"line\":{\"color\":\"white\",\"width\":0.5},\"pattern\":{\"fillmode\":\"overlay\",\"size\":10,\"solidity\":0.2}},\"type\":\"bar\"}],\"carpet\":[{\"aaxis\":{\"endlinecolor\":\"#2a3f5f\",\"gridcolor\":\"#C8D4E3\",\"linecolor\":\"#C8D4E3\",\"minorgridcolor\":\"#C8D4E3\",\"startlinecolor\":\"#2a3f5f\"},\"baxis\":{\"endlinecolor\":\"#2a3f5f\",\"gridcolor\":\"#C8D4E3\",\"linecolor\":\"#C8D4E3\",\"minorgridcolor\":\"#C8D4E3\",\"startlinecolor\":\"#2a3f5f\"},\"type\":\"carpet\"}],\"choropleth\":[{\"colorbar\":{\"outlinewidth\":0,\"ticks\":\"\"},\"type\":\"choropleth\"}],\"contourcarpet\":[{\"colorbar\":{\"outlinewidth\":0,\"ticks\":\"\"},\"type\":\"contourcarpet\"}],\"contour\":[{\"colorbar\":{\"outlinewidth\":0,\"ticks\":\"\"},\"colorscale\":[[0.0,\"#0d0887\"],[0.1111111111111111,\"#46039f\"],[0.2222222222222222,\"#7201a8\"],[0.3333333333333333,\"#9c179e\"],[0.4444444444444444,\"#bd3786\"],[0.5555555555555556,\"#d8576b\"],[0.6666666666666666,\"#ed7953\"],[0.7777777777777778,\"#fb9f3a\"],[0.8888888888888888,\"#fdca26\"],[1.0,\"#f0f921\"]],\"type\":\"contour\"}],\"heatmapgl\":[{\"colorbar\":{\"outlinewidth\":0,\"ticks\":\"\"},\"colorscale\":[[0.0,\"#0d0887\"],[0.1111111111111111,\"#46039f\"],[0.2222222222222222,\"#7201a8\"],[0.3333333333333333,\"#9c179e\"],[0.4444444444444444,\"#bd3786\"],[0.5555555555555556,\"#d8576b\"],[0.6666666666666666,\"#ed7953\"],[0.7777777777777778,\"#fb9f3a\"],[0.8888888888888888,\"#fdca26\"],[1.0,\"#f0f921\"]],\"type\":\"heatmapgl\"}],\"heatmap\":[{\"colorbar\":{\"outlinewidth\":0,\"ticks\":\"\"},\"colorscale\":[[0.0,\"#0d0887\"],[0.1111111111111111,\"#46039f\"],[0.2222222222222222,\"#7201a8\"],[0.3333333333333333,\"#9c179e\"],[0.4444444444444444,\"#bd3786\"],[0.5555555555555556,\"#d8576b\"],[0.6666666666666666,\"#ed7953\"],[0.7777777777777778,\"#fb9f3a\"],[0.8888888888888888,\"#fdca26\"],[1.0,\"#f0f921\"]],\"type\":\"heatmap\"}],\"histogram2dcontour\":[{\"colorbar\":{\"outlinewidth\":0,\"ticks\":\"\"},\"colorscale\":[[0.0,\"#0d0887\"],[0.1111111111111111,\"#46039f\"],[0.2222222222222222,\"#7201a8\"],[0.3333333333333333,\"#9c179e\"],[0.4444444444444444,\"#bd3786\"],[0.5555555555555556,\"#d8576b\"],[0.6666666666666666,\"#ed7953\"],[0.7777777777777778,\"#fb9f3a\"],[0.8888888888888888,\"#fdca26\"],[1.0,\"#f0f921\"]],\"type\":\"histogram2dcontour\"}],\"histogram2d\":[{\"colorbar\":{\"outlinewidth\":0,\"ticks\":\"\"},\"colorscale\":[[0.0,\"#0d0887\"],[0.1111111111111111,\"#46039f\"],[0.2222222222222222,\"#7201a8\"],[0.3333333333333333,\"#9c179e\"],[0.4444444444444444,\"#bd3786\"],[0.5555555555555556,\"#d8576b\"],[0.6666666666666666,\"#ed7953\"],[0.7777777777777778,\"#fb9f3a\"],[0.8888888888888888,\"#fdca26\"],[1.0,\"#f0f921\"]],\"type\":\"histogram2d\"}],\"histogram\":[{\"marker\":{\"pattern\":{\"fillmode\":\"overlay\",\"size\":10,\"solidity\":0.2}},\"type\":\"histogram\"}],\"mesh3d\":[{\"colorbar\":{\"outlinewidth\":0,\"ticks\":\"\"},\"type\":\"mesh3d\"}],\"parcoords\":[{\"line\":{\"colorbar\":{\"outlinewidth\":0,\"ticks\":\"\"}},\"type\":\"parcoords\"}],\"pie\":[{\"automargin\":true,\"type\":\"pie\"}],\"scatter3d\":[{\"line\":{\"colorbar\":{\"outlinewidth\":0,\"ticks\":\"\"}},\"marker\":{\"colorbar\":{\"outlinewidth\":0,\"ticks\":\"\"}},\"type\":\"scatter3d\"}],\"scattercarpet\":[{\"marker\":{\"colorbar\":{\"outlinewidth\":0,\"ticks\":\"\"}},\"type\":\"scattercarpet\"}],\"scattergeo\":[{\"marker\":{\"colorbar\":{\"outlinewidth\":0,\"ticks\":\"\"}},\"type\":\"scattergeo\"}],\"scattergl\":[{\"marker\":{\"colorbar\":{\"outlinewidth\":0,\"ticks\":\"\"}},\"type\":\"scattergl\"}],\"scattermapbox\":[{\"marker\":{\"colorbar\":{\"outlinewidth\":0,\"ticks\":\"\"}},\"type\":\"scattermapbox\"}],\"scatterpolargl\":[{\"marker\":{\"colorbar\":{\"outlinewidth\":0,\"ticks\":\"\"}},\"type\":\"scatterpolargl\"}],\"scatterpolar\":[{\"marker\":{\"colorbar\":{\"outlinewidth\":0,\"ticks\":\"\"}},\"type\":\"scatterpolar\"}],\"scatter\":[{\"fillpattern\":{\"fillmode\":\"overlay\",\"size\":10,\"solidity\":0.2},\"type\":\"scatter\"}],\"scatterternary\":[{\"marker\":{\"colorbar\":{\"outlinewidth\":0,\"ticks\":\"\"}},\"type\":\"scatterternary\"}],\"surface\":[{\"colorbar\":{\"outlinewidth\":0,\"ticks\":\"\"},\"colorscale\":[[0.0,\"#0d0887\"],[0.1111111111111111,\"#46039f\"],[0.2222222222222222,\"#7201a8\"],[0.3333333333333333,\"#9c179e\"],[0.4444444444444444,\"#bd3786\"],[0.5555555555555556,\"#d8576b\"],[0.6666666666666666,\"#ed7953\"],[0.7777777777777778,\"#fb9f3a\"],[0.8888888888888888,\"#fdca26\"],[1.0,\"#f0f921\"]],\"type\":\"surface\"}],\"table\":[{\"cells\":{\"fill\":{\"color\":\"#EBF0F8\"},\"line\":{\"color\":\"white\"}},\"header\":{\"fill\":{\"color\":\"#C8D4E3\"},\"line\":{\"color\":\"white\"}},\"type\":\"table\"}]},\"layout\":{\"annotationdefaults\":{\"arrowcolor\":\"#2a3f5f\",\"arrowhead\":0,\"arrowwidth\":1},\"autotypenumbers\":\"strict\",\"coloraxis\":{\"colorbar\":{\"outlinewidth\":0,\"ticks\":\"\"}},\"colorscale\":{\"diverging\":[[0,\"#8e0152\"],[0.1,\"#c51b7d\"],[0.2,\"#de77ae\"],[0.3,\"#f1b6da\"],[0.4,\"#fde0ef\"],[0.5,\"#f7f7f7\"],[0.6,\"#e6f5d0\"],[0.7,\"#b8e186\"],[0.8,\"#7fbc41\"],[0.9,\"#4d9221\"],[1,\"#276419\"]],\"sequential\":[[0.0,\"#0d0887\"],[0.1111111111111111,\"#46039f\"],[0.2222222222222222,\"#7201a8\"],[0.3333333333333333,\"#9c179e\"],[0.4444444444444444,\"#bd3786\"],[0.5555555555555556,\"#d8576b\"],[0.6666666666666666,\"#ed7953\"],[0.7777777777777778,\"#fb9f3a\"],[0.8888888888888888,\"#fdca26\"],[1.0,\"#f0f921\"]],\"sequentialminus\":[[0.0,\"#0d0887\"],[0.1111111111111111,\"#46039f\"],[0.2222222222222222,\"#7201a8\"],[0.3333333333333333,\"#9c179e\"],[0.4444444444444444,\"#bd3786\"],[0.5555555555555556,\"#d8576b\"],[0.6666666666666666,\"#ed7953\"],[0.7777777777777778,\"#fb9f3a\"],[0.8888888888888888,\"#fdca26\"],[1.0,\"#f0f921\"]]},\"colorway\":[\"#636efa\",\"#EF553B\",\"#00cc96\",\"#ab63fa\",\"#FFA15A\",\"#19d3f3\",\"#FF6692\",\"#B6E880\",\"#FF97FF\",\"#FECB52\"],\"font\":{\"color\":\"#2a3f5f\"},\"geo\":{\"bgcolor\":\"white\",\"lakecolor\":\"white\",\"landcolor\":\"white\",\"showlakes\":true,\"showland\":true,\"subunitcolor\":\"#C8D4E3\"},\"hoverlabel\":{\"align\":\"left\"},\"hovermode\":\"closest\",\"mapbox\":{\"style\":\"light\"},\"paper_bgcolor\":\"white\",\"plot_bgcolor\":\"white\",\"polar\":{\"angularaxis\":{\"gridcolor\":\"#EBF0F8\",\"linecolor\":\"#EBF0F8\",\"ticks\":\"\"},\"bgcolor\":\"white\",\"radialaxis\":{\"gridcolor\":\"#EBF0F8\",\"linecolor\":\"#EBF0F8\",\"ticks\":\"\"}},\"scene\":{\"xaxis\":{\"backgroundcolor\":\"white\",\"gridcolor\":\"#DFE8F3\",\"gridwidth\":2,\"linecolor\":\"#EBF0F8\",\"showbackground\":true,\"ticks\":\"\",\"zerolinecolor\":\"#EBF0F8\"},\"yaxis\":{\"backgroundcolor\":\"white\",\"gridcolor\":\"#DFE8F3\",\"gridwidth\":2,\"linecolor\":\"#EBF0F8\",\"showbackground\":true,\"ticks\":\"\",\"zerolinecolor\":\"#EBF0F8\"},\"zaxis\":{\"backgroundcolor\":\"white\",\"gridcolor\":\"#DFE8F3\",\"gridwidth\":2,\"linecolor\":\"#EBF0F8\",\"showbackground\":true,\"ticks\":\"\",\"zerolinecolor\":\"#EBF0F8\"}},\"shapedefaults\":{\"line\":{\"color\":\"#2a3f5f\"}},\"ternary\":{\"aaxis\":{\"gridcolor\":\"#DFE8F3\",\"linecolor\":\"#A2B1C6\",\"ticks\":\"\"},\"baxis\":{\"gridcolor\":\"#DFE8F3\",\"linecolor\":\"#A2B1C6\",\"ticks\":\"\"},\"bgcolor\":\"white\",\"caxis\":{\"gridcolor\":\"#DFE8F3\",\"linecolor\":\"#A2B1C6\",\"ticks\":\"\"}},\"title\":{\"x\":0.05},\"xaxis\":{\"automargin\":true,\"gridcolor\":\"#EBF0F8\",\"linecolor\":\"#EBF0F8\",\"ticks\":\"\",\"title\":{\"standoff\":15},\"zerolinecolor\":\"#EBF0F8\",\"zerolinewidth\":2},\"yaxis\":{\"automargin\":true,\"gridcolor\":\"#EBF0F8\",\"linecolor\":\"#EBF0F8\",\"ticks\":\"\",\"title\":{\"standoff\":15},\"zerolinecolor\":\"#EBF0F8\",\"zerolinewidth\":2}}},\"shapes\":[{\"line\":{\"color\":\"#00274C\"},\"type\":\"line\",\"x0\":0,\"x1\":1,\"xref\":\"x domain\",\"y0\":402.65,\"y1\":402.65,\"yref\":\"y\"}],\"annotations\":[{\"font\":{\"color\":\"#00274C\"},\"showarrow\":false,\"text\":\"Actual Price $402.65\",\"x\":1,\"xanchor\":\"right\",\"xref\":\"x domain\",\"y\":402.65,\"yanchor\":\"bottom\",\"yref\":\"y\"}],\"xaxis\":{\"title\":{\"text\":\"Model\"},\"tickangle\":-20},\"yaxis\":{\"title\":{\"text\":\"Predicted Price ($)\"},\"range\":[200,500]},\"title\":{\"text\":\"1 Day Predicted Price by Model\"}},                        {\"responsive\": true}                    ).then(function(){\n",
              "                            \n",
              "var gd = document.getElementById('72e4c258-1bb5-493e-9ad1-c86c5465f866');\n",
              "var x = new MutationObserver(function (mutations, observer) {{\n",
              "        var display = window.getComputedStyle(gd).display;\n",
              "        if (!display || display === 'none') {{\n",
              "            console.log([gd, 'removed!']);\n",
              "            Plotly.purge(gd);\n",
              "            observer.disconnect();\n",
              "        }}\n",
              "}});\n",
              "\n",
              "// Listen for the removal of the full notebook cells\n",
              "var notebookContainer = gd.closest('#notebook-container');\n",
              "if (notebookContainer) {{\n",
              "    x.observe(notebookContainer, {childList: true});\n",
              "}}\n",
              "\n",
              "// Listen for the clearing of the current output cell\n",
              "var outputEl = gd.closest('.output');\n",
              "if (outputEl) {{\n",
              "    x.observe(outputEl, {childList: true});\n",
              "}}\n",
              "\n",
              "                        })                };                            </script>        </div>\n",
              "</body>\n",
              "</html>"
            ]
          },
          "metadata": {}
        }
      ]
    },
    {
      "cell_type": "markdown",
      "source": [
        "The LSTM Model with Past Prices appears the most accurate both in testing and validation predictions. The Random Forest Grid Search Model with Selected Features also shows a reasonable performance on unseen data despite an elevated test RMSE. The remaining models do not appear to generalize well on unseen data, indicating poor predictive ability."
      ],
      "metadata": {
        "id": "h323vHeDpw-F"
      }
    },
    {
      "cell_type": "code",
      "source": [],
      "metadata": {
        "id": "2e34OoXKoszF"
      },
      "execution_count": null,
      "outputs": []
    }
  ],
  "metadata": {
    "accelerator": "GPU",
    "colab": {
      "gpuType": "T4",
      "provenance": [],
      "machine_shape": "hm"
    },
    "kernelspec": {
      "display_name": "Python 3",
      "name": "python3"
    },
    "language_info": {
      "name": "python"
    },
    "widgets": {
      "application/vnd.jupyter.widget-state+json": {
        "5f60850e135a4995b309f5f816f97d2e": {
          "model_module": "@jupyter-widgets/controls",
          "model_name": "HBoxModel",
          "model_module_version": "1.5.0",
          "state": {
            "_dom_classes": [],
            "_model_module": "@jupyter-widgets/controls",
            "_model_module_version": "1.5.0",
            "_model_name": "HBoxModel",
            "_view_count": null,
            "_view_module": "@jupyter-widgets/controls",
            "_view_module_version": "1.5.0",
            "_view_name": "HBoxView",
            "box_style": "",
            "children": [
              "IPY_MODEL_36b3be5ac73a494fa149119adcfab0c8",
              "IPY_MODEL_abbce3955f2b4c4cbf5d604bc5b8ea4b",
              "IPY_MODEL_c21611c7e58e438dadbeda5cfb49586d"
            ],
            "layout": "IPY_MODEL_b21868ca023640808af5513a3479f2df"
          }
        },
        "36b3be5ac73a494fa149119adcfab0c8": {
          "model_module": "@jupyter-widgets/controls",
          "model_name": "HTMLModel",
          "model_module_version": "1.5.0",
          "state": {
            "_dom_classes": [],
            "_model_module": "@jupyter-widgets/controls",
            "_model_module_version": "1.5.0",
            "_model_name": "HTMLModel",
            "_view_count": null,
            "_view_module": "@jupyter-widgets/controls",
            "_view_module_version": "1.5.0",
            "_view_name": "HTMLView",
            "description": "",
            "description_tooltip": null,
            "layout": "IPY_MODEL_07fbb6675c58479293d597a8dc0f99fa",
            "placeholder": "​",
            "style": "IPY_MODEL_c31870b3d7894018911776d79521f474",
            "value": "tokenizer_config.json: 100%"
          }
        },
        "abbce3955f2b4c4cbf5d604bc5b8ea4b": {
          "model_module": "@jupyter-widgets/controls",
          "model_name": "FloatProgressModel",
          "model_module_version": "1.5.0",
          "state": {
            "_dom_classes": [],
            "_model_module": "@jupyter-widgets/controls",
            "_model_module_version": "1.5.0",
            "_model_name": "FloatProgressModel",
            "_view_count": null,
            "_view_module": "@jupyter-widgets/controls",
            "_view_module_version": "1.5.0",
            "_view_name": "ProgressView",
            "bar_style": "success",
            "description": "",
            "description_tooltip": null,
            "layout": "IPY_MODEL_08f765908cf8417f9ec1d03809127382",
            "max": 252,
            "min": 0,
            "orientation": "horizontal",
            "style": "IPY_MODEL_b9a5b5d54a7046e89ab67b72a6f5cdd3",
            "value": 252
          }
        },
        "c21611c7e58e438dadbeda5cfb49586d": {
          "model_module": "@jupyter-widgets/controls",
          "model_name": "HTMLModel",
          "model_module_version": "1.5.0",
          "state": {
            "_dom_classes": [],
            "_model_module": "@jupyter-widgets/controls",
            "_model_module_version": "1.5.0",
            "_model_name": "HTMLModel",
            "_view_count": null,
            "_view_module": "@jupyter-widgets/controls",
            "_view_module_version": "1.5.0",
            "_view_name": "HTMLView",
            "description": "",
            "description_tooltip": null,
            "layout": "IPY_MODEL_bc123ae206544e329f44233d8ca83252",
            "placeholder": "​",
            "style": "IPY_MODEL_e1df87e4d36e44c9b5ac6bda1e06fb0f",
            "value": " 252/252 [00:00&lt;00:00, 23.2kB/s]"
          }
        },
        "b21868ca023640808af5513a3479f2df": {
          "model_module": "@jupyter-widgets/base",
          "model_name": "LayoutModel",
          "model_module_version": "1.2.0",
          "state": {
            "_model_module": "@jupyter-widgets/base",
            "_model_module_version": "1.2.0",
            "_model_name": "LayoutModel",
            "_view_count": null,
            "_view_module": "@jupyter-widgets/base",
            "_view_module_version": "1.2.0",
            "_view_name": "LayoutView",
            "align_content": null,
            "align_items": null,
            "align_self": null,
            "border": null,
            "bottom": null,
            "display": null,
            "flex": null,
            "flex_flow": null,
            "grid_area": null,
            "grid_auto_columns": null,
            "grid_auto_flow": null,
            "grid_auto_rows": null,
            "grid_column": null,
            "grid_gap": null,
            "grid_row": null,
            "grid_template_areas": null,
            "grid_template_columns": null,
            "grid_template_rows": null,
            "height": null,
            "justify_content": null,
            "justify_items": null,
            "left": null,
            "margin": null,
            "max_height": null,
            "max_width": null,
            "min_height": null,
            "min_width": null,
            "object_fit": null,
            "object_position": null,
            "order": null,
            "overflow": null,
            "overflow_x": null,
            "overflow_y": null,
            "padding": null,
            "right": null,
            "top": null,
            "visibility": null,
            "width": null
          }
        },
        "07fbb6675c58479293d597a8dc0f99fa": {
          "model_module": "@jupyter-widgets/base",
          "model_name": "LayoutModel",
          "model_module_version": "1.2.0",
          "state": {
            "_model_module": "@jupyter-widgets/base",
            "_model_module_version": "1.2.0",
            "_model_name": "LayoutModel",
            "_view_count": null,
            "_view_module": "@jupyter-widgets/base",
            "_view_module_version": "1.2.0",
            "_view_name": "LayoutView",
            "align_content": null,
            "align_items": null,
            "align_self": null,
            "border": null,
            "bottom": null,
            "display": null,
            "flex": null,
            "flex_flow": null,
            "grid_area": null,
            "grid_auto_columns": null,
            "grid_auto_flow": null,
            "grid_auto_rows": null,
            "grid_column": null,
            "grid_gap": null,
            "grid_row": null,
            "grid_template_areas": null,
            "grid_template_columns": null,
            "grid_template_rows": null,
            "height": null,
            "justify_content": null,
            "justify_items": null,
            "left": null,
            "margin": null,
            "max_height": null,
            "max_width": null,
            "min_height": null,
            "min_width": null,
            "object_fit": null,
            "object_position": null,
            "order": null,
            "overflow": null,
            "overflow_x": null,
            "overflow_y": null,
            "padding": null,
            "right": null,
            "top": null,
            "visibility": null,
            "width": null
          }
        },
        "c31870b3d7894018911776d79521f474": {
          "model_module": "@jupyter-widgets/controls",
          "model_name": "DescriptionStyleModel",
          "model_module_version": "1.5.0",
          "state": {
            "_model_module": "@jupyter-widgets/controls",
            "_model_module_version": "1.5.0",
            "_model_name": "DescriptionStyleModel",
            "_view_count": null,
            "_view_module": "@jupyter-widgets/base",
            "_view_module_version": "1.2.0",
            "_view_name": "StyleView",
            "description_width": ""
          }
        },
        "08f765908cf8417f9ec1d03809127382": {
          "model_module": "@jupyter-widgets/base",
          "model_name": "LayoutModel",
          "model_module_version": "1.2.0",
          "state": {
            "_model_module": "@jupyter-widgets/base",
            "_model_module_version": "1.2.0",
            "_model_name": "LayoutModel",
            "_view_count": null,
            "_view_module": "@jupyter-widgets/base",
            "_view_module_version": "1.2.0",
            "_view_name": "LayoutView",
            "align_content": null,
            "align_items": null,
            "align_self": null,
            "border": null,
            "bottom": null,
            "display": null,
            "flex": null,
            "flex_flow": null,
            "grid_area": null,
            "grid_auto_columns": null,
            "grid_auto_flow": null,
            "grid_auto_rows": null,
            "grid_column": null,
            "grid_gap": null,
            "grid_row": null,
            "grid_template_areas": null,
            "grid_template_columns": null,
            "grid_template_rows": null,
            "height": null,
            "justify_content": null,
            "justify_items": null,
            "left": null,
            "margin": null,
            "max_height": null,
            "max_width": null,
            "min_height": null,
            "min_width": null,
            "object_fit": null,
            "object_position": null,
            "order": null,
            "overflow": null,
            "overflow_x": null,
            "overflow_y": null,
            "padding": null,
            "right": null,
            "top": null,
            "visibility": null,
            "width": null
          }
        },
        "b9a5b5d54a7046e89ab67b72a6f5cdd3": {
          "model_module": "@jupyter-widgets/controls",
          "model_name": "ProgressStyleModel",
          "model_module_version": "1.5.0",
          "state": {
            "_model_module": "@jupyter-widgets/controls",
            "_model_module_version": "1.5.0",
            "_model_name": "ProgressStyleModel",
            "_view_count": null,
            "_view_module": "@jupyter-widgets/base",
            "_view_module_version": "1.2.0",
            "_view_name": "StyleView",
            "bar_color": null,
            "description_width": ""
          }
        },
        "bc123ae206544e329f44233d8ca83252": {
          "model_module": "@jupyter-widgets/base",
          "model_name": "LayoutModel",
          "model_module_version": "1.2.0",
          "state": {
            "_model_module": "@jupyter-widgets/base",
            "_model_module_version": "1.2.0",
            "_model_name": "LayoutModel",
            "_view_count": null,
            "_view_module": "@jupyter-widgets/base",
            "_view_module_version": "1.2.0",
            "_view_name": "LayoutView",
            "align_content": null,
            "align_items": null,
            "align_self": null,
            "border": null,
            "bottom": null,
            "display": null,
            "flex": null,
            "flex_flow": null,
            "grid_area": null,
            "grid_auto_columns": null,
            "grid_auto_flow": null,
            "grid_auto_rows": null,
            "grid_column": null,
            "grid_gap": null,
            "grid_row": null,
            "grid_template_areas": null,
            "grid_template_columns": null,
            "grid_template_rows": null,
            "height": null,
            "justify_content": null,
            "justify_items": null,
            "left": null,
            "margin": null,
            "max_height": null,
            "max_width": null,
            "min_height": null,
            "min_width": null,
            "object_fit": null,
            "object_position": null,
            "order": null,
            "overflow": null,
            "overflow_x": null,
            "overflow_y": null,
            "padding": null,
            "right": null,
            "top": null,
            "visibility": null,
            "width": null
          }
        },
        "e1df87e4d36e44c9b5ac6bda1e06fb0f": {
          "model_module": "@jupyter-widgets/controls",
          "model_name": "DescriptionStyleModel",
          "model_module_version": "1.5.0",
          "state": {
            "_model_module": "@jupyter-widgets/controls",
            "_model_module_version": "1.5.0",
            "_model_name": "DescriptionStyleModel",
            "_view_count": null,
            "_view_module": "@jupyter-widgets/base",
            "_view_module_version": "1.2.0",
            "_view_name": "StyleView",
            "description_width": ""
          }
        },
        "6f2f3a28cbb24c7a81f4028db59402fa": {
          "model_module": "@jupyter-widgets/controls",
          "model_name": "HBoxModel",
          "model_module_version": "1.5.0",
          "state": {
            "_dom_classes": [],
            "_model_module": "@jupyter-widgets/controls",
            "_model_module_version": "1.5.0",
            "_model_name": "HBoxModel",
            "_view_count": null,
            "_view_module": "@jupyter-widgets/controls",
            "_view_module_version": "1.5.0",
            "_view_name": "HBoxView",
            "box_style": "",
            "children": [
              "IPY_MODEL_6d46cb89904148f8ae6499a87c56c4ab",
              "IPY_MODEL_9e4e3c83677d487f919c4442566fe89f",
              "IPY_MODEL_bd3d0e8ab47b40c1a799f33fb289539d"
            ],
            "layout": "IPY_MODEL_40d0a16fbe4844e593f5781c5c4693c2"
          }
        },
        "6d46cb89904148f8ae6499a87c56c4ab": {
          "model_module": "@jupyter-widgets/controls",
          "model_name": "HTMLModel",
          "model_module_version": "1.5.0",
          "state": {
            "_dom_classes": [],
            "_model_module": "@jupyter-widgets/controls",
            "_model_module_version": "1.5.0",
            "_model_name": "HTMLModel",
            "_view_count": null,
            "_view_module": "@jupyter-widgets/controls",
            "_view_module_version": "1.5.0",
            "_view_name": "HTMLView",
            "description": "",
            "description_tooltip": null,
            "layout": "IPY_MODEL_fe37bce31d5449679f74b5853bb2d40f",
            "placeholder": "​",
            "style": "IPY_MODEL_d0e2e231567348bcb5e2adf3eefa61c4",
            "value": "config.json: 100%"
          }
        },
        "9e4e3c83677d487f919c4442566fe89f": {
          "model_module": "@jupyter-widgets/controls",
          "model_name": "FloatProgressModel",
          "model_module_version": "1.5.0",
          "state": {
            "_dom_classes": [],
            "_model_module": "@jupyter-widgets/controls",
            "_model_module_version": "1.5.0",
            "_model_name": "FloatProgressModel",
            "_view_count": null,
            "_view_module": "@jupyter-widgets/controls",
            "_view_module_version": "1.5.0",
            "_view_name": "ProgressView",
            "bar_style": "success",
            "description": "",
            "description_tooltip": null,
            "layout": "IPY_MODEL_aaf5fe271f704213920b8c8b3e401bb2",
            "max": 758,
            "min": 0,
            "orientation": "horizontal",
            "style": "IPY_MODEL_e2bebe6d03ee4615a87bfd33d2e71f10",
            "value": 758
          }
        },
        "bd3d0e8ab47b40c1a799f33fb289539d": {
          "model_module": "@jupyter-widgets/controls",
          "model_name": "HTMLModel",
          "model_module_version": "1.5.0",
          "state": {
            "_dom_classes": [],
            "_model_module": "@jupyter-widgets/controls",
            "_model_module_version": "1.5.0",
            "_model_name": "HTMLModel",
            "_view_count": null,
            "_view_module": "@jupyter-widgets/controls",
            "_view_module_version": "1.5.0",
            "_view_name": "HTMLView",
            "description": "",
            "description_tooltip": null,
            "layout": "IPY_MODEL_807f701149174a8d8213d6bd79b8e03e",
            "placeholder": "​",
            "style": "IPY_MODEL_fd1e063bc1634520a10d55ed2c6d9400",
            "value": " 758/758 [00:00&lt;00:00, 67.9kB/s]"
          }
        },
        "40d0a16fbe4844e593f5781c5c4693c2": {
          "model_module": "@jupyter-widgets/base",
          "model_name": "LayoutModel",
          "model_module_version": "1.2.0",
          "state": {
            "_model_module": "@jupyter-widgets/base",
            "_model_module_version": "1.2.0",
            "_model_name": "LayoutModel",
            "_view_count": null,
            "_view_module": "@jupyter-widgets/base",
            "_view_module_version": "1.2.0",
            "_view_name": "LayoutView",
            "align_content": null,
            "align_items": null,
            "align_self": null,
            "border": null,
            "bottom": null,
            "display": null,
            "flex": null,
            "flex_flow": null,
            "grid_area": null,
            "grid_auto_columns": null,
            "grid_auto_flow": null,
            "grid_auto_rows": null,
            "grid_column": null,
            "grid_gap": null,
            "grid_row": null,
            "grid_template_areas": null,
            "grid_template_columns": null,
            "grid_template_rows": null,
            "height": null,
            "justify_content": null,
            "justify_items": null,
            "left": null,
            "margin": null,
            "max_height": null,
            "max_width": null,
            "min_height": null,
            "min_width": null,
            "object_fit": null,
            "object_position": null,
            "order": null,
            "overflow": null,
            "overflow_x": null,
            "overflow_y": null,
            "padding": null,
            "right": null,
            "top": null,
            "visibility": null,
            "width": null
          }
        },
        "fe37bce31d5449679f74b5853bb2d40f": {
          "model_module": "@jupyter-widgets/base",
          "model_name": "LayoutModel",
          "model_module_version": "1.2.0",
          "state": {
            "_model_module": "@jupyter-widgets/base",
            "_model_module_version": "1.2.0",
            "_model_name": "LayoutModel",
            "_view_count": null,
            "_view_module": "@jupyter-widgets/base",
            "_view_module_version": "1.2.0",
            "_view_name": "LayoutView",
            "align_content": null,
            "align_items": null,
            "align_self": null,
            "border": null,
            "bottom": null,
            "display": null,
            "flex": null,
            "flex_flow": null,
            "grid_area": null,
            "grid_auto_columns": null,
            "grid_auto_flow": null,
            "grid_auto_rows": null,
            "grid_column": null,
            "grid_gap": null,
            "grid_row": null,
            "grid_template_areas": null,
            "grid_template_columns": null,
            "grid_template_rows": null,
            "height": null,
            "justify_content": null,
            "justify_items": null,
            "left": null,
            "margin": null,
            "max_height": null,
            "max_width": null,
            "min_height": null,
            "min_width": null,
            "object_fit": null,
            "object_position": null,
            "order": null,
            "overflow": null,
            "overflow_x": null,
            "overflow_y": null,
            "padding": null,
            "right": null,
            "top": null,
            "visibility": null,
            "width": null
          }
        },
        "d0e2e231567348bcb5e2adf3eefa61c4": {
          "model_module": "@jupyter-widgets/controls",
          "model_name": "DescriptionStyleModel",
          "model_module_version": "1.5.0",
          "state": {
            "_model_module": "@jupyter-widgets/controls",
            "_model_module_version": "1.5.0",
            "_model_name": "DescriptionStyleModel",
            "_view_count": null,
            "_view_module": "@jupyter-widgets/base",
            "_view_module_version": "1.2.0",
            "_view_name": "StyleView",
            "description_width": ""
          }
        },
        "aaf5fe271f704213920b8c8b3e401bb2": {
          "model_module": "@jupyter-widgets/base",
          "model_name": "LayoutModel",
          "model_module_version": "1.2.0",
          "state": {
            "_model_module": "@jupyter-widgets/base",
            "_model_module_version": "1.2.0",
            "_model_name": "LayoutModel",
            "_view_count": null,
            "_view_module": "@jupyter-widgets/base",
            "_view_module_version": "1.2.0",
            "_view_name": "LayoutView",
            "align_content": null,
            "align_items": null,
            "align_self": null,
            "border": null,
            "bottom": null,
            "display": null,
            "flex": null,
            "flex_flow": null,
            "grid_area": null,
            "grid_auto_columns": null,
            "grid_auto_flow": null,
            "grid_auto_rows": null,
            "grid_column": null,
            "grid_gap": null,
            "grid_row": null,
            "grid_template_areas": null,
            "grid_template_columns": null,
            "grid_template_rows": null,
            "height": null,
            "justify_content": null,
            "justify_items": null,
            "left": null,
            "margin": null,
            "max_height": null,
            "max_width": null,
            "min_height": null,
            "min_width": null,
            "object_fit": null,
            "object_position": null,
            "order": null,
            "overflow": null,
            "overflow_x": null,
            "overflow_y": null,
            "padding": null,
            "right": null,
            "top": null,
            "visibility": null,
            "width": null
          }
        },
        "e2bebe6d03ee4615a87bfd33d2e71f10": {
          "model_module": "@jupyter-widgets/controls",
          "model_name": "ProgressStyleModel",
          "model_module_version": "1.5.0",
          "state": {
            "_model_module": "@jupyter-widgets/controls",
            "_model_module_version": "1.5.0",
            "_model_name": "ProgressStyleModel",
            "_view_count": null,
            "_view_module": "@jupyter-widgets/base",
            "_view_module_version": "1.2.0",
            "_view_name": "StyleView",
            "bar_color": null,
            "description_width": ""
          }
        },
        "807f701149174a8d8213d6bd79b8e03e": {
          "model_module": "@jupyter-widgets/base",
          "model_name": "LayoutModel",
          "model_module_version": "1.2.0",
          "state": {
            "_model_module": "@jupyter-widgets/base",
            "_model_module_version": "1.2.0",
            "_model_name": "LayoutModel",
            "_view_count": null,
            "_view_module": "@jupyter-widgets/base",
            "_view_module_version": "1.2.0",
            "_view_name": "LayoutView",
            "align_content": null,
            "align_items": null,
            "align_self": null,
            "border": null,
            "bottom": null,
            "display": null,
            "flex": null,
            "flex_flow": null,
            "grid_area": null,
            "grid_auto_columns": null,
            "grid_auto_flow": null,
            "grid_auto_rows": null,
            "grid_column": null,
            "grid_gap": null,
            "grid_row": null,
            "grid_template_areas": null,
            "grid_template_columns": null,
            "grid_template_rows": null,
            "height": null,
            "justify_content": null,
            "justify_items": null,
            "left": null,
            "margin": null,
            "max_height": null,
            "max_width": null,
            "min_height": null,
            "min_width": null,
            "object_fit": null,
            "object_position": null,
            "order": null,
            "overflow": null,
            "overflow_x": null,
            "overflow_y": null,
            "padding": null,
            "right": null,
            "top": null,
            "visibility": null,
            "width": null
          }
        },
        "fd1e063bc1634520a10d55ed2c6d9400": {
          "model_module": "@jupyter-widgets/controls",
          "model_name": "DescriptionStyleModel",
          "model_module_version": "1.5.0",
          "state": {
            "_model_module": "@jupyter-widgets/controls",
            "_model_module_version": "1.5.0",
            "_model_name": "DescriptionStyleModel",
            "_view_count": null,
            "_view_module": "@jupyter-widgets/base",
            "_view_module_version": "1.2.0",
            "_view_name": "StyleView",
            "description_width": ""
          }
        },
        "d1737e5f637045699b2407668ab479dc": {
          "model_module": "@jupyter-widgets/controls",
          "model_name": "HBoxModel",
          "model_module_version": "1.5.0",
          "state": {
            "_dom_classes": [],
            "_model_module": "@jupyter-widgets/controls",
            "_model_module_version": "1.5.0",
            "_model_name": "HBoxModel",
            "_view_count": null,
            "_view_module": "@jupyter-widgets/controls",
            "_view_module_version": "1.5.0",
            "_view_name": "HBoxView",
            "box_style": "",
            "children": [
              "IPY_MODEL_a2151327684645bf85e79b410eaeb13e",
              "IPY_MODEL_a86c019151364989935884314c3f7070",
              "IPY_MODEL_0f6ee38672fb479eb23c48b26cf42b94"
            ],
            "layout": "IPY_MODEL_792738c8b3434596a42cc77fb61812f2"
          }
        },
        "a2151327684645bf85e79b410eaeb13e": {
          "model_module": "@jupyter-widgets/controls",
          "model_name": "HTMLModel",
          "model_module_version": "1.5.0",
          "state": {
            "_dom_classes": [],
            "_model_module": "@jupyter-widgets/controls",
            "_model_module_version": "1.5.0",
            "_model_name": "HTMLModel",
            "_view_count": null,
            "_view_module": "@jupyter-widgets/controls",
            "_view_module_version": "1.5.0",
            "_view_name": "HTMLView",
            "description": "",
            "description_tooltip": null,
            "layout": "IPY_MODEL_60cad2c06ac443a081ae6c51cff6fb1e",
            "placeholder": "​",
            "style": "IPY_MODEL_c5a1a1df3cf949fda9236eeb5e0ac6d3",
            "value": "vocab.txt: 100%"
          }
        },
        "a86c019151364989935884314c3f7070": {
          "model_module": "@jupyter-widgets/controls",
          "model_name": "FloatProgressModel",
          "model_module_version": "1.5.0",
          "state": {
            "_dom_classes": [],
            "_model_module": "@jupyter-widgets/controls",
            "_model_module_version": "1.5.0",
            "_model_name": "FloatProgressModel",
            "_view_count": null,
            "_view_module": "@jupyter-widgets/controls",
            "_view_module_version": "1.5.0",
            "_view_name": "ProgressView",
            "bar_style": "success",
            "description": "",
            "description_tooltip": null,
            "layout": "IPY_MODEL_6f068633fd4d4ba2991b4a5228f5e5d3",
            "max": 231508,
            "min": 0,
            "orientation": "horizontal",
            "style": "IPY_MODEL_d0e2bf14c9fa438e9403d2d8f18fd5e4",
            "value": 231508
          }
        },
        "0f6ee38672fb479eb23c48b26cf42b94": {
          "model_module": "@jupyter-widgets/controls",
          "model_name": "HTMLModel",
          "model_module_version": "1.5.0",
          "state": {
            "_dom_classes": [],
            "_model_module": "@jupyter-widgets/controls",
            "_model_module_version": "1.5.0",
            "_model_name": "HTMLModel",
            "_view_count": null,
            "_view_module": "@jupyter-widgets/controls",
            "_view_module_version": "1.5.0",
            "_view_name": "HTMLView",
            "description": "",
            "description_tooltip": null,
            "layout": "IPY_MODEL_07490b948eea47b4b26f75e72cecb8e5",
            "placeholder": "​",
            "style": "IPY_MODEL_536577aeee384ec2ab8204d67843a283",
            "value": " 232k/232k [00:00&lt;00:00, 475kB/s]"
          }
        },
        "792738c8b3434596a42cc77fb61812f2": {
          "model_module": "@jupyter-widgets/base",
          "model_name": "LayoutModel",
          "model_module_version": "1.2.0",
          "state": {
            "_model_module": "@jupyter-widgets/base",
            "_model_module_version": "1.2.0",
            "_model_name": "LayoutModel",
            "_view_count": null,
            "_view_module": "@jupyter-widgets/base",
            "_view_module_version": "1.2.0",
            "_view_name": "LayoutView",
            "align_content": null,
            "align_items": null,
            "align_self": null,
            "border": null,
            "bottom": null,
            "display": null,
            "flex": null,
            "flex_flow": null,
            "grid_area": null,
            "grid_auto_columns": null,
            "grid_auto_flow": null,
            "grid_auto_rows": null,
            "grid_column": null,
            "grid_gap": null,
            "grid_row": null,
            "grid_template_areas": null,
            "grid_template_columns": null,
            "grid_template_rows": null,
            "height": null,
            "justify_content": null,
            "justify_items": null,
            "left": null,
            "margin": null,
            "max_height": null,
            "max_width": null,
            "min_height": null,
            "min_width": null,
            "object_fit": null,
            "object_position": null,
            "order": null,
            "overflow": null,
            "overflow_x": null,
            "overflow_y": null,
            "padding": null,
            "right": null,
            "top": null,
            "visibility": null,
            "width": null
          }
        },
        "60cad2c06ac443a081ae6c51cff6fb1e": {
          "model_module": "@jupyter-widgets/base",
          "model_name": "LayoutModel",
          "model_module_version": "1.2.0",
          "state": {
            "_model_module": "@jupyter-widgets/base",
            "_model_module_version": "1.2.0",
            "_model_name": "LayoutModel",
            "_view_count": null,
            "_view_module": "@jupyter-widgets/base",
            "_view_module_version": "1.2.0",
            "_view_name": "LayoutView",
            "align_content": null,
            "align_items": null,
            "align_self": null,
            "border": null,
            "bottom": null,
            "display": null,
            "flex": null,
            "flex_flow": null,
            "grid_area": null,
            "grid_auto_columns": null,
            "grid_auto_flow": null,
            "grid_auto_rows": null,
            "grid_column": null,
            "grid_gap": null,
            "grid_row": null,
            "grid_template_areas": null,
            "grid_template_columns": null,
            "grid_template_rows": null,
            "height": null,
            "justify_content": null,
            "justify_items": null,
            "left": null,
            "margin": null,
            "max_height": null,
            "max_width": null,
            "min_height": null,
            "min_width": null,
            "object_fit": null,
            "object_position": null,
            "order": null,
            "overflow": null,
            "overflow_x": null,
            "overflow_y": null,
            "padding": null,
            "right": null,
            "top": null,
            "visibility": null,
            "width": null
          }
        },
        "c5a1a1df3cf949fda9236eeb5e0ac6d3": {
          "model_module": "@jupyter-widgets/controls",
          "model_name": "DescriptionStyleModel",
          "model_module_version": "1.5.0",
          "state": {
            "_model_module": "@jupyter-widgets/controls",
            "_model_module_version": "1.5.0",
            "_model_name": "DescriptionStyleModel",
            "_view_count": null,
            "_view_module": "@jupyter-widgets/base",
            "_view_module_version": "1.2.0",
            "_view_name": "StyleView",
            "description_width": ""
          }
        },
        "6f068633fd4d4ba2991b4a5228f5e5d3": {
          "model_module": "@jupyter-widgets/base",
          "model_name": "LayoutModel",
          "model_module_version": "1.2.0",
          "state": {
            "_model_module": "@jupyter-widgets/base",
            "_model_module_version": "1.2.0",
            "_model_name": "LayoutModel",
            "_view_count": null,
            "_view_module": "@jupyter-widgets/base",
            "_view_module_version": "1.2.0",
            "_view_name": "LayoutView",
            "align_content": null,
            "align_items": null,
            "align_self": null,
            "border": null,
            "bottom": null,
            "display": null,
            "flex": null,
            "flex_flow": null,
            "grid_area": null,
            "grid_auto_columns": null,
            "grid_auto_flow": null,
            "grid_auto_rows": null,
            "grid_column": null,
            "grid_gap": null,
            "grid_row": null,
            "grid_template_areas": null,
            "grid_template_columns": null,
            "grid_template_rows": null,
            "height": null,
            "justify_content": null,
            "justify_items": null,
            "left": null,
            "margin": null,
            "max_height": null,
            "max_width": null,
            "min_height": null,
            "min_width": null,
            "object_fit": null,
            "object_position": null,
            "order": null,
            "overflow": null,
            "overflow_x": null,
            "overflow_y": null,
            "padding": null,
            "right": null,
            "top": null,
            "visibility": null,
            "width": null
          }
        },
        "d0e2bf14c9fa438e9403d2d8f18fd5e4": {
          "model_module": "@jupyter-widgets/controls",
          "model_name": "ProgressStyleModel",
          "model_module_version": "1.5.0",
          "state": {
            "_model_module": "@jupyter-widgets/controls",
            "_model_module_version": "1.5.0",
            "_model_name": "ProgressStyleModel",
            "_view_count": null,
            "_view_module": "@jupyter-widgets/base",
            "_view_module_version": "1.2.0",
            "_view_name": "StyleView",
            "bar_color": null,
            "description_width": ""
          }
        },
        "07490b948eea47b4b26f75e72cecb8e5": {
          "model_module": "@jupyter-widgets/base",
          "model_name": "LayoutModel",
          "model_module_version": "1.2.0",
          "state": {
            "_model_module": "@jupyter-widgets/base",
            "_model_module_version": "1.2.0",
            "_model_name": "LayoutModel",
            "_view_count": null,
            "_view_module": "@jupyter-widgets/base",
            "_view_module_version": "1.2.0",
            "_view_name": "LayoutView",
            "align_content": null,
            "align_items": null,
            "align_self": null,
            "border": null,
            "bottom": null,
            "display": null,
            "flex": null,
            "flex_flow": null,
            "grid_area": null,
            "grid_auto_columns": null,
            "grid_auto_flow": null,
            "grid_auto_rows": null,
            "grid_column": null,
            "grid_gap": null,
            "grid_row": null,
            "grid_template_areas": null,
            "grid_template_columns": null,
            "grid_template_rows": null,
            "height": null,
            "justify_content": null,
            "justify_items": null,
            "left": null,
            "margin": null,
            "max_height": null,
            "max_width": null,
            "min_height": null,
            "min_width": null,
            "object_fit": null,
            "object_position": null,
            "order": null,
            "overflow": null,
            "overflow_x": null,
            "overflow_y": null,
            "padding": null,
            "right": null,
            "top": null,
            "visibility": null,
            "width": null
          }
        },
        "536577aeee384ec2ab8204d67843a283": {
          "model_module": "@jupyter-widgets/controls",
          "model_name": "DescriptionStyleModel",
          "model_module_version": "1.5.0",
          "state": {
            "_model_module": "@jupyter-widgets/controls",
            "_model_module_version": "1.5.0",
            "_model_name": "DescriptionStyleModel",
            "_view_count": null,
            "_view_module": "@jupyter-widgets/base",
            "_view_module_version": "1.2.0",
            "_view_name": "StyleView",
            "description_width": ""
          }
        },
        "4037ef785c43494a90970f9aa401f756": {
          "model_module": "@jupyter-widgets/controls",
          "model_name": "HBoxModel",
          "model_module_version": "1.5.0",
          "state": {
            "_dom_classes": [],
            "_model_module": "@jupyter-widgets/controls",
            "_model_module_version": "1.5.0",
            "_model_name": "HBoxModel",
            "_view_count": null,
            "_view_module": "@jupyter-widgets/controls",
            "_view_module_version": "1.5.0",
            "_view_name": "HBoxView",
            "box_style": "",
            "children": [
              "IPY_MODEL_005427baf4234da9afe620172497b4f6",
              "IPY_MODEL_5c7159105b714e3ba2a44ceedbac7f6f",
              "IPY_MODEL_dc82a884826c4766b8504643fc0f4bb0"
            ],
            "layout": "IPY_MODEL_5d7e3cebfad0467fa11d9ea58307a187"
          }
        },
        "005427baf4234da9afe620172497b4f6": {
          "model_module": "@jupyter-widgets/controls",
          "model_name": "HTMLModel",
          "model_module_version": "1.5.0",
          "state": {
            "_dom_classes": [],
            "_model_module": "@jupyter-widgets/controls",
            "_model_module_version": "1.5.0",
            "_model_name": "HTMLModel",
            "_view_count": null,
            "_view_module": "@jupyter-widgets/controls",
            "_view_module_version": "1.5.0",
            "_view_name": "HTMLView",
            "description": "",
            "description_tooltip": null,
            "layout": "IPY_MODEL_ed12c9aea0d34313b7d4182d60b1889f",
            "placeholder": "​",
            "style": "IPY_MODEL_4a9ca04d6803477ebc91a8dec745b554",
            "value": "special_tokens_map.json: 100%"
          }
        },
        "5c7159105b714e3ba2a44ceedbac7f6f": {
          "model_module": "@jupyter-widgets/controls",
          "model_name": "FloatProgressModel",
          "model_module_version": "1.5.0",
          "state": {
            "_dom_classes": [],
            "_model_module": "@jupyter-widgets/controls",
            "_model_module_version": "1.5.0",
            "_model_name": "FloatProgressModel",
            "_view_count": null,
            "_view_module": "@jupyter-widgets/controls",
            "_view_module_version": "1.5.0",
            "_view_name": "ProgressView",
            "bar_style": "success",
            "description": "",
            "description_tooltip": null,
            "layout": "IPY_MODEL_b57bd3edc4f742bd89fe70d17ca23f88",
            "max": 112,
            "min": 0,
            "orientation": "horizontal",
            "style": "IPY_MODEL_6b6aeb2f6bd048acaeac3948c99d7899",
            "value": 112
          }
        },
        "dc82a884826c4766b8504643fc0f4bb0": {
          "model_module": "@jupyter-widgets/controls",
          "model_name": "HTMLModel",
          "model_module_version": "1.5.0",
          "state": {
            "_dom_classes": [],
            "_model_module": "@jupyter-widgets/controls",
            "_model_module_version": "1.5.0",
            "_model_name": "HTMLModel",
            "_view_count": null,
            "_view_module": "@jupyter-widgets/controls",
            "_view_module_version": "1.5.0",
            "_view_name": "HTMLView",
            "description": "",
            "description_tooltip": null,
            "layout": "IPY_MODEL_dfb979eb8bfa4ac0950a75d7622fb44f",
            "placeholder": "​",
            "style": "IPY_MODEL_37bd1816f20e4871b85cd6da5c3f1794",
            "value": " 112/112 [00:00&lt;00:00, 9.34kB/s]"
          }
        },
        "5d7e3cebfad0467fa11d9ea58307a187": {
          "model_module": "@jupyter-widgets/base",
          "model_name": "LayoutModel",
          "model_module_version": "1.2.0",
          "state": {
            "_model_module": "@jupyter-widgets/base",
            "_model_module_version": "1.2.0",
            "_model_name": "LayoutModel",
            "_view_count": null,
            "_view_module": "@jupyter-widgets/base",
            "_view_module_version": "1.2.0",
            "_view_name": "LayoutView",
            "align_content": null,
            "align_items": null,
            "align_self": null,
            "border": null,
            "bottom": null,
            "display": null,
            "flex": null,
            "flex_flow": null,
            "grid_area": null,
            "grid_auto_columns": null,
            "grid_auto_flow": null,
            "grid_auto_rows": null,
            "grid_column": null,
            "grid_gap": null,
            "grid_row": null,
            "grid_template_areas": null,
            "grid_template_columns": null,
            "grid_template_rows": null,
            "height": null,
            "justify_content": null,
            "justify_items": null,
            "left": null,
            "margin": null,
            "max_height": null,
            "max_width": null,
            "min_height": null,
            "min_width": null,
            "object_fit": null,
            "object_position": null,
            "order": null,
            "overflow": null,
            "overflow_x": null,
            "overflow_y": null,
            "padding": null,
            "right": null,
            "top": null,
            "visibility": null,
            "width": null
          }
        },
        "ed12c9aea0d34313b7d4182d60b1889f": {
          "model_module": "@jupyter-widgets/base",
          "model_name": "LayoutModel",
          "model_module_version": "1.2.0",
          "state": {
            "_model_module": "@jupyter-widgets/base",
            "_model_module_version": "1.2.0",
            "_model_name": "LayoutModel",
            "_view_count": null,
            "_view_module": "@jupyter-widgets/base",
            "_view_module_version": "1.2.0",
            "_view_name": "LayoutView",
            "align_content": null,
            "align_items": null,
            "align_self": null,
            "border": null,
            "bottom": null,
            "display": null,
            "flex": null,
            "flex_flow": null,
            "grid_area": null,
            "grid_auto_columns": null,
            "grid_auto_flow": null,
            "grid_auto_rows": null,
            "grid_column": null,
            "grid_gap": null,
            "grid_row": null,
            "grid_template_areas": null,
            "grid_template_columns": null,
            "grid_template_rows": null,
            "height": null,
            "justify_content": null,
            "justify_items": null,
            "left": null,
            "margin": null,
            "max_height": null,
            "max_width": null,
            "min_height": null,
            "min_width": null,
            "object_fit": null,
            "object_position": null,
            "order": null,
            "overflow": null,
            "overflow_x": null,
            "overflow_y": null,
            "padding": null,
            "right": null,
            "top": null,
            "visibility": null,
            "width": null
          }
        },
        "4a9ca04d6803477ebc91a8dec745b554": {
          "model_module": "@jupyter-widgets/controls",
          "model_name": "DescriptionStyleModel",
          "model_module_version": "1.5.0",
          "state": {
            "_model_module": "@jupyter-widgets/controls",
            "_model_module_version": "1.5.0",
            "_model_name": "DescriptionStyleModel",
            "_view_count": null,
            "_view_module": "@jupyter-widgets/base",
            "_view_module_version": "1.2.0",
            "_view_name": "StyleView",
            "description_width": ""
          }
        },
        "b57bd3edc4f742bd89fe70d17ca23f88": {
          "model_module": "@jupyter-widgets/base",
          "model_name": "LayoutModel",
          "model_module_version": "1.2.0",
          "state": {
            "_model_module": "@jupyter-widgets/base",
            "_model_module_version": "1.2.0",
            "_model_name": "LayoutModel",
            "_view_count": null,
            "_view_module": "@jupyter-widgets/base",
            "_view_module_version": "1.2.0",
            "_view_name": "LayoutView",
            "align_content": null,
            "align_items": null,
            "align_self": null,
            "border": null,
            "bottom": null,
            "display": null,
            "flex": null,
            "flex_flow": null,
            "grid_area": null,
            "grid_auto_columns": null,
            "grid_auto_flow": null,
            "grid_auto_rows": null,
            "grid_column": null,
            "grid_gap": null,
            "grid_row": null,
            "grid_template_areas": null,
            "grid_template_columns": null,
            "grid_template_rows": null,
            "height": null,
            "justify_content": null,
            "justify_items": null,
            "left": null,
            "margin": null,
            "max_height": null,
            "max_width": null,
            "min_height": null,
            "min_width": null,
            "object_fit": null,
            "object_position": null,
            "order": null,
            "overflow": null,
            "overflow_x": null,
            "overflow_y": null,
            "padding": null,
            "right": null,
            "top": null,
            "visibility": null,
            "width": null
          }
        },
        "6b6aeb2f6bd048acaeac3948c99d7899": {
          "model_module": "@jupyter-widgets/controls",
          "model_name": "ProgressStyleModel",
          "model_module_version": "1.5.0",
          "state": {
            "_model_module": "@jupyter-widgets/controls",
            "_model_module_version": "1.5.0",
            "_model_name": "ProgressStyleModel",
            "_view_count": null,
            "_view_module": "@jupyter-widgets/base",
            "_view_module_version": "1.2.0",
            "_view_name": "StyleView",
            "bar_color": null,
            "description_width": ""
          }
        },
        "dfb979eb8bfa4ac0950a75d7622fb44f": {
          "model_module": "@jupyter-widgets/base",
          "model_name": "LayoutModel",
          "model_module_version": "1.2.0",
          "state": {
            "_model_module": "@jupyter-widgets/base",
            "_model_module_version": "1.2.0",
            "_model_name": "LayoutModel",
            "_view_count": null,
            "_view_module": "@jupyter-widgets/base",
            "_view_module_version": "1.2.0",
            "_view_name": "LayoutView",
            "align_content": null,
            "align_items": null,
            "align_self": null,
            "border": null,
            "bottom": null,
            "display": null,
            "flex": null,
            "flex_flow": null,
            "grid_area": null,
            "grid_auto_columns": null,
            "grid_auto_flow": null,
            "grid_auto_rows": null,
            "grid_column": null,
            "grid_gap": null,
            "grid_row": null,
            "grid_template_areas": null,
            "grid_template_columns": null,
            "grid_template_rows": null,
            "height": null,
            "justify_content": null,
            "justify_items": null,
            "left": null,
            "margin": null,
            "max_height": null,
            "max_width": null,
            "min_height": null,
            "min_width": null,
            "object_fit": null,
            "object_position": null,
            "order": null,
            "overflow": null,
            "overflow_x": null,
            "overflow_y": null,
            "padding": null,
            "right": null,
            "top": null,
            "visibility": null,
            "width": null
          }
        },
        "37bd1816f20e4871b85cd6da5c3f1794": {
          "model_module": "@jupyter-widgets/controls",
          "model_name": "DescriptionStyleModel",
          "model_module_version": "1.5.0",
          "state": {
            "_model_module": "@jupyter-widgets/controls",
            "_model_module_version": "1.5.0",
            "_model_name": "DescriptionStyleModel",
            "_view_count": null,
            "_view_module": "@jupyter-widgets/base",
            "_view_module_version": "1.2.0",
            "_view_name": "StyleView",
            "description_width": ""
          }
        },
        "e903b6dd630248b0841edab3e835a066": {
          "model_module": "@jupyter-widgets/controls",
          "model_name": "HBoxModel",
          "model_module_version": "1.5.0",
          "state": {
            "_dom_classes": [],
            "_model_module": "@jupyter-widgets/controls",
            "_model_module_version": "1.5.0",
            "_model_name": "HBoxModel",
            "_view_count": null,
            "_view_module": "@jupyter-widgets/controls",
            "_view_module_version": "1.5.0",
            "_view_name": "HBoxView",
            "box_style": "",
            "children": [
              "IPY_MODEL_86a011942c9444f685d75a5ae09799a9",
              "IPY_MODEL_56e6de412b5247858e14d681bf7a5dac",
              "IPY_MODEL_9093b58252554be082e2d0d7e20fb7e2"
            ],
            "layout": "IPY_MODEL_37ded676c4d74947a36b17763f377a2a"
          }
        },
        "86a011942c9444f685d75a5ae09799a9": {
          "model_module": "@jupyter-widgets/controls",
          "model_name": "HTMLModel",
          "model_module_version": "1.5.0",
          "state": {
            "_dom_classes": [],
            "_model_module": "@jupyter-widgets/controls",
            "_model_module_version": "1.5.0",
            "_model_name": "HTMLModel",
            "_view_count": null,
            "_view_module": "@jupyter-widgets/controls",
            "_view_module_version": "1.5.0",
            "_view_name": "HTMLView",
            "description": "",
            "description_tooltip": null,
            "layout": "IPY_MODEL_39970f19eff64c4482b1a20fbe0bb124",
            "placeholder": "​",
            "style": "IPY_MODEL_1ddf16849a28484e834fde9532ce9bb8",
            "value": "pytorch_model.bin: 100%"
          }
        },
        "56e6de412b5247858e14d681bf7a5dac": {
          "model_module": "@jupyter-widgets/controls",
          "model_name": "FloatProgressModel",
          "model_module_version": "1.5.0",
          "state": {
            "_dom_classes": [],
            "_model_module": "@jupyter-widgets/controls",
            "_model_module_version": "1.5.0",
            "_model_name": "FloatProgressModel",
            "_view_count": null,
            "_view_module": "@jupyter-widgets/controls",
            "_view_module_version": "1.5.0",
            "_view_name": "ProgressView",
            "bar_style": "success",
            "description": "",
            "description_tooltip": null,
            "layout": "IPY_MODEL_2f57ebd7d681418ab4d7358f3460464a",
            "max": 437992753,
            "min": 0,
            "orientation": "horizontal",
            "style": "IPY_MODEL_cbcfdd8a4e494652b0101210436d3bcb",
            "value": 437992753
          }
        },
        "9093b58252554be082e2d0d7e20fb7e2": {
          "model_module": "@jupyter-widgets/controls",
          "model_name": "HTMLModel",
          "model_module_version": "1.5.0",
          "state": {
            "_dom_classes": [],
            "_model_module": "@jupyter-widgets/controls",
            "_model_module_version": "1.5.0",
            "_model_name": "HTMLModel",
            "_view_count": null,
            "_view_module": "@jupyter-widgets/controls",
            "_view_module_version": "1.5.0",
            "_view_name": "HTMLView",
            "description": "",
            "description_tooltip": null,
            "layout": "IPY_MODEL_e7a3a8455c914de69c94e2075e81fa9d",
            "placeholder": "​",
            "style": "IPY_MODEL_f2197ed7007e46c88a18f579353e9374",
            "value": " 438M/438M [00:00&lt;00:00, 510MB/s]"
          }
        },
        "37ded676c4d74947a36b17763f377a2a": {
          "model_module": "@jupyter-widgets/base",
          "model_name": "LayoutModel",
          "model_module_version": "1.2.0",
          "state": {
            "_model_module": "@jupyter-widgets/base",
            "_model_module_version": "1.2.0",
            "_model_name": "LayoutModel",
            "_view_count": null,
            "_view_module": "@jupyter-widgets/base",
            "_view_module_version": "1.2.0",
            "_view_name": "LayoutView",
            "align_content": null,
            "align_items": null,
            "align_self": null,
            "border": null,
            "bottom": null,
            "display": null,
            "flex": null,
            "flex_flow": null,
            "grid_area": null,
            "grid_auto_columns": null,
            "grid_auto_flow": null,
            "grid_auto_rows": null,
            "grid_column": null,
            "grid_gap": null,
            "grid_row": null,
            "grid_template_areas": null,
            "grid_template_columns": null,
            "grid_template_rows": null,
            "height": null,
            "justify_content": null,
            "justify_items": null,
            "left": null,
            "margin": null,
            "max_height": null,
            "max_width": null,
            "min_height": null,
            "min_width": null,
            "object_fit": null,
            "object_position": null,
            "order": null,
            "overflow": null,
            "overflow_x": null,
            "overflow_y": null,
            "padding": null,
            "right": null,
            "top": null,
            "visibility": null,
            "width": null
          }
        },
        "39970f19eff64c4482b1a20fbe0bb124": {
          "model_module": "@jupyter-widgets/base",
          "model_name": "LayoutModel",
          "model_module_version": "1.2.0",
          "state": {
            "_model_module": "@jupyter-widgets/base",
            "_model_module_version": "1.2.0",
            "_model_name": "LayoutModel",
            "_view_count": null,
            "_view_module": "@jupyter-widgets/base",
            "_view_module_version": "1.2.0",
            "_view_name": "LayoutView",
            "align_content": null,
            "align_items": null,
            "align_self": null,
            "border": null,
            "bottom": null,
            "display": null,
            "flex": null,
            "flex_flow": null,
            "grid_area": null,
            "grid_auto_columns": null,
            "grid_auto_flow": null,
            "grid_auto_rows": null,
            "grid_column": null,
            "grid_gap": null,
            "grid_row": null,
            "grid_template_areas": null,
            "grid_template_columns": null,
            "grid_template_rows": null,
            "height": null,
            "justify_content": null,
            "justify_items": null,
            "left": null,
            "margin": null,
            "max_height": null,
            "max_width": null,
            "min_height": null,
            "min_width": null,
            "object_fit": null,
            "object_position": null,
            "order": null,
            "overflow": null,
            "overflow_x": null,
            "overflow_y": null,
            "padding": null,
            "right": null,
            "top": null,
            "visibility": null,
            "width": null
          }
        },
        "1ddf16849a28484e834fde9532ce9bb8": {
          "model_module": "@jupyter-widgets/controls",
          "model_name": "DescriptionStyleModel",
          "model_module_version": "1.5.0",
          "state": {
            "_model_module": "@jupyter-widgets/controls",
            "_model_module_version": "1.5.0",
            "_model_name": "DescriptionStyleModel",
            "_view_count": null,
            "_view_module": "@jupyter-widgets/base",
            "_view_module_version": "1.2.0",
            "_view_name": "StyleView",
            "description_width": ""
          }
        },
        "2f57ebd7d681418ab4d7358f3460464a": {
          "model_module": "@jupyter-widgets/base",
          "model_name": "LayoutModel",
          "model_module_version": "1.2.0",
          "state": {
            "_model_module": "@jupyter-widgets/base",
            "_model_module_version": "1.2.0",
            "_model_name": "LayoutModel",
            "_view_count": null,
            "_view_module": "@jupyter-widgets/base",
            "_view_module_version": "1.2.0",
            "_view_name": "LayoutView",
            "align_content": null,
            "align_items": null,
            "align_self": null,
            "border": null,
            "bottom": null,
            "display": null,
            "flex": null,
            "flex_flow": null,
            "grid_area": null,
            "grid_auto_columns": null,
            "grid_auto_flow": null,
            "grid_auto_rows": null,
            "grid_column": null,
            "grid_gap": null,
            "grid_row": null,
            "grid_template_areas": null,
            "grid_template_columns": null,
            "grid_template_rows": null,
            "height": null,
            "justify_content": null,
            "justify_items": null,
            "left": null,
            "margin": null,
            "max_height": null,
            "max_width": null,
            "min_height": null,
            "min_width": null,
            "object_fit": null,
            "object_position": null,
            "order": null,
            "overflow": null,
            "overflow_x": null,
            "overflow_y": null,
            "padding": null,
            "right": null,
            "top": null,
            "visibility": null,
            "width": null
          }
        },
        "cbcfdd8a4e494652b0101210436d3bcb": {
          "model_module": "@jupyter-widgets/controls",
          "model_name": "ProgressStyleModel",
          "model_module_version": "1.5.0",
          "state": {
            "_model_module": "@jupyter-widgets/controls",
            "_model_module_version": "1.5.0",
            "_model_name": "ProgressStyleModel",
            "_view_count": null,
            "_view_module": "@jupyter-widgets/base",
            "_view_module_version": "1.2.0",
            "_view_name": "StyleView",
            "bar_color": null,
            "description_width": ""
          }
        },
        "e7a3a8455c914de69c94e2075e81fa9d": {
          "model_module": "@jupyter-widgets/base",
          "model_name": "LayoutModel",
          "model_module_version": "1.2.0",
          "state": {
            "_model_module": "@jupyter-widgets/base",
            "_model_module_version": "1.2.0",
            "_model_name": "LayoutModel",
            "_view_count": null,
            "_view_module": "@jupyter-widgets/base",
            "_view_module_version": "1.2.0",
            "_view_name": "LayoutView",
            "align_content": null,
            "align_items": null,
            "align_self": null,
            "border": null,
            "bottom": null,
            "display": null,
            "flex": null,
            "flex_flow": null,
            "grid_area": null,
            "grid_auto_columns": null,
            "grid_auto_flow": null,
            "grid_auto_rows": null,
            "grid_column": null,
            "grid_gap": null,
            "grid_row": null,
            "grid_template_areas": null,
            "grid_template_columns": null,
            "grid_template_rows": null,
            "height": null,
            "justify_content": null,
            "justify_items": null,
            "left": null,
            "margin": null,
            "max_height": null,
            "max_width": null,
            "min_height": null,
            "min_width": null,
            "object_fit": null,
            "object_position": null,
            "order": null,
            "overflow": null,
            "overflow_x": null,
            "overflow_y": null,
            "padding": null,
            "right": null,
            "top": null,
            "visibility": null,
            "width": null
          }
        },
        "f2197ed7007e46c88a18f579353e9374": {
          "model_module": "@jupyter-widgets/controls",
          "model_name": "DescriptionStyleModel",
          "model_module_version": "1.5.0",
          "state": {
            "_model_module": "@jupyter-widgets/controls",
            "_model_module_version": "1.5.0",
            "_model_name": "DescriptionStyleModel",
            "_view_count": null,
            "_view_module": "@jupyter-widgets/base",
            "_view_module_version": "1.2.0",
            "_view_name": "StyleView",
            "description_width": ""
          }
        },
        "4038469878644ba6a598f92b3ae61151": {
          "model_module": "@jupyter-widgets/controls",
          "model_name": "HBoxModel",
          "model_module_version": "1.5.0",
          "state": {
            "_dom_classes": [],
            "_model_module": "@jupyter-widgets/controls",
            "_model_module_version": "1.5.0",
            "_model_name": "HBoxModel",
            "_view_count": null,
            "_view_module": "@jupyter-widgets/controls",
            "_view_module_version": "1.5.0",
            "_view_name": "HBoxView",
            "box_style": "",
            "children": [
              "IPY_MODEL_6dfac7bb8b6f4fefbb3f55f2383b9b58",
              "IPY_MODEL_f8254d22f56c4d0dac1d11b1827fe5ba",
              "IPY_MODEL_c87c494e72fe451989e3a03ed0c38036"
            ],
            "layout": "IPY_MODEL_e01170eda11f42cd928a435a63ef22bf"
          }
        },
        "6dfac7bb8b6f4fefbb3f55f2383b9b58": {
          "model_module": "@jupyter-widgets/controls",
          "model_name": "HTMLModel",
          "model_module_version": "1.5.0",
          "state": {
            "_dom_classes": [],
            "_model_module": "@jupyter-widgets/controls",
            "_model_module_version": "1.5.0",
            "_model_name": "HTMLModel",
            "_view_count": null,
            "_view_module": "@jupyter-widgets/controls",
            "_view_module_version": "1.5.0",
            "_view_name": "HTMLView",
            "description": "",
            "description_tooltip": null,
            "layout": "IPY_MODEL_985c084a48d54b9ca6ccac1e807a99fb",
            "placeholder": "​",
            "style": "IPY_MODEL_8f4f620c6e524215bfc022e63891fbb8",
            "value": "100%"
          }
        },
        "f8254d22f56c4d0dac1d11b1827fe5ba": {
          "model_module": "@jupyter-widgets/controls",
          "model_name": "FloatProgressModel",
          "model_module_version": "1.5.0",
          "state": {
            "_dom_classes": [],
            "_model_module": "@jupyter-widgets/controls",
            "_model_module_version": "1.5.0",
            "_model_name": "FloatProgressModel",
            "_view_count": null,
            "_view_module": "@jupyter-widgets/controls",
            "_view_module_version": "1.5.0",
            "_view_name": "ProgressView",
            "bar_style": "success",
            "description": "",
            "description_tooltip": null,
            "layout": "IPY_MODEL_7a2bc31182b94ac3b1f37cc17f80fdb1",
            "max": 1049,
            "min": 0,
            "orientation": "horizontal",
            "style": "IPY_MODEL_aa62eb25f71c4b0f894dc580504ec861",
            "value": 1049
          }
        },
        "c87c494e72fe451989e3a03ed0c38036": {
          "model_module": "@jupyter-widgets/controls",
          "model_name": "HTMLModel",
          "model_module_version": "1.5.0",
          "state": {
            "_dom_classes": [],
            "_model_module": "@jupyter-widgets/controls",
            "_model_module_version": "1.5.0",
            "_model_name": "HTMLModel",
            "_view_count": null,
            "_view_module": "@jupyter-widgets/controls",
            "_view_module_version": "1.5.0",
            "_view_name": "HTMLView",
            "description": "",
            "description_tooltip": null,
            "layout": "IPY_MODEL_03c8e65d093a4285a768449b4351f1a0",
            "placeholder": "​",
            "style": "IPY_MODEL_82ed629a641e49a49bcc562644932606",
            "value": " 1049/1049 [02:58&lt;00:00,  6.14it/s]"
          }
        },
        "e01170eda11f42cd928a435a63ef22bf": {
          "model_module": "@jupyter-widgets/base",
          "model_name": "LayoutModel",
          "model_module_version": "1.2.0",
          "state": {
            "_model_module": "@jupyter-widgets/base",
            "_model_module_version": "1.2.0",
            "_model_name": "LayoutModel",
            "_view_count": null,
            "_view_module": "@jupyter-widgets/base",
            "_view_module_version": "1.2.0",
            "_view_name": "LayoutView",
            "align_content": null,
            "align_items": null,
            "align_self": null,
            "border": null,
            "bottom": null,
            "display": null,
            "flex": null,
            "flex_flow": null,
            "grid_area": null,
            "grid_auto_columns": null,
            "grid_auto_flow": null,
            "grid_auto_rows": null,
            "grid_column": null,
            "grid_gap": null,
            "grid_row": null,
            "grid_template_areas": null,
            "grid_template_columns": null,
            "grid_template_rows": null,
            "height": null,
            "justify_content": null,
            "justify_items": null,
            "left": null,
            "margin": null,
            "max_height": null,
            "max_width": null,
            "min_height": null,
            "min_width": null,
            "object_fit": null,
            "object_position": null,
            "order": null,
            "overflow": null,
            "overflow_x": null,
            "overflow_y": null,
            "padding": null,
            "right": null,
            "top": null,
            "visibility": null,
            "width": null
          }
        },
        "985c084a48d54b9ca6ccac1e807a99fb": {
          "model_module": "@jupyter-widgets/base",
          "model_name": "LayoutModel",
          "model_module_version": "1.2.0",
          "state": {
            "_model_module": "@jupyter-widgets/base",
            "_model_module_version": "1.2.0",
            "_model_name": "LayoutModel",
            "_view_count": null,
            "_view_module": "@jupyter-widgets/base",
            "_view_module_version": "1.2.0",
            "_view_name": "LayoutView",
            "align_content": null,
            "align_items": null,
            "align_self": null,
            "border": null,
            "bottom": null,
            "display": null,
            "flex": null,
            "flex_flow": null,
            "grid_area": null,
            "grid_auto_columns": null,
            "grid_auto_flow": null,
            "grid_auto_rows": null,
            "grid_column": null,
            "grid_gap": null,
            "grid_row": null,
            "grid_template_areas": null,
            "grid_template_columns": null,
            "grid_template_rows": null,
            "height": null,
            "justify_content": null,
            "justify_items": null,
            "left": null,
            "margin": null,
            "max_height": null,
            "max_width": null,
            "min_height": null,
            "min_width": null,
            "object_fit": null,
            "object_position": null,
            "order": null,
            "overflow": null,
            "overflow_x": null,
            "overflow_y": null,
            "padding": null,
            "right": null,
            "top": null,
            "visibility": null,
            "width": null
          }
        },
        "8f4f620c6e524215bfc022e63891fbb8": {
          "model_module": "@jupyter-widgets/controls",
          "model_name": "DescriptionStyleModel",
          "model_module_version": "1.5.0",
          "state": {
            "_model_module": "@jupyter-widgets/controls",
            "_model_module_version": "1.5.0",
            "_model_name": "DescriptionStyleModel",
            "_view_count": null,
            "_view_module": "@jupyter-widgets/base",
            "_view_module_version": "1.2.0",
            "_view_name": "StyleView",
            "description_width": ""
          }
        },
        "7a2bc31182b94ac3b1f37cc17f80fdb1": {
          "model_module": "@jupyter-widgets/base",
          "model_name": "LayoutModel",
          "model_module_version": "1.2.0",
          "state": {
            "_model_module": "@jupyter-widgets/base",
            "_model_module_version": "1.2.0",
            "_model_name": "LayoutModel",
            "_view_count": null,
            "_view_module": "@jupyter-widgets/base",
            "_view_module_version": "1.2.0",
            "_view_name": "LayoutView",
            "align_content": null,
            "align_items": null,
            "align_self": null,
            "border": null,
            "bottom": null,
            "display": null,
            "flex": null,
            "flex_flow": null,
            "grid_area": null,
            "grid_auto_columns": null,
            "grid_auto_flow": null,
            "grid_auto_rows": null,
            "grid_column": null,
            "grid_gap": null,
            "grid_row": null,
            "grid_template_areas": null,
            "grid_template_columns": null,
            "grid_template_rows": null,
            "height": null,
            "justify_content": null,
            "justify_items": null,
            "left": null,
            "margin": null,
            "max_height": null,
            "max_width": null,
            "min_height": null,
            "min_width": null,
            "object_fit": null,
            "object_position": null,
            "order": null,
            "overflow": null,
            "overflow_x": null,
            "overflow_y": null,
            "padding": null,
            "right": null,
            "top": null,
            "visibility": null,
            "width": null
          }
        },
        "aa62eb25f71c4b0f894dc580504ec861": {
          "model_module": "@jupyter-widgets/controls",
          "model_name": "ProgressStyleModel",
          "model_module_version": "1.5.0",
          "state": {
            "_model_module": "@jupyter-widgets/controls",
            "_model_module_version": "1.5.0",
            "_model_name": "ProgressStyleModel",
            "_view_count": null,
            "_view_module": "@jupyter-widgets/base",
            "_view_module_version": "1.2.0",
            "_view_name": "StyleView",
            "bar_color": null,
            "description_width": ""
          }
        },
        "03c8e65d093a4285a768449b4351f1a0": {
          "model_module": "@jupyter-widgets/base",
          "model_name": "LayoutModel",
          "model_module_version": "1.2.0",
          "state": {
            "_model_module": "@jupyter-widgets/base",
            "_model_module_version": "1.2.0",
            "_model_name": "LayoutModel",
            "_view_count": null,
            "_view_module": "@jupyter-widgets/base",
            "_view_module_version": "1.2.0",
            "_view_name": "LayoutView",
            "align_content": null,
            "align_items": null,
            "align_self": null,
            "border": null,
            "bottom": null,
            "display": null,
            "flex": null,
            "flex_flow": null,
            "grid_area": null,
            "grid_auto_columns": null,
            "grid_auto_flow": null,
            "grid_auto_rows": null,
            "grid_column": null,
            "grid_gap": null,
            "grid_row": null,
            "grid_template_areas": null,
            "grid_template_columns": null,
            "grid_template_rows": null,
            "height": null,
            "justify_content": null,
            "justify_items": null,
            "left": null,
            "margin": null,
            "max_height": null,
            "max_width": null,
            "min_height": null,
            "min_width": null,
            "object_fit": null,
            "object_position": null,
            "order": null,
            "overflow": null,
            "overflow_x": null,
            "overflow_y": null,
            "padding": null,
            "right": null,
            "top": null,
            "visibility": null,
            "width": null
          }
        },
        "82ed629a641e49a49bcc562644932606": {
          "model_module": "@jupyter-widgets/controls",
          "model_name": "DescriptionStyleModel",
          "model_module_version": "1.5.0",
          "state": {
            "_model_module": "@jupyter-widgets/controls",
            "_model_module_version": "1.5.0",
            "_model_name": "DescriptionStyleModel",
            "_view_count": null,
            "_view_module": "@jupyter-widgets/base",
            "_view_module_version": "1.2.0",
            "_view_name": "StyleView",
            "description_width": ""
          }
        }
      }
    }
  },
  "nbformat": 4,
  "nbformat_minor": 0
}