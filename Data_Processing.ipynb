{
  "nbformat": 4,
  "nbformat_minor": 0,
  "metadata": {
    "colab": {
      "provenance": [],
      "collapsed_sections": [
        "kxgxddrZQgdb",
        "ywxhvYCIRSku",
        "BKMlst4elYnS",
        "ZZ0upYIAIOyN",
        "lBK4BTa1iVBI",
        "2Gpd3gQlK7Vc",
        "6UKTXSX2akgr",
        "xst2JJf6eLDl",
        "eiETJAposRKf",
        "24MiZdQKr_Tu",
        "tnyKYcWqOJCo"
      ]
    },
    "kernelspec": {
      "name": "python3",
      "display_name": "Python 3"
    },
    "language_info": {
      "name": "python"
    }
  },
  "cells": [
    {
      "cell_type": "markdown",
      "source": [
        "This notebook takes raw data from each source specified below in their respective sections, cleans and preprocessed it into one Master DataFrame with all featuresThis notebook is broken into the following sections: <br>\n",
        "\n",
        "* Imports and installs\n",
        "* Functions\n",
        "* Download and preprocess data\n",
        "* Combine data into one master dataframe"
      ],
      "metadata": {
        "id": "5htUjtdHKrnk"
      }
    },
    {
      "cell_type": "markdown",
      "metadata": {
        "id": "kxgxddrZQgdb"
      },
      "source": [
        "# Imports and Installs"
      ]
    },
    {
      "cell_type": "code",
      "execution_count": 14,
      "metadata": {
        "id": "5gQFZzn1QdGd"
      },
      "outputs": [],
      "source": [
        "# Admin\n",
        "import requests\n",
        "from google.colab import files\n",
        "from datetime import datetime, timedelta\n",
        "from tqdm import tqdm\n",
        "from tqdm.notebook import tqdm\n",
        "import time\n",
        "\n",
        "import ast\n",
        "import pandas as pd\n",
        "import numpy as np\n",
        "import yfinance as yf\n",
        "from functools import reduce\n",
        "\n",
        "from sklearn.model_selection import TimeSeriesSplit\n",
        "from statsmodels.api import OLS, GLS, add_constant\n",
        "from sklearn.preprocessing import MinMaxScaler\n",
        "from sklearn.metrics import r2_score, make_scorer, mean_squared_error\n",
        "import statsmodels.api as sm\n",
        "from statsmodels.stats.diagnostic import het_breuschpagan\n",
        "from scipy.stats import pearsonr\n",
        "import scipy.stats as stats\n",
        "\n",
        "\n",
        "# Sentiment\n",
        "from transformers import AutoTokenizer, AutoModelForSequenceClassification, pipeline\n",
        "import nltk\n",
        "from nltk.tokenize import sent_tokenize\n",
        "from scipy.stats import mannwhitneyu\n",
        "\n",
        "\n",
        "# Visualizations\n",
        "import plotly.express as px\n",
        "import plotly.graph_objects as go\n",
        "from plotly.subplots import make_subplots"
      ]
    },
    {
      "cell_type": "code",
      "execution_count": 15,
      "metadata": {
        "colab": {
          "base_uri": "https://localhost:8080/"
        },
        "id": "hdKCt7OfYECU",
        "outputId": "e0f95801-9306-480b-fd47-470b2597c009"
      },
      "outputs": [
        {
          "output_type": "stream",
          "name": "stderr",
          "text": [
            "[nltk_data] Downloading package punkt to /root/nltk_data...\n",
            "[nltk_data]   Package punkt is already up-to-date!\n"
          ]
        },
        {
          "output_type": "execute_result",
          "data": {
            "text/plain": [
              "True"
            ]
          },
          "metadata": {},
          "execution_count": 15
        }
      ],
      "source": [
        "nltk.download('punkt')"
      ]
    },
    {
      "cell_type": "markdown",
      "metadata": {
        "id": "ywxhvYCIRSku"
      },
      "source": [
        "# Functions"
      ]
    },
    {
      "cell_type": "code",
      "execution_count": 16,
      "metadata": {
        "id": "B4I7LMvARUE9"
      },
      "outputs": [],
      "source": [
        "def download_stock_prices(ticker_symbol, start):\n",
        "  \"\"\"\n",
        "  Downloads historical adjusted closing prices for a given stock ticker.\n",
        "\n",
        "  Parameters:\n",
        "  - ticker_symbol: The stock ticker symbol as a string.\n",
        "\n",
        "  Returns:\n",
        "  - prices_df: A DataFrame containing the adjusted closing prices.\n",
        "  \"\"\"\n",
        "  start = start\n",
        "  today_date = datetime.now().strftime('%Y-%m-%d')\n",
        "  end = '2024-03-06'\n",
        "\n",
        "  # Download historical data\n",
        "  price_data = yf.download(ticker_symbol, start=start, end=end)\n",
        "\n",
        "  # Extract adjusted closing prices\n",
        "  adj_close_prices = price_data['Adj Close']\n",
        "\n",
        "  # Create a DataFrame with the adjusted closing prices\n",
        "  prices_df = pd.DataFrame(adj_close_prices)\n",
        "\n",
        "  return prices_df"
      ]
    },
    {
      "cell_type": "code",
      "execution_count": 17,
      "metadata": {
        "id": "BKh0kxqUnPo7"
      },
      "outputs": [],
      "source": [
        "def interpolate_daily_values(column):\n",
        "  # Create a dataframe\n",
        "  daily_df = pd.DataFrame(columns = ['Adj Close', 'Daily Avg'])\n",
        "\n",
        "  for i in range(len(column)):\n",
        "    # Get the index value of the input column\n",
        "    a = column.index[i]\n",
        "\n",
        "    # Find the index position in the prices dataframe that is closest to the index value in the revenue dataframe\n",
        "    idx_pos = prices.index.searchsorted(a)\n",
        "\n",
        "    # Get the row number of the index value in the prices dataframe\n",
        "    row_index = idx_pos + 1\n",
        "\n",
        "    # Calculate average daily value by dividing the value of the input column by the number of rows (days) in the prices dataframe\n",
        "    average_daily_value = column.iloc[i] / (row_index-len(daily_df))\n",
        "\n",
        "    # Create a smaller dataframe with data for only quarter i that will be concatenated to the daily_df\n",
        "    sub_df = pd.DataFrame(columns=['Adj Close', 'Daily Avg'])\n",
        "    sub_df['Adj Close'] = prices.iloc[len(daily_df):row_index]\n",
        "    sub_df['Daily Avg'] = average_daily_value\n",
        "\n",
        "\n",
        "    daily_df = pd.concat([daily_df, sub_df])\n",
        "\n",
        "  daily_df.drop(columns = ['Adj Close'])\n",
        "\n",
        "  return daily_df"
      ]
    },
    {
      "cell_type": "code",
      "execution_count": 18,
      "metadata": {
        "id": "tW6f5nS0YLGI"
      },
      "outputs": [],
      "source": [
        "def download_and_clean_transcripts():\n",
        "  transcripts_df = pd.DataFrame()\n",
        "  year_list = [2020, 2021, 2022, 2023,2024]\n",
        "  api_key = ''\n",
        "\n",
        "  for year in year_list:\n",
        "    url = f'https://financialmodelingprep.com/api/v4/batch_earning_call_transcript/MSFT?year={year}&apikey={api_key}'\n",
        "    data = requests.get(url).json()\n",
        "    if data and isinstance(data, list):\n",
        "      df = pd.DataFrame(data)\n",
        "      transcripts_df = transcripts_df.append(df, ignore_index=True)\n",
        "\n",
        "  transcripts_df = transcripts_df.drop(columns=['symbol', 'quarter', 'year'])\n",
        "  transcripts_df['date'] = pd.to_datetime(transcripts_df['date']).dt.date\n",
        "  transcripts_df['content'] = transcripts_df['content'].str.replace('\\n', '', regex=False)\n",
        "  transcripts_df = transcripts_df.rename(columns={'date': 'Date', 'content': 'Text'})\n",
        "  transcripts_df = transcripts_df.sort_values(by='Date', ascending=True)\n",
        "\n",
        "  return transcripts_df"
      ]
    },
    {
      "cell_type": "code",
      "execution_count": 19,
      "metadata": {
        "id": "HtNcFn8nYR51"
      },
      "outputs": [],
      "source": [
        "# Download the finBERT model,\n",
        "# This will output a sentiment label and score for a dataframe with 'Date' and 'Text' columns\n",
        "\n",
        "# Initialize the tokenizer and model for ProsusAI/finBERT\n",
        "tokenizer = AutoTokenizer.from_pretrained('ProsusAI/finBERT')\n",
        "model = AutoModelForSequenceClassification.from_pretrained('ProsusAI/finBERT')\n",
        "\n",
        "# Create a sentiment analysis pipeline using the finBERT model\n",
        "finbert_sentiment = pipeline(\"sentiment-analysis\", model=model, tokenizer=tokenizer)\n",
        "\n",
        "# Define a function to apply sentiment analysis to each row\n",
        "def get_sentiment(row):\n",
        "\n",
        "    results = finbert_sentiment(row['Text'], truncation=True, max_length=512)\n",
        "\n",
        "    return pd.Series([row['Text'], results[0]['label'], results[0]['score']])"
      ]
    },
    {
      "cell_type": "code",
      "execution_count": 20,
      "metadata": {
        "id": "EG1OA3Y6Ykxb"
      },
      "outputs": [],
      "source": [
        "def calculate_sentiment_scores(transcripts_df):\n",
        "\n",
        "  ticker_avg_sentiment = []\n",
        "\n",
        "  for i in tqdm(range(len(transcripts_df))):\n",
        "    transcript = transcripts_df['Text'].iloc[i]\n",
        "    sentences = sent_tokenize(transcript)\n",
        "\n",
        "    # skip calls that have less than 4 tokens\n",
        "    if len(sentences) < 4:\n",
        "      continue\n",
        "\n",
        "    # Trim first two and last 2 items from sentence list\n",
        "    sentences = sentences[2:-2]\n",
        "    # Create a dataframe to calculate the score for each item in the sentence list.\n",
        "    sentences_df = pd.DataFrame(sentences, columns=['Text'])\n",
        "    sentiment_results = sentences_df.apply(get_sentiment, axis=1)\n",
        "    sentiment_results.columns = ['Sentence', 'Label', 'Score']\n",
        "    # Remove neutral scores\n",
        "    sentiment_results = sentiment_results[sentiment_results['Label'] != 'neutral']\n",
        "    # Remove sentences with low sentiment\n",
        "    rows_to_drop = int(len(sentiment_results) * 0.3)\n",
        "    sentiment_results = sentiment_results.sort_values(by = 'Score', ascending = True).iloc[rows_to_drop:]\n",
        "    # Convert negative sentiment scores\n",
        "    sentiment_results['Score'] = sentiment_results.apply(lambda row: -row['Score'] if row['Label'] == 'negative' else row['Score'], axis=1)\n",
        "    # Calculate average sentiment score for the call\n",
        "    avg_sentiment = sum(sentiment_results['Score'])/len(sentiment_results)\n",
        "    ticker_avg_sentiment.append(avg_sentiment)\n",
        "\n",
        "  transcripts_df['Sentiment'] = ticker_avg_sentiment\n",
        "\n",
        "  return transcripts_df"
      ]
    },
    {
      "cell_type": "code",
      "source": [
        "def mean_return_over_n_days(df, N):\n",
        "  \"\"\"\n",
        "  Calculates the price returns over the previous N days for the 'Adj Close' column in a DataFrame.\n",
        "\n",
        "  Parameters:\n",
        "  - df: A pandas DataFrame containing the 'Adj Close' column with prices.\n",
        "  - N: The number of days over which to calculate the returns.\n",
        "\n",
        "  Returns:\n",
        "  - The mean value of the 'Return Over N Days' column.\n",
        "  \"\"\"\n",
        "  # Calculate the percentage change over the previous N days and store it in a new column\n",
        "  df['Return Over N Days'] = df['Adj Close'].pct_change(periods=N)\n",
        "\n",
        "  # Calculate the mean value of the 'Return Over N Days' column\n",
        "  mean_return_over_n_days = round(df['Return Over N Days'].mean(),4)\n",
        "\n",
        "  return mean_return_over_n_days"
      ],
      "metadata": {
        "id": "-8ow-HFWimWf"
      },
      "execution_count": 21,
      "outputs": []
    },
    {
      "cell_type": "code",
      "source": [
        "def shifted_returns_df(df, N):\n",
        "  \"\"\"\n",
        "  Creates a new DataFrame with price returns over N days and shifted returns.\n",
        "\n",
        "  Parameters:\n",
        "  - df: A pandas DataFrame containing an 'Adj Close' column with prices.\n",
        "  - N: The number of days over which to calculate the returns.\n",
        "\n",
        "  Returns:\n",
        "  - A new DataFrame 'shifted_returns' with columns 'Adj Close', 'Return Over N Days',\n",
        "    and 'Shifted Return Over N Days'.\n",
        "  \"\"\"\n",
        "  # Initialize the new DataFrame\n",
        "  shifted_returns = pd.DataFrame()\n",
        "  shifted_returns['Adj Close'] = df['Adj Close']\n",
        "\n",
        "  # Calculate the percentage change over the previous N days for 'Return Over N Days'\n",
        "  shifted_returns['Return Over N Days'] = df['Adj Close'].pct_change(periods=N)\n",
        "\n",
        "  # Shift the 'Return Over N Days' by N days to create 'Shifted Return Over N Days'\n",
        "  shifted_returns['Shifted Return Over N Days'] = shifted_returns['Return Over N Days'].shift(-N)\n",
        "\n",
        "  return shifted_returns"
      ],
      "metadata": {
        "id": "btlq9IB6i3XF"
      },
      "execution_count": 22,
      "outputs": []
    },
    {
      "cell_type": "markdown",
      "metadata": {
        "id": "QXYGeVTNRYtt"
      },
      "source": [
        "# Download Data"
      ]
    },
    {
      "cell_type": "markdown",
      "metadata": {
        "id": "BKMlst4elYnS"
      },
      "source": [
        "## Stock Price Data"
      ]
    },
    {
      "cell_type": "markdown",
      "metadata": {
        "id": "7DB6IBKJmohc"
      },
      "source": [
        "Data obtained from Yahoo! Finance using yfinance package"
      ]
    },
    {
      "cell_type": "code",
      "execution_count": 23,
      "metadata": {
        "colab": {
          "base_uri": "https://localhost:8080/",
          "height": 0
        },
        "id": "SXfJlJzkRaqS",
        "outputId": "f59b9304-3614-4b0c-e1a7-fe07bd0af904"
      },
      "outputs": [
        {
          "output_type": "stream",
          "name": "stderr",
          "text": [
            "\r[*********************100%%**********************]  1 of 1 completed\n"
          ]
        },
        {
          "output_type": "execute_result",
          "data": {
            "text/plain": [
              "             Adj Close\n",
              "Date                  \n",
              "2020-01-02  154.493820\n",
              "2020-01-03  152.570129\n",
              "2020-01-06  152.964462\n",
              "2020-01-07  151.569794\n",
              "2020-01-08  153.984039"
            ],
            "text/html": [
              "\n",
              "  <div id=\"df-a32ccb96-92d5-4534-9aa1-1a3d567b6adb\" class=\"colab-df-container\">\n",
              "    <div>\n",
              "<style scoped>\n",
              "    .dataframe tbody tr th:only-of-type {\n",
              "        vertical-align: middle;\n",
              "    }\n",
              "\n",
              "    .dataframe tbody tr th {\n",
              "        vertical-align: top;\n",
              "    }\n",
              "\n",
              "    .dataframe thead th {\n",
              "        text-align: right;\n",
              "    }\n",
              "</style>\n",
              "<table border=\"1\" class=\"dataframe\">\n",
              "  <thead>\n",
              "    <tr style=\"text-align: right;\">\n",
              "      <th></th>\n",
              "      <th>Adj Close</th>\n",
              "    </tr>\n",
              "    <tr>\n",
              "      <th>Date</th>\n",
              "      <th></th>\n",
              "    </tr>\n",
              "  </thead>\n",
              "  <tbody>\n",
              "    <tr>\n",
              "      <th>2020-01-02</th>\n",
              "      <td>154.493820</td>\n",
              "    </tr>\n",
              "    <tr>\n",
              "      <th>2020-01-03</th>\n",
              "      <td>152.570129</td>\n",
              "    </tr>\n",
              "    <tr>\n",
              "      <th>2020-01-06</th>\n",
              "      <td>152.964462</td>\n",
              "    </tr>\n",
              "    <tr>\n",
              "      <th>2020-01-07</th>\n",
              "      <td>151.569794</td>\n",
              "    </tr>\n",
              "    <tr>\n",
              "      <th>2020-01-08</th>\n",
              "      <td>153.984039</td>\n",
              "    </tr>\n",
              "  </tbody>\n",
              "</table>\n",
              "</div>\n",
              "    <div class=\"colab-df-buttons\">\n",
              "\n",
              "  <div class=\"colab-df-container\">\n",
              "    <button class=\"colab-df-convert\" onclick=\"convertToInteractive('df-a32ccb96-92d5-4534-9aa1-1a3d567b6adb')\"\n",
              "            title=\"Convert this dataframe to an interactive table.\"\n",
              "            style=\"display:none;\">\n",
              "\n",
              "  <svg xmlns=\"http://www.w3.org/2000/svg\" height=\"24px\" viewBox=\"0 -960 960 960\">\n",
              "    <path d=\"M120-120v-720h720v720H120Zm60-500h600v-160H180v160Zm220 220h160v-160H400v160Zm0 220h160v-160H400v160ZM180-400h160v-160H180v160Zm440 0h160v-160H620v160ZM180-180h160v-160H180v160Zm440 0h160v-160H620v160Z\"/>\n",
              "  </svg>\n",
              "    </button>\n",
              "\n",
              "  <style>\n",
              "    .colab-df-container {\n",
              "      display:flex;\n",
              "      gap: 12px;\n",
              "    }\n",
              "\n",
              "    .colab-df-convert {\n",
              "      background-color: #E8F0FE;\n",
              "      border: none;\n",
              "      border-radius: 50%;\n",
              "      cursor: pointer;\n",
              "      display: none;\n",
              "      fill: #1967D2;\n",
              "      height: 32px;\n",
              "      padding: 0 0 0 0;\n",
              "      width: 32px;\n",
              "    }\n",
              "\n",
              "    .colab-df-convert:hover {\n",
              "      background-color: #E2EBFA;\n",
              "      box-shadow: 0px 1px 2px rgba(60, 64, 67, 0.3), 0px 1px 3px 1px rgba(60, 64, 67, 0.15);\n",
              "      fill: #174EA6;\n",
              "    }\n",
              "\n",
              "    .colab-df-buttons div {\n",
              "      margin-bottom: 4px;\n",
              "    }\n",
              "\n",
              "    [theme=dark] .colab-df-convert {\n",
              "      background-color: #3B4455;\n",
              "      fill: #D2E3FC;\n",
              "    }\n",
              "\n",
              "    [theme=dark] .colab-df-convert:hover {\n",
              "      background-color: #434B5C;\n",
              "      box-shadow: 0px 1px 3px 1px rgba(0, 0, 0, 0.15);\n",
              "      filter: drop-shadow(0px 1px 2px rgba(0, 0, 0, 0.3));\n",
              "      fill: #FFFFFF;\n",
              "    }\n",
              "  </style>\n",
              "\n",
              "    <script>\n",
              "      const buttonEl =\n",
              "        document.querySelector('#df-a32ccb96-92d5-4534-9aa1-1a3d567b6adb button.colab-df-convert');\n",
              "      buttonEl.style.display =\n",
              "        google.colab.kernel.accessAllowed ? 'block' : 'none';\n",
              "\n",
              "      async function convertToInteractive(key) {\n",
              "        const element = document.querySelector('#df-a32ccb96-92d5-4534-9aa1-1a3d567b6adb');\n",
              "        const dataTable =\n",
              "          await google.colab.kernel.invokeFunction('convertToInteractive',\n",
              "                                                    [key], {});\n",
              "        if (!dataTable) return;\n",
              "\n",
              "        const docLinkHtml = 'Like what you see? Visit the ' +\n",
              "          '<a target=\"_blank\" href=https://colab.research.google.com/notebooks/data_table.ipynb>data table notebook</a>'\n",
              "          + ' to learn more about interactive tables.';\n",
              "        element.innerHTML = '';\n",
              "        dataTable['output_type'] = 'display_data';\n",
              "        await google.colab.output.renderOutput(dataTable, element);\n",
              "        const docLink = document.createElement('div');\n",
              "        docLink.innerHTML = docLinkHtml;\n",
              "        element.appendChild(docLink);\n",
              "      }\n",
              "    </script>\n",
              "  </div>\n",
              "\n",
              "\n",
              "<div id=\"df-70ff22bd-0724-485e-a240-88d2a751fde8\">\n",
              "  <button class=\"colab-df-quickchart\" onclick=\"quickchart('df-70ff22bd-0724-485e-a240-88d2a751fde8')\"\n",
              "            title=\"Suggest charts\"\n",
              "            style=\"display:none;\">\n",
              "\n",
              "<svg xmlns=\"http://www.w3.org/2000/svg\" height=\"24px\"viewBox=\"0 0 24 24\"\n",
              "     width=\"24px\">\n",
              "    <g>\n",
              "        <path d=\"M19 3H5c-1.1 0-2 .9-2 2v14c0 1.1.9 2 2 2h14c1.1 0 2-.9 2-2V5c0-1.1-.9-2-2-2zM9 17H7v-7h2v7zm4 0h-2V7h2v10zm4 0h-2v-4h2v4z\"/>\n",
              "    </g>\n",
              "</svg>\n",
              "  </button>\n",
              "\n",
              "<style>\n",
              "  .colab-df-quickchart {\n",
              "      --bg-color: #E8F0FE;\n",
              "      --fill-color: #1967D2;\n",
              "      --hover-bg-color: #E2EBFA;\n",
              "      --hover-fill-color: #174EA6;\n",
              "      --disabled-fill-color: #AAA;\n",
              "      --disabled-bg-color: #DDD;\n",
              "  }\n",
              "\n",
              "  [theme=dark] .colab-df-quickchart {\n",
              "      --bg-color: #3B4455;\n",
              "      --fill-color: #D2E3FC;\n",
              "      --hover-bg-color: #434B5C;\n",
              "      --hover-fill-color: #FFFFFF;\n",
              "      --disabled-bg-color: #3B4455;\n",
              "      --disabled-fill-color: #666;\n",
              "  }\n",
              "\n",
              "  .colab-df-quickchart {\n",
              "    background-color: var(--bg-color);\n",
              "    border: none;\n",
              "    border-radius: 50%;\n",
              "    cursor: pointer;\n",
              "    display: none;\n",
              "    fill: var(--fill-color);\n",
              "    height: 32px;\n",
              "    padding: 0;\n",
              "    width: 32px;\n",
              "  }\n",
              "\n",
              "  .colab-df-quickchart:hover {\n",
              "    background-color: var(--hover-bg-color);\n",
              "    box-shadow: 0 1px 2px rgba(60, 64, 67, 0.3), 0 1px 3px 1px rgba(60, 64, 67, 0.15);\n",
              "    fill: var(--button-hover-fill-color);\n",
              "  }\n",
              "\n",
              "  .colab-df-quickchart-complete:disabled,\n",
              "  .colab-df-quickchart-complete:disabled:hover {\n",
              "    background-color: var(--disabled-bg-color);\n",
              "    fill: var(--disabled-fill-color);\n",
              "    box-shadow: none;\n",
              "  }\n",
              "\n",
              "  .colab-df-spinner {\n",
              "    border: 2px solid var(--fill-color);\n",
              "    border-color: transparent;\n",
              "    border-bottom-color: var(--fill-color);\n",
              "    animation:\n",
              "      spin 1s steps(1) infinite;\n",
              "  }\n",
              "\n",
              "  @keyframes spin {\n",
              "    0% {\n",
              "      border-color: transparent;\n",
              "      border-bottom-color: var(--fill-color);\n",
              "      border-left-color: var(--fill-color);\n",
              "    }\n",
              "    20% {\n",
              "      border-color: transparent;\n",
              "      border-left-color: var(--fill-color);\n",
              "      border-top-color: var(--fill-color);\n",
              "    }\n",
              "    30% {\n",
              "      border-color: transparent;\n",
              "      border-left-color: var(--fill-color);\n",
              "      border-top-color: var(--fill-color);\n",
              "      border-right-color: var(--fill-color);\n",
              "    }\n",
              "    40% {\n",
              "      border-color: transparent;\n",
              "      border-right-color: var(--fill-color);\n",
              "      border-top-color: var(--fill-color);\n",
              "    }\n",
              "    60% {\n",
              "      border-color: transparent;\n",
              "      border-right-color: var(--fill-color);\n",
              "    }\n",
              "    80% {\n",
              "      border-color: transparent;\n",
              "      border-right-color: var(--fill-color);\n",
              "      border-bottom-color: var(--fill-color);\n",
              "    }\n",
              "    90% {\n",
              "      border-color: transparent;\n",
              "      border-bottom-color: var(--fill-color);\n",
              "    }\n",
              "  }\n",
              "</style>\n",
              "\n",
              "  <script>\n",
              "    async function quickchart(key) {\n",
              "      const quickchartButtonEl =\n",
              "        document.querySelector('#' + key + ' button');\n",
              "      quickchartButtonEl.disabled = true;  // To prevent multiple clicks.\n",
              "      quickchartButtonEl.classList.add('colab-df-spinner');\n",
              "      try {\n",
              "        const charts = await google.colab.kernel.invokeFunction(\n",
              "            'suggestCharts', [key], {});\n",
              "      } catch (error) {\n",
              "        console.error('Error during call to suggestCharts:', error);\n",
              "      }\n",
              "      quickchartButtonEl.classList.remove('colab-df-spinner');\n",
              "      quickchartButtonEl.classList.add('colab-df-quickchart-complete');\n",
              "    }\n",
              "    (() => {\n",
              "      let quickchartButtonEl =\n",
              "        document.querySelector('#df-70ff22bd-0724-485e-a240-88d2a751fde8 button');\n",
              "      quickchartButtonEl.style.display =\n",
              "        google.colab.kernel.accessAllowed ? 'block' : 'none';\n",
              "    })();\n",
              "  </script>\n",
              "</div>\n",
              "\n",
              "    </div>\n",
              "  </div>\n"
            ],
            "application/vnd.google.colaboratory.intrinsic+json": {
              "type": "dataframe",
              "variable_name": "msft_df",
              "summary": "{\n  \"name\": \"msft_df\",\n  \"rows\": 1050,\n  \"fields\": [\n    {\n      \"column\": \"Date\",\n      \"properties\": {\n        \"dtype\": \"date\",\n        \"min\": \"2020-01-02 00:00:00\",\n        \"max\": \"2024-03-05 00:00:00\",\n        \"num_unique_values\": 1050,\n        \"samples\": [\n          \"2021-05-26 00:00:00\",\n          \"2022-09-27 00:00:00\",\n          \"2021-12-03 00:00:00\"\n        ],\n        \"semantic_type\": \"\",\n        \"description\": \"\"\n      }\n    },\n    {\n      \"column\": \"Adj Close\",\n      \"properties\": {\n        \"dtype\": \"number\",\n        \"std\": 61.4584714475899,\n        \"min\": 130.61074829101562,\n        \"max\": 419.7737121582031,\n        \"num_unique_values\": 1043,\n        \"samples\": [\n          410.3399963378906,\n          236.88829040527344,\n          282.8116149902344\n        ],\n        \"semantic_type\": \"\",\n        \"description\": \"\"\n      }\n    }\n  ]\n}"
            }
          },
          "metadata": {},
          "execution_count": 23
        }
      ],
      "source": [
        "msft_df = download_stock_prices('MSFT', '2020-01-01')\n",
        "msft_df.head()"
      ]
    },
    {
      "cell_type": "code",
      "source": [
        "fig = px.line(msft_df, y='Adj Close', title='MSFT Adjusted Close Price')\n",
        "\n",
        "fig.update_xaxes(title_text='Date')\n",
        "fig.update_yaxes(title_text='Adjusted Close Price ($)')\n",
        "fig.update_traces(line=dict(color=\"#00274C\"))\n",
        "\n",
        "fig.show()"
      ],
      "metadata": {
        "colab": {
          "base_uri": "https://localhost:8080/",
          "height": 0
        },
        "id": "DUGYKfp5syqS",
        "outputId": "93a69b28-f4b6-4e69-8e46-74f47ed80309"
      },
      "execution_count": 24,
      "outputs": [
        {
          "output_type": "display_data",
          "data": {
            "text/html": [
              "<html>\n",
              "<head><meta charset=\"utf-8\" /></head>\n",
              "<body>\n",
              "    <div>            <script src=\"https://cdnjs.cloudflare.com/ajax/libs/mathjax/2.7.5/MathJax.js?config=TeX-AMS-MML_SVG\"></script><script type=\"text/javascript\">if (window.MathJax && window.MathJax.Hub && window.MathJax.Hub.Config) {window.MathJax.Hub.Config({SVG: {font: \"STIX-Web\"}});}</script>                <script type=\"text/javascript\">window.PlotlyConfig = {MathJaxConfig: 'local'};</script>\n",
              "        <script charset=\"utf-8\" src=\"https://cdn.plot.ly/plotly-2.24.1.min.js\"></script>                <div id=\"d08871c8-9458-466a-b951-4c4a4d0bc32a\" class=\"plotly-graph-div\" style=\"height:525px; width:100%;\"></div>            <script type=\"text/javascript\">                                    window.PLOTLYENV=window.PLOTLYENV || {};                                    if (document.getElementById(\"d08871c8-9458-466a-b951-4c4a4d0bc32a\")) {                    Plotly.newPlot(                        \"d08871c8-9458-466a-b951-4c4a4d0bc32a\",                        [{\"hovertemplate\":\"Date=%{x}\\u003cbr\\u003eAdj Close=%{y}\\u003cextra\\u003e\\u003c\\u002fextra\\u003e\",\"legendgroup\":\"\",\"line\":{\"color\":\"#00274C\",\"dash\":\"solid\"},\"marker\":{\"symbol\":\"circle\"},\"mode\":\"lines\",\"name\":\"\",\"showlegend\":false,\"x\":[\"2020-01-02T00:00:00\",\"2020-01-03T00:00:00\",\"2020-01-06T00:00:00\",\"2020-01-07T00:00:00\",\"2020-01-08T00:00:00\",\"2020-01-09T00:00:00\",\"2020-01-10T00:00:00\",\"2020-01-13T00:00:00\",\"2020-01-14T00:00:00\",\"2020-01-15T00:00:00\",\"2020-01-16T00:00:00\",\"2020-01-17T00:00:00\",\"2020-01-21T00:00:00\",\"2020-01-22T00:00:00\",\"2020-01-23T00:00:00\",\"2020-01-24T00:00:00\",\"2020-01-27T00:00:00\",\"2020-01-28T00:00:00\",\"2020-01-29T00:00:00\",\"2020-01-30T00:00:00\",\"2020-01-31T00:00:00\",\"2020-02-03T00:00:00\",\"2020-02-04T00:00:00\",\"2020-02-05T00:00:00\",\"2020-02-06T00:00:00\",\"2020-02-07T00:00:00\",\"2020-02-10T00:00:00\",\"2020-02-11T00:00:00\",\"2020-02-12T00:00:00\",\"2020-02-13T00:00:00\",\"2020-02-14T00:00:00\",\"2020-02-18T00:00:00\",\"2020-02-19T00:00:00\",\"2020-02-20T00:00:00\",\"2020-02-21T00:00:00\",\"2020-02-24T00:00:00\",\"2020-02-25T00:00:00\",\"2020-02-26T00:00:00\",\"2020-02-27T00:00:00\",\"2020-02-28T00:00:00\",\"2020-03-02T00:00:00\",\"2020-03-03T00:00:00\",\"2020-03-04T00:00:00\",\"2020-03-05T00:00:00\",\"2020-03-06T00:00:00\",\"2020-03-09T00:00:00\",\"2020-03-10T00:00:00\",\"2020-03-11T00:00:00\",\"2020-03-12T00:00:00\",\"2020-03-13T00:00:00\",\"2020-03-16T00:00:00\",\"2020-03-17T00:00:00\",\"2020-03-18T00:00:00\",\"2020-03-19T00:00:00\",\"2020-03-20T00:00:00\",\"2020-03-23T00:00:00\",\"2020-03-24T00:00:00\",\"2020-03-25T00:00:00\",\"2020-03-26T00:00:00\",\"2020-03-27T00:00:00\",\"2020-03-30T00:00:00\",\"2020-03-31T00:00:00\",\"2020-04-01T00:00:00\",\"2020-04-02T00:00:00\",\"2020-04-03T00:00:00\",\"2020-04-06T00:00:00\",\"2020-04-07T00:00:00\",\"2020-04-08T00:00:00\",\"2020-04-09T00:00:00\",\"2020-04-13T00:00:00\",\"2020-04-14T00:00:00\",\"2020-04-15T00:00:00\",\"2020-04-16T00:00:00\",\"2020-04-17T00:00:00\",\"2020-04-20T00:00:00\",\"2020-04-21T00:00:00\",\"2020-04-22T00:00:00\",\"2020-04-23T00:00:00\",\"2020-04-24T00:00:00\",\"2020-04-27T00:00:00\",\"2020-04-28T00:00:00\",\"2020-04-29T00:00:00\",\"2020-04-30T00:00:00\",\"2020-05-01T00:00:00\",\"2020-05-04T00:00:00\",\"2020-05-05T00:00:00\",\"2020-05-06T00:00:00\",\"2020-05-07T00:00:00\",\"2020-05-08T00:00:00\",\"2020-05-11T00:00:00\",\"2020-05-12T00:00:00\",\"2020-05-13T00:00:00\",\"2020-05-14T00:00:00\",\"2020-05-15T00:00:00\",\"2020-05-18T00:00:00\",\"2020-05-19T00:00:00\",\"2020-05-20T00:00:00\",\"2020-05-21T00:00:00\",\"2020-05-22T00:00:00\",\"2020-05-26T00:00:00\",\"2020-05-27T00:00:00\",\"2020-05-28T00:00:00\",\"2020-05-29T00:00:00\",\"2020-06-01T00:00:00\",\"2020-06-02T00:00:00\",\"2020-06-03T00:00:00\",\"2020-06-04T00:00:00\",\"2020-06-05T00:00:00\",\"2020-06-08T00:00:00\",\"2020-06-09T00:00:00\",\"2020-06-10T00:00:00\",\"2020-06-11T00:00:00\",\"2020-06-12T00:00:00\",\"2020-06-15T00:00:00\",\"2020-06-16T00:00:00\",\"2020-06-17T00:00:00\",\"2020-06-18T00:00:00\",\"2020-06-19T00:00:00\",\"2020-06-22T00:00:00\",\"2020-06-23T00:00:00\",\"2020-06-24T00:00:00\",\"2020-06-25T00:00:00\",\"2020-06-26T00:00:00\",\"2020-06-29T00:00:00\",\"2020-06-30T00:00:00\",\"2020-07-01T00:00:00\",\"2020-07-02T00:00:00\",\"2020-07-06T00:00:00\",\"2020-07-07T00:00:00\",\"2020-07-08T00:00:00\",\"2020-07-09T00:00:00\",\"2020-07-10T00:00:00\",\"2020-07-13T00:00:00\",\"2020-07-14T00:00:00\",\"2020-07-15T00:00:00\",\"2020-07-16T00:00:00\",\"2020-07-17T00:00:00\",\"2020-07-20T00:00:00\",\"2020-07-21T00:00:00\",\"2020-07-22T00:00:00\",\"2020-07-23T00:00:00\",\"2020-07-24T00:00:00\",\"2020-07-27T00:00:00\",\"2020-07-28T00:00:00\",\"2020-07-29T00:00:00\",\"2020-07-30T00:00:00\",\"2020-07-31T00:00:00\",\"2020-08-03T00:00:00\",\"2020-08-04T00:00:00\",\"2020-08-05T00:00:00\",\"2020-08-06T00:00:00\",\"2020-08-07T00:00:00\",\"2020-08-10T00:00:00\",\"2020-08-11T00:00:00\",\"2020-08-12T00:00:00\",\"2020-08-13T00:00:00\",\"2020-08-14T00:00:00\",\"2020-08-17T00:00:00\",\"2020-08-18T00:00:00\",\"2020-08-19T00:00:00\",\"2020-08-20T00:00:00\",\"2020-08-21T00:00:00\",\"2020-08-24T00:00:00\",\"2020-08-25T00:00:00\",\"2020-08-26T00:00:00\",\"2020-08-27T00:00:00\",\"2020-08-28T00:00:00\",\"2020-08-31T00:00:00\",\"2020-09-01T00:00:00\",\"2020-09-02T00:00:00\",\"2020-09-03T00:00:00\",\"2020-09-04T00:00:00\",\"2020-09-08T00:00:00\",\"2020-09-09T00:00:00\",\"2020-09-10T00:00:00\",\"2020-09-11T00:00:00\",\"2020-09-14T00:00:00\",\"2020-09-15T00:00:00\",\"2020-09-16T00:00:00\",\"2020-09-17T00:00:00\",\"2020-09-18T00:00:00\",\"2020-09-21T00:00:00\",\"2020-09-22T00:00:00\",\"2020-09-23T00:00:00\",\"2020-09-24T00:00:00\",\"2020-09-25T00:00:00\",\"2020-09-28T00:00:00\",\"2020-09-29T00:00:00\",\"2020-09-30T00:00:00\",\"2020-10-01T00:00:00\",\"2020-10-02T00:00:00\",\"2020-10-05T00:00:00\",\"2020-10-06T00:00:00\",\"2020-10-07T00:00:00\",\"2020-10-08T00:00:00\",\"2020-10-09T00:00:00\",\"2020-10-12T00:00:00\",\"2020-10-13T00:00:00\",\"2020-10-14T00:00:00\",\"2020-10-15T00:00:00\",\"2020-10-16T00:00:00\",\"2020-10-19T00:00:00\",\"2020-10-20T00:00:00\",\"2020-10-21T00:00:00\",\"2020-10-22T00:00:00\",\"2020-10-23T00:00:00\",\"2020-10-26T00:00:00\",\"2020-10-27T00:00:00\",\"2020-10-28T00:00:00\",\"2020-10-29T00:00:00\",\"2020-10-30T00:00:00\",\"2020-11-02T00:00:00\",\"2020-11-03T00:00:00\",\"2020-11-04T00:00:00\",\"2020-11-05T00:00:00\",\"2020-11-06T00:00:00\",\"2020-11-09T00:00:00\",\"2020-11-10T00:00:00\",\"2020-11-11T00:00:00\",\"2020-11-12T00:00:00\",\"2020-11-13T00:00:00\",\"2020-11-16T00:00:00\",\"2020-11-17T00:00:00\",\"2020-11-18T00:00:00\",\"2020-11-19T00:00:00\",\"2020-11-20T00:00:00\",\"2020-11-23T00:00:00\",\"2020-11-24T00:00:00\",\"2020-11-25T00:00:00\",\"2020-11-27T00:00:00\",\"2020-11-30T00:00:00\",\"2020-12-01T00:00:00\",\"2020-12-02T00:00:00\",\"2020-12-03T00:00:00\",\"2020-12-04T00:00:00\",\"2020-12-07T00:00:00\",\"2020-12-08T00:00:00\",\"2020-12-09T00:00:00\",\"2020-12-10T00:00:00\",\"2020-12-11T00:00:00\",\"2020-12-14T00:00:00\",\"2020-12-15T00:00:00\",\"2020-12-16T00:00:00\",\"2020-12-17T00:00:00\",\"2020-12-18T00:00:00\",\"2020-12-21T00:00:00\",\"2020-12-22T00:00:00\",\"2020-12-23T00:00:00\",\"2020-12-24T00:00:00\",\"2020-12-28T00:00:00\",\"2020-12-29T00:00:00\",\"2020-12-30T00:00:00\",\"2020-12-31T00:00:00\",\"2021-01-04T00:00:00\",\"2021-01-05T00:00:00\",\"2021-01-06T00:00:00\",\"2021-01-07T00:00:00\",\"2021-01-08T00:00:00\",\"2021-01-11T00:00:00\",\"2021-01-12T00:00:00\",\"2021-01-13T00:00:00\",\"2021-01-14T00:00:00\",\"2021-01-15T00:00:00\",\"2021-01-19T00:00:00\",\"2021-01-20T00:00:00\",\"2021-01-21T00:00:00\",\"2021-01-22T00:00:00\",\"2021-01-25T00:00:00\",\"2021-01-26T00:00:00\",\"2021-01-27T00:00:00\",\"2021-01-28T00:00:00\",\"2021-01-29T00:00:00\",\"2021-02-01T00:00:00\",\"2021-02-02T00:00:00\",\"2021-02-03T00:00:00\",\"2021-02-04T00:00:00\",\"2021-02-05T00:00:00\",\"2021-02-08T00:00:00\",\"2021-02-09T00:00:00\",\"2021-02-10T00:00:00\",\"2021-02-11T00:00:00\",\"2021-02-12T00:00:00\",\"2021-02-16T00:00:00\",\"2021-02-17T00:00:00\",\"2021-02-18T00:00:00\",\"2021-02-19T00:00:00\",\"2021-02-22T00:00:00\",\"2021-02-23T00:00:00\",\"2021-02-24T00:00:00\",\"2021-02-25T00:00:00\",\"2021-02-26T00:00:00\",\"2021-03-01T00:00:00\",\"2021-03-02T00:00:00\",\"2021-03-03T00:00:00\",\"2021-03-04T00:00:00\",\"2021-03-05T00:00:00\",\"2021-03-08T00:00:00\",\"2021-03-09T00:00:00\",\"2021-03-10T00:00:00\",\"2021-03-11T00:00:00\",\"2021-03-12T00:00:00\",\"2021-03-15T00:00:00\",\"2021-03-16T00:00:00\",\"2021-03-17T00:00:00\",\"2021-03-18T00:00:00\",\"2021-03-19T00:00:00\",\"2021-03-22T00:00:00\",\"2021-03-23T00:00:00\",\"2021-03-24T00:00:00\",\"2021-03-25T00:00:00\",\"2021-03-26T00:00:00\",\"2021-03-29T00:00:00\",\"2021-03-30T00:00:00\",\"2021-03-31T00:00:00\",\"2021-04-01T00:00:00\",\"2021-04-05T00:00:00\",\"2021-04-06T00:00:00\",\"2021-04-07T00:00:00\",\"2021-04-08T00:00:00\",\"2021-04-09T00:00:00\",\"2021-04-12T00:00:00\",\"2021-04-13T00:00:00\",\"2021-04-14T00:00:00\",\"2021-04-15T00:00:00\",\"2021-04-16T00:00:00\",\"2021-04-19T00:00:00\",\"2021-04-20T00:00:00\",\"2021-04-21T00:00:00\",\"2021-04-22T00:00:00\",\"2021-04-23T00:00:00\",\"2021-04-26T00:00:00\",\"2021-04-27T00:00:00\",\"2021-04-28T00:00:00\",\"2021-04-29T00:00:00\",\"2021-04-30T00:00:00\",\"2021-05-03T00:00:00\",\"2021-05-04T00:00:00\",\"2021-05-05T00:00:00\",\"2021-05-06T00:00:00\",\"2021-05-07T00:00:00\",\"2021-05-10T00:00:00\",\"2021-05-11T00:00:00\",\"2021-05-12T00:00:00\",\"2021-05-13T00:00:00\",\"2021-05-14T00:00:00\",\"2021-05-17T00:00:00\",\"2021-05-18T00:00:00\",\"2021-05-19T00:00:00\",\"2021-05-20T00:00:00\",\"2021-05-21T00:00:00\",\"2021-05-24T00:00:00\",\"2021-05-25T00:00:00\",\"2021-05-26T00:00:00\",\"2021-05-27T00:00:00\",\"2021-05-28T00:00:00\",\"2021-06-01T00:00:00\",\"2021-06-02T00:00:00\",\"2021-06-03T00:00:00\",\"2021-06-04T00:00:00\",\"2021-06-07T00:00:00\",\"2021-06-08T00:00:00\",\"2021-06-09T00:00:00\",\"2021-06-10T00:00:00\",\"2021-06-11T00:00:00\",\"2021-06-14T00:00:00\",\"2021-06-15T00:00:00\",\"2021-06-16T00:00:00\",\"2021-06-17T00:00:00\",\"2021-06-18T00:00:00\",\"2021-06-21T00:00:00\",\"2021-06-22T00:00:00\",\"2021-06-23T00:00:00\",\"2021-06-24T00:00:00\",\"2021-06-25T00:00:00\",\"2021-06-28T00:00:00\",\"2021-06-29T00:00:00\",\"2021-06-30T00:00:00\",\"2021-07-01T00:00:00\",\"2021-07-02T00:00:00\",\"2021-07-06T00:00:00\",\"2021-07-07T00:00:00\",\"2021-07-08T00:00:00\",\"2021-07-09T00:00:00\",\"2021-07-12T00:00:00\",\"2021-07-13T00:00:00\",\"2021-07-14T00:00:00\",\"2021-07-15T00:00:00\",\"2021-07-16T00:00:00\",\"2021-07-19T00:00:00\",\"2021-07-20T00:00:00\",\"2021-07-21T00:00:00\",\"2021-07-22T00:00:00\",\"2021-07-23T00:00:00\",\"2021-07-26T00:00:00\",\"2021-07-27T00:00:00\",\"2021-07-28T00:00:00\",\"2021-07-29T00:00:00\",\"2021-07-30T00:00:00\",\"2021-08-02T00:00:00\",\"2021-08-03T00:00:00\",\"2021-08-04T00:00:00\",\"2021-08-05T00:00:00\",\"2021-08-06T00:00:00\",\"2021-08-09T00:00:00\",\"2021-08-10T00:00:00\",\"2021-08-11T00:00:00\",\"2021-08-12T00:00:00\",\"2021-08-13T00:00:00\",\"2021-08-16T00:00:00\",\"2021-08-17T00:00:00\",\"2021-08-18T00:00:00\",\"2021-08-19T00:00:00\",\"2021-08-20T00:00:00\",\"2021-08-23T00:00:00\",\"2021-08-24T00:00:00\",\"2021-08-25T00:00:00\",\"2021-08-26T00:00:00\",\"2021-08-27T00:00:00\",\"2021-08-30T00:00:00\",\"2021-08-31T00:00:00\",\"2021-09-01T00:00:00\",\"2021-09-02T00:00:00\",\"2021-09-03T00:00:00\",\"2021-09-07T00:00:00\",\"2021-09-08T00:00:00\",\"2021-09-09T00:00:00\",\"2021-09-10T00:00:00\",\"2021-09-13T00:00:00\",\"2021-09-14T00:00:00\",\"2021-09-15T00:00:00\",\"2021-09-16T00:00:00\",\"2021-09-17T00:00:00\",\"2021-09-20T00:00:00\",\"2021-09-21T00:00:00\",\"2021-09-22T00:00:00\",\"2021-09-23T00:00:00\",\"2021-09-24T00:00:00\",\"2021-09-27T00:00:00\",\"2021-09-28T00:00:00\",\"2021-09-29T00:00:00\",\"2021-09-30T00:00:00\",\"2021-10-01T00:00:00\",\"2021-10-04T00:00:00\",\"2021-10-05T00:00:00\",\"2021-10-06T00:00:00\",\"2021-10-07T00:00:00\",\"2021-10-08T00:00:00\",\"2021-10-11T00:00:00\",\"2021-10-12T00:00:00\",\"2021-10-13T00:00:00\",\"2021-10-14T00:00:00\",\"2021-10-15T00:00:00\",\"2021-10-18T00:00:00\",\"2021-10-19T00:00:00\",\"2021-10-20T00:00:00\",\"2021-10-21T00:00:00\",\"2021-10-22T00:00:00\",\"2021-10-25T00:00:00\",\"2021-10-26T00:00:00\",\"2021-10-27T00:00:00\",\"2021-10-28T00:00:00\",\"2021-10-29T00:00:00\",\"2021-11-01T00:00:00\",\"2021-11-02T00:00:00\",\"2021-11-03T00:00:00\",\"2021-11-04T00:00:00\",\"2021-11-05T00:00:00\",\"2021-11-08T00:00:00\",\"2021-11-09T00:00:00\",\"2021-11-10T00:00:00\",\"2021-11-11T00:00:00\",\"2021-11-12T00:00:00\",\"2021-11-15T00:00:00\",\"2021-11-16T00:00:00\",\"2021-11-17T00:00:00\",\"2021-11-18T00:00:00\",\"2021-11-19T00:00:00\",\"2021-11-22T00:00:00\",\"2021-11-23T00:00:00\",\"2021-11-24T00:00:00\",\"2021-11-26T00:00:00\",\"2021-11-29T00:00:00\",\"2021-11-30T00:00:00\",\"2021-12-01T00:00:00\",\"2021-12-02T00:00:00\",\"2021-12-03T00:00:00\",\"2021-12-06T00:00:00\",\"2021-12-07T00:00:00\",\"2021-12-08T00:00:00\",\"2021-12-09T00:00:00\",\"2021-12-10T00:00:00\",\"2021-12-13T00:00:00\",\"2021-12-14T00:00:00\",\"2021-12-15T00:00:00\",\"2021-12-16T00:00:00\",\"2021-12-17T00:00:00\",\"2021-12-20T00:00:00\",\"2021-12-21T00:00:00\",\"2021-12-22T00:00:00\",\"2021-12-23T00:00:00\",\"2021-12-27T00:00:00\",\"2021-12-28T00:00:00\",\"2021-12-29T00:00:00\",\"2021-12-30T00:00:00\",\"2021-12-31T00:00:00\",\"2022-01-03T00:00:00\",\"2022-01-04T00:00:00\",\"2022-01-05T00:00:00\",\"2022-01-06T00:00:00\",\"2022-01-07T00:00:00\",\"2022-01-10T00:00:00\",\"2022-01-11T00:00:00\",\"2022-01-12T00:00:00\",\"2022-01-13T00:00:00\",\"2022-01-14T00:00:00\",\"2022-01-18T00:00:00\",\"2022-01-19T00:00:00\",\"2022-01-20T00:00:00\",\"2022-01-21T00:00:00\",\"2022-01-24T00:00:00\",\"2022-01-25T00:00:00\",\"2022-01-26T00:00:00\",\"2022-01-27T00:00:00\",\"2022-01-28T00:00:00\",\"2022-01-31T00:00:00\",\"2022-02-01T00:00:00\",\"2022-02-02T00:00:00\",\"2022-02-03T00:00:00\",\"2022-02-04T00:00:00\",\"2022-02-07T00:00:00\",\"2022-02-08T00:00:00\",\"2022-02-09T00:00:00\",\"2022-02-10T00:00:00\",\"2022-02-11T00:00:00\",\"2022-02-14T00:00:00\",\"2022-02-15T00:00:00\",\"2022-02-16T00:00:00\",\"2022-02-17T00:00:00\",\"2022-02-18T00:00:00\",\"2022-02-22T00:00:00\",\"2022-02-23T00:00:00\",\"2022-02-24T00:00:00\",\"2022-02-25T00:00:00\",\"2022-02-28T00:00:00\",\"2022-03-01T00:00:00\",\"2022-03-02T00:00:00\",\"2022-03-03T00:00:00\",\"2022-03-04T00:00:00\",\"2022-03-07T00:00:00\",\"2022-03-08T00:00:00\",\"2022-03-09T00:00:00\",\"2022-03-10T00:00:00\",\"2022-03-11T00:00:00\",\"2022-03-14T00:00:00\",\"2022-03-15T00:00:00\",\"2022-03-16T00:00:00\",\"2022-03-17T00:00:00\",\"2022-03-18T00:00:00\",\"2022-03-21T00:00:00\",\"2022-03-22T00:00:00\",\"2022-03-23T00:00:00\",\"2022-03-24T00:00:00\",\"2022-03-25T00:00:00\",\"2022-03-28T00:00:00\",\"2022-03-29T00:00:00\",\"2022-03-30T00:00:00\",\"2022-03-31T00:00:00\",\"2022-04-01T00:00:00\",\"2022-04-04T00:00:00\",\"2022-04-05T00:00:00\",\"2022-04-06T00:00:00\",\"2022-04-07T00:00:00\",\"2022-04-08T00:00:00\",\"2022-04-11T00:00:00\",\"2022-04-12T00:00:00\",\"2022-04-13T00:00:00\",\"2022-04-14T00:00:00\",\"2022-04-18T00:00:00\",\"2022-04-19T00:00:00\",\"2022-04-20T00:00:00\",\"2022-04-21T00:00:00\",\"2022-04-22T00:00:00\",\"2022-04-25T00:00:00\",\"2022-04-26T00:00:00\",\"2022-04-27T00:00:00\",\"2022-04-28T00:00:00\",\"2022-04-29T00:00:00\",\"2022-05-02T00:00:00\",\"2022-05-03T00:00:00\",\"2022-05-04T00:00:00\",\"2022-05-05T00:00:00\",\"2022-05-06T00:00:00\",\"2022-05-09T00:00:00\",\"2022-05-10T00:00:00\",\"2022-05-11T00:00:00\",\"2022-05-12T00:00:00\",\"2022-05-13T00:00:00\",\"2022-05-16T00:00:00\",\"2022-05-17T00:00:00\",\"2022-05-18T00:00:00\",\"2022-05-19T00:00:00\",\"2022-05-20T00:00:00\",\"2022-05-23T00:00:00\",\"2022-05-24T00:00:00\",\"2022-05-25T00:00:00\",\"2022-05-26T00:00:00\",\"2022-05-27T00:00:00\",\"2022-05-31T00:00:00\",\"2022-06-01T00:00:00\",\"2022-06-02T00:00:00\",\"2022-06-03T00:00:00\",\"2022-06-06T00:00:00\",\"2022-06-07T00:00:00\",\"2022-06-08T00:00:00\",\"2022-06-09T00:00:00\",\"2022-06-10T00:00:00\",\"2022-06-13T00:00:00\",\"2022-06-14T00:00:00\",\"2022-06-15T00:00:00\",\"2022-06-16T00:00:00\",\"2022-06-17T00:00:00\",\"2022-06-21T00:00:00\",\"2022-06-22T00:00:00\",\"2022-06-23T00:00:00\",\"2022-06-24T00:00:00\",\"2022-06-27T00:00:00\",\"2022-06-28T00:00:00\",\"2022-06-29T00:00:00\",\"2022-06-30T00:00:00\",\"2022-07-01T00:00:00\",\"2022-07-05T00:00:00\",\"2022-07-06T00:00:00\",\"2022-07-07T00:00:00\",\"2022-07-08T00:00:00\",\"2022-07-11T00:00:00\",\"2022-07-12T00:00:00\",\"2022-07-13T00:00:00\",\"2022-07-14T00:00:00\",\"2022-07-15T00:00:00\",\"2022-07-18T00:00:00\",\"2022-07-19T00:00:00\",\"2022-07-20T00:00:00\",\"2022-07-21T00:00:00\",\"2022-07-22T00:00:00\",\"2022-07-25T00:00:00\",\"2022-07-26T00:00:00\",\"2022-07-27T00:00:00\",\"2022-07-28T00:00:00\",\"2022-07-29T00:00:00\",\"2022-08-01T00:00:00\",\"2022-08-02T00:00:00\",\"2022-08-03T00:00:00\",\"2022-08-04T00:00:00\",\"2022-08-05T00:00:00\",\"2022-08-08T00:00:00\",\"2022-08-09T00:00:00\",\"2022-08-10T00:00:00\",\"2022-08-11T00:00:00\",\"2022-08-12T00:00:00\",\"2022-08-15T00:00:00\",\"2022-08-16T00:00:00\",\"2022-08-17T00:00:00\",\"2022-08-18T00:00:00\",\"2022-08-19T00:00:00\",\"2022-08-22T00:00:00\",\"2022-08-23T00:00:00\",\"2022-08-24T00:00:00\",\"2022-08-25T00:00:00\",\"2022-08-26T00:00:00\",\"2022-08-29T00:00:00\",\"2022-08-30T00:00:00\",\"2022-08-31T00:00:00\",\"2022-09-01T00:00:00\",\"2022-09-02T00:00:00\",\"2022-09-06T00:00:00\",\"2022-09-07T00:00:00\",\"2022-09-08T00:00:00\",\"2022-09-09T00:00:00\",\"2022-09-12T00:00:00\",\"2022-09-13T00:00:00\",\"2022-09-14T00:00:00\",\"2022-09-15T00:00:00\",\"2022-09-16T00:00:00\",\"2022-09-19T00:00:00\",\"2022-09-20T00:00:00\",\"2022-09-21T00:00:00\",\"2022-09-22T00:00:00\",\"2022-09-23T00:00:00\",\"2022-09-26T00:00:00\",\"2022-09-27T00:00:00\",\"2022-09-28T00:00:00\",\"2022-09-29T00:00:00\",\"2022-09-30T00:00:00\",\"2022-10-03T00:00:00\",\"2022-10-04T00:00:00\",\"2022-10-05T00:00:00\",\"2022-10-06T00:00:00\",\"2022-10-07T00:00:00\",\"2022-10-10T00:00:00\",\"2022-10-11T00:00:00\",\"2022-10-12T00:00:00\",\"2022-10-13T00:00:00\",\"2022-10-14T00:00:00\",\"2022-10-17T00:00:00\",\"2022-10-18T00:00:00\",\"2022-10-19T00:00:00\",\"2022-10-20T00:00:00\",\"2022-10-21T00:00:00\",\"2022-10-24T00:00:00\",\"2022-10-25T00:00:00\",\"2022-10-26T00:00:00\",\"2022-10-27T00:00:00\",\"2022-10-28T00:00:00\",\"2022-10-31T00:00:00\",\"2022-11-01T00:00:00\",\"2022-11-02T00:00:00\",\"2022-11-03T00:00:00\",\"2022-11-04T00:00:00\",\"2022-11-07T00:00:00\",\"2022-11-08T00:00:00\",\"2022-11-09T00:00:00\",\"2022-11-10T00:00:00\",\"2022-11-11T00:00:00\",\"2022-11-14T00:00:00\",\"2022-11-15T00:00:00\",\"2022-11-16T00:00:00\",\"2022-11-17T00:00:00\",\"2022-11-18T00:00:00\",\"2022-11-21T00:00:00\",\"2022-11-22T00:00:00\",\"2022-11-23T00:00:00\",\"2022-11-25T00:00:00\",\"2022-11-28T00:00:00\",\"2022-11-29T00:00:00\",\"2022-11-30T00:00:00\",\"2022-12-01T00:00:00\",\"2022-12-02T00:00:00\",\"2022-12-05T00:00:00\",\"2022-12-06T00:00:00\",\"2022-12-07T00:00:00\",\"2022-12-08T00:00:00\",\"2022-12-09T00:00:00\",\"2022-12-12T00:00:00\",\"2022-12-13T00:00:00\",\"2022-12-14T00:00:00\",\"2022-12-15T00:00:00\",\"2022-12-16T00:00:00\",\"2022-12-19T00:00:00\",\"2022-12-20T00:00:00\",\"2022-12-21T00:00:00\",\"2022-12-22T00:00:00\",\"2022-12-23T00:00:00\",\"2022-12-27T00:00:00\",\"2022-12-28T00:00:00\",\"2022-12-29T00:00:00\",\"2022-12-30T00:00:00\",\"2023-01-03T00:00:00\",\"2023-01-04T00:00:00\",\"2023-01-05T00:00:00\",\"2023-01-06T00:00:00\",\"2023-01-09T00:00:00\",\"2023-01-10T00:00:00\",\"2023-01-11T00:00:00\",\"2023-01-12T00:00:00\",\"2023-01-13T00:00:00\",\"2023-01-17T00:00:00\",\"2023-01-18T00:00:00\",\"2023-01-19T00:00:00\",\"2023-01-20T00:00:00\",\"2023-01-23T00:00:00\",\"2023-01-24T00:00:00\",\"2023-01-25T00:00:00\",\"2023-01-26T00:00:00\",\"2023-01-27T00:00:00\",\"2023-01-30T00:00:00\",\"2023-01-31T00:00:00\",\"2023-02-01T00:00:00\",\"2023-02-02T00:00:00\",\"2023-02-03T00:00:00\",\"2023-02-06T00:00:00\",\"2023-02-07T00:00:00\",\"2023-02-08T00:00:00\",\"2023-02-09T00:00:00\",\"2023-02-10T00:00:00\",\"2023-02-13T00:00:00\",\"2023-02-14T00:00:00\",\"2023-02-15T00:00:00\",\"2023-02-16T00:00:00\",\"2023-02-17T00:00:00\",\"2023-02-21T00:00:00\",\"2023-02-22T00:00:00\",\"2023-02-23T00:00:00\",\"2023-02-24T00:00:00\",\"2023-02-27T00:00:00\",\"2023-02-28T00:00:00\",\"2023-03-01T00:00:00\",\"2023-03-02T00:00:00\",\"2023-03-03T00:00:00\",\"2023-03-06T00:00:00\",\"2023-03-07T00:00:00\",\"2023-03-08T00:00:00\",\"2023-03-09T00:00:00\",\"2023-03-10T00:00:00\",\"2023-03-13T00:00:00\",\"2023-03-14T00:00:00\",\"2023-03-15T00:00:00\",\"2023-03-16T00:00:00\",\"2023-03-17T00:00:00\",\"2023-03-20T00:00:00\",\"2023-03-21T00:00:00\",\"2023-03-22T00:00:00\",\"2023-03-23T00:00:00\",\"2023-03-24T00:00:00\",\"2023-03-27T00:00:00\",\"2023-03-28T00:00:00\",\"2023-03-29T00:00:00\",\"2023-03-30T00:00:00\",\"2023-03-31T00:00:00\",\"2023-04-03T00:00:00\",\"2023-04-04T00:00:00\",\"2023-04-05T00:00:00\",\"2023-04-06T00:00:00\",\"2023-04-10T00:00:00\",\"2023-04-11T00:00:00\",\"2023-04-12T00:00:00\",\"2023-04-13T00:00:00\",\"2023-04-14T00:00:00\",\"2023-04-17T00:00:00\",\"2023-04-18T00:00:00\",\"2023-04-19T00:00:00\",\"2023-04-20T00:00:00\",\"2023-04-21T00:00:00\",\"2023-04-24T00:00:00\",\"2023-04-25T00:00:00\",\"2023-04-26T00:00:00\",\"2023-04-27T00:00:00\",\"2023-04-28T00:00:00\",\"2023-05-01T00:00:00\",\"2023-05-02T00:00:00\",\"2023-05-03T00:00:00\",\"2023-05-04T00:00:00\",\"2023-05-05T00:00:00\",\"2023-05-08T00:00:00\",\"2023-05-09T00:00:00\",\"2023-05-10T00:00:00\",\"2023-05-11T00:00:00\",\"2023-05-12T00:00:00\",\"2023-05-15T00:00:00\",\"2023-05-16T00:00:00\",\"2023-05-17T00:00:00\",\"2023-05-18T00:00:00\",\"2023-05-19T00:00:00\",\"2023-05-22T00:00:00\",\"2023-05-23T00:00:00\",\"2023-05-24T00:00:00\",\"2023-05-25T00:00:00\",\"2023-05-26T00:00:00\",\"2023-05-30T00:00:00\",\"2023-05-31T00:00:00\",\"2023-06-01T00:00:00\",\"2023-06-02T00:00:00\",\"2023-06-05T00:00:00\",\"2023-06-06T00:00:00\",\"2023-06-07T00:00:00\",\"2023-06-08T00:00:00\",\"2023-06-09T00:00:00\",\"2023-06-12T00:00:00\",\"2023-06-13T00:00:00\",\"2023-06-14T00:00:00\",\"2023-06-15T00:00:00\",\"2023-06-16T00:00:00\",\"2023-06-20T00:00:00\",\"2023-06-21T00:00:00\",\"2023-06-22T00:00:00\",\"2023-06-23T00:00:00\",\"2023-06-26T00:00:00\",\"2023-06-27T00:00:00\",\"2023-06-28T00:00:00\",\"2023-06-29T00:00:00\",\"2023-06-30T00:00:00\",\"2023-07-03T00:00:00\",\"2023-07-05T00:00:00\",\"2023-07-06T00:00:00\",\"2023-07-07T00:00:00\",\"2023-07-10T00:00:00\",\"2023-07-11T00:00:00\",\"2023-07-12T00:00:00\",\"2023-07-13T00:00:00\",\"2023-07-14T00:00:00\",\"2023-07-17T00:00:00\",\"2023-07-18T00:00:00\",\"2023-07-19T00:00:00\",\"2023-07-20T00:00:00\",\"2023-07-21T00:00:00\",\"2023-07-24T00:00:00\",\"2023-07-25T00:00:00\",\"2023-07-26T00:00:00\",\"2023-07-27T00:00:00\",\"2023-07-28T00:00:00\",\"2023-07-31T00:00:00\",\"2023-08-01T00:00:00\",\"2023-08-02T00:00:00\",\"2023-08-03T00:00:00\",\"2023-08-04T00:00:00\",\"2023-08-07T00:00:00\",\"2023-08-08T00:00:00\",\"2023-08-09T00:00:00\",\"2023-08-10T00:00:00\",\"2023-08-11T00:00:00\",\"2023-08-14T00:00:00\",\"2023-08-15T00:00:00\",\"2023-08-16T00:00:00\",\"2023-08-17T00:00:00\",\"2023-08-18T00:00:00\",\"2023-08-21T00:00:00\",\"2023-08-22T00:00:00\",\"2023-08-23T00:00:00\",\"2023-08-24T00:00:00\",\"2023-08-25T00:00:00\",\"2023-08-28T00:00:00\",\"2023-08-29T00:00:00\",\"2023-08-30T00:00:00\",\"2023-08-31T00:00:00\",\"2023-09-01T00:00:00\",\"2023-09-05T00:00:00\",\"2023-09-06T00:00:00\",\"2023-09-07T00:00:00\",\"2023-09-08T00:00:00\",\"2023-09-11T00:00:00\",\"2023-09-12T00:00:00\",\"2023-09-13T00:00:00\",\"2023-09-14T00:00:00\",\"2023-09-15T00:00:00\",\"2023-09-18T00:00:00\",\"2023-09-19T00:00:00\",\"2023-09-20T00:00:00\",\"2023-09-21T00:00:00\",\"2023-09-22T00:00:00\",\"2023-09-25T00:00:00\",\"2023-09-26T00:00:00\",\"2023-09-27T00:00:00\",\"2023-09-28T00:00:00\",\"2023-09-29T00:00:00\",\"2023-10-02T00:00:00\",\"2023-10-03T00:00:00\",\"2023-10-04T00:00:00\",\"2023-10-05T00:00:00\",\"2023-10-06T00:00:00\",\"2023-10-09T00:00:00\",\"2023-10-10T00:00:00\",\"2023-10-11T00:00:00\",\"2023-10-12T00:00:00\",\"2023-10-13T00:00:00\",\"2023-10-16T00:00:00\",\"2023-10-17T00:00:00\",\"2023-10-18T00:00:00\",\"2023-10-19T00:00:00\",\"2023-10-20T00:00:00\",\"2023-10-23T00:00:00\",\"2023-10-24T00:00:00\",\"2023-10-25T00:00:00\",\"2023-10-26T00:00:00\",\"2023-10-27T00:00:00\",\"2023-10-30T00:00:00\",\"2023-10-31T00:00:00\",\"2023-11-01T00:00:00\",\"2023-11-02T00:00:00\",\"2023-11-03T00:00:00\",\"2023-11-06T00:00:00\",\"2023-11-07T00:00:00\",\"2023-11-08T00:00:00\",\"2023-11-09T00:00:00\",\"2023-11-10T00:00:00\",\"2023-11-13T00:00:00\",\"2023-11-14T00:00:00\",\"2023-11-15T00:00:00\",\"2023-11-16T00:00:00\",\"2023-11-17T00:00:00\",\"2023-11-20T00:00:00\",\"2023-11-21T00:00:00\",\"2023-11-22T00:00:00\",\"2023-11-24T00:00:00\",\"2023-11-27T00:00:00\",\"2023-11-28T00:00:00\",\"2023-11-29T00:00:00\",\"2023-11-30T00:00:00\",\"2023-12-01T00:00:00\",\"2023-12-04T00:00:00\",\"2023-12-05T00:00:00\",\"2023-12-06T00:00:00\",\"2023-12-07T00:00:00\",\"2023-12-08T00:00:00\",\"2023-12-11T00:00:00\",\"2023-12-12T00:00:00\",\"2023-12-13T00:00:00\",\"2023-12-14T00:00:00\",\"2023-12-15T00:00:00\",\"2023-12-18T00:00:00\",\"2023-12-19T00:00:00\",\"2023-12-20T00:00:00\",\"2023-12-21T00:00:00\",\"2023-12-22T00:00:00\",\"2023-12-26T00:00:00\",\"2023-12-27T00:00:00\",\"2023-12-28T00:00:00\",\"2023-12-29T00:00:00\",\"2024-01-02T00:00:00\",\"2024-01-03T00:00:00\",\"2024-01-04T00:00:00\",\"2024-01-05T00:00:00\",\"2024-01-08T00:00:00\",\"2024-01-09T00:00:00\",\"2024-01-10T00:00:00\",\"2024-01-11T00:00:00\",\"2024-01-12T00:00:00\",\"2024-01-16T00:00:00\",\"2024-01-17T00:00:00\",\"2024-01-18T00:00:00\",\"2024-01-19T00:00:00\",\"2024-01-22T00:00:00\",\"2024-01-23T00:00:00\",\"2024-01-24T00:00:00\",\"2024-01-25T00:00:00\",\"2024-01-26T00:00:00\",\"2024-01-29T00:00:00\",\"2024-01-30T00:00:00\",\"2024-01-31T00:00:00\",\"2024-02-01T00:00:00\",\"2024-02-02T00:00:00\",\"2024-02-05T00:00:00\",\"2024-02-06T00:00:00\",\"2024-02-07T00:00:00\",\"2024-02-08T00:00:00\",\"2024-02-09T00:00:00\",\"2024-02-12T00:00:00\",\"2024-02-13T00:00:00\",\"2024-02-14T00:00:00\",\"2024-02-15T00:00:00\",\"2024-02-16T00:00:00\",\"2024-02-20T00:00:00\",\"2024-02-21T00:00:00\",\"2024-02-22T00:00:00\",\"2024-02-23T00:00:00\",\"2024-02-26T00:00:00\",\"2024-02-27T00:00:00\",\"2024-02-28T00:00:00\",\"2024-02-29T00:00:00\",\"2024-03-01T00:00:00\",\"2024-03-04T00:00:00\",\"2024-03-05T00:00:00\"],\"xaxis\":\"x\",\"y\":[154.4938201904297,152.57012939453125,152.96446228027344,151.56979370117188,153.98403930664062,155.90777587890625,155.1863555908203,157.0523681640625,155.94625854492188,156.95616149902344,159.83213806152344,160.7266845703125,160.1495361328125,159.38003540039062,160.36119079589844,158.7451934814453,156.09051513671875,159.1492462158203,161.63079833984375,166.19003295898438,163.73733520507812,167.72903442382812,173.2500457763672,173.0384521484375,176.62619018554688,176.8762969970703,181.5028533935547,177.40530395507812,177.66505432128906,176.70315551757812,178.28060913085938,180.0889129638672,180.6290283203125,177.87057495117188,172.24765014648438,164.82110595703125,162.10121154785156,164.1266326904297,152.56246948242188,156.2564697265625,166.65357971191406,158.6676483154297,164.49314880371094,160.36517333984375,155.8320770263672,145.2709197998047,155.20513916015625,148.17408752441406,134.12144470214844,153.18942260742188,130.61074829101562,141.3647918701172,135.4138641357422,137.64187622070312,132.4722137451172,131.15087890625,143.07192993164062,141.70236206054688,150.56597900390625,144.3836212158203,154.5396728515625,152.10914611816406,146.70803833007812,149.7461700439453,148.36692810058594,159.40069580078125,157.68389892578125,159.26564025878906,159.27525329589844,159.6321258544922,167.53131103515625,165.77590942382812,170.75265502929688,172.25729370117188,168.84300231933594,161.86012268066406,167.35765075683594,165.33229064941406,168.35110473632812,167.8688507080078,163.7794189453125,171.12879943847656,172.8456268310547,168.3704071044922,172.48876953125,174.34056091308594,176.05735778808594,177.0797119140625,178.121337890625,180.1082000732422,176.0284423828125,173.36647033691406,174.1187286376953,176.65533447265625,178.3432159423828,177.10861206054688,179.56527709960938,177.408447265625,177.48582458496094,175.60952758789062,175.84164428710938,175.44509887695312,177.23439025878906,176.82818603515625,178.8398895263672,179.27511596679688,176.91519165039062,181.0547332763672,182.17665100097656,183.56939697265625,190.37826538085938,180.15525817871094,181.57699584960938,182.73757934570312,187.21559143066406,187.8636016845703,189.8753204345703,188.7437744140625,193.98583984375,195.28182983398438,191.34542846679688,193.76336669921875,189.88499450683594,191.92575073242188,196.82931518554688,197.98019409179688,199.489013671875,203.78326416015625,201.41368103027344,205.84336853027344,207.2844696044922,206.65576171875,200.2724609375,201.5104217529297,201.21058654785156,197.225830078125,196.21998596191406,204.65371704101562,201.89730834960938,204.79876708984375,195.89112854003906,194.69183349609375,197.15817260742188,195.3882293701172,197.36123657226562,197.2064971923828,198.28004455566406,209.4315643310547,206.2882537841797,205.94972229003906,209.247802734375,205.50482177734375,201.41368103027344,196.70358276367188,202.32286071777344,201.8489227294922,202.04237365722656,203.37704467773438,204.54733276367188,203.3063507080078,208.03758239746094,206.52513122558594,207.17471313476562,209.8699493408203,214.4072723388672,219.67172241210938,221.93064880371094,218.65371704101562,220.34066772460938,224.5871124267578,210.67466735839844,207.7176055908203,196.48098754882812,204.84788513183594,199.10838317871094,197.80923461914062,199.14715576171875,202.41439819335938,198.7981414794922,196.72340393066406,194.28021240234375,196.3646697998047,201.0958709716797,194.47410583496094,196.99484252929688,201.48365783691406,203.05430603027344,200.9407501220703,203.91717529296875,205.9822235107422,199.90338134765625,203.9656524658203,199.63194274902344,203.43238830566406,204.1595458984375,209.2301025390625,214.64967346191406,216.06512451171875,214.1260986328125,212.9627227783203,212.9627227783203,207.6885528564453,208.10543823242188,208.2508544921875,208.33811950683594,209.63722229003906,203.6747589111328,206.74813842773438,196.50038146972656,198.4781951904297,196.2967987060547,196.1610565185547,200.13604736328125,209.79237365722656,216.4820098876953,216.89891052246094,211.73138427734375,204.576416015625,209.94749450683594,208.87136840820312,209.90870666503906,210.6067657470703,207.92124938964844,205.18006896972656,206.48260498046875,204.5093536376953,204.2371826171875,207.8823699951172,207.8920440673828,209.2140655517578,208.0865020751953,210.16668701171875,209.35012817382812,208.25177001953125,208.36837768554688,208.30032348632812,209.9722900390625,205.87994384765625,204.63571166992188,207.2991180419922,208.2128448486328,208.1448211669922,213.15087890625,213.2869415283203,212.4801483154297,216.3683319091797,217.6806182861328,214.8422393798828,216.5238800048828,218.67208862304688,217.88473510742188,215.4838104248047,216.2030792236328,211.6053009033203,211.80941772460938,206.3173370361328,212.18853759765625,213.4813690185547,211.410888671875,208.92245483398438,210.29302978515625,207.0658416748047,206.7061767578125,210.3902587890625,218.0694122314453,218.68182373046875,219.63441467285156,223.11434936523438,225.83612060546875,226.39016723632812,232.25161743164062,225.47642517089844,232.9514923095703,232.8154296875,236.2078857421875,235.24551391601562,235.43019104003906,235.69265747070312,236.95631408691406,236.03292846679688,237.65621948242188,238.1422119140625,236.88829040527344,237.92103576660156,237.5215606689453,234.77407836914062,228.4801788330078,227.27207946777344,228.5191650390625,223.1021270751953,226.40496826171875,230.84771728515625,227.85662841796875,221.7089080810547,220.9002227783203,225.64501953125,221.54324340820312,227.76898193359375,226.44390869140625,231.03280639648438,229.68829345703125,228.77249145507812,231.59791564941406,230.94512939453125,224.78765869140625,224.42715454101562,229.92213439941406,231.47125244140625,229.40579223632812,226.36598205566406,230.39952087402344,229.19142150878906,225.8885955810547,229.70777893066406,236.1186065673828,242.66580200195312,241.48692321777344,243.47442626953125,246.7383575439453,249.271484375,249.32994079589844,251.84361267089844,249.0181884765625,252.82762145996094,254.03570556640625,252.08717346191406,251.61952209472656,253.87985229492188,250.55755615234375,254.43524169921875,254.8249053955078,255.234130859375,248.01463317871094,246.01736450195312,245.69583129882812,245.3840789794922,241.41873168945312,240.1326446533203,243.30882263183594,245.96864318847656,240.8243865966797,239.89886474609375,232.85472106933594,236.78111267089844,241.7694549560547,238.87582397460938,236.829833984375,237.41574096679688,240.6968994140625,239.4176483154297,244.8960418701172,245.81396484375,245.58938598632812,243.46051025390625,243.82183837890625,241.59536743164062,241.49769592285156,239.94496154785156,244.90576171875,247.85494995117188,246.64401245117188,247.6400909423828,251.20445251464844,251.83920288085938,253.7922821044922,252.2982177734375,251.34117126464844,254.77857971191406,253.34310913085938,256.468017578125,259.2804260253906,259.0460510253906,260.4327087402344,258.8018798828125,262.4151306152344,265.0321960449219,264.5439758300781,265.2275390625,271.1355285644531,271.1454162597656,273.3620910644531,270.9110107421875,271.4187927246094,270.8133239746094,274.387451171875,275.881591796875,274.436279296875,274.162841796875,270.5106201171875,272.7663879394531,274.797607421875,279.4264221191406,282.8735656738281,282.2680969238281,279.8170166015625,279.5045166015625,279.7779235839844,278.22528076171875,278.1373596191406,280.3834228515625,279.7877197265625,282.7270202636719,282.66851806640625,281.56500244140625,279.7193603515625,280.21734619140625,283.0102233886719,285.97900390625,287.6878662109375,286.2034912109375,284.45220947265625,290.36175537109375,297.78790283203125,298.0716247558594,296.08544921875,295.4886474609375,292.63165283203125,293.2480773925781,297.0345458984375,295.3614501953125,295.3125305175781,294.6471862792969,294.6374206542969,293.6981201171875,293.72747802734375,290.8314514160156,289.32464599609375,290.5770263671875,293.31658935546875,298.2379455566406,298.62933349609375,293.3948669433594,287.945068359375,288.4342956542969,292.1326599121094,293.09149169921875,292.88604736328125,287.81793212890625,277.39788818359375,277.8675537109375,275.83245849609375,282.85736083984375,276.9967041015625,282.5247802734375,286.78076171875,288.4832458496094,288.4832458496094,287.8766784667969,286.55584716796875,289.9117431640625,296.212646484375,297.64111328125,300.6546630859375,301.5743408203125,300.7720642089844,304.0496520996094,302.4842224121094,301.47650146484375,303.4137268066406,316.19171142578125,317.34625244140625,324.45928955078125,322.2579040527344,325.9366455078125,326.787841796875,329.1752014160156,328.8033752441406,329.7132873535156,328.6958312988281,323.656982421875,325.25177001953125,329.4491271972656,328.8132019042969,332.17889404296875,332.40435791015625,334.5118103027344,336.3153381347656,333.1002502441406,330.9928283691406,331.2183532714844,323.1512756347656,329.96368408203125,324.04327392578125,323.5434265136719,322.96502685546875,316.61334228515625,319.73040771484375,328.28753662109375,328.3365478515625,326.50360107421875,335.7566833496094,332.6788024902344,321.8377990722656,328.02288818359375,318.4659118652344,317.3877258300781,313.5747985839844,320.8086242675781,326.6015930175781,328.0621032714844,335.66839599609375,334.4921569824219,335.1783142089844,332.60040283203125,329.6597900390625,328.1209411621094,322.49456787109375,310.1146545410156,307.6641845703125,307.82098388671875,308.0464782714844,308.7424011230469,311.9672546386719,298.76397705078125,304.05706787109375,296.65655517578125,297.3231201171875,295.62738037109375,290.1676025390625,290.5008850097656,282.7769470214844,290.834228515625,293.9022216796875,302.1554870605469,304.8216552734375,302.6455993652344,307.25250244140625,295.2843017578125,299.8814697265625,294.990234375,298.52874755859375,305.0470275878906,296.3919677734375,289.197265625,289.1580810546875,294.51971435546875,294.1759338378906,285.56182861328125,282.8116149902344,282.6053466796875,275.28778076171875,289.3532409667969,292.02490234375,293.4785461425781,289.7068176269531,294.85369873046875,290.6596374511719,284.7073669433594,273.9519958496094,270.9463806152344,283.3714904785156,280.51324462890625,275.09136962890625,271.5259094238281,282.0455017089844,289.1568298339844,289.9720153808594,295.0894470214844,293.84197998046875,298.6549377441406,294.1661376953125,298.6942443847656,298.2817077636719,305.1768493652344,309.8031005859375,308.2806701660156,302.8293762207031,303.9195861816406,309.3709716796875,305.35369873046875,294.1759338378906,296.0127258300781,291.69091796875,280.1890563964844,277.04595947265625,282.5071105957031,274.8555908203125,275.5333557128906,280.2283630371094,281.26953125,275.8182067871094,269.15869140625,275.7298278808594,265.4164733886719,278.18536376953125,284.48138427734375,272.586669921875,279.41314697265625,276.77093505859375,284.8251647949219,272.4197082519531,269.8462829589844,259.8766784667969,264.709228515625,255.91836547851562,250.810791015625,256.4782409667969,256.8514709472656,262.076904296875,250.14463806152344,249.21917724609375,248.64817810058594,256.6128845214844,255.59877014160156,258.4538879394531,261.78155517578125,269.0078430175781,267.6590576171875,268.2005920410156,270.32708740234375,265.83770751953125,264.58740234375,268.279296875,266.2217102050781,260.6887512207031,249.07151794433594,238.5076904296875,240.7031707763672,247.86058044433594,241.17572021484375,243.814208984375,249.8098907470703,249.20933532714844,254.85057067871094,263.5537414550781,260.7872009277344,252.50746154785156,256.22894287109375,252.8520050048828,255.55943298339844,258.77880859375,262.08673095703125,264.2428283691406,263.5143127441406,260.4130859375,249.740966796875,248.80569458007812,250.14463806152344,252.74375915527344,250.31199645996094,255.51022338867188,258.2077331542969,260.73797607421875,256.327392578125,254.821044921875,247.9983673095703,264.57757568359375,272.1287841796875,276.39166259765625,273.7039794921875,270.56341552734375,278.09490966796875,279.2566223144531,278.528076171875,275.97821044921875,277.92755126953125,284.6813049316406,282.574462890625,287.388671875,288.9245300292969,288.17626953125,287.4166259765625,286.28204345703125,282.3158874511719,274.0284423828125,272.7359924316406,272.0947265625,275.11370849609375,264.49786376953125,261.6761779785156,259.4464416503906,257.966552734375,256.910888671875,252.62905883789062,249.85670471191406,254.63185119628906,255.0560760498047,260.91650390625,263.0771789550781,248.61358642578125,248.8404998779297,242.0921630859375,241.46075439453125,241.24366760253906,239.201416015625,235.74830627441406,237.7510986328125,234.7321014404297,234.2683868408203,233.24234008789062,237.8399200439453,234.31773376464844,229.77938842773438,237.5143280029297,245.54527282714844,245.8609619140625,243.48324584960938,231.1014404296875,226.1782684326172,222.38973999023438,222.7251739501953,231.1014404296875,225.49752807617188,234.34735107421875,235.30435180664062,233.3114013671875,232.98582458496094,238.8758544921875,243.93710327148438,247.30140686035156,228.22055053710938,223.71180725097656,232.70957946777344,229.0196990966797,225.11273193359375,217.15087890625,211.37925720214844,218.423583984375,224.81675720214844,225.80337524414062,221.5017852783203,239.7243194580078,243.79896545410156,238.3134765625,238.72784423828125,239.1631622314453,239.1136932373047,238.6585693359375,239.47976684570312,242.42811584472656,244.9510498046875,244.86203002929688,239.1928253173828,237.7780303955078,252.43077087402344,251.9855499267578,252.31204223632812,247.54322814941406,242.5171661376953,241.775146484375,244.77296447753906,242.81396484375,249.82867431640625,254.19187927246094,254.48870849609375,246.36585998535156,242.0917510986328,237.8967742919922,239.232421875,241.83448791503906,235.66075134277344,236.19500732421875,234.44381713867188,232.0396270751953,238.4508056640625,237.27346801757812,237.0360107421875,226.66729736328125,219.9493865966797,222.5415496826172,224.7082977294922,226.41993713378906,233.26644897460938,235.9773712158203,236.68971252441406,237.79782104492188,233.30601501464844,229.46722412109375,237.669189453125,240.004150390625,239.46987915039062,238.0550537109375,245.3665771484375,245.52490234375,240.13275146484375,245.1785888671875,250.06614685058594,261.79034423828125,255.60671997070312,254.04344177246094,264.7188720703125,263.897705078125,260.82073974609375,260.3062438964844,268.43896484375,269.27996826171875,267.12762451171875,260.0159606933594,255.95928955078125,250.61314392089844,249.46258544921875,252.696044921875,247.1912384033203,248.1235809326172,247.3896026611328,244.26524353027344,249.0658416748047,253.21180725097656,254.77896118164062,252.08108520507812,251.63475036621094,250.2659912109375,246.56637573242188,251.85296630859375,258.66705322265625,263.2792053222656,273.95159912109375,277.1553039550781,270.013916015625,271.55126953125,270.07342529296875,275.3996887207031,278.2860412597656,274.130126953125,272.989501953125,278.2265319824219,281.7376708984375,285.95306396484375,284.8918151855469,284.84222412109375,282.02532958984375,289.22625732421875,287.03424072265625,280.5276184082031,281.1822509765625,287.4805603027344,283.81072998046875,286.4490051269531,286.0224914550781,286.1018981933594,283.7809143066406,283.43377685546875,279.4762268066406,273.1779479980469,292.9655456542969,302.3485412597656,304.75872802734375,303.0726013183594,302.923828125,301.9220275878906,302.923828125,308.1211242675781,306.137451171875,304.5008544921875,309.7676086425781,307.5855407714844,306.454833984375,306.9408264160156,309.2023010253906,312.1247253417969,316.6177062988281,316.4388122558594,319.2618408203125,313.3772277832031,311.9756164550781,323.9735412597656,330.9019470214844,329.2319641113281,326.4288024902344,330.59375,333.3968811035156,333.9337158203125,331.68719482421875,321.4486999511719,323.3175048828125,324.8383483886719,329.86810302734375,332.2935485839844,335.3253479003906,346.0210876464844,340.2855224609375,336.0310974121094,331.5679016113281,337.68115234375,333.0191650390625,326.6375427246094,332.5718688964844,333.84423828125,333.0489807128906,338.5062255859375,335.971435546875,336.1304931640625,339.23187255859375,335.2060546875,329.84820556640625,330.48443603515625,335.1861877441406,340.61358642578125,343.1781311035156,343.66522216796875,357.3430480957031,352.9593505859375,344.7984313964844,341.7169189453125,343.0489196777344,348.8838806152344,335.75274658203125,328.7448425292969,336.34918212890625,333.913818359375,334.331298828125,325.5440979003906,324.7091369628906,325.8224182128906,328.1385192871094,324.1027526855469,320.30560302734375,321.00140380859375,319.0928649902344,322.1047668457031,319.9377746582031,319.1607971191406,315.6544494628906,315.2559814453125,320.6351013183594,321.21282958984375,325.73529052734375,318.73248291015625,321.7308349609375,322.44805908203125,327.13983154296875,327.51837158203125,326.49237060546875,327.38885498046875,332.2599182128906,331.5925598144531,328.634033203125,332.9771423339844,336.6329650878906,330.48681640625,334.76025390625,337.3900146484375,328.94281005859375,327.78729248046875,327.3788757324219,319.5293884277344,318.294189453125,315.783935546875,316.3118896484375,310.9327697753906,311.5802307128906,312.4269714355469,314.52880859375,320.5553894042969,312.17791748046875,317.72637939453125,318.12481689453125,325.9942932128906,328.54437255859375,327.11993408203125,331.13433837890625,329.87921142578125,326.4624938964844,331.3534851074219,330.77569580078125,328.833251953125,330.03857421875,325.4065856933594,328.04632568359375,329.25164794921875,339.3524475097656,326.6218566894531,328.534423828125,336.0054016113281,336.80230712890625,344.7315368652344,346.97283935546875,351.43548583984375,355.15106201171875,359.1356201171875,361.7952880859375,359.29498291015625,368.2402648925781,365.2618103027344,368.8379211425781,368.9876708984375,375.4756774902344,369.1673278808594,376.7433166503906,372.3813781738281,377.1525573730469,376.7333068847656,377.9111328125,381.9936218261719,378.15069580078125,378.2106018066406,373.8187255859375,368.4586486816406,371.8323669433594,368.1192321777344,370.2652893066406,373.53924560546875,370.6146240234375,373.68896484375,373.678955078125,365.2545471191406,370.04571533203125,371.9621276855469,372.571044921875,369.9358825683594,372.85052490234375,373.8885803222656,373.96844482421875,373.3795471191406,374.5872802734375,375.34588623046875,370.1854248046875,369.9159240722656,367.2608337402344,367.0711975097656,373.9983825683594,375.09637451171875,382.0634460449219,383.9200439453125,387.7529602050781,389.54962158203125,388.7510986328125,393.1429748535156,397.93414306640625,395.7781066894531,398.1636962890625,401.8169250488281,404.1226806640625,403.1844177246094,408.9637145996094,407.8358154296875,396.84613037109375,403.0346984863281,410.4609680175781,404.9012451171875,404.74151611328125,413.28570556640625,413.3456115722656,419.7737121582031,414.4934997558594,405.57000732421875,409.489990234375,406.55999755859375,404.05999755859375,402.7900085449219,402.17999267578125,411.6499938964844,410.3399963378906,407.5400085449219,407.4800109863281,407.7200012207031,413.6400146484375,415.5,414.9200134277344,402.6499938964844],\"yaxis\":\"y\",\"type\":\"scattergl\"}],                        {\"template\":{\"data\":{\"histogram2dcontour\":[{\"type\":\"histogram2dcontour\",\"colorbar\":{\"outlinewidth\":0,\"ticks\":\"\"},\"colorscale\":[[0.0,\"#0d0887\"],[0.1111111111111111,\"#46039f\"],[0.2222222222222222,\"#7201a8\"],[0.3333333333333333,\"#9c179e\"],[0.4444444444444444,\"#bd3786\"],[0.5555555555555556,\"#d8576b\"],[0.6666666666666666,\"#ed7953\"],[0.7777777777777778,\"#fb9f3a\"],[0.8888888888888888,\"#fdca26\"],[1.0,\"#f0f921\"]]}],\"choropleth\":[{\"type\":\"choropleth\",\"colorbar\":{\"outlinewidth\":0,\"ticks\":\"\"}}],\"histogram2d\":[{\"type\":\"histogram2d\",\"colorbar\":{\"outlinewidth\":0,\"ticks\":\"\"},\"colorscale\":[[0.0,\"#0d0887\"],[0.1111111111111111,\"#46039f\"],[0.2222222222222222,\"#7201a8\"],[0.3333333333333333,\"#9c179e\"],[0.4444444444444444,\"#bd3786\"],[0.5555555555555556,\"#d8576b\"],[0.6666666666666666,\"#ed7953\"],[0.7777777777777778,\"#fb9f3a\"],[0.8888888888888888,\"#fdca26\"],[1.0,\"#f0f921\"]]}],\"heatmap\":[{\"type\":\"heatmap\",\"colorbar\":{\"outlinewidth\":0,\"ticks\":\"\"},\"colorscale\":[[0.0,\"#0d0887\"],[0.1111111111111111,\"#46039f\"],[0.2222222222222222,\"#7201a8\"],[0.3333333333333333,\"#9c179e\"],[0.4444444444444444,\"#bd3786\"],[0.5555555555555556,\"#d8576b\"],[0.6666666666666666,\"#ed7953\"],[0.7777777777777778,\"#fb9f3a\"],[0.8888888888888888,\"#fdca26\"],[1.0,\"#f0f921\"]]}],\"heatmapgl\":[{\"type\":\"heatmapgl\",\"colorbar\":{\"outlinewidth\":0,\"ticks\":\"\"},\"colorscale\":[[0.0,\"#0d0887\"],[0.1111111111111111,\"#46039f\"],[0.2222222222222222,\"#7201a8\"],[0.3333333333333333,\"#9c179e\"],[0.4444444444444444,\"#bd3786\"],[0.5555555555555556,\"#d8576b\"],[0.6666666666666666,\"#ed7953\"],[0.7777777777777778,\"#fb9f3a\"],[0.8888888888888888,\"#fdca26\"],[1.0,\"#f0f921\"]]}],\"contourcarpet\":[{\"type\":\"contourcarpet\",\"colorbar\":{\"outlinewidth\":0,\"ticks\":\"\"}}],\"contour\":[{\"type\":\"contour\",\"colorbar\":{\"outlinewidth\":0,\"ticks\":\"\"},\"colorscale\":[[0.0,\"#0d0887\"],[0.1111111111111111,\"#46039f\"],[0.2222222222222222,\"#7201a8\"],[0.3333333333333333,\"#9c179e\"],[0.4444444444444444,\"#bd3786\"],[0.5555555555555556,\"#d8576b\"],[0.6666666666666666,\"#ed7953\"],[0.7777777777777778,\"#fb9f3a\"],[0.8888888888888888,\"#fdca26\"],[1.0,\"#f0f921\"]]}],\"surface\":[{\"type\":\"surface\",\"colorbar\":{\"outlinewidth\":0,\"ticks\":\"\"},\"colorscale\":[[0.0,\"#0d0887\"],[0.1111111111111111,\"#46039f\"],[0.2222222222222222,\"#7201a8\"],[0.3333333333333333,\"#9c179e\"],[0.4444444444444444,\"#bd3786\"],[0.5555555555555556,\"#d8576b\"],[0.6666666666666666,\"#ed7953\"],[0.7777777777777778,\"#fb9f3a\"],[0.8888888888888888,\"#fdca26\"],[1.0,\"#f0f921\"]]}],\"mesh3d\":[{\"type\":\"mesh3d\",\"colorbar\":{\"outlinewidth\":0,\"ticks\":\"\"}}],\"scatter\":[{\"fillpattern\":{\"fillmode\":\"overlay\",\"size\":10,\"solidity\":0.2},\"type\":\"scatter\"}],\"parcoords\":[{\"type\":\"parcoords\",\"line\":{\"colorbar\":{\"outlinewidth\":0,\"ticks\":\"\"}}}],\"scatterpolargl\":[{\"type\":\"scatterpolargl\",\"marker\":{\"colorbar\":{\"outlinewidth\":0,\"ticks\":\"\"}}}],\"bar\":[{\"error_x\":{\"color\":\"#2a3f5f\"},\"error_y\":{\"color\":\"#2a3f5f\"},\"marker\":{\"line\":{\"color\":\"#E5ECF6\",\"width\":0.5},\"pattern\":{\"fillmode\":\"overlay\",\"size\":10,\"solidity\":0.2}},\"type\":\"bar\"}],\"scattergeo\":[{\"type\":\"scattergeo\",\"marker\":{\"colorbar\":{\"outlinewidth\":0,\"ticks\":\"\"}}}],\"scatterpolar\":[{\"type\":\"scatterpolar\",\"marker\":{\"colorbar\":{\"outlinewidth\":0,\"ticks\":\"\"}}}],\"histogram\":[{\"marker\":{\"pattern\":{\"fillmode\":\"overlay\",\"size\":10,\"solidity\":0.2}},\"type\":\"histogram\"}],\"scattergl\":[{\"type\":\"scattergl\",\"marker\":{\"colorbar\":{\"outlinewidth\":0,\"ticks\":\"\"}}}],\"scatter3d\":[{\"type\":\"scatter3d\",\"line\":{\"colorbar\":{\"outlinewidth\":0,\"ticks\":\"\"}},\"marker\":{\"colorbar\":{\"outlinewidth\":0,\"ticks\":\"\"}}}],\"scattermapbox\":[{\"type\":\"scattermapbox\",\"marker\":{\"colorbar\":{\"outlinewidth\":0,\"ticks\":\"\"}}}],\"scatterternary\":[{\"type\":\"scatterternary\",\"marker\":{\"colorbar\":{\"outlinewidth\":0,\"ticks\":\"\"}}}],\"scattercarpet\":[{\"type\":\"scattercarpet\",\"marker\":{\"colorbar\":{\"outlinewidth\":0,\"ticks\":\"\"}}}],\"carpet\":[{\"aaxis\":{\"endlinecolor\":\"#2a3f5f\",\"gridcolor\":\"white\",\"linecolor\":\"white\",\"minorgridcolor\":\"white\",\"startlinecolor\":\"#2a3f5f\"},\"baxis\":{\"endlinecolor\":\"#2a3f5f\",\"gridcolor\":\"white\",\"linecolor\":\"white\",\"minorgridcolor\":\"white\",\"startlinecolor\":\"#2a3f5f\"},\"type\":\"carpet\"}],\"table\":[{\"cells\":{\"fill\":{\"color\":\"#EBF0F8\"},\"line\":{\"color\":\"white\"}},\"header\":{\"fill\":{\"color\":\"#C8D4E3\"},\"line\":{\"color\":\"white\"}},\"type\":\"table\"}],\"barpolar\":[{\"marker\":{\"line\":{\"color\":\"#E5ECF6\",\"width\":0.5},\"pattern\":{\"fillmode\":\"overlay\",\"size\":10,\"solidity\":0.2}},\"type\":\"barpolar\"}],\"pie\":[{\"automargin\":true,\"type\":\"pie\"}]},\"layout\":{\"autotypenumbers\":\"strict\",\"colorway\":[\"#636efa\",\"#EF553B\",\"#00cc96\",\"#ab63fa\",\"#FFA15A\",\"#19d3f3\",\"#FF6692\",\"#B6E880\",\"#FF97FF\",\"#FECB52\"],\"font\":{\"color\":\"#2a3f5f\"},\"hovermode\":\"closest\",\"hoverlabel\":{\"align\":\"left\"},\"paper_bgcolor\":\"white\",\"plot_bgcolor\":\"#E5ECF6\",\"polar\":{\"bgcolor\":\"#E5ECF6\",\"angularaxis\":{\"gridcolor\":\"white\",\"linecolor\":\"white\",\"ticks\":\"\"},\"radialaxis\":{\"gridcolor\":\"white\",\"linecolor\":\"white\",\"ticks\":\"\"}},\"ternary\":{\"bgcolor\":\"#E5ECF6\",\"aaxis\":{\"gridcolor\":\"white\",\"linecolor\":\"white\",\"ticks\":\"\"},\"baxis\":{\"gridcolor\":\"white\",\"linecolor\":\"white\",\"ticks\":\"\"},\"caxis\":{\"gridcolor\":\"white\",\"linecolor\":\"white\",\"ticks\":\"\"}},\"coloraxis\":{\"colorbar\":{\"outlinewidth\":0,\"ticks\":\"\"}},\"colorscale\":{\"sequential\":[[0.0,\"#0d0887\"],[0.1111111111111111,\"#46039f\"],[0.2222222222222222,\"#7201a8\"],[0.3333333333333333,\"#9c179e\"],[0.4444444444444444,\"#bd3786\"],[0.5555555555555556,\"#d8576b\"],[0.6666666666666666,\"#ed7953\"],[0.7777777777777778,\"#fb9f3a\"],[0.8888888888888888,\"#fdca26\"],[1.0,\"#f0f921\"]],\"sequentialminus\":[[0.0,\"#0d0887\"],[0.1111111111111111,\"#46039f\"],[0.2222222222222222,\"#7201a8\"],[0.3333333333333333,\"#9c179e\"],[0.4444444444444444,\"#bd3786\"],[0.5555555555555556,\"#d8576b\"],[0.6666666666666666,\"#ed7953\"],[0.7777777777777778,\"#fb9f3a\"],[0.8888888888888888,\"#fdca26\"],[1.0,\"#f0f921\"]],\"diverging\":[[0,\"#8e0152\"],[0.1,\"#c51b7d\"],[0.2,\"#de77ae\"],[0.3,\"#f1b6da\"],[0.4,\"#fde0ef\"],[0.5,\"#f7f7f7\"],[0.6,\"#e6f5d0\"],[0.7,\"#b8e186\"],[0.8,\"#7fbc41\"],[0.9,\"#4d9221\"],[1,\"#276419\"]]},\"xaxis\":{\"gridcolor\":\"white\",\"linecolor\":\"white\",\"ticks\":\"\",\"title\":{\"standoff\":15},\"zerolinecolor\":\"white\",\"automargin\":true,\"zerolinewidth\":2},\"yaxis\":{\"gridcolor\":\"white\",\"linecolor\":\"white\",\"ticks\":\"\",\"title\":{\"standoff\":15},\"zerolinecolor\":\"white\",\"automargin\":true,\"zerolinewidth\":2},\"scene\":{\"xaxis\":{\"backgroundcolor\":\"#E5ECF6\",\"gridcolor\":\"white\",\"linecolor\":\"white\",\"showbackground\":true,\"ticks\":\"\",\"zerolinecolor\":\"white\",\"gridwidth\":2},\"yaxis\":{\"backgroundcolor\":\"#E5ECF6\",\"gridcolor\":\"white\",\"linecolor\":\"white\",\"showbackground\":true,\"ticks\":\"\",\"zerolinecolor\":\"white\",\"gridwidth\":2},\"zaxis\":{\"backgroundcolor\":\"#E5ECF6\",\"gridcolor\":\"white\",\"linecolor\":\"white\",\"showbackground\":true,\"ticks\":\"\",\"zerolinecolor\":\"white\",\"gridwidth\":2}},\"shapedefaults\":{\"line\":{\"color\":\"#2a3f5f\"}},\"annotationdefaults\":{\"arrowcolor\":\"#2a3f5f\",\"arrowhead\":0,\"arrowwidth\":1},\"geo\":{\"bgcolor\":\"white\",\"landcolor\":\"#E5ECF6\",\"subunitcolor\":\"white\",\"showland\":true,\"showlakes\":true,\"lakecolor\":\"white\"},\"title\":{\"x\":0.05},\"mapbox\":{\"style\":\"light\"}}},\"xaxis\":{\"anchor\":\"y\",\"domain\":[0.0,1.0],\"title\":{\"text\":\"Date\"}},\"yaxis\":{\"anchor\":\"x\",\"domain\":[0.0,1.0],\"title\":{\"text\":\"Adjusted Close Price ($)\"}},\"legend\":{\"tracegroupgap\":0},\"title\":{\"text\":\"MSFT Adjusted Close Price\"}},                        {\"responsive\": true}                    ).then(function(){\n",
              "                            \n",
              "var gd = document.getElementById('d08871c8-9458-466a-b951-4c4a4d0bc32a');\n",
              "var x = new MutationObserver(function (mutations, observer) {{\n",
              "        var display = window.getComputedStyle(gd).display;\n",
              "        if (!display || display === 'none') {{\n",
              "            console.log([gd, 'removed!']);\n",
              "            Plotly.purge(gd);\n",
              "            observer.disconnect();\n",
              "        }}\n",
              "}});\n",
              "\n",
              "// Listen for the removal of the full notebook cells\n",
              "var notebookContainer = gd.closest('#notebook-container');\n",
              "if (notebookContainer) {{\n",
              "    x.observe(notebookContainer, {childList: true});\n",
              "}}\n",
              "\n",
              "// Listen for the clearing of the current output cell\n",
              "var outputEl = gd.closest('.output');\n",
              "if (outputEl) {{\n",
              "    x.observe(outputEl, {childList: true});\n",
              "}}\n",
              "\n",
              "                        })                };                            </script>        </div>\n",
              "</body>\n",
              "</html>"
            ]
          },
          "metadata": {}
        }
      ]
    },
    {
      "cell_type": "markdown",
      "metadata": {
        "id": "JRx-1K0jmdtf"
      },
      "source": [
        "## Implied Volatility"
      ]
    },
    {
      "cell_type": "markdown",
      "metadata": {
        "id": "qgddzFE-mu6E"
      },
      "source": [
        "Implied volatility is a measure used to estimate the degree of future price variability of a stock, based on the prices of its options. It reflects investors' predictions about the asset's potential movement but doesn't indicate the direction of the movement.<br>Data obtained from Nasdaq Data Link (formerly Quandl) using an API key."
      ]
    },
    {
      "cell_type": "code",
      "execution_count": 25,
      "metadata": {
        "id": "kmQxag7eFKH0"
      },
      "outputs": [],
      "source": [
        "implied_volatility = pd.read_csv('msft_implied_volatility_raw.csv')\n",
        "implied_volatility['date'] = pd.to_datetime(implied_volatility['date'])\n",
        "implied_volatility.rename(columns={'date': 'Date'}, inplace=True)\n",
        "implied_volatility.set_index('Date', inplace=True)\n",
        "implied_volatility = implied_volatility.drop(columns = 'ticker')\n",
        "implied_volatility = implied_volatility.sort_values(by='Date', ascending=True)"
      ]
    },
    {
      "cell_type": "code",
      "source": [
        "merged_df = msft_df.merge(implied_volatility, on='Date', how='inner')\n",
        "fig = px.scatter(merged_df, x='ivmean30', y='Adj Close', title='30 Day Implied Volatility vs MSFT Adjusted Close Price', trendline=\"lowess\")\n",
        "fig.update_xaxes(title_text='30 Day Average Implied Volatility')\n",
        "fig.update_yaxes(title_text='MSFT Adjusted Close Price ($)')\n",
        "\n",
        "fig.show()"
      ],
      "metadata": {
        "colab": {
          "base_uri": "https://localhost:8080/",
          "height": 542
        },
        "id": "HuhPJE9_tYBY",
        "outputId": "002545b3-3614-4fa3-b7b0-51949ffd1822"
      },
      "execution_count": 26,
      "outputs": [
        {
          "output_type": "display_data",
          "data": {
            "text/html": [
              "<html>\n",
              "<head><meta charset=\"utf-8\" /></head>\n",
              "<body>\n",
              "    <div>            <script src=\"https://cdnjs.cloudflare.com/ajax/libs/mathjax/2.7.5/MathJax.js?config=TeX-AMS-MML_SVG\"></script><script type=\"text/javascript\">if (window.MathJax && window.MathJax.Hub && window.MathJax.Hub.Config) {window.MathJax.Hub.Config({SVG: {font: \"STIX-Web\"}});}</script>                <script type=\"text/javascript\">window.PlotlyConfig = {MathJaxConfig: 'local'};</script>\n",
              "        <script charset=\"utf-8\" src=\"https://cdn.plot.ly/plotly-2.24.1.min.js\"></script>                <div id=\"77b5608e-0721-4cfd-9ce4-ae125a381691\" class=\"plotly-graph-div\" style=\"height:525px; width:100%;\"></div>            <script type=\"text/javascript\">                                    window.PLOTLYENV=window.PLOTLYENV || {};                                    if (document.getElementById(\"77b5608e-0721-4cfd-9ce4-ae125a381691\")) {                    Plotly.newPlot(                        \"77b5608e-0721-4cfd-9ce4-ae125a381691\",                        [{\"hovertemplate\":\"ivmean30=%{x}\\u003cbr\\u003eAdj Close=%{y}\\u003cextra\\u003e\\u003c\\u002fextra\\u003e\",\"legendgroup\":\"\",\"marker\":{\"color\":\"#636efa\",\"symbol\":\"circle\"},\"mode\":\"markers\",\"name\":\"\",\"showlegend\":false,\"x\":[0.2061,0.2166,0.2231,0.2225,0.2102,0.2088,0.2202,0.215,0.2136,0.2156,0.2161,0.2164,0.2298,0.2284,0.2269,0.2356,0.2609,0.2408,0.2305,0.198,0.2265,0.2111,0.2159,0.2382,0.242,0.2465,0.2624,0.2933,0.2684,0.2584,0.24,0.2364,0.2266,0.2508,0.2908,0.342,0.3616,0.3456,0.4417,0.501,0.511,0.4386,0.3634,0.4802,0.5242,0.5961,0.5101,0.5815,0.754,0.4586,0.888,0.7361,0.8102,0.7396,0.6524,0.6127,0.5217,0.6136,0.5243,0.574,0.5108,0.5259,0.5549,0.5112,0.4995,0.4232,0.4244,0.4159,0.4084,0.4074,0.3713,0.4052,0.425,0.4057,0.421,0.4754,0.4294,0.4249,0.3985,0.385,0.38,0.37,0.3238,0.3453,0.3436,0.3128,0.3058,0.2972,0.2724,0.2676,0.2796,0.3368,0.3339,0.3056,0.275,0.2758,0.2727,0.2802,0.2724,0.277,0.2772,0.2796,0.2482,0.2616,0.2508,0.2458,0.256,0.2196,0.2523,0.2702,0.2722,0.3516,0.3493,0.3344,0.3252,0.3237,0.3094,0.3223,0.3171,0.3216,0.3375,0.3437,0.3661,0.357,0.3238,0.3195,0.3103,0.3179,0.3345,0.3362,0.3675,0.3601,0.3881,0.4045,0.4013,0.3974,0.366,0.3605,0.374,0.3474,0.3423,0.316,0.3012,0.2953,0.2837,0.2866,0.2948,0.3412,0.3249,0.3302,0.322,0.3329,0.3351,0.3375,0.3058,0.3134,0.3088,0.2918,0.2792,0.2773,0.2738,0.283,0.2932,0.2932,0.3248,0.3965,0.3876,0.3667,0.3874,0.3792,0.4674,0.4744,0.4357,0.3906,0.3821,0.3677,0.3338,0.3304,0.3569,0.3634,0.3496,0.3727,0.3556,0.3758,0.378,0.3372,0.3282,0.3308,0.3392,0.3429,0.3705,0.369,0.3842,0.3692,0.3597,0.338,0.3408,0.3258,0.3516,0.3565,0.3483,0.3833,0.3744,0.3764,0.3753,0.3614,0.401,0.3813,0.4031,0.3637,0.3794,0.38,0.3424,0.3016,0.2946,0.275,0.2648,0.2982,0.2777,0.2886,0.2682,0.2533,0.2566,0.2615,0.2522,0.2518,0.2498,0.2433,0.2418,0.2445,0.2554,0.2582,0.2574,0.2574,0.2445,0.2622,0.2572,0.2719,0.2707,0.2662,0.2666,0.2689,0.2711,0.2622,0.2662,0.2606,0.2445,0.2598,0.2644,0.2802,0.2861,0.2874,0.2885,0.3184,0.308,0.3138,0.2908,0.2825,0.3061,0.296,0.2805,0.2962,0.2915,0.2802,0.2927,0.2973,0.3059,0.3105,0.3382,0.3515,0.2998,0.3346,0.2992,0.2738,0.266,0.2481,0.241,0.246,0.2502,0.2464,0.2432,0.2271,0.2418,0.2394,0.2384,0.2376,0.2583,0.2624,0.2752,0.3359,0.2877,0.2415,0.2625,0.299,0.2968,0.2789,0.2854,0.2639,0.2654,0.2503,0.2558,0.2499,0.2385,0.2416,0.2742,0.2465,0.2226,0.2337,0.2436,0.2573,0.2358,0.2619,0.2575,0.2554,0.238,0.2546,0.2418,0.242,0.2248,0.2372,0.243,0.2365,0.2455,0.235,0.2301,0.2474,0.2577,0.2436,0.2524,0.2281,0.2304,0.248,0.2184,0.2045,0.1958,0.2002,0.2146,0.207,0.204,0.1932,0.2172,0.236,0.2826,0.2486,0.2118,0.2305,0.2298,0.2376,0.219,0.2148,0.1965,0.1986,0.1905,0.2166,0.188,0.1952,0.1906,0.1964,0.186,0.1801,0.1847,0.1846,0.171,0.1623,0.1682,0.1765,0.1896,0.1817,0.1996,0.2057,0.2084,0.2056,0.2018,0.2026,0.2058,0.2047,0.2052,0.1976,0.2002,0.2122,0.2183,0.2348,0.211,0.2196,0.2187,0.2086,0.2117,0.215,0.2368,0.2152,0.2044,0.2088,0.2055,0.2108,0.2206,0.187,0.1716,0.172,0.1694,0.1682,0.1734,0.1655,0.1589,0.164,0.1696,0.1609,0.1598,0.1579,0.1648,0.1795,0.1872,0.198,0.1876,0.173,0.1732,0.1703,0.181,0.1664,0.1625,0.173,0.1658,0.1657,0.162,0.1808,0.181,0.188,0.2006,0.1879,0.19,0.18,0.1776,0.2008,0.246,0.2394,0.219,0.2104,0.1962,0.2192,0.2756,0.281,0.2937,0.2488,0.2889,0.2632,0.2554,0.2428,0.2334,0.2354,0.2426,0.2278,0.2082,0.1924,0.2037,0.2007,0.2022,0.1952,0.2062,0.2088,0.2071,0.1772,0.1802,0.1879,0.1891,0.178,0.1798,0.183,0.1896,0.1872,0.1955,0.204,0.188,0.1832,0.1906,0.1843,0.1862,0.1972,0.187,0.2075,0.2172,0.2108,0.2687,0.2241,0.2592,0.2848,0.2556,0.3239,0.2663,0.2272,0.2138,0.2314,0.2166,0.2378,0.2653,0.255,0.2684,0.2713,0.2752,0.2394,0.2244,0.2176,0.2302,0.2414,0.2297,0.243,0.2381,0.2408,0.2676,0.3095,0.2988,0.3005,0.3016,0.2874,0.268,0.3278,0.2915,0.3338,0.33,0.3385,0.397,0.408,0.4859,0.3686,0.3549,0.307,0.2967,0.2606,0.2482,0.3218,0.2864,0.2866,0.2605,0.238,0.279,0.3275,0.3198,0.285,0.2666,0.3134,0.3148,0.3259,0.3451,0.3222,0.2956,0.3003,0.3518,0.3145,0.3233,0.3405,0.3916,0.3928,0.3359,0.339,0.3536,0.3655,0.3339,0.297,0.2716,0.2482,0.264,0.2441,0.2669,0.2566,0.259,0.2615,0.2526,0.2552,0.2774,0.275,0.2549,0.2648,0.3129,0.2972,0.3016,0.3534,0.3353,0.3171,0.3306,0.3351,0.322,0.3324,0.3683,0.4132,0.3949,0.4466,0.352,0.3166,0.3624,0.3401,0.3352,0.2836,0.3601,0.3533,0.4154,0.3882,0.4104,0.415,0.3562,0.3506,0.3127,0.3666,0.3478,0.3405,0.3298,0.3476,0.3302,0.3149,0.2835,0.3045,0.3062,0.288,0.2978,0.3002,0.2808,0.2779,0.3008,0.327,0.3896,0.357,0.3292,0.3671,0.3368,0.3294,0.3302,0.3264,0.302,0.3217,0.358,0.3426,0.3608,0.3318,0.349,0.3424,0.3294,0.3156,0.3351,0.3631,0.3511,0.3476,0.3296,0.3463,0.3314,0.3297,0.3196,0.3278,0.3338,0.3612,0.2685,0.2568,0.2428,0.254,0.2684,0.2482,0.242,0.2324,0.2478,0.252,0.2276,0.2298,0.2216,0.2176,0.2177,0.2295,0.2232,0.2348,0.2695,0.2686,0.2581,0.2497,0.2866,0.2998,0.3028,0.3003,0.3025,0.3028,0.3154,0.286,0.2878,0.2652,0.2719,0.3084,0.3103,0.3127,0.3103,0.3106,0.3256,0.3412,0.3248,0.3514,0.379,0.3916,0.3733,0.3892,0.3998,0.3661,0.3453,0.3632,0.3704,0.3889,0.4138,0.4223,0.4216,0.3995,0.4043,0.3964,0.3954,0.3935,0.3895,0.3786,0.3889,0.3708,0.3222,0.3399,0.3122,0.3279,0.3258,0.351,0.3305,0.3164,0.3191,0.3223,0.34,0.304,0.2958,0.3163,0.3116,0.3099,0.303,0.2949,0.2905,0.2762,0.2732,0.2666,0.2938,0.3,0.2657,0.265,0.2524,0.2779,0.2976,0.305,0.2932,0.2912,0.3136,0.289,0.2704,0.2962,0.2958,0.2914,0.2917,0.2832,0.306,0.3102,0.3436,0.3532,0.3365,0.3414,0.3612,0.3707,0.3785,0.3516,0.3514,0.3418,0.3406,0.3228,0.3104,0.3206,0.3256,0.3346,0.3046,0.309,0.3067,0.259,0.2473,0.2424,0.2593,0.2506,0.2376,0.2568,0.2658,0.259,0.2592,0.2828,0.302,0.2864,0.2957,0.2754,0.2652,0.2791,0.2758,0.3082,0.2986,0.2793,0.2882,0.2806,0.287,0.2817,0.2759,0.2586,0.2684,0.2669,0.271,0.2871,0.3118,0.321,0.2851,0.3118,0.2792,0.2923,0.2903,0.2725,0.2888,0.2902,0.2915,0.2962,0.3076,0.2837,0.2936,0.2784,0.2887,0.2862,0.3034,0.2877,0.2968,0.298,0.3013,0.2816,0.277,0.275,0.2742,0.2752,0.2828,0.272,0.2803,0.2952,0.2302,0.2156,0.2051,0.2112,0.2244,0.2241,0.2362,0.2084,0.2044,0.2134,0.197,0.2169,0.2012,0.2105,0.2077,0.1924,0.1854,0.1894,0.1903,0.2062,0.2312,0.2246,0.2244,0.2245,0.2229,0.2113,0.1982,0.1836,0.1854,0.2011,0.1908,0.1896,0.1993,0.2039,0.2064,0.2206,0.2163,0.2218,0.2265,0.2219,0.2344,0.2533,0.2672,0.2704,0.265,0.2676,0.2708,0.2774,0.2842,0.2828,0.2988,0.3062,0.2929,0.2978,0.2904,0.3032,0.3192,0.3175,0.3223,0.3209,0.3141,0.3368,0.2411,0.2466,0.2324,0.2448,0.2368,0.2496,0.2537,0.2481,0.2373,0.252,0.2474,0.2424,0.2422,0.2446,0.2513,0.2524,0.2526,0.2466,0.2492,0.2466,0.2503,0.2587,0.2413,0.2392,0.2167,0.2156,0.2107,0.2015,0.2161,0.2098,0.2267,0.2054,0.2012,0.2105,0.2027,0.1946,0.2026,0.2087,0.2094,0.232,0.257,0.2544,0.2759,0.3031,0.2907,0.2934,0.2843,0.2853,0.3228,0.3064,0.2892,0.2736,0.2908,0.286,0.2694,0.2778,0.2921,0.2772,0.2749,0.3004,0.3078,0.3124,0.3168,0.2778,0.2525,0.2642,0.2652,0.256,0.2404,0.2297,0.2073,0.1992,0.1942,0.1994,0.1958,0.1996,0.1974,0.2008,0.198,0.195,0.1961,0.1993,0.2039,0.2031,0.1844,0.1807,0.1799,0.1802,0.1835,0.1772,0.1784,0.1927,0.1939,0.193,0.1911,0.179,0.1877,0.184,0.1896,0.1972,0.1848,0.1908,0.1914,0.211,0.2147,0.2083,0.2514,0.2388,0.253,0.2499,0.2707,0.2701,0.2721,0.2643,0.2608,0.2688,0.2535,0.2679,0.258,0.2638,0.2672,0.2587,0.2487,0.2612,0.2534,0.2604,0.2658,0.2613,0.2648,0.2782,0.2098,0.1884,0.185,0.1966,0.1829,0.1798,0.1815,0.1804,0.1966,0.2016,0.1926,0.1966,0.1962,0.2039,0.2057,0.1942,0.1889,0.192,0.1882,0.189,0.1838,0.1816,0.191,0.2112],\"xaxis\":\"x\",\"y\":[154.4938201904297,152.57012939453125,152.96446228027344,151.56979370117188,153.98403930664062,155.90777587890625,155.1863555908203,157.0523681640625,155.94625854492188,156.95616149902344,159.83213806152344,160.7266845703125,160.1495361328125,159.38003540039062,160.36119079589844,158.7451934814453,156.09051513671875,159.1492462158203,161.63079833984375,166.19003295898438,163.73733520507812,167.72903442382812,173.2500457763672,173.0384521484375,176.62619018554688,176.8762969970703,181.5028533935547,177.40530395507812,177.66505432128906,176.70315551757812,178.28060913085938,180.0889129638672,180.6290283203125,177.87057495117188,172.24765014648438,164.82110595703125,162.10121154785156,164.1266326904297,152.56246948242188,156.2564697265625,166.65357971191406,158.6676483154297,164.49314880371094,160.36517333984375,155.8320770263672,145.2709197998047,155.20513916015625,148.17408752441406,134.12144470214844,153.18942260742188,130.61074829101562,141.3647918701172,135.4138641357422,137.64187622070312,132.4722137451172,131.15087890625,143.07192993164062,141.70236206054688,150.56597900390625,144.3836212158203,154.5396728515625,152.10914611816406,146.70803833007812,149.7461700439453,148.36692810058594,159.40069580078125,157.68389892578125,159.26564025878906,159.27525329589844,159.6321258544922,167.53131103515625,165.77590942382812,170.75265502929688,172.25729370117188,168.84300231933594,161.86012268066406,167.35765075683594,165.33229064941406,168.35110473632812,167.8688507080078,163.7794189453125,171.12879943847656,172.8456268310547,168.3704071044922,172.48876953125,174.34056091308594,176.05735778808594,177.0797119140625,178.121337890625,180.1082000732422,176.0284423828125,173.36647033691406,174.1187286376953,176.65533447265625,178.3432159423828,177.10861206054688,179.56527709960938,177.408447265625,177.48582458496094,175.60952758789062,175.84164428710938,175.44509887695312,177.23439025878906,176.82818603515625,178.8398895263672,179.27511596679688,176.91519165039062,181.0547332763672,182.17665100097656,183.56939697265625,190.37826538085938,180.15525817871094,181.57699584960938,182.73757934570312,187.21559143066406,187.8636016845703,189.8753204345703,188.7437744140625,193.98583984375,195.28182983398438,191.34542846679688,193.76336669921875,189.88499450683594,191.92575073242188,196.82931518554688,197.98019409179688,199.489013671875,203.78326416015625,201.41368103027344,205.84336853027344,207.2844696044922,206.65576171875,200.2724609375,201.5104217529297,201.21058654785156,197.225830078125,196.21998596191406,204.65371704101562,201.89730834960938,204.79876708984375,195.89112854003906,194.69183349609375,197.15817260742188,195.3882293701172,197.36123657226562,197.2064971923828,198.28004455566406,209.4315643310547,206.2882537841797,205.94972229003906,209.247802734375,205.50482177734375,201.41368103027344,196.70358276367188,202.32286071777344,201.8489227294922,202.04237365722656,203.37704467773438,204.54733276367188,203.3063507080078,208.03758239746094,206.52513122558594,207.17471313476562,209.8699493408203,214.4072723388672,219.67172241210938,221.93064880371094,218.65371704101562,220.34066772460938,224.5871124267578,210.67466735839844,207.7176055908203,196.48098754882812,204.84788513183594,199.10838317871094,197.80923461914062,199.14715576171875,202.41439819335938,198.7981414794922,196.72340393066406,194.28021240234375,196.3646697998047,201.0958709716797,194.47410583496094,196.99484252929688,201.48365783691406,203.05430603027344,200.9407501220703,203.91717529296875,205.9822235107422,199.90338134765625,203.9656524658203,199.63194274902344,203.43238830566406,204.1595458984375,209.2301025390625,214.64967346191406,216.06512451171875,214.1260986328125,212.9627227783203,212.9627227783203,207.6885528564453,208.10543823242188,208.2508544921875,208.33811950683594,209.63722229003906,203.6747589111328,206.74813842773438,196.50038146972656,198.4781951904297,196.2967987060547,196.1610565185547,200.13604736328125,209.79237365722656,216.4820098876953,216.89891052246094,211.73138427734375,204.576416015625,209.94749450683594,208.87136840820312,209.90870666503906,210.6067657470703,207.92124938964844,205.18006896972656,206.48260498046875,204.5093536376953,204.2371826171875,207.8823699951172,207.8920440673828,209.2140655517578,208.0865020751953,210.16668701171875,209.35012817382812,208.25177001953125,208.36837768554688,208.30032348632812,209.9722900390625,205.87994384765625,204.63571166992188,207.2991180419922,208.2128448486328,208.1448211669922,213.15087890625,213.2869415283203,212.4801483154297,216.3683319091797,217.6806182861328,214.8422393798828,216.5238800048828,218.67208862304688,217.88473510742188,215.4838104248047,216.2030792236328,211.6053009033203,211.80941772460938,206.3173370361328,212.18853759765625,213.4813690185547,211.410888671875,208.92245483398438,210.29302978515625,207.0658416748047,206.7061767578125,210.3902587890625,218.0694122314453,218.68182373046875,219.63441467285156,223.11434936523438,225.83612060546875,226.39016723632812,232.25161743164062,225.47642517089844,232.9514923095703,232.8154296875,236.2078857421875,235.24551391601562,235.43019104003906,235.69265747070312,236.95631408691406,236.03292846679688,237.65621948242188,238.1422119140625,236.88829040527344,237.92103576660156,237.5215606689453,234.77407836914062,228.4801788330078,227.27207946777344,228.5191650390625,223.1021270751953,226.40496826171875,230.84771728515625,227.85662841796875,221.7089080810547,220.9002227783203,225.64501953125,221.54324340820312,227.76898193359375,226.44390869140625,231.03280639648438,229.68829345703125,228.77249145507812,231.59791564941406,230.94512939453125,224.78765869140625,224.42715454101562,229.92213439941406,231.47125244140625,229.40579223632812,226.36598205566406,230.39952087402344,229.19142150878906,225.8885955810547,229.70777893066406,236.1186065673828,242.66580200195312,241.48692321777344,243.47442626953125,246.7383575439453,249.271484375,249.32994079589844,251.84361267089844,249.0181884765625,252.82762145996094,254.03570556640625,252.08717346191406,251.61952209472656,253.87985229492188,250.55755615234375,254.43524169921875,254.8249053955078,255.234130859375,248.01463317871094,246.01736450195312,245.69583129882812,245.3840789794922,241.41873168945312,240.1326446533203,243.30882263183594,245.96864318847656,240.8243865966797,239.89886474609375,232.85472106933594,236.78111267089844,241.7694549560547,238.87582397460938,236.829833984375,237.41574096679688,240.6968994140625,239.4176483154297,244.8960418701172,245.81396484375,245.58938598632812,243.46051025390625,243.82183837890625,241.59536743164062,241.49769592285156,239.94496154785156,244.90576171875,247.85494995117188,246.64401245117188,247.6400909423828,251.20445251464844,251.83920288085938,253.7922821044922,252.2982177734375,251.34117126464844,254.77857971191406,253.34310913085938,256.468017578125,259.2804260253906,259.0460510253906,260.4327087402344,258.8018798828125,262.4151306152344,265.0321960449219,264.5439758300781,265.2275390625,271.1355285644531,271.1454162597656,273.3620910644531,270.9110107421875,271.4187927246094,270.8133239746094,274.387451171875,275.881591796875,274.436279296875,274.162841796875,270.5106201171875,272.7663879394531,274.797607421875,279.4264221191406,282.8735656738281,282.2680969238281,279.8170166015625,279.5045166015625,279.7779235839844,278.22528076171875,278.1373596191406,280.3834228515625,279.7877197265625,282.7270202636719,282.66851806640625,281.56500244140625,279.7193603515625,280.21734619140625,283.0102233886719,285.97900390625,287.6878662109375,286.2034912109375,284.45220947265625,290.36175537109375,297.78790283203125,298.0716247558594,296.08544921875,295.4886474609375,292.63165283203125,293.2480773925781,297.0345458984375,295.3614501953125,295.3125305175781,294.6471862792969,294.6374206542969,293.6981201171875,293.72747802734375,290.8314514160156,289.32464599609375,290.5770263671875,293.31658935546875,298.2379455566406,298.62933349609375,293.3948669433594,287.945068359375,288.4342956542969,292.1326599121094,293.09149169921875,292.88604736328125,287.81793212890625,277.39788818359375,277.8675537109375,275.83245849609375,282.85736083984375,276.9967041015625,282.5247802734375,286.78076171875,288.4832458496094,288.4832458496094,287.8766784667969,286.55584716796875,289.9117431640625,296.212646484375,297.64111328125,300.6546630859375,301.5743408203125,300.7720642089844,304.0496520996094,302.4842224121094,301.47650146484375,303.4137268066406,316.19171142578125,317.34625244140625,324.45928955078125,322.2579040527344,325.9366455078125,326.787841796875,329.1752014160156,328.8033752441406,329.7132873535156,328.6958312988281,323.656982421875,325.25177001953125,329.4491271972656,328.8132019042969,332.17889404296875,332.40435791015625,334.5118103027344,336.3153381347656,333.1002502441406,330.9928283691406,331.2183532714844,323.1512756347656,329.96368408203125,324.04327392578125,323.5434265136719,322.96502685546875,316.61334228515625,319.73040771484375,328.28753662109375,328.3365478515625,326.50360107421875,335.7566833496094,332.6788024902344,321.8377990722656,328.02288818359375,318.4659118652344,317.3877258300781,313.5747985839844,320.8086242675781,326.6015930175781,328.0621032714844,335.66839599609375,334.4921569824219,335.1783142089844,332.60040283203125,329.6597900390625,328.1209411621094,322.49456787109375,310.1146545410156,307.6641845703125,307.82098388671875,308.0464782714844,308.7424011230469,311.9672546386719,298.76397705078125,304.05706787109375,296.65655517578125,297.3231201171875,295.62738037109375,290.1676025390625,290.5008850097656,282.7769470214844,290.834228515625,293.9022216796875,302.1554870605469,304.8216552734375,302.6455993652344,307.25250244140625,295.2843017578125,299.8814697265625,294.990234375,298.52874755859375,305.0470275878906,296.3919677734375,289.197265625,289.1580810546875,294.51971435546875,294.1759338378906,285.56182861328125,282.8116149902344,282.6053466796875,275.28778076171875,289.3532409667969,292.02490234375,293.4785461425781,289.7068176269531,294.85369873046875,290.6596374511719,284.7073669433594,273.9519958496094,270.9463806152344,283.3714904785156,280.51324462890625,275.09136962890625,271.5259094238281,282.0455017089844,289.1568298339844,289.9720153808594,295.0894470214844,293.84197998046875,298.6549377441406,294.1661376953125,298.6942443847656,298.2817077636719,305.1768493652344,309.8031005859375,308.2806701660156,302.8293762207031,303.9195861816406,309.3709716796875,305.35369873046875,294.1759338378906,296.0127258300781,291.69091796875,280.1890563964844,277.04595947265625,282.5071105957031,274.8555908203125,275.5333557128906,280.2283630371094,281.26953125,275.8182067871094,269.15869140625,275.7298278808594,265.4164733886719,278.18536376953125,284.48138427734375,272.586669921875,279.41314697265625,276.77093505859375,284.8251647949219,272.4197082519531,269.8462829589844,259.8766784667969,264.709228515625,255.91836547851562,250.810791015625,256.4782409667969,256.8514709472656,262.076904296875,250.14463806152344,249.21917724609375,248.64817810058594,256.6128845214844,255.59877014160156,258.4538879394531,261.78155517578125,269.0078430175781,267.6590576171875,268.2005920410156,270.32708740234375,265.83770751953125,264.58740234375,268.279296875,266.2217102050781,260.6887512207031,249.07151794433594,238.5076904296875,240.7031707763672,247.86058044433594,241.17572021484375,243.814208984375,249.8098907470703,249.20933532714844,254.85057067871094,263.5537414550781,260.7872009277344,252.50746154785156,256.22894287109375,252.8520050048828,255.55943298339844,258.77880859375,262.08673095703125,264.2428283691406,263.5143127441406,260.4130859375,249.740966796875,248.80569458007812,250.14463806152344,252.74375915527344,250.31199645996094,255.51022338867188,258.2077331542969,260.73797607421875,256.327392578125,254.821044921875,247.9983673095703,264.57757568359375,272.1287841796875,276.39166259765625,273.7039794921875,270.56341552734375,278.09490966796875,279.2566223144531,278.528076171875,275.97821044921875,277.92755126953125,284.6813049316406,282.574462890625,287.388671875,288.9245300292969,288.17626953125,287.4166259765625,286.28204345703125,282.3158874511719,274.0284423828125,272.7359924316406,272.0947265625,275.11370849609375,264.49786376953125,261.6761779785156,259.4464416503906,257.966552734375,256.910888671875,252.62905883789062,249.85670471191406,254.63185119628906,255.0560760498047,260.91650390625,263.0771789550781,248.61358642578125,248.8404998779297,242.0921630859375,241.46075439453125,241.24366760253906,239.201416015625,235.74830627441406,237.7510986328125,234.7321014404297,234.2683868408203,233.24234008789062,237.8399200439453,234.31773376464844,229.77938842773438,237.5143280029297,245.54527282714844,245.8609619140625,243.48324584960938,231.1014404296875,226.1782684326172,222.38973999023438,222.7251739501953,231.1014404296875,225.49752807617188,234.34735107421875,235.30435180664062,233.3114013671875,232.98582458496094,238.8758544921875,243.93710327148438,247.30140686035156,228.22055053710938,223.71180725097656,232.70957946777344,229.0196990966797,225.11273193359375,217.15087890625,211.37925720214844,218.423583984375,224.81675720214844,225.80337524414062,221.5017852783203,239.7243194580078,243.79896545410156,238.3134765625,238.72784423828125,239.1631622314453,239.1136932373047,238.6585693359375,239.47976684570312,242.42811584472656,244.9510498046875,244.86203002929688,239.1928253173828,237.7780303955078,252.43077087402344,251.9855499267578,252.31204223632812,247.54322814941406,242.5171661376953,241.775146484375,244.77296447753906,242.81396484375,249.82867431640625,254.19187927246094,254.48870849609375,246.36585998535156,242.0917510986328,237.8967742919922,239.232421875,241.83448791503906,235.66075134277344,236.19500732421875,234.44381713867188,232.0396270751953,238.4508056640625,237.27346801757812,237.0360107421875,226.66729736328125,219.9493865966797,222.5415496826172,224.7082977294922,226.41993713378906,233.26644897460938,235.9773712158203,236.68971252441406,237.79782104492188,233.30601501464844,229.46722412109375,237.669189453125,240.004150390625,239.46987915039062,238.0550537109375,245.3665771484375,245.52490234375,240.13275146484375,245.1785888671875,250.06614685058594,261.79034423828125,255.60671997070312,254.04344177246094,264.7188720703125,263.897705078125,260.82073974609375,260.3062438964844,268.43896484375,269.27996826171875,267.12762451171875,260.0159606933594,255.95928955078125,250.61314392089844,249.46258544921875,252.696044921875,247.1912384033203,248.1235809326172,247.3896026611328,244.26524353027344,249.0658416748047,253.21180725097656,254.77896118164062,252.08108520507812,251.63475036621094,250.2659912109375,246.56637573242188,251.85296630859375,258.66705322265625,263.2792053222656,273.95159912109375,277.1553039550781,270.013916015625,271.55126953125,270.07342529296875,275.3996887207031,278.2860412597656,274.130126953125,272.989501953125,278.2265319824219,281.7376708984375,285.95306396484375,284.8918151855469,284.84222412109375,282.02532958984375,289.22625732421875,287.03424072265625,280.5276184082031,281.1822509765625,287.4805603027344,283.81072998046875,286.4490051269531,286.0224914550781,286.1018981933594,283.7809143066406,283.43377685546875,279.4762268066406,273.1779479980469,292.9655456542969,302.3485412597656,304.75872802734375,303.0726013183594,302.923828125,301.9220275878906,302.923828125,308.1211242675781,306.137451171875,304.5008544921875,309.7676086425781,307.5855407714844,306.454833984375,306.9408264160156,309.2023010253906,312.1247253417969,316.6177062988281,316.4388122558594,319.2618408203125,313.3772277832031,311.9756164550781,323.9735412597656,330.9019470214844,329.2319641113281,326.4288024902344,330.59375,333.3968811035156,333.9337158203125,331.68719482421875,321.4486999511719,323.3175048828125,324.8383483886719,329.86810302734375,332.2935485839844,335.3253479003906,346.0210876464844,340.2855224609375,336.0310974121094,331.5679016113281,337.68115234375,333.0191650390625,326.6375427246094,332.5718688964844,333.84423828125,333.0489807128906,338.5062255859375,335.971435546875,336.1304931640625,339.23187255859375,335.2060546875,329.84820556640625,330.48443603515625,335.1861877441406,340.61358642578125,343.1781311035156,343.66522216796875,357.3430480957031,352.9593505859375,344.7984313964844,341.7169189453125,343.0489196777344,348.8838806152344,335.75274658203125,328.7448425292969,336.34918212890625,333.913818359375,334.331298828125,325.5440979003906,324.7091369628906,325.8224182128906,328.1385192871094,324.1027526855469,320.30560302734375,321.00140380859375,319.0928649902344,322.1047668457031,319.9377746582031,319.1607971191406,315.6544494628906,315.2559814453125,320.6351013183594,321.21282958984375,325.73529052734375,318.73248291015625,321.7308349609375,322.44805908203125,327.13983154296875,327.51837158203125,326.49237060546875,327.38885498046875,332.2599182128906,331.5925598144531,328.634033203125,332.9771423339844,336.6329650878906,330.48681640625,334.76025390625,337.3900146484375,328.94281005859375,327.78729248046875,327.3788757324219,319.5293884277344,318.294189453125,315.783935546875,316.3118896484375,310.9327697753906,311.5802307128906,312.4269714355469,314.52880859375,320.5553894042969,312.17791748046875,317.72637939453125,318.12481689453125,325.9942932128906,328.54437255859375,327.11993408203125,331.13433837890625,329.87921142578125,326.4624938964844,331.3534851074219,330.77569580078125,328.833251953125,330.03857421875,325.4065856933594,328.04632568359375,329.25164794921875,339.3524475097656,326.6218566894531,328.534423828125,336.0054016113281,336.80230712890625,344.7315368652344,346.97283935546875,351.43548583984375,355.15106201171875,359.1356201171875,361.7952880859375,359.29498291015625,368.2402648925781,365.2618103027344,368.8379211425781,368.9876708984375,375.4756774902344,369.1673278808594,376.7433166503906,372.3813781738281,377.1525573730469,376.7333068847656,377.9111328125,381.9936218261719,378.15069580078125,378.2106018066406,373.8187255859375,368.4586486816406,371.8323669433594,368.1192321777344,370.2652893066406,373.53924560546875,370.6146240234375,373.68896484375,373.678955078125,365.2545471191406,370.04571533203125,371.9621276855469,372.571044921875,369.9358825683594,372.85052490234375,373.8885803222656,373.96844482421875,373.3795471191406,374.5872802734375,375.34588623046875,370.1854248046875,369.9159240722656,367.2608337402344,367.0711975097656,373.9983825683594,375.09637451171875,382.0634460449219,383.9200439453125,387.7529602050781,389.54962158203125,388.7510986328125,393.1429748535156,397.93414306640625,395.7781066894531,398.1636962890625,401.8169250488281,404.1226806640625,403.1844177246094,408.9637145996094,407.8358154296875,396.84613037109375,403.0346984863281,410.4609680175781,404.9012451171875,404.74151611328125,413.28570556640625,413.3456115722656,419.7737121582031,414.4934997558594,405.57000732421875,409.489990234375,406.55999755859375,404.05999755859375,402.7900085449219,402.17999267578125,411.6499938964844,410.3399963378906,407.5400085449219,407.4800109863281,407.7200012207031,413.6400146484375,415.5,414.9200134277344,402.6499938964844],\"yaxis\":\"y\",\"type\":\"scattergl\"},{\"hovertemplate\":\"\\u003cb\\u003eLOWESS trendline\\u003c\\u002fb\\u003e\\u003cbr\\u003e\\u003cbr\\u003eivmean30=%{x}\\u003cbr\\u003eAdj Close=%{y} \\u003cb\\u003e(trend)\\u003c\\u002fb\\u003e\\u003cextra\\u003e\\u003c\\u002fextra\\u003e\",\"legendgroup\":\"\",\"marker\":{\"color\":\"#636efa\",\"symbol\":\"circle\"},\"mode\":\"lines\",\"name\":\"\",\"showlegend\":false,\"x\":[0.1579,0.1589,0.1598,0.1609,0.162,0.1623,0.1625,0.164,0.1648,0.1655,0.1657,0.1658,0.1664,0.1682,0.1682,0.1694,0.1696,0.1703,0.171,0.1716,0.172,0.173,0.173,0.1732,0.1734,0.1765,0.1772,0.1772,0.1776,0.178,0.1784,0.179,0.1795,0.1798,0.1798,0.1799,0.18,0.1801,0.1802,0.1802,0.1804,0.1807,0.1808,0.181,0.181,0.1815,0.1816,0.1817,0.1829,0.183,0.1832,0.1835,0.1836,0.1838,0.184,0.1843,0.1844,0.1846,0.1847,0.1848,0.185,0.1854,0.1854,0.186,0.1862,0.187,0.187,0.1872,0.1872,0.1876,0.1877,0.1879,0.1879,0.188,0.188,0.188,0.1882,0.1884,0.1889,0.189,0.1891,0.1894,0.1896,0.1896,0.1896,0.1896,0.19,0.1903,0.1905,0.1906,0.1906,0.1908,0.1908,0.191,0.1911,0.1914,0.192,0.1924,0.1924,0.1926,0.1927,0.193,0.1932,0.1939,0.1942,0.1942,0.1946,0.195,0.1952,0.1952,0.1955,0.1958,0.1958,0.1961,0.1962,0.1962,0.1964,0.1965,0.1966,0.1966,0.1966,0.197,0.1972,0.1972,0.1974,0.1976,0.198,0.198,0.198,0.1982,0.1986,0.1992,0.1993,0.1993,0.1994,0.1996,0.1996,0.2002,0.2002,0.2006,0.2007,0.2008,0.2008,0.2011,0.2012,0.2012,0.2015,0.2016,0.2018,0.2022,0.2026,0.2026,0.2027,0.2031,0.2037,0.2039,0.2039,0.2039,0.204,0.204,0.2044,0.2044,0.2045,0.2047,0.2051,0.2052,0.2054,0.2055,0.2056,0.2057,0.2057,0.2058,0.2061,0.2062,0.2062,0.2064,0.207,0.2071,0.2073,0.2075,0.2077,0.2082,0.2083,0.2084,0.2084,0.2086,0.2087,0.2088,0.2088,0.2088,0.2094,0.2098,0.2098,0.2102,0.2104,0.2105,0.2105,0.2107,0.2108,0.2108,0.211,0.211,0.2111,0.2112,0.2112,0.2113,0.2117,0.2118,0.2122,0.2134,0.2136,0.2138,0.2146,0.2147,0.2148,0.215,0.215,0.2152,0.2156,0.2156,0.2156,0.2159,0.2161,0.2161,0.2163,0.2164,0.2166,0.2166,0.2166,0.2167,0.2169,0.2172,0.2172,0.2176,0.2176,0.2177,0.2183,0.2184,0.2187,0.219,0.219,0.2192,0.2196,0.2196,0.2202,0.2206,0.2206,0.2216,0.2218,0.2219,0.2225,0.2226,0.2229,0.2231,0.2232,0.2241,0.2241,0.2244,0.2244,0.2244,0.2245,0.2246,0.2248,0.2265,0.2265,0.2266,0.2267,0.2269,0.2271,0.2272,0.2276,0.2278,0.2281,0.2284,0.2295,0.2297,0.2297,0.2298,0.2298,0.2298,0.2301,0.2302,0.2302,0.2304,0.2305,0.2305,0.2312,0.2314,0.232,0.2324,0.2324,0.2334,0.2337,0.2344,0.2348,0.2348,0.235,0.2354,0.2356,0.2358,0.236,0.2362,0.2364,0.2365,0.2368,0.2368,0.2372,0.2373,0.2376,0.2376,0.2376,0.2378,0.238,0.238,0.2381,0.2382,0.2384,0.2385,0.2388,0.2392,0.2394,0.2394,0.2394,0.24,0.2404,0.2408,0.2408,0.241,0.2411,0.2413,0.2414,0.2415,0.2416,0.2418,0.2418,0.2418,0.242,0.242,0.242,0.2422,0.2424,0.2424,0.2426,0.2428,0.2428,0.243,0.243,0.2432,0.2433,0.2436,0.2436,0.2441,0.2445,0.2445,0.2445,0.2446,0.2448,0.2455,0.2458,0.246,0.246,0.2464,0.2465,0.2465,0.2466,0.2466,0.2466,0.2473,0.2474,0.2474,0.2478,0.248,0.2481,0.2481,0.2482,0.2482,0.2482,0.2482,0.2486,0.2487,0.2488,0.2492,0.2496,0.2497,0.2498,0.2499,0.2499,0.2502,0.2503,0.2503,0.2506,0.2508,0.2508,0.2513,0.2514,0.2518,0.252,0.252,0.2522,0.2523,0.2524,0.2524,0.2524,0.2525,0.2526,0.2526,0.253,0.2533,0.2533,0.2534,0.2535,0.2537,0.254,0.2544,0.2546,0.2549,0.255,0.2552,0.2554,0.2554,0.2554,0.2556,0.2558,0.256,0.256,0.2566,0.2566,0.2568,0.2568,0.257,0.2572,0.2573,0.2574,0.2574,0.2575,0.2577,0.258,0.2581,0.2582,0.2583,0.2584,0.2586,0.2587,0.2587,0.259,0.259,0.259,0.2592,0.2592,0.2593,0.2598,0.2604,0.2605,0.2606,0.2606,0.2608,0.2609,0.2612,0.2613,0.2615,0.2615,0.2616,0.2619,0.2622,0.2622,0.2624,0.2624,0.2625,0.2632,0.2638,0.2639,0.264,0.2642,0.2643,0.2644,0.2648,0.2648,0.2648,0.265,0.265,0.2652,0.2652,0.2652,0.2653,0.2654,0.2657,0.2658,0.2658,0.266,0.2662,0.2662,0.2663,0.2666,0.2666,0.2666,0.2669,0.2669,0.2672,0.2672,0.2676,0.2676,0.2676,0.2679,0.268,0.2682,0.2684,0.2684,0.2684,0.2684,0.2685,0.2686,0.2687,0.2688,0.2689,0.2694,0.2695,0.2701,0.2702,0.2704,0.2704,0.2707,0.2707,0.2708,0.271,0.2711,0.2713,0.2716,0.2719,0.2719,0.272,0.2721,0.2722,0.2724,0.2724,0.2725,0.2727,0.2732,0.2736,0.2738,0.2738,0.2742,0.2742,0.2749,0.275,0.275,0.275,0.275,0.2752,0.2752,0.2752,0.2754,0.2756,0.2758,0.2758,0.2759,0.2759,0.2762,0.277,0.277,0.2772,0.2772,0.2773,0.2774,0.2774,0.2777,0.2778,0.2778,0.2779,0.2779,0.2782,0.2784,0.2789,0.279,0.2791,0.2792,0.2792,0.2793,0.2796,0.2796,0.2802,0.2802,0.2802,0.2803,0.2805,0.2806,0.2808,0.281,0.2816,0.2817,0.2825,0.2826,0.2828,0.2828,0.2828,0.283,0.2832,0.2835,0.2836,0.2837,0.2837,0.2842,0.2843,0.2848,0.285,0.2851,0.2853,0.2854,0.286,0.286,0.2861,0.2862,0.2864,0.2864,0.2866,0.2866,0.2866,0.287,0.2871,0.2874,0.2874,0.2877,0.2877,0.2878,0.288,0.2882,0.2885,0.2886,0.2887,0.2888,0.2889,0.289,0.2892,0.2902,0.2903,0.2904,0.2905,0.2907,0.2908,0.2908,0.2908,0.2912,0.2914,0.2915,0.2915,0.2915,0.2917,0.2918,0.2921,0.2923,0.2927,0.2929,0.2932,0.2932,0.2932,0.2933,0.2934,0.2936,0.2937,0.2938,0.2946,0.2948,0.2949,0.2952,0.2953,0.2956,0.2957,0.2958,0.2958,0.296,0.2962,0.2962,0.2962,0.2967,0.2968,0.2968,0.297,0.2972,0.2972,0.2973,0.2976,0.2978,0.2978,0.298,0.2982,0.2986,0.2988,0.2988,0.299,0.2992,0.2998,0.2998,0.3,0.3002,0.3003,0.3003,0.3004,0.3005,0.3008,0.3012,0.3013,0.3016,0.3016,0.3016,0.302,0.302,0.3025,0.3028,0.3028,0.303,0.3031,0.3032,0.3034,0.304,0.3045,0.3046,0.305,0.3056,0.3058,0.3058,0.3059,0.306,0.3061,0.3062,0.3062,0.3064,0.3067,0.307,0.3076,0.3078,0.308,0.3082,0.3084,0.3088,0.309,0.3094,0.3095,0.3099,0.3102,0.3103,0.3103,0.3103,0.3104,0.3105,0.3106,0.3116,0.3118,0.3118,0.3122,0.3124,0.3127,0.3127,0.3128,0.3129,0.3134,0.3134,0.3136,0.3138,0.3141,0.3145,0.3148,0.3149,0.3154,0.3156,0.316,0.3163,0.3164,0.3166,0.3168,0.3171,0.3171,0.3175,0.3179,0.3184,0.3191,0.3192,0.3195,0.3196,0.3198,0.3206,0.3209,0.321,0.3216,0.3217,0.3218,0.322,0.322,0.3222,0.3222,0.3223,0.3223,0.3223,0.3228,0.3228,0.3233,0.3237,0.3238,0.3238,0.3239,0.3248,0.3248,0.3249,0.3252,0.3256,0.3256,0.3258,0.3258,0.3259,0.3264,0.327,0.3275,0.3278,0.3278,0.3279,0.3282,0.3292,0.3294,0.3294,0.3296,0.3297,0.3298,0.33,0.3302,0.3302,0.3302,0.3304,0.3305,0.3306,0.3308,0.3314,0.3318,0.3324,0.3329,0.3338,0.3338,0.3338,0.3339,0.3339,0.3344,0.3345,0.3346,0.3346,0.3351,0.3351,0.3351,0.3352,0.3353,0.3359,0.3359,0.3362,0.3365,0.3368,0.3368,0.3368,0.3372,0.3375,0.3375,0.338,0.3382,0.3385,0.339,0.3392,0.3399,0.34,0.3401,0.3405,0.3405,0.3406,0.3408,0.3412,0.3412,0.3414,0.3418,0.342,0.3423,0.3424,0.3424,0.3426,0.3429,0.3436,0.3436,0.3437,0.3451,0.3453,0.3453,0.3456,0.3463,0.3474,0.3476,0.3476,0.3478,0.3483,0.349,0.3493,0.3496,0.3506,0.351,0.3511,0.3514,0.3514,0.3515,0.3516,0.3516,0.3516,0.3518,0.352,0.3532,0.3533,0.3534,0.3536,0.3549,0.3556,0.3562,0.3565,0.3569,0.357,0.357,0.358,0.3597,0.3601,0.3601,0.3605,0.3608,0.3612,0.3612,0.3614,0.3616,0.3624,0.3631,0.3632,0.3634,0.3634,0.3637,0.3655,0.366,0.3661,0.3661,0.3666,0.3667,0.3671,0.3675,0.3677,0.3683,0.3686,0.369,0.3692,0.37,0.3704,0.3705,0.3707,0.3708,0.3713,0.3727,0.3733,0.374,0.3744,0.3753,0.3758,0.3764,0.378,0.3785,0.3786,0.379,0.3792,0.3794,0.38,0.38,0.3813,0.3821,0.3833,0.3842,0.385,0.3874,0.3876,0.3881,0.3882,0.3889,0.3889,0.3892,0.3895,0.3896,0.3906,0.3916,0.3916,0.3928,0.3935,0.3949,0.3954,0.3964,0.3965,0.397,0.3974,0.3985,0.3995,0.3998,0.401,0.4013,0.4031,0.4043,0.4045,0.4052,0.4057,0.4074,0.408,0.4084,0.4104,0.4132,0.4138,0.415,0.4154,0.4159,0.421,0.4216,0.4223,0.4232,0.4244,0.4249,0.425,0.4294,0.4357,0.4386,0.4417,0.4466,0.4586,0.4674,0.4744,0.4754,0.4802,0.4859,0.4995,0.501,0.5101,0.5108,0.511,0.5112,0.5217,0.5242,0.5243,0.5259,0.5549,0.574,0.5815,0.5961,0.6127,0.6136,0.6524,0.7361,0.7396,0.754,0.8102,0.888],\"xaxis\":\"x\",\"y\":[332.75345921828955,332.13652623167366,331.5794550659283,330.8962388072539,330.2104528986494,330.0229780197767,329.8978901472483,328.95710031019536,328.45348440015664,328.0117869068781,327.8854136357665,327.82219834421306,327.44251048542645,326.299531090898,326.299531090898,325.53448605525,325.4067564612821,324.95922948770124,324.51100024425193,324.1262802739466,323.8695483479062,323.2269099610392,323.2269099610392,323.0982541619533,322.969558816398,320.97084095320827,320.51883462960114,320.51883462960114,320.26049384384356,320.0021320466392,319.7437624898003,319.3562225757905,319.03331379029515,318.83959767484936,318.83959767484936,318.7750317082362,318.7104691083873,318.64591006476985,318.5813547692748,318.5813547692748,318.4522562070999,318.2586412920238,318.19411250833156,318.0650703091861,318.0650703091861,317.74256308145584,317.6780799922102,317.61360345537344,316.84046155792635,316.7760866320978,316.6473642133529,316.45435176758093,316.3900339568415,316.2614288482076,316.1328655023478,315.94010149204973,315.87586902093307,315.7474382507102,315.68324023273556,315.61905398689555,315.4907174191637,315.23419205846994,315.23419205846994,314.8497902569356,314.7217637586917,314.21022543174587,314.21022543174587,314.08248852684966,314.08248852684966,313.8272000606402,313.7634174169297,313.63590052888503,313.63590052888503,313.57216657202326,313.57216657202326,313.57216657202326,313.44474836576285,313.31739744550026,312.99932202547103,312.935759791126,312.8722154832661,312.6816913201384,312.5547670289857,312.5547670289857,312.5547670289857,312.5547670289857,312.30114300423116,312.1111250628664,311.9845434291703,311.9212820542863,311.9212820542863,311.7948187897718,311.7948187897718,311.6684356640016,311.6052744490024,311.41591349080716,311.0377525381178,310.7860688040991,310.7860688040991,310.6603560784976,310.59753229177875,310.4091921264037,310.2837420129004,309.845367577467,309.6578304174767,309.6578304174767,309.4080995788002,309.1587353109254,309.03419130627157,309.03419130627157,308.84754857798134,308.66111445740455,308.66111445740455,308.47488962226237,308.41286129153633,308.41286129153633,308.28887464459876,308.2269163436194,308.1649814055631,308.1649814055631,308.1649814055631,307.9174753627576,307.7938624541624,307.7938624541624,307.67034282040146,307.54691627407783,307.3003414487217,307.3003414487217,307.3003414487217,307.177192658265,306.931170915634,306.5628230723377,306.5015111267665,306.5015111267665,306.44022173124074,306.31771033562035,306.31771033562035,305.95071008138774,305.95071008138774,305.7064820477937,305.6454791903279,305.5844978396162,305.5844978396162,305.4016820141194,305.34078585919275,305.34078585919275,305.1582234525673,305.0974110027752,304.9758479894209,304.73296623093125,304.4904037586665,304.4904037586665,304.4298120900123,304.1876372508421,303.8249346009072,303.7041779461697,303.7041779461697,303.7041779461697,303.64382591531887,303.64382591531887,303.402588734675,303.402588734675,303.34232120429897,303.22183488359786,302.98105170261584,302.92089421508473,302.80062377593435,302.7405104089299,302.6804113263317,302.6203263127622,302.6203263127622,302.5602551532855,302.380122614891,302.32010467995303,302.32010467995303,302.2001068393704,301.84040072971504,301.78048906552374,301.660697213156,301.54094561138254,301.4212321148515,301.1221002362143,301.0622975457172,301.0025020434717,301.0025020434717,300.8829313371496,300.82315549281316,300.763385556197,300.763385556197,300.763385556197,300.404871492723,300.16593760838475,300.16593760838475,299.92703703746236,299.80759142090886,299.7478683644273,299.7478683644273,299.62841968184995,299.56869320340365,299.56869320340365,299.44923378301127,299.44923378301127,299.38949994325066,299.32976274003846,299.32976274003846,299.27002171064225,299.03100970389505,298.9712422559687,298.732099491122,298.0136804731728,297.893752026914,297.77375590491135,297.2929913001275,297.2327968307891,297.1725780540013,297.05206467426615,297.05206467426615,296.93144529787077,296.68986467102866,296.68986467102866,296.68986467102866,296.50835583546217,296.38718405142254,296.38718405142254,296.2658719436429,296.2051611873172,296.0836260065886,296.0836260065886,296.0836260065886,296.0227998530449,295.90102604060667,295.71804806430464,295.71804806430464,295.47344618373063,295.47344618373063,295.41217660575126,295.0434814241458,294.98184288816776,294.796581212542,294.6107771208331,294.6107771208331,294.48659120931075,294.23741750583946,294.23741750583946,293.86150578655383,293.6093453528164,293.6093453528164,292.97287796529156,292.8444523016488,292.78008814292303,292.3916842663916,292.32656519626227,292.1305143963978,291.9992188272092,291.93338733639837,291.33507344580573,291.33507344580573,291.13316162639563,291.13316162639563,291.13316162639563,291.0655667336507,290.9978231996871,290.86188250694676,289.67988815624244,289.67988815624244,289.60876815889947,289.5374597399904,289.39427077429906,289.25030785519175,289.17803215245993,288.88693272372564,288.7401656209984,288.5184654316751,288.29488134283025,287.4587133584255,287.312126132754,287.312126132754,287.23454919962353,287.23454919962353,287.23454919962353,287.000567895878,286.9397195454608,286.9397195454608,286.79177684181934,286.71315657745595,286.71315657745595,286.15721934979564,285.99662253676394,285.55394257837736,285.2617846011146,285.2617846011146,284.5003601385174,284.2524167498317,283.708193009113,283.386697361178,283.386697361178,283.24581642273245,282.9094847222166,282.7407230265656,282.57160972498116,282.4595537557472,282.34784255008174,282.22225128522433,282.1381204965256,281.88534400184864,281.88534400184864,281.5921087980787,281.5374080155018,281.2847031379189,281.2847031379189,281.2847031379189,281.16126723305825,281.0381993015644,281.0381993015644,280.95423510431135,280.8702603533068,280.7327332100995,280.6488701213827,280.3973417131404,280.07786430417184,279.91066468849067,279.91066468849067,279.91066468849067,279.45773512100624,279.1260695266767,278.79589842933825,278.79589842933825,278.63146891280223,278.54943496634314,278.3857523888277,278.3199730615479,278.2543148195167,278.17294753412335,278.0106479394914,278.0106479394914,278.0106479394914,277.91208953787014,277.91208953787014,277.91208953787014,277.7824034959422,277.65321783772157,277.65321783772157,277.55582661587954,277.39636329155695,277.39636329155695,277.26870105408807,277.26870105408807,277.1415530085638,277.0626780750246,276.85797004204227,276.85797004204227,276.4993909994843,276.29751080767215,276.29751080767215,276.29751080767215,276.25105146881947,276.12819247245255,275.71732389690004,275.53683121712356,275.38787208357195,275.38787208357195,275.19410787300455,275.14948469311287,275.14948469311287,275.090492804574,275.090492804574,275.090492804574,274.6109855873711,274.5533597063228,274.5533597063228,274.33814440674814,274.23812952266644,274.1677192514859,274.1677192514859,274.1112005940565,274.1112005940565,274.1112005940565,274.1112005940565,273.88658072968565,273.84416361664734,273.77514811392194,273.5540533868733,273.3610318205248,273.30660253610245,273.25232225946655,273.21086875110365,273.21086875110365,273.0366989826625,272.995587217193,272.995587217193,272.8234932231619,272.71780554218867,272.71780554218867,272.44457571376626,272.3812015665353,272.1759607484829,272.09661953509226,272.09661953509226,271.9731937437415,271.93382554321335,271.88359734591194,271.88359734591194,271.88359734591194,271.8227319737653,271.783599805532,271.783599805532,271.6168589715869,271.50018207995595,271.50018207995595,271.461355459725,271.4225613147878,271.3247138366299,271.18900043253944,270.97727555893425,270.9012066120662,270.77793929797963,270.7400778303452,270.6368520784445,270.5435043297961,270.5435043297961,270.5435043297961,270.4685095671192,270.39363001354565,270.2840522217964,270.2840522217964,269.9951664529165,269.9951664529165,269.9217773932785,269.9217773932785,269.82464929357997,269.7517040758067,269.6997505314572,269.6557428058995,269.6557428058995,269.61947633876423,269.52450728970217,269.38000310276846,269.32993952341025,269.2871718762724,269.2445312291444,269.2089192296417,269.13778258490584,269.102257995266,269.102257995266,268.96260941632846,268.96260941632846,268.96260941632846,268.8856329874199,268.8856329874199,268.837654887373,268.62578464804415,268.36075898147385,268.3209410035926,268.28123323315975,268.28123323315975,268.21269788568264,268.1784544017494,268.06549419170665,268.0262856239562,267.9581184332336,267.9581184332336,267.9141699672702,267.7978809847605,267.6870347105353,267.6870347105353,267.6194341564184,267.6194341564184,267.5856422907555,267.3323294561139,267.0994213860153,267.0585689768214,267.0252316570248,266.9442990816459,266.91107618326333,266.87785523772914,266.7383308062062,266.7383308062062,266.7383308062062,266.6592214684943,266.6592214684943,266.59309950865395,266.59309950865395,266.59309950865395,266.55395757847197,266.5150195337056,266.41044481725584,266.37752221791214,266.37752221791214,266.3089425057874,266.24312680929023,266.24312680929023,266.2102150795455,266.10890059442085,266.10890059442085,266.10890059442085,265.9980837997674,265.9980837997674,265.89290050179324,265.89290050179324,265.75150177637136,265.75150177637136,265.75150177637136,265.65154386119207,265.61697883774997,265.5462258064753,265.475877949963,265.475877949963,265.475877949963,265.475877949963,265.44166449987483,265.4090989744807,265.37651971583324,265.34237180564395,265.30677940920236,265.1346643581129,265.1021712870396,264.89861076429816,264.86430653885986,264.798540793702,264.798540793702,264.699526938653,264.699526938653,264.66703028219007,264.6012729955144,264.56871742766066,264.50290943283244,264.40339931281017,264.3048938078323,264.3048938078323,264.27214457706384,264.23935649712047,264.2065287040229,264.13995332954056,264.13995332954056,264.10665233302416,264.0405857017642,263.8756474762713,263.74350194547424,263.6777431218257,263.6777431218257,263.54497835313526,263.54497835313526,263.3156588680671,263.282757082388,263.282757082388,263.282757082388,263.282757082388,263.2169485520625,263.2169485520625,263.2169485520625,263.1496915724773,263.08296137642327,263.0185853102486,263.0185853102486,262.9864774474649,262.9864774474649,262.885684900364,262.61501166326946,262.61501166326946,262.5471182061856,262.5471182061856,262.51245441469325,262.47770771353936,262.47770771353936,262.3743778890768,262.3393216027597,262.3393216027597,262.3041772388681,262.3041772388681,262.19820951009973,262.13373041537466,261.9659133772116,261.93011259286436,261.8942187250613,261.8582317839963,261.8582317839963,261.82215174062156,261.7214203185206,261.7214203185206,261.5086883654639,261.5086883654639,261.5086883654639,261.4719061290415,261.3980605650412,261.360997439358,261.28896600397763,261.21910883695716,261.00608673546367,260.9708582910625,260.6764190842061,260.64075327038273,260.5722007195737,260.5722007195737,260.5722007195737,260.5065304344432,260.44089840546116,260.33641404572916,260.30359443255446,260.26457860981185,260.26457860981185,260.06827871514946,260.0320122601635,259.8435267161762,259.7771691865625,259.7440018905158,259.6640370074998,259.62396607714015,259.39626564619937,259.39626564619937,259.36283568473783,259.3223843199039,259.24134339643996,259.24134339643996,259.1601260710649,259.1601260710649,259.1601260710649,259.01132695469636,258.9704947843644,258.84777922989434,258.84777922989434,258.7247629295171,258.7247629295171,258.6836964959849,258.61208480090005,258.5297203517999,258.41304859041435,258.3717378463429,258.33394248526673,258.2996789778001,258.25827492577764,258.22397011954786,258.1410204408636,257.7390642288441,257.7043608370215,257.66260087139455,257.62433316035543,257.5512491004373,257.50938522516094,257.50938522516094,257.50938522516094,257.34178688785397,257.2579007028538,257.2159357759136,257.2159357759136,257.2159357759136,257.1319627140006,257.0899553343084,256.98086638291824,256.9069044362354,256.7483720549344,256.67412511813825,256.5471176248415,256.5471176248415,256.5471176248415,256.50816463989116,256.46918766371584,256.39457827647624,256.3555282946682,256.3130388844604,255.99279266098134,255.92095003721568,255.8782208234811,255.74998818531216,255.70723029238465,255.59878650501253,255.5625920372566,255.52637254778827,255.52637254778827,255.4404962799551,255.36451696930297,255.36451696930297,255.36451696930297,255.17240973602404,255.12928554551064,255.12928554551064,255.04629092363632,254.9664829258346,254.9664829258346,254.9232947960806,254.79370145937494,254.70727864582244,254.70727864582244,254.62714589957866,254.54062305386273,254.37058510640009,254.29629080597712,254.29629080597712,254.22185637539042,254.1380483780055,253.88317713522792,253.88317713522792,253.79909432265265,253.71195519908682,253.66836877672213,253.66836877672213,253.62477025046397,253.58115898895568,253.4502419191242,253.27546941674234,253.23464209504257,253.10620819312211,253.10620819312211,253.10620819312211,252.94232618579977,252.94232618579977,252.75108174979786,252.633038172844,252.633038172844,252.54759191508495,252.50342622589002,252.45924076964852,252.37641658266637,252.11335042181264,251.89667777561084,251.85214723828045,251.67651587252075,251.41911505554992,251.32935172168627,251.32935172168627,251.2844188031937,251.24503029593117,251.20003503155857,251.15500460530083,251.15500460530083,251.06483661018953,250.93772776789893,250.8019038654202,250.52917944384862,250.44080150778652,250.35513737458584,250.27503924777554,250.19477661070698,250.01962435397058,249.93325236507127,249.75152100250182,249.70527362958046,249.53139097306,249.39200837802426,249.34547775737667,249.34547775737667,249.34547775737667,249.2989146505772,249.2523204376447,249.20569640088303,248.7466272349288,248.65285383272632,248.65285383272632,248.4763254344329,248.39067340178943,248.2495940105063,248.2495940105063,248.20256540382812,248.1555388612044,247.92574611658551,247.92574611658551,247.8421347049667,247.75317234544394,247.6119874787769,247.4337980547247,247.29758452368304,247.25535003074583,247.03426883577214,246.9470624359708,246.7591876729365,246.62704910499085,246.58435242678908,246.4926815352194,246.3991133013995,246.26478502961643,246.26478502961643,246.08026607944714,245.89477974528802,245.67306939842356,245.35153189729203,245.3058665990738,245.1714393094435,245.12596835442136,245.0352314993073,244.6778127136827,244.54465926162263,244.50052832044304,244.23364875330094,244.1892868667779,244.14498572819582,244.0568636819706,244.0568636819706,243.96861077434605,243.96861077434605,243.92479117498326,243.92479117498326,243.92479117498326,243.70544063407357,243.70544063407357,243.48690330026318,243.3127071568245,243.2690490536761,243.2690490536761,243.22561665323352,242.83656816581544,242.83656816581544,242.7935352249194,242.66465554091556,242.4924499916405,242.4924499916405,242.40600542370152,242.40600542370152,242.3632648320287,242.15010070819625,241.89421868906368,241.6829913953772,241.55674548289343,241.55674548289343,241.51474609458631,241.38899633182575,240.9725055321555,240.88969340112376,240.88969340112376,240.8048456509208,240.76354579274619,240.7222844869381,240.63987559718,240.55643217563,240.55643217563,240.55643217563,240.4742910092586,240.4332751651093,240.39229556267264,240.3091779695335,240.06169171315543,239.89627358801013,239.65015076919585,239.4479982305147,239.08507657515676,239.08507657515676,239.08507657515676,239.0448008199321,239.0448008199321,238.8375907269426,238.79735133684412,238.75711403461892,238.75711403461892,238.55592334450614,238.55592334450614,238.55592334450614,238.51567768958887,238.47542743026568,238.23378317695992,238.23378317695992,238.11283533588932,237.99177919754578,237.87059865685404,237.87059865685404,237.87059865685404,237.70880630685454,237.58603902701427,237.58603902701427,237.38198821153998,237.30073087146107,237.17868993387847,236.97485896147546,236.893170930871,236.60650762356502,236.56545474629755,236.52437562534388,236.35979106744202,236.35979106744202,236.3185766116465,236.23606328502942,236.0706849892786,236.0706849892786,235.98781280874508,235.8216868812526,235.73842785406114,235.61328793042438,235.5715066481413,235.5715066481413,235.48784091634334,235.36208188987322,235.06479210563336,235.06479210563336,235.02264914708974,234.42923743955703,234.3439779710748,234.3439779710748,234.21587734919595,233.91603553900003,233.44241376942267,233.3560057326201,233.3560057326201,233.26951252679157,233.05292071453556,232.74888033320903,232.61830543557315,232.48775674124147,232.0510300706826,231.8758576905755,231.8320218287373,231.70041213944253,231.70041213944253,231.65650834042435,231.61258766323326,231.61258766323326,231.61258766323326,231.52469587957702,231.43673724488164,230.9076091258471,230.86341082322383,230.8191968226401,230.73072203065018,230.15503904927292,229.84371008431745,229.57641531529558,229.442631854241,229.26412571124055,229.21947762544275,229.21947762544275,228.77257746633546,228.01197240160386,227.8327912362884,227.8327912362884,227.65358888594918,227.51928428165024,227.3400471796898,227.3400471796898,227.25042643119005,227.16080450274168,226.80230964565447,226.48862612017183,226.44381472151045,226.35419256378793,226.35419256378793,226.21972873059966,225.41360757776343,225.19008553300606,225.14541063846156,225.14541063846156,224.92219993099044,224.87759244864486,224.69928639731393,224.5211893218872,224.43222325080058,224.1656722926674,224.03260006742204,223.85538947512222,223.76688007779597,223.4134993194926,223.23721153121255,223.19259061216903,223.10456393365067,223.06057600953676,222.84022668260758,222.22707765222847,221.96517028573902,221.66021007698464,221.4862187967276,221.0954092565001,220.8786681503686,220.6160495005477,219.92466574493764,219.70894306977414,219.66581295622115,219.49333419930377,219.40711728005746,219.32091344969587,219.0623672118565,219.0623672118565,218.5023929560408,218.1559571196065,217.63908098941553,217.24944535839302,216.90442748471406,215.86699499204974,215.78034973561589,215.5635937814925,215.520217716307,215.216348287712,215.216348287712,215.08598987609085,214.95555331081096,214.91205700027712,214.47661070028263,214.0402850110669,214.0402850110669,213.51555055014535,213.20889375386483,212.5943883429989,212.37455237396836,211.93432596749153,211.8902638960764,211.6698494507303,211.49339554807742,211.00760933134606,210.56525692061376,210.4324864521732,209.900945520824,209.76795440836986,208.96924684058453,208.43616274454283,208.34727565104166,208.03609194969494,207.81374905437096,207.0574347997009,206.79039909689303,206.6123532692227,205.72205983007908,204.47656770136697,204.2099258312286,203.67716030701737,203.49974971031912,203.27812502007083,201.02748630754633,200.76413886364858,200.45737091844305,200.06373941424775,199.54033310612726,199.32274510866716,199.27926312195447,197.37688352983315,194.70491348048532,193.49893481377558,192.2255326440873,190.24094382232713,185.49907801299722,182.11697472802942,179.46003185498276,179.08176975681405,177.26825227585817,175.11580711961497,170.02384491008277,169.48452225254465,166.42062906355343,166.20106955202948,166.13875754463731,166.07663057588778,163.0470748568169,162.3808844381208,162.35457456892988,161.9368061181948,155.29793109447837,151.3513836662373,149.85380045434223,147.08673285576683,144.04551820913636,143.8803119193309,136.4366763077005,118.44410378664485,117.66951786963723,114.48521629208892,102.20301460320263,85.86816881966885],\"yaxis\":\"y\",\"type\":\"scattergl\"}],                        {\"template\":{\"data\":{\"histogram2dcontour\":[{\"type\":\"histogram2dcontour\",\"colorbar\":{\"outlinewidth\":0,\"ticks\":\"\"},\"colorscale\":[[0.0,\"#0d0887\"],[0.1111111111111111,\"#46039f\"],[0.2222222222222222,\"#7201a8\"],[0.3333333333333333,\"#9c179e\"],[0.4444444444444444,\"#bd3786\"],[0.5555555555555556,\"#d8576b\"],[0.6666666666666666,\"#ed7953\"],[0.7777777777777778,\"#fb9f3a\"],[0.8888888888888888,\"#fdca26\"],[1.0,\"#f0f921\"]]}],\"choropleth\":[{\"type\":\"choropleth\",\"colorbar\":{\"outlinewidth\":0,\"ticks\":\"\"}}],\"histogram2d\":[{\"type\":\"histogram2d\",\"colorbar\":{\"outlinewidth\":0,\"ticks\":\"\"},\"colorscale\":[[0.0,\"#0d0887\"],[0.1111111111111111,\"#46039f\"],[0.2222222222222222,\"#7201a8\"],[0.3333333333333333,\"#9c179e\"],[0.4444444444444444,\"#bd3786\"],[0.5555555555555556,\"#d8576b\"],[0.6666666666666666,\"#ed7953\"],[0.7777777777777778,\"#fb9f3a\"],[0.8888888888888888,\"#fdca26\"],[1.0,\"#f0f921\"]]}],\"heatmap\":[{\"type\":\"heatmap\",\"colorbar\":{\"outlinewidth\":0,\"ticks\":\"\"},\"colorscale\":[[0.0,\"#0d0887\"],[0.1111111111111111,\"#46039f\"],[0.2222222222222222,\"#7201a8\"],[0.3333333333333333,\"#9c179e\"],[0.4444444444444444,\"#bd3786\"],[0.5555555555555556,\"#d8576b\"],[0.6666666666666666,\"#ed7953\"],[0.7777777777777778,\"#fb9f3a\"],[0.8888888888888888,\"#fdca26\"],[1.0,\"#f0f921\"]]}],\"heatmapgl\":[{\"type\":\"heatmapgl\",\"colorbar\":{\"outlinewidth\":0,\"ticks\":\"\"},\"colorscale\":[[0.0,\"#0d0887\"],[0.1111111111111111,\"#46039f\"],[0.2222222222222222,\"#7201a8\"],[0.3333333333333333,\"#9c179e\"],[0.4444444444444444,\"#bd3786\"],[0.5555555555555556,\"#d8576b\"],[0.6666666666666666,\"#ed7953\"],[0.7777777777777778,\"#fb9f3a\"],[0.8888888888888888,\"#fdca26\"],[1.0,\"#f0f921\"]]}],\"contourcarpet\":[{\"type\":\"contourcarpet\",\"colorbar\":{\"outlinewidth\":0,\"ticks\":\"\"}}],\"contour\":[{\"type\":\"contour\",\"colorbar\":{\"outlinewidth\":0,\"ticks\":\"\"},\"colorscale\":[[0.0,\"#0d0887\"],[0.1111111111111111,\"#46039f\"],[0.2222222222222222,\"#7201a8\"],[0.3333333333333333,\"#9c179e\"],[0.4444444444444444,\"#bd3786\"],[0.5555555555555556,\"#d8576b\"],[0.6666666666666666,\"#ed7953\"],[0.7777777777777778,\"#fb9f3a\"],[0.8888888888888888,\"#fdca26\"],[1.0,\"#f0f921\"]]}],\"surface\":[{\"type\":\"surface\",\"colorbar\":{\"outlinewidth\":0,\"ticks\":\"\"},\"colorscale\":[[0.0,\"#0d0887\"],[0.1111111111111111,\"#46039f\"],[0.2222222222222222,\"#7201a8\"],[0.3333333333333333,\"#9c179e\"],[0.4444444444444444,\"#bd3786\"],[0.5555555555555556,\"#d8576b\"],[0.6666666666666666,\"#ed7953\"],[0.7777777777777778,\"#fb9f3a\"],[0.8888888888888888,\"#fdca26\"],[1.0,\"#f0f921\"]]}],\"mesh3d\":[{\"type\":\"mesh3d\",\"colorbar\":{\"outlinewidth\":0,\"ticks\":\"\"}}],\"scatter\":[{\"fillpattern\":{\"fillmode\":\"overlay\",\"size\":10,\"solidity\":0.2},\"type\":\"scatter\"}],\"parcoords\":[{\"type\":\"parcoords\",\"line\":{\"colorbar\":{\"outlinewidth\":0,\"ticks\":\"\"}}}],\"scatterpolargl\":[{\"type\":\"scatterpolargl\",\"marker\":{\"colorbar\":{\"outlinewidth\":0,\"ticks\":\"\"}}}],\"bar\":[{\"error_x\":{\"color\":\"#2a3f5f\"},\"error_y\":{\"color\":\"#2a3f5f\"},\"marker\":{\"line\":{\"color\":\"#E5ECF6\",\"width\":0.5},\"pattern\":{\"fillmode\":\"overlay\",\"size\":10,\"solidity\":0.2}},\"type\":\"bar\"}],\"scattergeo\":[{\"type\":\"scattergeo\",\"marker\":{\"colorbar\":{\"outlinewidth\":0,\"ticks\":\"\"}}}],\"scatterpolar\":[{\"type\":\"scatterpolar\",\"marker\":{\"colorbar\":{\"outlinewidth\":0,\"ticks\":\"\"}}}],\"histogram\":[{\"marker\":{\"pattern\":{\"fillmode\":\"overlay\",\"size\":10,\"solidity\":0.2}},\"type\":\"histogram\"}],\"scattergl\":[{\"type\":\"scattergl\",\"marker\":{\"colorbar\":{\"outlinewidth\":0,\"ticks\":\"\"}}}],\"scatter3d\":[{\"type\":\"scatter3d\",\"line\":{\"colorbar\":{\"outlinewidth\":0,\"ticks\":\"\"}},\"marker\":{\"colorbar\":{\"outlinewidth\":0,\"ticks\":\"\"}}}],\"scattermapbox\":[{\"type\":\"scattermapbox\",\"marker\":{\"colorbar\":{\"outlinewidth\":0,\"ticks\":\"\"}}}],\"scatterternary\":[{\"type\":\"scatterternary\",\"marker\":{\"colorbar\":{\"outlinewidth\":0,\"ticks\":\"\"}}}],\"scattercarpet\":[{\"type\":\"scattercarpet\",\"marker\":{\"colorbar\":{\"outlinewidth\":0,\"ticks\":\"\"}}}],\"carpet\":[{\"aaxis\":{\"endlinecolor\":\"#2a3f5f\",\"gridcolor\":\"white\",\"linecolor\":\"white\",\"minorgridcolor\":\"white\",\"startlinecolor\":\"#2a3f5f\"},\"baxis\":{\"endlinecolor\":\"#2a3f5f\",\"gridcolor\":\"white\",\"linecolor\":\"white\",\"minorgridcolor\":\"white\",\"startlinecolor\":\"#2a3f5f\"},\"type\":\"carpet\"}],\"table\":[{\"cells\":{\"fill\":{\"color\":\"#EBF0F8\"},\"line\":{\"color\":\"white\"}},\"header\":{\"fill\":{\"color\":\"#C8D4E3\"},\"line\":{\"color\":\"white\"}},\"type\":\"table\"}],\"barpolar\":[{\"marker\":{\"line\":{\"color\":\"#E5ECF6\",\"width\":0.5},\"pattern\":{\"fillmode\":\"overlay\",\"size\":10,\"solidity\":0.2}},\"type\":\"barpolar\"}],\"pie\":[{\"automargin\":true,\"type\":\"pie\"}]},\"layout\":{\"autotypenumbers\":\"strict\",\"colorway\":[\"#636efa\",\"#EF553B\",\"#00cc96\",\"#ab63fa\",\"#FFA15A\",\"#19d3f3\",\"#FF6692\",\"#B6E880\",\"#FF97FF\",\"#FECB52\"],\"font\":{\"color\":\"#2a3f5f\"},\"hovermode\":\"closest\",\"hoverlabel\":{\"align\":\"left\"},\"paper_bgcolor\":\"white\",\"plot_bgcolor\":\"#E5ECF6\",\"polar\":{\"bgcolor\":\"#E5ECF6\",\"angularaxis\":{\"gridcolor\":\"white\",\"linecolor\":\"white\",\"ticks\":\"\"},\"radialaxis\":{\"gridcolor\":\"white\",\"linecolor\":\"white\",\"ticks\":\"\"}},\"ternary\":{\"bgcolor\":\"#E5ECF6\",\"aaxis\":{\"gridcolor\":\"white\",\"linecolor\":\"white\",\"ticks\":\"\"},\"baxis\":{\"gridcolor\":\"white\",\"linecolor\":\"white\",\"ticks\":\"\"},\"caxis\":{\"gridcolor\":\"white\",\"linecolor\":\"white\",\"ticks\":\"\"}},\"coloraxis\":{\"colorbar\":{\"outlinewidth\":0,\"ticks\":\"\"}},\"colorscale\":{\"sequential\":[[0.0,\"#0d0887\"],[0.1111111111111111,\"#46039f\"],[0.2222222222222222,\"#7201a8\"],[0.3333333333333333,\"#9c179e\"],[0.4444444444444444,\"#bd3786\"],[0.5555555555555556,\"#d8576b\"],[0.6666666666666666,\"#ed7953\"],[0.7777777777777778,\"#fb9f3a\"],[0.8888888888888888,\"#fdca26\"],[1.0,\"#f0f921\"]],\"sequentialminus\":[[0.0,\"#0d0887\"],[0.1111111111111111,\"#46039f\"],[0.2222222222222222,\"#7201a8\"],[0.3333333333333333,\"#9c179e\"],[0.4444444444444444,\"#bd3786\"],[0.5555555555555556,\"#d8576b\"],[0.6666666666666666,\"#ed7953\"],[0.7777777777777778,\"#fb9f3a\"],[0.8888888888888888,\"#fdca26\"],[1.0,\"#f0f921\"]],\"diverging\":[[0,\"#8e0152\"],[0.1,\"#c51b7d\"],[0.2,\"#de77ae\"],[0.3,\"#f1b6da\"],[0.4,\"#fde0ef\"],[0.5,\"#f7f7f7\"],[0.6,\"#e6f5d0\"],[0.7,\"#b8e186\"],[0.8,\"#7fbc41\"],[0.9,\"#4d9221\"],[1,\"#276419\"]]},\"xaxis\":{\"gridcolor\":\"white\",\"linecolor\":\"white\",\"ticks\":\"\",\"title\":{\"standoff\":15},\"zerolinecolor\":\"white\",\"automargin\":true,\"zerolinewidth\":2},\"yaxis\":{\"gridcolor\":\"white\",\"linecolor\":\"white\",\"ticks\":\"\",\"title\":{\"standoff\":15},\"zerolinecolor\":\"white\",\"automargin\":true,\"zerolinewidth\":2},\"scene\":{\"xaxis\":{\"backgroundcolor\":\"#E5ECF6\",\"gridcolor\":\"white\",\"linecolor\":\"white\",\"showbackground\":true,\"ticks\":\"\",\"zerolinecolor\":\"white\",\"gridwidth\":2},\"yaxis\":{\"backgroundcolor\":\"#E5ECF6\",\"gridcolor\":\"white\",\"linecolor\":\"white\",\"showbackground\":true,\"ticks\":\"\",\"zerolinecolor\":\"white\",\"gridwidth\":2},\"zaxis\":{\"backgroundcolor\":\"#E5ECF6\",\"gridcolor\":\"white\",\"linecolor\":\"white\",\"showbackground\":true,\"ticks\":\"\",\"zerolinecolor\":\"white\",\"gridwidth\":2}},\"shapedefaults\":{\"line\":{\"color\":\"#2a3f5f\"}},\"annotationdefaults\":{\"arrowcolor\":\"#2a3f5f\",\"arrowhead\":0,\"arrowwidth\":1},\"geo\":{\"bgcolor\":\"white\",\"landcolor\":\"#E5ECF6\",\"subunitcolor\":\"white\",\"showland\":true,\"showlakes\":true,\"lakecolor\":\"white\"},\"title\":{\"x\":0.05},\"mapbox\":{\"style\":\"light\"}}},\"xaxis\":{\"anchor\":\"y\",\"domain\":[0.0,1.0],\"title\":{\"text\":\"30 Day Average Implied Volatility\"}},\"yaxis\":{\"anchor\":\"x\",\"domain\":[0.0,1.0],\"title\":{\"text\":\"MSFT Adjusted Close Price ($)\"}},\"legend\":{\"tracegroupgap\":0},\"title\":{\"text\":\"30 Day Implied Volatility vs MSFT Adjusted Close Price\"}},                        {\"responsive\": true}                    ).then(function(){\n",
              "                            \n",
              "var gd = document.getElementById('77b5608e-0721-4cfd-9ce4-ae125a381691');\n",
              "var x = new MutationObserver(function (mutations, observer) {{\n",
              "        var display = window.getComputedStyle(gd).display;\n",
              "        if (!display || display === 'none') {{\n",
              "            console.log([gd, 'removed!']);\n",
              "            Plotly.purge(gd);\n",
              "            observer.disconnect();\n",
              "        }}\n",
              "}});\n",
              "\n",
              "// Listen for the removal of the full notebook cells\n",
              "var notebookContainer = gd.closest('#notebook-container');\n",
              "if (notebookContainer) {{\n",
              "    x.observe(notebookContainer, {childList: true});\n",
              "}}\n",
              "\n",
              "// Listen for the clearing of the current output cell\n",
              "var outputEl = gd.closest('.output');\n",
              "if (outputEl) {{\n",
              "    x.observe(outputEl, {childList: true});\n",
              "}}\n",
              "\n",
              "                        })                };                            </script>        </div>\n",
              "</body>\n",
              "</html>"
            ]
          },
          "metadata": {}
        }
      ]
    },
    {
      "cell_type": "markdown",
      "metadata": {
        "id": "ZZ0upYIAIOyN"
      },
      "source": [
        "## CBOE Volatility"
      ]
    },
    {
      "cell_type": "markdown",
      "metadata": {
        "id": "9OXf2MIdJHHs"
      },
      "source": [
        "The CBOE Volatility Index (VIX), often called the 'fear gauge' is a popular measure that represents the stock market's expectation of volatility over the next 30 days, based on options prices of the S&P 500 index. While the VIX measures the market's overall volatility expectations, implied volatility refers to the expected volatility of a specific security or asset, in this case MSFT"
      ]
    },
    {
      "cell_type": "code",
      "execution_count": 27,
      "metadata": {
        "colab": {
          "base_uri": "https://localhost:8080/"
        },
        "id": "B1j7GI6xJPYN",
        "outputId": "de5e8254-e832-46d7-de64-1c7d943b7129"
      },
      "outputs": [
        {
          "output_type": "stream",
          "name": "stderr",
          "text": [
            "[*********************100%%**********************]  1 of 1 completed\n",
            "[*********************100%%**********************]  1 of 1 completed\n",
            "[*********************100%%**********************]  1 of 1 completed\n",
            "[*********************100%%**********************]  1 of 1 completed\n"
          ]
        }
      ],
      "source": [
        "# Set starting and ending dates\n",
        "start_date = '2020-01-01'\n",
        "end_date = '2024-03-05'\n",
        "\n",
        "# List of ticker symbols\n",
        "vix_tickers = ['^VIX9D', '^VIX', '^VIX3M', '^VIX6M']\n",
        "\n",
        "# Create an empty DataFrame with a full date index\n",
        "vix_df = pd.DataFrame(index=pd.date_range(start_date, end_date))\n",
        "\n",
        "# Loop through each ticker symbol\n",
        "for vix_ticker in vix_tickers:\n",
        "    try:\n",
        "        # Download the data for the current ticker\n",
        "        price = yf.download(vix_ticker, start=start_date, end=end_date)['Adj Close']\n",
        "\n",
        "        # Add the downloaded data to the DataFrame using ffill to fill forward missing values\n",
        "        vix_df[vix_ticker] = price.reindex(vix_df.index, method='ffill').fillna(method='ffill')\n",
        "    except Exception as e:\n",
        "        print(f\"Error downloading data for {vix_ticker}: {e}\")\n",
        "\n",
        "\n",
        "vix_df = round(vix_df, 4)\n",
        "\n",
        "vix_df = vix_df.rename_axis('Date')\n",
        "\n",
        "common_index = msft_df.index.intersection(vix_df.index)\n",
        "\n",
        "vix_df = vix_df.loc[common_index]"
      ]
    },
    {
      "cell_type": "markdown",
      "metadata": {
        "id": "lBK4BTa1iVBI"
      },
      "source": [
        "## Stock Grade"
      ]
    },
    {
      "cell_type": "markdown",
      "metadata": {
        "id": "6RJdQNPIii1P"
      },
      "source": [
        "The stock rating provided by hedge funds, investment firms, and analysts. Data sourced from Financial Modeling Prep using an API Key"
      ]
    },
    {
      "cell_type": "code",
      "execution_count": 28,
      "metadata": {
        "id": "dLLtM1x2jBoK"
      },
      "outputs": [],
      "source": [
        "grade_df = pd.read_csv('msft_grade_raw.csv')\n",
        "grade_df = grade_df.drop(columns = ['symbol', 'gradingCompany'])\n",
        "\n",
        "grade_to_category = {\n",
        "    'Sell': 1, 'Underperform': 1, 'Underweight': 1,\n",
        "    'Hold': 2, 'Neutral': 2, 'Market perform': 2, 'Perform': 2, 'Equal-Weight': 2, 'Sector Perform': 2, 'Equal-weight': 2,\n",
        "    'Overweight': 3, 'Buy': 3, 'Outperform': 3,\n",
        "    'Strong Buy': 4, 'Long-term buy': 4, 'Long-Term Buy': 4\n",
        "}\n",
        "\n",
        "# Function to map grade to category\n",
        "def map_grade_to_category(grade):\n",
        "  return grade_to_category.get(grade, None)\n",
        "\n",
        "\n",
        "def calculate_grade_change(row):\n",
        "\n",
        "  if pd.isnull(row['previousGrade']) or row['previousGrade'] == '':\n",
        "    return map_grade_to_category(row['newGrade'])\n",
        "  else:\n",
        "    prev_cat = map_grade_to_category(row['previousGrade'])\n",
        "    new_cat = map_grade_to_category(row['newGrade'])\n",
        "    if prev_cat is not None and new_cat is not None:\n",
        "      return new_cat - prev_cat\n",
        "    else:\n",
        "      return None\n",
        "\n",
        "# Apply the function row-wise\n",
        "grade_df['Grade Change'] = grade_df.apply(calculate_grade_change, axis=1)\n",
        "\n",
        "def map_new_grade_to_category(new_grade):\n",
        "  return grade_to_category.get(new_grade, None)\n",
        "# Apply the function to the 'newGrade' column to create the new 'Grade' column\n",
        "grade_df['Grade'] = grade_df['newGrade'].apply(map_new_grade_to_category)\n",
        "\n",
        "grade_df.rename(columns={'date': 'Date'}, inplace=True)\n",
        "\n",
        "grade_df['Date'] = pd.to_datetime(grade_df['Date'])\n",
        "\n",
        "grade_df = grade_df.groupby('Date')[['Grade Change', 'Grade']].mean().reset_index()\n",
        "\n",
        "grade_df = grade_df[grade_df['Date'] > pd.Timestamp('2019-12-31')]\n",
        "\n",
        "grade_df = grade_df.set_index('Date').dropna()\n"
      ]
    },
    {
      "cell_type": "code",
      "execution_count": 29,
      "metadata": {
        "id": "kVBlQ5fCE8sb"
      },
      "outputs": [],
      "source": [
        "expanded_grade_df = grade_df.reindex(msft_df.index, method='ffill')\n",
        "merged_df = msft_df.merge(expanded_grade_df, left_index=True, right_index=True, how='left')\n",
        "grade_df = merged_df.drop('Adj Close', axis = 1)\n",
        "grade_df.iloc[:4] = grade_df.iloc[4]"
      ]
    },
    {
      "cell_type": "markdown",
      "metadata": {
        "id": "2Gpd3gQlK7Vc"
      },
      "source": [
        "## Analyst Recommendation"
      ]
    },
    {
      "cell_type": "markdown",
      "metadata": {
        "id": "tTVGhFCzLDjY"
      },
      "source": [
        "This is an analyst's opinion on the future performance of MSFT stock, expressed as strong sell, strong buy, buy, hold, or sell based on analysis of the Microsoft's fundamentals, industry position, and market conditions."
      ]
    },
    {
      "cell_type": "code",
      "execution_count": 30,
      "metadata": {
        "id": "5WgTzSnzMr0N"
      },
      "outputs": [],
      "source": [
        "df = pd.read_csv('msft_analyst_recommendations_raw.csv')\n",
        "\n",
        "df['analystRecommendations'] = (\n",
        "    \"Buy: \" + df['analystRatingsbuy'].astype(str) +\n",
        "    \", Hold: \" + df['analystRatingsHold'].astype(str) +\n",
        "    \", Sell: \" + df['analystRatingsSell'].astype(str) +\n",
        "    \", Strong Sell: \" + df['analystRatingsStrongSell'].astype(str) +\n",
        "    \", Strong Buy: \" + df['analystRatingsStrongBuy'].astype(str)\n",
        ")\n",
        "\n",
        "weights = {\n",
        "    'analystRatingsStrongSell': -2,\n",
        "    'analystRatingsSell': -1,\n",
        "    'analystRatingsHold': 0,\n",
        "    'analystRatingsbuy': 1,\n",
        "    'analystRatingsStrongBuy': 2\n",
        "}\n",
        "\n",
        "# Calculating weighted score\n",
        "for column, weight in weights.items():\n",
        "    df[column + '_weighted'] = df[column] * weight\n",
        "\n",
        "# Sum the weighted scores into a single score\n",
        "df['weightedScore'] = df[[col + '_weighted' for col in weights]].sum(axis=1)\n",
        "\n"
      ]
    },
    {
      "cell_type": "code",
      "execution_count": 31,
      "metadata": {
        "id": "TCXS_ND_NIhg"
      },
      "outputs": [],
      "source": [
        "recommendation_score = (\n",
        "    df[['date', 'weightedScore']]  # Select relevant columns\n",
        "    .rename(columns={'date': 'Date'})  # Rename 'date' to 'Date'\n",
        "    .assign(Date=lambda x: pd.to_datetime(x['Date']))  # Convert 'Date' to datetime\n",
        "    .query(\"Date > '2019-12-31'\")  # Filter dates after 2019-12-31\n",
        "    .sort_values('Date', ascending=True)  # Sort by 'Date'\n",
        "    .set_index('Date')\n",
        "    .dropna()\n",
        ")\n",
        "\n",
        "expanded_rec_score = recommendation_score.reindex(msft_df.index, method='ffill')\n",
        "merged_df = msft_df.merge(expanded_rec_score, left_index=True, right_index=True, how='left')\n",
        "recommendation_score = merged_df.drop('Adj Close', axis = 1)"
      ]
    },
    {
      "cell_type": "markdown",
      "metadata": {
        "id": "6UKTXSX2akgr"
      },
      "source": [
        "## Trading Volume"
      ]
    },
    {
      "cell_type": "markdown",
      "metadata": {
        "id": "r7fTMS1Wam8Z"
      },
      "source": [
        "The total number of stocks traded on a daily basis, indicating the overall activity and liquidity for MSFT in the market. <br>Data sourced from Yahoo! Finance"
      ]
    },
    {
      "cell_type": "code",
      "execution_count": 32,
      "metadata": {
        "colab": {
          "base_uri": "https://localhost:8080/"
        },
        "id": "eBTjcH69bC_L",
        "outputId": "b7a116f7-c0bb-4265-bbd1-bec44a0d9f2f"
      },
      "outputs": [
        {
          "output_type": "stream",
          "name": "stderr",
          "text": [
            "\r[*********************100%%**********************]  1 of 1 completed\n"
          ]
        }
      ],
      "source": [
        "ticker_symbol = 'MSFT'\n",
        "start_date = '2020-01-01'\n",
        "end_date = '2024-03-06'\n",
        "volume = yf.download(ticker_symbol, start=start_date, end=end_date)\n",
        "volume = volume.drop(columns = ['Open','High','Low','Close','Adj Close'])"
      ]
    },
    {
      "cell_type": "markdown",
      "metadata": {
        "id": "xst2JJf6eLDl"
      },
      "source": [
        "## Income Statements (Quarterly)"
      ]
    },
    {
      "cell_type": "markdown",
      "metadata": {
        "id": "z_UCqu9EeTEk"
      },
      "source": [
        "Income statements for each quarter. The following code resamples this to daily amounts"
      ]
    },
    {
      "cell_type": "code",
      "execution_count": 33,
      "metadata": {
        "id": "BsL2mWo_kDRr"
      },
      "outputs": [],
      "source": [
        "quarterly_income_statements = pd.read_csv('msft_q_income_statements_raw.csv')\n",
        "daily_is = (quarterly_income_statements\n",
        "            .drop(columns=['weightedAverageShsOut', 'weightedAverageShsOutDil',\n",
        "                           'grossProfitRatio', 'ebitdaratio', 'operatingIncomeRatio',\n",
        "                           'incomeBeforeTaxRatio', 'netIncomeRatio','fillingDate'])\n",
        "            .rename(columns={'date': 'Date'})\n",
        "            .assign(Date=lambda x: pd.to_datetime(x['Date']))\n",
        "            .sort_values(by='Date', ascending=True)\n",
        "            .set_index('Date')\n",
        "            .dropna())"
      ]
    },
    {
      "cell_type": "code",
      "execution_count": 34,
      "metadata": {
        "id": "_Qtaxnkik-8Y"
      },
      "outputs": [],
      "source": [
        "prices = msft_df\n",
        "ful_daily_is = pd.DataFrame(index=daily_is.index)\n",
        "\n",
        "for column_name in daily_is.columns:\n",
        "  # Use the function on each column\n",
        "  interpolated_df = interpolate_daily_values(daily_is[column_name])\n",
        "\n",
        "  # Drop the 'Adj Close' column from the output\n",
        "  if 'Adj Close' in interpolated_df.columns:\n",
        "    interpolated_df.drop(columns=['Adj Close'], inplace=True)\n",
        "\n",
        "  # Change the column title of 'Daily Avg' to the name of the column from the daily_is DataFrame\n",
        "  interpolated_df.rename(columns={'Daily Avg': column_name}, inplace=True)\n",
        "\n",
        "  # Concatenate this output to ful_daily_is\n",
        "  ful_daily_is = pd.concat([ful_daily_is, interpolated_df], axis=1)\n",
        "\n",
        "daily_is = ful_daily_is\n",
        "daily_is = daily_is.dropna()"
      ]
    },
    {
      "cell_type": "code",
      "execution_count": 35,
      "metadata": {
        "id": "S62OjsL77Tdl"
      },
      "outputs": [],
      "source": [
        "combined_index = daily_is.index.union(msft_df.index)\n",
        "daily_is_reindexed = daily_is.reindex(combined_index, method='ffill')"
      ]
    },
    {
      "cell_type": "markdown",
      "source": [
        "The income statement data ends at December, 2023. We will use the average growth rate from the 4th Quarter of 2023 to extrapolate values for January - March 2024 using income statement growth data from Financial Modeling Prep."
      ],
      "metadata": {
        "id": "KhXYGS6pYFzm"
      }
    },
    {
      "cell_type": "code",
      "source": [
        "data = pd.read_csv('msft_is_growth.csv')\n",
        "data = pd.DataFrame(data)"
      ],
      "metadata": {
        "id": "AvFWdluSTsqA"
      },
      "execution_count": 36,
      "outputs": []
    },
    {
      "cell_type": "code",
      "execution_count": 37,
      "metadata": {
        "id": "AcI5sS_mAHS2"
      },
      "outputs": [],
      "source": [
        "data = data.drop(columns= ['date', 'symbol', 'calendarYear', 'period',\n",
        "                  'growthGrossProfitRatio', 'growthEBITDARatio',\n",
        "                  'growthOperatingIncomeRatio', 'growthIncomeBeforeTaxRatio',\n",
        "                  'growthNetIncomeRatio', 'growthWeightedAverageShsOut',\n",
        "                  'growthWeightedAverageShsOutDil'])\n"
      ]
    },
    {
      "cell_type": "code",
      "execution_count": 38,
      "metadata": {
        "colab": {
          "base_uri": "https://localhost:8080/"
        },
        "id": "Ko8thYp-F4BE",
        "outputId": "1063f728-d991-4c70-a241-c5f05ff730a6"
      },
      "outputs": [
        {
          "output_type": "execute_result",
          "data": {
            "text/plain": [
              "0.10087824294736843"
            ]
          },
          "metadata": {},
          "execution_count": 38
        }
      ],
      "source": [
        "# Some columns in the income statement don't have a corresponding column in the income statement growth table.\n",
        "# For this we will use the average growth rate across all columns for that quarter.\n",
        "average = data.iloc[0].mean()\n",
        "average"
      ]
    },
    {
      "cell_type": "code",
      "execution_count": 39,
      "metadata": {
        "id": "fxwdURX8FMaX"
      },
      "outputs": [],
      "source": [
        "growth_to_column_mapping = {\n",
        "    'growthRevenue': 'revenue',\n",
        "    'growthCostOfRevenue': 'costOfRevenue',\n",
        "    'growthGrossProfit': 'grossProfit',\n",
        "    'growthResearchAndDevelopmentExpenses': 'researchAndDevelopmentExpenses',\n",
        "    'growthGeneralAndAdministrativeExpenses': 'generalAndAdministrativeExpenses',\n",
        "    'growthSellingAndMarketingExpenses': 'sellingAndMarketingExpenses',\n",
        "    'growthOtherExpenses': 'otherExpenses',\n",
        "    'growthOperatingExpenses': 'operatingExpenses',\n",
        "    'growthCostAndExpenses': 'costAndExpenses',\n",
        "    'growthInterestExpense': 'interestExpense',\n",
        "    'growthDepreciationAndAmortization': 'depreciationAndAmortization',\n",
        "    'growthEBITDA': 'ebitda',\n",
        "    'growthOperatingIncome': 'operatingIncome',\n",
        "    'growthTotalOtherIncomeExpensesNet': 'totalOtherIncomeExpensesNet',\n",
        "    'growthIncomeBeforeTax': 'incomeBeforeTax',\n",
        "    'growthIncomeTaxExpense': 'incomeTaxExpense',\n",
        "    'growthNetIncome': 'netIncome',\n",
        "    'growthEPS': 'eps',\n",
        "    'growthEPSDiluted': 'epsdiluted'\n",
        "}\n",
        "\n",
        "growth_rates_df = pd.DataFrame(index=daily_is.index, columns=daily_is.columns)\n",
        "\n",
        "# Populate growth_rates_df with growth rates using the mapping\n",
        "for growth_key, column_name in growth_to_column_mapping.items():\n",
        "  if column_name in growth_rates_df.columns:\n",
        "    # Assign the value from data[0] to the correct column in growth_rates_df\n",
        "    growth_rates_df[column_name] = data.iloc[0].get(growth_key, None)\n",
        "growth_rates_df = growth_rates_df.iloc[-1]\n",
        "growth_rates_df.fillna(average, inplace=True)"
      ]
    },
    {
      "cell_type": "code",
      "execution_count": 40,
      "metadata": {
        "id": "KAYX9l3Tq1h4"
      },
      "outputs": [],
      "source": [
        "daily_is_complete = pd.read_csv('msft_daily_income_statements.csv', parse_dates=['Date']).set_index('Date')"
      ]
    },
    {
      "cell_type": "markdown",
      "source": [
        "Income statement line items like those relating to shares and ratios can't be interpolated using the method above, but should be forward filled."
      ],
      "metadata": {
        "id": "XWUAML-JZHwW"
      }
    },
    {
      "cell_type": "code",
      "execution_count": 41,
      "metadata": {
        "id": "vy2yxC0Gt2yh"
      },
      "outputs": [],
      "source": [
        "shares_ratios = pd.DataFrame(data = quarterly_income_statements[['weightedAverageShsOut', 'weightedAverageShsOutDil',\n",
        "                           'grossProfitRatio', 'ebitdaratio', 'operatingIncomeRatio',\n",
        "                           'incomeBeforeTaxRatio', 'netIncomeRatio','date']] ).dropna().rename(columns={'date': 'Date'}).set_index('Date')\n",
        "\n",
        "growth_rates = shares_ratios.pct_change()\n",
        "\n",
        "# Calculate the average of these growth rates for each column\n",
        "average_growth_rates = growth_rates.mean()\n",
        "\n",
        "shares_ratios.index = pd.to_datetime(shares_ratios.index)\n",
        "shares_ratios = shares_ratios.reindex(msft_df.index)\n",
        "shares_ratios = shares_ratios.ffill()"
      ]
    },
    {
      "cell_type": "code",
      "execution_count": 42,
      "metadata": {
        "id": "jkaIdF0SJqNn"
      },
      "outputs": [],
      "source": [
        "# Since the data starts on March, 2020, the previous values need to be backfilled.\n",
        "# Calculate the adjusted values for backfilling using the values at index 61\n",
        "values_at_62nd_row = shares_ratios.iloc[61]\n",
        "adjusted_values = values_at_62nd_row / (1 - average_growth_rates)\n",
        "\n",
        "# Create a DataFrame with adjusted values repeated for the first 61 rows\n",
        "adjusted_df = pd.DataFrame([adjusted_values] * 61, index=shares_ratios.index[:61])\n",
        "\n",
        "shares_ratios.update(adjusted_df)\n",
        "\n",
        "shares_ratios.ffill(inplace=True)"
      ]
    },
    {
      "cell_type": "markdown",
      "metadata": {
        "id": "eiETJAposRKf"
      },
      "source": [
        "## Balance Sheet"
      ]
    },
    {
      "cell_type": "markdown",
      "source": [
        "Provides a snapshot of a company's financial position at a specific point in time. Data obtained from Financial Modeling Prep."
      ],
      "metadata": {
        "id": "mGyzqw9PaKqq"
      }
    },
    {
      "cell_type": "code",
      "execution_count": 43,
      "metadata": {
        "id": "Ah39iBviNWa6"
      },
      "outputs": [],
      "source": [
        "qbs = pd.read_csv('msft_q_balance_sheet.csv')"
      ]
    },
    {
      "cell_type": "code",
      "execution_count": 44,
      "metadata": {
        "id": "6bOxEbVpN4Bl"
      },
      "outputs": [],
      "source": [
        "dbs = (qbs.assign(Date=pd.to_datetime(qbs['Date']))\n",
        "         .set_index('Date')\n",
        "         .reindex(msft_df.index)\n",
        "         .interpolate(method='linear'))"
      ]
    },
    {
      "cell_type": "code",
      "execution_count": 45,
      "metadata": {
        "id": "qiYHlgXQQgTL"
      },
      "outputs": [],
      "source": [
        "starting_values = qbs.iloc[0]\n",
        "ending_values = dbs.iloc[61]\n",
        "\n",
        "# Calculate the number of points to interpolate, including the start and end\n",
        "num_points = 62\n",
        "\n",
        "# Step 2: Generate interpolated values for the first 61 rows\n",
        "for column in dbs.columns:\n",
        "  # Calculate slope (m)\n",
        "  slope = (ending_values[column] - starting_values[column]) / (num_points - 1)\n",
        "\n",
        "  # Calculate y-intercept (b), using y = mx + b, where x = 0 for the start\n",
        "  intercept = starting_values[column]\n",
        "\n",
        "  # Generate interpolated values for each point\n",
        "  interpolated_values = [intercept + slope * x for x in range(num_points)]\n",
        "\n",
        "  # Fill in the NaN values in the first 61 rows\n",
        "  dbs[column].iloc[:62] = interpolated_values\n",
        "\n",
        "# Ensure interpolation didn't unintentionally modify values beyond the first 62 rows\n",
        "dbs.iloc[62:] = dbs.iloc[62:].ffill()"
      ]
    },
    {
      "cell_type": "markdown",
      "metadata": {
        "id": "24MiZdQKr_Tu"
      },
      "source": [
        "## Cash Flow Statement"
      ]
    },
    {
      "cell_type": "markdown",
      "source": [
        "A summary of a company's cash inflows and outflows over a period of time."
      ],
      "metadata": {
        "id": "STw5lsaIaerh"
      }
    },
    {
      "cell_type": "code",
      "execution_count": 46,
      "metadata": {
        "id": "Ph5Lc0WRuTIq"
      },
      "outputs": [],
      "source": [
        "qcf = pd.read_csv('msft_q_cash_flow.csv')\n",
        "qcf = (qcf.assign(Date=pd.to_datetime(qcf['Date']))\n",
        "         .set_index('Date'))\n",
        "qcf = qcf.iloc[1:]"
      ]
    },
    {
      "cell_type": "code",
      "execution_count": 47,
      "metadata": {
        "id": "suqYAyEdzXrI"
      },
      "outputs": [],
      "source": [
        "prices = msft_df\n",
        "ful_daily_cf = pd.DataFrame(index=prices.index)\n",
        "\n",
        "for column_name in qcf.columns:\n",
        "\n",
        "  interpolated_df = interpolate_daily_values(qcf[column_name])\n",
        "\n",
        "  if 'Adj Close' in interpolated_df.columns:\n",
        "    interpolated_df.drop(columns=['Adj Close'], inplace=True)\n",
        "\n",
        "  interpolated_df.rename(columns={'Daily Avg': column_name}, inplace=True)\n",
        "\n",
        "  ful_daily_cf = pd.concat([ful_daily_cf, interpolated_df], axis=1)\n",
        "\n",
        "dcf = ful_daily_cf\n",
        "dcf = dcf.dropna()"
      ]
    },
    {
      "cell_type": "code",
      "execution_count": 48,
      "metadata": {
        "id": "-NYfJkyi9M7S"
      },
      "outputs": [],
      "source": [
        "daily_cf = pd.read_csv('msft_daily_cash_flow.csv', parse_dates=['Date']).set_index('Date')"
      ]
    },
    {
      "cell_type": "markdown",
      "metadata": {
        "id": "tnyKYcWqOJCo"
      },
      "source": [
        "## Earnings Surprise"
      ]
    },
    {
      "cell_type": "markdown",
      "metadata": {
        "id": "zLARqdqyON4I"
      },
      "source": [
        "The difference between actual earnings per share and earnings expected by analysts prior to earnings release. Data obtained from Financial Modeling Prep."
      ]
    },
    {
      "cell_type": "code",
      "execution_count": 49,
      "metadata": {
        "id": "W3W5PxjCP7wi"
      },
      "outputs": [],
      "source": [
        "surprise = pd.read_csv('msft_earnings_surprise.csv')\n",
        "surprise = (surprise.assign(Date=pd.to_datetime(surprise['Date']))\n",
        "         .set_index('Date')\n",
        "         .reindex(msft_df.index)\n",
        "         .fillna(0))"
      ]
    },
    {
      "cell_type": "markdown",
      "metadata": {
        "id": "aYsITeD-XSRf"
      },
      "source": [
        "## Earnings Call Transcripts"
      ]
    },
    {
      "cell_type": "markdown",
      "source": [
        "Transcripts from quarterly earnings calls. Data obtained from AlphaVantage."
      ],
      "metadata": {
        "id": "lwrJRacib8yl"
      }
    },
    {
      "cell_type": "code",
      "source": [
        "msft_transcripts = pd.read_csv('msft_transcripts_raw.csv')\n",
        "msft_transcripts = pd.DataFrame(msft_transcripts)"
      ],
      "metadata": {
        "id": "BcyPJNEIRBiW"
      },
      "execution_count": 51,
      "outputs": []
    },
    {
      "cell_type": "code",
      "source": [
        "msft_transcripts = msft_transcripts.drop(columns=['symbol', 'quarter', 'year'])\n",
        "msft_transcripts['date'] = pd.to_datetime(msft_transcripts['date']).dt.date\n",
        "msft_transcripts['content'] = msft_transcripts['content'].str.replace('\\n', '', regex=False)\n",
        "msft_transcripts = msft_transcripts.rename(columns={'date': 'Date', 'content': 'Text'})\n",
        "msft_transcripts = msft_transcripts.sort_values(by='Date', ascending=True)"
      ],
      "metadata": {
        "id": "J5Xl0Ht0R1q6"
      },
      "execution_count": 52,
      "outputs": []
    },
    {
      "cell_type": "code",
      "source": [
        "msft_transcripts.head()"
      ],
      "metadata": {
        "colab": {
          "base_uri": "https://localhost:8080/",
          "height": 206
        },
        "id": "xtEQNCyhRUXV",
        "outputId": "33b57f61-8ed7-4b83-b39e-06cd1ba98192"
      },
      "execution_count": 53,
      "outputs": [
        {
          "output_type": "execute_result",
          "data": {
            "text/plain": [
              "         Date                                               Text\n",
              "2  2006-01-27  Operator: Good afternoon and welcome to the Mi...\n",
              "1  2006-04-28  Operator: Good afternoon, and welcome to the M...\n",
              "0  2006-07-21  Operator: Good afternoon and welcome to the Mi...\n",
              "6  2006-10-27  Operator: Good afternoon, and welcome to the M...\n",
              "5  2007-01-26  Operator: Welcome to the Microsoft 2007 fiscal..."
            ],
            "text/html": [
              "\n",
              "  <div id=\"df-8748a77b-2b42-4338-abf8-47a21ad58147\" class=\"colab-df-container\">\n",
              "    <div>\n",
              "<style scoped>\n",
              "    .dataframe tbody tr th:only-of-type {\n",
              "        vertical-align: middle;\n",
              "    }\n",
              "\n",
              "    .dataframe tbody tr th {\n",
              "        vertical-align: top;\n",
              "    }\n",
              "\n",
              "    .dataframe thead th {\n",
              "        text-align: right;\n",
              "    }\n",
              "</style>\n",
              "<table border=\"1\" class=\"dataframe\">\n",
              "  <thead>\n",
              "    <tr style=\"text-align: right;\">\n",
              "      <th></th>\n",
              "      <th>Date</th>\n",
              "      <th>Text</th>\n",
              "    </tr>\n",
              "  </thead>\n",
              "  <tbody>\n",
              "    <tr>\n",
              "      <th>2</th>\n",
              "      <td>2006-01-27</td>\n",
              "      <td>Operator: Good afternoon and welcome to the Mi...</td>\n",
              "    </tr>\n",
              "    <tr>\n",
              "      <th>1</th>\n",
              "      <td>2006-04-28</td>\n",
              "      <td>Operator: Good afternoon, and welcome to the M...</td>\n",
              "    </tr>\n",
              "    <tr>\n",
              "      <th>0</th>\n",
              "      <td>2006-07-21</td>\n",
              "      <td>Operator: Good afternoon and welcome to the Mi...</td>\n",
              "    </tr>\n",
              "    <tr>\n",
              "      <th>6</th>\n",
              "      <td>2006-10-27</td>\n",
              "      <td>Operator: Good afternoon, and welcome to the M...</td>\n",
              "    </tr>\n",
              "    <tr>\n",
              "      <th>5</th>\n",
              "      <td>2007-01-26</td>\n",
              "      <td>Operator: Welcome to the Microsoft 2007 fiscal...</td>\n",
              "    </tr>\n",
              "  </tbody>\n",
              "</table>\n",
              "</div>\n",
              "    <div class=\"colab-df-buttons\">\n",
              "\n",
              "  <div class=\"colab-df-container\">\n",
              "    <button class=\"colab-df-convert\" onclick=\"convertToInteractive('df-8748a77b-2b42-4338-abf8-47a21ad58147')\"\n",
              "            title=\"Convert this dataframe to an interactive table.\"\n",
              "            style=\"display:none;\">\n",
              "\n",
              "  <svg xmlns=\"http://www.w3.org/2000/svg\" height=\"24px\" viewBox=\"0 -960 960 960\">\n",
              "    <path d=\"M120-120v-720h720v720H120Zm60-500h600v-160H180v160Zm220 220h160v-160H400v160Zm0 220h160v-160H400v160ZM180-400h160v-160H180v160Zm440 0h160v-160H620v160ZM180-180h160v-160H180v160Zm440 0h160v-160H620v160Z\"/>\n",
              "  </svg>\n",
              "    </button>\n",
              "\n",
              "  <style>\n",
              "    .colab-df-container {\n",
              "      display:flex;\n",
              "      gap: 12px;\n",
              "    }\n",
              "\n",
              "    .colab-df-convert {\n",
              "      background-color: #E8F0FE;\n",
              "      border: none;\n",
              "      border-radius: 50%;\n",
              "      cursor: pointer;\n",
              "      display: none;\n",
              "      fill: #1967D2;\n",
              "      height: 32px;\n",
              "      padding: 0 0 0 0;\n",
              "      width: 32px;\n",
              "    }\n",
              "\n",
              "    .colab-df-convert:hover {\n",
              "      background-color: #E2EBFA;\n",
              "      box-shadow: 0px 1px 2px rgba(60, 64, 67, 0.3), 0px 1px 3px 1px rgba(60, 64, 67, 0.15);\n",
              "      fill: #174EA6;\n",
              "    }\n",
              "\n",
              "    .colab-df-buttons div {\n",
              "      margin-bottom: 4px;\n",
              "    }\n",
              "\n",
              "    [theme=dark] .colab-df-convert {\n",
              "      background-color: #3B4455;\n",
              "      fill: #D2E3FC;\n",
              "    }\n",
              "\n",
              "    [theme=dark] .colab-df-convert:hover {\n",
              "      background-color: #434B5C;\n",
              "      box-shadow: 0px 1px 3px 1px rgba(0, 0, 0, 0.15);\n",
              "      filter: drop-shadow(0px 1px 2px rgba(0, 0, 0, 0.3));\n",
              "      fill: #FFFFFF;\n",
              "    }\n",
              "  </style>\n",
              "\n",
              "    <script>\n",
              "      const buttonEl =\n",
              "        document.querySelector('#df-8748a77b-2b42-4338-abf8-47a21ad58147 button.colab-df-convert');\n",
              "      buttonEl.style.display =\n",
              "        google.colab.kernel.accessAllowed ? 'block' : 'none';\n",
              "\n",
              "      async function convertToInteractive(key) {\n",
              "        const element = document.querySelector('#df-8748a77b-2b42-4338-abf8-47a21ad58147');\n",
              "        const dataTable =\n",
              "          await google.colab.kernel.invokeFunction('convertToInteractive',\n",
              "                                                    [key], {});\n",
              "        if (!dataTable) return;\n",
              "\n",
              "        const docLinkHtml = 'Like what you see? Visit the ' +\n",
              "          '<a target=\"_blank\" href=https://colab.research.google.com/notebooks/data_table.ipynb>data table notebook</a>'\n",
              "          + ' to learn more about interactive tables.';\n",
              "        element.innerHTML = '';\n",
              "        dataTable['output_type'] = 'display_data';\n",
              "        await google.colab.output.renderOutput(dataTable, element);\n",
              "        const docLink = document.createElement('div');\n",
              "        docLink.innerHTML = docLinkHtml;\n",
              "        element.appendChild(docLink);\n",
              "      }\n",
              "    </script>\n",
              "  </div>\n",
              "\n",
              "\n",
              "<div id=\"df-418dec55-9958-49fb-b0b4-9401dba2b1f8\">\n",
              "  <button class=\"colab-df-quickchart\" onclick=\"quickchart('df-418dec55-9958-49fb-b0b4-9401dba2b1f8')\"\n",
              "            title=\"Suggest charts\"\n",
              "            style=\"display:none;\">\n",
              "\n",
              "<svg xmlns=\"http://www.w3.org/2000/svg\" height=\"24px\"viewBox=\"0 0 24 24\"\n",
              "     width=\"24px\">\n",
              "    <g>\n",
              "        <path d=\"M19 3H5c-1.1 0-2 .9-2 2v14c0 1.1.9 2 2 2h14c1.1 0 2-.9 2-2V5c0-1.1-.9-2-2-2zM9 17H7v-7h2v7zm4 0h-2V7h2v10zm4 0h-2v-4h2v4z\"/>\n",
              "    </g>\n",
              "</svg>\n",
              "  </button>\n",
              "\n",
              "<style>\n",
              "  .colab-df-quickchart {\n",
              "      --bg-color: #E8F0FE;\n",
              "      --fill-color: #1967D2;\n",
              "      --hover-bg-color: #E2EBFA;\n",
              "      --hover-fill-color: #174EA6;\n",
              "      --disabled-fill-color: #AAA;\n",
              "      --disabled-bg-color: #DDD;\n",
              "  }\n",
              "\n",
              "  [theme=dark] .colab-df-quickchart {\n",
              "      --bg-color: #3B4455;\n",
              "      --fill-color: #D2E3FC;\n",
              "      --hover-bg-color: #434B5C;\n",
              "      --hover-fill-color: #FFFFFF;\n",
              "      --disabled-bg-color: #3B4455;\n",
              "      --disabled-fill-color: #666;\n",
              "  }\n",
              "\n",
              "  .colab-df-quickchart {\n",
              "    background-color: var(--bg-color);\n",
              "    border: none;\n",
              "    border-radius: 50%;\n",
              "    cursor: pointer;\n",
              "    display: none;\n",
              "    fill: var(--fill-color);\n",
              "    height: 32px;\n",
              "    padding: 0;\n",
              "    width: 32px;\n",
              "  }\n",
              "\n",
              "  .colab-df-quickchart:hover {\n",
              "    background-color: var(--hover-bg-color);\n",
              "    box-shadow: 0 1px 2px rgba(60, 64, 67, 0.3), 0 1px 3px 1px rgba(60, 64, 67, 0.15);\n",
              "    fill: var(--button-hover-fill-color);\n",
              "  }\n",
              "\n",
              "  .colab-df-quickchart-complete:disabled,\n",
              "  .colab-df-quickchart-complete:disabled:hover {\n",
              "    background-color: var(--disabled-bg-color);\n",
              "    fill: var(--disabled-fill-color);\n",
              "    box-shadow: none;\n",
              "  }\n",
              "\n",
              "  .colab-df-spinner {\n",
              "    border: 2px solid var(--fill-color);\n",
              "    border-color: transparent;\n",
              "    border-bottom-color: var(--fill-color);\n",
              "    animation:\n",
              "      spin 1s steps(1) infinite;\n",
              "  }\n",
              "\n",
              "  @keyframes spin {\n",
              "    0% {\n",
              "      border-color: transparent;\n",
              "      border-bottom-color: var(--fill-color);\n",
              "      border-left-color: var(--fill-color);\n",
              "    }\n",
              "    20% {\n",
              "      border-color: transparent;\n",
              "      border-left-color: var(--fill-color);\n",
              "      border-top-color: var(--fill-color);\n",
              "    }\n",
              "    30% {\n",
              "      border-color: transparent;\n",
              "      border-left-color: var(--fill-color);\n",
              "      border-top-color: var(--fill-color);\n",
              "      border-right-color: var(--fill-color);\n",
              "    }\n",
              "    40% {\n",
              "      border-color: transparent;\n",
              "      border-right-color: var(--fill-color);\n",
              "      border-top-color: var(--fill-color);\n",
              "    }\n",
              "    60% {\n",
              "      border-color: transparent;\n",
              "      border-right-color: var(--fill-color);\n",
              "    }\n",
              "    80% {\n",
              "      border-color: transparent;\n",
              "      border-right-color: var(--fill-color);\n",
              "      border-bottom-color: var(--fill-color);\n",
              "    }\n",
              "    90% {\n",
              "      border-color: transparent;\n",
              "      border-bottom-color: var(--fill-color);\n",
              "    }\n",
              "  }\n",
              "</style>\n",
              "\n",
              "  <script>\n",
              "    async function quickchart(key) {\n",
              "      const quickchartButtonEl =\n",
              "        document.querySelector('#' + key + ' button');\n",
              "      quickchartButtonEl.disabled = true;  // To prevent multiple clicks.\n",
              "      quickchartButtonEl.classList.add('colab-df-spinner');\n",
              "      try {\n",
              "        const charts = await google.colab.kernel.invokeFunction(\n",
              "            'suggestCharts', [key], {});\n",
              "      } catch (error) {\n",
              "        console.error('Error during call to suggestCharts:', error);\n",
              "      }\n",
              "      quickchartButtonEl.classList.remove('colab-df-spinner');\n",
              "      quickchartButtonEl.classList.add('colab-df-quickchart-complete');\n",
              "    }\n",
              "    (() => {\n",
              "      let quickchartButtonEl =\n",
              "        document.querySelector('#df-418dec55-9958-49fb-b0b4-9401dba2b1f8 button');\n",
              "      quickchartButtonEl.style.display =\n",
              "        google.colab.kernel.accessAllowed ? 'block' : 'none';\n",
              "    })();\n",
              "  </script>\n",
              "</div>\n",
              "\n",
              "    </div>\n",
              "  </div>\n"
            ],
            "application/vnd.google.colaboratory.intrinsic+json": {
              "type": "dataframe",
              "variable_name": "msft_transcripts",
              "summary": "{\n  \"name\": \"msft_transcripts\",\n  \"rows\": 71,\n  \"fields\": [\n    {\n      \"column\": \"Date\",\n      \"properties\": {\n        \"dtype\": \"date\",\n        \"min\": \"2006-01-27\",\n        \"max\": \"2023-07-25\",\n        \"num_unique_values\": 71,\n        \"samples\": [\n          \"2011-07-21\",\n          \"2006-01-27\",\n          \"2018-04-26\"\n        ],\n        \"semantic_type\": \"\",\n        \"description\": \"\"\n      }\n    },\n    {\n      \"column\": \"Text\",\n      \"properties\": {\n        \"dtype\": \"string\",\n        \"num_unique_values\": 71,\n        \"samples\": [\n          \"Operator: Welcome to the Fourth Quarter 2011 Microsoft Corp. Conference Call. [Operator Instructions] Today's call is being recorded. If anyone has any objections, you may disconnect at this time. I would now like to turn the call over to Bill Koefoed, General Manager of Investor Relations. Bill, you may begin.Bill Koefoed: Thank you, Carol, and thank you, everyone, for joining us this afternoon. As usual, with me today are Peter Klein, Chief Financial Officer; Frank Brod, Chief Accounting Officer; and John Seethoff, Deputy General Counsel. On our website is our financial summary slide deck which is intended to follow the flow of our prepared remarks and provide the reconciliation of differences between GAAP and non-GAAP financial measures. This information is available at microsoft.com/investor. As a reminder, we will post today's prepared remarks to our website immediately following the call until the complete transcript is available. Today's call is being webcast live and recorded. If you ask a question, it will be included in our live transmission, in the transcript and any future use of the recording. You can replay the call and view the transcript at the Microsoft Investor Relations website until July 21, 2012. During this call, we will be making forward-looking statements. These statements are based on current expectations and assumptions that are subject to risks and uncertainties. Actual results could materially differ because of factors discussed in today's earnings press release, in the comments made during this conference call and in the Risk Factors section of our Form 10-K, Form 10-Qs and other reports and filings with the Securities and Exchange Commission. We do not undertake any duty to update any forward-looking statement. Okay. And with that, I'll turn the call over to Peter.Peter Klein: Thanks, Bill, and thanks, everyone, for joining us today. I'm pleased to share with you our financial results for the fourth quarter, which rounded out a solid fiscal year. We closed the year with terrific sales execution, as enterprises furthered their commitment to our Windows, Office and Server products. Customers continued to invest in our Business Desktop offerings, including Windows 7, where enterprise deployments have increased almost 50% since March. Our overall multiyear licensing business was especially strong, driven by attach of additional seats and additional products. As a result, fourth quarter bookings were up 17%. As I look back on fiscal year '11, we delivered strong financial results and products while making strategic investments and alliances that will allow us to capitalize on long-term growth opportunities. We grew fiscal year '11 revenues double digits and we delivered another year of operating margin expansion. We also grew earnings per share by more than 20% for the second year in a row. Our financial results reflect Office 2010's outstanding market reception. Deployment remains 5x faster than the previous version. Customers are also adding our business productivity applications, including Exchange, SharePoint, Lync and Dynamics to their multiyear agreements. These 4 products collectively drove approximately 30% of the business division's growth this year. We made great progress on our cloud initiative this year. We continue to lead the industry through this transformation by enabling our customers to transition to the cloud in a flexible, customized way. Last month, we launched Office 365, the latest generation of our cloud productivity service. With Office 365, we've created new profit growth opportunities for us and our partners while enabling scenarios that weren't viable in the past. In the enterprise, Office 365 enables us to increase revenue and profit per seat while strengthening customer commitment through increased product satisfaction and high return on investment. It gives us new opportunities to address the workforce that doesn't regularly use a PC in the workplace. For small and mid-sized businesses, we now offer a productivity solution with simple deployment and low upfront cost. And with 80% of small businesses having never purchased a business productivity application aside from Office, the opportunity for Microsoft and our partners is significant. During the year, we made important platform enhancements to Windows Azure, driving increased developer interest and momentum and enabling new scenarios. Companies such as Pixar, Toyota and Boeing have leveraged Azure to develop innovative solutions and enhanced experiences for their customers. At the same time, building private cloud infrastructure remains a top priority for many of our customers, and Windows Server, System Center and SQL Server are scaling with the increased workloads in data centers. In search, Bing continues to gain market share. In this quarter, we further differentiated our platform by deepening our relationship with Facebook. During the quarter, we partnered closely with Yahoo! to uncover and address several platform gaps and inefficiencies. We still face monetization challenges and will continue to work closely with Yahoo!. We remain confident in the long-term potential of the combined search marketplace. During the year, we reinvigorated our Xbox franchise with a refreshed console and with Kinect, which revolutionized home entertainment and natural user interface technology. We also had great momentum with Xbox Live, which now has approximately 35 million members. Together, these products and services drove record fiscal year revenue and operating income in the Entertainment and Devices division. In May, we announced our agreement to acquire Skype, which will extend Skype's world-class brand and global reach of its networked platform, while at the same time enhancing Microsoft's existing portfolio of products and services. With Skype, we will increase the accessibility of real-time video and voice communications to both consumers and enterprises, thereby generating new business and revenue opportunities for Microsoft. In summary, we are pleased with the terrific market response to our products and our great sales execution, both of which helped drive our solid financial results for the quarter and full fiscal year. We also continue to be excited by our strategic investments and alliances which will allow us to capitalize on long-term growth opportunities. With that, I'm going to hand it back to Bill to provide more details on our results, and then I'll come back to provide some thoughts on our outlook for the first quarter and full fiscal year 2012.Bill Koefoed: Thanks, Peter. First, I'm going to review our overall results and then move on to the details by business segment. Revenue for the quarter was $17.4 billion, up 8% year-over-year, while bookings were up 17%. For the year, revenue was $69.9 billion, growth of 12%. Operating income was $6.2 billion for the quarter, and for the year, a record $27.2 billion, up over $3 billion from the prior year. For the quarter, earnings per share was $0.69. For the year, earnings per share was $2.69, up 28%, the second consecutive year of EPS growth over 20%. This quarter, enterprise demand for our products remained strong, and multiyear commitments drove our unearned revenue balance to $17.1 billion. Our contracted not-billed balance is now over $18.5 billion. The PC market dynamics were similar to the third quarter. First, the business PC refresh cycle continued and drove estimated business PC growth of 8%. Second, PC sales to emerging markets continued to grow at a rapid pace as a record number of people around the world are using Windows PCs. We estimate that this quarter, over 40 million PCs, representing half of all global PC shipments, were shipped to emerging markets. We estimate the worldwide consumer PC market declined 2%, primarily driven by weakness in developed markets. In total, we estimate the PC market increased 1% to 3% in the fourth quarter. Now I'll move on to the results for the Windows and Windows Live division, where revenue was down 1%, reflecting the PC market dynamics I just described. As usual, you'll find the OEM revenue bridge at our earnings slide deck. Last week at our Worldwide Partner Conference, we announced that we had sold over 400 million units of Windows 7. 25% of enterprise desktops have already deployed Windows 7, and as we have stated before, over 90% of enterprises have committed to a deployment plan. During the quarter, we also provided an update of Windows 8. We demonstrated how we have reimagined Windows for a new generation of touch-centric hardware. You'll hear more at our BUILD developer conference this September. Now I'll move on to the Microsoft Business Division, which grew 7%. Consumer revenue declined 8%. The weak consumer PC dynamics in developed markets were partially offset by strong attach rates. The business transactional portion grew 27%, driven primarily by business PC growth and continued launch cycle momentum. The multiyear licensing portion of the business grew 6%. We launched Office 2010 one year ago, and for the year, the business division's revenue increased to over $22 billion, an increase of 16%. Lync, SharePoint and Dynamics all continued to grow double digits this quarter. Within our Dynamics business, which grew 19%, we saw strong growth and share gains across products. We added 300,000 new seats on Dynamics CRM, and now, 2 million users leverage Dynamics CRM every day. Now let's move on to the Server & Tools business, which posted 12% revenue growth. Transactional revenue grew faster than the underlying server hardware market, which we estimate grew mid-single digits. Multiyear license revenue grew 12%, and Enterprise Services revenue grew 14%. Our premium Windows Server and System Center revenues were both up over 20%. Customers are using Microsoft technology to virtualize their data center and build out private cloud environments. System Center revenue has also grown double digits 10 consecutive quarters. We are seeing customers continue to adopt SQL Server as they deploy mission-critical applications and implement cost-effective business intelligence capabilities. As a result, SQL Server Premium revenue grew almost 20%. Last week, we previewed Windows Server 8 and the next version of System Center. These products will further enhance customer's private cloud deployments while bridging their investments to the public cloud. We'll also share more details on these at BUILD in September. Our cloud computing platform, Windows Azure, continues to have strong customer momentum while revenue growth accelerates. During the quarter, we showcased innovative Azure implementations with Boeing and General Mills, demonstrating the power and flexibility of the platform. Next, I'll move to the Online Services division, where revenue grew 17%. Online advertising revenue grew 20%, driven primarily by search. Bing's U.S. organic market share ended the quarter at 14.4%, up 340 basis points from last year. During the quarter, we launched new features based on Facebook's social graph to help people make better, smarter decisions. As Peter mentioned, we continue to experience challenges with RPS, and we are partnering closely with Yahoo! to resolve these as quickly as possible. Now let me move to the Entertainment and Devices division, where revenue grew 30%. During the quarter, we sold over 1.7 million consoles, an increase of 18%. Xbox 360 was the #1 selling console in the U.S. for the year. At E3 in June, we announced the upcoming releases of Gears of War 3, Forza 4 [sic] [Forza Motorsport 4], Kinect Star Wars, Kinect Disney Land Adventures, Dance Central 2, Kinect Sports Season 2 and many more games. Xbox Live also continues to grow rapidly, and consumer online engagement with the service remains a core part of our Xbox value proposition. Xbox Live has entertainment content from partners such as ESPN, Hulu, Netflix and BSkyB. And this fall, we will make it even easier to find and access content via integration between Kinect and Bing. We believe the combination of these core features will help drive even broader engagement within the Xbox Live ecosystem. In May, we previewed Mango, which is our fall release of Windows Phone. Mango will deliver deeper social experiences, multitasking, Office 365 integration and will feature Internet Explorer 9 to optimize the browsing experience. During the quarter, we also signed the Nokia alliance, added several new OEM partners, launched on Verizon and Sprint and saw the number of applications in the marketplace increase 60% sequentially. Now let me cover the remainder of the income statement. In the quarter, cost of goods sold increased 17% and had similar drivers as last quarter. Hardware costs are up due to the success of Xbox 360 consoles and Kinect Sensors. Third-party content royalties are also up, reflecting strong sales on Xbox Live. Enterprise Services and our Server & Tools business continues to grow rapidly, and Online Services costs are also up, reflecting increased traffic acquisition costs, including costs related to the Yahoo! alliance. Operating expenses were $7.5 billion, an increase of 8%, primarily due to recently legislated Puerto Rican excise taxes and an increase in selling-related costs. During the quarter, we made the following adjustments to our full year tax rate, which impacted our effective tax rate for the fourth quarter. First, we made adjustments to reflect our actual mix of foreign and U.S. taxable income for the year; and second, we completed our tax filings, which resulted in adjustments reducing our tax provision. To think about the full year tax rate, our effective rate was 19.2% after adjusting for the onetime benefit in the third quarter related to the IRS settlement. Operating cash flow for the fourth quarter was $5.9 billion, growth of 6%, while operating cash flow for the full year was a record $27 billion, an increase of 12%. In the fourth quarter, we repurchased $1.6 billion of stock and declared $1.3 billion of dividends. For the full year, we returned $16.9 billion of cash, an increase of 10% year-over-year, continuing our long-term commitment to return cash to shareholders. In the past 5 years, we have returned over $90 billion and reduced our outstanding share count by 1.7 billion shares or 17%. In summary, we had a very solid quarter and year, both from a product perspective and also with regard to delivering strong financial results and returning cash to shareholders. And with that, I'll hand it back to Peter, who's going to discuss our business outlook.Peter Klein: Thanks, Bill. For the remainder of the call, I'll discuss our expectations for the upcoming quarter and full year. As we enter fiscal year 2012, we are excited by the advancing trends in technology and the resulting opportunities for us to evolve our businesses. We expect increased diversity of hardware and services designed to satisfy users' growing demand for a unified, consistent experience across multiple devices. We also expect businesses and developers to continue their transition to the cloud, given the compelling economics and flexibility. We believe that with our current portfolio and investments, we are well positioned to capitalize on these trends. Now turning to our outlook by business. For the Windows and Windows Live division, we expect revenue to continue to be impacted by market dynamics, similar to what we experienced in the fourth quarter, with emerging market growth significantly outpacing developed market growth. While emerging markets are an important opportunity for us to increase Windows penetration, they impact revenue growth percentages as they generate lower average selling prices and have higher piracy rates. We also expect business PC growth to outpace consumer PC growth, with the business PC refresh cycle continuing throughout the fiscal year. Turning to the Microsoft Business division. Transactional revenue, approximately 40% of the division's total, will likely lag the overall PC market for both the first quarter and full fiscal year, reflecting a higher mix of PC shipments to emerging markets and the launch of Office 2010 a year ago. Multiyear licensing revenue, approximately 60% of the division's total, should grow mid to high single digits for the first quarter and low double digits for the full fiscal year. Moving to Server & Tools. Approximately 30% of the division's revenue comes from transactional licensing, 50% from multiyear licensing and 20% from Enterprise Services. We expect transactional revenue to generally track with the hardware market for the first quarter and full fiscal year. We expect multiyear licensing revenue and Enterprise Services revenue to grow low double-digits for the first quarter and full fiscal year. Turning to the Online Services division. We expect online advertising revenue to perform roughly in line with the overall online advertising market for the first quarter and full fiscal year. Within the Entertainment and Devices division, we expect revenue to grow high single digits for the first quarter and mid-teens for the full fiscal year. Keep in mind that first quarter revenue will include a higher mix of hardware, reflecting last September's Halo Reach launch, and will result in gross margins similar to full fiscal year '11 margin. Switching to overall cost of goods sold for the company. The biggest factor impacting COGS going forward will be the shift of revenue mix across hardware, software, Enterprise Services and Online Services. In fiscal year '12, we will continue to prioritize our spending and manage our costs. We are reconfirming our guidance of 3% to 5% growth and expect operating expenses to be $28.0 billion to $28.6 billion for the full fiscal year. We expect our effective tax rate to be 19% to 21% for the first quarter and full fiscal year, and we still expect capital expenditures for the full fiscal year to be about $2.5 billion. Moving to unearned revenue. Given our strong sales execution and our record unearned balance at the end of the fiscal year, unearned revenue in the first quarter will likely lag historical sequential growth patterns by a few points. We expect unearned revenue at the end of fiscal year '12 to grow low double-digits over this fiscal year. In summary, we delivered solid financial results for the fourth quarter and full fiscal year. As we look towards fiscal year '12, we have good product momentum in the market and are excited by the opportunity to help our customers take advantage of the advancing trends in technology. And with that, I'll turn the call over to Bill and we'll take some questions.Bill Koefoed: Thanks, Peter. We want to get to questions from as many of you as possible, so please stick to just one question and avoid long or multi-part questions. Carol, can you please go ahead and repeat your instructions?Operator: [Operator Instructions] Our first question today will be from Walter Pritchard, Citi.Walter Pritchard: You mentioned in the slide deck there that 20% of the FORTUNE 500 has started to adopt the Office 365 Online Services. And I'm assuming it's pretty early there, but I'm wondering if you could help us understand how quickly you expect that to progress throughout fiscal '12, and sort of what impact we should see on the financial statements as that starts to happen in fiscal '12 or maybe beyond.Peter Klein: Yes. You see it hit the financial statements in 2 ways actually, Walter. One is will be in the actual Office 365 revenue, but also as we continue to have the conversations about the migration to the cloud, you see that show up in our multiyear licensing revenue, and you saw some of that this quarter with our really strong multiyear licensing revenue across the board. The market response so far has been great. We're really excited about it. We expect that to accelerate over time. But again, I think you'll see it in both ways. You'll see it in our multiyear licensing revenue and in our Office 365 revenue.Operator: The next question will be from Adam Holt, Morgan Stanley.Adam Holt: My question's about the E&D commentary for next year, which was, I think, a surprise, relative to, certainly, the consensus expectations in that it's a lot higher than where consensus was for next year. Can you talk a little bit about some of the detail behind the assumptions there? Specifically, what are you expecting or what is embedded around the Nokia relationship, and what are you expecting and what's in the numbers around any kind of share gains following Mango?Peter Klein: Well, the single biggest driver in the E&D division is going to be Xbox, right? And so we've got great momentum in the marketplace with the console, which we've refreshed a year ago, with Kinect which just came to market last holiday, with a bunch of new content and titles that Bill talked about in terms of games as well as broader entertainment content. So as we look to continue the momentum that we have with our share position in the marketplace, you see the strategy really coming together in that business, selling the installed base of the consoles and then having the social connectivity with Xbox Live and the broader entertainment portfolio. And so a lot of that strength relates to the Xbox business. Additionally -- I mean, I think it's fair to say that our division thinks that we've just scratched the surface of the possibilities with both the Xbox console and Kinect. And obviously, as I talked about with the games that we had coming out at Christmas, people are super excited about the possibilities there.Operator: The next question is from Heather Bellini, Goldman Sachs.Heather Bellini: I just had a quick question. There's been a lot of talk about patents and money that you guys could be receiving for patent violations. How do we think about modeling those, if there's any tips you could give us? And how do we think about those -- where they would show up and kind of what segment they get embedded in?Peter Klein: I think the most important thing to think about, stepping back, is of our overall approach, right? We have a firm culture and belief in innovation, intellectual property and protecting our right to intellectual property. And we've done that consistently with the industry-wide licensing program related to Android. Specifically, broadly too, but Android, which infringes on some of our patents. I think we haven't talked a lot about what to expect from a modeling perspective on there, so you should just look to what we do on our licensing program going forward.Operator: The next question is from Philip Winslow, Credit Suisse.Philip Winslow: Just going back to deferred revenue. Obviously, that was well ahead of consensus, and I think it's the strongest year-over-year growth you've had in MBD since '06 and Server & Tools since '08. What really changed this quarter, the second half of the fiscal year that drove that up so much from what we've been seeing over the past couple of years? And just anything specific to those 2 divisions as well.Peter Klein: Yes. No, there are several things. One, the business refresh has continued as companies have come out of the economic downturn of a few years ago. They really are investing in technology. They're seeing the opportunities for technology to really enhance their value proposition. And they are seeing the benefit of our technology. They're really making a long-term commitment to our product set. In MBD, it's really about intentional strategy we've had really over the last 3 to 5 years to sort of broaden the view of what productivity means and how we integrate, not only the great new Office applications, but also with e-mail, with Exchange, collaboration with SharePoint and more recently, communications with Lync. And customers are really seeing the benefit of that. We're really just starting to scratch the surface on that. As I said on the call, a lot of our revenue was driven by growth in those businesses. And if you add to that what we're doing with Dynamics, in taking share in both ERP and CRM, it really is driving a lot of growth, and that really is sustainable. At the same time, in Server & Tools, we've really scaled our products across the board, whether that's with the premium versions of Windows Server and System Center and also SQL Server. And so as we've done that and customers are investing in their data centers, in their private cloud implementations on the way to the public cloud, we're really taking advantage of that and getting good double-digit growth there. So the combination of a really strong environment for businesses investing in the value of IT and our product set sort of across the board, from infrastructure to applications, has been great.Operator: The next question is from Brent Thill, UBS.Brent Thill: Peter, just on enterprise demand. Is there any change in terms of what you're seeing in the U.S. versus European demand profile?Peter Klein: No. This quarter, we actually saw broad-based demand across all the geographies. Obviously, emerging markets remain very strong. But this quarter, we saw demand and great sales execution really across Europe and the U.S.Operator: The next question will be from John DiFucci, JPMC.John DiFucci: Bill, when you said that 25% of enterprise desktops are already deployed with Windows 7 and 90% of enterprises have committed to a deployment plan, I was just curious. Is it fair to say that about -- that 25%, should we be thinking of those as largely on the lower end, in the SMB that sort of act more like consumers? And does the committed, your word there, \\\"committed\\\", does that mean that they're already contracted for, or they've started to contract at the lower level and you expect that to continue going forward?Peter Klein: Yes, that's a great question. On the enterprise side, clearly, companies like JPMorgan have started looking at Windows 7 and working on the deployment plan. When we think about the term \\\"committed\\\", it means that either a Microsoft sales rep or a partner actually have plans in place where they're looking at a rollout schedule. So it's a very deliberate plan. They're engaged in testing. In many cases, I think we talked about that last quarter, but not so much this quarter, they're also rolling out Office 2010 at the same time that they're rolling out the Windows 7 Desktop. So we're excited obviously about the speed of the deployment process that's been underway, but we also think there's a lot of opportunity for the future. And I think to your point probably, enterprises are a little bit further along just due to the -- probably the macroeconomic environment. And we've seen more deliberate execution there than maybe in some of the other areas. That's a great question.Operator: The next question is from Robert Breza, RBC Capital Markets.Robert Breza: Peter, I was wondering if you could talk to, I think, your comment, you said that you believed unearned revenue could grow low double digits. I'm assuming most of that's going to be coming on the enterprise side. And you specifically called out in your commentary some of the drivers to that growth. Could you maybe just help us clarify that in terms of the unearned revenue?Peter Klein: Yes, you're correct. Most of that growth will come from the enterprise, and it goes back to that strength we're seeing in selling multiyear licensing agreements and the demand we're seeing for the product set across the portfolio of the Business Division and the Server & Tools business. So the dynamics that we saw this past quarter, we see playing out again next year, and that will drive the unearned growth for the full year. I would add, and I talked about this a little earlier but I'll go back to it again, the conversations increasingly that we're having with the cloud, whether that's Office 365 or Windows Azure or Windows Intune or Dynamics CRM Online, really play into that as well because we find increasingly, customers wanting to make long-term commitments when they see that migration path to the cloud as well. And that, you'll see coming to, I think, even more play this year.Bill Koefoed: Yes. I think communicating our roadmap to our customers has been a big advantage. And they like our roadmap, they're committed to our roadmap, and that's been a really good thing.Operator: Brad Reback, Oppenheimer.Brad Reback: Peter, on the revenue per search aspect towards Yahoo!, can you give us any sense how far along the road you are there? Do you think you're 30% of the way to getting the problem solved?Peter Klein: That's a good question. What we think and what we say and what we believe is we're on a path and we're totally aligned with Yahoo! on this, and the collaboration has been fantastic and the right people are focused on it, is we'll have this turned around by the end of this calendar year and move forward from there. And we're still on a path to do that, and I think both sides are signed up for that plan.Operator: The next question is from Colin Gillis from BGC.Colin Gillis: Peter, just on that same theme in Online Services, can you give us a sense what percent of the expense is ongoing costs and then what percent might be transition costs that could possibly roll off?Peter Klein: The bulk of it's ongoing cost. There's a little bit of transition cost, but you should think of the bulk of it is ongoing cost. And really, the dynamics of that business, as you know, are -- it's a high fixed-cost business, it's a scaled business, and as we grow our revenue per search, that's a highly leveraged revenue dollar that we get. It goes against that fixed cost base.Bill Koefoed: So clearly, improving our RPS is our goal that we're laser-focused on as we've talked about.Peter Klein: Completely.Operator: Brendan Barnicle, Pacific Crest Securities.Brendan Barnicle: Peter, how should we think about repatriation of cash as you guys generate so much in some of these foreign jurisdictions?Peter Klein: Well, the broader issue of just income tax policy, we'll leave to the experts. Obviously, we're supportive of long-term enhancements to our income tax policy. In terms of repatriation specifically, I don't think it's a big issue one way or the other for either our operations or our strategies or what we're able to do. We've obviously had a very good year both in terms of our financial results and our ability to deliver cash back to shareholders.Operator: Ed Maguire, CLSA. Edward Maguire - Credit Agricole Securities (USA) Inc. Could you discuss the monetization trends you may be seeing from Xbox Live? Seems like you've got some decent subscriber growth.Peter Klein: Yes. No, it's really been fantastic. As we've grown the subscriber base, there's actually a couple of revenue streams. There's the subscription revenue stream and then there's the transactional revenue stream for people who actively engage with the service that they can buy purchases while they're engaged in that. And that really helps to accelerate the monetization of that business. And that's a really, really amazing long-term opportunity for us, particularly as we continue to take share of just the whole console platform.Operator: The next question will be from Gregg Moskowitz from Cowen and Company.Gregg Moskowitz: Peter, I just had a question on guidance. In the past, you've talked about Windows revenue growth roughly tracking PC unit growth. We all know about the mix shift to emerging markets, but is there anything you can say to help frame how we should think about the gap between Windows revenue growth and overall PC growth in fiscal '12?Peter Klein: Yes. I think I would stick with the framework that we gave, and it's -- there's hopefully a lot of texture to that. And depending on one -- what assumption one makes about the growth in emerging markets versus developed markets and businesses versus consumers really impacts what that growth will be. Obviously, the more faster growth there is in emerging markets relative to developed, is more headwind for the Windows growth relative to the overall PC market. But I think understanding what your belief is about those dynamics should help a lot with that.Operator: The final question will be from Tim Klasell, Stifel, Nicolaus.Tim Klasell: Office 365 has now been out in the market for a little while. Can you -- but you have multiple bundles at very wide price points. Can you sort of point to a bundle or the bundles that appear to be the most popular right now?Peter Klein: Well, it's been out for about a month, so it's really too early to tell. But I would say that the philosophy behind that pricing is to provide the right set of choices for every customer in every segment, depending on what their needs are. And so ultimately, I think we'll see a broad cross-section of customers choosing different pricing plans, whether you're a small and medium business who's never had Exchange or SharePoint or Lync before, there's a really affordable option for you to jump in. For enterprises who need much more scalability, who need premium versions, they can pay a little bit more. And so as always, we really believe in understanding what the different needs are, different customer segments, in structuring our SKUs and our pricing to reflect the best options for every customer segment depending on their need.Bill Koefoed: So that will wrap up the Q&A portion of today's earnings call. Just a reminder that Microsoft's 2011 Financial Analyst Meeting will be on the afternoon of September 14 in Anaheim. FAM will be held in conjunction with BUILD, our developer conference, which will kick off the morning of September 13th at the Anaheim Convention Center. We encourage investors to attend BUILD or watch the keynotes via webcast as it will offer people the opportunity to learn directly about our product strategies and roadmaps. Please contact us if you have not received an invitation as preregistration will be required. Thanks again for joining us and have a great day. Thank you.Operator: This concludes today's conference call. You may disconnect at this time. Thank you.\",\n          \"Operator: Good afternoon and welcome to the Microsoft 2006 fiscal year 2nd quarter earnings conference call. Your lines have been placed on listen-only until the question and answer session of the conference. This call is being recorded. If you have any objections, please disconnect at this time. I will now turn the call over to Miss Colleen Healey, Senior Director, Investor Relations. Please go ahead. Thanks Laura. Good afternoon everyone and thank you for joining us today. This afternoon I am joined by Chris Liddell, Senior Vice President and Chief Financial Officer, Scott Di Valerio Corp. VP, Finance and Administration, and Chief Accounting Officer and John C. Todd, deputy general counsel. Today\\u2019s call will start with Chris providing some key takeaways for the second quarter of fiscal year 2006 and an overview of expectations for the rest of the fiscal year. Scott will then provide detail around our second quarter results and then turn it back to Chris for a more detailed discussion of our guidance for the third quarter and full fiscal year. After that, we\\u2019ll take your questions. We filed our 10Q today in conjunction with our earnings release. Therefore, you have available the earnings release, MDNA, financial statements and footnotes. We have also posted our quarterly financial summary slide deck which is intended to follow the flow of our prepared remarks in order to assist you. The slide deck offers highlights from the quarter, outlines our guidance and provides a reconciliation of differences between GAAP and non-GAAP financial measures that we will talk about today. You can find the earnings release, the 10Q and the quarterly financial summary slide deck on the investor relations website at www.microsoft.com/msft. Today\\u2019s call will be recorded. Please be aware that if you decide to ask a question it will be included in both our live transmission as well as any future use of the recording. As always, shareholders and analysts can listen to a live web cast of our call at the Microsoft investor relations website. A replay of the call will be available at the same place through the close of business on January 26, 2007. This conference call report is protected by copyright law and international treaties. Unauthorized reproduction or distribution of this report or any portion of it may result in civil and criminal penalties. Any recording or other use of or transmission of the text or audio to this call is not allowed without the express permission of Microsoft. We will be making statements during this call that are forward-looking. These statements are based on current expectations and assumptions that are subject to risk and uncertainty. Actual results could differ materially because of factors discussed in today\\u2019s earnings press release, in the comments made during the conference call and in the  management discussion and analysis section of our 10Q or 2005 10K or other reports and filings with the securities and exchange commission. We do not take any duty to update any forward-looking statements. With that, please click to slide number four, where Chris\\u2019s comments will begin. Chris? Thank you colleen and good afternoon everyone, thanks for joining us on today\\u2019s call. I\\u2019d like to begin by highlighting the key points from our second quarter performance and take a look at the rest of fiscal year 2006. We had a very good second quarter with highlights being three extremely successful product launches, good growth in our core businesses and delivery of operating income and earnings this year in line with expectations. We have been looking forward to this quarter as we kick off the broadest multi-year product cycle in the company\\u2019s history. Looking back on quarter 2, we\\u2019re off to an excellent start. During the quarter we had significant on time and successful launches of products for both consumers and businesses. The quarter\\u2019s new product launches created a lot of justifiable excitement in the marketplace. For example, the highly anticipated XBOX 360 had a phenomenal reception by consumers. Demand for the product has been high and we look forward to increasing the console availability in the second half of the fiscal year, with the addition of our third manufacturing partner. Just as eagerly anticipated and well-received by business customers was SQL Server 2005 and Dynamic CRM 3.0. And during the quarter, we positioned ourselves well for continued momentum and setup pipeline success with two community technology preview releases of Windows Vista, the initial Beta releases of Office 12 and Exchange 12 and many Beta versions of our Window Live Update. Our core software businesses enjoyed healthy growth, driven by strong demand from corporate customers and strong PC and Server unit segments. Growth in client revenue and a robust PC environment was driven by consumer strength during the holiday season. The real highlight for the quarter was that Server Tools continues its impressive string of double digit revenue growth. SQL Server generated over 20% of year over year revenue growth during the quarter, significantly outpacing the database market and our expectations from last quarter. SQL Server 2005 is quite simply an outstanding product, meeting the needs of customers and we were delighted to have seen the faster than expected adoption at and after the launch. We were pleased to see both business solutions and mobile and embedded devices continue their recent momentum and, in both cases, achieve operating profitability t his quarter. While we do not expect them to remain consistently for the remainder of fiscal 2006, their strong revenue and profit performance reinforces their trajectory to exit emerging status sometime in fiscal 2007. Lastly, during the quarter, we continue to have momentum on returning cash to shareholders. We announced a one cent increase in our quarterly dividend, equating to a 12 _ percent increase. And we purchased 7.7 billion dollars worth of our stock, our largest ever quarterly stock buyback. Overall, we\\u2019re pleased with our performance in both Q2 and the first half of fiscal 2006. So now, I\\u2019d like to make a few points about how the rest of the fiscal year is shaping up. First, we continue to expect double-digit revenue growth for fiscal 2006, driven by sustained momentum in our core software businesses and by strong demand for the XBOX 360. Second, we will continue to invest in our businesses. As we mentioned on the last call, we are investing in our core businesses of client Information Worker and server tools for product launches. We will also continue to invest in MSN in order to bring rich and compelling services and content to our users and a world-class advertising platform to our advertisers. I\\u2019ll discuss a little bit more about the investment in MSN later in the call. We\\u2019re confident that we\\u2019re making the right investments for products in the near-term horizon as well as initiatives and products that will benefit us longer-term. And even with these investments, we expect to deliver strong double-digit earnings growth the second half of the year. So with those opening remarks, I\\u2019d like to turn the call over to Scott for more details on the quarter and then I will provide you with more details on the rest of the fiscal year. Thanks, Chris, and good afternoon everyone. As Chris mentioned, Q2 is a good quarter overall, with revenues slightly below our guidance and bottom line results largely in line with our expectations. During the quarter, revenue was a record $11.8 billion up 9% from the prior year, driven by growth in our core software businesses and home entertainment. Operating income was $4.7 billion, which is at the high end of our expectations entering the quarter and driven by operating profitability in six of our seven busy seasons. We delivered good earnings growth with earnings-per-share of $.34. When adjusted for tax-rated benefits realized in the quarter of $.01 per share, this is also at the high end of our guidance. We kicked off a significant multi-year product cycle with launches of XBOX 360, SQL Server 2005, Dynamic CRM 3.0 and a host of other products. And, lastly, we returned over $8.5 billion to shareholders in the form of stock repurchases and dividends. So while revenue is slightly below our guidance, we had a successful quarter, which I will highlight over the next several minutes. I will start by discussing topline financial and business points and will follow with the revenue performance of each of the business units. Then I\\u2019ll wrap up with an overview of operating income performance as well as balance sheet and cash flow information. All comparisons are meant to relate to the comparable quarter of last year, unless otherwise specified. Our core businesses had another good quarter. Overall revenue growth was driven by server and tools revenues which grew 14% on the strength of SQL sales and client revenue growth of 8%, driven by the strength of PC hardware shipments. Add in a good quarter by Information Worker, and our three largest businesses grew revenue by a combined 9%, representing $785 million in absolute revenue growth. Another key driver for the quart4r was the launch of XBOX 360 which drove home entertainment revenue growth of 13%. We\\u2019re also pleased with the continued momentum in our Microsoft Business Solutions and Mobile Imbedded Business units which grew 17% and 40%, respectively. The IT spending environment was also largely in line with our expectations. The clear highlights were strong demand in the enterprise and continued strength of the PC and Server harder market growth. Demand was generally healthy across all customer segments and, from a regional perspective, EMEA and the emerging markets were relatively strong. We estimate PC market growth during the quarter at 14-15%, which is stronger than we expected 3 months ago. A very strong holiday sales season resulted in consumer PC shipment growth outpacing business shipments for the third consecutive quarter. From a form factor perspective, growth in notebook PC shipments continues to outpace desktops. PC unit demand was broad-based regionally with double-digit growth rates in all geographies, except for North America and Japan and emerging market growth rates continue to significantly outpace mature markets. Our mix of product billings for the quarter was generally consistent year-over-year with roughly 35% from OEMs, 25% from multi-year licensing agreements, 20% from license-only sales and the balance from our other businesses. We had good results, overall, from a volume licensing perspective with the strongest growth in enterprise agreements, where our renewal experience remains within our historical range of 65-70%. Select and open annuity results for the quarter are also very good, relative to non-annuity licensing. Our unearned revenue balance ended the quarter where we expected it, at $8.8 billion, up slightly from the prior quarter and represents an 11% increase over the prior year. The sequential change in unearned balance was impacted by the relatively small amount of multi-year contract value that was up for renewal during the quarter, relative to prior year amounts. Our contracted, not billed balance at the end of December was up sequentially and now exceeds $9 billion. Before I get into the revenue details for each business group, I\\u2019d like to point out that the foreign exchange rate impact on revenue was not meaningful to our overall revenue growth. So now, let\\u2019s move on to a discussion of revenue by business segment. Client revenue grew 8%, driven by OEM revenue growth of 10%, offset by a 2% decline in commercial and retail licensing. The OEM revenue growth resulted from 15% license unit growth. The different between OEM licensing growth and revenue growth is caused primarily by a shift in channel mix toward larger OEMs with volume pricing, growing volume in emerging markets, and the relative strength of the consumer segment of the PC market, which results in higher volumes of Windows XP Home Edition and Media Center Edition, relative to total units sold. As we discussed last quarter and consistent with the relative strength of the consumer segment of the market, we continue to see a change within the sales mix of our premium edition operating systems, licensed to OEMs. Our OEM premium mix is up 2 percentage points from the prior year, at 49%. A larger percentage of premium edition sales were made to consumers purchasing Windows Media Center, which carries a lower priced premium relatively to Windows Professional. All in all, we were pleased to see the significant market traction and continued growth for Windows Media Center edition, which has sold over 6.5 million licenses to date. Server Tools continue to deliver double-digit revenue growth for the company, reflecting broad adoption of Windows Server System products and an exceptionally strong SQL Server 2005 product launch. SQL Server 2005 provides a data management and analysis platform that enables organizations to reliably manage mission-critical information entered in complex business applications. Its business intelligence capabilities enable companies to gain greater insights from their business information. The value proposition of the product is outstanding and we\\u2019re delighted to see that many customers agree. Revenue for the quarter was $2.9 billion, a 14% increase over the prior year. Continued share gains in the enterprise resulted in SQL Server revenue growth in excess of 20%. During the quarter, we also successfully launched digital studio 2005, BizTalk Server 2006, and Windows Server 2003R2, adding to our already strong product lineup. Our enterprise services businesses also continued to show solid progress, with revenue growth of 17%. Information Worker revenue was in line with our expectations, growth 5% to $3 billion. Revenue growth related to volume licensing and pre-installed versions of Office in Japan were strong. This quarter we experienced an increased annuity mix in our overall billings, which we attribute to customers desiring to acquire both Office 2003 and Office 12 upon its release later this calendar year. During the quarter, we also released a preview of Office 5, our future services offering targeting small businesses as well as the technical data of Office 12, which garnered positive reviews from the industry. MBS revenue was $242 million, which was higher than our expectations and up 17% from the prior year, driven by the early release of Microsoft Dynamics CRM 3.0 and strong results in EMEA. As a result of the strong revenue growth, we were pleased to see MBS achieve operating profitability in the quarter. We also shipped new versions of Dynamics GP 9.0 and Dynamics SL 6.5 during the quarter. MSN revenue was $593 million, down 2%, driven by advertising growth of 12%, offset by an expected decline of 33% in narrow-band access revenue. We are pleased with the display advertising, which grew in excess of 20% for the quarter. We improved display advertising pricing and increased our inventory while increasing the number of users of our services. Active Hotmail accounts grew to 230 million, compared to 191 million in the prior year. And, active Messenger accounts grew to 205 million, compared to the 156 million of the prior year. As you know, we\\u2019re in the middle of a transition in search advertising business, moving from Yahoo\\u2019s platform to our own proprietary platform called MSN Ad Center, which we began testing in the US during the quarter. The ramp-up of a new ad platform requires significant investment from Microsoft, both in development costs as well as in reduced revenues related to fewer numbers of overall advertisers and resulting lower key word pricing. The good news is that response to our platform has been great and we are ramping up deployment by rapidly envoying advertisers and moving more search traffic to the platform. On algorithmic search, we are continuing to grow query volume, improving relevance and are investing in several search verticals. We have recently launched mapping, the birds-eye flyover mapping service and are soon to launch news and images. We continue to invest in search for long term and believe there\\u2019s lots of innovation yet to come. The decline in our narrow-band access revenue is in line with our expectations as customers continue to move on to broadband. MBD revenue for the quarter grew 40% on broad strength across the Windows Imbedded and Windows Mobile product lines as we continue to capitalize on growing market demand for connected devices. Windows Mobile licenses for connected phone-enabled devices grew in excess of 70% from the prior year. Windows Imbedded product growth of 64% was driven by the increasing use of Windows CE and Windows XP Imbedded in a wide range of smart devices such as point of sale terminals and thin clients. As a result of the strong revenue in the quarter, MBD also achieved it its first quarter of operating profitability. Home and entertainment revenue growth for the quarter was 13%, driven by the XBOX 360 launch and solid growth of our consumer hardware and PC games product lines. During the second quarter, XOB 360 achieved an unprecedented video game console launch, and we are thrilled with the results. We were first to market in 19 countries with XBOX 360 and have garnered record software attach rates, indicative of the strength of our games portfolio. On XBOX Live, we continue to lead the way in online gaming. Whereas, on XBOX Version 1, about one in ten customers are connected to the XBOX Live service, on XBOX 360 more than half of all consoles are connected. We\\u2019re off to a strong, early start with all these factors and coupled with the continuing uncertainty of our competitors entering the next generation, we are right where we want to be. Demand for XBOX 360 consoles has been incredibly strong and feedback on the platform has been incredibly positive. Our previous challenge in the quarter was meeting the high consumer demand for the console. We sold 1.5 million XBOX 360 consoles in the 2nd quarter, with 900,000 consoles in North America, 500,000 consoles in Europe and the remainder in Japan. This is lower than we expected due to component charges stemming from challenges in ramping supply of a complex product like XBOX 360. We believe that this is a short-term manufacturing challenge and we have taken steps to increase supply to meet the strong consumer demand for the console. A key indicator of platform health is the attach rate for games and accessories. According to NPD, software attach for the XBOX 360 in the US was more than 4 per console and accessory attach was more than 3 per console for the quarter. Both are records with consumers purchasing nearly double the amount relative to any other console launch in history. The software results, in particular, highlight that we have launched XBOX 360 with an incredibly strong lineup of games. XBOX Live continues to lead the way in defining online entertainment and is regarded as the standard by which all other online gaming services will be measured. Since the launch of XBOX 360, XBOX Live members have downloaded over 4 million pieces of high definition games, music and movie content from the XBOX Live marketplace. Lastly, our XBOX Version 1 platform remains a great value to consumers. We sold over 2.2 million XBOX 1 consoles in the first half of the fiscal year, bringing the installed base to over 24 million worldwide, with 16 million in North America and 6 million in Europe. All the demand for XBOX 1 consoles and software sales was negatively impacted by the momentum and excitement surrounding the XBOX 360 launch. Now for the rest of the income statement and balance sheet. While revenue increased 9%, cost of revenue increased 19%. This increase was due to costs primarily associated with the XBOX 360 console volumes. The remainder of operating expenses increased about $750 million or 18%. As we discussed in the past, we are investing aggressively in our businesses to satisfy customers and to compete and win in the marketplace. Investments this quarter were focused around the following areas: strong levels of high end investment in research and development focused on new product development examples of which include Windows Vista, Office 12, Longhorn Server, Exchange 12, MSN Ad Center, Search and Communications Services. Advertising focused primarily on our clients and worker information businesses as well as overall corporate branding. Increased hiring for field sales and marketing positions is scored in future revenue growth. Specifically in our enterprise and small and medium businesses sales forces as well as our Information Worker specialists. And, marketing spending associated with the product launches in the quarter including SQL Server 2005 and XBOX 360. As you know, we have always taken a long-term view of our business. Today\\u2019s investments in product R&D and Sales and marketing lays out the foundation for future revenue and profit growth. Investment income in other totally $400 million including $212 in net gains on investments and $185 in net losses on derivatives, primarily related to losses on foreign exchange contracts and commodity positions. Our effective tax rate for eh quarter was about 29%; lower than expected due to a $108 million tax benefit associated with the settlement of state audits. Now for a brief summary of the cash flow statement and balance sheet. We generated over $2.2 billion in cash from operations, a 38% decline from prior year due to increased spending on XBOX 360 inventory and other changes in the working capital. Of the over $8.5 billion returned to shareholders during the quarter, $7.7 billion was for the repurchase of 283 million shares, with the remainder for dividends. During the quarter our board of directors also announced a $.01 increase in the regularly quarterly dividend; bringing it to $.09 per share, per quarter. Cash and equivalents in short term investments were down $5.4 billion and 13% sequentially for the first quarter, to $34.7 billion, reflective of the record amount of share repurchase activity in the second quarter. So in summary, we achieved record revenue of 9% growth driven by our core businesses, representing over $1 billion in absolute revenue growth versus the prior year. We will continue to invest to fuel revenue and profit growth in the future. Our earning per share was at the high end of our expectations, excluding tax benefits for the quarter. We executed on key product launches kicking off a significant, multi-year product cycle and we repurchased our stock at record levels. With that, let me turn it back to Chris who will provide you with our expectations for Q3 and the rest of fiscal 2006. Thanks, Scott. As some of you may know, Scott\\u2019s in the process of transitioning into his new role as the head of the OEM group. Microsoft OEM Channel is obviously critical to the company\\u2019s success and we look forward to his contributions there. I\\u2019d certainly personally like to take this opportunity to thank Scott for all of his hard work and dedication in driving functional excellence across finance. Moving into his new role will allow Scott to continue forward in his already substantial impact here at Microsoft. However, I\\u2019m sure he will also dearly miss joining us here on these quarterly calls. Now I\\u2019m going to spend my remaining time on the call giving you a view of what we are expecting for the third quarter and the rest of the full fiscal year. Please keep in mind that all of the gross figures that I am using reflect year-over-year grow to comparable period, unless otherwise noted. Before giving specific financial guidance, let me outline some of our key assumptions around the economy and general demand in the industry. With calendar 2006 underway, we expect overall IT spending to remain healthy in the new year. We feel good about our ability to participate in any growth in the overall marketplace in the coming year. We estimate for the 3rd Quarter PC unit growth should be 11-13%, primarily as a result of higher than expected growth in the first half of fiscal 2006, we are raising our full fiscal year estimate to 12-14%. Our expectation is that growth from the total server hardware market remain unchanged at 11-13% for the full fiscal year. For our forecast, we\\u2019re assuming that changes in foreign exchange rates will not have a material impact on our year over year growth rates. So now for some detailed guidance. For the full year, we\\u2019re tightening the revenue range that we gave you in October, as we now expect revenues to come in between $44.0 and $44.5 billion, representing growth of 11-12%. We\\u2019re forecasting the Q2 strength in our core software businesses to continue into the second half. For the 3rd quarter we expect revenue up $10.9-$11.2 billion, representing year over year growth of 13-16%. Revenue by business group is as follows: For client, expect revenue growth to be 7-8% for the full fiscal year and 7-9% for the third quarter. We expect OEM units to grow roughly in line with the market, aided by growing traction in emerging markets. In server and tools we\\u2019re raising our expected revenue growth to 15-16% for the full fiscal year and 15-17% for the third quarter. We are forecasting continued corporate demand for our server products with SQL Server 2005 continuing to show strong market acceptance. Information Worker revenue should grow 5-6% for the full fiscal year and 6-7% for the 3rd quarter. As we move closer to the launch of Office 12, we expect corporate customers to increasingly prefer annuity licensing programs when evaluating Office purchases. For Microsoft Business Solutions, we expect revenue growth to be 14-15% for the full fiscal year and approximately 16% for the 3rd quarter. Demand for our new Dynamic CRM 3.0 has been above our expectations and we\\u2019re forecasting the recent strength to continue through the 2nd half. For MSN, we\\u2019re expecting revenue to be flat for both the full fiscal year and the 3rd quarter, which reflects slightly lower revenue expectations for this business in fiscal 2006, driven primarily by our plans to accelerate the rate at which we ramp up Ad Center to deliver our paid search results. While this is an important strategic decision for the long-term, it does have a dampening effect on revenue for search in the short term. Additionally, as I spoke about earlier in the call, we will also be making additional investments to strengthen the competitive position of our internet services. Areas of investment include for example, global infrastructure, where we are investing in global infrastructure in order to provide high quality performance and reliability for our customers on a global basis. In Ad Center, we\\u2019ll be hiring a thousand support people to provide great end-to-end service for our advertising customers, investing in development talent to increase the range of functionality for advertisers, and thus increasing their ROI, increasing traffic to Ad Center to speed the transition from Yahoo\\u2019s network and finally, rolling out Ad Center to more countries globally, to provide end to end advertising solutions to our customers everywhere. In Search, we\\u2019re investing in search verticals by increased development resources and via acquisitions. For example, we bought GeoTango, which is a 3D internet visualization technology company, to enhance Windows Live Local Search. We\\u2019re confident that we\\u2019re making good investments for products on the near term horizon as well as for initiatives and products that will benefit us longer term. Mobile and Embedded devices revenue should grow greater than 30% for the year and about 35% for the 3rd quarter, driven by a number of exciting new devices, based on Windows Mobile 5.0. Home and Entertainment revenue is expected to growth between 35% and 45% for the year and between 80% and 100% for the 3rd quarter, which reflects a reduction of the revenue guidance that we gave you in October, primarily as a result of 2 factors. First, lower expectations for the XBOX 1 business as the moment around XBOX 360 has drawn some attention away from the previous platform. We expect to continue to sell the XBOX 1 console well into the calendar year 2006 and certainly see this as a stretching out of the sales cycle. There are 800 games currently available for the platform and we expect there will continue to be a great deal of new content from third party publishers in the coming years. Second, we have slightly slower expectations for our consumer hardware, software and PC games business. We\\u2019ve also lowered our estimate of XBOX 360 console sales in the first 90 days of launch from 2.75 \\u2013 3 million units to 2.5 million units due to supply constraints. Even so, we estimate that consumers will spend over $1.5 billion in total retail value on XBOX 360 consoles, games and peripherals in these first 90 days, which is indicative of the health and magnitude of the XBOX 360 launch. As you know, we\\u2019re bringing on a third manufacturing partner, Salistica, next month to help in meeting strong consumer demand for the XBOX 360 console. For that reason, we are not adjusting our previously announced fiscal year console sales guidance of 4.5-5.5 million consoles and our revenue guidance, which is based on unit sales within that range. We continue to expect great software sales for XBOX 360, resulting from a strong flow of new games for the platform over the coming months. By the end of June, XBOX 360 will have more than 50 high definition games from the best names in publishing. We delivered an unprecedented global launch during the quarter and by the end of March, XBOX 360 will be available in nearly 30 countries and will remain on track to be the fastest selling video game console in history. Operating income for the full fiscal year is expected to be between $17.9 billion and $18.3 billion, representing growth of 23-25%. Brief note, this full year guidance includes the charge we took in Q1 of $361 for the settlement of Real Networks. Before significant settlement and other such items, operating income for the full fiscal year is expected to be $18.3-$18.6 billion, representing double-digit growth of 10-12%. For the 3rd quarter, operating income should be $4.5-$4.6 billion, representing 36-39% growth over the prior year or 11-13% growth if you exclude the $768 million settlement charge taken a year ago to quarter. For diluted earnings per share, we\\u2019re tightening the range that we gave you in October by raising the low end of that by $.01. The range is $1.28-$1.31 for the full fiscal year on a GAAP basis. If you were to adjust for the Real Networks settlement charge of $.02 from the first quarter and the $.01 tax benefit in the 2nd quarter, earnings per share will be $1.29-$1.32. We expect GAAP earnings per share of $.32-$.33 for the 3rd quarter and expect to have an effective tax rate of 31% for the 3rd quarter and the remainder of the year. On the balance sheet, we\\u2019re still expecting unearned revenue to finish the year up 8-10%, and it\\u2019s likely to be at the higher end of that range. We\\u2019re also raising our estimate on our contract and our billed balance to now finish the year above $9 billion. This is up from our prior guidance of finishing the year at $8 billion. When you combine our overall revenue growth with the net increase in unearned and contracted not billed, you\\u2019ll find that our year over year booking performance for the company for fiscal 2006 is strong and we feel confident about how we will end the year. So in closing, I\\u2019d like to say that I\\u2019m pleased with our 2nd quarter and our fiscal year \\u201906 performance on three counts; first, the customer reaction to our newly launched products has been fantastic. Second, our ability to deliver our products on time, which \\u2013 given the style and complexity of our product range \\u2013 reflects a great performance and an increasingly improved operational discipline. And last, we made our expense targets for the quarter. With that, I\\u2019d like to hand the call back to Colleen so we can take some of your questions. Thank you. Thank you Chris. Let\\u2019s now proceed to questions. We want to accommodate questions from as many of you as possible, so please avoid multi-part questions and limit yourself to just one question. Operator, will you please repeat your instructions? Thank you. We will now begin the question and answer session. If you would like to ask a question, please press star 1. To withdraw your request, you may press star 2. Once again, to ask a question, please press star followed by 1. Our first question comes from Adam Holt with JP Morgan. Good afternoon. Two questions on the unearned commentary. To get to the higher end of the 8-10% growth for the year, when would you expect to start to see an acceleration in the Information Worker bookings in front of office? And secondly, can you talk about some of the things that you\\u2019re doing to try and accelerate client bookings as well, particularly with Vista enterprise? We do actually have quite a large number of contracts that are maturing and that\\u2019s one of the reasons that we feel confident about the balance being at the high end of that range. The first half of the year was a relatively modest period for expires and the second half is a relatively high one. On the Information Worker side we\\u2019re actually already starting to see what we think is a shift away from fully-priced products to the enterprise side. So, we\\u2019re starting to see that impact already and we believe that will continue through the first half of this calendar year, second half of the fiscal year. On the client side\\u2026what was the question about client? What other number of initiatives in place to try and drive long term contracts on the client side in the context of the Vista release? I was hoping you could update us on that and also talk about when we would expect to see that acceleration. We haven\\u2019t built in the expectations on the enterprise side for the 2nd half. We certainly think we\\u2019ll start to see some year on year benefits as the calendar year proceeds and as we get closer to the Vista launch. We are seeing some benefits, for example, in the new software assurance product that we launched last year. So, as opposed to a declining trend that we\\u2019ve seen in previous quarters, that\\u2019s flattened out and it will improve but we haven\\u2019t built a lot of that into our expectations for the 2nd half of the fiscal year. Thank you. Thank you very much, Adam. Next question please? Thank you, our next question comes from Rick Sherland with Goldman Sachs. Thanks. Just first on a technicality\\u2026can you reconcile why the cash flow statement shows $7.4 billion of stock repurchase and you\\u2019re saying $7.7 billion in the text? What\\u2019s going on there Rick is that not all of the buy-back fell within the quarter. So, the difference that you\\u2019re seeing is inter-quarter settlement. We\\u2019ll catch that up next quarter when it\\u2019s settled. Okay. And the constraints on supply for XBOX 360, if you could just talk for a moment about that. Could you be more specific with us about what that is? It doesn\\u2019t seem that if it\\u2019s a supply constraint that adding Salistica necessarily helps that. If you can kind of add some clarity there. As we said in our prepared remarks, we had some issues with some of the components. There\\u2019s nothing that we think is systematic to the extent that we\\u2019ve solved some of them or will be solving any that we haven\\u2019t resolved, in the short term. So, it\\u2019s not a constraint that we see that\\u2019s going to be significant going forward. Let me just reiterate, in terms of the volatility that we can expect in the first few weeks with a product of that significance, launched across 90 countries, loss is at the low end of our expectations and it\\u2019s not surprising from our perspective; we don\\u2019t think this is a significant issue for the first six months. Thank you so much, Rick. Next question please? Thank you. Our next question comes from Charly DiBono with Sanford Bernstein. Hi. Can we turn to MSN for a second here? It looks like your search ads are slightly down year on year and basically flat sequentially. You talked a little bit about the impact that Ad Center\\u2019s having on your pricing, does that mean that in areas where you\\u2019re not Beta testing Ad Center that you\\u2019re not seeing any deterioration in search pricing? And then, what has your experience been in France and Singapore as you\\u2019ve gone live with the product? Are you seeing a recovery in pricing there? And a related question would be, what are you doing so that the deteriorating leverage you\\u2019re getting on your community in your partner ads? I\\u2019ll take those in parts, Charlie. In terms of the Beta test thing, no there isn\\u2019t a positive impact from that. In fact, as we initially ramp up because the volumes are lower than what they are on the combined Microsoft/Yahoo platform, we actually see a deterioration in the pricing. That will take some time as we need to ramp up the critical mass and volume. So that has a negative impact. In terms of the expectations that we had of receptivity, that\\u2019s going in fact better than we had hoped for which is one of the reasons why we\\u2019re accelerating the ramp up. But it does have a negative impact. In terms of the overture of pricing, no I don\\u2019t believe we saw a deterioration of pricing on the non-Ad Center-based ads during the quarter. But as we\\u2019ve said before, we don\\u2019t have a lot of visibility in there, so the trends that we are seeing, unfortunately is something that is opaque to us. One of the reasons why we\\u2019re moving faster on Ad Center and taking control of our own destiny. And what about the partner network where you\\u2019ve seen some deterioration as well? It\\u2019s not significant in my mind, from a financial point of view. So I\\u2019m not entirely sure what you\\u2019re referring to from a numbers point of view, but there\\u2019s nothing systematical. You mentioned it in your MDNA. The partner issue is the partner-driven prices. So that\\u2019s the same question as overture. What we\\u2019re seeing a bit is for the partner-driven\\u2026in other words, the parts that we don\\u2019t control our own fate on, we\\u2019re seeing pricing pressure which surprises us a bit. We\\u2019re going to take our fate into our own hands and we\\u2019re going to ramp up ad center. Given that we\\u2019re ramping that up, we probably don\\u2019t have tons of life left on these partner-driven prices; it sort of is what it is and we\\u2019re sort of focused on making our Ad Center platform best-in-class. Thank you. You\\u2019re welcome. Next question please? Thank you. Our next question comes from Mary Meeker with Morgan Stanley. Thanks. I have a quick question; I think Brian may have one as well. Chris, for the last couple of quarters you\\u2019ve had very strong PC unit growth but client revenue growth has not been as strong. You drilled down all the reasons for that, emerging markets, mix, etc. But the delta is large, is this the kind of delta we should just expect on a go-forward basis as we go through our modeling? I think you can realistically expect if not all that delta then some large part of it for the rest of this fiscal year. You take our guidance on PC unit growth and on revenue, that\\u2019s the delta that we expect based on those mix factors. Going into fiscal year \\u201907, I don\\u2019t know if you want to get into forecasting that at this stage, but we would certainly see for example fully-priced packaged product sales being different in our launch year with something like Vista, so that impact which is being measured would be something that would be different. Do you think we could narrow it to something like a 300 basis-point difference? To some extent, we\\u2019re already seeing in the quarter some narrowing. If you remember sort of last year we were down sort of mid- to high teens on commercial retail. We did see some narrowing this quarter, we\\u2019re down 2%. If you look at our guidance on the back half, it continues to narrow in terms of where we think the PC market is coming and where our revenue is coming and hopefully that\\u2019s some sort of indication about our expectations. Okay that\\u2019s great. Thanks a lot. Mary, the other factor is it depends a little on the absolute size of the PC growth. So as it gets larger, it\\u2019s tending to come from the consumer area which is tending to make it get bigger. So in a year where the PC growth was say lower, you might expect the gap, all things being equal, to be narrower. Just a quick question to follow up on the 360. Are you still on target for the 4.5-5.5 million consoles by June? I know you put down a number of 4.25. Yes, we are still on target in that range. Great, thanks. Next question, please? Thank you our next question comes from Heather Bolidi with UBS. Hi, thank you. I just wanted to follow up to Mary\\u2019s last question. I was wondering if at some point if Skeet Balmer said there\\u2019s a mix to higher-end SKUs, could you see the fact that the consumer is making the gap bigger right now as he just mentioned? Do you see that change with Vista in the big uptake of things such as Media Center with PC edition? And I guess the follow up would be there\\u2019s some concern in the market that Vista might not make it out for the 2006 holiday season. Is there any update you could provide for us on that? Thank you. From our perspective we\\u2019ll still talking about Vista launching in the 2nd half of this calendar year so, nothing\\u2019s changed there. In terms of the swing in mix, we are seeing inside the consumer side of things a positive mix swing. For example, as you mentioned Media Center, so that is helping. But on the other side, in terms of emerging markets, and the growth that\\u2019s there relative to mature markets, if like a negative mix we have a lot of price points in those. So there\\u2019s a number of moving parts. But in terms of the consumer, consumer side of mature markets, we definitely see Media Center traction and that is helping us. I just want to make sure. I\\u2019d like to add to that\\u2026going back to our financial analyst\\u2019s meeting we have made some general comments about SKUs and having more differentiation within our SKU strategy, what you\\u2019re seeing for example with the SQL Server 2005 launch is we had 4 different SKUS, took the high end up, had a nice lower end SKU. In terms of software assurance announcements, Heather, you\\u2019ve heard us talk about Vista enterprise edition available to customers. So I think what you can expect to see and what you\\u2019re beginning to see from us is differentiation within our SKUs. Great. Thank you. Next question please? Thank you. Our next question comes from Kash Rangdan with Merrill Lynch. Hi, thank you very much. I was just wondering given that you\\u2019re seeing better attach rates with the XBOX 360 and the software component makes it look richer versus your prior expectation, why would that not be even a little bit more profitable to the degree that you might want to reconsider where you stand on BPS guidance on the positive side? That\\u2019s it, thanks. Kash, we want to be sure we understand the question there. Can you just repeat it? With better than expected attach rates for the game cartridge for the XBOX 360, and if you\\u2019re maintaining your forecast for unit shipments, it sounds like the high margin software component of the total revenues should be a positive that you might consider revising your APS forecast for fiscal 2006 on the upward side. Thank you. Offsetting that to some extent is the XBOX 1 sales and the software associated with that and also HRB revenue in each of the segments. To the extent that they are profitable elements and we\\u2019re lowering those, then that has an offsetting impact. And Kash, we\\u2019re just thrilled to see the unprecedented attach rate with the game console. Keep in mind that at this point it\\u2019s really the hard core enthusiasts that are getting involved in midnight madness. They may be more inclined to take the extra game, the extra peripherals. We want to be nice and conservative there and not necessarily forecast that too aggressively. The other thing, Kash, is outside of the FCB segment, as Scott mentioned in prepared remarks, we are making some investments in MSN and Ad Center and some of the impacts of the small acquisitions that we\\u2019re doing in that area, for example GeoTango. So, that is also offsetting \\u2013 from an operating income point of view \\u2013 some of the other benefits. Got it. Finally, in unearned revenue you talked about 8-10% growth in fiscal 2006; it looks like it\\u2019s growing actually north of that. The last 3 quarters it has been 12-13% so, is it just conservatism as you head into a product transition or anything else behind that forecast? Yes, quite often on a quarter-by-quarter basis, relatively big swings depending on the seasonality and the expiration pattern.  So, the 8-10% is just how we see it year on year, given what we see in the 2nd half. There\\u2019s nothing that\\u2019s more significant than that. Thanks. Thanks so much Kash. We only have time for 2-3 more questions. The next question please, operator? Thank you, the next question comes from Brent Phillips with Prudential. Thank you. Chris, you mentioned that CRM 3.0 was exceeding expectations. Are there any metrics to back up the success of that product in the market that you gave out with SQL Server 2005? Just the revenue growth inside the overall segment. I don\\u2019t know if we split up the CRM in terms of growth, coming off such a low base, it was an extremely high number and I don\\u2019t think it will \\u2026 it was triple digits, from memory. I\\u2019m not sure it will give you a good indicator. But in terms of actual dollars, it was just extremely well-received. And, if I could put it this way, the reason for the out performance in that particular segment, it was virtually all CRM, so that\\u2019s one way in order of magnitude form it. Just to follow up to Heather\\u2019s question around Vista, you\\u2019re saying second half of the year; is there any more granularity. Will it make it in the back-to-school segment or should we expect a late \\u201906 ship? At this stage, we really aren\\u2019t saying anything more than what we previously hit. Obviously, in the next quarterly call that we have in April we\\u2019ll foreshadow \\u201907 and we\\u2019ll certainly be happy to talk about it at that stage. Fantastic, next question please? Thank you. Our next question comes from Jason Maynard from Credit Suisse First Boston. Hi, good afternoon. Given your interest in AOL, could you maybe talk from a corporate development perspective how you\\u2019re thinking about MSN and some of the other sort of advertising related businesses around that market? Outside of the investment that you\\u2019re making, obviously, in building better  and whatnot? I don\\u2019t want to obviously speculate on anything having to do with acquisitions. I think Steve has spoken quite openly and I certainly talked on previous calls on our willingness to consider acquisitions as a way of fueling growth. We have been doing a recently significant number of them. In fact we\\u2019ve been announcing roughly one a month. They\\u2019re small to medium-sized and to a large extent that\\u2019s the ones that we think really give us good value for our money. And, we certainly expect to continue to do some of that. But in terms of speculating on larger transactions or their impact on particular businesses, that\\u2019s not something I really want to do. That\\u2019s fair. Maybe just any color you can give us on the composition of the strength of your SQL Server, like geography or if you can give a little detail on where you saw the\\u2026 Very broad-based really. It didn\\u2019t peak in any particular area or any particular segment. It was just incredibly well received across the board. Thank you. Thanks so much. We have time for one final question, operator. Thank you, our next question comes from David Hiller with Friedman, Billings, Ramsey. Great, thanks. Kind of a follow up to the Ad Center questions. Outside of France and Singapore, what are the milestones you have for launching Ad Center? Can you give us any specific dates or rough dates for the rest of this calendar year in terms of deployment of Ad Center? Thanks. In the US I believe we have around 15-20% of our ads served in the US through Ad Center and trending towards 25%. I\\u2019m not sure I want to say there\\u2019s a particular date, but certainly by spring of this year I would say we\\u2019d expect the bulk of our US business to go through Ad Center. Thank you. Fantastic. Thanks so much everyone for joining us today. As I mentioned at the beginning of this call, this conference call will be available for replay on our investor relations website through close of business January 26th, 2007. In addition, you can hear the replay by dialing 800-695-0673 or for international calls dial 402-220-0304. The dial-in replay will be available through close of business February 3rd, 2006 and of course if you have any further questions, please feel free to call me or my team directly. Thanks again for joining us today.\",\n          \"Executives: Michael Spencer - Microsoft Corp. Satya Nadella - Microsoft Corp. Amy E. Hood - Microsoft Corp.Analysts: Heather Bellini - Goldman Sachs & Co. LLC Mark L. Moerdler - Sanford C. Bernstein & Co. LLC Keith Eric Weiss - Morgan Stanley & Co. LLC Karl E. Keirstead - Deutsche Bank Securities, Inc. Walter H. Pritchard - Citigroup Global Markets, Inc. Philip Winslow - Wells Fargo Securities LLC Brad Robert Reback - Stifel, Nicolaus & Co., Inc. Michael Nemeroff - Credit Suisse Securities (USA) LLC Ross MacMillan - RBC Capital Markets Kash Rangan - Bank of America Merrill LynchOperator: Greetings and welcome to the Microsoft Fiscal Year 2018 Third Quarter Earnings Conference Call. As a reminder, this conference is being recorded. It is now my pleasure to introduce your host, Mike Spencer, General Manager of Investor Relations. Thank you. You may begin.Michael Spencer - Microsoft Corp.: Good afternoon and thank you for joining us today. On the call with me are Satya Nadella, Chief Executive Officer; Amy Hood, Chief Financial Officer; Frank Brod, Chief Accounting Officer; and Carolyn Frantz, Deputy General Counsel and Corporate Secretary. On the Microsoft Investor Relations website, you can find our earnings press release and financial summary slide deck, which is intended to supplement our prepared remarks during today's call and provides a reconciliation of differences between the GAAP and non-GAAP financial measures. Unless otherwise specified, we refer to non-GAAP metrics on the call. The non-GAAP financial measures provided should not be considered as a substitute for, or superior to, the measures of financial performance prepared in accordance with GAAP. They are included as additional clarifying items to aid investors in further understanding the company's third quarter performance in addition to the impact that these items and events had on the financial results. All growth comparisons we make on the call today relate to the corresponding period of last year, unless otherwise noted. We will also provide growth rates in constant currency when available as a framework for assessing how our underlying businesses performed, excluding the effect of foreign currency rate fluctuations. Where growth rates are the same in constant currency, we refer to the growth rate only. We'll post our prepared remarks to our website immediately following the call until the complete transcript is available. Today's call is being webcast live and recorded. If you ask a question, it will be included in our live transmission, in the transcript and in any future use of the recording. You can replay the call and view the transcript to the Microsoft Investors' Relations website. During this call, we will be making forward-looking statements, which are predictions, projections or other statements about future events. These statements are based on current expectations and assumptions that are subjects to risks and uncertainties. Actual results could materially differ because of factors discussed in today's earnings press release, in the comments made during the conference call and in the Risk Factors section of our Form 10-K, Forms 10-Q and other reports and filings with the Securities and Exchange Commission. We do not undertake any duty to update any forward-looking statement. And with that, I'll turn the call over to Satya.Satya Nadella - Microsoft Corp.: Thank you, Mike, and thanks to everyone on the phone for joining. It was another strong quarter, the result of picking the right secular trends, delivering differentiated innovation and focused execution that results in increased engagement and usage. The intelligent cloud and the intelligent edge era is already upon us. It represents a tremendous opportunity. We took significant steps this quarter to put this at the forefront of everything we do, realigning our entire engineering organization to accelerate innovation and better serve the needs of customers and partners. With that as a backdrop, I want to highlight key areas of innovation and growth across our customer solutions. Creating a modern workplace where people can do their best work requires the right culture and the right technology. Microsoft 365 helps every organization empower their employees with AI-backed tools that unlock creativity, increase teamwork and fuel innovation, all the while ensuring compliance and protecting data from new cyber threats. Microsoft is a clear leader in cloud security. Advanced AI reasons over hundreds of billions of signals each month to identify anomalies, automate detection and help customers respond to cyber threats. Just last week, we announced new value for customers, Microsoft Secure Score, Attack Simulator and Windows Defender ATP automatic detection and remediation capabilities, as well as a new open API for the Intelligent Security Graph. We've also built compliance capability directly into our cloud services. Thousands of organizations are using the recently launched Compliance Manager with new information protection scanner and built-in classification capability to help prepare for GDPR. Our comprehensive approach and proactive protection are one reason Coca-Cola chose Microsoft cloud for their digital transformation. One year in, Teams has rapidly become the hub for teamwork. More than 200,000 organizations in 181 markets use Teams from Maersk to General Motors. Teams is now enabled for a broad spectrum of calling and meeting room devices. We're also building AI-powered services into Teams. We've integrated Microsoft Stream, our enterprise video service, into Teams for transcription and time coding of recorded meetings. We've added new facial recognition capabilities, which will attribute remarks to specific meeting attendees. And we are adding new Cortana capability to make calls, join a meeting or initiate three-way calling just using your voice. All this innovation is driving customer usage. Windows 10 continues to gain traction in the enterprise, with Windows 10 commercial monthly active devices up 79% year-over-year. Office 365 commercial now has more than 135 million monthly active users, and Office 365 consumer subscribers increased to 30.6 million. Now I'll turn to LinkedIn and business applications. From the start, we recognized the opportunity for LinkedIn and Microsoft to combine forces to create economic opportunity for every member of the global workforce and enable professionals to be more productive and successful. A little over one year in, we feel great about the value we are delivering for members, customers and shareholders Our integration model has enabled LinkedIn to accelerate growth, while retaining its member-first ethos. Results are ahead of expectations across all lines of business with revenue growth of 37% year-over-year. We saw record levels of engagement again this quarter with sessions growth of more than 30% year-over-year, driven by innovation across the platform. This increased engagement is driving strong demand for sponsored content and marketing solutions and record levels of job postings and job visitors again this quarter in Talent Solutions. Shifting to business applications. Dynamics 365 is gaining traction as our third commercial cloud growth engine, up 65% this quarter. We unleashed a wave of AI innovation in Dynamics with hundreds of new capabilities to transform sales and automate marketing, with Office 365 embedded inside Dynamics for productivity. Relationship analytics for sales and marketing leverage the Microsoft Graph and data from social networks to improve customer relationships, and predictive lead scoring helps sellers identify and focus on high-quality leads. We're investing in our business applications platform capabilities across Power BI, PowerApps, Flow and a common data model. Now customers can extend Dynamics 365 and Office 365 and quickly build applications using data from across the organization as well as third-party data with minimal custom code. The new power platform enables customers like Inter Cars, a leading European auto parts company, to go from paper to digitized workflows within days versus months. With the rapid growth of Power BI, we are now the leader in business analytics in the cloud. Now I'll turn to infrastructure and AI platforms. Our architectural advantage of a consistent stack from the cloud to the edge is resonating with customers, with Azure revenue growth of 93% this quarter. Recent CIO surveys affirm our leadership position in hybrid, developer productivity, trusted security and compliance and new workloads such as IoT and AI at the edge. We have made the right investment decisions and they're having an impact, increasing our overall share in an expanding market. Our recent data center expansion, including the United Arab Emirates and Switzerland, brings our total number of regions to 50, more than any other cloud provider, and the additional availability zones provide the most comprehensive resiliency in the industry. We also continue to see strong customer demand for Azure Stack across industries, and its unlocking new workload scenarios across hybrid and edge. Industrial IoT is transforming the rules of manufacturing, fueling cloud and edge innovation, accelerating the evolution of digital factories and enhancing supply chain performance. Azure IoT and Azure Stack enable customers and partners to build industrial IoT solutions that run at the edge, so operators on the factory floor can manage devices and analyze data in real-time. And HoloLens is quickly becoming an indispensable tool as we take digital twin technology to the next level. We're also innovating in silicon to help customers realize the promise of a connected world of devices and things. Our just announced Azure Sphere is a first of its kind highly secure edge solution that combines chip design and IoT operating system and a cloud service to secure more than 9 billion microcontroller-powered devices entering the market each year. And we're already seeing rapid customer adoption of IoT scenarios. Toyota Material Handling in Europe is using Azure as well as HoloLens to create a factory of the future. Using AI, drones learn complex processes to automate the flow of a factory, increasing supply chain and warehouse efficiency. And Microsoft and ABB are partnering to push the boundaries of smart manufacturing for industrial automation. We're investing to make Azure the best cloud for enterprise data estates. In less than a year, Azure Cosmos DB, the first globally distributed multimodal and multi-model database, exceeded $100 million in annualized revenue. Azure database for MySQL and PostgreSQL makes it even easier to bring open source powered applications to Azure, expanding our opportunity in this space. We are seeing a rapid adoption of Azure Databricks for data preparation, advanced analytics and machine learning scenarios. We continue to innovate to democratize AI. More than 1 million developers have already used Cognitive Services to quickly and easily create AI applications, and we have more services than any other cloud provider. Our Azure Bot Service has nearly 300,000 developers, up more than 150% year-over-year. Microsoft Translator brings AI-powered translation to developers where their data is, whether it's in the cloud or on the edge. And just last month, we reached human parity in language translation, a new milestone in addition to our previous human parity achievements in object recognition, speech recognition and machine reading comprehension. We're also gaining traction in machine learning tools adoption with tens of thousands of customers using Azure ML. Finally, we are innovating with new GPU and FPGA-based offerings to lead in AI infrastructure for both training and inference. I'm excited to share more about our cloud and AI innovation at our developer conference next month at Build. Now, to gaming. We continue to pursue our expansive opportunity in gaming from the way games are created and distributed to how they are played and viewed. We had one of the best quarters in gaming with strong revenue performance and record levels of engagement. Software and services revenue grew 24% as we continued to attract, retain and deepen user relationships across Xbox Live, Game Pass and Mixer. Xbox Live monthly active users grew to 59 million, up 13%. Our new first-party game, Sea of Thieves, drove gameplay across Windows 10 and Xbox One in addition to nearly 10 million hours of viewing on services like Mixer in its very first week. Our results speak to the strength of our platform and services for both first-party and third-party experiences. And we'll continue to invest in our platform, enhancing our cloud services with AI capabilities for developers to quickly build and monetize games across PC, console and mobile. In closing, intelligent cloud and intelligent edge represents a tremendous opportunity for our customers. It comes with a responsibility to ensure trust in technology. We are working to instill this trust in three key areas. The first is privacy. We recognize that privacy is a fundamental human right, and we have consistently acted accordingly. Our success is grounded in our customers' success. We have been working towards the May 25th GDPR implementation date since 2016 with hundreds of engineers across the company working on end-to-end privacy architecture, and we'll ensure that all our products and services are GDPR compliant. For customers, we will provide robust tools backed by our contractual commitments to help them comply with GDPR. In fact, for most customers it will be more effective and less costly to host their data in Microsoft's GDPR-compliant cloud than to develop and maintain GDPR compliance tools themselves. Second, cybersecurity. In response to escalating cyber attacks around the world, we are leading a bold initiative to defend and protect our customers. We recently led a coalition of 34 global technology and security companies in signing the Cybersecurity Tech Accord. The accord is an important first step by the industry to help create a safer and more secure online environment for everyone. Finally, we recently established the AI and Ethics in Engineering and Research Committee at Microsoft to ensure we always advance AI in an ethical and responsible way to benefit our customers and the broader society. This includes new investments in technology to detect and address bias in AI systems. Microsoft stands for trust, and this will continue to be a differentiating focus for us moving forward. With that, I'll hand it over to Amy to cover our financial results in more detail and share our outlook. And I look forward to rejoining for your questions.Amy E. Hood - Microsoft Corp.: Thank you, Satya, and good afternoon, everyone. Our third quarter revenue was $26.8 billion, up 16% and 13% in constant currency, with better than expected performance across all segments. Gross margin increased 16% and 13% in constant currency. Operating income increased 23% and 20% in constant currency. Earnings per share was $0.95, increasing 36% and 31% in constant currency. From a geographic perspective, we saw broad-based strength across markets of all sizes, benefiting from the positive global corporate IT spend environment. Growth in cloud services increased our commercial annuity mix, up 2 points year-over-year to 89%. Along with healthy renewals, our sales teams and partners drove a higher volume of new business, leading to commercial bookings growth of 26% and 18% in constant currency. Commercial unearned came in slightly above our expectations due to FX, growing 20% and 17% in constant currency. Commercial cloud revenue was $6 billion, increasing 58% and 55% in constant currency, highlighted by healthy growth in the U.S., Western Europe and the UK. We again improved commercial cloud gross margin, now at 57%, up 6 points, with improvement in each cloud service, most notably Azure. We outperformed our expectation on company gross margin, finishing the quarter at 65%. We are up slightly year-over-year with improvement in our Productivity and Business Processes segment from Office 365 commercial and LinkedIn, offset by a decline in our intelligent cloud segment, driven by a greater mix of Azure revenue. FX positively impacted revenue growth by 1 point more than expected, 3 points at the company and Productivity and Business Processes level and 2 points on both intelligent cloud and More Personal Computing. FX added 2 points of growth to COGS and operating expenses, 1 point more than expected. Operating expenses grew 10% and 8% in constant currency as we continued to invest in commercial sales capacity, cloud engineering, and LinkedIn. Even with this accelerated pace of spend, we increased operating margin 2 points year-over-year, a direct result of our focused investments to drive top line growth. Now, to the segment results. Revenue from Productivity and Business Processes was approximately $9 billion, increasing 17% and 14% in constant currency, with better than expected results from Office 365 commercial and LinkedIn. Office commercial revenue grew double digits again this quarter, up 14% and 12% in constant currency, including a couple points from a greater mix of contracts with higher in-period recognition. Office 365 commercial revenue grew 42% and 40% in constant currency, with continued installed base growth and ARPU expansion driven by customer migration to our premium workloads in E3 and E5. Office 365 commercial seats grew 28%, in line with the expected trend, given the increasing size of the installed base. Office consumer revenue increased 12% and 9% in constant currency, driven by recurring subscription revenue and a growing overall installed base. Our Dynamics business accelerated this quarter, growing 17% and 14% in constant currency, driven by Dynamics 365 growth of 65%, 62% in constant currency. LinkedIn revenue grew 37% and 33% in constant currency, with more than $1.3 billion in revenue. We continued to see outperformance across all segments, with record levels of engagement. Segment gross margin dollars increased 18% and 15% in constant currency. Gross margin percentage increased with margin improvements in Office 365 commercial and LinkedIn offsetting the increased mix of cloud revenue. Operating expenses grew 14% and 12% in constant currency as we continued to strategically invest in LinkedIn commercial sales capacity and cloud engineering. Operating income increased 23% and 19% in constant currency. The intelligent cloud segment delivered $7.9 billion of revenue, increasing 17% and 15% in constant currency, exceeding expectations due to our on-premises server business. Server products and cloud services revenue grew 20% and 17% in constant currency to $6.3 billion, driven by continued strong Azure revenue growth of 93%, 89% in constant currency on a significant revenue base. Our on-premises server business grew 3% and 1% in constant currency, driven by customer demand for hybrid solutions as well as increasing virtualization needs, resulting in the uptake of premium versions. Enterprise Services revenue increased 8% and 5% in constant currency, with growth in premium support services and Microsoft Consulting Services more than offsetting the continued decline in custom support agreements for Windows Server 2003. Segment gross margin dollars grew 16% and 14% in constant currency, and gross margin percentage declined with the growing mix of Azure IaaS and PaaS revenue mostly offset by another quarter of material improvement in Azure gross margin. Operating expenses increased 9% and 7% in constant currency, driven by our continued investment in sales capacity and cloud engineering. Operating income increased 24%, up 21% in constant currency. Now to the results of More Personal Computing. Revenue from the segment was $9.9 billion, up 13% and 11% in constant currency, with significantly better than expected results in gaming, Windows commercial and Surface. Windows OEM revenue increased 4% this quarter. OEM Pro revenue grew 11%, in line with a strong commercial PC market. We continued to see healthy enterprise demand for Windows 10, benefiting our OEM partners. OEM non-Pro revenue declined this quarter by 8%, below the consumer PC market, driven by a higher mix of lower-priced licenses and continued pressure in the entry-level price category. Inventory levels were within the normal range. Windows commercial products and cloud services increased 21% and 17% in constant currency from strong double digit billings as well as a higher mix of in-quarter recognition from multiyear agreements. The fundamentals of this business remained healthy, with installed base growth and adoption of our security solutions. As a reminder, under Accounting Standard 606, the Windows commercial growth rate will have significant variability quarter-to-quarter due to its relatively high mix of on-premises licensing revenue. Search revenue ex TAC grew 16% and 14% in constant currency with higher revenue per search and search volume driven by Bing performance in the U.S. and international markets. Surface revenue grew 32% and 27% in constant currency with better than expected performance from Surface Book as we continued to transition to the latest products in our portfolio and against a prior year comparable impacted by product end-of-lifecycle dynamics. Gaming revenue increased 18% and 16% in constant currency due to Xbox software and services revenue growth of 24% and 21% in constant currency. Momentum in digital distribution as well as record levels of engagement driven by a third-party title contributed to better than expected software and services revenue. We grew Xbox Live monthly active users by 13% to 59 million with user expansion across Xbox One, Windows 10 and mobile platforms. Segment gross margin dollars increased 13% and 11% in constant currency, in line with revenue growth. Segment gross margin percentage was relatively flat year-on-year. Operating expenses increased 5% and 3% in constant currency from investments in engineering across gaming, search and AI. Operating income grew 24% and 20% in constant currency. Now back to the total company results. In line with our expectations, we increased capital expenditures on a sequential basis with $3.5 billion invested to support current and future growth of our cloud offerings. Cash paid for plant, property and equipment was $2.9 billion. Cash flow from operations was up 14%, driven by collections from strong billings growth. Free cash flow of $9.2 billion grew at a slower rate, 3%, due to an increasing cash used for property, plant and equipment. Other income and expenses was approximately $350 million from net recognized gains on investments and income from dividends and interest, partially offset by interest expense. Our effective tax rate came in at 14% due to a benefit from an R&D tax credit. We returned $6.3 billion to shareholders through dividends and share repurchases, increasing total shareholder return by 37%. We nearly doubled our year-over-year amount buyback, accelerating our pace from the prior quarter and now have roughly $30 billion remaining of our current $40 billion share repurchase authorization. Now let's turn to next quarter's outlook. First on FX. Assuming current rates remain stable, we expect FX to increase revenue growth by 3 points, COGS by 1 point and operating expenses by 1 point. Second, we again expect strong performance from our commercial business, with solid execution in our largest quarter of the year. We expect commercial unearned revenue to be up 38% to 39% sequentially. Third on CapEx. We expect sequential growth in capital expenditures on an accrual dollar basis, as we continue to see strong demand signals globally. Finally, we expect commercial cloud gross margin to be roughly flat to Q3, representing another quarter of material year-over-year improvement even with increasing Azure revenue mix. Now to the segments. In Productivity and Business Processes, we expect revenue between $9.55 billion and $9.75 billion. We expect Office commercial growth rates to normalize as we do not expect the same level of in-quarter recognition on multiyear contracts as we saw in Q3. Dynamics should see another quarter of double-digit revenue growth, driven by Dynamics 365 and LinkedIn growth should remain high. In Intelligent Cloud, we expect revenue between $8.95 billion and $9.15 billion, with another quarter of server products and cloud services revenue growth in the high teens as our hybrid cloud leadership continues to be a differentiator for customers. We expect the total Azure revenue growth to reflect the balance of our continued strength in infrastructure, data and application services and a moderating growth in our per user base services like EMS. In More Personal Computing, we expect $10.3 billion to $10.6 billion. Across both OEM Pro and non-Pro, we anticipate trends in Q3 to continue into Q4. In our devices business, we expect Surface revenue growth in the high teens, as we continue to transition to the latest products in our portfolio. Search ex TAC should see another mid-teens revenue growth quarter as it has the entire year. In gaming, we expect a higher revenue growth rate than Q3, as we continue to benefit from third-party game title performance and user engagement on our platform. We expect COGS between $9.6 billion and $9.8 billion, including 1 point of growth from FX. We expect operating expenses of $9.8 billion to $9.9 billion, with 1 point of growth from FX. This would place us slightly above the high end of our prior range for the full year operating expense growth due to the impact from FX and incremental revenue-driven expenses that support our continued strong top line growth. In Q4, we expect other income and expense to be approximately $350 million as we continue to take gains on our equities portfolio and earn dividend and interest income as we have in prior quarters. We expect our effective tax rate in Q4 to be approximately 16%, with some volatility in the final quarter of our fiscal year. Finally, I want to offer a few early thoughts on FY 2019. Assuming the macro environment remains consistent, many of the key drivers of our business should remain intact. Revenue growth will continue to be driven by the transition to cloud services. And within our commercial business, strong execution and our differentiated hybrid position should drive continued high teens growth in our server product and cloud services revenue KPI. Office 365, Dynamics 365 and LinkedIn should also continue to drive double-digit revenue growth in our Productivity and Business Processes segment. The gross margin percentage of every commercial cloud service will continue to improve, with more improvement in Azure IaaS and PaaS consumption-based services and less improvement in our per user SaaS services. While we expect continued improvement in the overall commercial cloud gross margin, the revenue mix shift to Azure will moderate the rate of improvement relative to FY 2018. We will continue to grow our investment and capital expenditures to meet the growing demand for our cloud services. With the business results we've delivered and the tremendous opportunities we see ahead, we will continue to see growth in operating expenses in key areas we've discussed, including LinkedIn. We expect other income and expenses to be slightly negative in FY 2019 as we don't expect to have any significant equity gains. And lastly, we continue to expect the full year FY 2019 effective tax rate to be slightly below the new U.S. corporate tax rate of 21%, with variability across the quarters due to the mix of cloud versus license revenue and the timing of equity vests. And with that, Mike, let's go to Q&A.Michael Spencer - Microsoft Corp.: Thanks, Amy. We'll now move over to Q&A. Operator, can you please repeat your instructions?Operator: Ladies and gentlemen, at this time we be will conducting the question-and-answer session. Our first question is coming from the line of Heather Bellini with Goldman Sachs. Please proceed with your question.Heather Bellini - Goldman Sachs & Co. LLC: Great. Thank you, Satya and Amy. You guys are seeing a really nice acceleration in intelligent cloud gross profit growth. And with 15 straight quarters now of triple-digit premium services growth in Azure, I know you mentioned some comments directionally about the gross margin ramp. But how do we think about the pace of the ramp in gross margin expansion from here for this, for Azure in particular, as you approach what we estimate to be roughly an $8 billion business in annualized revenue? And I guess the other thing that would be helpful is when you think of the COGS of commercial cloud, can you give us a rough ballpark of what percentage of COGS comes from CapEx depreciation? Thank you.Satya Nadella - Microsoft Corp.: So maybe I'll start and then I'll have you, Amy, go into sort of the numbers. One of the things, Heather, that's happening is there is growth in Azure across each of the layers. And I think I've said this before. Sometimes, when you have new workloads and new customers onboard, they start with in some sense the IaaS and the data more at Blob storage, but then scale to higher layer services like our Cosmos DB or even some of our compute higher-level services like in AI. So that I think will continue, because we're still in the early innings of the cloud transition. We're investing aggressively, whether it's on the field side or on the CapEx side to attract more customers and more workloads per customer. So they will have that same profile, which is lower-margin services first, higher-margin services over time. That's just inside of Azure. And of course, you combine that with the rest. One of the things that I think should be fairly clear is the high correlation between our services in Office 365 as well as Dynamics 365 around data in particular with Azure. So that's why we think of this as one cloud play but that should give you a feel for how the customers are looking at it.Amy E. Hood - Microsoft Corp.: And I think to your specific questions, there were a couple in there, Heather. If you think about the portion of our commercial cloud gross margins that come from depreciation, it's best to think of it as roughly half. And actually it's been going up as we began to get scale through these services over time actually. Some of the fixed costs, frankly, even in COGS, tend to come down as a percentage over time. So that should help you roughly to think about how much depreciation is at that number. Now, if you think about some of the dynamics that we've been going through in the intelligent cloud segment, in particular the way I tend to think about that, as you've seen, we're now 20% growth this quarter in that server and product services KPI, 17% on a constant currency basis, and are sort of confident that you should continue to see that, as I said, into Q4 and then into FY 2019 as well. I tend to think about that as we'll have significant revenue growth in that segment. We'll have significant gross margin dollar growth in that segment, and you'll actually continue to see operating margin dollar growth that's significant in that segment even as we reinvest into it, given the top line signal. If you think about gross margins in particular, what you'll see is Azure continuing to be a growing percentage of the total revenue growth. So even with significant improvement again in, what Satya was talking about, some of the lower level IaaS and PaaS services within Azure, on the gross margin side you'll see some gross margin percentage pressure in that segment through 2019, but with significant dollar growth.Heather Bellini - Goldman Sachs & Co. LLC: Great. Thank you.Michael Spencer - Microsoft Corp.: Thanks, Heather. We'll take next question now, please.Operator: Thank you. The next question is coming from the line of Mark Moerdler with AllianceBernstein. Please proceed with your question.Mark L. Moerdler - Sanford C. Bernstein & Co. LLC: Thank you very much, and congrats on the quarter. CapEx increased significantly this quarter, $2.9 billion you said in cash on property and equipment. We know that you build out \\u2013 you significantly invest in the data center footprint ahead of demand, but you don't build out the equipment itself that far in advance. Is there a large corporate or government requirement or is it the acceleration in the new data centers that ended up causing that lift? Or is there something else driving it? And as a follow-up, how should we think about that for the next couple quarters? Thanks.Amy E. Hood - Microsoft Corp.: Thanks, Mark. I actually didn't think of it as a significant change in trajectory from what we expected. A year ago, Q3 was actually a little low. So on the year-over-year basis, I think it pops a little bit, Mark, when on really a sequential basis I actually don't think, to me, it looks out of sorts, especially with the type of demand we're seeing, not just for Azure, but across all of the cloud components. Those growth rates really at 58% on that total cloud number, it's pretty good demand signal on a global basis. So I hear you on a year-over-year basis, but Q3 was a little funny a year ago on that front.Satya Nadella - Microsoft Corp.: And we continue to really monitor the actual equipment in that supply chain and what have you. And if anything, there's a lot of automation and demand sensing capability we have there.Amy E. Hood - Microsoft Corp.: Yeah. And I would say, Mark, while I appreciate your point that it takes \\u2013 and we do build data centers in advance, the majority of the cost obviously in a data center is in the equipment inside. And so, while this really is \\u2013 the majority of this spend is servers.Mark L. Moerdler - Sanford C. Bernstein & Co. LLC: Perfect. Thank you.Michael Spencer - Microsoft Corp.: Thanks, Mark. Operator, can we please move to next question?Operator: The next question is coming from the line of Keith Weiss with Morgan Stanley. Please proceed with your question.Keith Eric Weiss - Morgan Stanley & Co. LLC: Excellent. Thank you, guys, for taking the question and really nice quarter across the board. There's really not much to pick on in this quarter. One of the highlights from my perspective was definitely LinkedIn and what seems to be an acceleration in the revenue growth in LinkedIn. So a two-parter here. One, where are we in terms of that acquisition? Is this still just LinkedIn operating better as an independent company or are we starting to see some of the synergies, specifically revenue synergies, come to bear from maybe broader distribution channel that they get from Microsoft or product integration? So have synergies started to kick in, number one? And number two, given where we are in terms of the M&A process on LinkedIn, what's the appetite for further like large M&A for Microsoft on a going-forward basis?Satya Nadella - Microsoft Corp.: Thanks, Keith, for the question. Let me start and then, Amy, you can add to this. First of all, it is very important for us to ensure that we did everything to enable LinkedIn to keep their product and cultural ethos of putting members first and innovating on their behalf. I mean, that was sort of our priority one, two and three. And that's what you see in their sessions growth, engagement growth, their quality member growth. And obviously that all translates into the revenue growth as well across all of the marketing solutions, talent solutions, and sales solutions. We also, during that one year, done integrations. You see it. I see it every day in my Outlook Mobile. I see it in Sales Navigator and Dynamics. And so, you will see us \\u2013 with Windows 10, so you'll see us continue to do these integrations that add value again to both the Microsoft 365 and Dynamics users, as well as LinkedIn members. And clearly that's increasing engagement as well and that obviously then translates into revenue growth of those business solutions we mentioned. So, yes, revenue synergies are showing up, but mostly because product synergies are showing up, and that's because of the product ethos of LinkedIn around member-first is what we have maintained throughout this integration.Amy E. Hood - Microsoft Corp.: And I would also add, Keith, the LinkedIn team has really done a tremendous job. So let me also say, after a year of working with them closely, my appreciation and, frankly, a lot of inspiration that I think you've seen in our own product development has been their focus on users and how important it is and how focused they are on it. In some of the products, I would urge people to look at the Outlook Mobile experience and how really meaningful the experience is for the user and the member. And I think sometimes it's harder for us to measure exactly what a revenue synergy means. But I think I look at this and say, at a 37% growth rate, plus some of the integrations we've seen and the growth in uses and users of things like Outlook Mobile, I believe that we're probably a little bit on the front end of the revenue synergies you'll see in product over time. When it comes to our appetite for M&A, actually it has remained unchanged, which is when things meet our criteria and when we feel like it's in core areas for us, where markets are expanding, where the companies have a unique asset, I think that our ability to both execute on those and see them both execute on their own and execute inside Microsoft, I actually feel quite good that we don't worry about our ability to do them, but I wouldn't say that's new this quarter.Satya Nadella - Microsoft Corp.: Yeah. And I think just to add on that, which is whether it's Minecraft or LinkedIn or many other acquisitions we've done as part of Azure, I think the key thing that we are very, very focused on is how do we make this culturally accretive, management times accretive as well as revenue. And that's where we are building good muscle and we'll continue on that.Keith Eric Weiss - Morgan Stanley & Co. LLC: Excellent. Thank you very much guys.Michael Spencer - Microsoft Corp.: Thanks, Keith. We'll take the next question now please.Operator: Thank you. The next question is coming from the line of Karl Keirstead with Deutsche Bank. Please proceed with your question.Karl E. Keirstead - Deutsche Bank Securities, Inc.: Thanks. And just to start, Satya and team congrats on getting Microsoft to over 10% organic growth. That's a big achievement for a company at your scale, and it looks like you're expecting the same for the June quarter, so congrats. So I guess, my question is in the spirit of this, to Amy, on the overall growth margin trade-off as you look into fiscal 2019. Amy, when I go back to the Analyst Day you had almost a year ago, I left thinking that your messaging was really that you were going to press on revenue growth and not on big margin leverage. So I'm just wondering as we look into fiscal 2019, is it correct to assume that that's a similar framework with the focus on top line growth and not to expect much in the way of overall improvement in gross margins? Thank you.Amy E. Hood - Microsoft Corp.: Thanks, Karl. Yes, I think that's a fair interpretation of my commentary both last year and this, which really speaks to consistency. I do believe that the market that which we are operating, the set of assets we've picked, the team we've built, the investments we made in our sales force, even some extent the acquisitions we've done, these are all showing up as top line revenue growth for us. You see it this quarter. You see it frankly in the guide. And I think your interpretation that our focus on being a growth company, even at our scale, is certainly the right interpretation.Karl E. Keirstead - Deutsche Bank Securities, Inc.: Okay. Thanks for that.Michael Spencer - Microsoft Corp.: Thanks, Karl. Let's please move to the next question.Operator: Thank you. The next question is coming from the line of Walter Pritchard with Citi. Please proceed with your question.Walter H. Pritchard - Citigroup Global Markets, Inc.: Hi, Thank you. I'm wondering, maybe a combination of Amy and Satya, talk about the forward kind of view of Azure growth and how we should think about the drivers of that as we go into 2019. New customers existing consumption, premium services and I think we're growing at eye-popping rates right now. We saw that with Office 365 in the early days. How should we expect this business to sort of level out over time as I think it inevitably will as we look to next year?Satya Nadella - Microsoft Corp.: Yeah and I'll start qualitatively. And it's true that we are at this point at scale on Azure and with very, very high growth rates. But as I said, I think the key things that we think about is differentiation of Azure at each level because that's what is super important for us as we compete in this marketplace and more importantly double down on areas of differentiation we have. So the first thing is on the infrastructure side itself with the combination of the edge and the cloud I believe between Azure Stack and Azure as well as inclusive of our servers, we have the best crowd platform for what is going to be hybrid computing and we'll continue to push on that, so you'll see growth. It's just got a different margin profile. The layer above that is the place which we are very excited about. We've seen lots of consecutive quarters of growth in our higher-level services but we're now seeing some good scale. I, for the first time, talked about Cosmos DB. This was actually a database we just launched last year. I mean, I've been around databases for a long time. I've never seen a product that's gotten to this kind of scale this quickly. And so we're very bullish about what can happen in the higher-level services and we'll continue to build on that piece. But as I said, one of the key things is, architecturally, the way we build Azure, the way we build Office 365, the way we build our gaming cloud and the way we build even Dynamics are all pretty much one architecture. And you see that even in the way customers use it. So overall to your specific question on Azure, the growth will moderate as the numbers become big, and they've already become very big. But that said, we see plenty of opportunity for total gross margin growth in terms of dollars just because of the number of markets that we participate, in which we by the way, never participated in the old server world.Amy E. Hood - Microsoft Corp.: And, Walter, I think the way you see that show up is really in my conversation on FY 2019, to Satya's point, really we talked about that server product and KPI being high teens through FY 2019. We're really confident in double-digit growth in that PBP segment with the components of Office 365, Dynamics 365 and LinkedIn. So if you think about that as the primary components of our commercial cloud overall, we're certainly saying that it's a big business growing very fast at $6 billion not counting LinkedIn. At 58% growth, it certainly speaks to having a big base and a big growth number. On Azure, you're right. It will moderate through next year. But because of the scale at which it's operating, that's why you still see that server KPI remain at that high level even as the base grows. And so you will see also some different dynamics within that Azure revenue number. Satya mentioned the layers of Azure. If you think about the IaaS and PaaS numbers, I would expect to be on the higher end of growth rates. And some of the services that are more per-user like, like EMS within the Azure frame, you would expect that growth to moderate somewhat more quickly just because it's a per-seat business. You will actually over time see us be able to continue to add ARPU and growth in those segments. Think of it almost like an Office business. Internally, we call that component part of our Microsoft 365 Value. That's how we sell it externally even. And so hopefully, that helps give a little context to the number as well as our overall ability to continue to grow the sort of hybrid cloud opportunity high teens.Walter H. Pritchard - Citigroup Global Markets, Inc.: Thank you.Michael Spencer - Microsoft Corp.: Thanks Walter. We'll take the next question please.Operator: Thank you. The next question is coming from the line of Phil Winslow with Wells Fargo. Please proceed with your question.Philip Winslow - Wells Fargo Securities LLC: Hey guys, thank you guys for taking my question and congrats on a great quarter. Satya, you touched on the synergies that you're seeing between new applications businesses and LinkedIn helping the two out. Wonder if you could talk just sort of high level and strategically about applications and enterprise applications in Azure, and how you kind of see the synergy potentially coming out between those, especially when you think about Azure AI and all the services, or kind of the question is, how important or how critical are applications like the growth that we're seeing in Dynamics, et cetera?Satya Nadella - Microsoft Corp.: Yes, I mean, one of the things that I talked about in my remarks this time was this power platform. One of the areas of in fact real breakout growth in differentiation as being in Power BI, PowerApps and Flow. For the first time in fact, in our own Microsoft history, we have an extensibility model that is the same for Office 365 and Dynamics 365. This has been a dream of mine for, I don't know, for 15 years probably. And we are finally here and we are executing super well. But the interesting thing is it's not just even for our own SaaS applications. It is the extensibility model for every SaaS application out there, including a common data model. So I think that that's where the synergies lie, because AI starts with having a data estate that can really bring data from all of your applications, silos in some sense, together so that you can start doing, building that analytical power that you can then visualize and put in the hands of people using Power BI or run an AI model that does some prediction that you can deploy in your system, whether it's forecasting, sales lead scoring, what have you. So that workflow, we have every layer of it. We have the best deployment tools and development tools in Azure. We have this common data model. On top of this, we have the best BI visualization technology. So that's what you're seeing increasingly as the synergy. But most importantly, architectural benefit for customers because by having incoherence around these layers is where you may feel like you're making some great best-of-breed sort of choices in individual layers, but you'll bear that expense in your overall agility as well as your overall management of your data. And that's where I think we will be very differentiated.Philip Winslow - Wells Fargo Securities LLC: Great, thanks guys.Michael Spencer - Microsoft Corp.: Thanks. Let's move to the next question please.Operator: Thank you. The next question is coming from the line of Ross MacMillan with RBC Capital Markets. Okay, we'll move on to the next question which is coming from the line of Brad Reback with Stifel. Please proceed with your question.Brad Robert Reback - Stifel, Nicolaus & Co., Inc.: Great, thanks very much. Maybe Amy, quick question. The Windows OEM Pro business has been extraordinarily strong the last few quarters. Could you maybe give us a sense of how penetrated you guys are in the Windows 10 corporate upgrade cycle and the sustainability of that growth? Thanks.Amy E. Hood - Microsoft Corp.: Thanks Brad. Let me, first, I wouldn't say penetration is the word for this. Let me talk about this in two or even a couple of components, because when you think about Windows 10, what we've seen over the past couple of years is, you're right, a very strong enterprise deployment cycle and real pull for that product inside enterprises, because of the security value prop of the product itself. When you see that deployment for security reasons, an externality of that is people often choose to upgrade machines in that process. We've seen good demand inside commercial entities for and when they make those upgrades to buy Windows PCs and often Surface devices, in that choice, I think it's benefited our OEM partners and us. The portfolio of devices that are available are incredibly compelling. I think our partners have done a terrific job on that as well. The overall economy is certainly also quite good, and the installed base had actually gotten older. And so I think what you're starting to see is a process whereby there's a great product, there's a good macro environment. And you've got customers who really want to move to a modern infrastructure. A modern infrastructure has to both be secure at its very core, and that can result, as you're seeing through that confluence of events, in a very strong PC market with very strong Pro performance. And certainly, the guide for Q4 continues to imply all those factors.Brad Robert Reback - Stifel, Nicolaus & Co., Inc.: Great. Thanks very much.Michael Spencer - Microsoft Corp.: Thanks, Brad. We'll take next question now, please.Operator: Thank you. Our next question is coming from the line of Michael Nemeroff with Credit Suisse. Please proceed with your question.Michael Nemeroff - Credit Suisse Securities (USA) LLC: Thanks for taking my question. Satya or Amy, can you help us understand the large revenue outperformance and guide for continued strong growth in gaming? And Amy, could you please give us a sense of the margin profile of the areas of gaming that exceeded expectations? And if you could also comment on the strength of the MPC margin in the context of the gaming margin as well, that would be helpful. Thank you very much.Satya Nadella - Microsoft Corp.: Yeah, I can start and then, yeah.Amy E. Hood - Microsoft Corp.: Why don't you start.Satya Nadella - Microsoft Corp.: Because even on gaming, very much like how we talk about some of our commercial segments, we've gotten a strategy which sort of really helps us articulate both the growth opportunity as well as our investments across all of the various layers. So first is, the console itself is the highest engagement console out in the marketplace. So anytime a new game, whether it's first-party or third-party releases, the fact that Xbox is where the best engagement is driven benefits us. So as a platform owner, that's a great growth area for us. But we don't stop there because now we have, whether it's Xbox Live, whether it's Game Pass or Mixer, these are all additional opportunities to really serve the gamer as they play more games or watch games on different platforms. So that's the other big opportunity. But the last one, which I think is new and is something which is already paying its dividends on the Azure growth side, is we've taken all the knowledge of what it means to build any one of these first-party titles of ours and building it as a PaaS service in Azure for game developers, and the PlayFab acquisition speaks directly to that. So those are all the various levers we have in gaming. And you'll see it in the MPC segment and you'll see it, as I said, increasingly over time even on Azure.Amy E. Hood - Microsoft Corp.: And I think, Michael, if you don't mind, I'm going to expand your question a little bit, because I don't think the increase in the MPC guide is simply gaming. So let me talk a bit about the components and which ones, I think, are a bit more sustainable and which ones may have a temporal nature to them. The performance in Q3 and the guidance for Q4 shows actually strong performance in a number of places that we expect to continue. OEM Pro is a terrific example, for the reasons I just gave in Brad's question. Windows commercial, which is really the business inside the enterprise of selling much of the security value on a far more annuity-like basis, we've seen strong double-digit billings growth there and we expect that to continue into Q4 as well. The next piece that I would say is a part of that sort of uplift in Q4 is our Surface device. The reception to Surface Book 2 as well as Surface Pro with LTE has been quite good. And you see us reflect that again in Q4 even as the comparable gets a little bit more difficult than it was in Q3 for us when you saw a very large growth rate. We're still expecting high teens there. Then you get to that gaming component, and specifically what Satya was talking about, the Xbox software and services component is where I would expect to see the impact of the continuation of Q3. Part of that, I want to be very clear, is consistent even going back a few quarters. That has been a double-digit grower. It will be a double-digit grower. There'll be some volatility in the number like anything else. And third-party hit games will move it higher as they did this quarter, and we're expecting in Q4. But there's also a really strong base to that business that is the result of what Satya's talking about in terms of having a vibrant platform with fans that believe in it and come to it with all the value that's been added.Michael Nemeroff - Credit Suisse Securities (USA) LLC: That's very helpful. Thank you very much.Amy E. Hood - Microsoft Corp.: So did that help? Okay, great. Thanks.Michael Spencer - Microsoft Corp.: Thanks, Michael. We'll move to the next question, please.Operator: Thank you. The next question is from the line of Ross MacMillan with RBC Capital Markets. Please proceed with your question.Ross MacMillan - RBC Capital Markets: Thanks so much. Hopefully, the line is clear this time. So Satya and Amy, I wanted to ask about server products which was striking growth this quarter, given the comp. And, Amy, you talked about expected strength into fiscal Q4 and all of that, I guess, is testament to the strength of the kind of hybrid leadership you have. But the two questions though were really, is that strength in server products broad-based across Windows Server, SQL Server, System Center, et cetera? Or is there any sort of bias in the mix, if you will, in terms of what's driving that strength? And then, Satya, you mentioned Cosmos DB and that was a striking number to me as well. And I was just curious, do you think now you have the multi-model database in market that can help you take market share within the data management database space? Thanks.Satya Nadella - Microsoft Corp.: Yeah. I mean, I'll take the second one. I think that, yes, I mean, Cosmos DB's pretty unique capability in combination with everything else we do in both the data layer, the AI layer and the infrastructure layer, I think we have a tremendous opportunity, because, as I said, this AI era is mostly first a data era. And that's where I think the opportunity lies. But to your previous question, even there, there are multiple trends here, and Amy referenced it in her remarks, which is for example, virtualization still continues to be a growth driver of server products. The other growth driver of server products is cybersecurity and the security value in our servers. So that's one. The fact that we now have SQL and, for example, when you think about SQL itself, it's a hybrid product. You can tier SQL databases with the cloud. SQL is an AI product because we have the one database that actually allows you to write Python and R in situ, store procedures right in your database. So, for example, when we talk about data and AI close to data, because computation will always go wherever data is. And a lot of data shows up in relational databases and we have a growth driver there as well. And then there is the hybrid choices, where if somebody's building a smart factory, they're now looking and saying, what is the server I deploy in the factory to manage the millions of sensors that are there across the factory. And that's where Azure Stack shows up. So multiple drivers of what is essentially the server and cloud number in combination.Amy E. Hood - Microsoft Corp.: And to your point on the component, the on-prem component, even with comparable doing well, let me break Satya's comment into sort of two drivers that have been actually more sustaining. And it's across both Windows in particular, but also SQL, which are obviously the largest products within our server portfolio. The first exactly with hybrid demand. We have something called Azure Hybrid Benefits. What it does is really provide confidence to our committed customers buying on-prem servers that their transition to a hybrid, to cloud over a period of their agreement, is really about their choices, their timelines and their confidence. And so, with that right, it lets them easily transition between Windows or SQL to those same benefits in Azure with a small uplift in price. I think that has actually been a core component. The second one was the virtualization drive or data center modernization, another one, do move the premium mix up a bit. So that's, if you wanted to break it down into two more sustaining things, those are the types of things we're seeing in that number.Michael Spencer - Microsoft Corp.: Great. Thanks. And this will be our last question.Operator: Thank you. Our final question is coming from the line of Kash Rangan with Bank of America Merrill Lynch. Please proceed with your question.Kash Rangan - Bank of America Merrill Lynch: Last question will be the longest one; really, really long. Thank you guys for getting me in. A question for you, Satya. As you meet with CEOs of large companies, this is a recurring theme that we've been hearing from other software company CEOs, the theme of digitization. Can you help us to understand, especially given that Microsoft's growth rate is accelerating whereas the GDP growth rate is the GDP growth rate. So obviously, tech spending or IT spending as a percentage of GDP or average company revenue is going higher. So can you help us, given your perspective, which is pretty unique, help us understand what is the baseline of IT that we've been operating in, when it comes to digital business transformation, what are the phase 1, phase 2, phase 3 initiatives like and where are companies likely to spend more? And what kinds of products and services that are new and upcoming or maybe you sell them today that comprise that incremental swing factor over the baseline of what IT is today versus wherever we're likely to go with the digitization of business processes? Thank you.Satya Nadella - Microsoft Corp.: Yeah, I mean, I think when we talk to customers and CDOs, CEOs, what have you, we talk about four digital transformational outcomes. In fact, everything that we do across our solution areas are all ingredients to helping our customers achieve digital transformation objectives on, for example, how do they engage their customers. When I talked about Cosmos DB growth, Cosmos DB happens to be one of the best database products to be able to capture the signals that you want around your customers from a variety of different sources. That's gone one example of it. The second piece is of course around empowering your employees. I mean, one of the things that now has increasingly become a number one priority for every CEO is to make sure that the right tools, the right products are in front of their own employees so that they can do their very best work and collaborate. So teams grow. There's a great example of how companies are modernizing their workforce with things like Microsoft 365. The third one is operational efficiency. When you see the Dynamics 365 growth or Azure IoT growth, taking every IoT project, it ends up as a field service project, so that's a classic way somebody says, let me sense something, predict something and then actually fix using field service. So that's a transformational outcome where we're very well positioned. And lastly, people are changing their business models. You take somebody like a Nalco Water. You could say they're a water company, but now they're pure water service company. In other words, they put sensors that allow them to actually deliver a very differentiated business model to their customers. And so that's the transformational outcomes we see. And we feel, at Microsoft, we're well positioned both with the technology but also with our frontline sales capability, service capability and partner capacity to best address the digital transformation needs.Kash Rangan - Bank of America Merrill Lynch: Wonderful. It seems like CRM, HCM, ERP, IoT, these are the predominant themes that are going to be driving your growth. Thank you very much. Very useful, insightful.Michael Spencer - Microsoft Corp.: Thanks, Kash. That wraps up the Q&A portion of today's earnings call. Thank you for joining us, and we look forward to speaking with all of you soon. You can find additional details at the Microsoft Investor Relations website.Amy E. Hood - Microsoft Corp.: Thanks, everyone.Satya Nadella - Microsoft Corp.: Thank you, everyone.Operator: Ladies and gentlemen, this does conclude today's teleconference. Again, we thank you for your participation, and you may disconnect your lines at this time.\"\n        ],\n        \"semantic_type\": \"\",\n        \"description\": \"\"\n      }\n    }\n  ]\n}"
            }
          },
          "metadata": {},
          "execution_count": 53
        }
      ]
    },
    {
      "cell_type": "code",
      "execution_count": 1,
      "metadata": {
        "id": "ZT8TJ4fhZiV0"
      },
      "outputs": [],
      "source": [
        "# this is a long runtime code block. The output from this is in the file msft_transcripts_with_sentiment.csv\n",
        "msft_avg_sentiment = []\n",
        "\n",
        "for i in tqdm(range(len(msft_transcripts))):\n",
        "  transcript = msft_transcripts['Text'].iloc[i]\n",
        "  sentences = sent_tokenize(transcript)\n",
        "  # Trim first two and last 2 items from sentence list\n",
        "  sentences = sentences[2:-2]\n",
        "  # Create a dataframe to calculate the score for each item in the sentence list.\n",
        "  sentences_df = pd.DataFrame(sentences, columns=['Text'])\n",
        "  sentiment_results = sentences_df.apply(get_sentiment, axis=1)\n",
        "  sentiment_results.columns = ['Sentence', 'Label', 'Score']\n",
        "  # Remove neutral scores\n",
        "  sentiment_results = sentiment_results[sentiment_results['Label'] != 'neutral']\n",
        "  # Remove sentences with low sentiment\n",
        "  rows_to_drop = int(len(sentiment_results) * 0.3)\n",
        "  sentiment_results = sentiment_results.sort_values(by = 'Score', ascending = True).iloc[rows_to_drop:]\n",
        "  # Convert negative sentiment scores\n",
        "  sentiment_results['Score'] = sentiment_results.apply(lambda row: -row['Score'] if row['Label'] == 'negative' else row['Score'], axis=1)\n",
        "  # Calculate average sentiment score for the call\n",
        "  avg_sentiment = sum(sentiment_results['Score'])/len(sentiment_results)\n",
        "  msft_avg_sentiment.append(avg_sentiment)\n",
        "\n",
        "msft_transcripts['Sentiment'] = msft_avg_sentiment"
      ]
    },
    {
      "cell_type": "code",
      "execution_count": null,
      "metadata": {
        "id": "Y-arS483ZtWL"
      },
      "outputs": [],
      "source": [
        "# Save DataFrame to a CSV file\n",
        "csv_filename = 'msft_transcripts_with_sentiment.csv'\n",
        "msft_transcripts.to_csv(csv_filename, index=False)\n",
        "\n",
        "# Download the CSV file to your local machine\n",
        "files.download(csv_filename)"
      ]
    },
    {
      "cell_type": "code",
      "execution_count": 61,
      "metadata": {
        "id": "3bvPI2k1Z-q7"
      },
      "outputs": [],
      "source": [
        "transcripts = pd.read_csv('msft_transcripts_with_sentiment.csv')\n",
        "transcripts = pd.DataFrame(transcripts[['Date','Sentiment']]).drop_duplicates().set_index('Date').reindex(msft_df.index).fillna(0)"
      ]
    },
    {
      "cell_type": "code",
      "execution_count": 64,
      "metadata": {
        "colab": {
          "base_uri": "https://localhost:8080/",
          "height": 237
        },
        "id": "6_e1P61YaGZv",
        "outputId": "bb6bad5f-57b7-4cea-87b0-f1ecac74e0a1"
      },
      "outputs": [
        {
          "output_type": "execute_result",
          "data": {
            "text/plain": [
              "            Sentiment\n",
              "Date                 \n",
              "2024-02-28        0.0\n",
              "2024-02-29        0.0\n",
              "2024-03-01        0.0\n",
              "2024-03-04        0.0\n",
              "2024-03-05        0.0"
            ],
            "text/html": [
              "\n",
              "  <div id=\"df-51bcee35-29e4-4b12-a1c2-da808fc922f6\" class=\"colab-df-container\">\n",
              "    <div>\n",
              "<style scoped>\n",
              "    .dataframe tbody tr th:only-of-type {\n",
              "        vertical-align: middle;\n",
              "    }\n",
              "\n",
              "    .dataframe tbody tr th {\n",
              "        vertical-align: top;\n",
              "    }\n",
              "\n",
              "    .dataframe thead th {\n",
              "        text-align: right;\n",
              "    }\n",
              "</style>\n",
              "<table border=\"1\" class=\"dataframe\">\n",
              "  <thead>\n",
              "    <tr style=\"text-align: right;\">\n",
              "      <th></th>\n",
              "      <th>Sentiment</th>\n",
              "    </tr>\n",
              "    <tr>\n",
              "      <th>Date</th>\n",
              "      <th></th>\n",
              "    </tr>\n",
              "  </thead>\n",
              "  <tbody>\n",
              "    <tr>\n",
              "      <th>2024-02-28</th>\n",
              "      <td>0.0</td>\n",
              "    </tr>\n",
              "    <tr>\n",
              "      <th>2024-02-29</th>\n",
              "      <td>0.0</td>\n",
              "    </tr>\n",
              "    <tr>\n",
              "      <th>2024-03-01</th>\n",
              "      <td>0.0</td>\n",
              "    </tr>\n",
              "    <tr>\n",
              "      <th>2024-03-04</th>\n",
              "      <td>0.0</td>\n",
              "    </tr>\n",
              "    <tr>\n",
              "      <th>2024-03-05</th>\n",
              "      <td>0.0</td>\n",
              "    </tr>\n",
              "  </tbody>\n",
              "</table>\n",
              "</div>\n",
              "    <div class=\"colab-df-buttons\">\n",
              "\n",
              "  <div class=\"colab-df-container\">\n",
              "    <button class=\"colab-df-convert\" onclick=\"convertToInteractive('df-51bcee35-29e4-4b12-a1c2-da808fc922f6')\"\n",
              "            title=\"Convert this dataframe to an interactive table.\"\n",
              "            style=\"display:none;\">\n",
              "\n",
              "  <svg xmlns=\"http://www.w3.org/2000/svg\" height=\"24px\" viewBox=\"0 -960 960 960\">\n",
              "    <path d=\"M120-120v-720h720v720H120Zm60-500h600v-160H180v160Zm220 220h160v-160H400v160Zm0 220h160v-160H400v160ZM180-400h160v-160H180v160Zm440 0h160v-160H620v160ZM180-180h160v-160H180v160Zm440 0h160v-160H620v160Z\"/>\n",
              "  </svg>\n",
              "    </button>\n",
              "\n",
              "  <style>\n",
              "    .colab-df-container {\n",
              "      display:flex;\n",
              "      gap: 12px;\n",
              "    }\n",
              "\n",
              "    .colab-df-convert {\n",
              "      background-color: #E8F0FE;\n",
              "      border: none;\n",
              "      border-radius: 50%;\n",
              "      cursor: pointer;\n",
              "      display: none;\n",
              "      fill: #1967D2;\n",
              "      height: 32px;\n",
              "      padding: 0 0 0 0;\n",
              "      width: 32px;\n",
              "    }\n",
              "\n",
              "    .colab-df-convert:hover {\n",
              "      background-color: #E2EBFA;\n",
              "      box-shadow: 0px 1px 2px rgba(60, 64, 67, 0.3), 0px 1px 3px 1px rgba(60, 64, 67, 0.15);\n",
              "      fill: #174EA6;\n",
              "    }\n",
              "\n",
              "    .colab-df-buttons div {\n",
              "      margin-bottom: 4px;\n",
              "    }\n",
              "\n",
              "    [theme=dark] .colab-df-convert {\n",
              "      background-color: #3B4455;\n",
              "      fill: #D2E3FC;\n",
              "    }\n",
              "\n",
              "    [theme=dark] .colab-df-convert:hover {\n",
              "      background-color: #434B5C;\n",
              "      box-shadow: 0px 1px 3px 1px rgba(0, 0, 0, 0.15);\n",
              "      filter: drop-shadow(0px 1px 2px rgba(0, 0, 0, 0.3));\n",
              "      fill: #FFFFFF;\n",
              "    }\n",
              "  </style>\n",
              "\n",
              "    <script>\n",
              "      const buttonEl =\n",
              "        document.querySelector('#df-51bcee35-29e4-4b12-a1c2-da808fc922f6 button.colab-df-convert');\n",
              "      buttonEl.style.display =\n",
              "        google.colab.kernel.accessAllowed ? 'block' : 'none';\n",
              "\n",
              "      async function convertToInteractive(key) {\n",
              "        const element = document.querySelector('#df-51bcee35-29e4-4b12-a1c2-da808fc922f6');\n",
              "        const dataTable =\n",
              "          await google.colab.kernel.invokeFunction('convertToInteractive',\n",
              "                                                    [key], {});\n",
              "        if (!dataTable) return;\n",
              "\n",
              "        const docLinkHtml = 'Like what you see? Visit the ' +\n",
              "          '<a target=\"_blank\" href=https://colab.research.google.com/notebooks/data_table.ipynb>data table notebook</a>'\n",
              "          + ' to learn more about interactive tables.';\n",
              "        element.innerHTML = '';\n",
              "        dataTable['output_type'] = 'display_data';\n",
              "        await google.colab.output.renderOutput(dataTable, element);\n",
              "        const docLink = document.createElement('div');\n",
              "        docLink.innerHTML = docLinkHtml;\n",
              "        element.appendChild(docLink);\n",
              "      }\n",
              "    </script>\n",
              "  </div>\n",
              "\n",
              "\n",
              "<div id=\"df-aa46af79-a9ca-418c-a671-03ea8b95d23a\">\n",
              "  <button class=\"colab-df-quickchart\" onclick=\"quickchart('df-aa46af79-a9ca-418c-a671-03ea8b95d23a')\"\n",
              "            title=\"Suggest charts\"\n",
              "            style=\"display:none;\">\n",
              "\n",
              "<svg xmlns=\"http://www.w3.org/2000/svg\" height=\"24px\"viewBox=\"0 0 24 24\"\n",
              "     width=\"24px\">\n",
              "    <g>\n",
              "        <path d=\"M19 3H5c-1.1 0-2 .9-2 2v14c0 1.1.9 2 2 2h14c1.1 0 2-.9 2-2V5c0-1.1-.9-2-2-2zM9 17H7v-7h2v7zm4 0h-2V7h2v10zm4 0h-2v-4h2v4z\"/>\n",
              "    </g>\n",
              "</svg>\n",
              "  </button>\n",
              "\n",
              "<style>\n",
              "  .colab-df-quickchart {\n",
              "      --bg-color: #E8F0FE;\n",
              "      --fill-color: #1967D2;\n",
              "      --hover-bg-color: #E2EBFA;\n",
              "      --hover-fill-color: #174EA6;\n",
              "      --disabled-fill-color: #AAA;\n",
              "      --disabled-bg-color: #DDD;\n",
              "  }\n",
              "\n",
              "  [theme=dark] .colab-df-quickchart {\n",
              "      --bg-color: #3B4455;\n",
              "      --fill-color: #D2E3FC;\n",
              "      --hover-bg-color: #434B5C;\n",
              "      --hover-fill-color: #FFFFFF;\n",
              "      --disabled-bg-color: #3B4455;\n",
              "      --disabled-fill-color: #666;\n",
              "  }\n",
              "\n",
              "  .colab-df-quickchart {\n",
              "    background-color: var(--bg-color);\n",
              "    border: none;\n",
              "    border-radius: 50%;\n",
              "    cursor: pointer;\n",
              "    display: none;\n",
              "    fill: var(--fill-color);\n",
              "    height: 32px;\n",
              "    padding: 0;\n",
              "    width: 32px;\n",
              "  }\n",
              "\n",
              "  .colab-df-quickchart:hover {\n",
              "    background-color: var(--hover-bg-color);\n",
              "    box-shadow: 0 1px 2px rgba(60, 64, 67, 0.3), 0 1px 3px 1px rgba(60, 64, 67, 0.15);\n",
              "    fill: var(--button-hover-fill-color);\n",
              "  }\n",
              "\n",
              "  .colab-df-quickchart-complete:disabled,\n",
              "  .colab-df-quickchart-complete:disabled:hover {\n",
              "    background-color: var(--disabled-bg-color);\n",
              "    fill: var(--disabled-fill-color);\n",
              "    box-shadow: none;\n",
              "  }\n",
              "\n",
              "  .colab-df-spinner {\n",
              "    border: 2px solid var(--fill-color);\n",
              "    border-color: transparent;\n",
              "    border-bottom-color: var(--fill-color);\n",
              "    animation:\n",
              "      spin 1s steps(1) infinite;\n",
              "  }\n",
              "\n",
              "  @keyframes spin {\n",
              "    0% {\n",
              "      border-color: transparent;\n",
              "      border-bottom-color: var(--fill-color);\n",
              "      border-left-color: var(--fill-color);\n",
              "    }\n",
              "    20% {\n",
              "      border-color: transparent;\n",
              "      border-left-color: var(--fill-color);\n",
              "      border-top-color: var(--fill-color);\n",
              "    }\n",
              "    30% {\n",
              "      border-color: transparent;\n",
              "      border-left-color: var(--fill-color);\n",
              "      border-top-color: var(--fill-color);\n",
              "      border-right-color: var(--fill-color);\n",
              "    }\n",
              "    40% {\n",
              "      border-color: transparent;\n",
              "      border-right-color: var(--fill-color);\n",
              "      border-top-color: var(--fill-color);\n",
              "    }\n",
              "    60% {\n",
              "      border-color: transparent;\n",
              "      border-right-color: var(--fill-color);\n",
              "    }\n",
              "    80% {\n",
              "      border-color: transparent;\n",
              "      border-right-color: var(--fill-color);\n",
              "      border-bottom-color: var(--fill-color);\n",
              "    }\n",
              "    90% {\n",
              "      border-color: transparent;\n",
              "      border-bottom-color: var(--fill-color);\n",
              "    }\n",
              "  }\n",
              "</style>\n",
              "\n",
              "  <script>\n",
              "    async function quickchart(key) {\n",
              "      const quickchartButtonEl =\n",
              "        document.querySelector('#' + key + ' button');\n",
              "      quickchartButtonEl.disabled = true;  // To prevent multiple clicks.\n",
              "      quickchartButtonEl.classList.add('colab-df-spinner');\n",
              "      try {\n",
              "        const charts = await google.colab.kernel.invokeFunction(\n",
              "            'suggestCharts', [key], {});\n",
              "      } catch (error) {\n",
              "        console.error('Error during call to suggestCharts:', error);\n",
              "      }\n",
              "      quickchartButtonEl.classList.remove('colab-df-spinner');\n",
              "      quickchartButtonEl.classList.add('colab-df-quickchart-complete');\n",
              "    }\n",
              "    (() => {\n",
              "      let quickchartButtonEl =\n",
              "        document.querySelector('#df-aa46af79-a9ca-418c-a671-03ea8b95d23a button');\n",
              "      quickchartButtonEl.style.display =\n",
              "        google.colab.kernel.accessAllowed ? 'block' : 'none';\n",
              "    })();\n",
              "  </script>\n",
              "</div>\n",
              "\n",
              "    </div>\n",
              "  </div>\n"
            ],
            "application/vnd.google.colaboratory.intrinsic+json": {
              "type": "dataframe",
              "summary": "{\n  \"name\": \"transcripts\",\n  \"rows\": 5,\n  \"fields\": [\n    {\n      \"column\": \"Date\",\n      \"properties\": {\n        \"dtype\": \"date\",\n        \"min\": \"2024-02-28 00:00:00\",\n        \"max\": \"2024-03-05 00:00:00\",\n        \"num_unique_values\": 5,\n        \"samples\": [\n          \"2024-02-29 00:00:00\",\n          \"2024-03-05 00:00:00\",\n          \"2024-03-01 00:00:00\"\n        ],\n        \"semantic_type\": \"\",\n        \"description\": \"\"\n      }\n    },\n    {\n      \"column\": \"Sentiment\",\n      \"properties\": {\n        \"dtype\": \"number\",\n        \"std\": 0.0,\n        \"min\": 0.0,\n        \"max\": 0.0,\n        \"num_unique_values\": 1,\n        \"samples\": [\n          0.0\n        ],\n        \"semantic_type\": \"\",\n        \"description\": \"\"\n      }\n    }\n  ]\n}"
            }
          },
          "metadata": {},
          "execution_count": 64
        }
      ],
      "source": [
        "transcripts.tail()"
      ]
    },
    {
      "cell_type": "markdown",
      "metadata": {
        "id": "1mBVYmyW6Trk"
      },
      "source": [
        "## Congress Trades"
      ]
    },
    {
      "cell_type": "code",
      "execution_count": 65,
      "metadata": {
        "id": "tuzbhWLe63NC"
      },
      "outputs": [],
      "source": [
        "congress = (pd.read_csv('msft_congress.csv')\n",
        "              .drop(columns=['Range', 'House', 'Party', 'last_modified', 'Ticker', 'ReportDate', 'Unnamed: 0', 'Representative'])\n",
        "              .replace({'Transaction': {'Sale (Partial)': 'Sale', 'Sale (Full)': 'Sale'}})\n",
        "              .rename(columns={'TransactionDate': 'Date'})\n",
        "              .assign(Date=lambda df: pd.to_datetime(df['Date'])))\n",
        "\n",
        "congress['congress_net_trade'] = np.where(congress['Transaction'] == 'Purchase',\n",
        "                                          congress['Amount'],\n",
        "                                          -congress['Amount'])\n",
        "\n",
        "congress = (congress.drop(columns=['Transaction', 'Amount'])\n",
        "                             .groupby('Date')['congress_net_trade']\n",
        "                             .sum())\n",
        "congress = pd.DataFrame(congress)"
      ]
    },
    {
      "cell_type": "code",
      "execution_count": 66,
      "metadata": {
        "id": "MdKRCf8ULUSC"
      },
      "outputs": [],
      "source": [
        "congress = congress.reindex(msft_df.index).fillna(0)"
      ]
    },
    {
      "cell_type": "markdown",
      "source": [
        "Is there an increase in the price of MSFT in the days following a purchase transaction?"
      ],
      "metadata": {
        "id": "4QCnpIBIhnF5"
      }
    },
    {
      "cell_type": "code",
      "source": [
        "msft_congress = pd.read_csv('msft_congress.csv')\n",
        "msft_congress_df = pd.DataFrame(msft_congress)\n",
        "\n",
        "# MSFT Purchase Transactions\n",
        "msft_purchase_transaction = msft_congress_df[msft_congress_df['Transaction'] == 'Purchase'].copy()\n",
        "msft_purchase_transaction = msft_purchase_transaction.drop(columns = ['Representative','Transaction', 'Unnamed: 0'])\n",
        "msft_purchase_transaction = msft_purchase_transaction.sort_values(by='TransactionDate', ascending=True)\n",
        "msft_purchase_transaction['Amount'] = msft_purchase_transaction['Amount'].astype(float)\n",
        "two_lowest_values = msft_purchase_transaction['Amount'].nsmallest(2).unique()\n",
        "msft_purchase_transaction = msft_purchase_transaction[~msft_purchase_transaction['Amount'].isin(two_lowest_values)]\n",
        "msft_purchase_transaction['TransactionDate'] = pd.to_datetime(msft_purchase_transaction['TransactionDate'])\n",
        "msft_purchase_transaction = msft_purchase_transaction.sort_values(by = 'TransactionDate')\n",
        "msft_purchase_transaction.head()"
      ],
      "metadata": {
        "colab": {
          "base_uri": "https://localhost:8080/",
          "height": 206
        },
        "id": "tG3DvxWbhmEq",
        "outputId": "92ed3de4-d4ec-456f-8fd4-5ea534b30d54"
      },
      "execution_count": 67,
      "outputs": [
        {
          "output_type": "execute_result",
          "data": {
            "text/plain": [
              "    ReportDate TransactionDate Ticker               Range            House  \\\n",
              "780  8/29/2014      2013-07-19   MSFT   $15,001 - $50,000  Representatives   \n",
              "779  8/29/2014      2013-09-15   MSFT   $15,001 - $50,000  Representatives   \n",
              "761  8/12/2014      2014-07-08   MSFT   $15,001 - $50,000  Representatives   \n",
              "742  7/28/2015      2015-06-23   MSFT   $15,001 - $50,000  Representatives   \n",
              "741  7/28/2015      2015-06-26   MSFT  $50,001 - $100,000  Representatives   \n",
              "\n",
              "      Amount Party last_modified  \n",
              "780  15001.0     R    11/16/2023  \n",
              "779  15001.0     R    11/16/2023  \n",
              "761  15001.0     R    11/16/2023  \n",
              "742  15001.0     D    11/16/2023  \n",
              "741  50001.0     D    11/16/2023  "
            ],
            "text/html": [
              "\n",
              "  <div id=\"df-12390836-2796-462c-a40f-c33943a784c1\" class=\"colab-df-container\">\n",
              "    <div>\n",
              "<style scoped>\n",
              "    .dataframe tbody tr th:only-of-type {\n",
              "        vertical-align: middle;\n",
              "    }\n",
              "\n",
              "    .dataframe tbody tr th {\n",
              "        vertical-align: top;\n",
              "    }\n",
              "\n",
              "    .dataframe thead th {\n",
              "        text-align: right;\n",
              "    }\n",
              "</style>\n",
              "<table border=\"1\" class=\"dataframe\">\n",
              "  <thead>\n",
              "    <tr style=\"text-align: right;\">\n",
              "      <th></th>\n",
              "      <th>ReportDate</th>\n",
              "      <th>TransactionDate</th>\n",
              "      <th>Ticker</th>\n",
              "      <th>Range</th>\n",
              "      <th>House</th>\n",
              "      <th>Amount</th>\n",
              "      <th>Party</th>\n",
              "      <th>last_modified</th>\n",
              "    </tr>\n",
              "  </thead>\n",
              "  <tbody>\n",
              "    <tr>\n",
              "      <th>780</th>\n",
              "      <td>8/29/2014</td>\n",
              "      <td>2013-07-19</td>\n",
              "      <td>MSFT</td>\n",
              "      <td>$15,001 - $50,000</td>\n",
              "      <td>Representatives</td>\n",
              "      <td>15001.0</td>\n",
              "      <td>R</td>\n",
              "      <td>11/16/2023</td>\n",
              "    </tr>\n",
              "    <tr>\n",
              "      <th>779</th>\n",
              "      <td>8/29/2014</td>\n",
              "      <td>2013-09-15</td>\n",
              "      <td>MSFT</td>\n",
              "      <td>$15,001 - $50,000</td>\n",
              "      <td>Representatives</td>\n",
              "      <td>15001.0</td>\n",
              "      <td>R</td>\n",
              "      <td>11/16/2023</td>\n",
              "    </tr>\n",
              "    <tr>\n",
              "      <th>761</th>\n",
              "      <td>8/12/2014</td>\n",
              "      <td>2014-07-08</td>\n",
              "      <td>MSFT</td>\n",
              "      <td>$15,001 - $50,000</td>\n",
              "      <td>Representatives</td>\n",
              "      <td>15001.0</td>\n",
              "      <td>R</td>\n",
              "      <td>11/16/2023</td>\n",
              "    </tr>\n",
              "    <tr>\n",
              "      <th>742</th>\n",
              "      <td>7/28/2015</td>\n",
              "      <td>2015-06-23</td>\n",
              "      <td>MSFT</td>\n",
              "      <td>$15,001 - $50,000</td>\n",
              "      <td>Representatives</td>\n",
              "      <td>15001.0</td>\n",
              "      <td>D</td>\n",
              "      <td>11/16/2023</td>\n",
              "    </tr>\n",
              "    <tr>\n",
              "      <th>741</th>\n",
              "      <td>7/28/2015</td>\n",
              "      <td>2015-06-26</td>\n",
              "      <td>MSFT</td>\n",
              "      <td>$50,001 - $100,000</td>\n",
              "      <td>Representatives</td>\n",
              "      <td>50001.0</td>\n",
              "      <td>D</td>\n",
              "      <td>11/16/2023</td>\n",
              "    </tr>\n",
              "  </tbody>\n",
              "</table>\n",
              "</div>\n",
              "    <div class=\"colab-df-buttons\">\n",
              "\n",
              "  <div class=\"colab-df-container\">\n",
              "    <button class=\"colab-df-convert\" onclick=\"convertToInteractive('df-12390836-2796-462c-a40f-c33943a784c1')\"\n",
              "            title=\"Convert this dataframe to an interactive table.\"\n",
              "            style=\"display:none;\">\n",
              "\n",
              "  <svg xmlns=\"http://www.w3.org/2000/svg\" height=\"24px\" viewBox=\"0 -960 960 960\">\n",
              "    <path d=\"M120-120v-720h720v720H120Zm60-500h600v-160H180v160Zm220 220h160v-160H400v160Zm0 220h160v-160H400v160ZM180-400h160v-160H180v160Zm440 0h160v-160H620v160ZM180-180h160v-160H180v160Zm440 0h160v-160H620v160Z\"/>\n",
              "  </svg>\n",
              "    </button>\n",
              "\n",
              "  <style>\n",
              "    .colab-df-container {\n",
              "      display:flex;\n",
              "      gap: 12px;\n",
              "    }\n",
              "\n",
              "    .colab-df-convert {\n",
              "      background-color: #E8F0FE;\n",
              "      border: none;\n",
              "      border-radius: 50%;\n",
              "      cursor: pointer;\n",
              "      display: none;\n",
              "      fill: #1967D2;\n",
              "      height: 32px;\n",
              "      padding: 0 0 0 0;\n",
              "      width: 32px;\n",
              "    }\n",
              "\n",
              "    .colab-df-convert:hover {\n",
              "      background-color: #E2EBFA;\n",
              "      box-shadow: 0px 1px 2px rgba(60, 64, 67, 0.3), 0px 1px 3px 1px rgba(60, 64, 67, 0.15);\n",
              "      fill: #174EA6;\n",
              "    }\n",
              "\n",
              "    .colab-df-buttons div {\n",
              "      margin-bottom: 4px;\n",
              "    }\n",
              "\n",
              "    [theme=dark] .colab-df-convert {\n",
              "      background-color: #3B4455;\n",
              "      fill: #D2E3FC;\n",
              "    }\n",
              "\n",
              "    [theme=dark] .colab-df-convert:hover {\n",
              "      background-color: #434B5C;\n",
              "      box-shadow: 0px 1px 3px 1px rgba(0, 0, 0, 0.15);\n",
              "      filter: drop-shadow(0px 1px 2px rgba(0, 0, 0, 0.3));\n",
              "      fill: #FFFFFF;\n",
              "    }\n",
              "  </style>\n",
              "\n",
              "    <script>\n",
              "      const buttonEl =\n",
              "        document.querySelector('#df-12390836-2796-462c-a40f-c33943a784c1 button.colab-df-convert');\n",
              "      buttonEl.style.display =\n",
              "        google.colab.kernel.accessAllowed ? 'block' : 'none';\n",
              "\n",
              "      async function convertToInteractive(key) {\n",
              "        const element = document.querySelector('#df-12390836-2796-462c-a40f-c33943a784c1');\n",
              "        const dataTable =\n",
              "          await google.colab.kernel.invokeFunction('convertToInteractive',\n",
              "                                                    [key], {});\n",
              "        if (!dataTable) return;\n",
              "\n",
              "        const docLinkHtml = 'Like what you see? Visit the ' +\n",
              "          '<a target=\"_blank\" href=https://colab.research.google.com/notebooks/data_table.ipynb>data table notebook</a>'\n",
              "          + ' to learn more about interactive tables.';\n",
              "        element.innerHTML = '';\n",
              "        dataTable['output_type'] = 'display_data';\n",
              "        await google.colab.output.renderOutput(dataTable, element);\n",
              "        const docLink = document.createElement('div');\n",
              "        docLink.innerHTML = docLinkHtml;\n",
              "        element.appendChild(docLink);\n",
              "      }\n",
              "    </script>\n",
              "  </div>\n",
              "\n",
              "\n",
              "<div id=\"df-4217835f-2239-4743-8763-bf228cb27176\">\n",
              "  <button class=\"colab-df-quickchart\" onclick=\"quickchart('df-4217835f-2239-4743-8763-bf228cb27176')\"\n",
              "            title=\"Suggest charts\"\n",
              "            style=\"display:none;\">\n",
              "\n",
              "<svg xmlns=\"http://www.w3.org/2000/svg\" height=\"24px\"viewBox=\"0 0 24 24\"\n",
              "     width=\"24px\">\n",
              "    <g>\n",
              "        <path d=\"M19 3H5c-1.1 0-2 .9-2 2v14c0 1.1.9 2 2 2h14c1.1 0 2-.9 2-2V5c0-1.1-.9-2-2-2zM9 17H7v-7h2v7zm4 0h-2V7h2v10zm4 0h-2v-4h2v4z\"/>\n",
              "    </g>\n",
              "</svg>\n",
              "  </button>\n",
              "\n",
              "<style>\n",
              "  .colab-df-quickchart {\n",
              "      --bg-color: #E8F0FE;\n",
              "      --fill-color: #1967D2;\n",
              "      --hover-bg-color: #E2EBFA;\n",
              "      --hover-fill-color: #174EA6;\n",
              "      --disabled-fill-color: #AAA;\n",
              "      --disabled-bg-color: #DDD;\n",
              "  }\n",
              "\n",
              "  [theme=dark] .colab-df-quickchart {\n",
              "      --bg-color: #3B4455;\n",
              "      --fill-color: #D2E3FC;\n",
              "      --hover-bg-color: #434B5C;\n",
              "      --hover-fill-color: #FFFFFF;\n",
              "      --disabled-bg-color: #3B4455;\n",
              "      --disabled-fill-color: #666;\n",
              "  }\n",
              "\n",
              "  .colab-df-quickchart {\n",
              "    background-color: var(--bg-color);\n",
              "    border: none;\n",
              "    border-radius: 50%;\n",
              "    cursor: pointer;\n",
              "    display: none;\n",
              "    fill: var(--fill-color);\n",
              "    height: 32px;\n",
              "    padding: 0;\n",
              "    width: 32px;\n",
              "  }\n",
              "\n",
              "  .colab-df-quickchart:hover {\n",
              "    background-color: var(--hover-bg-color);\n",
              "    box-shadow: 0 1px 2px rgba(60, 64, 67, 0.3), 0 1px 3px 1px rgba(60, 64, 67, 0.15);\n",
              "    fill: var(--button-hover-fill-color);\n",
              "  }\n",
              "\n",
              "  .colab-df-quickchart-complete:disabled,\n",
              "  .colab-df-quickchart-complete:disabled:hover {\n",
              "    background-color: var(--disabled-bg-color);\n",
              "    fill: var(--disabled-fill-color);\n",
              "    box-shadow: none;\n",
              "  }\n",
              "\n",
              "  .colab-df-spinner {\n",
              "    border: 2px solid var(--fill-color);\n",
              "    border-color: transparent;\n",
              "    border-bottom-color: var(--fill-color);\n",
              "    animation:\n",
              "      spin 1s steps(1) infinite;\n",
              "  }\n",
              "\n",
              "  @keyframes spin {\n",
              "    0% {\n",
              "      border-color: transparent;\n",
              "      border-bottom-color: var(--fill-color);\n",
              "      border-left-color: var(--fill-color);\n",
              "    }\n",
              "    20% {\n",
              "      border-color: transparent;\n",
              "      border-left-color: var(--fill-color);\n",
              "      border-top-color: var(--fill-color);\n",
              "    }\n",
              "    30% {\n",
              "      border-color: transparent;\n",
              "      border-left-color: var(--fill-color);\n",
              "      border-top-color: var(--fill-color);\n",
              "      border-right-color: var(--fill-color);\n",
              "    }\n",
              "    40% {\n",
              "      border-color: transparent;\n",
              "      border-right-color: var(--fill-color);\n",
              "      border-top-color: var(--fill-color);\n",
              "    }\n",
              "    60% {\n",
              "      border-color: transparent;\n",
              "      border-right-color: var(--fill-color);\n",
              "    }\n",
              "    80% {\n",
              "      border-color: transparent;\n",
              "      border-right-color: var(--fill-color);\n",
              "      border-bottom-color: var(--fill-color);\n",
              "    }\n",
              "    90% {\n",
              "      border-color: transparent;\n",
              "      border-bottom-color: var(--fill-color);\n",
              "    }\n",
              "  }\n",
              "</style>\n",
              "\n",
              "  <script>\n",
              "    async function quickchart(key) {\n",
              "      const quickchartButtonEl =\n",
              "        document.querySelector('#' + key + ' button');\n",
              "      quickchartButtonEl.disabled = true;  // To prevent multiple clicks.\n",
              "      quickchartButtonEl.classList.add('colab-df-spinner');\n",
              "      try {\n",
              "        const charts = await google.colab.kernel.invokeFunction(\n",
              "            'suggestCharts', [key], {});\n",
              "      } catch (error) {\n",
              "        console.error('Error during call to suggestCharts:', error);\n",
              "      }\n",
              "      quickchartButtonEl.classList.remove('colab-df-spinner');\n",
              "      quickchartButtonEl.classList.add('colab-df-quickchart-complete');\n",
              "    }\n",
              "    (() => {\n",
              "      let quickchartButtonEl =\n",
              "        document.querySelector('#df-4217835f-2239-4743-8763-bf228cb27176 button');\n",
              "      quickchartButtonEl.style.display =\n",
              "        google.colab.kernel.accessAllowed ? 'block' : 'none';\n",
              "    })();\n",
              "  </script>\n",
              "</div>\n",
              "\n",
              "    </div>\n",
              "  </div>\n"
            ],
            "application/vnd.google.colaboratory.intrinsic+json": {
              "type": "dataframe",
              "variable_name": "msft_purchase_transaction",
              "repr_error": "0"
            }
          },
          "metadata": {},
          "execution_count": 67
        }
      ]
    },
    {
      "cell_type": "code",
      "source": [
        "msft_mean_return = []\n",
        "msft_post_transaction_return = []\n",
        "\n",
        "for i in range(250): #250 trading days in one year\n",
        "\n",
        "  # mean return for N number of days\n",
        "  msft_mean_return.append(mean_return_over_n_days(msft_df,i))\n",
        "\n",
        "  # return for N number of days following a congress purchase\n",
        "  n_day_shifted_return = shifted_returns_df(msft_df,i)\n",
        "  merged_df = pd.merge_asof(msft_purchase_transaction, n_day_shifted_return.reset_index(), left_on='TransactionDate', right_on='Date', direction='forward')\n",
        "  msft_post_transaction_return.append(round(np.mean(merged_df['Shifted Return Over N Days']),4))"
      ],
      "metadata": {
        "id": "o61wiEnSiV7Z"
      },
      "execution_count": 68,
      "outputs": []
    },
    {
      "cell_type": "code",
      "source": [
        "msft_comparison = pd.DataFrame({\n",
        "    'Number of Trading Days': range(1, 251),\n",
        "    'mean_return': msft_mean_return,\n",
        "    'post_transaction_return': msft_post_transaction_return,\n",
        "})\n",
        "msft_comparison['average_excess_return'] = msft_comparison['post_transaction_return'] - msft_comparison['mean_return']"
      ],
      "metadata": {
        "id": "J1eO0mGLv3ma"
      },
      "execution_count": 69,
      "outputs": []
    },
    {
      "cell_type": "code",
      "source": [
        "fig = px.line(msft_comparison, x='Number of Trading Days', y='average_excess_return', color_discrete_sequence=['#00274C'],\n",
        "              title='Average Excess Return Over Number of Trading Days')\n",
        "\n",
        "fig.update_xaxes(title_text='Number of Trading Days Post Purchase')\n",
        "fig.update_yaxes(title_text='Average Excess Return')\n",
        "fig.add_hline(y=0, line_color='#FFCB05')\n",
        "\n",
        "fig.show()"
      ],
      "metadata": {
        "colab": {
          "base_uri": "https://localhost:8080/",
          "height": 542
        },
        "id": "KNg7LqFyv9Ew",
        "outputId": "5d7ee4c2-1860-4b4c-c285-0cbc668926d1"
      },
      "execution_count": 70,
      "outputs": [
        {
          "output_type": "display_data",
          "data": {
            "text/html": [
              "<html>\n",
              "<head><meta charset=\"utf-8\" /></head>\n",
              "<body>\n",
              "    <div>            <script src=\"https://cdnjs.cloudflare.com/ajax/libs/mathjax/2.7.5/MathJax.js?config=TeX-AMS-MML_SVG\"></script><script type=\"text/javascript\">if (window.MathJax && window.MathJax.Hub && window.MathJax.Hub.Config) {window.MathJax.Hub.Config({SVG: {font: \"STIX-Web\"}});}</script>                <script type=\"text/javascript\">window.PlotlyConfig = {MathJaxConfig: 'local'};</script>\n",
              "        <script charset=\"utf-8\" src=\"https://cdn.plot.ly/plotly-2.24.1.min.js\"></script>                <div id=\"0d59dcb0-41b4-47b3-9cee-df89903d4eb6\" class=\"plotly-graph-div\" style=\"height:525px; width:100%;\"></div>            <script type=\"text/javascript\">                                    window.PLOTLYENV=window.PLOTLYENV || {};                                    if (document.getElementById(\"0d59dcb0-41b4-47b3-9cee-df89903d4eb6\")) {                    Plotly.newPlot(                        \"0d59dcb0-41b4-47b3-9cee-df89903d4eb6\",                        [{\"hovertemplate\":\"Number of Trading Days=%{x}\\u003cbr\\u003eaverage_excess_return=%{y}\\u003cextra\\u003e\\u003c\\u002fextra\\u003e\",\"legendgroup\":\"\",\"line\":{\"color\":\"#00274C\",\"dash\":\"solid\"},\"marker\":{\"symbol\":\"circle\"},\"mode\":\"lines\",\"name\":\"\",\"orientation\":\"v\",\"showlegend\":false,\"x\":[1,2,3,4,5,6,7,8,9,10,11,12,13,14,15,16,17,18,19,20,21,22,23,24,25,26,27,28,29,30,31,32,33,34,35,36,37,38,39,40,41,42,43,44,45,46,47,48,49,50,51,52,53,54,55,56,57,58,59,60,61,62,63,64,65,66,67,68,69,70,71,72,73,74,75,76,77,78,79,80,81,82,83,84,85,86,87,88,89,90,91,92,93,94,95,96,97,98,99,100,101,102,103,104,105,106,107,108,109,110,111,112,113,114,115,116,117,118,119,120,121,122,123,124,125,126,127,128,129,130,131,132,133,134,135,136,137,138,139,140,141,142,143,144,145,146,147,148,149,150,151,152,153,154,155,156,157,158,159,160,161,162,163,164,165,166,167,168,169,170,171,172,173,174,175,176,177,178,179,180,181,182,183,184,185,186,187,188,189,190,191,192,193,194,195,196,197,198,199,200,201,202,203,204,205,206,207,208,209,210,211,212,213,214,215,216,217,218,219,220,221,222,223,224,225,226,227,228,229,230,231,232,233,234,235,236,237,238,239,240,241,242,243,244,245,246,247,248,249,250],\"xaxis\":\"x\",\"y\":[0.0,-0.0031999999999999997,-0.0041,-0.0058,-0.005200000000000001,-0.0015999999999999999,-0.0103,-0.0063,-0.0101,-0.0092,-0.0014000000000000002,-0.0008000000000000004,0.0011000000000000003,-0.0020999999999999994,-0.0004999999999999987,-0.0068000000000000005,-0.0146,-0.005500000000000001,-0.0011999999999999997,0.0057,0.0075,0.011100000000000002,0.024900000000000002,0.0227,0.029400000000000003,0.028399999999999998,0.0392,0.033,0.036000000000000004,0.03620000000000001,0.036300000000000006,0.040100000000000004,0.038799999999999994,0.03609999999999999,0.0267,0.009399999999999999,0.0087,0.013900000000000003,-0.006699999999999998,0.0006999999999999992,0.020199999999999996,0.004499999999999997,0.017,0.012499999999999997,0.005299999999999999,-0.015599999999999996,0.0031000000000000055,-0.009299999999999996,-0.037500000000000006,-0.0015000000000000013,-0.043399999999999994,-0.022999999999999996,-0.0325,-0.0319,-0.0428,-0.0442,-0.020500000000000004,-0.022200000000000004,-0.007400000000000004,-0.0196,0.0012999999999999956,-0.006400000000000003,-0.015700000000000006,-0.013099999999999994,-0.013700000000000004,0.00810000000000001,0.0059000000000000025,0.0076999999999999985,0.008500000000000008,0.009300000000000003,0.024800000000000003,0.023099999999999996,0.03209999999999999,0.038500000000000006,0.028200000000000003,0.016399999999999998,0.026099999999999998,0.02439999999999999,0.03219999999999999,0.0314,0.0233,0.0402,0.04060000000000001,0.0338,0.0382,0.04429999999999999,0.04589999999999998,0.046499999999999986,0.045,0.05379999999999999,0.04419999999999999,0.039400000000000004,0.03960000000000001,0.0446,0.04769999999999999,0.04540000000000001,0.048500000000000015,0.045999999999999985,0.04910000000000002,0.0455,0.046,0.043300000000000005,0.0484,0.04829999999999998,0.05070000000000001,0.05049999999999999,0.04890000000000001,0.055099999999999996,0.05860000000000001,0.059899999999999995,0.07450000000000001,0.0513,0.0527,0.05489999999999999,0.062299999999999994,0.06799999999999999,0.0721,0.0711,0.0843,0.08319999999999998,0.0771,0.08289999999999999,0.07050000000000001,0.07379999999999999,0.0806,0.086,0.0869,0.09710000000000002,0.0917,0.10140000000000002,0.10240000000000002,0.10270000000000001,0.0862,0.09069999999999998,0.0892,0.07970000000000002,0.07919999999999999,0.0975,0.09140000000000001,0.09340000000000001,0.07600000000000001,0.07139999999999999,0.0743,0.0653,0.0696,0.0688,0.0708,0.0953,0.09,0.0907,0.0933,0.08629999999999999,0.07949999999999999,0.07070000000000001,0.08000000000000002,0.0806,0.08309999999999998,0.0837,0.0842,0.0824,0.09139999999999998,0.08459999999999998,0.08460000000000001,0.0882,0.09710000000000002,0.10819999999999999,0.1136,0.10620000000000002,0.11119999999999997,0.11850000000000002,0.09389999999999998,0.0872,0.0595,0.07449999999999998,0.064,0.0582,0.0625,0.07099999999999998,0.06339999999999998,0.05499999999999999,0.05230000000000001,0.055999999999999994,0.06340000000000001,0.0504,0.05860000000000001,0.07089999999999999,0.07410000000000003,0.06739999999999999,0.0731,0.07879999999999998,0.06819999999999998,0.07519999999999999,0.06559999999999999,0.07140000000000002,0.07409999999999997,0.08630000000000002,0.0947,0.0963,0.09699999999999998,0.09380000000000002,0.09170000000000003,0.07809999999999997,0.07730000000000001,0.07500000000000001,0.07430000000000003,0.0756,0.06309999999999999,0.06519999999999998,0.044899999999999995,0.05099999999999999,0.04629999999999998,0.04579999999999998,0.0597,0.07649999999999998,0.08880000000000002,0.08960000000000001,0.0847,0.06809999999999997,0.07669999999999999,0.07900000000000001,0.08030000000000001,0.08199999999999999,0.07829999999999998,0.07239999999999999,0.07410000000000003,0.06789999999999999,0.06319999999999998,0.06639999999999999,0.06660000000000002,0.07150000000000001,0.0696,0.0739,0.07179999999999997,0.07379999999999998,0.07209999999999997,0.0706,0.07660000000000003,0.06830000000000003,0.06570000000000001,0.0728,0.0741,0.07730000000000001,0.0826,0.08759999999999998,0.08329999999999999,0.0905,0.08760000000000001,0.08450000000000002,0.08729999999999999,0.09319999999999998],\"yaxis\":\"y\",\"type\":\"scatter\"}],                        {\"template\":{\"data\":{\"histogram2dcontour\":[{\"type\":\"histogram2dcontour\",\"colorbar\":{\"outlinewidth\":0,\"ticks\":\"\"},\"colorscale\":[[0.0,\"#0d0887\"],[0.1111111111111111,\"#46039f\"],[0.2222222222222222,\"#7201a8\"],[0.3333333333333333,\"#9c179e\"],[0.4444444444444444,\"#bd3786\"],[0.5555555555555556,\"#d8576b\"],[0.6666666666666666,\"#ed7953\"],[0.7777777777777778,\"#fb9f3a\"],[0.8888888888888888,\"#fdca26\"],[1.0,\"#f0f921\"]]}],\"choropleth\":[{\"type\":\"choropleth\",\"colorbar\":{\"outlinewidth\":0,\"ticks\":\"\"}}],\"histogram2d\":[{\"type\":\"histogram2d\",\"colorbar\":{\"outlinewidth\":0,\"ticks\":\"\"},\"colorscale\":[[0.0,\"#0d0887\"],[0.1111111111111111,\"#46039f\"],[0.2222222222222222,\"#7201a8\"],[0.3333333333333333,\"#9c179e\"],[0.4444444444444444,\"#bd3786\"],[0.5555555555555556,\"#d8576b\"],[0.6666666666666666,\"#ed7953\"],[0.7777777777777778,\"#fb9f3a\"],[0.8888888888888888,\"#fdca26\"],[1.0,\"#f0f921\"]]}],\"heatmap\":[{\"type\":\"heatmap\",\"colorbar\":{\"outlinewidth\":0,\"ticks\":\"\"},\"colorscale\":[[0.0,\"#0d0887\"],[0.1111111111111111,\"#46039f\"],[0.2222222222222222,\"#7201a8\"],[0.3333333333333333,\"#9c179e\"],[0.4444444444444444,\"#bd3786\"],[0.5555555555555556,\"#d8576b\"],[0.6666666666666666,\"#ed7953\"],[0.7777777777777778,\"#fb9f3a\"],[0.8888888888888888,\"#fdca26\"],[1.0,\"#f0f921\"]]}],\"heatmapgl\":[{\"type\":\"heatmapgl\",\"colorbar\":{\"outlinewidth\":0,\"ticks\":\"\"},\"colorscale\":[[0.0,\"#0d0887\"],[0.1111111111111111,\"#46039f\"],[0.2222222222222222,\"#7201a8\"],[0.3333333333333333,\"#9c179e\"],[0.4444444444444444,\"#bd3786\"],[0.5555555555555556,\"#d8576b\"],[0.6666666666666666,\"#ed7953\"],[0.7777777777777778,\"#fb9f3a\"],[0.8888888888888888,\"#fdca26\"],[1.0,\"#f0f921\"]]}],\"contourcarpet\":[{\"type\":\"contourcarpet\",\"colorbar\":{\"outlinewidth\":0,\"ticks\":\"\"}}],\"contour\":[{\"type\":\"contour\",\"colorbar\":{\"outlinewidth\":0,\"ticks\":\"\"},\"colorscale\":[[0.0,\"#0d0887\"],[0.1111111111111111,\"#46039f\"],[0.2222222222222222,\"#7201a8\"],[0.3333333333333333,\"#9c179e\"],[0.4444444444444444,\"#bd3786\"],[0.5555555555555556,\"#d8576b\"],[0.6666666666666666,\"#ed7953\"],[0.7777777777777778,\"#fb9f3a\"],[0.8888888888888888,\"#fdca26\"],[1.0,\"#f0f921\"]]}],\"surface\":[{\"type\":\"surface\",\"colorbar\":{\"outlinewidth\":0,\"ticks\":\"\"},\"colorscale\":[[0.0,\"#0d0887\"],[0.1111111111111111,\"#46039f\"],[0.2222222222222222,\"#7201a8\"],[0.3333333333333333,\"#9c179e\"],[0.4444444444444444,\"#bd3786\"],[0.5555555555555556,\"#d8576b\"],[0.6666666666666666,\"#ed7953\"],[0.7777777777777778,\"#fb9f3a\"],[0.8888888888888888,\"#fdca26\"],[1.0,\"#f0f921\"]]}],\"mesh3d\":[{\"type\":\"mesh3d\",\"colorbar\":{\"outlinewidth\":0,\"ticks\":\"\"}}],\"scatter\":[{\"fillpattern\":{\"fillmode\":\"overlay\",\"size\":10,\"solidity\":0.2},\"type\":\"scatter\"}],\"parcoords\":[{\"type\":\"parcoords\",\"line\":{\"colorbar\":{\"outlinewidth\":0,\"ticks\":\"\"}}}],\"scatterpolargl\":[{\"type\":\"scatterpolargl\",\"marker\":{\"colorbar\":{\"outlinewidth\":0,\"ticks\":\"\"}}}],\"bar\":[{\"error_x\":{\"color\":\"#2a3f5f\"},\"error_y\":{\"color\":\"#2a3f5f\"},\"marker\":{\"line\":{\"color\":\"#E5ECF6\",\"width\":0.5},\"pattern\":{\"fillmode\":\"overlay\",\"size\":10,\"solidity\":0.2}},\"type\":\"bar\"}],\"scattergeo\":[{\"type\":\"scattergeo\",\"marker\":{\"colorbar\":{\"outlinewidth\":0,\"ticks\":\"\"}}}],\"scatterpolar\":[{\"type\":\"scatterpolar\",\"marker\":{\"colorbar\":{\"outlinewidth\":0,\"ticks\":\"\"}}}],\"histogram\":[{\"marker\":{\"pattern\":{\"fillmode\":\"overlay\",\"size\":10,\"solidity\":0.2}},\"type\":\"histogram\"}],\"scattergl\":[{\"type\":\"scattergl\",\"marker\":{\"colorbar\":{\"outlinewidth\":0,\"ticks\":\"\"}}}],\"scatter3d\":[{\"type\":\"scatter3d\",\"line\":{\"colorbar\":{\"outlinewidth\":0,\"ticks\":\"\"}},\"marker\":{\"colorbar\":{\"outlinewidth\":0,\"ticks\":\"\"}}}],\"scattermapbox\":[{\"type\":\"scattermapbox\",\"marker\":{\"colorbar\":{\"outlinewidth\":0,\"ticks\":\"\"}}}],\"scatterternary\":[{\"type\":\"scatterternary\",\"marker\":{\"colorbar\":{\"outlinewidth\":0,\"ticks\":\"\"}}}],\"scattercarpet\":[{\"type\":\"scattercarpet\",\"marker\":{\"colorbar\":{\"outlinewidth\":0,\"ticks\":\"\"}}}],\"carpet\":[{\"aaxis\":{\"endlinecolor\":\"#2a3f5f\",\"gridcolor\":\"white\",\"linecolor\":\"white\",\"minorgridcolor\":\"white\",\"startlinecolor\":\"#2a3f5f\"},\"baxis\":{\"endlinecolor\":\"#2a3f5f\",\"gridcolor\":\"white\",\"linecolor\":\"white\",\"minorgridcolor\":\"white\",\"startlinecolor\":\"#2a3f5f\"},\"type\":\"carpet\"}],\"table\":[{\"cells\":{\"fill\":{\"color\":\"#EBF0F8\"},\"line\":{\"color\":\"white\"}},\"header\":{\"fill\":{\"color\":\"#C8D4E3\"},\"line\":{\"color\":\"white\"}},\"type\":\"table\"}],\"barpolar\":[{\"marker\":{\"line\":{\"color\":\"#E5ECF6\",\"width\":0.5},\"pattern\":{\"fillmode\":\"overlay\",\"size\":10,\"solidity\":0.2}},\"type\":\"barpolar\"}],\"pie\":[{\"automargin\":true,\"type\":\"pie\"}]},\"layout\":{\"autotypenumbers\":\"strict\",\"colorway\":[\"#636efa\",\"#EF553B\",\"#00cc96\",\"#ab63fa\",\"#FFA15A\",\"#19d3f3\",\"#FF6692\",\"#B6E880\",\"#FF97FF\",\"#FECB52\"],\"font\":{\"color\":\"#2a3f5f\"},\"hovermode\":\"closest\",\"hoverlabel\":{\"align\":\"left\"},\"paper_bgcolor\":\"white\",\"plot_bgcolor\":\"#E5ECF6\",\"polar\":{\"bgcolor\":\"#E5ECF6\",\"angularaxis\":{\"gridcolor\":\"white\",\"linecolor\":\"white\",\"ticks\":\"\"},\"radialaxis\":{\"gridcolor\":\"white\",\"linecolor\":\"white\",\"ticks\":\"\"}},\"ternary\":{\"bgcolor\":\"#E5ECF6\",\"aaxis\":{\"gridcolor\":\"white\",\"linecolor\":\"white\",\"ticks\":\"\"},\"baxis\":{\"gridcolor\":\"white\",\"linecolor\":\"white\",\"ticks\":\"\"},\"caxis\":{\"gridcolor\":\"white\",\"linecolor\":\"white\",\"ticks\":\"\"}},\"coloraxis\":{\"colorbar\":{\"outlinewidth\":0,\"ticks\":\"\"}},\"colorscale\":{\"sequential\":[[0.0,\"#0d0887\"],[0.1111111111111111,\"#46039f\"],[0.2222222222222222,\"#7201a8\"],[0.3333333333333333,\"#9c179e\"],[0.4444444444444444,\"#bd3786\"],[0.5555555555555556,\"#d8576b\"],[0.6666666666666666,\"#ed7953\"],[0.7777777777777778,\"#fb9f3a\"],[0.8888888888888888,\"#fdca26\"],[1.0,\"#f0f921\"]],\"sequentialminus\":[[0.0,\"#0d0887\"],[0.1111111111111111,\"#46039f\"],[0.2222222222222222,\"#7201a8\"],[0.3333333333333333,\"#9c179e\"],[0.4444444444444444,\"#bd3786\"],[0.5555555555555556,\"#d8576b\"],[0.6666666666666666,\"#ed7953\"],[0.7777777777777778,\"#fb9f3a\"],[0.8888888888888888,\"#fdca26\"],[1.0,\"#f0f921\"]],\"diverging\":[[0,\"#8e0152\"],[0.1,\"#c51b7d\"],[0.2,\"#de77ae\"],[0.3,\"#f1b6da\"],[0.4,\"#fde0ef\"],[0.5,\"#f7f7f7\"],[0.6,\"#e6f5d0\"],[0.7,\"#b8e186\"],[0.8,\"#7fbc41\"],[0.9,\"#4d9221\"],[1,\"#276419\"]]},\"xaxis\":{\"gridcolor\":\"white\",\"linecolor\":\"white\",\"ticks\":\"\",\"title\":{\"standoff\":15},\"zerolinecolor\":\"white\",\"automargin\":true,\"zerolinewidth\":2},\"yaxis\":{\"gridcolor\":\"white\",\"linecolor\":\"white\",\"ticks\":\"\",\"title\":{\"standoff\":15},\"zerolinecolor\":\"white\",\"automargin\":true,\"zerolinewidth\":2},\"scene\":{\"xaxis\":{\"backgroundcolor\":\"#E5ECF6\",\"gridcolor\":\"white\",\"linecolor\":\"white\",\"showbackground\":true,\"ticks\":\"\",\"zerolinecolor\":\"white\",\"gridwidth\":2},\"yaxis\":{\"backgroundcolor\":\"#E5ECF6\",\"gridcolor\":\"white\",\"linecolor\":\"white\",\"showbackground\":true,\"ticks\":\"\",\"zerolinecolor\":\"white\",\"gridwidth\":2},\"zaxis\":{\"backgroundcolor\":\"#E5ECF6\",\"gridcolor\":\"white\",\"linecolor\":\"white\",\"showbackground\":true,\"ticks\":\"\",\"zerolinecolor\":\"white\",\"gridwidth\":2}},\"shapedefaults\":{\"line\":{\"color\":\"#2a3f5f\"}},\"annotationdefaults\":{\"arrowcolor\":\"#2a3f5f\",\"arrowhead\":0,\"arrowwidth\":1},\"geo\":{\"bgcolor\":\"white\",\"landcolor\":\"#E5ECF6\",\"subunitcolor\":\"white\",\"showland\":true,\"showlakes\":true,\"lakecolor\":\"white\"},\"title\":{\"x\":0.05},\"mapbox\":{\"style\":\"light\"}}},\"xaxis\":{\"anchor\":\"y\",\"domain\":[0.0,1.0],\"title\":{\"text\":\"Number of Trading Days Post Purchase\"}},\"yaxis\":{\"anchor\":\"x\",\"domain\":[0.0,1.0],\"title\":{\"text\":\"Average Excess Return\"}},\"legend\":{\"tracegroupgap\":0},\"title\":{\"text\":\"Average Excess Return Over Number of Trading Days\"},\"shapes\":[{\"line\":{\"color\":\"#FFCB05\"},\"type\":\"line\",\"x0\":0,\"x1\":1,\"xref\":\"x domain\",\"y0\":0,\"y1\":0,\"yref\":\"y\"}]},                        {\"responsive\": true}                    ).then(function(){\n",
              "                            \n",
              "var gd = document.getElementById('0d59dcb0-41b4-47b3-9cee-df89903d4eb6');\n",
              "var x = new MutationObserver(function (mutations, observer) {{\n",
              "        var display = window.getComputedStyle(gd).display;\n",
              "        if (!display || display === 'none') {{\n",
              "            console.log([gd, 'removed!']);\n",
              "            Plotly.purge(gd);\n",
              "            observer.disconnect();\n",
              "        }}\n",
              "}});\n",
              "\n",
              "// Listen for the removal of the full notebook cells\n",
              "var notebookContainer = gd.closest('#notebook-container');\n",
              "if (notebookContainer) {{\n",
              "    x.observe(notebookContainer, {childList: true});\n",
              "}}\n",
              "\n",
              "// Listen for the clearing of the current output cell\n",
              "var outputEl = gd.closest('.output');\n",
              "if (outputEl) {{\n",
              "    x.observe(outputEl, {childList: true});\n",
              "}}\n",
              "\n",
              "                        })                };                            </script>        </div>\n",
              "</body>\n",
              "</html>"
            ]
          },
          "metadata": {}
        }
      ]
    },
    {
      "cell_type": "markdown",
      "source": [
        "The chart above shows the difference in return for MSFT stock over the days after a Congress member makes a purchase compared to the return over a \"normal\" time period of the same length. Around 63 day post-trade period, we can see this excess return coming in to effect. This can potentially be seen as a leading indicator that on average MSFT, once a Congress member has purchased MSFT stock, we will see higher returns than average over the 2 mont to 1 year period post-purchase."
      ],
      "metadata": {
        "id": "5Mz7ldRcyvt5"
      }
    },
    {
      "cell_type": "code",
      "source": [
        "msft_df = msft_df.drop(columns = 'Return Over N Days')"
      ],
      "metadata": {
        "id": "WTY_2Lh00UAv"
      },
      "execution_count": 71,
      "outputs": []
    },
    {
      "cell_type": "markdown",
      "metadata": {
        "id": "1cNJ1qv5SV9A"
      },
      "source": [
        "## Ratings"
      ]
    },
    {
      "cell_type": "markdown",
      "source": [
        "Analyst rating of MSFT. Data obtained from Financial Modeling Prep"
      ],
      "metadata": {
        "id": "S3dzylt-1Jv3"
      }
    },
    {
      "cell_type": "code",
      "execution_count": 72,
      "metadata": {
        "id": "HqpNDRnlSbai"
      },
      "outputs": [],
      "source": [
        "ratings = pd.read_csv('msft_ratings.csv').assign(Date=lambda df: pd.to_datetime(df['Date'])).set_index('Date')\n",
        "ratings = ratings.drop(columns = ['ratingRecommendation', 'ratingDetailsDCFRecommendation', 'ratingDetailsROERecommendation', 'ratingDetailsROARecommendation', 'ratingDetailsDERecommendation', 'ratingDetailsPERecommendation', 'ratingDetailsPBRecommendation'])"
      ]
    },
    {
      "cell_type": "code",
      "execution_count": 73,
      "metadata": {
        "id": "yqi3wl29UbE4"
      },
      "outputs": [],
      "source": [
        "ratings = ratings.reindex(msft_df.index).fillna(method='ffill')"
      ]
    },
    {
      "cell_type": "markdown",
      "metadata": {
        "id": "ZhLzqqHcyC8-"
      },
      "source": [
        "## Social Media Sentiment"
      ]
    },
    {
      "cell_type": "markdown",
      "metadata": {
        "id": "asMgYAOzWKeU"
      },
      "source": [
        "counts from Nov 18, 2021 to Jan 21, 2024 <br> Sentiment scores from Feb 20, 2022 to Jan 21, 2024 for StockTwits and Apr 4, 2023 for Twitter\n",
        "\n",
        "Data obtained from Financial Modeling Prep"
      ]
    },
    {
      "cell_type": "code",
      "execution_count": 74,
      "metadata": {
        "id": "Ry5O4XUO1oBH"
      },
      "outputs": [],
      "source": [
        "# this function wa used to fetch social media data from Financial Modeling Prep\n",
        "def fetch_social_media_data(url, api_key):\n",
        "  all_data = []\n",
        "  page = 0\n",
        "  continue_fetching = True\n",
        "\n",
        "  while continue_fetching:\n",
        "    paginated_url = f\"{url}&page={page}\"\n",
        "    response = requests.get(paginated_url.format(api_key=api_key))\n",
        "    data = response.json()\n",
        "\n",
        "    # Convert the current page of data to a DataFrame\n",
        "    df = pd.DataFrame(data)\n",
        "\n",
        "    if not df.empty:\n",
        "      # Check the last value in the 'date' column\n",
        "      last_date = pd.to_datetime(df['date'].iloc[-1])\n",
        "\n",
        "      # If the last date is on or after January 1, 2020, add the data and pull the next page\n",
        "      if last_date >= pd.Timestamp('2020-01-01'):\n",
        "        all_data.append(df)\n",
        "      # If the last date is before December 31, 2023, stop fetching\n",
        "      elif last_date < pd.Timestamp('2020-01-01'):\n",
        "        continue_fetching = False\n",
        "\n",
        "      page += 1\n",
        "    else:\n",
        "      break\n",
        "\n",
        "  # Concatenate all the pages of data into a single DataFrame\n",
        "  if all_data:\n",
        "    social_sentiment = pd.concat(all_data, ignore_index=True)\n",
        "    # Filter the DataFrame for dates\n",
        "    social_sentiment['date'] = pd.to_datetime(social_sentiment['date'])\n",
        "    social_sentiment = social_sentiment[social_sentiment['date'].dt.year > 2019]\n",
        "    return social_sentiment\n",
        "  else:\n",
        "    return pd.DataFrame()"
      ]
    },
    {
      "cell_type": "code",
      "execution_count": 76,
      "metadata": {
        "id": "WiUWayvERxZr"
      },
      "outputs": [],
      "source": [
        "social_sentiment = pd.read_csv('msft_social_sentiment.csv')\n",
        "social_sentiment = pd.DataFrame(social_sentiment)\n",
        "social_sentiment['Date'] = pd.to_datetime(social_sentiment['Date'])\n",
        "social_sentiment['Date'] = social_sentiment['Date'].dt.strftime('%Y-%m-%d')"
      ]
    },
    {
      "cell_type": "code",
      "execution_count": 77,
      "metadata": {
        "id": "VGWJJmUDH8w4"
      },
      "outputs": [],
      "source": [
        "columns_to_convert = ['stocktwitsSentiment', 'twitterSentiment']\n",
        "for col in columns_to_convert:\n",
        "  social_sentiment[col] = pd.to_numeric(social_sentiment[col], errors='coerce')\n",
        "  social_sentiment[col] = social_sentiment[col].fillna(0)\n",
        "\n",
        "aggregations = {\n",
        "    'stocktwitsPosts': 'sum', 'twitterPosts': 'sum',\n",
        "    'stocktwitsComments': 'sum', 'twitterComments': 'sum',\n",
        "    'stocktwitsLikes': 'sum', 'twitterLikes': 'sum',\n",
        "    'stocktwitsImpressions': 'sum', 'twitterImpressions': 'sum',\n",
        "    'stocktwitsSentiment': 'mean', 'twitterSentiment': 'mean'\n",
        "}\n",
        "\n",
        "# Group by 'Date', then apply the aggregation operations\n",
        "social_sentiment = social_sentiment.groupby('Date').agg(aggregations).reset_index()"
      ]
    },
    {
      "cell_type": "code",
      "execution_count": 78,
      "metadata": {
        "id": "8_13c6s9ZSp0"
      },
      "outputs": [],
      "source": [
        "social_sentiment = social_sentiment.set_index('Date')\n",
        "social_sentiment.index = pd.to_datetime(social_sentiment.index)\n",
        "social_sentiment = social_sentiment.reindex(msft_df.index).fillna(value = 0)"
      ]
    },
    {
      "cell_type": "markdown",
      "metadata": {
        "id": "1Zv2_oHKbFJ2"
      },
      "source": [
        "## Reddit"
      ]
    },
    {
      "cell_type": "markdown",
      "metadata": {
        "id": "56xJpeIMB7k4"
      },
      "source": [
        "Reddit data available from March 9, 2022. <br>\n",
        "\n",
        "Data was downloaded from the subreddits r/wallstreetbets and r/stocks for the queries \"MSFT\" and \"Microsoft\" using the following 4 cells repeated 4 times.\n",
        "\n",
        "The Reddit instance created to pull this data was based on the teachings from the Reddit Lab assignment of SIADS 682 Scial Media Analytics:<br>Lang, Erik. \"Reddit API Lab - Create.\" SIADS682 Social Media Analytics, submitted 12 March, 2024, University of Michigan. Unpublished course assignment."
      ]
    },
    {
      "cell_type": "code",
      "execution_count": 81,
      "metadata": {
        "id": "pMprIO9ADsrO"
      },
      "outputs": [],
      "source": [
        "wallstreetbets_msft = pd.read_csv('reddit_wallstreetbets_msft_data.csv')\n",
        "wallstreetbets_msft = pd.DataFrame(wallstreetbets_msft)\n",
        "wallstreetbets_microsoft = pd.read_csv('reddit_wallstreetbets_microsoft_data.csv')\n",
        "wallstreetbets_microsoft = pd.DataFrame(wallstreetbets_microsoft)\n",
        "stocks_msft = pd.read_csv('reddit_stocks_msft_data.csv')\n",
        "stocks_msft = pd.DataFrame(stocks_msft)\n",
        "stocks_microsoft = pd.read_csv('reddit_stocks_microsoft_data.csv')\n",
        "stocks_microsoft = pd.DataFrame(stocks_microsoft)"
      ]
    },
    {
      "cell_type": "code",
      "execution_count": 83,
      "metadata": {
        "id": "nqy15tYAEHbF"
      },
      "outputs": [],
      "source": [
        "reddit = pd.concat([\n",
        "    wallstreetbets_msft[['title', 'text', 'created_utc']],\n",
        "    wallstreetbets_microsoft[['title', 'text', 'created_utc']],\n",
        "    stocks_msft[['title', 'text', 'created_utc']],\n",
        "    stocks_microsoft[['title', 'text', 'created_utc']]\n",
        "], ignore_index=True)"
      ]
    },
    {
      "cell_type": "code",
      "execution_count": 84,
      "metadata": {
        "id": "WpruK6TuGmvj"
      },
      "outputs": [],
      "source": [
        "# Filter out comments\n",
        "reddit =reddit[~reddit['title'].str.startswith('Comment on')].copy()\n",
        "reddit['created_utc'] = pd.to_datetime(reddit['created_utc']).dt.date\n",
        "reddit = reddit.rename(columns={'created_utc': 'Date'})\n",
        "reddit['full_text'] = reddit.apply(lambda row: row['title'] + '. ' + row['text'] if pd.notna(row['text']) else row['title'], axis=1)\n",
        "reddit = reddit.drop(['title','text'], axis=1)\n",
        "\n",
        "reddit = reddit.rename(columns={'full_text': 'Text'})\n",
        "reddit = reddit.sort_values(by='Date', ascending=True)"
      ]
    },
    {
      "cell_type": "code",
      "execution_count": 85,
      "metadata": {
        "id": "hMSOO1dQIJTm"
      },
      "outputs": [],
      "source": [
        "# # Apply the function to the dataframe and create new columns for 'Label' and 'Score'\n",
        "# reddit[['Label', 'Score']] = reddit.apply(get_sentiment, axis=1)\n",
        "\n",
        "reddit_scores = pd.read_csv('reddit_scores.csv')\n",
        "reddit_scores = pd.DataFrame(reddit_scores).drop(columns=['Unnamed: 0'])"
      ]
    },
    {
      "cell_type": "code",
      "execution_count": 86,
      "metadata": {
        "id": "TBd_nwR7KWko"
      },
      "outputs": [],
      "source": [
        "# Calculate a sentiment score that combines the label and the score\n",
        "\n",
        "def combine_label_score(label, score):\n",
        "    if label == 'positive':\n",
        "        return score  # Positive score as is\n",
        "    elif label == 'negative':\n",
        "        return -score  # Negative score as a negative value\n",
        "    else:\n",
        "        return score/10 # Neutral sentiment divide score by 10\n",
        "\n",
        "reddit_scores['redditSentiment'] = reddit_scores.apply(lambda row: combine_label_score(row['Label'], row['Score']), axis=1)\n",
        "reddit_scores = reddit_scores.groupby('Date')['redditSentiment'].mean().reset_index()\n",
        "reddit_scores = reddit_scores.set_index('Date')\n",
        "reddit_scores = reddit_scores.reindex(msft_df.index).fillna(value = 0)"
      ]
    },
    {
      "cell_type": "markdown",
      "metadata": {
        "id": "FJW64sfD35nP"
      },
      "source": [
        "## News Sentiment"
      ]
    },
    {
      "cell_type": "markdown",
      "metadata": {
        "id": "6KfieyMnztPx"
      },
      "source": [
        "News data starting from August 16, 2022.\n",
        "\n",
        "Data obtained from Financial Modeling Prep"
      ]
    },
    {
      "cell_type": "code",
      "execution_count": 87,
      "metadata": {
        "id": "eTwiHqFt-xHC"
      },
      "outputs": [],
      "source": [
        "# function to download news data from Financial Modeling Prep\n",
        "\n",
        "def fetch_news_data(api_key):\n",
        "  all_news_data = []\n",
        "  page = 0\n",
        "\n",
        "  while True:\n",
        "      url = f'https://financialmodelingprep.com/api/v4/stock-news-sentiments-rss-feed?page={page}&apikey={api_key}'\n",
        "      response = requests.get(url)\n",
        "      data = response.json()\n",
        "\n",
        "      if not data:\n",
        "        break  # Stop if there's no data\n",
        "\n",
        "      df = pd.DataFrame(data)\n",
        "\n",
        "      if 'symbol' not in df.columns:\n",
        "        break  # Stop if the expected column is not in the dataframe\n",
        "\n",
        "      msft_news = df[df['symbol'] == 'MSFT']\n",
        "\n",
        "      if not msft_news.empty:\n",
        "        msft_news['publishedDate'] = pd.to_datetime(msft_news['publishedDate'], utc=True)\n",
        "        all_news_data.append(msft_news)\n",
        "\n",
        "      page += 1\n",
        "\n",
        "  if all_news_data:\n",
        "    all_news_data = pd.concat(all_news_data, ignore_index=True)\n",
        "    # Filter for articles after 2019 after all data is collected\n",
        "    all_news_data = all_news_data[(all_news_data['publishedDate'] >= '2020-01-01') &\n",
        "                                  (all_news_data['publishedDate'] < '2024-03-06')]\n",
        "    return all_news_data\n",
        "  else:\n",
        "    return pd.DataFrame()"
      ]
    },
    {
      "cell_type": "code",
      "execution_count": 88,
      "metadata": {
        "id": "VSXi5uYUvk7l"
      },
      "outputs": [],
      "source": [
        "news = (pd.read_csv('msft_news_data.csv')\n",
        "        .drop(columns=['title', 'site', 'text', 'sentiment'])\n",
        "        .rename(columns={'sentimentScore': 'news_sentimentScore'}))\n",
        "\n",
        "news['Date'] = pd.to_datetime(news['Date']).dt.strftime('%Y-%m-%d')\n",
        "\n",
        "news = news.groupby('Date')['news_sentimentScore'].mean().reset_index()\n",
        "news = news.set_index('Date')\n",
        "news.index = pd.to_datetime(news.index)\n",
        "news = news.reindex(msft_df.index).fillna(value = 0)"
      ]
    },
    {
      "cell_type": "markdown",
      "metadata": {
        "id": "juGaYXVLbdMU"
      },
      "source": [
        "## AlphaVantage News"
      ]
    },
    {
      "cell_type": "markdown",
      "source": [
        "More news articles about MSFT from different sources.\n",
        "\n",
        "Data obtained from AlphaVantage using an API key."
      ],
      "metadata": {
        "id": "Fcp9AY-k2wwN"
      }
    },
    {
      "cell_type": "code",
      "execution_count": 90,
      "metadata": {
        "id": "8JB743BLbrJq"
      },
      "outputs": [],
      "source": [
        "relevant_data_all_columns = pd.read_csv('av_news_data.csv')\n",
        "relevant_data_all_columns['ticker_sentiment'] = relevant_data_all_columns['ticker_sentiment'].apply(ast.literal_eval)"
      ]
    },
    {
      "cell_type": "code",
      "execution_count": 91,
      "metadata": {
        "id": "dA8HJKPgcRbH"
      },
      "outputs": [],
      "source": [
        "relevant_data = pd.DataFrame()\n",
        "relevant_data['Date'] = relevant_data_all_columns['time_published']\n",
        "# Trim the contents of the 'Date' column to keep only the first 8 characters\n",
        "relevant_data['Date'] = relevant_data['Date'].str[:8]\n",
        "# Convert 'Date' column to datetime type with the format YYYY-MM-DD\n",
        "relevant_data['Date'] = pd.to_datetime(relevant_data['Date'], format='%Y%m%d')"
      ]
    },
    {
      "cell_type": "code",
      "execution_count": 92,
      "metadata": {
        "id": "lX5SU7cxcy1t"
      },
      "outputs": [],
      "source": [
        "# Initialize an empty list to store the sentiment scores\n",
        "sentiment_scores = []\n",
        "\n",
        "# Iterate over the 'ticker_sentiment' column\n",
        "for sentiment_list in relevant_data_all_columns['ticker_sentiment']:\n",
        "  msft_sentiment_score = None\n",
        "\n",
        "  # Iterate over the list of dictionaries in the 'ticker_sentiment' column\n",
        "  for sentiment_dict in sentiment_list:\n",
        "    # Check if the 'ticker' value starts with 'MSFT'\n",
        "    if 'ticker' in sentiment_dict and sentiment_dict['ticker'].startswith('MSFT'):\n",
        "      # Get the 'ticker_sentiment_score' value from the dictionary\n",
        "      msft_sentiment_score = sentiment_dict.get('ticker_sentiment_score')\n",
        "      break\n",
        "\n",
        "  # Append the sentiment score to the list\n",
        "  sentiment_scores.append(msft_sentiment_score)\n",
        "\n",
        "# Convert list of strings to list of floats using map() function\n",
        "sentiment_scores_float = list(map(float, sentiment_scores))\n",
        "\n",
        "# Add the 'AV Sentiment Score' column to the relevant_data DataFrame\n",
        "relevant_data['AV Sentiment Score'] = sentiment_scores_float"
      ]
    },
    {
      "cell_type": "code",
      "execution_count": 93,
      "metadata": {
        "id": "4RHofOyhc3wX"
      },
      "outputs": [],
      "source": [
        "relevant_data['text'] = relevant_data_all_columns['title'] + '. ' + relevant_data_all_columns['summary']\n",
        "\n",
        "def preprocess_text(text):\n",
        "\n",
        "  return text.lower().strip()\n",
        "\n",
        "relevant_data['text'] = relevant_data['text'].apply(preprocess_text)"
      ]
    },
    {
      "cell_type": "code",
      "execution_count": 54,
      "metadata": {
        "id": "JRPexKY0dSdY"
      },
      "outputs": [],
      "source": [
        "# this cell has a long runtime. The output from this code is in the file converted_scores.csv\n",
        "# # Use the finBERT model to predict sentiment for each text\n",
        "sentiment_results = finbert_sentiment(relevant_data['text'].tolist())\n",
        "\n",
        "# # Extract sentiment labels and scores (adjust based on model output format)\n",
        "relevant_data['sentiment'] = [result['label'] for result in sentiment_results]\n",
        "relevant_data['finBERT sentiment_score'] = [result['score'] for result in sentiment_results]"
      ]
    },
    {
      "cell_type": "code",
      "execution_count": 95,
      "metadata": {
        "id": "0bbHAKvddWD7"
      },
      "outputs": [],
      "source": [
        "converted_scores_with_text = pd.read_csv('converted_scores.csv')\n",
        "# Convert 'Date' column to DateTime\n",
        "converted_scores_with_text['Date'] = pd.to_datetime(converted_scores_with_text['Date'])\n",
        "# Set 'Date' column as index\n",
        "converted_scores_with_text.set_index('Date', inplace=True)\n",
        "converted_scores = converted_scores_with_text.drop(columns=['text','sentiment','finBERT sentiment_score'])\n",
        "converted_scores = converted_scores.rename(columns={'converted_score': 'finbert_news_score'})\n",
        "av_news = converted_scores\n",
        "av_news = av_news.groupby('Date').mean()\n",
        "av_news = av_news.reindex(msft_df.index).fillna(value = 0)"
      ]
    },
    {
      "cell_type": "markdown",
      "metadata": {
        "id": "76_TJbyEhyUm"
      },
      "source": [
        "## Dividends"
      ]
    },
    {
      "cell_type": "markdown",
      "source": [
        "Dividend declarartion and payment data for MSFT.\n",
        "\n",
        "Data obtained from Financial Modeling Prep"
      ],
      "metadata": {
        "id": "uFvrDeVu3WeA"
      }
    },
    {
      "cell_type": "code",
      "execution_count": 55,
      "metadata": {
        "id": "fBn7MZvk5fSQ"
      },
      "outputs": [],
      "source": [
        "df = pd.read_csv('msft_dividends.csv')"
      ]
    },
    {
      "cell_type": "code",
      "execution_count": 56,
      "metadata": {
        "id": "jh-ZkdVe8-iQ"
      },
      "outputs": [],
      "source": [
        "div_payment = (df[['adjDividend', 'paymentDate']]\n",
        "               .rename(columns={'adjDividend': 'Dividend', 'paymentDate': 'Date'})\n",
        "               .assign(Date=lambda x: pd.to_datetime(x['Date']))\n",
        "               .set_index('Date')\n",
        "               .reindex(msft_df.index, fill_value=0))"
      ]
    },
    {
      "cell_type": "code",
      "execution_count": 57,
      "metadata": {
        "id": "9w8d28Hw8NWk"
      },
      "outputs": [],
      "source": [
        "div_declar = (df[['adjDividend', 'declarationDate']]\n",
        "              .drop_duplicates('declarationDate')\n",
        "               .rename(columns={'adjDividend': 'Dividend', 'declarationDate': 'Date'})\n",
        "               .assign(Date=lambda x: pd.to_datetime(x['Date']))\n",
        "               .set_index('Date')\n",
        "               .reindex(msft_df.index, fill_value=0))"
      ]
    },
    {
      "cell_type": "code",
      "source": [
        "fig = go.Figure()\n",
        "fig.add_trace(go.Scatter(x=msft_df.index, y=msft_df['Adj Close'], mode='lines',\n",
        "                         line=dict(color='#00274C'),\n",
        "                         name='Adj Closing Price'))\n",
        "\n",
        "# Dummy trace for dividend declarations legend entry\n",
        "fig.add_trace(go.Scatter(x=[None], y=[None], mode='lines',\n",
        "                         line=dict(color='#FFCB05', width=1),\n",
        "                         name='Dividend Declaration Date'))\n",
        "\n",
        "# Add vertical lines for dividend declaration dates\n",
        "for date in div_declar_filtered.index:\n",
        "    fig.add_vline(x=date, line_width=1, line_color='#FFCB05')\n",
        "\n",
        "# Update layout with titles and axis labels\n",
        "fig.update_layout(\n",
        "    title=\"MSFT Adjusted Closing Price with Dividend Declaration Dates\",\n",
        "    xaxis_title=\"Date\",\n",
        "    yaxis_title=\"Adjusted Close Price ($)\",\n",
        "    xaxis=dict(showgrid=False),\n",
        "    yaxis=dict(showgrid=False),\n",
        ")\n",
        "\n",
        "fig.show()"
      ],
      "metadata": {
        "colab": {
          "base_uri": "https://localhost:8080/",
          "height": 542
        },
        "id": "yoOxegATKZUd",
        "outputId": "1a552b94-13f3-49dc-9654-de0bab8ad74e"
      },
      "execution_count": 60,
      "outputs": [
        {
          "output_type": "display_data",
          "data": {
            "text/html": [
              "<html>\n",
              "<head><meta charset=\"utf-8\" /></head>\n",
              "<body>\n",
              "    <div>            <script src=\"https://cdnjs.cloudflare.com/ajax/libs/mathjax/2.7.5/MathJax.js?config=TeX-AMS-MML_SVG\"></script><script type=\"text/javascript\">if (window.MathJax && window.MathJax.Hub && window.MathJax.Hub.Config) {window.MathJax.Hub.Config({SVG: {font: \"STIX-Web\"}});}</script>                <script type=\"text/javascript\">window.PlotlyConfig = {MathJaxConfig: 'local'};</script>\n",
              "        <script charset=\"utf-8\" src=\"https://cdn.plot.ly/plotly-2.24.1.min.js\"></script>                <div id=\"d3b8f0cc-b2c8-47e3-b2a5-e35cc8a049f3\" class=\"plotly-graph-div\" style=\"height:525px; width:100%;\"></div>            <script type=\"text/javascript\">                                    window.PLOTLYENV=window.PLOTLYENV || {};                                    if (document.getElementById(\"d3b8f0cc-b2c8-47e3-b2a5-e35cc8a049f3\")) {                    Plotly.newPlot(                        \"d3b8f0cc-b2c8-47e3-b2a5-e35cc8a049f3\",                        [{\"line\":{\"color\":\"#00274C\"},\"mode\":\"lines\",\"name\":\"Adj Closing Price\",\"x\":[\"2020-01-02T00:00:00\",\"2020-01-03T00:00:00\",\"2020-01-06T00:00:00\",\"2020-01-07T00:00:00\",\"2020-01-08T00:00:00\",\"2020-01-09T00:00:00\",\"2020-01-10T00:00:00\",\"2020-01-13T00:00:00\",\"2020-01-14T00:00:00\",\"2020-01-15T00:00:00\",\"2020-01-16T00:00:00\",\"2020-01-17T00:00:00\",\"2020-01-21T00:00:00\",\"2020-01-22T00:00:00\",\"2020-01-23T00:00:00\",\"2020-01-24T00:00:00\",\"2020-01-27T00:00:00\",\"2020-01-28T00:00:00\",\"2020-01-29T00:00:00\",\"2020-01-30T00:00:00\",\"2020-01-31T00:00:00\",\"2020-02-03T00:00:00\",\"2020-02-04T00:00:00\",\"2020-02-05T00:00:00\",\"2020-02-06T00:00:00\",\"2020-02-07T00:00:00\",\"2020-02-10T00:00:00\",\"2020-02-11T00:00:00\",\"2020-02-12T00:00:00\",\"2020-02-13T00:00:00\",\"2020-02-14T00:00:00\",\"2020-02-18T00:00:00\",\"2020-02-19T00:00:00\",\"2020-02-20T00:00:00\",\"2020-02-21T00:00:00\",\"2020-02-24T00:00:00\",\"2020-02-25T00:00:00\",\"2020-02-26T00:00:00\",\"2020-02-27T00:00:00\",\"2020-02-28T00:00:00\",\"2020-03-02T00:00:00\",\"2020-03-03T00:00:00\",\"2020-03-04T00:00:00\",\"2020-03-05T00:00:00\",\"2020-03-06T00:00:00\",\"2020-03-09T00:00:00\",\"2020-03-10T00:00:00\",\"2020-03-11T00:00:00\",\"2020-03-12T00:00:00\",\"2020-03-13T00:00:00\",\"2020-03-16T00:00:00\",\"2020-03-17T00:00:00\",\"2020-03-18T00:00:00\",\"2020-03-19T00:00:00\",\"2020-03-20T00:00:00\",\"2020-03-23T00:00:00\",\"2020-03-24T00:00:00\",\"2020-03-25T00:00:00\",\"2020-03-26T00:00:00\",\"2020-03-27T00:00:00\",\"2020-03-30T00:00:00\",\"2020-03-31T00:00:00\",\"2020-04-01T00:00:00\",\"2020-04-02T00:00:00\",\"2020-04-03T00:00:00\",\"2020-04-06T00:00:00\",\"2020-04-07T00:00:00\",\"2020-04-08T00:00:00\",\"2020-04-09T00:00:00\",\"2020-04-13T00:00:00\",\"2020-04-14T00:00:00\",\"2020-04-15T00:00:00\",\"2020-04-16T00:00:00\",\"2020-04-17T00:00:00\",\"2020-04-20T00:00:00\",\"2020-04-21T00:00:00\",\"2020-04-22T00:00:00\",\"2020-04-23T00:00:00\",\"2020-04-24T00:00:00\",\"2020-04-27T00:00:00\",\"2020-04-28T00:00:00\",\"2020-04-29T00:00:00\",\"2020-04-30T00:00:00\",\"2020-05-01T00:00:00\",\"2020-05-04T00:00:00\",\"2020-05-05T00:00:00\",\"2020-05-06T00:00:00\",\"2020-05-07T00:00:00\",\"2020-05-08T00:00:00\",\"2020-05-11T00:00:00\",\"2020-05-12T00:00:00\",\"2020-05-13T00:00:00\",\"2020-05-14T00:00:00\",\"2020-05-15T00:00:00\",\"2020-05-18T00:00:00\",\"2020-05-19T00:00:00\",\"2020-05-20T00:00:00\",\"2020-05-21T00:00:00\",\"2020-05-22T00:00:00\",\"2020-05-26T00:00:00\",\"2020-05-27T00:00:00\",\"2020-05-28T00:00:00\",\"2020-05-29T00:00:00\",\"2020-06-01T00:00:00\",\"2020-06-02T00:00:00\",\"2020-06-03T00:00:00\",\"2020-06-04T00:00:00\",\"2020-06-05T00:00:00\",\"2020-06-08T00:00:00\",\"2020-06-09T00:00:00\",\"2020-06-10T00:00:00\",\"2020-06-11T00:00:00\",\"2020-06-12T00:00:00\",\"2020-06-15T00:00:00\",\"2020-06-16T00:00:00\",\"2020-06-17T00:00:00\",\"2020-06-18T00:00:00\",\"2020-06-19T00:00:00\",\"2020-06-22T00:00:00\",\"2020-06-23T00:00:00\",\"2020-06-24T00:00:00\",\"2020-06-25T00:00:00\",\"2020-06-26T00:00:00\",\"2020-06-29T00:00:00\",\"2020-06-30T00:00:00\",\"2020-07-01T00:00:00\",\"2020-07-02T00:00:00\",\"2020-07-06T00:00:00\",\"2020-07-07T00:00:00\",\"2020-07-08T00:00:00\",\"2020-07-09T00:00:00\",\"2020-07-10T00:00:00\",\"2020-07-13T00:00:00\",\"2020-07-14T00:00:00\",\"2020-07-15T00:00:00\",\"2020-07-16T00:00:00\",\"2020-07-17T00:00:00\",\"2020-07-20T00:00:00\",\"2020-07-21T00:00:00\",\"2020-07-22T00:00:00\",\"2020-07-23T00:00:00\",\"2020-07-24T00:00:00\",\"2020-07-27T00:00:00\",\"2020-07-28T00:00:00\",\"2020-07-29T00:00:00\",\"2020-07-30T00:00:00\",\"2020-07-31T00:00:00\",\"2020-08-03T00:00:00\",\"2020-08-04T00:00:00\",\"2020-08-05T00:00:00\",\"2020-08-06T00:00:00\",\"2020-08-07T00:00:00\",\"2020-08-10T00:00:00\",\"2020-08-11T00:00:00\",\"2020-08-12T00:00:00\",\"2020-08-13T00:00:00\",\"2020-08-14T00:00:00\",\"2020-08-17T00:00:00\",\"2020-08-18T00:00:00\",\"2020-08-19T00:00:00\",\"2020-08-20T00:00:00\",\"2020-08-21T00:00:00\",\"2020-08-24T00:00:00\",\"2020-08-25T00:00:00\",\"2020-08-26T00:00:00\",\"2020-08-27T00:00:00\",\"2020-08-28T00:00:00\",\"2020-08-31T00:00:00\",\"2020-09-01T00:00:00\",\"2020-09-02T00:00:00\",\"2020-09-03T00:00:00\",\"2020-09-04T00:00:00\",\"2020-09-08T00:00:00\",\"2020-09-09T00:00:00\",\"2020-09-10T00:00:00\",\"2020-09-11T00:00:00\",\"2020-09-14T00:00:00\",\"2020-09-15T00:00:00\",\"2020-09-16T00:00:00\",\"2020-09-17T00:00:00\",\"2020-09-18T00:00:00\",\"2020-09-21T00:00:00\",\"2020-09-22T00:00:00\",\"2020-09-23T00:00:00\",\"2020-09-24T00:00:00\",\"2020-09-25T00:00:00\",\"2020-09-28T00:00:00\",\"2020-09-29T00:00:00\",\"2020-09-30T00:00:00\",\"2020-10-01T00:00:00\",\"2020-10-02T00:00:00\",\"2020-10-05T00:00:00\",\"2020-10-06T00:00:00\",\"2020-10-07T00:00:00\",\"2020-10-08T00:00:00\",\"2020-10-09T00:00:00\",\"2020-10-12T00:00:00\",\"2020-10-13T00:00:00\",\"2020-10-14T00:00:00\",\"2020-10-15T00:00:00\",\"2020-10-16T00:00:00\",\"2020-10-19T00:00:00\",\"2020-10-20T00:00:00\",\"2020-10-21T00:00:00\",\"2020-10-22T00:00:00\",\"2020-10-23T00:00:00\",\"2020-10-26T00:00:00\",\"2020-10-27T00:00:00\",\"2020-10-28T00:00:00\",\"2020-10-29T00:00:00\",\"2020-10-30T00:00:00\",\"2020-11-02T00:00:00\",\"2020-11-03T00:00:00\",\"2020-11-04T00:00:00\",\"2020-11-05T00:00:00\",\"2020-11-06T00:00:00\",\"2020-11-09T00:00:00\",\"2020-11-10T00:00:00\",\"2020-11-11T00:00:00\",\"2020-11-12T00:00:00\",\"2020-11-13T00:00:00\",\"2020-11-16T00:00:00\",\"2020-11-17T00:00:00\",\"2020-11-18T00:00:00\",\"2020-11-19T00:00:00\",\"2020-11-20T00:00:00\",\"2020-11-23T00:00:00\",\"2020-11-24T00:00:00\",\"2020-11-25T00:00:00\",\"2020-11-27T00:00:00\",\"2020-11-30T00:00:00\",\"2020-12-01T00:00:00\",\"2020-12-02T00:00:00\",\"2020-12-03T00:00:00\",\"2020-12-04T00:00:00\",\"2020-12-07T00:00:00\",\"2020-12-08T00:00:00\",\"2020-12-09T00:00:00\",\"2020-12-10T00:00:00\",\"2020-12-11T00:00:00\",\"2020-12-14T00:00:00\",\"2020-12-15T00:00:00\",\"2020-12-16T00:00:00\",\"2020-12-17T00:00:00\",\"2020-12-18T00:00:00\",\"2020-12-21T00:00:00\",\"2020-12-22T00:00:00\",\"2020-12-23T00:00:00\",\"2020-12-24T00:00:00\",\"2020-12-28T00:00:00\",\"2020-12-29T00:00:00\",\"2020-12-30T00:00:00\",\"2020-12-31T00:00:00\",\"2021-01-04T00:00:00\",\"2021-01-05T00:00:00\",\"2021-01-06T00:00:00\",\"2021-01-07T00:00:00\",\"2021-01-08T00:00:00\",\"2021-01-11T00:00:00\",\"2021-01-12T00:00:00\",\"2021-01-13T00:00:00\",\"2021-01-14T00:00:00\",\"2021-01-15T00:00:00\",\"2021-01-19T00:00:00\",\"2021-01-20T00:00:00\",\"2021-01-21T00:00:00\",\"2021-01-22T00:00:00\",\"2021-01-25T00:00:00\",\"2021-01-26T00:00:00\",\"2021-01-27T00:00:00\",\"2021-01-28T00:00:00\",\"2021-01-29T00:00:00\",\"2021-02-01T00:00:00\",\"2021-02-02T00:00:00\",\"2021-02-03T00:00:00\",\"2021-02-04T00:00:00\",\"2021-02-05T00:00:00\",\"2021-02-08T00:00:00\",\"2021-02-09T00:00:00\",\"2021-02-10T00:00:00\",\"2021-02-11T00:00:00\",\"2021-02-12T00:00:00\",\"2021-02-16T00:00:00\",\"2021-02-17T00:00:00\",\"2021-02-18T00:00:00\",\"2021-02-19T00:00:00\",\"2021-02-22T00:00:00\",\"2021-02-23T00:00:00\",\"2021-02-24T00:00:00\",\"2021-02-25T00:00:00\",\"2021-02-26T00:00:00\",\"2021-03-01T00:00:00\",\"2021-03-02T00:00:00\",\"2021-03-03T00:00:00\",\"2021-03-04T00:00:00\",\"2021-03-05T00:00:00\",\"2021-03-08T00:00:00\",\"2021-03-09T00:00:00\",\"2021-03-10T00:00:00\",\"2021-03-11T00:00:00\",\"2021-03-12T00:00:00\",\"2021-03-15T00:00:00\",\"2021-03-16T00:00:00\",\"2021-03-17T00:00:00\",\"2021-03-18T00:00:00\",\"2021-03-19T00:00:00\",\"2021-03-22T00:00:00\",\"2021-03-23T00:00:00\",\"2021-03-24T00:00:00\",\"2021-03-25T00:00:00\",\"2021-03-26T00:00:00\",\"2021-03-29T00:00:00\",\"2021-03-30T00:00:00\",\"2021-03-31T00:00:00\",\"2021-04-01T00:00:00\",\"2021-04-05T00:00:00\",\"2021-04-06T00:00:00\",\"2021-04-07T00:00:00\",\"2021-04-08T00:00:00\",\"2021-04-09T00:00:00\",\"2021-04-12T00:00:00\",\"2021-04-13T00:00:00\",\"2021-04-14T00:00:00\",\"2021-04-15T00:00:00\",\"2021-04-16T00:00:00\",\"2021-04-19T00:00:00\",\"2021-04-20T00:00:00\",\"2021-04-21T00:00:00\",\"2021-04-22T00:00:00\",\"2021-04-23T00:00:00\",\"2021-04-26T00:00:00\",\"2021-04-27T00:00:00\",\"2021-04-28T00:00:00\",\"2021-04-29T00:00:00\",\"2021-04-30T00:00:00\",\"2021-05-03T00:00:00\",\"2021-05-04T00:00:00\",\"2021-05-05T00:00:00\",\"2021-05-06T00:00:00\",\"2021-05-07T00:00:00\",\"2021-05-10T00:00:00\",\"2021-05-11T00:00:00\",\"2021-05-12T00:00:00\",\"2021-05-13T00:00:00\",\"2021-05-14T00:00:00\",\"2021-05-17T00:00:00\",\"2021-05-18T00:00:00\",\"2021-05-19T00:00:00\",\"2021-05-20T00:00:00\",\"2021-05-21T00:00:00\",\"2021-05-24T00:00:00\",\"2021-05-25T00:00:00\",\"2021-05-26T00:00:00\",\"2021-05-27T00:00:00\",\"2021-05-28T00:00:00\",\"2021-06-01T00:00:00\",\"2021-06-02T00:00:00\",\"2021-06-03T00:00:00\",\"2021-06-04T00:00:00\",\"2021-06-07T00:00:00\",\"2021-06-08T00:00:00\",\"2021-06-09T00:00:00\",\"2021-06-10T00:00:00\",\"2021-06-11T00:00:00\",\"2021-06-14T00:00:00\",\"2021-06-15T00:00:00\",\"2021-06-16T00:00:00\",\"2021-06-17T00:00:00\",\"2021-06-18T00:00:00\",\"2021-06-21T00:00:00\",\"2021-06-22T00:00:00\",\"2021-06-23T00:00:00\",\"2021-06-24T00:00:00\",\"2021-06-25T00:00:00\",\"2021-06-28T00:00:00\",\"2021-06-29T00:00:00\",\"2021-06-30T00:00:00\",\"2021-07-01T00:00:00\",\"2021-07-02T00:00:00\",\"2021-07-06T00:00:00\",\"2021-07-07T00:00:00\",\"2021-07-08T00:00:00\",\"2021-07-09T00:00:00\",\"2021-07-12T00:00:00\",\"2021-07-13T00:00:00\",\"2021-07-14T00:00:00\",\"2021-07-15T00:00:00\",\"2021-07-16T00:00:00\",\"2021-07-19T00:00:00\",\"2021-07-20T00:00:00\",\"2021-07-21T00:00:00\",\"2021-07-22T00:00:00\",\"2021-07-23T00:00:00\",\"2021-07-26T00:00:00\",\"2021-07-27T00:00:00\",\"2021-07-28T00:00:00\",\"2021-07-29T00:00:00\",\"2021-07-30T00:00:00\",\"2021-08-02T00:00:00\",\"2021-08-03T00:00:00\",\"2021-08-04T00:00:00\",\"2021-08-05T00:00:00\",\"2021-08-06T00:00:00\",\"2021-08-09T00:00:00\",\"2021-08-10T00:00:00\",\"2021-08-11T00:00:00\",\"2021-08-12T00:00:00\",\"2021-08-13T00:00:00\",\"2021-08-16T00:00:00\",\"2021-08-17T00:00:00\",\"2021-08-18T00:00:00\",\"2021-08-19T00:00:00\",\"2021-08-20T00:00:00\",\"2021-08-23T00:00:00\",\"2021-08-24T00:00:00\",\"2021-08-25T00:00:00\",\"2021-08-26T00:00:00\",\"2021-08-27T00:00:00\",\"2021-08-30T00:00:00\",\"2021-08-31T00:00:00\",\"2021-09-01T00:00:00\",\"2021-09-02T00:00:00\",\"2021-09-03T00:00:00\",\"2021-09-07T00:00:00\",\"2021-09-08T00:00:00\",\"2021-09-09T00:00:00\",\"2021-09-10T00:00:00\",\"2021-09-13T00:00:00\",\"2021-09-14T00:00:00\",\"2021-09-15T00:00:00\",\"2021-09-16T00:00:00\",\"2021-09-17T00:00:00\",\"2021-09-20T00:00:00\",\"2021-09-21T00:00:00\",\"2021-09-22T00:00:00\",\"2021-09-23T00:00:00\",\"2021-09-24T00:00:00\",\"2021-09-27T00:00:00\",\"2021-09-28T00:00:00\",\"2021-09-29T00:00:00\",\"2021-09-30T00:00:00\",\"2021-10-01T00:00:00\",\"2021-10-04T00:00:00\",\"2021-10-05T00:00:00\",\"2021-10-06T00:00:00\",\"2021-10-07T00:00:00\",\"2021-10-08T00:00:00\",\"2021-10-11T00:00:00\",\"2021-10-12T00:00:00\",\"2021-10-13T00:00:00\",\"2021-10-14T00:00:00\",\"2021-10-15T00:00:00\",\"2021-10-18T00:00:00\",\"2021-10-19T00:00:00\",\"2021-10-20T00:00:00\",\"2021-10-21T00:00:00\",\"2021-10-22T00:00:00\",\"2021-10-25T00:00:00\",\"2021-10-26T00:00:00\",\"2021-10-27T00:00:00\",\"2021-10-28T00:00:00\",\"2021-10-29T00:00:00\",\"2021-11-01T00:00:00\",\"2021-11-02T00:00:00\",\"2021-11-03T00:00:00\",\"2021-11-04T00:00:00\",\"2021-11-05T00:00:00\",\"2021-11-08T00:00:00\",\"2021-11-09T00:00:00\",\"2021-11-10T00:00:00\",\"2021-11-11T00:00:00\",\"2021-11-12T00:00:00\",\"2021-11-15T00:00:00\",\"2021-11-16T00:00:00\",\"2021-11-17T00:00:00\",\"2021-11-18T00:00:00\",\"2021-11-19T00:00:00\",\"2021-11-22T00:00:00\",\"2021-11-23T00:00:00\",\"2021-11-24T00:00:00\",\"2021-11-26T00:00:00\",\"2021-11-29T00:00:00\",\"2021-11-30T00:00:00\",\"2021-12-01T00:00:00\",\"2021-12-02T00:00:00\",\"2021-12-03T00:00:00\",\"2021-12-06T00:00:00\",\"2021-12-07T00:00:00\",\"2021-12-08T00:00:00\",\"2021-12-09T00:00:00\",\"2021-12-10T00:00:00\",\"2021-12-13T00:00:00\",\"2021-12-14T00:00:00\",\"2021-12-15T00:00:00\",\"2021-12-16T00:00:00\",\"2021-12-17T00:00:00\",\"2021-12-20T00:00:00\",\"2021-12-21T00:00:00\",\"2021-12-22T00:00:00\",\"2021-12-23T00:00:00\",\"2021-12-27T00:00:00\",\"2021-12-28T00:00:00\",\"2021-12-29T00:00:00\",\"2021-12-30T00:00:00\",\"2021-12-31T00:00:00\",\"2022-01-03T00:00:00\",\"2022-01-04T00:00:00\",\"2022-01-05T00:00:00\",\"2022-01-06T00:00:00\",\"2022-01-07T00:00:00\",\"2022-01-10T00:00:00\",\"2022-01-11T00:00:00\",\"2022-01-12T00:00:00\",\"2022-01-13T00:00:00\",\"2022-01-14T00:00:00\",\"2022-01-18T00:00:00\",\"2022-01-19T00:00:00\",\"2022-01-20T00:00:00\",\"2022-01-21T00:00:00\",\"2022-01-24T00:00:00\",\"2022-01-25T00:00:00\",\"2022-01-26T00:00:00\",\"2022-01-27T00:00:00\",\"2022-01-28T00:00:00\",\"2022-01-31T00:00:00\",\"2022-02-01T00:00:00\",\"2022-02-02T00:00:00\",\"2022-02-03T00:00:00\",\"2022-02-04T00:00:00\",\"2022-02-07T00:00:00\",\"2022-02-08T00:00:00\",\"2022-02-09T00:00:00\",\"2022-02-10T00:00:00\",\"2022-02-11T00:00:00\",\"2022-02-14T00:00:00\",\"2022-02-15T00:00:00\",\"2022-02-16T00:00:00\",\"2022-02-17T00:00:00\",\"2022-02-18T00:00:00\",\"2022-02-22T00:00:00\",\"2022-02-23T00:00:00\",\"2022-02-24T00:00:00\",\"2022-02-25T00:00:00\",\"2022-02-28T00:00:00\",\"2022-03-01T00:00:00\",\"2022-03-02T00:00:00\",\"2022-03-03T00:00:00\",\"2022-03-04T00:00:00\",\"2022-03-07T00:00:00\",\"2022-03-08T00:00:00\",\"2022-03-09T00:00:00\",\"2022-03-10T00:00:00\",\"2022-03-11T00:00:00\",\"2022-03-14T00:00:00\",\"2022-03-15T00:00:00\",\"2022-03-16T00:00:00\",\"2022-03-17T00:00:00\",\"2022-03-18T00:00:00\",\"2022-03-21T00:00:00\",\"2022-03-22T00:00:00\",\"2022-03-23T00:00:00\",\"2022-03-24T00:00:00\",\"2022-03-25T00:00:00\",\"2022-03-28T00:00:00\",\"2022-03-29T00:00:00\",\"2022-03-30T00:00:00\",\"2022-03-31T00:00:00\",\"2022-04-01T00:00:00\",\"2022-04-04T00:00:00\",\"2022-04-05T00:00:00\",\"2022-04-06T00:00:00\",\"2022-04-07T00:00:00\",\"2022-04-08T00:00:00\",\"2022-04-11T00:00:00\",\"2022-04-12T00:00:00\",\"2022-04-13T00:00:00\",\"2022-04-14T00:00:00\",\"2022-04-18T00:00:00\",\"2022-04-19T00:00:00\",\"2022-04-20T00:00:00\",\"2022-04-21T00:00:00\",\"2022-04-22T00:00:00\",\"2022-04-25T00:00:00\",\"2022-04-26T00:00:00\",\"2022-04-27T00:00:00\",\"2022-04-28T00:00:00\",\"2022-04-29T00:00:00\",\"2022-05-02T00:00:00\",\"2022-05-03T00:00:00\",\"2022-05-04T00:00:00\",\"2022-05-05T00:00:00\",\"2022-05-06T00:00:00\",\"2022-05-09T00:00:00\",\"2022-05-10T00:00:00\",\"2022-05-11T00:00:00\",\"2022-05-12T00:00:00\",\"2022-05-13T00:00:00\",\"2022-05-16T00:00:00\",\"2022-05-17T00:00:00\",\"2022-05-18T00:00:00\",\"2022-05-19T00:00:00\",\"2022-05-20T00:00:00\",\"2022-05-23T00:00:00\",\"2022-05-24T00:00:00\",\"2022-05-25T00:00:00\",\"2022-05-26T00:00:00\",\"2022-05-27T00:00:00\",\"2022-05-31T00:00:00\",\"2022-06-01T00:00:00\",\"2022-06-02T00:00:00\",\"2022-06-03T00:00:00\",\"2022-06-06T00:00:00\",\"2022-06-07T00:00:00\",\"2022-06-08T00:00:00\",\"2022-06-09T00:00:00\",\"2022-06-10T00:00:00\",\"2022-06-13T00:00:00\",\"2022-06-14T00:00:00\",\"2022-06-15T00:00:00\",\"2022-06-16T00:00:00\",\"2022-06-17T00:00:00\",\"2022-06-21T00:00:00\",\"2022-06-22T00:00:00\",\"2022-06-23T00:00:00\",\"2022-06-24T00:00:00\",\"2022-06-27T00:00:00\",\"2022-06-28T00:00:00\",\"2022-06-29T00:00:00\",\"2022-06-30T00:00:00\",\"2022-07-01T00:00:00\",\"2022-07-05T00:00:00\",\"2022-07-06T00:00:00\",\"2022-07-07T00:00:00\",\"2022-07-08T00:00:00\",\"2022-07-11T00:00:00\",\"2022-07-12T00:00:00\",\"2022-07-13T00:00:00\",\"2022-07-14T00:00:00\",\"2022-07-15T00:00:00\",\"2022-07-18T00:00:00\",\"2022-07-19T00:00:00\",\"2022-07-20T00:00:00\",\"2022-07-21T00:00:00\",\"2022-07-22T00:00:00\",\"2022-07-25T00:00:00\",\"2022-07-26T00:00:00\",\"2022-07-27T00:00:00\",\"2022-07-28T00:00:00\",\"2022-07-29T00:00:00\",\"2022-08-01T00:00:00\",\"2022-08-02T00:00:00\",\"2022-08-03T00:00:00\",\"2022-08-04T00:00:00\",\"2022-08-05T00:00:00\",\"2022-08-08T00:00:00\",\"2022-08-09T00:00:00\",\"2022-08-10T00:00:00\",\"2022-08-11T00:00:00\",\"2022-08-12T00:00:00\",\"2022-08-15T00:00:00\",\"2022-08-16T00:00:00\",\"2022-08-17T00:00:00\",\"2022-08-18T00:00:00\",\"2022-08-19T00:00:00\",\"2022-08-22T00:00:00\",\"2022-08-23T00:00:00\",\"2022-08-24T00:00:00\",\"2022-08-25T00:00:00\",\"2022-08-26T00:00:00\",\"2022-08-29T00:00:00\",\"2022-08-30T00:00:00\",\"2022-08-31T00:00:00\",\"2022-09-01T00:00:00\",\"2022-09-02T00:00:00\",\"2022-09-06T00:00:00\",\"2022-09-07T00:00:00\",\"2022-09-08T00:00:00\",\"2022-09-09T00:00:00\",\"2022-09-12T00:00:00\",\"2022-09-13T00:00:00\",\"2022-09-14T00:00:00\",\"2022-09-15T00:00:00\",\"2022-09-16T00:00:00\",\"2022-09-19T00:00:00\",\"2022-09-20T00:00:00\",\"2022-09-21T00:00:00\",\"2022-09-22T00:00:00\",\"2022-09-23T00:00:00\",\"2022-09-26T00:00:00\",\"2022-09-27T00:00:00\",\"2022-09-28T00:00:00\",\"2022-09-29T00:00:00\",\"2022-09-30T00:00:00\",\"2022-10-03T00:00:00\",\"2022-10-04T00:00:00\",\"2022-10-05T00:00:00\",\"2022-10-06T00:00:00\",\"2022-10-07T00:00:00\",\"2022-10-10T00:00:00\",\"2022-10-11T00:00:00\",\"2022-10-12T00:00:00\",\"2022-10-13T00:00:00\",\"2022-10-14T00:00:00\",\"2022-10-17T00:00:00\",\"2022-10-18T00:00:00\",\"2022-10-19T00:00:00\",\"2022-10-20T00:00:00\",\"2022-10-21T00:00:00\",\"2022-10-24T00:00:00\",\"2022-10-25T00:00:00\",\"2022-10-26T00:00:00\",\"2022-10-27T00:00:00\",\"2022-10-28T00:00:00\",\"2022-10-31T00:00:00\",\"2022-11-01T00:00:00\",\"2022-11-02T00:00:00\",\"2022-11-03T00:00:00\",\"2022-11-04T00:00:00\",\"2022-11-07T00:00:00\",\"2022-11-08T00:00:00\",\"2022-11-09T00:00:00\",\"2022-11-10T00:00:00\",\"2022-11-11T00:00:00\",\"2022-11-14T00:00:00\",\"2022-11-15T00:00:00\",\"2022-11-16T00:00:00\",\"2022-11-17T00:00:00\",\"2022-11-18T00:00:00\",\"2022-11-21T00:00:00\",\"2022-11-22T00:00:00\",\"2022-11-23T00:00:00\",\"2022-11-25T00:00:00\",\"2022-11-28T00:00:00\",\"2022-11-29T00:00:00\",\"2022-11-30T00:00:00\",\"2022-12-01T00:00:00\",\"2022-12-02T00:00:00\",\"2022-12-05T00:00:00\",\"2022-12-06T00:00:00\",\"2022-12-07T00:00:00\",\"2022-12-08T00:00:00\",\"2022-12-09T00:00:00\",\"2022-12-12T00:00:00\",\"2022-12-13T00:00:00\",\"2022-12-14T00:00:00\",\"2022-12-15T00:00:00\",\"2022-12-16T00:00:00\",\"2022-12-19T00:00:00\",\"2022-12-20T00:00:00\",\"2022-12-21T00:00:00\",\"2022-12-22T00:00:00\",\"2022-12-23T00:00:00\",\"2022-12-27T00:00:00\",\"2022-12-28T00:00:00\",\"2022-12-29T00:00:00\",\"2022-12-30T00:00:00\",\"2023-01-03T00:00:00\",\"2023-01-04T00:00:00\",\"2023-01-05T00:00:00\",\"2023-01-06T00:00:00\",\"2023-01-09T00:00:00\",\"2023-01-10T00:00:00\",\"2023-01-11T00:00:00\",\"2023-01-12T00:00:00\",\"2023-01-13T00:00:00\",\"2023-01-17T00:00:00\",\"2023-01-18T00:00:00\",\"2023-01-19T00:00:00\",\"2023-01-20T00:00:00\",\"2023-01-23T00:00:00\",\"2023-01-24T00:00:00\",\"2023-01-25T00:00:00\",\"2023-01-26T00:00:00\",\"2023-01-27T00:00:00\",\"2023-01-30T00:00:00\",\"2023-01-31T00:00:00\",\"2023-02-01T00:00:00\",\"2023-02-02T00:00:00\",\"2023-02-03T00:00:00\",\"2023-02-06T00:00:00\",\"2023-02-07T00:00:00\",\"2023-02-08T00:00:00\",\"2023-02-09T00:00:00\",\"2023-02-10T00:00:00\",\"2023-02-13T00:00:00\",\"2023-02-14T00:00:00\",\"2023-02-15T00:00:00\",\"2023-02-16T00:00:00\",\"2023-02-17T00:00:00\",\"2023-02-21T00:00:00\",\"2023-02-22T00:00:00\",\"2023-02-23T00:00:00\",\"2023-02-24T00:00:00\",\"2023-02-27T00:00:00\",\"2023-02-28T00:00:00\",\"2023-03-01T00:00:00\",\"2023-03-02T00:00:00\",\"2023-03-03T00:00:00\",\"2023-03-06T00:00:00\",\"2023-03-07T00:00:00\",\"2023-03-08T00:00:00\",\"2023-03-09T00:00:00\",\"2023-03-10T00:00:00\",\"2023-03-13T00:00:00\",\"2023-03-14T00:00:00\",\"2023-03-15T00:00:00\",\"2023-03-16T00:00:00\",\"2023-03-17T00:00:00\",\"2023-03-20T00:00:00\",\"2023-03-21T00:00:00\",\"2023-03-22T00:00:00\",\"2023-03-23T00:00:00\",\"2023-03-24T00:00:00\",\"2023-03-27T00:00:00\",\"2023-03-28T00:00:00\",\"2023-03-29T00:00:00\",\"2023-03-30T00:00:00\",\"2023-03-31T00:00:00\",\"2023-04-03T00:00:00\",\"2023-04-04T00:00:00\",\"2023-04-05T00:00:00\",\"2023-04-06T00:00:00\",\"2023-04-10T00:00:00\",\"2023-04-11T00:00:00\",\"2023-04-12T00:00:00\",\"2023-04-13T00:00:00\",\"2023-04-14T00:00:00\",\"2023-04-17T00:00:00\",\"2023-04-18T00:00:00\",\"2023-04-19T00:00:00\",\"2023-04-20T00:00:00\",\"2023-04-21T00:00:00\",\"2023-04-24T00:00:00\",\"2023-04-25T00:00:00\",\"2023-04-26T00:00:00\",\"2023-04-27T00:00:00\",\"2023-04-28T00:00:00\",\"2023-05-01T00:00:00\",\"2023-05-02T00:00:00\",\"2023-05-03T00:00:00\",\"2023-05-04T00:00:00\",\"2023-05-05T00:00:00\",\"2023-05-08T00:00:00\",\"2023-05-09T00:00:00\",\"2023-05-10T00:00:00\",\"2023-05-11T00:00:00\",\"2023-05-12T00:00:00\",\"2023-05-15T00:00:00\",\"2023-05-16T00:00:00\",\"2023-05-17T00:00:00\",\"2023-05-18T00:00:00\",\"2023-05-19T00:00:00\",\"2023-05-22T00:00:00\",\"2023-05-23T00:00:00\",\"2023-05-24T00:00:00\",\"2023-05-25T00:00:00\",\"2023-05-26T00:00:00\",\"2023-05-30T00:00:00\",\"2023-05-31T00:00:00\",\"2023-06-01T00:00:00\",\"2023-06-02T00:00:00\",\"2023-06-05T00:00:00\",\"2023-06-06T00:00:00\",\"2023-06-07T00:00:00\",\"2023-06-08T00:00:00\",\"2023-06-09T00:00:00\",\"2023-06-12T00:00:00\",\"2023-06-13T00:00:00\",\"2023-06-14T00:00:00\",\"2023-06-15T00:00:00\",\"2023-06-16T00:00:00\",\"2023-06-20T00:00:00\",\"2023-06-21T00:00:00\",\"2023-06-22T00:00:00\",\"2023-06-23T00:00:00\",\"2023-06-26T00:00:00\",\"2023-06-27T00:00:00\",\"2023-06-28T00:00:00\",\"2023-06-29T00:00:00\",\"2023-06-30T00:00:00\",\"2023-07-03T00:00:00\",\"2023-07-05T00:00:00\",\"2023-07-06T00:00:00\",\"2023-07-07T00:00:00\",\"2023-07-10T00:00:00\",\"2023-07-11T00:00:00\",\"2023-07-12T00:00:00\",\"2023-07-13T00:00:00\",\"2023-07-14T00:00:00\",\"2023-07-17T00:00:00\",\"2023-07-18T00:00:00\",\"2023-07-19T00:00:00\",\"2023-07-20T00:00:00\",\"2023-07-21T00:00:00\",\"2023-07-24T00:00:00\",\"2023-07-25T00:00:00\",\"2023-07-26T00:00:00\",\"2023-07-27T00:00:00\",\"2023-07-28T00:00:00\",\"2023-07-31T00:00:00\",\"2023-08-01T00:00:00\",\"2023-08-02T00:00:00\",\"2023-08-03T00:00:00\",\"2023-08-04T00:00:00\",\"2023-08-07T00:00:00\",\"2023-08-08T00:00:00\",\"2023-08-09T00:00:00\",\"2023-08-10T00:00:00\",\"2023-08-11T00:00:00\",\"2023-08-14T00:00:00\",\"2023-08-15T00:00:00\",\"2023-08-16T00:00:00\",\"2023-08-17T00:00:00\",\"2023-08-18T00:00:00\",\"2023-08-21T00:00:00\",\"2023-08-22T00:00:00\",\"2023-08-23T00:00:00\",\"2023-08-24T00:00:00\",\"2023-08-25T00:00:00\",\"2023-08-28T00:00:00\",\"2023-08-29T00:00:00\",\"2023-08-30T00:00:00\",\"2023-08-31T00:00:00\",\"2023-09-01T00:00:00\",\"2023-09-05T00:00:00\",\"2023-09-06T00:00:00\",\"2023-09-07T00:00:00\",\"2023-09-08T00:00:00\",\"2023-09-11T00:00:00\",\"2023-09-12T00:00:00\",\"2023-09-13T00:00:00\",\"2023-09-14T00:00:00\",\"2023-09-15T00:00:00\",\"2023-09-18T00:00:00\",\"2023-09-19T00:00:00\",\"2023-09-20T00:00:00\",\"2023-09-21T00:00:00\",\"2023-09-22T00:00:00\",\"2023-09-25T00:00:00\",\"2023-09-26T00:00:00\",\"2023-09-27T00:00:00\",\"2023-09-28T00:00:00\",\"2023-09-29T00:00:00\",\"2023-10-02T00:00:00\",\"2023-10-03T00:00:00\",\"2023-10-04T00:00:00\",\"2023-10-05T00:00:00\",\"2023-10-06T00:00:00\",\"2023-10-09T00:00:00\",\"2023-10-10T00:00:00\",\"2023-10-11T00:00:00\",\"2023-10-12T00:00:00\",\"2023-10-13T00:00:00\",\"2023-10-16T00:00:00\",\"2023-10-17T00:00:00\",\"2023-10-18T00:00:00\",\"2023-10-19T00:00:00\",\"2023-10-20T00:00:00\",\"2023-10-23T00:00:00\",\"2023-10-24T00:00:00\",\"2023-10-25T00:00:00\",\"2023-10-26T00:00:00\",\"2023-10-27T00:00:00\",\"2023-10-30T00:00:00\",\"2023-10-31T00:00:00\",\"2023-11-01T00:00:00\",\"2023-11-02T00:00:00\",\"2023-11-03T00:00:00\",\"2023-11-06T00:00:00\",\"2023-11-07T00:00:00\",\"2023-11-08T00:00:00\",\"2023-11-09T00:00:00\",\"2023-11-10T00:00:00\",\"2023-11-13T00:00:00\",\"2023-11-14T00:00:00\",\"2023-11-15T00:00:00\",\"2023-11-16T00:00:00\",\"2023-11-17T00:00:00\",\"2023-11-20T00:00:00\",\"2023-11-21T00:00:00\",\"2023-11-22T00:00:00\",\"2023-11-24T00:00:00\",\"2023-11-27T00:00:00\",\"2023-11-28T00:00:00\",\"2023-11-29T00:00:00\",\"2023-11-30T00:00:00\",\"2023-12-01T00:00:00\",\"2023-12-04T00:00:00\",\"2023-12-05T00:00:00\",\"2023-12-06T00:00:00\",\"2023-12-07T00:00:00\",\"2023-12-08T00:00:00\",\"2023-12-11T00:00:00\",\"2023-12-12T00:00:00\",\"2023-12-13T00:00:00\",\"2023-12-14T00:00:00\",\"2023-12-15T00:00:00\",\"2023-12-18T00:00:00\",\"2023-12-19T00:00:00\",\"2023-12-20T00:00:00\",\"2023-12-21T00:00:00\",\"2023-12-22T00:00:00\",\"2023-12-26T00:00:00\",\"2023-12-27T00:00:00\",\"2023-12-28T00:00:00\",\"2023-12-29T00:00:00\",\"2024-01-02T00:00:00\",\"2024-01-03T00:00:00\",\"2024-01-04T00:00:00\",\"2024-01-05T00:00:00\",\"2024-01-08T00:00:00\",\"2024-01-09T00:00:00\",\"2024-01-10T00:00:00\",\"2024-01-11T00:00:00\",\"2024-01-12T00:00:00\",\"2024-01-16T00:00:00\",\"2024-01-17T00:00:00\",\"2024-01-18T00:00:00\",\"2024-01-19T00:00:00\",\"2024-01-22T00:00:00\",\"2024-01-23T00:00:00\",\"2024-01-24T00:00:00\",\"2024-01-25T00:00:00\",\"2024-01-26T00:00:00\",\"2024-01-29T00:00:00\",\"2024-01-30T00:00:00\",\"2024-01-31T00:00:00\",\"2024-02-01T00:00:00\",\"2024-02-02T00:00:00\",\"2024-02-05T00:00:00\",\"2024-02-06T00:00:00\",\"2024-02-07T00:00:00\",\"2024-02-08T00:00:00\",\"2024-02-09T00:00:00\",\"2024-02-12T00:00:00\",\"2024-02-13T00:00:00\",\"2024-02-14T00:00:00\",\"2024-02-15T00:00:00\",\"2024-02-16T00:00:00\",\"2024-02-20T00:00:00\",\"2024-02-21T00:00:00\",\"2024-02-22T00:00:00\",\"2024-02-23T00:00:00\",\"2024-02-26T00:00:00\",\"2024-02-27T00:00:00\",\"2024-02-28T00:00:00\",\"2024-02-29T00:00:00\",\"2024-03-01T00:00:00\",\"2024-03-04T00:00:00\",\"2024-03-05T00:00:00\"],\"y\":[154.4938201904297,152.57012939453125,152.96446228027344,151.56979370117188,153.98403930664062,155.90777587890625,155.1863555908203,157.0523681640625,155.94625854492188,156.95616149902344,159.83213806152344,160.7266845703125,160.1495361328125,159.38003540039062,160.36119079589844,158.7451934814453,156.09051513671875,159.1492462158203,161.63079833984375,166.19003295898438,163.73733520507812,167.72903442382812,173.2500457763672,173.0384521484375,176.62619018554688,176.8762969970703,181.5028533935547,177.40530395507812,177.66505432128906,176.70315551757812,178.28060913085938,180.0889129638672,180.6290283203125,177.87057495117188,172.24765014648438,164.82110595703125,162.10121154785156,164.1266326904297,152.56246948242188,156.2564697265625,166.65357971191406,158.6676483154297,164.49314880371094,160.36517333984375,155.8320770263672,145.2709197998047,155.20513916015625,148.17408752441406,134.12144470214844,153.18942260742188,130.61074829101562,141.3647918701172,135.4138641357422,137.64187622070312,132.4722137451172,131.15087890625,143.07192993164062,141.70236206054688,150.56597900390625,144.3836212158203,154.5396728515625,152.10914611816406,146.70803833007812,149.7461700439453,148.36692810058594,159.40069580078125,157.68389892578125,159.26564025878906,159.27525329589844,159.6321258544922,167.53131103515625,165.77590942382812,170.75265502929688,172.25729370117188,168.84300231933594,161.86012268066406,167.35765075683594,165.33229064941406,168.35110473632812,167.8688507080078,163.7794189453125,171.12879943847656,172.8456268310547,168.3704071044922,172.48876953125,174.34056091308594,176.05735778808594,177.0797119140625,178.121337890625,180.1082000732422,176.0284423828125,173.36647033691406,174.1187286376953,176.65533447265625,178.3432159423828,177.10861206054688,179.56527709960938,177.408447265625,177.48582458496094,175.60952758789062,175.84164428710938,175.44509887695312,177.23439025878906,176.82818603515625,178.8398895263672,179.27511596679688,176.91519165039062,181.0547332763672,182.17665100097656,183.56939697265625,190.37826538085938,180.15525817871094,181.57699584960938,182.73757934570312,187.21559143066406,187.8636016845703,189.8753204345703,188.7437744140625,193.98583984375,195.28182983398438,191.34542846679688,193.76336669921875,189.88499450683594,191.92575073242188,196.82931518554688,197.98019409179688,199.489013671875,203.78326416015625,201.41368103027344,205.84336853027344,207.2844696044922,206.65576171875,200.2724609375,201.5104217529297,201.21058654785156,197.225830078125,196.21998596191406,204.65371704101562,201.89730834960938,204.79876708984375,195.89112854003906,194.69183349609375,197.15817260742188,195.3882293701172,197.36123657226562,197.2064971923828,198.28004455566406,209.4315643310547,206.2882537841797,205.94972229003906,209.247802734375,205.50482177734375,201.41368103027344,196.70358276367188,202.32286071777344,201.8489227294922,202.04237365722656,203.37704467773438,204.54733276367188,203.3063507080078,208.03758239746094,206.52513122558594,207.17471313476562,209.8699493408203,214.4072723388672,219.67172241210938,221.93064880371094,218.65371704101562,220.34066772460938,224.5871124267578,210.67466735839844,207.7176055908203,196.48098754882812,204.84788513183594,199.10838317871094,197.80923461914062,199.14715576171875,202.41439819335938,198.7981414794922,196.72340393066406,194.28021240234375,196.3646697998047,201.0958709716797,194.47410583496094,196.99484252929688,201.48365783691406,203.05430603027344,200.9407501220703,203.91717529296875,205.9822235107422,199.90338134765625,203.9656524658203,199.63194274902344,203.43238830566406,204.1595458984375,209.2301025390625,214.64967346191406,216.06512451171875,214.1260986328125,212.9627227783203,212.9627227783203,207.6885528564453,208.10543823242188,208.2508544921875,208.33811950683594,209.63722229003906,203.6747589111328,206.74813842773438,196.50038146972656,198.4781951904297,196.2967987060547,196.1610565185547,200.13604736328125,209.79237365722656,216.4820098876953,216.89891052246094,211.73138427734375,204.576416015625,209.94749450683594,208.87136840820312,209.90870666503906,210.6067657470703,207.92124938964844,205.18006896972656,206.48260498046875,204.5093536376953,204.2371826171875,207.8823699951172,207.8920440673828,209.2140655517578,208.0865020751953,210.16668701171875,209.35012817382812,208.25177001953125,208.36837768554688,208.30032348632812,209.9722900390625,205.87994384765625,204.63571166992188,207.2991180419922,208.2128448486328,208.1448211669922,213.15087890625,213.2869415283203,212.4801483154297,216.3683319091797,217.6806182861328,214.8422393798828,216.5238800048828,218.67208862304688,217.88473510742188,215.4838104248047,216.2030792236328,211.6053009033203,211.80941772460938,206.3173370361328,212.18853759765625,213.4813690185547,211.410888671875,208.92245483398438,210.29302978515625,207.0658416748047,206.7061767578125,210.3902587890625,218.0694122314453,218.68182373046875,219.63441467285156,223.11434936523438,225.83612060546875,226.39016723632812,232.25161743164062,225.47642517089844,232.9514923095703,232.8154296875,236.2078857421875,235.24551391601562,235.43019104003906,235.69265747070312,236.95631408691406,236.03292846679688,237.65621948242188,238.1422119140625,236.88829040527344,237.92103576660156,237.5215606689453,234.77407836914062,228.4801788330078,227.27207946777344,228.5191650390625,223.1021270751953,226.40496826171875,230.84771728515625,227.85662841796875,221.7089080810547,220.9002227783203,225.64501953125,221.54324340820312,227.76898193359375,226.44390869140625,231.03280639648438,229.68829345703125,228.77249145507812,231.59791564941406,230.94512939453125,224.78765869140625,224.42715454101562,229.92213439941406,231.47125244140625,229.40579223632812,226.36598205566406,230.39952087402344,229.19142150878906,225.8885955810547,229.70777893066406,236.1186065673828,242.66580200195312,241.48692321777344,243.47442626953125,246.7383575439453,249.271484375,249.32994079589844,251.84361267089844,249.0181884765625,252.82762145996094,254.03570556640625,252.08717346191406,251.61952209472656,253.87985229492188,250.55755615234375,254.43524169921875,254.8249053955078,255.234130859375,248.01463317871094,246.01736450195312,245.69583129882812,245.3840789794922,241.41873168945312,240.1326446533203,243.30882263183594,245.96864318847656,240.8243865966797,239.89886474609375,232.85472106933594,236.78111267089844,241.7694549560547,238.87582397460938,236.829833984375,237.41574096679688,240.6968994140625,239.4176483154297,244.8960418701172,245.81396484375,245.58938598632812,243.46051025390625,243.82183837890625,241.59536743164062,241.49769592285156,239.94496154785156,244.90576171875,247.85494995117188,246.64401245117188,247.6400909423828,251.20445251464844,251.83920288085938,253.7922821044922,252.2982177734375,251.34117126464844,254.77857971191406,253.34310913085938,256.468017578125,259.2804260253906,259.0460510253906,260.4327087402344,258.8018798828125,262.4151306152344,265.0321960449219,264.5439758300781,265.2275390625,271.1355285644531,271.1454162597656,273.3620910644531,270.9110107421875,271.4187927246094,270.8133239746094,274.387451171875,275.881591796875,274.436279296875,274.162841796875,270.5106201171875,272.7663879394531,274.797607421875,279.4264221191406,282.8735656738281,282.2680969238281,279.8170166015625,279.5045166015625,279.7779235839844,278.22528076171875,278.1373596191406,280.3834228515625,279.7877197265625,282.7270202636719,282.66851806640625,281.56500244140625,279.7193603515625,280.21734619140625,283.0102233886719,285.97900390625,287.6878662109375,286.2034912109375,284.45220947265625,290.36175537109375,297.78790283203125,298.0716247558594,296.08544921875,295.4886474609375,292.63165283203125,293.2480773925781,297.0345458984375,295.3614501953125,295.3125305175781,294.6471862792969,294.6374206542969,293.6981201171875,293.72747802734375,290.8314514160156,289.32464599609375,290.5770263671875,293.31658935546875,298.2379455566406,298.62933349609375,293.3948669433594,287.945068359375,288.4342956542969,292.1326599121094,293.09149169921875,292.88604736328125,287.81793212890625,277.39788818359375,277.8675537109375,275.83245849609375,282.85736083984375,276.9967041015625,282.5247802734375,286.78076171875,288.4832458496094,288.4832458496094,287.8766784667969,286.55584716796875,289.9117431640625,296.212646484375,297.64111328125,300.6546630859375,301.5743408203125,300.7720642089844,304.0496520996094,302.4842224121094,301.47650146484375,303.4137268066406,316.19171142578125,317.34625244140625,324.45928955078125,322.2579040527344,325.9366455078125,326.787841796875,329.1752014160156,328.8033752441406,329.7132873535156,328.6958312988281,323.656982421875,325.25177001953125,329.4491271972656,328.8132019042969,332.17889404296875,332.40435791015625,334.5118103027344,336.3153381347656,333.1002502441406,330.9928283691406,331.2183532714844,323.1512756347656,329.96368408203125,324.04327392578125,323.5434265136719,322.96502685546875,316.61334228515625,319.73040771484375,328.28753662109375,328.3365478515625,326.50360107421875,335.7566833496094,332.6788024902344,321.8377990722656,328.02288818359375,318.4659118652344,317.3877258300781,313.5747985839844,320.8086242675781,326.6015930175781,328.0621032714844,335.66839599609375,334.4921569824219,335.1783142089844,332.60040283203125,329.6597900390625,328.1209411621094,322.49456787109375,310.1146545410156,307.6641845703125,307.82098388671875,308.0464782714844,308.7424011230469,311.9672546386719,298.76397705078125,304.05706787109375,296.65655517578125,297.3231201171875,295.62738037109375,290.1676025390625,290.5008850097656,282.7769470214844,290.834228515625,293.9022216796875,302.1554870605469,304.8216552734375,302.6455993652344,307.25250244140625,295.2843017578125,299.8814697265625,294.990234375,298.52874755859375,305.0470275878906,296.3919677734375,289.197265625,289.1580810546875,294.51971435546875,294.1759338378906,285.56182861328125,282.8116149902344,282.6053466796875,275.28778076171875,289.3532409667969,292.02490234375,293.4785461425781,289.7068176269531,294.85369873046875,290.6596374511719,284.7073669433594,273.9519958496094,270.9463806152344,283.3714904785156,280.51324462890625,275.09136962890625,271.5259094238281,282.0455017089844,289.1568298339844,289.9720153808594,295.0894470214844,293.84197998046875,298.6549377441406,294.1661376953125,298.6942443847656,298.2817077636719,305.1768493652344,309.8031005859375,308.2806701660156,302.8293762207031,303.9195861816406,309.3709716796875,305.35369873046875,294.1759338378906,296.0127258300781,291.69091796875,280.1890563964844,277.04595947265625,282.5071105957031,274.8555908203125,275.5333557128906,280.2283630371094,281.26953125,275.8182067871094,269.15869140625,275.7298278808594,265.4164733886719,278.18536376953125,284.48138427734375,272.586669921875,279.41314697265625,276.77093505859375,284.8251647949219,272.4197082519531,269.8462829589844,259.8766784667969,264.709228515625,255.91836547851562,250.810791015625,256.4782409667969,256.8514709472656,262.076904296875,250.14463806152344,249.21917724609375,248.64817810058594,256.6128845214844,255.59877014160156,258.4538879394531,261.78155517578125,269.0078430175781,267.6590576171875,268.2005920410156,270.32708740234375,265.83770751953125,264.58740234375,268.279296875,266.2217102050781,260.6887512207031,249.07151794433594,238.5076904296875,240.7031707763672,247.86058044433594,241.17572021484375,243.814208984375,249.8098907470703,249.20933532714844,254.85057067871094,263.5537414550781,260.7872009277344,252.50746154785156,256.22894287109375,252.8520050048828,255.55943298339844,258.77880859375,262.08673095703125,264.2428283691406,263.5143127441406,260.4130859375,249.740966796875,248.80569458007812,250.14463806152344,252.74375915527344,250.31199645996094,255.51022338867188,258.2077331542969,260.73797607421875,256.327392578125,254.821044921875,247.9983673095703,264.57757568359375,272.1287841796875,276.39166259765625,273.7039794921875,270.56341552734375,278.09490966796875,279.2566223144531,278.528076171875,275.97821044921875,277.92755126953125,284.6813049316406,282.574462890625,287.388671875,288.9245300292969,288.17626953125,287.4166259765625,286.28204345703125,282.3158874511719,274.0284423828125,272.7359924316406,272.0947265625,275.11370849609375,264.49786376953125,261.6761779785156,259.4464416503906,257.966552734375,256.910888671875,252.62905883789062,249.85670471191406,254.63185119628906,255.0560760498047,260.91650390625,263.0771789550781,248.61358642578125,248.8404998779297,242.0921630859375,241.46075439453125,241.24366760253906,239.201416015625,235.74830627441406,237.7510986328125,234.7321014404297,234.2683868408203,233.24234008789062,237.8399200439453,234.31773376464844,229.77938842773438,237.5143280029297,245.54527282714844,245.8609619140625,243.48324584960938,231.1014404296875,226.1782684326172,222.38973999023438,222.7251739501953,231.1014404296875,225.49752807617188,234.34735107421875,235.30435180664062,233.3114013671875,232.98582458496094,238.8758544921875,243.93710327148438,247.30140686035156,228.22055053710938,223.71180725097656,232.70957946777344,229.0196990966797,225.11273193359375,217.15087890625,211.37925720214844,218.423583984375,224.81675720214844,225.80337524414062,221.5017852783203,239.7243194580078,243.79896545410156,238.3134765625,238.72784423828125,239.1631622314453,239.1136932373047,238.6585693359375,239.47976684570312,242.42811584472656,244.9510498046875,244.86203002929688,239.1928253173828,237.7780303955078,252.43077087402344,251.9855499267578,252.31204223632812,247.54322814941406,242.5171661376953,241.775146484375,244.77296447753906,242.81396484375,249.82867431640625,254.19187927246094,254.48870849609375,246.36585998535156,242.0917510986328,237.8967742919922,239.232421875,241.83448791503906,235.66075134277344,236.19500732421875,234.44381713867188,232.0396270751953,238.4508056640625,237.27346801757812,237.0360107421875,226.66729736328125,219.9493865966797,222.5415496826172,224.7082977294922,226.41993713378906,233.26644897460938,235.9773712158203,236.68971252441406,237.79782104492188,233.30601501464844,229.46722412109375,237.669189453125,240.004150390625,239.46987915039062,238.0550537109375,245.3665771484375,245.52490234375,240.13275146484375,245.1785888671875,250.06614685058594,261.79034423828125,255.60671997070312,254.04344177246094,264.7188720703125,263.897705078125,260.82073974609375,260.3062438964844,268.43896484375,269.27996826171875,267.12762451171875,260.0159606933594,255.95928955078125,250.61314392089844,249.46258544921875,252.696044921875,247.1912384033203,248.1235809326172,247.3896026611328,244.26524353027344,249.0658416748047,253.21180725097656,254.77896118164062,252.08108520507812,251.63475036621094,250.2659912109375,246.56637573242188,251.85296630859375,258.66705322265625,263.2792053222656,273.95159912109375,277.1553039550781,270.013916015625,271.55126953125,270.07342529296875,275.3996887207031,278.2860412597656,274.130126953125,272.989501953125,278.2265319824219,281.7376708984375,285.95306396484375,284.8918151855469,284.84222412109375,282.02532958984375,289.22625732421875,287.03424072265625,280.5276184082031,281.1822509765625,287.4805603027344,283.81072998046875,286.4490051269531,286.0224914550781,286.1018981933594,283.7809143066406,283.43377685546875,279.4762268066406,273.1779479980469,292.9655456542969,302.3485412597656,304.75872802734375,303.0726013183594,302.923828125,301.9220275878906,302.923828125,308.1211242675781,306.137451171875,304.5008544921875,309.7676086425781,307.5855407714844,306.454833984375,306.9408264160156,309.2023010253906,312.1247253417969,316.6177062988281,316.4388122558594,319.2618408203125,313.3772277832031,311.9756164550781,323.9735412597656,330.9019470214844,329.2319641113281,326.4288024902344,330.59375,333.3968811035156,333.9337158203125,331.68719482421875,321.4486999511719,323.3175048828125,324.8383483886719,329.86810302734375,332.2935485839844,335.3253479003906,346.0210876464844,340.2855224609375,336.0310974121094,331.5679016113281,337.68115234375,333.0191650390625,326.6375427246094,332.5718688964844,333.84423828125,333.0489807128906,338.5062255859375,335.971435546875,336.1304931640625,339.23187255859375,335.2060546875,329.84820556640625,330.48443603515625,335.1861877441406,340.61358642578125,343.1781311035156,343.66522216796875,357.3430480957031,352.9593505859375,344.7984313964844,341.7169189453125,343.0489196777344,348.8838806152344,335.75274658203125,328.7448425292969,336.34918212890625,333.913818359375,334.331298828125,325.5440979003906,324.7091369628906,325.8224182128906,328.1385192871094,324.1027526855469,320.30560302734375,321.00140380859375,319.0928649902344,322.1047668457031,319.9377746582031,319.1607971191406,315.6544494628906,315.2559814453125,320.6351013183594,321.21282958984375,325.73529052734375,318.73248291015625,321.7308349609375,322.44805908203125,327.13983154296875,327.51837158203125,326.49237060546875,327.38885498046875,332.2599182128906,331.5925598144531,328.634033203125,332.9771423339844,336.6329650878906,330.48681640625,334.76025390625,337.3900146484375,328.94281005859375,327.78729248046875,327.3788757324219,319.5293884277344,318.294189453125,315.783935546875,316.3118896484375,310.9327697753906,311.5802307128906,312.4269714355469,314.52880859375,320.5553894042969,312.17791748046875,317.72637939453125,318.12481689453125,325.9942932128906,328.54437255859375,327.11993408203125,331.13433837890625,329.87921142578125,326.4624938964844,331.3534851074219,330.77569580078125,328.833251953125,330.03857421875,325.4065856933594,328.04632568359375,329.25164794921875,339.3524475097656,326.6218566894531,328.534423828125,336.0054016113281,336.80230712890625,344.7315368652344,346.97283935546875,351.43548583984375,355.15106201171875,359.1356201171875,361.7952880859375,359.29498291015625,368.2402648925781,365.2618103027344,368.8379211425781,368.9876708984375,375.4756774902344,369.1673278808594,376.7433166503906,372.3813781738281,377.1525573730469,376.7333068847656,377.9111328125,381.9936218261719,378.15069580078125,378.2106018066406,373.8187255859375,368.4586486816406,371.8323669433594,368.1192321777344,370.2652893066406,373.53924560546875,370.6146240234375,373.68896484375,373.678955078125,365.2545471191406,370.04571533203125,371.9621276855469,372.571044921875,369.9358825683594,372.85052490234375,373.8885803222656,373.96844482421875,373.3795471191406,374.5872802734375,375.34588623046875,370.1854248046875,369.9159240722656,367.2608337402344,367.0711975097656,373.9983825683594,375.09637451171875,382.0634460449219,383.9200439453125,387.7529602050781,389.54962158203125,388.7510986328125,393.1429748535156,397.93414306640625,395.7781066894531,398.1636962890625,401.8169250488281,404.1226806640625,403.1844177246094,408.9637145996094,407.8358154296875,396.84613037109375,403.0346984863281,410.4609680175781,404.9012451171875,404.74151611328125,413.28570556640625,413.3456115722656,419.7737121582031,414.4934997558594,405.57000732421875,409.489990234375,406.55999755859375,404.05999755859375,402.7900085449219,402.17999267578125,411.6499938964844,410.3399963378906,407.5400085449219,407.4800109863281,407.7200012207031,413.6400146484375,415.5,414.9200134277344,402.6499938964844],\"type\":\"scatter\"},{\"line\":{\"color\":\"#FFCB05\",\"width\":1},\"mode\":\"lines\",\"name\":\"Dividend Declaration Date\",\"x\":[null],\"y\":[null],\"type\":\"scatter\"}],                        {\"template\":{\"data\":{\"histogram2dcontour\":[{\"type\":\"histogram2dcontour\",\"colorbar\":{\"outlinewidth\":0,\"ticks\":\"\"},\"colorscale\":[[0.0,\"#0d0887\"],[0.1111111111111111,\"#46039f\"],[0.2222222222222222,\"#7201a8\"],[0.3333333333333333,\"#9c179e\"],[0.4444444444444444,\"#bd3786\"],[0.5555555555555556,\"#d8576b\"],[0.6666666666666666,\"#ed7953\"],[0.7777777777777778,\"#fb9f3a\"],[0.8888888888888888,\"#fdca26\"],[1.0,\"#f0f921\"]]}],\"choropleth\":[{\"type\":\"choropleth\",\"colorbar\":{\"outlinewidth\":0,\"ticks\":\"\"}}],\"histogram2d\":[{\"type\":\"histogram2d\",\"colorbar\":{\"outlinewidth\":0,\"ticks\":\"\"},\"colorscale\":[[0.0,\"#0d0887\"],[0.1111111111111111,\"#46039f\"],[0.2222222222222222,\"#7201a8\"],[0.3333333333333333,\"#9c179e\"],[0.4444444444444444,\"#bd3786\"],[0.5555555555555556,\"#d8576b\"],[0.6666666666666666,\"#ed7953\"],[0.7777777777777778,\"#fb9f3a\"],[0.8888888888888888,\"#fdca26\"],[1.0,\"#f0f921\"]]}],\"heatmap\":[{\"type\":\"heatmap\",\"colorbar\":{\"outlinewidth\":0,\"ticks\":\"\"},\"colorscale\":[[0.0,\"#0d0887\"],[0.1111111111111111,\"#46039f\"],[0.2222222222222222,\"#7201a8\"],[0.3333333333333333,\"#9c179e\"],[0.4444444444444444,\"#bd3786\"],[0.5555555555555556,\"#d8576b\"],[0.6666666666666666,\"#ed7953\"],[0.7777777777777778,\"#fb9f3a\"],[0.8888888888888888,\"#fdca26\"],[1.0,\"#f0f921\"]]}],\"heatmapgl\":[{\"type\":\"heatmapgl\",\"colorbar\":{\"outlinewidth\":0,\"ticks\":\"\"},\"colorscale\":[[0.0,\"#0d0887\"],[0.1111111111111111,\"#46039f\"],[0.2222222222222222,\"#7201a8\"],[0.3333333333333333,\"#9c179e\"],[0.4444444444444444,\"#bd3786\"],[0.5555555555555556,\"#d8576b\"],[0.6666666666666666,\"#ed7953\"],[0.7777777777777778,\"#fb9f3a\"],[0.8888888888888888,\"#fdca26\"],[1.0,\"#f0f921\"]]}],\"contourcarpet\":[{\"type\":\"contourcarpet\",\"colorbar\":{\"outlinewidth\":0,\"ticks\":\"\"}}],\"contour\":[{\"type\":\"contour\",\"colorbar\":{\"outlinewidth\":0,\"ticks\":\"\"},\"colorscale\":[[0.0,\"#0d0887\"],[0.1111111111111111,\"#46039f\"],[0.2222222222222222,\"#7201a8\"],[0.3333333333333333,\"#9c179e\"],[0.4444444444444444,\"#bd3786\"],[0.5555555555555556,\"#d8576b\"],[0.6666666666666666,\"#ed7953\"],[0.7777777777777778,\"#fb9f3a\"],[0.8888888888888888,\"#fdca26\"],[1.0,\"#f0f921\"]]}],\"surface\":[{\"type\":\"surface\",\"colorbar\":{\"outlinewidth\":0,\"ticks\":\"\"},\"colorscale\":[[0.0,\"#0d0887\"],[0.1111111111111111,\"#46039f\"],[0.2222222222222222,\"#7201a8\"],[0.3333333333333333,\"#9c179e\"],[0.4444444444444444,\"#bd3786\"],[0.5555555555555556,\"#d8576b\"],[0.6666666666666666,\"#ed7953\"],[0.7777777777777778,\"#fb9f3a\"],[0.8888888888888888,\"#fdca26\"],[1.0,\"#f0f921\"]]}],\"mesh3d\":[{\"type\":\"mesh3d\",\"colorbar\":{\"outlinewidth\":0,\"ticks\":\"\"}}],\"scatter\":[{\"fillpattern\":{\"fillmode\":\"overlay\",\"size\":10,\"solidity\":0.2},\"type\":\"scatter\"}],\"parcoords\":[{\"type\":\"parcoords\",\"line\":{\"colorbar\":{\"outlinewidth\":0,\"ticks\":\"\"}}}],\"scatterpolargl\":[{\"type\":\"scatterpolargl\",\"marker\":{\"colorbar\":{\"outlinewidth\":0,\"ticks\":\"\"}}}],\"bar\":[{\"error_x\":{\"color\":\"#2a3f5f\"},\"error_y\":{\"color\":\"#2a3f5f\"},\"marker\":{\"line\":{\"color\":\"#E5ECF6\",\"width\":0.5},\"pattern\":{\"fillmode\":\"overlay\",\"size\":10,\"solidity\":0.2}},\"type\":\"bar\"}],\"scattergeo\":[{\"type\":\"scattergeo\",\"marker\":{\"colorbar\":{\"outlinewidth\":0,\"ticks\":\"\"}}}],\"scatterpolar\":[{\"type\":\"scatterpolar\",\"marker\":{\"colorbar\":{\"outlinewidth\":0,\"ticks\":\"\"}}}],\"histogram\":[{\"marker\":{\"pattern\":{\"fillmode\":\"overlay\",\"size\":10,\"solidity\":0.2}},\"type\":\"histogram\"}],\"scattergl\":[{\"type\":\"scattergl\",\"marker\":{\"colorbar\":{\"outlinewidth\":0,\"ticks\":\"\"}}}],\"scatter3d\":[{\"type\":\"scatter3d\",\"line\":{\"colorbar\":{\"outlinewidth\":0,\"ticks\":\"\"}},\"marker\":{\"colorbar\":{\"outlinewidth\":0,\"ticks\":\"\"}}}],\"scattermapbox\":[{\"type\":\"scattermapbox\",\"marker\":{\"colorbar\":{\"outlinewidth\":0,\"ticks\":\"\"}}}],\"scatterternary\":[{\"type\":\"scatterternary\",\"marker\":{\"colorbar\":{\"outlinewidth\":0,\"ticks\":\"\"}}}],\"scattercarpet\":[{\"type\":\"scattercarpet\",\"marker\":{\"colorbar\":{\"outlinewidth\":0,\"ticks\":\"\"}}}],\"carpet\":[{\"aaxis\":{\"endlinecolor\":\"#2a3f5f\",\"gridcolor\":\"white\",\"linecolor\":\"white\",\"minorgridcolor\":\"white\",\"startlinecolor\":\"#2a3f5f\"},\"baxis\":{\"endlinecolor\":\"#2a3f5f\",\"gridcolor\":\"white\",\"linecolor\":\"white\",\"minorgridcolor\":\"white\",\"startlinecolor\":\"#2a3f5f\"},\"type\":\"carpet\"}],\"table\":[{\"cells\":{\"fill\":{\"color\":\"#EBF0F8\"},\"line\":{\"color\":\"white\"}},\"header\":{\"fill\":{\"color\":\"#C8D4E3\"},\"line\":{\"color\":\"white\"}},\"type\":\"table\"}],\"barpolar\":[{\"marker\":{\"line\":{\"color\":\"#E5ECF6\",\"width\":0.5},\"pattern\":{\"fillmode\":\"overlay\",\"size\":10,\"solidity\":0.2}},\"type\":\"barpolar\"}],\"pie\":[{\"automargin\":true,\"type\":\"pie\"}]},\"layout\":{\"autotypenumbers\":\"strict\",\"colorway\":[\"#636efa\",\"#EF553B\",\"#00cc96\",\"#ab63fa\",\"#FFA15A\",\"#19d3f3\",\"#FF6692\",\"#B6E880\",\"#FF97FF\",\"#FECB52\"],\"font\":{\"color\":\"#2a3f5f\"},\"hovermode\":\"closest\",\"hoverlabel\":{\"align\":\"left\"},\"paper_bgcolor\":\"white\",\"plot_bgcolor\":\"#E5ECF6\",\"polar\":{\"bgcolor\":\"#E5ECF6\",\"angularaxis\":{\"gridcolor\":\"white\",\"linecolor\":\"white\",\"ticks\":\"\"},\"radialaxis\":{\"gridcolor\":\"white\",\"linecolor\":\"white\",\"ticks\":\"\"}},\"ternary\":{\"bgcolor\":\"#E5ECF6\",\"aaxis\":{\"gridcolor\":\"white\",\"linecolor\":\"white\",\"ticks\":\"\"},\"baxis\":{\"gridcolor\":\"white\",\"linecolor\":\"white\",\"ticks\":\"\"},\"caxis\":{\"gridcolor\":\"white\",\"linecolor\":\"white\",\"ticks\":\"\"}},\"coloraxis\":{\"colorbar\":{\"outlinewidth\":0,\"ticks\":\"\"}},\"colorscale\":{\"sequential\":[[0.0,\"#0d0887\"],[0.1111111111111111,\"#46039f\"],[0.2222222222222222,\"#7201a8\"],[0.3333333333333333,\"#9c179e\"],[0.4444444444444444,\"#bd3786\"],[0.5555555555555556,\"#d8576b\"],[0.6666666666666666,\"#ed7953\"],[0.7777777777777778,\"#fb9f3a\"],[0.8888888888888888,\"#fdca26\"],[1.0,\"#f0f921\"]],\"sequentialminus\":[[0.0,\"#0d0887\"],[0.1111111111111111,\"#46039f\"],[0.2222222222222222,\"#7201a8\"],[0.3333333333333333,\"#9c179e\"],[0.4444444444444444,\"#bd3786\"],[0.5555555555555556,\"#d8576b\"],[0.6666666666666666,\"#ed7953\"],[0.7777777777777778,\"#fb9f3a\"],[0.8888888888888888,\"#fdca26\"],[1.0,\"#f0f921\"]],\"diverging\":[[0,\"#8e0152\"],[0.1,\"#c51b7d\"],[0.2,\"#de77ae\"],[0.3,\"#f1b6da\"],[0.4,\"#fde0ef\"],[0.5,\"#f7f7f7\"],[0.6,\"#e6f5d0\"],[0.7,\"#b8e186\"],[0.8,\"#7fbc41\"],[0.9,\"#4d9221\"],[1,\"#276419\"]]},\"xaxis\":{\"gridcolor\":\"white\",\"linecolor\":\"white\",\"ticks\":\"\",\"title\":{\"standoff\":15},\"zerolinecolor\":\"white\",\"automargin\":true,\"zerolinewidth\":2},\"yaxis\":{\"gridcolor\":\"white\",\"linecolor\":\"white\",\"ticks\":\"\",\"title\":{\"standoff\":15},\"zerolinecolor\":\"white\",\"automargin\":true,\"zerolinewidth\":2},\"scene\":{\"xaxis\":{\"backgroundcolor\":\"#E5ECF6\",\"gridcolor\":\"white\",\"linecolor\":\"white\",\"showbackground\":true,\"ticks\":\"\",\"zerolinecolor\":\"white\",\"gridwidth\":2},\"yaxis\":{\"backgroundcolor\":\"#E5ECF6\",\"gridcolor\":\"white\",\"linecolor\":\"white\",\"showbackground\":true,\"ticks\":\"\",\"zerolinecolor\":\"white\",\"gridwidth\":2},\"zaxis\":{\"backgroundcolor\":\"#E5ECF6\",\"gridcolor\":\"white\",\"linecolor\":\"white\",\"showbackground\":true,\"ticks\":\"\",\"zerolinecolor\":\"white\",\"gridwidth\":2}},\"shapedefaults\":{\"line\":{\"color\":\"#2a3f5f\"}},\"annotationdefaults\":{\"arrowcolor\":\"#2a3f5f\",\"arrowhead\":0,\"arrowwidth\":1},\"geo\":{\"bgcolor\":\"white\",\"landcolor\":\"#E5ECF6\",\"subunitcolor\":\"white\",\"showland\":true,\"showlakes\":true,\"lakecolor\":\"white\"},\"title\":{\"x\":0.05},\"mapbox\":{\"style\":\"light\"}}},\"shapes\":[{\"line\":{\"color\":\"#FFCB05\",\"width\":1},\"type\":\"line\",\"x0\":\"2020-03-09T00:00:00\",\"x1\":\"2020-03-09T00:00:00\",\"xref\":\"x\",\"y0\":0,\"y1\":1,\"yref\":\"y domain\"},{\"line\":{\"color\":\"#FFCB05\",\"width\":1},\"type\":\"line\",\"x0\":\"2020-06-17T00:00:00\",\"x1\":\"2020-06-17T00:00:00\",\"xref\":\"x\",\"y0\":0,\"y1\":1,\"yref\":\"y domain\"},{\"line\":{\"color\":\"#FFCB05\",\"width\":1},\"type\":\"line\",\"x0\":\"2020-09-15T00:00:00\",\"x1\":\"2020-09-15T00:00:00\",\"xref\":\"x\",\"y0\":0,\"y1\":1,\"yref\":\"y domain\"},{\"line\":{\"color\":\"#FFCB05\",\"width\":1},\"type\":\"line\",\"x0\":\"2020-12-02T00:00:00\",\"x1\":\"2020-12-02T00:00:00\",\"xref\":\"x\",\"y0\":0,\"y1\":1,\"yref\":\"y domain\"},{\"line\":{\"color\":\"#FFCB05\",\"width\":1},\"type\":\"line\",\"x0\":\"2021-03-16T00:00:00\",\"x1\":\"2021-03-16T00:00:00\",\"xref\":\"x\",\"y0\":0,\"y1\":1,\"yref\":\"y domain\"},{\"line\":{\"color\":\"#FFCB05\",\"width\":1},\"type\":\"line\",\"x0\":\"2021-06-16T00:00:00\",\"x1\":\"2021-06-16T00:00:00\",\"xref\":\"x\",\"y0\":0,\"y1\":1,\"yref\":\"y domain\"},{\"line\":{\"color\":\"#FFCB05\",\"width\":1},\"type\":\"line\",\"x0\":\"2021-09-14T00:00:00\",\"x1\":\"2021-09-14T00:00:00\",\"xref\":\"x\",\"y0\":0,\"y1\":1,\"yref\":\"y domain\"},{\"line\":{\"color\":\"#FFCB05\",\"width\":1},\"type\":\"line\",\"x0\":\"2021-12-07T00:00:00\",\"x1\":\"2021-12-07T00:00:00\",\"xref\":\"x\",\"y0\":0,\"y1\":1,\"yref\":\"y domain\"},{\"line\":{\"color\":\"#FFCB05\",\"width\":1},\"type\":\"line\",\"x0\":\"2022-03-14T00:00:00\",\"x1\":\"2022-03-14T00:00:00\",\"xref\":\"x\",\"y0\":0,\"y1\":1,\"yref\":\"y domain\"},{\"line\":{\"color\":\"#FFCB05\",\"width\":1},\"type\":\"line\",\"x0\":\"2022-06-14T00:00:00\",\"x1\":\"2022-06-14T00:00:00\",\"xref\":\"x\",\"y0\":0,\"y1\":1,\"yref\":\"y domain\"},{\"line\":{\"color\":\"#FFCB05\",\"width\":1},\"type\":\"line\",\"x0\":\"2022-09-20T00:00:00\",\"x1\":\"2022-09-20T00:00:00\",\"xref\":\"x\",\"y0\":0,\"y1\":1,\"yref\":\"y domain\"},{\"line\":{\"color\":\"#FFCB05\",\"width\":1},\"type\":\"line\",\"x0\":\"2022-11-29T00:00:00\",\"x1\":\"2022-11-29T00:00:00\",\"xref\":\"x\",\"y0\":0,\"y1\":1,\"yref\":\"y domain\"},{\"line\":{\"color\":\"#FFCB05\",\"width\":1},\"type\":\"line\",\"x0\":\"2023-03-14T00:00:00\",\"x1\":\"2023-03-14T00:00:00\",\"xref\":\"x\",\"y0\":0,\"y1\":1,\"yref\":\"y domain\"},{\"line\":{\"color\":\"#FFCB05\",\"width\":1},\"type\":\"line\",\"x0\":\"2023-06-13T00:00:00\",\"x1\":\"2023-06-13T00:00:00\",\"xref\":\"x\",\"y0\":0,\"y1\":1,\"yref\":\"y domain\"},{\"line\":{\"color\":\"#FFCB05\",\"width\":1},\"type\":\"line\",\"x0\":\"2023-09-19T00:00:00\",\"x1\":\"2023-09-19T00:00:00\",\"xref\":\"x\",\"y0\":0,\"y1\":1,\"yref\":\"y domain\"},{\"line\":{\"color\":\"#FFCB05\",\"width\":1},\"type\":\"line\",\"x0\":\"2023-11-28T00:00:00\",\"x1\":\"2023-11-28T00:00:00\",\"xref\":\"x\",\"y0\":0,\"y1\":1,\"yref\":\"y domain\"}],\"xaxis\":{\"title\":{\"text\":\"Date\"},\"showgrid\":false},\"yaxis\":{\"title\":{\"text\":\"Adjusted Close Price ($)\"},\"showgrid\":false},\"title\":{\"text\":\"MSFT Adjusted Closing Price with Dividend Declaration Dates\"}},                        {\"responsive\": true}                    ).then(function(){\n",
              "                            \n",
              "var gd = document.getElementById('d3b8f0cc-b2c8-47e3-b2a5-e35cc8a049f3');\n",
              "var x = new MutationObserver(function (mutations, observer) {{\n",
              "        var display = window.getComputedStyle(gd).display;\n",
              "        if (!display || display === 'none') {{\n",
              "            console.log([gd, 'removed!']);\n",
              "            Plotly.purge(gd);\n",
              "            observer.disconnect();\n",
              "        }}\n",
              "}});\n",
              "\n",
              "// Listen for the removal of the full notebook cells\n",
              "var notebookContainer = gd.closest('#notebook-container');\n",
              "if (notebookContainer) {{\n",
              "    x.observe(notebookContainer, {childList: true});\n",
              "}}\n",
              "\n",
              "// Listen for the clearing of the current output cell\n",
              "var outputEl = gd.closest('.output');\n",
              "if (outputEl) {{\n",
              "    x.observe(outputEl, {childList: true});\n",
              "}}\n",
              "\n",
              "                        })                };                            </script>        </div>\n",
              "</body>\n",
              "</html>"
            ]
          },
          "metadata": {}
        }
      ]
    },
    {
      "cell_type": "markdown",
      "metadata": {
        "id": "EVX2i069QAtW"
      },
      "source": [
        "## Ratios"
      ]
    },
    {
      "cell_type": "markdown",
      "source": [
        "Key ratios for MSFT\n",
        "\n",
        "Data obtained from Financial Modeling Prep"
      ],
      "metadata": {
        "id": "c7Jz8qcY4EiU"
      }
    },
    {
      "cell_type": "code",
      "execution_count": 100,
      "metadata": {
        "id": "uT4NibKeSa_i"
      },
      "outputs": [],
      "source": [
        "ratios = pd.read_csv('msft_ratios.csv')\n",
        "ratios = pd.DataFrame(ratios)\n",
        "ratios['Date'] = pd.to_datetime(ratios['Date'])\n",
        "\n",
        "ratios = ratios.set_index('Date')\n",
        "first_row = ratios.iloc[0]\n",
        "first_row = first_row.to_frame().T\n",
        "ratios = ratios.reindex(msft_df.index)\n",
        "ratios = pd.concat([first_row, ratios], axis=0)\n",
        "ratios = ratios.interpolate(method='linear', axis=0)\n",
        "ratios = ratios.iloc[1:]"
      ]
    },
    {
      "cell_type": "markdown",
      "metadata": {
        "id": "TlC5V_SgWWps"
      },
      "source": [
        "## Key Metrics"
      ]
    },
    {
      "cell_type": "markdown",
      "source": [
        "Key metrics for MSFT.\n",
        "\n",
        "Data obtained from Financial Modeling Prep"
      ],
      "metadata": {
        "id": "fhT9icJJwvI_"
      }
    },
    {
      "cell_type": "code",
      "execution_count": 101,
      "metadata": {
        "id": "2w9LaGU3XGFJ"
      },
      "outputs": [],
      "source": [
        "metrics = pd.read_csv('msft_metrics.csv')\n",
        "metrics = pd.DataFrame(metrics)\n",
        "metrics['Date'] = pd.to_datetime(metrics['Date'])\n",
        "\n",
        "metrics = metrics.set_index('Date')\n",
        "metrics = metrics.drop(columns = ['marketCap','netIncomePerShare'])\n",
        "first_row = metrics.iloc[0]\n",
        "first_row = first_row.to_frame().T\n",
        "metrics = metrics.reindex(msft_df.index)\n",
        "metrics = pd.concat([first_row, metrics], axis=0)\n",
        "metrics = metrics.interpolate(method='linear', axis=0)\n",
        "metrics = metrics.iloc[1:]"
      ]
    },
    {
      "cell_type": "markdown",
      "metadata": {
        "id": "xgK7A2CTj-Zu"
      },
      "source": [
        "# Master Dataframe"
      ]
    },
    {
      "cell_type": "markdown",
      "metadata": {
        "id": "C1koEVdqjG7f"
      },
      "source": [
        "Merge features to one master dataframe"
      ]
    },
    {
      "cell_type": "code",
      "source": [
        "# List of all DataFrames to be merged\n",
        "dfs = [msft_df, vix_df, implied_volatility, grade_df, recommendation_score,\n",
        "       volume, daily_is_complete, shares_ratios, dbs, daily_cf, surprise,\n",
        "       transcripts, congress, ratings, social_sentiment, news, div_payment,\n",
        "       div_declar, ratios, metrics, reddit_scores, av_news]\n",
        "\n",
        "# Use reduce to apply pd.merge in a chain across all DataFrames in the list\n",
        "master_df = reduce(lambda left, right: pd.merge(left, right, left_index=True, right_index=True, how='inner'), dfs)\n",
        "\n",
        "master_df['Shifted Adj Close'] = master_df['Adj Close'].shift(-1)\n",
        "\n",
        "last_features_row = master_df.drop(columns=['Adj Close','Shifted Adj Close']).iloc[-1].values.reshape(1, -1)\n",
        "\n",
        "master_df = master_df.dropna()\n",
        "master_df.head()"
      ],
      "metadata": {
        "colab": {
          "base_uri": "https://localhost:8080/",
          "height": 408
        },
        "id": "ordvYKepxSy6",
        "outputId": "cc526ad0-6786-438b-fa5a-1843fc6f3fe1"
      },
      "execution_count": 102,
      "outputs": [
        {
          "output_type": "execute_result",
          "data": {
            "text/plain": [
              "             Adj Close  ^VIX9D   ^VIX  ^VIX3M  ^VIX6M    hv10    hv20    hv30  \\\n",
              "Date                                                                            \n",
              "2020-01-02  154.493820   10.60  12.47   15.19   16.58  0.1334  0.1156  0.1043   \n",
              "2020-01-03  152.570114   12.78  14.02   16.01   17.16  0.1627  0.1315  0.1170   \n",
              "2020-01-06  152.964462   12.42  13.85   15.92   17.08  0.1627  0.1287  0.1170   \n",
              "2020-01-07  151.569794   12.34  13.79   15.86   17.02  0.1660  0.1352  0.1240   \n",
              "2020-01-08  153.984070   12.22  13.45   15.40   16.65  0.1947  0.1455  0.1283   \n",
              "\n",
              "              hv60    hv90  ...  averageInventory  daysSalesOutstanding  \\\n",
              "Date                        ...                                           \n",
              "2020-01-02  0.0988  0.1347  ...      2.214613e+09             57.384287   \n",
              "2020-01-03  0.1056  0.1363  ...      2.206726e+09             57.399854   \n",
              "2020-01-06  0.1053  0.1349  ...      2.198839e+09             57.415421   \n",
              "2020-01-07  0.1084  0.1343  ...      2.190952e+09             57.430987   \n",
              "2020-01-08  0.1135  0.1330  ...      2.183065e+09             57.446554   \n",
              "\n",
              "            daysPayablesOutstanding  daysOfInventoryOnHand       roe  \\\n",
              "Date                                                                   \n",
              "2020-01-02                64.356106              13.279729  0.105603   \n",
              "2020-01-03                64.544062              13.283037  0.105412   \n",
              "2020-01-06                64.732018              13.286346  0.105220   \n",
              "2020-01-07                64.919974              13.289654  0.105028   \n",
              "2020-01-08                65.107929              13.292963  0.104836   \n",
              "\n",
              "            capexPerShare  redditSentiment  AV Sentiment Score  \\\n",
              "Date                                                             \n",
              "2020-01-02      -0.465652              0.0                 0.0   \n",
              "2020-01-03      -0.466142              0.0                 0.0   \n",
              "2020-01-06      -0.466631              0.0                 0.0   \n",
              "2020-01-07      -0.467121              0.0                 0.0   \n",
              "2020-01-08      -0.467611              0.0                 0.0   \n",
              "\n",
              "            finbert_news_score  Shifted Adj Close  \n",
              "Date                                               \n",
              "2020-01-02                 0.0         152.570114  \n",
              "2020-01-03                 0.0         152.964462  \n",
              "2020-01-06                 0.0         151.569794  \n",
              "2020-01-07                 0.0         153.984070  \n",
              "2020-01-08                 0.0         155.907791  \n",
              "\n",
              "[5 rows x 284 columns]"
            ],
            "text/html": [
              "\n",
              "  <div id=\"df-b2059631-a445-4dbb-b685-330a82bd6464\" class=\"colab-df-container\">\n",
              "    <div>\n",
              "<style scoped>\n",
              "    .dataframe tbody tr th:only-of-type {\n",
              "        vertical-align: middle;\n",
              "    }\n",
              "\n",
              "    .dataframe tbody tr th {\n",
              "        vertical-align: top;\n",
              "    }\n",
              "\n",
              "    .dataframe thead th {\n",
              "        text-align: right;\n",
              "    }\n",
              "</style>\n",
              "<table border=\"1\" class=\"dataframe\">\n",
              "  <thead>\n",
              "    <tr style=\"text-align: right;\">\n",
              "      <th></th>\n",
              "      <th>Adj Close</th>\n",
              "      <th>^VIX9D</th>\n",
              "      <th>^VIX</th>\n",
              "      <th>^VIX3M</th>\n",
              "      <th>^VIX6M</th>\n",
              "      <th>hv10</th>\n",
              "      <th>hv20</th>\n",
              "      <th>hv30</th>\n",
              "      <th>hv60</th>\n",
              "      <th>hv90</th>\n",
              "      <th>...</th>\n",
              "      <th>averageInventory</th>\n",
              "      <th>daysSalesOutstanding</th>\n",
              "      <th>daysPayablesOutstanding</th>\n",
              "      <th>daysOfInventoryOnHand</th>\n",
              "      <th>roe</th>\n",
              "      <th>capexPerShare</th>\n",
              "      <th>redditSentiment</th>\n",
              "      <th>AV Sentiment Score</th>\n",
              "      <th>finbert_news_score</th>\n",
              "      <th>Shifted Adj Close</th>\n",
              "    </tr>\n",
              "    <tr>\n",
              "      <th>Date</th>\n",
              "      <th></th>\n",
              "      <th></th>\n",
              "      <th></th>\n",
              "      <th></th>\n",
              "      <th></th>\n",
              "      <th></th>\n",
              "      <th></th>\n",
              "      <th></th>\n",
              "      <th></th>\n",
              "      <th></th>\n",
              "      <th></th>\n",
              "      <th></th>\n",
              "      <th></th>\n",
              "      <th></th>\n",
              "      <th></th>\n",
              "      <th></th>\n",
              "      <th></th>\n",
              "      <th></th>\n",
              "      <th></th>\n",
              "      <th></th>\n",
              "      <th></th>\n",
              "    </tr>\n",
              "  </thead>\n",
              "  <tbody>\n",
              "    <tr>\n",
              "      <th>2020-01-02</th>\n",
              "      <td>154.493820</td>\n",
              "      <td>10.60</td>\n",
              "      <td>12.47</td>\n",
              "      <td>15.19</td>\n",
              "      <td>16.58</td>\n",
              "      <td>0.1334</td>\n",
              "      <td>0.1156</td>\n",
              "      <td>0.1043</td>\n",
              "      <td>0.0988</td>\n",
              "      <td>0.1347</td>\n",
              "      <td>...</td>\n",
              "      <td>2.214613e+09</td>\n",
              "      <td>57.384287</td>\n",
              "      <td>64.356106</td>\n",
              "      <td>13.279729</td>\n",
              "      <td>0.105603</td>\n",
              "      <td>-0.465652</td>\n",
              "      <td>0.0</td>\n",
              "      <td>0.0</td>\n",
              "      <td>0.0</td>\n",
              "      <td>152.570114</td>\n",
              "    </tr>\n",
              "    <tr>\n",
              "      <th>2020-01-03</th>\n",
              "      <td>152.570114</td>\n",
              "      <td>12.78</td>\n",
              "      <td>14.02</td>\n",
              "      <td>16.01</td>\n",
              "      <td>17.16</td>\n",
              "      <td>0.1627</td>\n",
              "      <td>0.1315</td>\n",
              "      <td>0.1170</td>\n",
              "      <td>0.1056</td>\n",
              "      <td>0.1363</td>\n",
              "      <td>...</td>\n",
              "      <td>2.206726e+09</td>\n",
              "      <td>57.399854</td>\n",
              "      <td>64.544062</td>\n",
              "      <td>13.283037</td>\n",
              "      <td>0.105412</td>\n",
              "      <td>-0.466142</td>\n",
              "      <td>0.0</td>\n",
              "      <td>0.0</td>\n",
              "      <td>0.0</td>\n",
              "      <td>152.964462</td>\n",
              "    </tr>\n",
              "    <tr>\n",
              "      <th>2020-01-06</th>\n",
              "      <td>152.964462</td>\n",
              "      <td>12.42</td>\n",
              "      <td>13.85</td>\n",
              "      <td>15.92</td>\n",
              "      <td>17.08</td>\n",
              "      <td>0.1627</td>\n",
              "      <td>0.1287</td>\n",
              "      <td>0.1170</td>\n",
              "      <td>0.1053</td>\n",
              "      <td>0.1349</td>\n",
              "      <td>...</td>\n",
              "      <td>2.198839e+09</td>\n",
              "      <td>57.415421</td>\n",
              "      <td>64.732018</td>\n",
              "      <td>13.286346</td>\n",
              "      <td>0.105220</td>\n",
              "      <td>-0.466631</td>\n",
              "      <td>0.0</td>\n",
              "      <td>0.0</td>\n",
              "      <td>0.0</td>\n",
              "      <td>151.569794</td>\n",
              "    </tr>\n",
              "    <tr>\n",
              "      <th>2020-01-07</th>\n",
              "      <td>151.569794</td>\n",
              "      <td>12.34</td>\n",
              "      <td>13.79</td>\n",
              "      <td>15.86</td>\n",
              "      <td>17.02</td>\n",
              "      <td>0.1660</td>\n",
              "      <td>0.1352</td>\n",
              "      <td>0.1240</td>\n",
              "      <td>0.1084</td>\n",
              "      <td>0.1343</td>\n",
              "      <td>...</td>\n",
              "      <td>2.190952e+09</td>\n",
              "      <td>57.430987</td>\n",
              "      <td>64.919974</td>\n",
              "      <td>13.289654</td>\n",
              "      <td>0.105028</td>\n",
              "      <td>-0.467121</td>\n",
              "      <td>0.0</td>\n",
              "      <td>0.0</td>\n",
              "      <td>0.0</td>\n",
              "      <td>153.984070</td>\n",
              "    </tr>\n",
              "    <tr>\n",
              "      <th>2020-01-08</th>\n",
              "      <td>153.984070</td>\n",
              "      <td>12.22</td>\n",
              "      <td>13.45</td>\n",
              "      <td>15.40</td>\n",
              "      <td>16.65</td>\n",
              "      <td>0.1947</td>\n",
              "      <td>0.1455</td>\n",
              "      <td>0.1283</td>\n",
              "      <td>0.1135</td>\n",
              "      <td>0.1330</td>\n",
              "      <td>...</td>\n",
              "      <td>2.183065e+09</td>\n",
              "      <td>57.446554</td>\n",
              "      <td>65.107929</td>\n",
              "      <td>13.292963</td>\n",
              "      <td>0.104836</td>\n",
              "      <td>-0.467611</td>\n",
              "      <td>0.0</td>\n",
              "      <td>0.0</td>\n",
              "      <td>0.0</td>\n",
              "      <td>155.907791</td>\n",
              "    </tr>\n",
              "  </tbody>\n",
              "</table>\n",
              "<p>5 rows × 284 columns</p>\n",
              "</div>\n",
              "    <div class=\"colab-df-buttons\">\n",
              "\n",
              "  <div class=\"colab-df-container\">\n",
              "    <button class=\"colab-df-convert\" onclick=\"convertToInteractive('df-b2059631-a445-4dbb-b685-330a82bd6464')\"\n",
              "            title=\"Convert this dataframe to an interactive table.\"\n",
              "            style=\"display:none;\">\n",
              "\n",
              "  <svg xmlns=\"http://www.w3.org/2000/svg\" height=\"24px\" viewBox=\"0 -960 960 960\">\n",
              "    <path d=\"M120-120v-720h720v720H120Zm60-500h600v-160H180v160Zm220 220h160v-160H400v160Zm0 220h160v-160H400v160ZM180-400h160v-160H180v160Zm440 0h160v-160H620v160ZM180-180h160v-160H180v160Zm440 0h160v-160H620v160Z\"/>\n",
              "  </svg>\n",
              "    </button>\n",
              "\n",
              "  <style>\n",
              "    .colab-df-container {\n",
              "      display:flex;\n",
              "      gap: 12px;\n",
              "    }\n",
              "\n",
              "    .colab-df-convert {\n",
              "      background-color: #E8F0FE;\n",
              "      border: none;\n",
              "      border-radius: 50%;\n",
              "      cursor: pointer;\n",
              "      display: none;\n",
              "      fill: #1967D2;\n",
              "      height: 32px;\n",
              "      padding: 0 0 0 0;\n",
              "      width: 32px;\n",
              "    }\n",
              "\n",
              "    .colab-df-convert:hover {\n",
              "      background-color: #E2EBFA;\n",
              "      box-shadow: 0px 1px 2px rgba(60, 64, 67, 0.3), 0px 1px 3px 1px rgba(60, 64, 67, 0.15);\n",
              "      fill: #174EA6;\n",
              "    }\n",
              "\n",
              "    .colab-df-buttons div {\n",
              "      margin-bottom: 4px;\n",
              "    }\n",
              "\n",
              "    [theme=dark] .colab-df-convert {\n",
              "      background-color: #3B4455;\n",
              "      fill: #D2E3FC;\n",
              "    }\n",
              "\n",
              "    [theme=dark] .colab-df-convert:hover {\n",
              "      background-color: #434B5C;\n",
              "      box-shadow: 0px 1px 3px 1px rgba(0, 0, 0, 0.15);\n",
              "      filter: drop-shadow(0px 1px 2px rgba(0, 0, 0, 0.3));\n",
              "      fill: #FFFFFF;\n",
              "    }\n",
              "  </style>\n",
              "\n",
              "    <script>\n",
              "      const buttonEl =\n",
              "        document.querySelector('#df-b2059631-a445-4dbb-b685-330a82bd6464 button.colab-df-convert');\n",
              "      buttonEl.style.display =\n",
              "        google.colab.kernel.accessAllowed ? 'block' : 'none';\n",
              "\n",
              "      async function convertToInteractive(key) {\n",
              "        const element = document.querySelector('#df-b2059631-a445-4dbb-b685-330a82bd6464');\n",
              "        const dataTable =\n",
              "          await google.colab.kernel.invokeFunction('convertToInteractive',\n",
              "                                                    [key], {});\n",
              "        if (!dataTable) return;\n",
              "\n",
              "        const docLinkHtml = 'Like what you see? Visit the ' +\n",
              "          '<a target=\"_blank\" href=https://colab.research.google.com/notebooks/data_table.ipynb>data table notebook</a>'\n",
              "          + ' to learn more about interactive tables.';\n",
              "        element.innerHTML = '';\n",
              "        dataTable['output_type'] = 'display_data';\n",
              "        await google.colab.output.renderOutput(dataTable, element);\n",
              "        const docLink = document.createElement('div');\n",
              "        docLink.innerHTML = docLinkHtml;\n",
              "        element.appendChild(docLink);\n",
              "      }\n",
              "    </script>\n",
              "  </div>\n",
              "\n",
              "\n",
              "<div id=\"df-bf9b7704-5899-4d0c-96cc-c062d27d1127\">\n",
              "  <button class=\"colab-df-quickchart\" onclick=\"quickchart('df-bf9b7704-5899-4d0c-96cc-c062d27d1127')\"\n",
              "            title=\"Suggest charts\"\n",
              "            style=\"display:none;\">\n",
              "\n",
              "<svg xmlns=\"http://www.w3.org/2000/svg\" height=\"24px\"viewBox=\"0 0 24 24\"\n",
              "     width=\"24px\">\n",
              "    <g>\n",
              "        <path d=\"M19 3H5c-1.1 0-2 .9-2 2v14c0 1.1.9 2 2 2h14c1.1 0 2-.9 2-2V5c0-1.1-.9-2-2-2zM9 17H7v-7h2v7zm4 0h-2V7h2v10zm4 0h-2v-4h2v4z\"/>\n",
              "    </g>\n",
              "</svg>\n",
              "  </button>\n",
              "\n",
              "<style>\n",
              "  .colab-df-quickchart {\n",
              "      --bg-color: #E8F0FE;\n",
              "      --fill-color: #1967D2;\n",
              "      --hover-bg-color: #E2EBFA;\n",
              "      --hover-fill-color: #174EA6;\n",
              "      --disabled-fill-color: #AAA;\n",
              "      --disabled-bg-color: #DDD;\n",
              "  }\n",
              "\n",
              "  [theme=dark] .colab-df-quickchart {\n",
              "      --bg-color: #3B4455;\n",
              "      --fill-color: #D2E3FC;\n",
              "      --hover-bg-color: #434B5C;\n",
              "      --hover-fill-color: #FFFFFF;\n",
              "      --disabled-bg-color: #3B4455;\n",
              "      --disabled-fill-color: #666;\n",
              "  }\n",
              "\n",
              "  .colab-df-quickchart {\n",
              "    background-color: var(--bg-color);\n",
              "    border: none;\n",
              "    border-radius: 50%;\n",
              "    cursor: pointer;\n",
              "    display: none;\n",
              "    fill: var(--fill-color);\n",
              "    height: 32px;\n",
              "    padding: 0;\n",
              "    width: 32px;\n",
              "  }\n",
              "\n",
              "  .colab-df-quickchart:hover {\n",
              "    background-color: var(--hover-bg-color);\n",
              "    box-shadow: 0 1px 2px rgba(60, 64, 67, 0.3), 0 1px 3px 1px rgba(60, 64, 67, 0.15);\n",
              "    fill: var(--button-hover-fill-color);\n",
              "  }\n",
              "\n",
              "  .colab-df-quickchart-complete:disabled,\n",
              "  .colab-df-quickchart-complete:disabled:hover {\n",
              "    background-color: var(--disabled-bg-color);\n",
              "    fill: var(--disabled-fill-color);\n",
              "    box-shadow: none;\n",
              "  }\n",
              "\n",
              "  .colab-df-spinner {\n",
              "    border: 2px solid var(--fill-color);\n",
              "    border-color: transparent;\n",
              "    border-bottom-color: var(--fill-color);\n",
              "    animation:\n",
              "      spin 1s steps(1) infinite;\n",
              "  }\n",
              "\n",
              "  @keyframes spin {\n",
              "    0% {\n",
              "      border-color: transparent;\n",
              "      border-bottom-color: var(--fill-color);\n",
              "      border-left-color: var(--fill-color);\n",
              "    }\n",
              "    20% {\n",
              "      border-color: transparent;\n",
              "      border-left-color: var(--fill-color);\n",
              "      border-top-color: var(--fill-color);\n",
              "    }\n",
              "    30% {\n",
              "      border-color: transparent;\n",
              "      border-left-color: var(--fill-color);\n",
              "      border-top-color: var(--fill-color);\n",
              "      border-right-color: var(--fill-color);\n",
              "    }\n",
              "    40% {\n",
              "      border-color: transparent;\n",
              "      border-right-color: var(--fill-color);\n",
              "      border-top-color: var(--fill-color);\n",
              "    }\n",
              "    60% {\n",
              "      border-color: transparent;\n",
              "      border-right-color: var(--fill-color);\n",
              "    }\n",
              "    80% {\n",
              "      border-color: transparent;\n",
              "      border-right-color: var(--fill-color);\n",
              "      border-bottom-color: var(--fill-color);\n",
              "    }\n",
              "    90% {\n",
              "      border-color: transparent;\n",
              "      border-bottom-color: var(--fill-color);\n",
              "    }\n",
              "  }\n",
              "</style>\n",
              "\n",
              "  <script>\n",
              "    async function quickchart(key) {\n",
              "      const quickchartButtonEl =\n",
              "        document.querySelector('#' + key + ' button');\n",
              "      quickchartButtonEl.disabled = true;  // To prevent multiple clicks.\n",
              "      quickchartButtonEl.classList.add('colab-df-spinner');\n",
              "      try {\n",
              "        const charts = await google.colab.kernel.invokeFunction(\n",
              "            'suggestCharts', [key], {});\n",
              "      } catch (error) {\n",
              "        console.error('Error during call to suggestCharts:', error);\n",
              "      }\n",
              "      quickchartButtonEl.classList.remove('colab-df-spinner');\n",
              "      quickchartButtonEl.classList.add('colab-df-quickchart-complete');\n",
              "    }\n",
              "    (() => {\n",
              "      let quickchartButtonEl =\n",
              "        document.querySelector('#df-bf9b7704-5899-4d0c-96cc-c062d27d1127 button');\n",
              "      quickchartButtonEl.style.display =\n",
              "        google.colab.kernel.accessAllowed ? 'block' : 'none';\n",
              "    })();\n",
              "  </script>\n",
              "</div>\n",
              "\n",
              "    </div>\n",
              "  </div>\n"
            ],
            "application/vnd.google.colaboratory.intrinsic+json": {
              "type": "dataframe",
              "variable_name": "master_df"
            }
          },
          "metadata": {},
          "execution_count": 102
        }
      ]
    },
    {
      "cell_type": "code",
      "source": [
        "# Save DataFrame to a CSV file\n",
        "csv_filename = 'master_df.csv'\n",
        "master_df.to_csv(csv_filename, index=True)\n",
        "\n",
        "# Download the CSV file\n",
        "files.download(csv_filename)"
      ],
      "metadata": {
        "colab": {
          "base_uri": "https://localhost:8080/",
          "height": 17
        },
        "id": "CSPBMagLTTsS",
        "outputId": "26cc44e6-a571-431a-de13-f3f5cad0fc5f"
      },
      "execution_count": 103,
      "outputs": [
        {
          "output_type": "display_data",
          "data": {
            "text/plain": [
              "<IPython.core.display.Javascript object>"
            ],
            "application/javascript": [
              "\n",
              "    async function download(id, filename, size) {\n",
              "      if (!google.colab.kernel.accessAllowed) {\n",
              "        return;\n",
              "      }\n",
              "      const div = document.createElement('div');\n",
              "      const label = document.createElement('label');\n",
              "      label.textContent = `Downloading \"${filename}\": `;\n",
              "      div.appendChild(label);\n",
              "      const progress = document.createElement('progress');\n",
              "      progress.max = size;\n",
              "      div.appendChild(progress);\n",
              "      document.body.appendChild(div);\n",
              "\n",
              "      const buffers = [];\n",
              "      let downloaded = 0;\n",
              "\n",
              "      const channel = await google.colab.kernel.comms.open(id);\n",
              "      // Send a message to notify the kernel that we're ready.\n",
              "      channel.send({})\n",
              "\n",
              "      for await (const message of channel.messages) {\n",
              "        // Send a message to notify the kernel that we're ready.\n",
              "        channel.send({})\n",
              "        if (message.buffers) {\n",
              "          for (const buffer of message.buffers) {\n",
              "            buffers.push(buffer);\n",
              "            downloaded += buffer.byteLength;\n",
              "            progress.value = downloaded;\n",
              "          }\n",
              "        }\n",
              "      }\n",
              "      const blob = new Blob(buffers, {type: 'application/binary'});\n",
              "      const a = document.createElement('a');\n",
              "      a.href = window.URL.createObjectURL(blob);\n",
              "      a.download = filename;\n",
              "      div.appendChild(a);\n",
              "      a.click();\n",
              "      div.remove();\n",
              "    }\n",
              "  "
            ]
          },
          "metadata": {}
        },
        {
          "output_type": "display_data",
          "data": {
            "text/plain": [
              "<IPython.core.display.Javascript object>"
            ],
            "application/javascript": [
              "download(\"download_b2ec943b-33fd-4abd-9566-15b4c588b41c\", \"master_df.csv\", 3587124)"
            ]
          },
          "metadata": {}
        }
      ]
    }
  ]
}